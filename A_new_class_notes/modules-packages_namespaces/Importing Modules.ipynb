{
 "cells": [
  {
   "cell_type": "markdown",
   "id": "7e508847",
   "metadata": {},
   "source": [
    "Importing Modules"
   ]
  },
  {
   "cell_type": "markdown",
   "id": "df8d209b",
   "metadata": {},
   "source": [
    "When we run a statement such as\n",
    "\n",
    "import fractions\n",
    "\n",
    "What is python actually doing?"
   ]
  },
  {
   "cell_type": "markdown",
   "id": "24607773",
   "metadata": {},
   "source": [
    "The first thing to note is that Python is doing the import at run time, i.e. while my code is actually running.\n",
    "\n",
    "This is different from traditional compiled languages such  as C where the modules are compiled and linked at compile time.\n",
    "\n",
    "In both cases though, the system needs to know where the code files exist.\n",
    "\n",
    "Python uses a relatively complex system of how to find and load modules.\n",
    "\n",
    "The sys module has a few properties that define where Python is going to look for modules (either built-in or standard library as well as our own or third party):"
   ]
  },
  {
   "cell_type": "markdown",
   "id": "adfc9280",
   "metadata": {},
   "source": [
    "import sys"
   ]
  },
  {
   "cell_type": "markdown",
   "id": "839cd462",
   "metadata": {},
   "source": [
    "Where is Python installed?"
   ]
  },
  {
   "cell_type": "code",
   "execution_count": 4,
   "id": "40194554",
   "metadata": {},
   "outputs": [
    {
     "data": {
      "text/plain": [
       "'c:\\\\ProgramData\\\\Anaconda3'"
      ]
     },
     "execution_count": 4,
     "metadata": {},
     "output_type": "execute_result"
    }
   ],
   "source": [
    "sys.prefix"
   ]
  },
  {
   "cell_type": "markdown",
   "id": "bbe8a06f",
   "metadata": {},
   "source": [
    "Where are the compiles C binaries located?"
   ]
  },
  {
   "cell_type": "code",
   "execution_count": 3,
   "id": "cccfc1d9",
   "metadata": {},
   "outputs": [
    {
     "data": {
      "text/plain": [
       "'c:\\\\ProgramData\\\\Anaconda3'"
      ]
     },
     "execution_count": 3,
     "metadata": {},
     "output_type": "execute_result"
    }
   ],
   "source": [
    "sys.exec_prefix"
   ]
  },
  {
   "cell_type": "markdown",
   "id": "7ca4894e",
   "metadata": {},
   "source": [
    "These two properties are how virtual environments are basically able to work with different environments. Python is installed to a different set of directories, and these prefixes are manipulated to reflect the current Python location."
   ]
  },
  {
   "cell_type": "code",
   "execution_count": null,
   "id": "995807fc",
   "metadata": {},
   "outputs": [],
   "source": [
    "\"\"\" Where does Python look for imports? \"\"\""
   ]
  },
  {
   "cell_type": "code",
   "execution_count": 5,
   "id": "c027af1d",
   "metadata": {},
   "outputs": [
    {
     "data": {
      "text/plain": [
       "['c:\\\\Users\\\\Rich Matson\\\\MatsHub\\\\deep-Dive-1\\\\class_notes\\\\modules_packages_namespaces',\n",
       " 'c:\\\\ProgramData\\\\Anaconda3\\\\python39.zip',\n",
       " 'c:\\\\ProgramData\\\\Anaconda3\\\\DLLs',\n",
       " 'c:\\\\ProgramData\\\\Anaconda3\\\\lib',\n",
       " 'c:\\\\ProgramData\\\\Anaconda3',\n",
       " '',\n",
       " 'c:\\\\ProgramData\\\\Anaconda3\\\\lib\\\\site-packages',\n",
       " 'c:\\\\ProgramData\\\\Anaconda3\\\\lib\\\\site-packages\\\\locket-0.2.1-py3.9.egg',\n",
       " 'c:\\\\ProgramData\\\\Anaconda3\\\\lib\\\\site-packages\\\\win32',\n",
       " 'c:\\\\ProgramData\\\\Anaconda3\\\\lib\\\\site-packages\\\\win32\\\\lib',\n",
       " 'c:\\\\ProgramData\\\\Anaconda3\\\\lib\\\\site-packages\\\\Pythonwin',\n",
       " 'c:\\\\ProgramData\\\\Anaconda3\\\\lib\\\\site-packages\\\\IPython\\\\extensions',\n",
       " 'C:\\\\Users\\\\Rich Matson\\\\.ipython']"
      ]
     },
     "execution_count": 5,
     "metadata": {},
     "output_type": "execute_result"
    }
   ],
   "source": [
    "sys.path"
   ]
  },
  {
   "cell_type": "code",
   "execution_count": 6,
   "id": "41fb087a",
   "metadata": {},
   "outputs": [
    {
     "data": {
      "text/plain": [
       "' When we import a module, Python will search for the module in the paths contained in sys.path.'"
      ]
     },
     "execution_count": 6,
     "metadata": {},
     "output_type": "execute_result"
    }
   ],
   "source": [
    "\"\"\" When we import a module, Python will search for the module in the paths contained in sys.path.\n",
    "\n",
    "If it does not find the module in the paths, the import will fail.\n",
    "\n",
    "So if you ever run into a problem where Python is not able to import a module or package, I should check this first to make sure that the path to my module/package is in that list.\n",
    "\n",
    "At a high level this is how Python imports a module from a file.\n",
    "\"\"\""
   ]
  },
  {
   "cell_type": "code",
   "execution_count": 7,
   "id": "8ec93854",
   "metadata": {},
   "outputs": [
    {
     "data": {
      "text/plain": [
       "'\\nChecks the sys.modules cache to see if the module has already been imported - if so it simply uses the reference in there, otherwise:\\ncreates a new module object (types.ModuleType)\\nloads the source code from the file.\\nadds an entry to sys.modules with the name as key and the newly created module object.\\ncompiles and executes the source code.\\n'"
      ]
     },
     "execution_count": 7,
     "metadata": {},
     "output_type": "execute_result"
    }
   ],
   "source": [
    "'''\n",
    "Checks the sys.modules cache to see if the module has already been imported - if so it simply uses the reference in there, otherwise:\n",
    "creates a new module object (types.ModuleType)\n",
    "loads the source code from the file.\n",
    "adds an entry to sys.modules with the name as key and the newly created module object.\n",
    "compiles and executes the source code.\n",
    "'''"
   ]
  },
  {
   "cell_type": "code",
   "execution_count": null,
   "id": "7ea81f24",
   "metadata": {},
   "outputs": [],
   "source": [
    "\"\"\"\n",
    "one thing that is really important to note is that when a module is imported, the module code is executed.\n",
    "\"\"\""
   ]
  },
  {
   "cell_type": "markdown",
   "id": "f84aea0f",
   "metadata": {},
   "source": [
    "Example 1"
   ]
  },
  {
   "cell_type": "code",
   "execution_count": null,
   "id": "a1d243bb",
   "metadata": {},
   "outputs": [],
   "source": [
    "'''\n",
    "This example shows that when we import a module, the module code is actually executed.\n",
    "Futhermore, that module now has it's own namespace that can be seen in __dict__.\n",
    "'''"
   ]
  },
  {
   "cell_type": "markdown",
   "id": "615964f5",
   "metadata": {},
   "source": [
    "Example 2"
   ]
  },
  {
   "cell_type": "markdown",
   "id": "feb3bd05",
   "metadata": {},
   "source": [
    "In this example, we can see that when we import a module, Python first looks for it in sys.modules.\n",
    "\n",
    "To make the point, we put a key/value pair in sys.modules ourselves, and then import it.\n",
    "\n",
    "In fact we put a function in the there instead of a module, and import that.\n",
    "    <!-- Please do not do this! -->\n"
   ]
  },
  {
   "cell_type": "code",
   "execution_count": 4,
   "id": "4f9a45c4",
   "metadata": {},
   "outputs": [],
   "source": [
    "sys.modules['test'] = lambda: 'Testing module casting'"
   ]
  },
  {
   "cell_type": "code",
   "execution_count": 2,
   "id": "a4f26ab8",
   "metadata": {},
   "outputs": [],
   "source": [
    "import test"
   ]
  },
  {
   "cell_type": "markdown",
   "id": "d92e49dd",
   "metadata": {},
   "source": [
    "See, it got the \"Module\" from sys..."
   ]
  },
  {
   "cell_type": "code",
   "execution_count": 3,
   "id": "d201d0ba",
   "metadata": {},
   "outputs": [
    {
     "data": {
      "text/plain": [
       "<function __main__.<lambda>()>"
      ]
     },
     "execution_count": 3,
     "metadata": {},
     "output_type": "execute_result"
    }
   ],
   "source": [
    "test"
   ]
  },
  {
   "cell_type": "code",
   "execution_count": 5,
   "id": "dabbaeba",
   "metadata": {},
   "outputs": [
    {
     "data": {
      "text/plain": [
       "'Testingmodule casting'"
      ]
     },
     "execution_count": 5,
     "metadata": {},
     "output_type": "execute_result"
    }
   ],
   "source": [
    "test()"
   ]
  },
  {
   "cell_type": "markdown",
   "id": "e9897f82",
   "metadata": {},
   "source": [
    "Example 3a"
   ]
  },
  {
   "cell_type": "code",
   "execution_count": null,
   "id": "bf0a050c",
   "metadata": {},
   "outputs": [],
   "source": [
    "'''\n",
    "In this example we look at a simplified view of how Python imports a module.\n",
    "\n",
    "We use two built-in functions, compile and exec.\n",
    "\n",
    "The compile function compiles source (e.g. text) into a code object.\n",
    "\n",
    "The execfu7nctionjh is used to execute a code object. Optionally, we can specify what dictionary should be used to store global symbols.\n",
    "In our case we are going to want to use our module's __dict__.\n",
    "'''"
   ]
  }
 ],
 "metadata": {
  "kernelspec": {
   "display_name": "Python 3.9.7 ('base')",
   "language": "python",
   "name": "python3"
  },
  "language_info": {
   "codemirror_mode": {
    "name": "ipython",
    "version": 3
   },
   "file_extension": ".py",
   "mimetype": "text/x-python",
   "name": "python",
   "nbconvert_exporter": "python",
   "pygments_lexer": "ipython3",
   "version": "3.9.7"
  },
  "vscode": {
   "interpreter": {
    "hash": "ad2bdc8ecc057115af97d19610ffacc2b4e99fae6737bb82f5d7fb13d2f2c186"
   }
  }
 },
 "nbformat": 4,
 "nbformat_minor": 5
}
