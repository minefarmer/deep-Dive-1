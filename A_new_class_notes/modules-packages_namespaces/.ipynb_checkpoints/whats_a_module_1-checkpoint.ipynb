{
 "cells": [
  {
   "cell_type": "markdown",
   "id": "d32819c4",
   "metadata": {},
   "source": [
    "                Whats a module?"
   ]
  },
  {
   "cell_type": "code",
   "execution_count": 2,
   "id": "8fac3957",
   "metadata": {},
   "outputs": [],
   "source": [
    "def func():\n",
    "    a = 10\n",
    "    return a"
   ]
  },
  {
   "cell_type": "code",
   "execution_count": 3,
   "id": "b43e9b25",
   "metadata": {},
   "outputs": [
    {
     "data": {
      "text/plain": [
       "<function __main__.func()>"
      ]
     },
     "execution_count": 3,
     "metadata": {},
     "output_type": "execute_result"
    }
   ],
   "source": [
    "func"
   ]
  },
  {
   "cell_type": "code",
   "execution_count": 4,
   "id": "c0a1ce10",
   "metadata": {},
   "outputs": [
    {
     "data": {
      "text/plain": [
       "10"
      ]
     },
     "execution_count": 4,
     "metadata": {},
     "output_type": "execute_result"
    }
   ],
   "source": [
    "func()"
   ]
  },
  {
   "cell_type": "code",
   "execution_count": 5,
   "id": "596f19e7",
   "metadata": {},
   "outputs": [
    {
     "data": {
      "text/plain": [
       "2617387036528"
      ]
     },
     "execution_count": 5,
     "metadata": {},
     "output_type": "execute_result"
    }
   ],
   "source": [
    "id(func)"
   ]
  },
  {
   "cell_type": "code",
   "execution_count": 6,
   "id": "026e069e",
   "metadata": {},
   "outputs": [
    {
     "data": {
      "text/plain": [
       "{'__name__': '__main__',\n",
       " '__doc__': 'Automatically created module for IPython interactive environment',\n",
       " '__package__': None,\n",
       " '__loader__': None,\n",
       " '__spec__': None,\n",
       " '__builtin__': <module 'builtins' (built-in)>,\n",
       " '__builtins__': <module 'builtins' (built-in)>,\n",
       " '_ih': ['',\n",
       "  'func()',\n",
       "  'def func():\\n    a = 10\\n    return a',\n",
       "  'func',\n",
       "  'func()',\n",
       "  'id(func)',\n",
       "  'globals()'],\n",
       " '_oh': {3: <function __main__.func()>, 4: 10, 5: 2617387036528},\n",
       " '_dh': [WindowsPath('c:/Users/pgold/MatsHub/deep-Dive-1/class_notes/modules_packages_namespaces')],\n",
       " 'In': ['',\n",
       "  'func()',\n",
       "  'def func():\\n    a = 10\\n    return a',\n",
       "  'func',\n",
       "  'func()',\n",
       "  'id(func)',\n",
       "  'globals()'],\n",
       " 'Out': {3: <function __main__.func()>, 4: 10, 5: 2617387036528},\n",
       " 'get_ipython': <bound method InteractiveShell.get_ipython of <ipykernel.zmqshell.ZMQInteractiveShell object at 0x0000026166478310>>,\n",
       " 'exit': <IPython.core.autocall.ZMQExitAutocall at 0x261664789d0>,\n",
       " 'quit': <IPython.core.autocall.ZMQExitAutocall at 0x261664789d0>,\n",
       " '_': 2617387036528,\n",
       " '__': 10,\n",
       " '___': <function __main__.func()>,\n",
       " 'os': <module 'os' from 'c:\\\\Users\\\\pgold\\\\anaconda3\\\\lib\\\\os.py'>,\n",
       " 'sys': <module 'sys' (built-in)>,\n",
       " '__vsc_ipynb_file__': 'c:\\\\Users\\\\pgold\\\\MatsHub\\\\deep-Dive-1\\\\class_notes\\\\modules_packages_namespaces\\\\whats_a_module_1.ipynb',\n",
       " '_i': 'id(func)',\n",
       " '_ii': 'func()',\n",
       " '_iii': 'func',\n",
       " '_i1': 'func()',\n",
       " '_i2': 'def func():\\n    a = 10\\n    return a',\n",
       " 'func': <function __main__.func()>,\n",
       " '_i3': 'func',\n",
       " '_3': <function __main__.func()>,\n",
       " '_i4': 'func()',\n",
       " '_4': 10,\n",
       " '_i5': 'id(func)',\n",
       " '_5': 2617387036528,\n",
       " '_i6': 'globals()'}"
      ]
     },
     "execution_count": 6,
     "metadata": {},
     "output_type": "execute_result"
    }
   ],
   "source": [
    "globals()"
   ]
  },
  {
   "cell_type": "code",
   "execution_count": 7,
   "id": "41a019b1",
   "metadata": {},
   "outputs": [],
   "source": [
    "f = globals()['func']"
   ]
  },
  {
   "cell_type": "code",
   "execution_count": 8,
   "id": "6f47bc86",
   "metadata": {},
   "outputs": [
    {
     "data": {
      "text/plain": [
       "True"
      ]
     },
     "execution_count": 8,
     "metadata": {},
     "output_type": "execute_result"
    }
   ],
   "source": [
    "f is func"
   ]
  },
  {
   "cell_type": "code",
   "execution_count": 9,
   "id": "7a6b7de0",
   "metadata": {},
   "outputs": [
    {
     "data": {
      "text/plain": [
       "10"
      ]
     },
     "execution_count": 9,
     "metadata": {},
     "output_type": "execute_result"
    }
   ],
   "source": [
    "f()"
   ]
  },
  {
   "cell_type": "code",
   "execution_count": 11,
   "id": "28ab6652",
   "metadata": {},
   "outputs": [
    {
     "data": {
      "text/plain": [
       "{'__name__': '__main__',\n",
       " '__doc__': 'Automatically created module for IPython interactive environment',\n",
       " '__package__': None,\n",
       " '__loader__': None,\n",
       " '__spec__': None,\n",
       " '__builtin__': <module 'builtins' (built-in)>,\n",
       " '__builtins__': <module 'builtins' (built-in)>,\n",
       " '_ih': ['',\n",
       "  'func()',\n",
       "  'def func():\\n    a = 10\\n    return a',\n",
       "  'func',\n",
       "  'func()',\n",
       "  'id(func)',\n",
       "  'globals()',\n",
       "  \"f = globals()['func']\",\n",
       "  'f is func',\n",
       "  'f()',\n",
       "  'def func():\\n    locals()',\n",
       "  'locals()'],\n",
       " '_oh': {3: <function __main__.func()>,\n",
       "  4: 10,\n",
       "  5: 2617387036528,\n",
       "  6: {...},\n",
       "  8: True,\n",
       "  9: 10},\n",
       " '_dh': [WindowsPath('c:/Users/pgold/MatsHub/deep-Dive-1/class_notes/modules_packages_namespaces')],\n",
       " 'In': ['',\n",
       "  'func()',\n",
       "  'def func():\\n    a = 10\\n    return a',\n",
       "  'func',\n",
       "  'func()',\n",
       "  'id(func)',\n",
       "  'globals()',\n",
       "  \"f = globals()['func']\",\n",
       "  'f is func',\n",
       "  'f()',\n",
       "  'def func():\\n    locals()',\n",
       "  'locals()'],\n",
       " 'Out': {3: <function __main__.func()>,\n",
       "  4: 10,\n",
       "  5: 2617387036528,\n",
       "  6: {...},\n",
       "  8: True,\n",
       "  9: 10},\n",
       " 'get_ipython': <bound method InteractiveShell.get_ipython of <ipykernel.zmqshell.ZMQInteractiveShell object at 0x0000026166478310>>,\n",
       " 'exit': <IPython.core.autocall.ZMQExitAutocall at 0x261664789d0>,\n",
       " 'quit': <IPython.core.autocall.ZMQExitAutocall at 0x261664789d0>,\n",
       " '_': 10,\n",
       " '__': True,\n",
       " '___': {...},\n",
       " 'os': <module 'os' from 'c:\\\\Users\\\\pgold\\\\anaconda3\\\\lib\\\\os.py'>,\n",
       " 'sys': <module 'sys' (built-in)>,\n",
       " '__vsc_ipynb_file__': 'c:\\\\Users\\\\pgold\\\\MatsHub\\\\deep-Dive-1\\\\class_notes\\\\modules_packages_namespaces\\\\whats_a_module_1.ipynb',\n",
       " '_i': 'def func():\\n    locals()',\n",
       " '_ii': 'f()',\n",
       " '_iii': 'f is func',\n",
       " '_i1': 'func()',\n",
       " '_i2': 'def func():\\n    a = 10\\n    return a',\n",
       " 'func': <function __main__.func()>,\n",
       " '_i3': 'func',\n",
       " '_3': <function __main__.func()>,\n",
       " '_i4': 'func()',\n",
       " '_4': 10,\n",
       " '_i5': 'id(func)',\n",
       " '_5': 2617387036528,\n",
       " '_i6': 'globals()',\n",
       " '_6': {...},\n",
       " '_i7': \"f = globals()['func']\",\n",
       " 'f': <function __main__.func()>,\n",
       " '_i8': 'f is func',\n",
       " '_8': True,\n",
       " '_i9': 'f()',\n",
       " '_9': 10,\n",
       " '_i10': 'def func():\\n    locals()',\n",
       " '_i11': 'locals()'}"
      ]
     },
     "execution_count": 11,
     "metadata": {},
     "output_type": "execute_result"
    }
   ],
   "source": [
    "locals()"
   ]
  },
  {
   "cell_type": "code",
   "execution_count": 12,
   "id": "ad0ffa66",
   "metadata": {},
   "outputs": [
    {
     "data": {
      "text/plain": [
       "True"
      ]
     },
     "execution_count": 12,
     "metadata": {},
     "output_type": "execute_result"
    }
   ],
   "source": [
    "locals() is globals()"
   ]
  },
  {
   "cell_type": "code",
   "execution_count": 13,
   "id": "2d61e8a7",
   "metadata": {},
   "outputs": [],
   "source": [
    "a = 100"
   ]
  },
  {
   "cell_type": "code",
   "execution_count": 15,
   "id": "1ab70fe0",
   "metadata": {},
   "outputs": [
    {
     "data": {
      "text/plain": [
       "{'__name__': '__main__',\n",
       " '__doc__': 'Automatically created module for IPython interactive environment',\n",
       " '__package__': None,\n",
       " '__loader__': None,\n",
       " '__spec__': None,\n",
       " '__builtin__': <module 'builtins' (built-in)>,\n",
       " '__builtins__': <module 'builtins' (built-in)>,\n",
       " '_ih': ['',\n",
       "  'func()',\n",
       "  'def func():\\n    a = 10\\n    return a',\n",
       "  'func',\n",
       "  'func()',\n",
       "  'id(func)',\n",
       "  'globals()',\n",
       "  \"f = globals()['func']\",\n",
       "  'f is func',\n",
       "  'f()',\n",
       "  'def func():\\n    locals()',\n",
       "  'locals()',\n",
       "  'locals() is globals()',\n",
       "  'a = 100',\n",
       "  'gglobals()',\n",
       "  'globals()'],\n",
       " '_oh': {3: <function __main__.func()>,\n",
       "  4: 10,\n",
       "  5: 2617387036528,\n",
       "  6: {...},\n",
       "  8: True,\n",
       "  9: 10,\n",
       "  11: {...},\n",
       "  12: True},\n",
       " '_dh': [WindowsPath('c:/Users/pgold/MatsHub/deep-Dive-1/class_notes/modules_packages_namespaces')],\n",
       " 'In': ['',\n",
       "  'func()',\n",
       "  'def func():\\n    a = 10\\n    return a',\n",
       "  'func',\n",
       "  'func()',\n",
       "  'id(func)',\n",
       "  'globals()',\n",
       "  \"f = globals()['func']\",\n",
       "  'f is func',\n",
       "  'f()',\n",
       "  'def func():\\n    locals()',\n",
       "  'locals()',\n",
       "  'locals() is globals()',\n",
       "  'a = 100',\n",
       "  'gglobals()',\n",
       "  'globals()'],\n",
       " 'Out': {3: <function __main__.func()>,\n",
       "  4: 10,\n",
       "  5: 2617387036528,\n",
       "  6: {...},\n",
       "  8: True,\n",
       "  9: 10,\n",
       "  11: {...},\n",
       "  12: True},\n",
       " 'get_ipython': <bound method InteractiveShell.get_ipython of <ipykernel.zmqshell.ZMQInteractiveShell object at 0x0000026166478310>>,\n",
       " 'exit': <IPython.core.autocall.ZMQExitAutocall at 0x261664789d0>,\n",
       " 'quit': <IPython.core.autocall.ZMQExitAutocall at 0x261664789d0>,\n",
       " '_': True,\n",
       " '__': {...},\n",
       " '___': 10,\n",
       " 'os': <module 'os' from 'c:\\\\Users\\\\pgold\\\\anaconda3\\\\lib\\\\os.py'>,\n",
       " 'sys': <module 'sys' (built-in)>,\n",
       " '__vsc_ipynb_file__': 'c:\\\\Users\\\\pgold\\\\MatsHub\\\\deep-Dive-1\\\\class_notes\\\\modules_packages_namespaces\\\\whats_a_module_1.ipynb',\n",
       " '_i': 'gglobals()',\n",
       " '_ii': 'a = 100',\n",
       " '_iii': 'locals() is globals()',\n",
       " '_i1': 'func()',\n",
       " '_i2': 'def func():\\n    a = 10\\n    return a',\n",
       " 'func': <function __main__.func()>,\n",
       " '_i3': 'func',\n",
       " '_3': <function __main__.func()>,\n",
       " '_i4': 'func()',\n",
       " '_4': 10,\n",
       " '_i5': 'id(func)',\n",
       " '_5': 2617387036528,\n",
       " '_i6': 'globals()',\n",
       " '_6': {...},\n",
       " '_i7': \"f = globals()['func']\",\n",
       " 'f': <function __main__.func()>,\n",
       " '_i8': 'f is func',\n",
       " '_8': True,\n",
       " '_i9': 'f()',\n",
       " '_9': 10,\n",
       " '_i10': 'def func():\\n    locals()',\n",
       " '_i11': 'locals()',\n",
       " '_11': {...},\n",
       " '_i12': 'locals() is globals()',\n",
       " '_12': True,\n",
       " '_i13': 'a = 100',\n",
       " 'a': 100,\n",
       " '_i14': 'gglobals()',\n",
       " '_i15': 'globals()'}"
      ]
     },
     "execution_count": 15,
     "metadata": {},
     "output_type": "execute_result"
    }
   ],
   "source": [
    "globals()"
   ]
  },
  {
   "cell_type": "code",
   "execution_count": 18,
   "id": "b8ab991c",
   "metadata": {},
   "outputs": [],
   "source": [
    "def func():\n",
    "    a = 10\n",
    "    b = 10\n",
    "    print(locals())"
   ]
  },
  {
   "cell_type": "code",
   "execution_count": 19,
   "id": "43e2d4bf",
   "metadata": {},
   "outputs": [
    {
     "name": "stdout",
     "output_type": "stream",
     "text": [
      "{'a': 10, 'b': 10}\n"
     ]
    }
   ],
   "source": [
    "func()"
   ]
  }
 ],
 "metadata": {
  "kernelspec": {
   "display_name": "Python 3 (ipykernel)",
   "language": "python",
   "name": "python3"
  },
  "language_info": {
   "codemirror_mode": {
    "name": "ipython",
    "version": 3
   },
   "file_extension": ".py",
   "mimetype": "text/x-python",
   "name": "python",
   "nbconvert_exporter": "python",
   "pygments_lexer": "ipython3",
   "version": "3.9.12"
  },
  "vscode": {
   "interpreter": {
    "hash": "a624adbc5e596fddf72740b255048309200567f23df85867ce297e9f9d364c1b"
   }
  }
 },
 "nbformat": 4,
 "nbformat_minor": 5
}
