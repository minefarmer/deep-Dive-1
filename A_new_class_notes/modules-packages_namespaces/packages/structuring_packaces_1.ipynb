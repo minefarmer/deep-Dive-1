{
 "cells": [
  {
   "cell_type": "markdown",
   "id": "e27b0311",
   "metadata": {},
   "source": [
    "Structuring Packages = 1"
   ]
  },
  {
   "cell_type": "code",
   "execution_count": null,
   "id": "644d7426",
   "metadata": {},
   "outputs": [],
   "source": []
  }
 ],
 "metadata": {
  "kernelspec": {
   "display_name": "Python 3.9.12 ('base')",
   "language": "python",
   "name": "python3"
  },
  "language_info": {
   "codemirror_mode": {
    "name": "ipython",
    "version": 3
   },
   "file_extension": ".py",
   "mimetype": "text/x-python",
   "name": "python",
   "nbconvert_exporter": "python",
   "pygments_lexer": "ipython3",
   "version": "3.9.12"
  },
  "vscode": {
   "interpreter": {
    "hash": "143d2740fa7885280d88cdaad3dbdadb51fa40347825ef5e3d2acba7c4a72194"
   }
  }
 },
 "nbformat": 4,
 "nbformat_minor": 5
}
