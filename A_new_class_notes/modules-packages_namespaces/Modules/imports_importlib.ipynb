{
 "cells": [
  {
   "cell_type": "markdown",
   "id": "0209968b",
   "metadata": {},
   "source": [
    "Imports and importlob"
   ]
  },
  {
   "cell_type": "code",
   "execution_count": 1,
   "id": "72e2fc19",
   "metadata": {},
   "outputs": [],
   "source": [
    "import sys"
   ]
  },
  {
   "cell_type": "code",
   "execution_count": 2,
   "id": "1fe7dae0",
   "metadata": {},
   "outputs": [
    {
     "data": {
      "text/plain": [
       "<module 'sys' (built-in)>"
      ]
     },
     "execution_count": 2,
     "metadata": {},
     "output_type": "execute_result"
    }
   ],
   "source": [
    "sys"
   ]
  },
  {
   "cell_type": "code",
   "execution_count": 3,
   "id": "5e314bc3",
   "metadata": {},
   "outputs": [],
   "source": [
    "import collections"
   ]
  },
  {
   "cell_type": "code",
   "execution_count": 4,
   "id": "40be2eb9",
   "metadata": {},
   "outputs": [
    {
     "data": {
      "text/plain": [
       "<module 'collections' from '/home/carl/anaconda3/lib/python3.9/collections/__init__.py'>"
      ]
     },
     "execution_count": 4,
     "metadata": {},
     "output_type": "execute_result"
    }
   ],
   "source": [
    "collections"
   ]
  },
  {
   "cell_type": "code",
   "execution_count": 5,
   "id": "83e872e3",
   "metadata": {},
   "outputs": [],
   "source": [
    "mod_name = 'math'"
   ]
  },
  {
   "cell_type": "code",
   "execution_count": 6,
   "id": "f1d036d0",
   "metadata": {},
   "outputs": [
    {
     "ename": "ModuleNotFoundError",
     "evalue": "No module named 'mod_name'",
     "output_type": "error",
     "traceback": [
      "\u001b[0;31m---------------------------------------------------------------------------\u001b[0m",
      "\u001b[0;31mModuleNotFoundError\u001b[0m                       Traceback (most recent call last)",
      "\u001b[1;32m/home/carl/Desktop/Matshub/deep-Dive-1/A_new_class_notes/modules-packages_namespaces/Modules/imports_importlib.ipynb Cell 7\u001b[0m in \u001b[0;36m<cell line: 1>\u001b[0;34m()\u001b[0m\n\u001b[0;32m----> <a href='vscode-notebook-cell:/home/carl/Desktop/Matshub/deep-Dive-1/A_new_class_notes/modules-packages_namespaces/Modules/imports_importlib.ipynb#X10sZmlsZQ%3D%3D?line=0'>1</a>\u001b[0m \u001b[39mimport\u001b[39;00m \u001b[39mmod_name\u001b[39;00m\n",
      "\u001b[0;31mModuleNotFoundError\u001b[0m: No module named 'mod_name'"
     ]
    }
   ],
   "source": [
    "import mod_name"
   ]
  },
  {
   "cell_type": "code",
   "execution_count": null,
   "id": "c159dea9",
   "metadata": {},
   "outputs": [],
   "source": [
    "import importlib"
   ]
  },
  {
   "cell_type": "code",
   "execution_count": null,
   "id": "c0b2149b",
   "metadata": {},
   "outputs": [
    {
     "data": {
      "text/plain": [
       "<module 'importlib' from '/usr/lib/python3.9/importlib/__init__.py'>"
      ]
     },
     "execution_count": 11,
     "metadata": {},
     "output_type": "execute_result"
    }
   ],
   "source": [
    "importlib"
   ]
  },
  {
   "cell_type": "code",
   "execution_count": null,
   "id": "b1d25b0b",
   "metadata": {},
   "outputs": [
    {
     "data": {
      "text/plain": [
       "<module 'math' (built-in)>"
      ]
     },
     "execution_count": 13,
     "metadata": {},
     "output_type": "execute_result"
    }
   ],
   "source": [
    "importlib.import_module(mod_name)"
   ]
  },
  {
   "cell_type": "code",
   "execution_count": null,
   "id": "a360e8d9",
   "metadata": {},
   "outputs": [
    {
     "data": {
      "text/plain": [
       "True"
      ]
     },
     "execution_count": 14,
     "metadata": {},
     "output_type": "execute_result"
    }
   ],
   "source": [
    "'math' in sys.modules"
   ]
  },
  {
   "cell_type": "code",
   "execution_count": null,
   "id": "bcf12b3e",
   "metadata": {},
   "outputs": [
    {
     "data": {
      "text/plain": [
       "True"
      ]
     },
     "execution_count": 15,
     "metadata": {},
     "output_type": "execute_result"
    }
   ],
   "source": [
    "'fractions' in sys.modules"
   ]
  },
  {
   "cell_type": "code",
   "execution_count": null,
   "id": "607bf6b3",
   "metadata": {},
   "outputs": [
    {
     "ename": "NameError",
     "evalue": "name 'math' is not defined",
     "output_type": "error",
     "traceback": [
      "\u001b[0;31m---------------------------------------------------------------------------\u001b[0m",
      "\u001b[0;31mNameError\u001b[0m                                 Traceback (most recent call last)",
      "\u001b[1;32m/home/carl/Desktop/Matshub/deep-Dive-1/A_new_class_notes/modules-packages_namespaces/Modules/imports_importlib.ipynb Cell 13\u001b[0m in \u001b[0;36m<cell line: 1>\u001b[0;34m()\u001b[0m\n\u001b[0;32m----> <a href='vscode-notebook-cell:/home/carl/Desktop/Matshub/deep-Dive-1/A_new_class_notes/modules-packages_namespaces/Modules/imports_importlib.ipynb#X20sZmlsZQ%3D%3D?line=0'>1</a>\u001b[0m math\u001b[39m.\u001b[39msqrt(\u001b[39m2\u001b[39m)\n",
      "\u001b[0;31mNameError\u001b[0m: name 'math' is not defined"
     ]
    }
   ],
   "source": [
    "math.sqrt(2)"
   ]
  },
  {
   "cell_type": "code",
   "execution_count": null,
   "id": "d35c0c4d",
   "metadata": {},
   "outputs": [
    {
     "data": {
      "text/plain": [
       "False"
      ]
     },
     "execution_count": 17,
     "metadata": {},
     "output_type": "execute_result"
    }
   ],
   "source": [
    "'math' in globals()"
   ]
  },
  {
   "cell_type": "code",
   "execution_count": null,
   "id": "cca725b7",
   "metadata": {},
   "outputs": [],
   "source": [
    "import importlib"
   ]
  },
  {
   "cell_type": "code",
   "execution_count": null,
   "id": "3cbde17c",
   "metadata": {},
   "outputs": [],
   "source": [
    "# import math as math2\n",
    "# math2 = sys.modules['math']\n",
    "math2 = importlib.import_module(mod_name)"
   ]
  },
  {
   "cell_type": "code",
   "execution_count": null,
   "id": "79cc28c5",
   "metadata": {},
   "outputs": [
    {
     "data": {
      "text/plain": [
       "True"
      ]
     },
     "execution_count": 23,
     "metadata": {},
     "output_type": "execute_result"
    }
   ],
   "source": [
    "'math2' in globals()"
   ]
  },
  {
   "cell_type": "code",
   "execution_count": null,
   "id": "56302502",
   "metadata": {},
   "outputs": [
    {
     "data": {
      "text/plain": [
       "139880701592656"
      ]
     },
     "execution_count": 24,
     "metadata": {},
     "output_type": "execute_result"
    }
   ],
   "source": [
    "id(math2)"
   ]
  },
  {
   "cell_type": "code",
   "execution_count": null,
   "id": "039087bc",
   "metadata": {},
   "outputs": [
    {
     "data": {
      "text/plain": [
       "139880701592656"
      ]
     },
     "execution_count": 25,
     "metadata": {},
     "output_type": "execute_result"
    }
   ],
   "source": [
    "id(sys.modules['math'])"
   ]
  },
  {
   "cell_type": "code",
   "execution_count": null,
   "id": "e212c781",
   "metadata": {},
   "outputs": [
    {
     "data": {
      "text/plain": [
       "<function math.sqrt(x, /)>"
      ]
     },
     "execution_count": 26,
     "metadata": {},
     "output_type": "execute_result"
    }
   ],
   "source": [
    "math2.sqrt"
   ]
  },
  {
   "cell_type": "code",
   "execution_count": null,
   "id": "fc84ada9",
   "metadata": {},
   "outputs": [
    {
     "data": {
      "text/plain": [
       "<module 'math' from '/home/carl/anaconda3/lib/python3.9/lib-dynload/math.cpython-39-x86_64-linux-gnu.so'>"
      ]
     },
     "execution_count": 27,
     "metadata": {},
     "output_type": "execute_result"
    }
   ],
   "source": [
    "math2"
   ]
  },
  {
   "cell_type": "code",
   "execution_count": 8,
   "id": "b04aa9e5",
   "metadata": {},
   "outputs": [],
   "source": [
    "import importlib"
   ]
  },
  {
   "cell_type": "code",
   "execution_count": 10,
   "id": "07e9b02c",
   "metadata": {},
   "outputs": [
    {
     "data": {
      "text/plain": [
       "<module 'importlib' from '/home/carl/anaconda3/lib/python3.9/importlib/__init__.py'>"
      ]
     },
     "execution_count": 10,
     "metadata": {},
     "output_type": "execute_result"
    }
   ],
   "source": [
    "importlib"
   ]
  },
  {
   "cell_type": "code",
   "execution_count": 9,
   "id": "adcfe412",
   "metadata": {},
   "outputs": [],
   "source": [
    "fractions = importlib.import_module('fractions')"
   ]
  },
  {
   "cell_type": "code",
   "execution_count": 11,
   "id": "d0313f1b",
   "metadata": {},
   "outputs": [
    {
     "data": {
      "text/plain": [
       "<module 'fractions' from '/home/carl/anaconda3/lib/python3.9/fractions.py'>"
      ]
     },
     "execution_count": 11,
     "metadata": {},
     "output_type": "execute_result"
    }
   ],
   "source": [
    "fractions"
   ]
  },
  {
   "cell_type": "markdown",
   "id": "32e3d528",
   "metadata": {},
   "source": [
    "finders\n",
    "loaders\n",
    "finder + loader == importer"
   ]
  },
  {
   "cell_type": "code",
   "execution_count": 12,
   "id": "5cf4fb46",
   "metadata": {},
   "outputs": [
    {
     "data": {
      "text/plain": [
       "ModuleSpec(name='fractions', loader=<_frozen_importlib_external.SourceFileLoader object at 0x7fb213f478b0>, origin='/home/carl/anaconda3/lib/python3.9/fractions.py')"
      ]
     },
     "execution_count": 12,
     "metadata": {},
     "output_type": "execute_result"
    }
   ],
   "source": [
    "fractions.__spec__"
   ]
  },
  {
   "cell_type": "code",
   "execution_count": 13,
   "id": "38d446ff",
   "metadata": {},
   "outputs": [
    {
     "data": {
      "text/plain": [
       "[<_distutils_hack.DistutilsMetaFinder at 0x7fb216a452b0>,\n",
       " _frozen_importlib.BuiltinImporter,\n",
       " _frozen_importlib.FrozenImporter,\n",
       " _frozen_importlib_external.PathFinder,\n",
       " <six._SixMetaPathImporter at 0x7fb214283c10>,\n",
       " <pkg_resources.extern.VendorImporter at 0x7fb212ee4340>]"
      ]
     },
     "execution_count": 13,
     "metadata": {},
     "output_type": "execute_result"
    }
   ],
   "source": [
    "sys.meta_path"
   ]
  },
  {
   "cell_type": "code",
   "execution_count": 14,
   "id": "0b888dee",
   "metadata": {},
   "outputs": [],
   "source": [
    "import math"
   ]
  },
  {
   "cell_type": "code",
   "execution_count": 15,
   "id": "009b2a3f",
   "metadata": {},
   "outputs": [
    {
     "data": {
      "text/plain": [
       "ModuleSpec(name='math', loader=<_frozen_importlib_external.ExtensionFileLoader object at 0x7fb2168c0e80>, origin='/home/carl/anaconda3/lib/python3.9/lib-dynload/math.cpython-39-x86_64-linux-gnu.so')"
      ]
     },
     "execution_count": 15,
     "metadata": {},
     "output_type": "execute_result"
    }
   ],
   "source": [
    "math.__spec__"
   ]
  },
  {
   "cell_type": "code",
   "execution_count": 16,
   "id": "e05cb9ef",
   "metadata": {},
   "outputs": [
    {
     "ename": "ModuleNotFoundError",
     "evalue": "No module named 'module1'",
     "output_type": "error",
     "traceback": [
      "\u001b[0;31m---------------------------------------------------------------------------\u001b[0m",
      "\u001b[0;31mModuleNotFoundError\u001b[0m                       Traceback (most recent call last)",
      "\u001b[1;32m/home/carl/Desktop/Matshub/deep-Dive-1/A_new_class_notes/modules-packages_namespaces/Modules/imports_importlib.ipynb Cell 31\u001b[0m in \u001b[0;36m<cell line: 1>\u001b[0;34m()\u001b[0m\n\u001b[0;32m----> <a href='vscode-notebook-cell:/home/carl/Desktop/Matshub/deep-Dive-1/A_new_class_notes/modules-packages_namespaces/Modules/imports_importlib.ipynb#X46sZmlsZQ%3D%3D?line=0'>1</a>\u001b[0m \u001b[39mimport\u001b[39;00m \u001b[39mmodule1\u001b[39;00m\n",
      "\u001b[0;31mModuleNotFoundError\u001b[0m: No module named 'module1'"
     ]
    }
   ],
   "source": [
    "import module1"
   ]
  },
  {
   "cell_type": "code",
   "execution_count": 17,
   "id": "3793795e",
   "metadata": {},
   "outputs": [
    {
     "data": {
      "text/plain": [
       "ModuleSpec(name='decimal', loader=<_frozen_importlib_external.SourceFileLoader object at 0x7fb214272640>, origin='/home/carl/anaconda3/lib/python3.9/decimal.py')"
      ]
     },
     "execution_count": 17,
     "metadata": {},
     "output_type": "execute_result"
    }
   ],
   "source": [
    "importlib.util.find_spec('decimal')"
   ]
  },
  {
   "cell_type": "code",
   "execution_count": 20,
   "id": "29981f47",
   "metadata": {},
   "outputs": [],
   "source": [
    "with open('module1.py', 'w') as code_file:\n",
    "    code_file.write(\"print('running module1.py...')\\n\")\n",
    "    code_file.write('a=100')"
   ]
  },
  {
   "cell_type": "code",
   "execution_count": 21,
   "id": "f42fb762",
   "metadata": {},
   "outputs": [
    {
     "data": {
      "text/plain": [
       "ModuleSpec(name='module1', loader=<_frozen_importlib_external.SourceFileLoader object at 0x7fb200b50b80>, origin='/home/carl/Desktop/Matshub/deep-Dive-1/A_new_class_notes/modules-packages_namespaces/Modules/module1.py')"
      ]
     },
     "execution_count": 21,
     "metadata": {},
     "output_type": "execute_result"
    }
   ],
   "source": [
    "importlib.util.find_spec('module1')"
   ]
  },
  {
   "cell_type": "code",
   "execution_count": 22,
   "id": "1c8c1558",
   "metadata": {},
   "outputs": [
    {
     "name": "stdout",
     "output_type": "stream",
     "text": [
      "running module1.py...\n"
     ]
    }
   ],
   "source": [
    "import module1"
   ]
  },
  {
   "cell_type": "code",
   "execution_count": 23,
   "id": "7aae8a28",
   "metadata": {},
   "outputs": [
    {
     "data": {
      "text/plain": [
       "True"
      ]
     },
     "execution_count": 23,
     "metadata": {},
     "output_type": "execute_result"
    }
   ],
   "source": [
    "'module1' in globals()"
   ]
  },
  {
   "cell_type": "code",
   "execution_count": 24,
   "id": "89471e25",
   "metadata": {},
   "outputs": [
    {
     "data": {
      "text/plain": [
       "100"
      ]
     },
     "execution_count": 24,
     "metadata": {},
     "output_type": "execute_result"
    }
   ],
   "source": [
    "module1.a"
   ]
  },
  {
   "cell_type": "code",
   "execution_count": 25,
   "id": "66f6917a",
   "metadata": {},
   "outputs": [],
   "source": [
    "import os"
   ]
  },
  {
   "cell_type": "code",
   "execution_count": 27,
   "id": "5a0ac5c5",
   "metadata": {},
   "outputs": [],
   "source": [
    "# in windows use ['HOMEPATH']\n",
    "\n",
    "ext_module_path = os.environ['HOME']"
   ]
  },
  {
   "cell_type": "code",
   "execution_count": 28,
   "id": "0ad62ce9",
   "metadata": {},
   "outputs": [
    {
     "data": {
      "text/plain": [
       "'/home/carl'"
      ]
     },
     "execution_count": 28,
     "metadata": {},
     "output_type": "execute_result"
    }
   ],
   "source": [
    "ext_module_path"
   ]
  },
  {
   "cell_type": "code",
   "execution_count": 29,
   "id": "0ac1b6b1",
   "metadata": {},
   "outputs": [],
   "source": [
    "file_abs_path = os.path.join(ext_module_path, 'module2.py')\n",
    "with open(file_abs_path, 'w') as code_file:\n",
    "    code_file.write(\"print('running module2.py...')\\n\")\n",
    "    code_file.write(\"x = 'python'\\n\")"
   ]
  },
  {
   "cell_type": "code",
   "execution_count": 30,
   "id": "072aa774",
   "metadata": {},
   "outputs": [],
   "source": [
    "importlib.util.find_spec('module2')"
   ]
  },
  {
   "cell_type": "code",
   "execution_count": 33,
   "id": "9219ce9e",
   "metadata": {},
   "outputs": [
    {
     "data": {
      "text/plain": [
       "['/home/carl/Desktop/Matshub/deep-Dive-1/A_new_class_notes/modules-packages_namespaces/Modules',\n",
       " '/home/carl/anaconda3/lib/python39.zip',\n",
       " '/home/carl/anaconda3/lib/python3.9',\n",
       " '/home/carl/anaconda3/lib/python3.9/lib-dynload',\n",
       " '',\n",
       " '/home/carl/.local/lib/python3.9/site-packages',\n",
       " '/home/carl/anaconda3/lib/python3.9/site-packages']"
      ]
     },
     "execution_count": 33,
     "metadata": {},
     "output_type": "execute_result"
    }
   ],
   "source": [
    "sys.path"
   ]
  },
  {
   "cell_type": "code",
   "execution_count": 34,
   "id": "81edc7ea",
   "metadata": {},
   "outputs": [],
   "source": [
    "sys.path.append(ext_module_path)"
   ]
  },
  {
   "cell_type": "code",
   "execution_count": 35,
   "id": "d2d8037d",
   "metadata": {},
   "outputs": [
    {
     "data": {
      "text/plain": [
       "['/home/carl/Desktop/Matshub/deep-Dive-1/A_new_class_notes/modules-packages_namespaces/Modules',\n",
       " '/home/carl/anaconda3/lib/python39.zip',\n",
       " '/home/carl/anaconda3/lib/python3.9',\n",
       " '/home/carl/anaconda3/lib/python3.9/lib-dynload',\n",
       " '',\n",
       " '/home/carl/.local/lib/python3.9/site-packages',\n",
       " '/home/carl/anaconda3/lib/python3.9/site-packages',\n",
       " '/home/carl']"
      ]
     },
     "execution_count": 35,
     "metadata": {},
     "output_type": "execute_result"
    }
   ],
   "source": [
    "sys.path"
   ]
  },
  {
   "cell_type": "code",
   "execution_count": 36,
   "id": "37bf0f9c",
   "metadata": {},
   "outputs": [
    {
     "data": {
      "text/plain": [
       "ModuleSpec(name='module2', loader=<_frozen_importlib_external.SourceFileLoader object at 0x7fb200c5c910>, origin='/home/carl/module2.py')"
      ]
     },
     "execution_count": 36,
     "metadata": {},
     "output_type": "execute_result"
    }
   ],
   "source": [
    "importlib.util.find_spec('module2')"
   ]
  },
  {
   "cell_type": "code",
   "execution_count": 37,
   "id": "4e5932c0",
   "metadata": {},
   "outputs": [
    {
     "name": "stdout",
     "output_type": "stream",
     "text": [
      "running module2.py...\n"
     ]
    }
   ],
   "source": [
    "import module2"
   ]
  },
  {
   "cell_type": "code",
   "execution_count": 38,
   "id": "65976700",
   "metadata": {},
   "outputs": [
    {
     "data": {
      "text/plain": [
       "'python'"
      ]
     },
     "execution_count": 38,
     "metadata": {},
     "output_type": "execute_result"
    }
   ],
   "source": [
    "module2.x"
   ]
  },
  {
   "cell_type": "code",
   "execution_count": null,
   "id": "aeeedd4c",
   "metadata": {},
   "outputs": [],
   "source": []
  }
 ],
 "metadata": {
  "kernelspec": {
   "display_name": "Python 3.9.12 ('base')",
   "language": "python",
   "name": "python3"
  },
  "language_info": {
   "codemirror_mode": {
    "name": "ipython",
    "version": 3
   },
   "file_extension": ".py",
   "mimetype": "text/x-python",
   "name": "python",
   "nbconvert_exporter": "python",
   "pygments_lexer": "ipython3",
   "version": "3.9.12"
  },
  "vscode": {
   "interpreter": {
    "hash": "143d2740fa7885280d88cdaad3dbdadb51fa40347825ef5e3d2acba7c4a72194"
   }
  }
 },
 "nbformat": 4,
 "nbformat_minor": 5
}
