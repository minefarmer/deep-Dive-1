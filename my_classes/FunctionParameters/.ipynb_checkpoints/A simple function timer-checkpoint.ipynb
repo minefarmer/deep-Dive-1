{
 "cells": [
  {
   "cell_type": "markdown",
   "id": "0ee6d2ad",
   "metadata": {},
   "source": [
    " simple function timer"
   ]
  },
  {
   "cell_type": "code",
   "execution_count": 5,
   "id": "2f14e8ec",
   "metadata": {},
   "outputs": [],
   "source": [
    "import time"
   ]
  },
  {
   "cell_type": "code",
   "execution_count": 2,
   "id": "65288d59",
   "metadata": {},
   "outputs": [],
   "source": [
    "def time_it(fn, *args,  **kwargs):\n",
    "    print(args, kwargs)"
   ]
  },
  {
   "cell_type": "code",
   "execution_count": 4,
   "id": "0a05919c",
   "metadata": {},
   "outputs": [
    {
     "name": "stdout",
     "output_type": "stream",
     "text": [
      "(1, 2, 3) {'sep': ' - ', 'end': ' ***'}\n"
     ]
    }
   ],
   "source": [
    "time_it(print, 1, 2, 3, sep=' - ', end=' ***')"
   ]
  },
  {
   "cell_type": "code",
   "execution_count": 12,
   "id": "e7c5dfdf",
   "metadata": {},
   "outputs": [],
   "source": [
    "def time_it(fn, *args, rep=1, **kwargs):\n",
    "    for i in range(rep):\n",
    "        fn(args, kwargs)"
   ]
  },
  {
   "cell_type": "code",
   "execution_count": 13,
   "id": "54f523ff",
   "metadata": {},
   "outputs": [
    {
     "name": "stdout",
     "output_type": "stream",
     "text": [
      "(1, 2, 3) {'sep': ' - ', 'end': ' ***\\n'}\n",
      "(1, 2, 3) {'sep': ' - ', 'end': ' ***\\n'}\n",
      "(1, 2, 3) {'sep': ' - ', 'end': ' ***\\n'}\n",
      "(1, 2, 3) {'sep': ' - ', 'end': ' ***\\n'}\n",
      "(1, 2, 3) {'sep': ' - ', 'end': ' ***\\n'}\n"
     ]
    }
   ],
   "source": [
    "time_it(print, 1, 2, 3, sep=' - ', end=' ***\\n', rep=5)"
   ]
  },
  {
   "cell_type": "code",
   "execution_count": 14,
   "id": "d5db21c4",
   "metadata": {},
   "outputs": [],
   "source": [
    "def time_it(fn, *args, rep=1, **kwargs):\n",
    "    start = time.perf_counter()\n",
    "    for i in range(rep):\n",
    "        fn(*args, **kwargs)\n",
    "    end = time.perf_counter()\n",
    "    return (end - start) / rep"
   ]
  },
  {
   "cell_type": "code",
   "execution_count": 15,
   "id": "97a6dc39",
   "metadata": {},
   "outputs": [
    {
     "name": "stdout",
     "output_type": "stream",
     "text": [
      "1 - 2 - 3 ***\n",
      "1 - 2 - 3 ***\n",
      "1 - 2 - 3 ***\n",
      "1 - 2 - 3 ***\n",
      "1 - 2 - 3 ***\n"
     ]
    },
    {
     "data": {
      "text/plain": [
       "0.00024482959997840226"
      ]
     },
     "execution_count": 15,
     "metadata": {},
     "output_type": "execute_result"
    }
   ],
   "source": [
    "time_it(print, 1, 2, 3, sep=' - ', end=' ***\\n', rep=5)"
   ]
  },
  {
   "cell_type": "code",
   "execution_count": 22,
   "id": "361b7808",
   "metadata": {},
   "outputs": [],
   "source": [
    "def computer_powers_1(n, *, start=1, end):\n",
    "    # using a for loop\n",
    "    results = []\n",
    "    for i in range(start, end):\n",
    "        results.append(n**i)\n",
    "    return results"
   ]
  },
  {
   "cell_type": "code",
   "execution_count": 23,
   "id": "180c2173",
   "metadata": {},
   "outputs": [
    {
     "data": {
      "text/plain": [
       "[2, 4, 8, 16]"
      ]
     },
     "execution_count": 23,
     "metadata": {},
     "output_type": "execute_result"
    }
   ],
   "source": [
    "computer_powers_1(2, end=5)"
   ]
  },
  {
   "cell_type": "code",
   "execution_count": 28,
   "id": "093cbad6",
   "metadata": {},
   "outputs": [],
   "source": [
    "def computer_powers_2(n, *, start=1, end):\n",
    "    # using a list comprehension\n",
    "    return [n**i for i in range(start, end)]"
   ]
  },
  {
   "cell_type": "code",
   "execution_count": 29,
   "id": "7e7b85a8",
   "metadata": {},
   "outputs": [
    {
     "data": {
      "text/plain": [
       "[2, 4, 8, 16]"
      ]
     },
     "execution_count": 29,
     "metadata": {},
     "output_type": "execute_result"
    }
   ],
   "source": [
    "computer_powers_2(2, end=5)"
   ]
  },
  {
   "cell_type": "code",
   "execution_count": 30,
   "id": "7f4cf283",
   "metadata": {},
   "outputs": [],
   "source": [
    "def computer_powers_3(n, *, start=1, end):\n",
    "    # using generators expression\n",
    "    return (n**i for i in range(start, end))"
   ]
  },
  {
   "cell_type": "code",
   "execution_count": 32,
   "id": "683e49a6",
   "metadata": {},
   "outputs": [
    {
     "data": {
      "text/plain": [
       "[2, 4, 8, 16]"
      ]
     },
     "execution_count": 32,
     "metadata": {},
     "output_type": "execute_result"
    }
   ],
   "source": [
    "list(computer_powers_3(2, end=5))"
   ]
  },
  {
   "cell_type": "code",
   "execution_count": 33,
   "id": "4e52415a",
   "metadata": {},
   "outputs": [
    {
     "data": {
      "text/plain": [
       "0.4011995519998891"
      ]
     },
     "execution_count": 33,
     "metadata": {},
     "output_type": "execute_result"
    }
   ],
   "source": [
    "time_it(computer_powers_1, 2, start =0, rep=5, end=20000)"
   ]
  },
  {
   "cell_type": "code",
   "execution_count": 34,
   "id": "94048fea",
   "metadata": {},
   "outputs": [
    {
     "data": {
      "text/plain": [
       "0.39979113840017816"
      ]
     },
     "execution_count": 34,
     "metadata": {},
     "output_type": "execute_result"
    }
   ],
   "source": [
    "time_it(computer_powers_2, n=2, start =0, rep=5, end=20000)"
   ]
  },
  {
   "cell_type": "code",
   "execution_count": 39,
   "id": "0e551dfe",
   "metadata": {},
   "outputs": [],
   "source": [
    "a = (2**i for i in range(5))"
   ]
  },
  {
   "cell_type": "code",
   "execution_count": 40,
   "id": "e25b33d6",
   "metadata": {},
   "outputs": [
    {
     "data": {
      "text/plain": [
       "<generator object <genexpr> at 0x7f3518940d60>"
      ]
     },
     "execution_count": 40,
     "metadata": {},
     "output_type": "execute_result"
    }
   ],
   "source": [
    "a"
   ]
  },
  {
   "cell_type": "code",
   "execution_count": 41,
   "id": "8d64ebf8",
   "metadata": {},
   "outputs": [
    {
     "data": {
      "text/plain": [
       "[2, 2, 2, 2, 2]"
      ]
     },
     "execution_count": 41,
     "metadata": {},
     "output_type": "execute_result"
    }
   ],
   "source": [
    "list(a)"
   ]
  },
  {
   "cell_type": "code",
   "execution_count": null,
   "id": "5b941164",
   "metadata": {},
   "outputs": [],
   "source": []
  }
 ],
 "metadata": {
  "kernelspec": {
   "display_name": "Python 3",
   "language": "python",
   "name": "python3"
  },
  "language_info": {
   "codemirror_mode": {
    "name": "ipython",
    "version": 3
   },
   "file_extension": ".py",
   "mimetype": "text/x-python",
   "name": "python",
   "nbconvert_exporter": "python",
   "pygments_lexer": "ipython3",
   "version": "3.8.8"
  }
 },
 "nbformat": 4,
 "nbformat_minor": 5
}
