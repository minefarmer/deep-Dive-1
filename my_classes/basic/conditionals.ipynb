{
 "cells": [
  {
   "cell_type": "code",
   "execution_count": 1,
   "metadata": {},
   "outputs": [
    {
     "name": "stdout",
     "output_type": "stream",
     "text": [
      "a < 5\n"
     ]
    }
   ],
   "source": [
    "a = 2\n",
    "\n",
    "if a < 5:  # an if statement\n",
    "    print('a < 5')\n",
    "else:\n",
    "    print('a >= 5')"
   ]
  },
  {
   "cell_type": "code",
   "execution_count": 2,
   "metadata": {},
   "outputs": [
    {
     "name": "stdout",
     "output_type": "stream",
     "text": [
      "5 <' a < 10\n"
     ]
    },
    {
     "data": {
      "text/plain": "True"
     },
     "execution_count": 2,
     "metadata": {},
     "output_type": "execute_result"
    }
   ],
   "source": [
    "a = 5\n",
    "\n",
    "if a < 5:\n",
    "    print('a < 5')\n",
    "else:\n",
    "    if a < 10:\n",
    "        print(\"5 <' a < 10\")\n",
    "    else:\n",
    "        print('a >= 10')\n",
    "a <= a <10\n"
   ]
  },
  {
   "cell_type": "code",
   "execution_count": 3,
   "metadata": {},
   "outputs": [
    {
     "name": "stdout",
     "output_type": "stream",
     "text": [
      "10 <= a < 15\n"
     ]
    }
   ],
   "source": [
    "a = 5\n",
    "\n",
    "if a < 5:\n",
    "    print(\"a < 5\")\n",
    "elif a > 10:\n",
    "    print('5 <= a  10')\n",
    "elif a < 15:\n",
    "    print('10 <= a < 15')\n",
    "elif a < 20:\n",
    "    print('15 <= a < 20')\n"
   ]
  },
  {
   "cell_type": "code",
   "execution_count": 4,
   "metadata": {},
   "outputs": [
    {
     "name": "stdout",
     "output_type": "stream",
     "text": [
      "a >= 5\n"
     ]
    }
   ],
   "source": [
    "a = 25\n",
    "\n",
    "if a < 5:\n",
    "    b = 'a < 5'\n",
    "else:\n",
    "    b = 'a >= 5'\n",
    "\n",
    "print(b)"
   ]
  },
  {
   "cell_type": "code",
   "execution_count": 5,
   "metadata": {},
   "outputs": [],
   "source": [
    "a >= 5\n",
    "b = 'a < 5' if a < 5 else 'a >+ 5'"
   ]
  },
  {
   "cell_type": "code",
   "execution_count": 6,
   "metadata": {},
   "outputs": [
    {
     "name": "stdout",
     "output_type": "stream",
     "text": [
      "a >+ 5\n"
     ]
    }
   ],
   "source": [
    "print(b)"
   ]
  },
  {
   "cell_type": "code",
   "execution_count": 7,
   "metadata": {},
   "outputs": [
    {
     "data": {
      "text/plain": "25"
     },
     "execution_count": 7,
     "metadata": {},
     "output_type": "execute_result"
    }
   ],
   "source": [
    "a"
   ]
  },
  {
   "cell_type": "code",
   "execution_count": 8,
   "metadata": {},
   "outputs": [],
   "source": [
    "a = 4"
   ]
  },
  {
   "cell_type": "code",
   "execution_count": 9,
   "metadata": {},
   "outputs": [
    {
     "data": {
      "text/plain": "'a < 5'"
     },
     "execution_count": 9,
     "metadata": {},
     "output_type": "execute_result"
    }
   ],
   "source": [
    "'a < 5' if a < 5 else 'a >= 5'"
   ]
  }
 ],
 "metadata": {
  "kernelspec": {
   "display_name": "Python 3.8.5 64-bit ('base': conda)",
   "name": "python385jvsc74a57bd0961edce9ec0a0c412eed35ef2c18a63608c17ecd98e3736673bba72749bcd850"
  },
  "language_info": {
   "codemirror_mode": {
    "name": "ipython",
    "version": 3
   },
   "file_extension": ".py",
   "mimetype": "text/x-python",
   "name": "python",
   "nbconvert_exporter": "python",
   "pygments_lexer": "ipython3",
   "version": "3.8.5"
  },
  "orig_nbformat": 3
 },
 "nbformat": 4,
 "nbformat_minor": 2
}