{
 "cells": [
  {
   "cell_type": "markdown",
   "id": "ba963337",
   "metadata": {},
   "source": [
    "Operator Module"
   ]
  },
  {
   "cell_type": "code",
   "execution_count": 3,
   "id": "3e11a81c",
   "metadata": {},
   "outputs": [],
   "source": [
    "import operator"
   ]
  },
  {
   "cell_type": "code",
   "execution_count": 4,
   "id": "edb53127",
   "metadata": {},
   "outputs": [
    {
     "data": {
      "text/plain": [
       "['__abs__',\n",
       " '__add__',\n",
       " '__all__',\n",
       " '__and__',\n",
       " '__builtins__',\n",
       " '__cached__',\n",
       " '__concat__',\n",
       " '__contains__',\n",
       " '__delitem__',\n",
       " '__doc__',\n",
       " '__eq__',\n",
       " '__file__',\n",
       " '__floordiv__',\n",
       " '__ge__',\n",
       " '__getitem__',\n",
       " '__gt__',\n",
       " '__iadd__',\n",
       " '__iand__',\n",
       " '__iconcat__',\n",
       " '__ifloordiv__',\n",
       " '__ilshift__',\n",
       " '__imatmul__',\n",
       " '__imod__',\n",
       " '__imul__',\n",
       " '__index__',\n",
       " '__inv__',\n",
       " '__invert__',\n",
       " '__ior__',\n",
       " '__ipow__',\n",
       " '__irshift__',\n",
       " '__isub__',\n",
       " '__itruediv__',\n",
       " '__ixor__',\n",
       " '__le__',\n",
       " '__loader__',\n",
       " '__lshift__',\n",
       " '__lt__',\n",
       " '__matmul__',\n",
       " '__mod__',\n",
       " '__mul__',\n",
       " '__name__',\n",
       " '__ne__',\n",
       " '__neg__',\n",
       " '__not__',\n",
       " '__or__',\n",
       " '__package__',\n",
       " '__pos__',\n",
       " '__pow__',\n",
       " '__rshift__',\n",
       " '__setitem__',\n",
       " '__spec__',\n",
       " '__sub__',\n",
       " '__truediv__',\n",
       " '__xor__',\n",
       " '_abs',\n",
       " 'abs',\n",
       " 'add',\n",
       " 'and_',\n",
       " 'attrgetter',\n",
       " 'concat',\n",
       " 'contains',\n",
       " 'countOf',\n",
       " 'delitem',\n",
       " 'eq',\n",
       " 'floordiv',\n",
       " 'ge',\n",
       " 'getitem',\n",
       " 'gt',\n",
       " 'iadd',\n",
       " 'iand',\n",
       " 'iconcat',\n",
       " 'ifloordiv',\n",
       " 'ilshift',\n",
       " 'imatmul',\n",
       " 'imod',\n",
       " 'imul',\n",
       " 'index',\n",
       " 'indexOf',\n",
       " 'inv',\n",
       " 'invert',\n",
       " 'ior',\n",
       " 'ipow',\n",
       " 'irshift',\n",
       " 'is_',\n",
       " 'is_not',\n",
       " 'isub',\n",
       " 'itemgetter',\n",
       " 'itruediv',\n",
       " 'ixor',\n",
       " 'le',\n",
       " 'length_hint',\n",
       " 'lshift',\n",
       " 'lt',\n",
       " 'matmul',\n",
       " 'methodcaller',\n",
       " 'mod',\n",
       " 'mul',\n",
       " 'ne',\n",
       " 'neg',\n",
       " 'not_',\n",
       " 'or_',\n",
       " 'pos',\n",
       " 'pow',\n",
       " 'rshift',\n",
       " 'setitem',\n",
       " 'sub',\n",
       " 'truediv',\n",
       " 'truth',\n",
       " 'xor']"
      ]
     },
     "execution_count": 4,
     "metadata": {},
     "output_type": "execute_result"
    }
   ],
   "source": [
    "dir(operator)"
   ]
  },
  {
   "cell_type": "code",
   "execution_count": 5,
   "id": "e5a661cf",
   "metadata": {},
   "outputs": [
    {
     "data": {
      "text/plain": [
       "3"
      ]
     },
     "execution_count": 5,
     "metadata": {},
     "output_type": "execute_result"
    }
   ],
   "source": [
    "operator.add(1, 2)"
   ]
  },
  {
   "cell_type": "code",
   "execution_count": 7,
   "id": "019487f7",
   "metadata": {},
   "outputs": [
    {
     "data": {
      "text/plain": [
       "2"
      ]
     },
     "execution_count": 7,
     "metadata": {},
     "output_type": "execute_result"
    }
   ],
   "source": [
    "operator.mul(1, 2)"
   ]
  },
  {
   "cell_type": "code",
   "execution_count": null,
   "id": "16e903fa",
   "metadata": {},
   "outputs": [],
   "source": [
    "operator"
   ]
  },
  {
   "cell_type": "code",
   "execution_count": 8,
   "id": "d22e9322",
   "metadata": {},
   "outputs": [
    {
     "data": {
      "text/plain": [
       "1.5"
      ]
     },
     "execution_count": 8,
     "metadata": {},
     "output_type": "execute_result"
    }
   ],
   "source": [
    "operator.truediv(3, 2)"
   ]
  },
  {
   "cell_type": "code",
   "execution_count": 9,
   "id": "5ed1436e",
   "metadata": {},
   "outputs": [
    {
     "data": {
      "text/plain": [
       "6"
      ]
     },
     "execution_count": 9,
     "metadata": {},
     "output_type": "execute_result"
    }
   ],
   "source": [
    "operator.floordiv(13, 2)"
   ]
  },
  {
   "cell_type": "code",
   "execution_count": 10,
   "id": "3bd228fe",
   "metadata": {},
   "outputs": [
    {
     "data": {
      "text/plain": [
       "6"
      ]
     },
     "execution_count": 10,
     "metadata": {},
     "output_type": "execute_result"
    }
   ],
   "source": [
    "13 // 2"
   ]
  },
  {
   "cell_type": "code",
   "execution_count": 11,
   "id": "10e83198",
   "metadata": {},
   "outputs": [],
   "source": [
    "from functools import reduce"
   ]
  },
  {
   "cell_type": "code",
   "execution_count": 13,
   "id": "bea815de",
   "metadata": {},
   "outputs": [
    {
     "data": {
      "text/plain": [
       "24"
      ]
     },
     "execution_count": 13,
     "metadata": {},
     "output_type": "execute_result"
    }
   ],
   "source": [
    "reduce(lambda x, y: x*y, [1, 2, 3, 4])"
   ]
  },
  {
   "cell_type": "code",
   "execution_count": 14,
   "id": "68e4e387",
   "metadata": {},
   "outputs": [
    {
     "data": {
      "text/plain": [
       "24"
      ]
     },
     "execution_count": 14,
     "metadata": {},
     "output_type": "execute_result"
    }
   ],
   "source": [
    "reduce(operator.mul, [1, 2, 3, 4])"
   ]
  },
  {
   "cell_type": "code",
   "execution_count": 16,
   "id": "1adbdd3d",
   "metadata": {},
   "outputs": [
    {
     "data": {
      "text/plain": [
       "False"
      ]
     },
     "execution_count": 16,
     "metadata": {},
     "output_type": "execute_result"
    }
   ],
   "source": [
    "operator.lt(10, 3)"
   ]
  },
  {
   "cell_type": "code",
   "execution_count": 17,
   "id": "ee0bbb83",
   "metadata": {},
   "outputs": [
    {
     "data": {
      "text/plain": [
       "False"
      ]
     },
     "execution_count": 17,
     "metadata": {},
     "output_type": "execute_result"
    }
   ],
   "source": [
    "operator.lt(19, 3)"
   ]
  },
  {
   "cell_type": "code",
   "execution_count": 18,
   "id": "7fd900f0",
   "metadata": {},
   "outputs": [],
   "source": [
    "from operator import is_"
   ]
  },
  {
   "cell_type": "code",
   "execution_count": 19,
   "id": "be2d4983",
   "metadata": {},
   "outputs": [
    {
     "data": {
      "text/plain": [
       "False"
      ]
     },
     "execution_count": 19,
     "metadata": {},
     "output_type": "execute_result"
    }
   ],
   "source": [
    "is_('abc', 'def')"
   ]
  },
  {
   "cell_type": "code",
   "execution_count": 20,
   "id": "4ca2e0e3",
   "metadata": {},
   "outputs": [
    {
     "data": {
      "text/plain": [
       "True"
      ]
     },
     "execution_count": 20,
     "metadata": {},
     "output_type": "execute_result"
    }
   ],
   "source": [
    "is_('abc', 'abc')"
   ]
  },
  {
   "cell_type": "code",
   "execution_count": 21,
   "id": "dfc3d762",
   "metadata": {},
   "outputs": [
    {
     "data": {
      "text/plain": [
       "True"
      ]
     },
     "execution_count": 21,
     "metadata": {},
     "output_type": "execute_result"
    }
   ],
   "source": [
    "operator.truth([1])"
   ]
  },
  {
   "cell_type": "code",
   "execution_count": 22,
   "id": "dc5ec16f",
   "metadata": {},
   "outputs": [],
   "source": [
    "my_list = [1, 2, 3, 4]"
   ]
  },
  {
   "cell_type": "code",
   "execution_count": 23,
   "id": "7317f1c0",
   "metadata": {},
   "outputs": [
    {
     "data": {
      "text/plain": [
       "2"
      ]
     },
     "execution_count": 23,
     "metadata": {},
     "output_type": "execute_result"
    }
   ],
   "source": [
    "my_list[1]"
   ]
  },
  {
   "cell_type": "code",
   "execution_count": 24,
   "id": "80ca02ae",
   "metadata": {},
   "outputs": [
    {
     "data": {
      "text/plain": [
       "2"
      ]
     },
     "execution_count": 24,
     "metadata": {},
     "output_type": "execute_result"
    }
   ],
   "source": [
    "my_list[1]"
   ]
  },
  {
   "cell_type": "code",
   "execution_count": 25,
   "id": "b58d0bad",
   "metadata": {},
   "outputs": [
    {
     "data": {
      "text/plain": [
       "2"
      ]
     },
     "execution_count": 25,
     "metadata": {},
     "output_type": "execute_result"
    }
   ],
   "source": [
    "operator.getitem(my_list, 1)"
   ]
  },
  {
   "cell_type": "code",
   "execution_count": 27,
   "id": "647e4834",
   "metadata": {},
   "outputs": [],
   "source": [
    "my_list[1] = 100"
   ]
  },
  {
   "cell_type": "code",
   "execution_count": 29,
   "id": "afb59a44",
   "metadata": {},
   "outputs": [
    {
     "data": {
      "text/plain": [
       "[1, 100, 3, 4]"
      ]
     },
     "execution_count": 29,
     "metadata": {},
     "output_type": "execute_result"
    }
   ],
   "source": [
    "my_list"
   ]
  },
  {
   "cell_type": "code",
   "execution_count": 30,
   "id": "90972fd3",
   "metadata": {},
   "outputs": [],
   "source": [
    "del my_list[3]"
   ]
  },
  {
   "cell_type": "code",
   "execution_count": 31,
   "id": "6968819f",
   "metadata": {},
   "outputs": [
    {
     "data": {
      "text/plain": [
       "[1, 100, 3]"
      ]
     },
     "execution_count": 31,
     "metadata": {},
     "output_type": "execute_result"
    }
   ],
   "source": [
    "my_list"
   ]
  },
  {
   "cell_type": "code",
   "execution_count": 32,
   "id": "83a3b2d0",
   "metadata": {},
   "outputs": [],
   "source": [
    "my_list = [1, 2, 3, 4]"
   ]
  },
  {
   "cell_type": "code",
   "execution_count": 35,
   "id": "f872371e",
   "metadata": {},
   "outputs": [],
   "source": [
    "operator.setitem(my_list, 1, 100)"
   ]
  },
  {
   "cell_type": "code",
   "execution_count": 36,
   "id": "e3e41d94",
   "metadata": {},
   "outputs": [
    {
     "data": {
      "text/plain": [
       "[1, 100, 3, 4]"
      ]
     },
     "execution_count": 36,
     "metadata": {},
     "output_type": "execute_result"
    }
   ],
   "source": [
    "my_list"
   ]
  },
  {
   "cell_type": "code",
   "execution_count": 39,
   "id": "ba242a31",
   "metadata": {},
   "outputs": [],
   "source": [
    "operator.delitem(my_list, 3)"
   ]
  },
  {
   "cell_type": "code",
   "execution_count": 40,
   "id": "283280ec",
   "metadata": {},
   "outputs": [
    {
     "data": {
      "text/plain": [
       "[1, 100, 3]"
      ]
     },
     "execution_count": 40,
     "metadata": {},
     "output_type": "execute_result"
    }
   ],
   "source": [
    "my_list"
   ]
  },
  {
   "cell_type": "code",
   "execution_count": 41,
   "id": "b3bd66d0",
   "metadata": {},
   "outputs": [],
   "source": [
    "my_list = [1, 2, 3, 4]"
   ]
  },
  {
   "cell_type": "code",
   "execution_count": 42,
   "id": "a9f0ca4d",
   "metadata": {},
   "outputs": [],
   "source": [
    "operator.setitem(my_list, 1, 100)"
   ]
  },
  {
   "cell_type": "code",
   "execution_count": 43,
   "id": "eea84b19",
   "metadata": {},
   "outputs": [],
   "source": [
    "operator.delitem(my_list, 3)"
   ]
  },
  {
   "cell_type": "code",
   "execution_count": 44,
   "id": "31bc3cc5",
   "metadata": {},
   "outputs": [
    {
     "data": {
      "text/plain": [
       "[1, 100, 3]"
      ]
     },
     "execution_count": 44,
     "metadata": {},
     "output_type": "execute_result"
    }
   ],
   "source": [
    "my_list"
   ]
  },
  {
   "cell_type": "code",
   "execution_count": 45,
   "id": "78fc16ed",
   "metadata": {},
   "outputs": [
    {
     "ename": "TypeError",
     "evalue": "itemgetter expected 1 argument, got 0",
     "output_type": "error",
     "traceback": [
      "\u001b[0;31m---------------------------------------------------------------------------\u001b[0m",
      "\u001b[0;31mTypeError\u001b[0m                                 Traceback (most recent call last)",
      "\u001b[0;32m<ipython-input-45-34c361cf071a>\u001b[0m in \u001b[0;36m<module>\u001b[0;34m\u001b[0m\n\u001b[0;32m----> 1\u001b[0;31m \u001b[0mf\u001b[0m \u001b[0;34m=\u001b[0m \u001b[0moperator\u001b[0m\u001b[0;34m.\u001b[0m\u001b[0mitemgetter\u001b[0m\u001b[0;34m(\u001b[0m\u001b[0;34m)\u001b[0m\u001b[0;34m\u001b[0m\u001b[0;34m\u001b[0m\u001b[0m\n\u001b[0m",
      "\u001b[0;31mTypeError\u001b[0m: itemgetter expected 1 argument, got 0"
     ]
    }
   ],
   "source": [
    "f = operator.itemgetter(2)"
   ]
  },
  {
   "cell_type": "code",
   "execution_count": null,
   "id": "6ef0d92a",
   "metadata": {},
   "outputs": [],
   "source": []
  }
 ],
 "metadata": {
  "kernelspec": {
   "display_name": "Python 3",
   "language": "python",
   "name": "python3"
  },
  "language_info": {
   "codemirror_mode": {
    "name": "ipython",
    "version": 3
   },
   "file_extension": ".py",
   "mimetype": "text/x-python",
   "name": "python",
   "nbconvert_exporter": "python",
   "pygments_lexer": "ipython3",
   "version": "3.8.8"
  }
 },
 "nbformat": 4,
 "nbformat_minor": 5
}
