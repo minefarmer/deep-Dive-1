{
 "cells": [
  {
   "cell_type": "markdown",
   "id": "33d2e92f",
   "metadata": {},
   "source": [
    "Decorator Application (Memoization)"
   ]
  },
  {
   "cell_type": "code",
   "execution_count": 6,
   "id": "fdf6a674",
   "metadata": {},
   "outputs": [],
   "source": [
    "def fib(n):\n",
    "    print('Caculating fib({0})'.format(n))\n",
    "    return 1 if n < 3 else fib(n-1) + fib(n-2)"
   ]
  },
  {
   "cell_type": "code",
   "execution_count": 7,
   "id": "2823b231",
   "metadata": {},
   "outputs": [
    {
     "name": "stdout",
     "output_type": "stream",
     "text": [
      "Caculating fib(10)\n",
      "Caculating fib(9)\n",
      "Caculating fib(8)\n",
      "Caculating fib(7)\n",
      "Caculating fib(6)\n",
      "Caculating fib(5)\n",
      "Caculating fib(4)\n",
      "Caculating fib(3)\n",
      "Caculating fib(2)\n",
      "Caculating fib(1)\n",
      "Caculating fib(2)\n",
      "Caculating fib(3)\n",
      "Caculating fib(2)\n",
      "Caculating fib(1)\n",
      "Caculating fib(4)\n",
      "Caculating fib(3)\n",
      "Caculating fib(2)\n",
      "Caculating fib(1)\n",
      "Caculating fib(2)\n",
      "Caculating fib(5)\n",
      "Caculating fib(4)\n",
      "Caculating fib(3)\n",
      "Caculating fib(2)\n",
      "Caculating fib(1)\n",
      "Caculating fib(2)\n",
      "Caculating fib(3)\n",
      "Caculating fib(2)\n",
      "Caculating fib(1)\n",
      "Caculating fib(6)\n",
      "Caculating fib(5)\n",
      "Caculating fib(4)\n",
      "Caculating fib(3)\n",
      "Caculating fib(2)\n",
      "Caculating fib(1)\n",
      "Caculating fib(2)\n",
      "Caculating fib(3)\n",
      "Caculating fib(2)\n",
      "Caculating fib(1)\n",
      "Caculating fib(4)\n",
      "Caculating fib(3)\n",
      "Caculating fib(2)\n",
      "Caculating fib(1)\n",
      "Caculating fib(2)\n",
      "Caculating fib(7)\n",
      "Caculating fib(6)\n",
      "Caculating fib(5)\n",
      "Caculating fib(4)\n",
      "Caculating fib(3)\n",
      "Caculating fib(2)\n",
      "Caculating fib(1)\n",
      "Caculating fib(2)\n",
      "Caculating fib(3)\n",
      "Caculating fib(2)\n",
      "Caculating fib(1)\n",
      "Caculating fib(4)\n",
      "Caculating fib(3)\n",
      "Caculating fib(2)\n",
      "Caculating fib(1)\n",
      "Caculating fib(2)\n",
      "Caculating fib(5)\n",
      "Caculating fib(4)\n",
      "Caculating fib(3)\n",
      "Caculating fib(2)\n",
      "Caculating fib(1)\n",
      "Caculating fib(2)\n",
      "Caculating fib(3)\n",
      "Caculating fib(2)\n",
      "Caculating fib(1)\n",
      "Caculating fib(8)\n",
      "Caculating fib(7)\n",
      "Caculating fib(6)\n",
      "Caculating fib(5)\n",
      "Caculating fib(4)\n",
      "Caculating fib(3)\n",
      "Caculating fib(2)\n",
      "Caculating fib(1)\n",
      "Caculating fib(2)\n",
      "Caculating fib(3)\n",
      "Caculating fib(2)\n",
      "Caculating fib(1)\n",
      "Caculating fib(4)\n",
      "Caculating fib(3)\n",
      "Caculating fib(2)\n",
      "Caculating fib(1)\n",
      "Caculating fib(2)\n",
      "Caculating fib(5)\n",
      "Caculating fib(4)\n",
      "Caculating fib(3)\n",
      "Caculating fib(2)\n",
      "Caculating fib(1)\n",
      "Caculating fib(2)\n",
      "Caculating fib(3)\n",
      "Caculating fib(2)\n",
      "Caculating fib(1)\n",
      "Caculating fib(6)\n",
      "Caculating fib(5)\n",
      "Caculating fib(4)\n",
      "Caculating fib(3)\n",
      "Caculating fib(2)\n",
      "Caculating fib(1)\n",
      "Caculating fib(2)\n",
      "Caculating fib(3)\n",
      "Caculating fib(2)\n",
      "Caculating fib(1)\n",
      "Caculating fib(4)\n",
      "Caculating fib(3)\n",
      "Caculating fib(2)\n",
      "Caculating fib(1)\n",
      "Caculating fib(2)\n"
     ]
    },
    {
     "data": {
      "text/plain": [
       "55"
      ]
     },
     "execution_count": 7,
     "metadata": {},
     "output_type": "execute_result"
    }
   ],
   "source": [
    "fib(10)"
   ]
  },
  {
   "cell_type": "code",
   "execution_count": 9,
   "id": "1ce018b7",
   "metadata": {},
   "outputs": [],
   "source": [
    "class Fib:\n",
    "    def __init__(self):\n",
    "        self.cache = {1: 1, 2: 2}\n",
    "\n",
    "    def fib(self, n):\n",
    "        if n not in self.cache:\n",
    "            print('Calculating fib({0}'.format(n))\n",
    "            self.cache[n] = self.fib(n-1) + self.fib(n-2)\n",
    "        return self.cache[n]\n"
   ]
  },
  {
   "cell_type": "code",
   "execution_count": 10,
   "id": "fc30ce15",
   "metadata": {},
   "outputs": [],
   "source": [
    "f = Fib()"
   ]
  },
  {
   "cell_type": "code",
   "execution_count": 11,
   "id": "8a9aaa98",
   "metadata": {},
   "outputs": [
    {
     "name": "stdout",
     "output_type": "stream",
     "text": [
      "Calculating fib(10\n",
      "Calculating fib(9\n",
      "Calculating fib(8\n",
      "Calculating fib(7\n",
      "Calculating fib(6\n",
      "Calculating fib(5\n",
      "Calculating fib(4\n",
      "Calculating fib(3\n"
     ]
    },
    {
     "data": {
      "text/plain": [
       "89"
      ]
     },
     "execution_count": 11,
     "metadata": {},
     "output_type": "execute_result"
    }
   ],
   "source": [
    "f.fib(10)"
   ]
  },
  {
   "cell_type": "code",
   "execution_count": 12,
   "id": "b08953d4",
   "metadata": {},
   "outputs": [],
   "source": [
    "def fib():\n",
    "    cache = {1: 1, 2: 1}\n",
    "\n",
    "    def calc_fib(n):\n",
    "        if n not in cache:\n",
    "            cache[n] = calc_fib(n-1) + calc_fib(n-2)\n",
    "        return cache[n]\n",
    "\n",
    "    return calc_fib"
   ]
  },
  {
   "cell_type": "code",
   "execution_count": 13,
   "id": "f3c07f6f",
   "metadata": {},
   "outputs": [],
   "source": [
    "f = fib()"
   ]
  },
  {
   "cell_type": "code",
   "execution_count": 14,
   "id": "7189c081",
   "metadata": {},
   "outputs": [],
   "source": [
    "f = fib()"
   ]
  },
  {
   "cell_type": "code",
   "execution_count": 15,
   "id": "a1e93082",
   "metadata": {},
   "outputs": [
    {
     "data": {
      "text/plain": [
       "55"
      ]
     },
     "execution_count": 15,
     "metadata": {},
     "output_type": "execute_result"
    }
   ],
   "source": [
    "f(10)"
   ]
  },
  {
   "cell_type": "code",
   "execution_count": 16,
   "id": "46e66415",
   "metadata": {},
   "outputs": [],
   "source": [
    "def fib():\n",
    "    cache = {1: 1, 2: 1}\n",
    "\n",
    "    def calc_fib(n):\n",
    "        if n not in cache:\n",
    "            print('Calculating fib({0})',format(n))\n",
    "            cache[n] = calc_fib(n-1) + calc_fib(n-2)\n",
    "        return cache[n]\n",
    "\n",
    "    return calc_fib"
   ]
  },
  {
   "cell_type": "code",
   "execution_count": 17,
   "id": "facdb895",
   "metadata": {},
   "outputs": [],
   "source": [
    "f = fib()"
   ]
  },
  {
   "cell_type": "code",
   "execution_count": 18,
   "id": "dc9658d2",
   "metadata": {},
   "outputs": [
    {
     "name": "stdout",
     "output_type": "stream",
     "text": [
      "Calculating fib({0}) 10\n",
      "Calculating fib({0}) 9\n",
      "Calculating fib({0}) 8\n",
      "Calculating fib({0}) 7\n",
      "Calculating fib({0}) 6\n",
      "Calculating fib({0}) 5\n",
      "Calculating fib({0}) 4\n",
      "Calculating fib({0}) 3\n"
     ]
    },
    {
     "data": {
      "text/plain": [
       "55"
      ]
     },
     "execution_count": 18,
     "metadata": {},
     "output_type": "execute_result"
    }
   ],
   "source": [
    "f(10)"
   ]
  },
  {
   "cell_type": "code",
   "execution_count": 19,
   "id": "ee84eb2b",
   "metadata": {},
   "outputs": [],
   "source": [
    "g = Fib()"
   ]
  },
  {
   "cell_type": "code",
   "execution_count": 20,
   "id": "6fb15d54",
   "metadata": {},
   "outputs": [
    {
     "name": "stdout",
     "output_type": "stream",
     "text": [
      "Calculating fib(10\n",
      "Calculating fib(9\n",
      "Calculating fib(8\n",
      "Calculating fib(7\n",
      "Calculating fib(6\n",
      "Calculating fib(5\n",
      "Calculating fib(4\n",
      "Calculating fib(3\n"
     ]
    },
    {
     "data": {
      "text/plain": [
       "89"
      ]
     },
     "execution_count": 20,
     "metadata": {},
     "output_type": "execute_result"
    }
   ],
   "source": [
    "g.fib(10)"
   ]
  },
  {
   "cell_type": "code",
   "execution_count": 27,
   "id": "8247354c",
   "metadata": {},
   "outputs": [],
   "source": [
    "def memoize_fib(fib):\n",
    "    cache = {1: 1, 2: 1}\n",
    "\n",
    "    def inner(n):\n",
    "        if n not in cache:\n",
    "            cache[n] = fib(n)\n",
    "        return cache[n]\n",
    "\n",
    "    return inner"
   ]
  },
  {
   "cell_type": "code",
   "execution_count": 29,
   "id": "8db09dc9",
   "metadata": {},
   "outputs": [],
   "source": [
    "@memoize_fib\n",
    "def fib(n):\n",
    "    print('Caculating fib({0})'.format(n))\n",
    "    return 1 if n < 3 else fib(n-1) + fib(n-2)"
   ]
  },
  {
   "cell_type": "code",
   "execution_count": 30,
   "id": "d2ea26fa",
   "metadata": {},
   "outputs": [
    {
     "name": "stdout",
     "output_type": "stream",
     "text": [
      "Caculating fib(10)\n",
      "Caculating fib(9)\n",
      "Caculating fib(8)\n",
      "Caculating fib(7)\n",
      "Caculating fib(6)\n",
      "Caculating fib(5)\n",
      "Caculating fib(4)\n",
      "Caculating fib(3)\n"
     ]
    },
    {
     "data": {
      "text/plain": [
       "55"
      ]
     },
     "execution_count": 30,
     "metadata": {},
     "output_type": "execute_result"
    }
   ],
   "source": [
    "fib(10)"
   ]
  },
  {
   "cell_type": "code",
   "execution_count": 32,
   "id": "67eb8caa",
   "metadata": {},
   "outputs": [],
   "source": [
    "def memoize_fib(fn):\n",
    "    cache = dict()\n",
    "\n",
    "    def inner(n):\n",
    "        if n not in cache:\n",
    "            cache[n] = fib(n)\n",
    "        return cache[n]\n",
    "\n",
    "    return inner"
   ]
  },
  {
   "cell_type": "code",
   "execution_count": 34,
   "id": "c181d57c",
   "metadata": {},
   "outputs": [],
   "source": [
    "def fact(n):\n",
    "    print('Calculating {0}!'.format(n))"
   ]
  },
  {
   "cell_type": "code",
   "execution_count": 36,
   "id": "5a311c83",
   "metadata": {},
   "outputs": [
    {
     "name": "stdout",
     "output_type": "stream",
     "text": [
      "Calculating 6!\n"
     ]
    }
   ],
   "source": [
    "fact(6)"
   ]
  },
  {
   "cell_type": "code",
   "execution_count": 39,
   "id": "00fa7d9e",
   "metadata": {},
   "outputs": [],
   "source": [
    "@memoize_fib\n",
    "def fib(n):\n",
    "    print('Caculating fib({0})'.format(n))\n",
    "    return 1 if n < 3 else fib(n-1) + fib(n-2)"
   ]
  },
  {
   "cell_type": "code",
   "execution_count": 40,
   "id": "fdf97b2e",
   "metadata": {},
   "outputs": [
    {
     "name": "stdout",
     "output_type": "stream",
     "text": [
      "Calculating 6!\n"
     ]
    }
   ],
   "source": [
    "fact(6)"
   ]
  },
  {
   "cell_type": "code",
   "execution_count": 41,
   "id": "eb3556ac",
   "metadata": {},
   "outputs": [
    {
     "name": "stdout",
     "output_type": "stream",
     "text": [
      "Calculating 6!\n"
     ]
    }
   ],
   "source": [
    "fact(6)"
   ]
  },
  {
   "cell_type": "code",
   "execution_count": 46,
   "id": "aa92532a",
   "metadata": {},
   "outputs": [],
   "source": [
    "from functools import lru_cache"
   ]
  },
  {
   "cell_type": "code",
   "execution_count": 47,
   "id": "b1ca6e46",
   "metadata": {},
   "outputs": [],
   "source": [
    "@lru_cache\n",
    "def fib(n):\n",
    "    print('Caculating fib({0})'.format(n))\n",
    "    return 1 if n < 3 else fib (n-1) + fib(n-2)"
   ]
  },
  {
   "cell_type": "code",
   "execution_count": 48,
   "id": "adc96bb2",
   "metadata": {},
   "outputs": [
    {
     "name": "stdout",
     "output_type": "stream",
     "text": [
      "Caculating fib(10)\n",
      "Caculating fib(9)\n",
      "Caculating fib(8)\n",
      "Caculating fib(7)\n",
      "Caculating fib(6)\n",
      "Caculating fib(5)\n",
      "Caculating fib(4)\n",
      "Caculating fib(3)\n",
      "Caculating fib(2)\n",
      "Caculating fib(1)\n"
     ]
    },
    {
     "data": {
      "text/plain": [
       "55"
      ]
     },
     "execution_count": 48,
     "metadata": {},
     "output_type": "execute_result"
    }
   ],
   "source": [
    "fib(10)"
   ]
  },
  {
   "cell_type": "code",
   "execution_count": 49,
   "id": "083e0bba",
   "metadata": {},
   "outputs": [
    {
     "name": "stdout",
     "output_type": "stream",
     "text": [
      "Caculating fib(11)\n"
     ]
    },
    {
     "data": {
      "text/plain": [
       "89"
      ]
     },
     "execution_count": 49,
     "metadata": {},
     "output_type": "execute_result"
    }
   ],
   "source": [
    "fib(11)"
   ]
  },
  {
   "cell_type": "code",
   "execution_count": 51,
   "id": "b2c96301",
   "metadata": {},
   "outputs": [],
   "source": [
    "@lru_cache(maxsize=8)\n",
    "def fib(n):\n",
    "    print('Caculating fib({0})'.format(n))\n",
    "    return 1 if n < 3 else fib (n-1) + fib(n-2)"
   ]
  },
  {
   "cell_type": "code",
   "execution_count": 52,
   "id": "10c7d058",
   "metadata": {},
   "outputs": [
    {
     "name": "stdout",
     "output_type": "stream",
     "text": [
      "Caculating fib(8)\n",
      "Caculating fib(7)\n",
      "Caculating fib(6)\n",
      "Caculating fib(5)\n",
      "Caculating fib(4)\n",
      "Caculating fib(3)\n",
      "Caculating fib(2)\n",
      "Caculating fib(1)\n"
     ]
    },
    {
     "data": {
      "text/plain": [
       "21"
      ]
     },
     "execution_count": 52,
     "metadata": {},
     "output_type": "execute_result"
    }
   ],
   "source": [
    "fib(8)"
   ]
  },
  {
   "cell_type": "code",
   "execution_count": 54,
   "id": "0d3d7282",
   "metadata": {},
   "outputs": [
    {
     "data": {
      "text/plain": [
       "34"
      ]
     },
     "execution_count": 54,
     "metadata": {},
     "output_type": "execute_result"
    }
   ],
   "source": [
    "fib(9)"
   ]
  },
  {
   "cell_type": "code",
   "execution_count": 55,
   "id": "cd951cfd",
   "metadata": {},
   "outputs": [
    {
     "data": {
      "text/plain": [
       "34"
      ]
     },
     "execution_count": 55,
     "metadata": {},
     "output_type": "execute_result"
    }
   ],
   "source": [
    "fib(9)"
   ]
  },
  {
   "cell_type": "code",
   "execution_count": null,
   "id": "a5099c13",
   "metadata": {},
   "outputs": [],
   "source": []
  }
 ],
 "metadata": {
  "interpreter": {
   "hash": "271b16e32643126b7024f63cf764ef756572347d38ff6b64b3eb967ec600215f"
  },
  "kernelspec": {
   "display_name": "Python 3",
   "language": "python",
   "name": "python3"
  },
  "language_info": {
   "codemirror_mode": {
    "name": "ipython",
    "version": 3
   },
   "file_extension": ".py",
   "mimetype": "text/x-python",
   "name": "python",
   "nbconvert_exporter": "python",
   "pygments_lexer": "ipython3",
   "version": "3.8.8"
  }
 },
 "nbformat": 4,
 "nbformat_minor": 5
}
