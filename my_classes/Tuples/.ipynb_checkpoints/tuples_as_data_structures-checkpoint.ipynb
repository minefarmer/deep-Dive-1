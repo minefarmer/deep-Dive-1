{
 "cells": [
  {
   "cell_type": "markdown",
   "id": "5db6e508",
   "metadata": {},
   "source": [
    "Tuples as Data Structeres"
   ]
  },
  {
   "cell_type": "code",
   "execution_count": null,
   "id": "c3c605bc",
   "metadata": {},
   "outputs": [],
   "source": []
  },
  {
   "cell_type": "markdown",
   "id": "f25997cd",
   "metadata": {},
   "source": [
    "TODO: 119 tuples as data structures"
   ]
  },
  {
   "cell_type": "markdown",
   "id": "64733505",
   "metadata": {},
   "source": []
  }
 ],
 "metadata": {
  "kernelspec": {
   "display_name": "Python 3",
   "language": "python",
   "name": "python3"
  },
  "language_info": {
   "codemirror_mode": {
    "name": "ipython",
    "version": 3
   },
   "file_extension": ".py",
   "mimetype": "text/x-python",
   "name": "python",
   "nbconvert_exporter": "python",
   "pygments_lexer": "ipython3",
   "version": "3.8.10"
  }
 },
 "nbformat": 4,
 "nbformat_minor": 5
}
