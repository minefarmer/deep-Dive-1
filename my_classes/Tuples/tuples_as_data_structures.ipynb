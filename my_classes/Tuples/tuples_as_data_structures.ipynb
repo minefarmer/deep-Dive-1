{
 "cells": [
  {
   "cell_type": "markdown",
   "id": "55078b1b",
   "metadata": {},
   "source": [
    "Tuples as Data Structures"
   ]
  },
  {
   "cell_type": "code",
   "execution_count": 1,
   "id": "79b23506",
   "metadata": {},
   "outputs": [
    {
     "data": {
      "text/plain": [
       "(10, 20, 30)"
      ]
     },
     "execution_count": 1,
     "metadata": {},
     "output_type": "execute_result"
    }
   ],
   "source": [
    "(10, 20, 30)"
   ]
  },
  {
   "cell_type": "code",
   "execution_count": 2,
   "id": "806fe469",
   "metadata": {},
   "outputs": [],
   "source": [
    "a = (10, 20, 30)\n",
    "b = 10, 20, 30"
   ]
  },
  {
   "cell_type": "code",
   "execution_count": 3,
   "id": "3557dbf5",
   "metadata": {},
   "outputs": [
    {
     "data": {
      "text/plain": [
       "tuple"
      ]
     },
     "execution_count": 3,
     "metadata": {},
     "output_type": "execute_result"
    }
   ],
   "source": [
    "type(a)"
   ]
  },
  {
   "cell_type": "code",
   "execution_count": null,
   "id": "739dc905",
   "metadata": {},
   "outputs": [],
   "source": []
  },
  {
   "cell_type": "code",
   "execution_count": 4,
   "id": "6afff2f6",
   "metadata": {},
   "outputs": [],
   "source": [
    "def print_tuple(t):\n",
    "    for e in t:\n",
    "        print(e)"
   ]
  },
  {
   "cell_type": "code",
   "execution_count": 5,
   "id": "180896a5",
   "metadata": {},
   "outputs": [
    {
     "name": "stdout",
     "output_type": "stream",
     "text": [
      "10\n",
      "30\n",
      "30\n"
     ]
    }
   ],
   "source": [
    "print_tuple((10, 30, 30))"
   ]
  },
  {
   "cell_type": "code",
   "execution_count": 6,
   "id": "7f5ad8dd",
   "metadata": {},
   "outputs": [],
   "source": [
    "a = 'a', 10, 300"
   ]
  },
  {
   "cell_type": "code",
   "execution_count": 7,
   "id": "baed1e91",
   "metadata": {},
   "outputs": [
    {
     "data": {
      "text/plain": [
       "'a'"
      ]
     },
     "execution_count": 7,
     "metadata": {},
     "output_type": "execute_result"
    }
   ],
   "source": [
    "a[0]"
   ]
  },
  {
   "cell_type": "code",
   "execution_count": 8,
   "id": "8f16d5a9",
   "metadata": {},
   "outputs": [
    {
     "data": {
      "text/plain": [
       "10"
      ]
     },
     "execution_count": 8,
     "metadata": {},
     "output_type": "execute_result"
    }
   ],
   "source": [
    "a[1]"
   ]
  },
  {
   "cell_type": "code",
   "execution_count": 9,
   "id": "c26a4b0b",
   "metadata": {},
   "outputs": [],
   "source": [
    "a = 1, 2, 3, 4, 5, 6"
   ]
  },
  {
   "cell_type": "code",
   "execution_count": 10,
   "id": "eced29ad",
   "metadata": {},
   "outputs": [
    {
     "data": {
      "text/plain": [
       "tuple"
      ]
     },
     "execution_count": 10,
     "metadata": {},
     "output_type": "execute_result"
    }
   ],
   "source": [
    "type(a)"
   ]
  },
  {
   "cell_type": "code",
   "execution_count": 11,
   "id": "c757810b",
   "metadata": {},
   "outputs": [
    {
     "data": {
      "text/plain": [
       "(3, 4, 5)"
      ]
     },
     "execution_count": 11,
     "metadata": {},
     "output_type": "execute_result"
    }
   ],
   "source": [
    "a[2:5]"
   ]
  },
  {
   "cell_type": "code",
   "execution_count": 12,
   "id": "25094b3e",
   "metadata": {},
   "outputs": [
    {
     "name": "stdout",
     "output_type": "stream",
     "text": [
      "1\n",
      "2\n",
      "3\n",
      "4\n",
      "5\n",
      "6\n"
     ]
    }
   ],
   "source": [
    "for e in a:\n",
    "    print(e)"
   ]
  },
  {
   "cell_type": "code",
   "execution_count": 13,
   "id": "dc43174f",
   "metadata": {},
   "outputs": [],
   "source": [
    "a = 'a', 10, 20"
   ]
  },
  {
   "cell_type": "code",
   "execution_count": 14,
   "id": "e7f1fde4",
   "metadata": {},
   "outputs": [],
   "source": [
    "x, y, z = a"
   ]
  },
  {
   "cell_type": "code",
   "execution_count": 15,
   "id": "0f5a0519",
   "metadata": {},
   "outputs": [
    {
     "data": {
      "text/plain": [
       "'a'"
      ]
     },
     "execution_count": 15,
     "metadata": {},
     "output_type": "execute_result"
    }
   ],
   "source": [
    "x"
   ]
  },
  {
   "cell_type": "code",
   "execution_count": 16,
   "id": "356f086f",
   "metadata": {},
   "outputs": [
    {
     "data": {
      "text/plain": [
       "20"
      ]
     },
     "execution_count": 16,
     "metadata": {},
     "output_type": "execute_result"
    }
   ],
   "source": [
    "z"
   ]
  },
  {
   "cell_type": "code",
   "execution_count": 17,
   "id": "8ed25d1e",
   "metadata": {},
   "outputs": [],
   "source": [
    "a = 1, 2, 3, 4, 5"
   ]
  },
  {
   "cell_type": "code",
   "execution_count": 18,
   "id": "ad9401fb",
   "metadata": {},
   "outputs": [],
   "source": [
    "x, *other, y, z = a"
   ]
  },
  {
   "cell_type": "code",
   "execution_count": 19,
   "id": "14985bca",
   "metadata": {},
   "outputs": [
    {
     "data": {
      "text/plain": [
       "1"
      ]
     },
     "execution_count": 19,
     "metadata": {},
     "output_type": "execute_result"
    }
   ],
   "source": [
    "x"
   ]
  },
  {
   "cell_type": "code",
   "execution_count": 20,
   "id": "36f86f3d",
   "metadata": {},
   "outputs": [
    {
     "data": {
      "text/plain": [
       "4"
      ]
     },
     "execution_count": 20,
     "metadata": {},
     "output_type": "execute_result"
    }
   ],
   "source": [
    "y"
   ]
  },
  {
   "cell_type": "code",
   "execution_count": 21,
   "id": "d2239d6e",
   "metadata": {},
   "outputs": [
    {
     "data": {
      "text/plain": [
       "[2, 3]"
      ]
     },
     "execution_count": 21,
     "metadata": {},
     "output_type": "execute_result"
    }
   ],
   "source": [
    "other"
   ]
  },
  {
   "cell_type": "code",
   "execution_count": 22,
   "id": "9e327d15",
   "metadata": {},
   "outputs": [],
   "source": [
    "x, *_, y, z = a"
   ]
  },
  {
   "cell_type": "code",
   "execution_count": 23,
   "id": "f71c3d6c",
   "metadata": {},
   "outputs": [
    {
     "data": {
      "text/plain": [
       "(1, 4, 5)"
      ]
     },
     "execution_count": 23,
     "metadata": {},
     "output_type": "execute_result"
    }
   ],
   "source": [
    "x, y, z"
   ]
  },
  {
   "cell_type": "code",
   "execution_count": 24,
   "id": "464dd66e",
   "metadata": {},
   "outputs": [
    {
     "data": {
      "text/plain": [
       "[2, 3]"
      ]
     },
     "execution_count": 24,
     "metadata": {},
     "output_type": "execute_result"
    }
   ],
   "source": [
    "_"
   ]
  },
  {
   "cell_type": "code",
   "execution_count": 25,
   "id": "58c41bed",
   "metadata": {},
   "outputs": [
    {
     "data": {
      "text/plain": [
       "(1, 2, 3, 4, 5)"
      ]
     },
     "execution_count": 25,
     "metadata": {},
     "output_type": "execute_result"
    }
   ],
   "source": [
    "a"
   ]
  },
  {
   "cell_type": "code",
   "execution_count": 26,
   "id": "f4cc5e91",
   "metadata": {},
   "outputs": [
    {
     "data": {
      "text/plain": [
       "1"
      ]
     },
     "execution_count": 26,
     "metadata": {},
     "output_type": "execute_result"
    }
   ],
   "source": [
    "a[0]"
   ]
  },
  {
   "cell_type": "code",
   "execution_count": 27,
   "id": "8b9dce01",
   "metadata": {},
   "outputs": [
    {
     "ename": "TypeError",
     "evalue": "'tuple' object does not support item assignment",
     "output_type": "error",
     "traceback": [
      "\u001b[0;31m---------------------------------------------------------------------------\u001b[0m",
      "\u001b[0;31mTypeError\u001b[0m                                 Traceback (most recent call last)",
      "\u001b[0;32m<ipython-input-27-b6d7a4db9a51>\u001b[0m in \u001b[0;36m<module>\u001b[0;34m\u001b[0m\n\u001b[0;32m----> 1\u001b[0;31m \u001b[0ma\u001b[0m\u001b[0;34m[\u001b[0m\u001b[0;36m0\u001b[0m\u001b[0;34m]\u001b[0m \u001b[0;34m=\u001b[0m \u001b[0;36m100\u001b[0m\u001b[0;34m\u001b[0m\u001b[0;34m\u001b[0m\u001b[0m\n\u001b[0m",
      "\u001b[0;31mTypeError\u001b[0m: 'tuple' object does not support item assignment"
     ]
    }
   ],
   "source": [
    "a[0] = 100"
   ]
  },
  {
   "cell_type": "code",
   "execution_count": null,
   "id": "d5218b2a",
   "metadata": {},
   "outputs": [],
   "source": [
    "class Point2D:\n",
    "    def __init__(self, x, y):\n",
    "        self.x = x\n",
    "        self.y = y\n",
    "    \n",
    "    def __init__(self):\n",
    "        return f'{self.__class__.__name__}(x={self.x}, y={self.y})'\n"
   ]
  },
  {
   "cell_type": "code",
   "execution_count": null,
   "id": "a49af52d",
   "metadata": {},
   "outputs": [],
   "source": [
    "pt = Point2D(10, 20)"
   ]
  },
  {
   "cell_type": "code",
   "execution_count": null,
   "id": "7ffcdc4f",
   "metadata": {},
   "outputs": [],
   "source": [
    "pt.x =100"
   ]
  },
  {
   "cell_type": "code",
   "execution_count": null,
   "id": "28b161e8",
   "metadata": {},
   "outputs": [],
   "source": [
    "id(pt)"
   ]
  },
  {
   "cell_type": "code",
   "execution_count": null,
   "id": "196cca17",
   "metadata": {},
   "outputs": [],
   "source": [
    "pt.x = 100"
   ]
  },
  {
   "cell_type": "code",
   "execution_count": null,
   "id": "db12748b",
   "metadata": {},
   "outputs": [],
   "source": [
    "id(pt)"
   ]
  },
  {
   "cell_type": "code",
   "execution_count": null,
   "id": "08512943",
   "metadata": {},
   "outputs": [],
   "source": [
    "a = Point2D(0, 0), Point2D(10, 20)"
   ]
  },
  {
   "cell_type": "code",
   "execution_count": null,
   "id": "12733247",
   "metadata": {},
   "outputs": [],
   "source": [
    "id(a[0])"
   ]
  },
  {
   "cell_type": "code",
   "execution_count": null,
   "id": "f03791b5",
   "metadata": {},
   "outputs": [],
   "source": [
    "s = 'python'"
   ]
  },
  {
   "cell_type": "code",
   "execution_count": null,
   "id": "c45a9a73",
   "metadata": {},
   "outputs": [],
   "source": [
    "id(s)"
   ]
  },
  {
   "cell_type": "code",
   "execution_count": null,
   "id": "b92407cd",
   "metadata": {},
   "outputs": [],
   "source": [
    "s = 'python' + \" rocks!\""
   ]
  },
  {
   "cell_type": "code",
   "execution_count": null,
   "id": "164007d6",
   "metadata": {},
   "outputs": [],
   "source": [
    "id(s)"
   ]
  },
  {
   "cell_type": "code",
   "execution_count": null,
   "id": "d2356f82",
   "metadata": {},
   "outputs": [],
   "source": [
    "a = 1, 2, 3"
   ]
  },
  {
   "cell_type": "code",
   "execution_count": null,
   "id": "ddc1f5ec",
   "metadata": {},
   "outputs": [],
   "source": [
    "id(a)"
   ]
  },
  {
   "cell_type": "code",
   "execution_count": null,
   "id": "1ebd470c",
   "metadata": {},
   "outputs": [],
   "source": [
    "a += (4, 5)"
   ]
  },
  {
   "cell_type": "code",
   "execution_count": null,
   "id": "22a4b224",
   "metadata": {},
   "outputs": [],
   "source": [
    "a"
   ]
  },
  {
   "cell_type": "code",
   "execution_count": null,
   "id": "a523439b",
   "metadata": {},
   "outputs": [],
   "source": [
    "id(a)"
   ]
  },
  {
   "cell_type": "code",
   "execution_count": null,
   "id": "5c9d4fb2",
   "metadata": {},
   "outputs": [],
   "source": [
    "a = a + (4, 5)"
   ]
  },
  {
   "cell_type": "code",
   "execution_count": null,
   "id": "2fc9db55",
   "metadata": {},
   "outputs": [],
   "source": [
    "pt1 = (0, 0)\n",
    "pt2 = (10, 20)"
   ]
  },
  {
   "cell_type": "code",
   "execution_count": null,
   "id": "0e46da17",
   "metadata": {},
   "outputs": [],
   "source": [
    "london = 'London', 'UK', 8_780_000\n",
    "new_york = \"new_york\", 'USA', 8_500_000\n",
    "beijing = 'Beijing', 'China', 21_000-000"
   ]
  },
  {
   "cell_type": "code",
   "execution_count": null,
   "id": "ea475963",
   "metadata": {},
   "outputs": [],
   "source": [
    "london"
   ]
  },
  {
   "cell_type": "code",
   "execution_count": null,
   "id": "d26c0bd2",
   "metadata": {},
   "outputs": [],
   "source": [
    "cities = [london, new_york, beijing]"
   ]
  },
  {
   "cell_type": "code",
   "execution_count": null,
   "id": "08d47fc9",
   "metadata": {},
   "outputs": [],
   "source": [
    "record = 'DJIA', 2018, 1, 19, 25_987, 26_072, 25_942, 26_072"
   ]
  },
  {
   "cell_type": "code",
   "execution_count": null,
   "id": "45778f4a",
   "metadata": {},
   "outputs": [],
   "source": [
    "symbol, year, month, day, open_, high, low, close = record"
   ]
  },
  {
   "cell_type": "code",
   "execution_count": null,
   "id": "c9775fc6",
   "metadata": {},
   "outputs": [],
   "source": [
    "symbol"
   ]
  },
  {
   "cell_type": "code",
   "execution_count": null,
   "id": "4e65adeb",
   "metadata": {},
   "outputs": [],
   "source": [
    "close"
   ]
  },
  {
   "cell_type": "code",
   "execution_count": null,
   "id": "b3eb62cd",
   "metadata": {},
   "outputs": [],
   "source": [
    "symbol, *_, close = record"
   ]
  },
  {
   "cell_type": "code",
   "execution_count": null,
   "id": "c861fe7d",
   "metadata": {},
   "outputs": [],
   "source": [
    "symbol, close"
   ]
  },
  {
   "cell_type": "code",
   "execution_count": null,
   "id": "4945dcb0",
   "metadata": {},
   "outputs": [],
   "source": [
    "print(_)"
   ]
  },
  {
   "cell_type": "code",
   "execution_count": null,
   "id": "b36703b1",
   "metadata": {},
   "outputs": [],
   "source": [
    "for city in cities:\n",
    "    print(city)"
   ]
  },
  {
   "cell_type": "code",
   "execution_count": null,
   "id": "6c569407",
   "metadata": {},
   "outputs": [],
   "source": [
    "for city, country, population in cities:\n",
    "    print(city, country, population)"
   ]
  },
  {
   "cell_type": "markdown",
   "id": "dacc4e80",
   "metadata": {},
   "source": [
    "1119 17:54"
   ]
  },
  {
   "cell_type": "code",
   "execution_count": null,
   "id": "778375ca",
   "metadata": {},
   "outputs": [],
   "source": []
  }
 ],
 "metadata": {
  "interpreter": {
   "hash": "271b16e32643126b7024f63cf764ef756572347d38ff6b64b3eb967ec600215f"
  },
  "kernelspec": {
   "display_name": "Python 3",
   "language": "python",
   "name": "python3"
  },
  "language_info": {
   "codemirror_mode": {
    "name": "ipython",
    "version": 3
   },
   "file_extension": ".py",
   "mimetype": "text/x-python",
   "name": "python",
   "nbconvert_exporter": "python",
   "pygments_lexer": "ipython3",
   "version": "3.8.8"
  }
 },
 "nbformat": 4,
 "nbformat_minor": 5
}
