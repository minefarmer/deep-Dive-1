{
 "cells": [
  {
   "cell_type": "markdown",
   "id": "a26a753f",
   "metadata": {},
   "source": [
    "The For Loop"
   ]
  },
  {
   "cell_type": "markdown",
   "id": "91cfc6c3",
   "metadata": {},
   "source": [
    "In Python, an iterable is an object capable of returning values one at a time."
   ]
  },
  {
   "cell_type": "code",
   "execution_count": 1,
   "id": "db201ac0",
   "metadata": {},
   "outputs": [
    {
     "name": "stdout",
     "output_type": "stream",
     "text": [
      "0\n",
      "1\n",
      "2\n",
      "3\n",
      "4\n"
     ]
    }
   ],
   "source": [
    "i = 0\n",
    "while i < 5:\n",
    "    print(i)\n",
    "    i += 1\n",
    "i = None"
   ]
  },
  {
   "cell_type": "code",
   "execution_count": 2,
   "id": "0750cc05",
   "metadata": {},
   "outputs": [
    {
     "name": "stdout",
     "output_type": "stream",
     "text": [
      "0\n",
      "1\n",
      "2\n",
      "3\n",
      "4\n"
     ]
    }
   ],
   "source": [
    "for i in range(5):\n",
    "    print(i)"
   ]
  },
  {
   "cell_type": "code",
   "execution_count": 3,
   "id": "c4252c92",
   "metadata": {},
   "outputs": [
    {
     "name": "stdout",
     "output_type": "stream",
     "text": [
      "1\n",
      "2\n",
      "3\n",
      "4\n"
     ]
    }
   ],
   "source": [
    "for i in [1,2, 3, 4]:\n",
    "    print(i)"
   ]
  },
  {
   "cell_type": "code",
   "execution_count": 4,
   "id": "c2a8bb64",
   "metadata": {},
   "outputs": [
    {
     "name": "stdout",
     "output_type": "stream",
     "text": [
      "h\n",
      "e\n",
      "l\n",
      "l\n",
      "o\n"
     ]
    }
   ],
   "source": [
    "for c in 'hello':\n",
    "    print(c)"
   ]
  },
  {
   "cell_type": "code",
   "execution_count": 7,
   "id": "ff3ed43f",
   "metadata": {},
   "outputs": [
    {
     "name": "stdout",
     "output_type": "stream",
     "text": [
      "a\n",
      "b\n",
      "c\n",
      "4\n"
     ]
    }
   ],
   "source": [
    "for x in ('a', 'b', 'c', 4):\n",
    "    print(x)"
   ]
  },
  {
   "cell_type": "code",
   "execution_count": 8,
   "id": "47f76ed6",
   "metadata": {},
   "outputs": [
    {
     "name": "stdout",
     "output_type": "stream",
     "text": [
      "1 2\n",
      "3 4\n",
      "5 6\n"
     ]
    }
   ],
   "source": [
    "for i, j in[(1, 2), (3, 4), (5, 6)]:\n",
    "    print(i, j)"
   ]
  },
  {
   "cell_type": "code",
   "execution_count": 9,
   "id": "210ba9c0",
   "metadata": {},
   "outputs": [
    {
     "name": "stdout",
     "output_type": "stream",
     "text": [
      "0\n",
      "1\n",
      "2\n",
      "4\n"
     ]
    }
   ],
   "source": [
    "for i in range(5):\n",
    "    if i==3:\n",
    "        continue\n",
    "    print(i)"
   ]
  },
  {
   "cell_type": "code",
   "execution_count": 10,
   "id": "f397486a",
   "metadata": {},
   "outputs": [
    {
     "name": "stdout",
     "output_type": "stream",
     "text": [
      "0\n",
      "1\n",
      "2\n"
     ]
    }
   ],
   "source": [
    "for i in range(5):\n",
    "    if i==3:\n",
    "        break\n",
    "    print(i)"
   ]
  },
  {
   "cell_type": "code",
   "execution_count": 16,
   "id": "fb17b58f",
   "metadata": {},
   "outputs": [
    {
     "name": "stdout",
     "output_type": "stream",
     "text": [
      "1\n",
      "2\n",
      "3\n",
      "4\n",
      "no multiples of 7 in the range\n"
     ]
    }
   ],
   "source": [
    "for i in range(1, 5):\n",
    "    print(i)\n",
    "    if i % 7 == 0:\n",
    "        print('multiple of 7 found')\n",
    "        break\n",
    "\n",
    "else:\n",
    "    print('no multiples of 7 in the range')"
   ]
  },
  {
   "cell_type": "code",
   "execution_count": 17,
   "id": "2b57064a",
   "metadata": {},
   "outputs": [
    {
     "name": "stdout",
     "output_type": "stream",
     "text": [
      "1\n",
      "2\n",
      "3\n",
      "4\n",
      "5\n",
      "6\n",
      "7\n",
      "multiple of 7 found\n"
     ]
    }
   ],
   "source": [
    "for i in range(1, 8):\n",
    "    print(i)\n",
    "    if i % 7 == 0:\n",
    "        print('multiple of 7 found')\n",
    "        break\n",
    "\n",
    "else:\n",
    "    print('no multiples of 7 in the range')"
   ]
  },
  {
   "cell_type": "code",
   "execution_count": 18,
   "id": "13af2a0d",
   "metadata": {},
   "outputs": [
    {
     "name": "stdout",
     "output_type": "stream",
     "text": [
      "----------------\n",
      "always run\n",
      "0\n",
      "----------------\n",
      "always run\n",
      "1\n",
      "----------------\n",
      "always run\n",
      "2\n",
      "----------------\n",
      "divided by 0\n",
      "always run\n",
      "----------------\n",
      "always run\n",
      "4\n"
     ]
    }
   ],
   "source": [
    "for i in range(5):\n",
    "    print('----------------')\n",
    "    try:\n",
    "        10 / (i-3)\n",
    "    except ZeroDivisionError:\n",
    "        print('divided by 0')\n",
    "        continue\n",
    "    finally:\n",
    "        print(\"always run\")\n",
    "\n",
    "    print(i)"
   ]
  },
  {
   "cell_type": "code",
   "execution_count": 19,
   "id": "e742c2cc",
   "metadata": {},
   "outputs": [
    {
     "name": "stdout",
     "output_type": "stream",
     "text": [
      "h\n",
      "e\n",
      "l\n",
      "l\n",
      "o\n"
     ]
    }
   ],
   "source": [
    "s = 'hello'\n",
    "for c in s:\n",
    "    print(c)"
   ]
  },
  {
   "cell_type": "code",
   "execution_count": 20,
   "id": "09ec677c",
   "metadata": {},
   "outputs": [
    {
     "name": "stdout",
     "output_type": "stream",
     "text": [
      "0 h\n",
      "0 e\n",
      "0 l\n",
      "0 l\n",
      "0 o\n"
     ]
    }
   ],
   "source": [
    "s = 'hello'\n",
    "i = 0\n",
    "for c in s:\n",
    "    print(i, c)\n",
    "    i ++ 1"
   ]
  },
  {
   "cell_type": "code",
   "execution_count": 21,
   "id": "dff9f308",
   "metadata": {},
   "outputs": [
    {
     "name": "stdout",
     "output_type": "stream",
     "text": [
      "0 h\n",
      "1 e\n",
      "2 l\n",
      "3 l\n",
      "4 o\n"
     ]
    }
   ],
   "source": [
    "s ='hello'\n",
    "\n",
    "for i in range(len(s)):\n",
    "    print(i, s[i])"
   ]
  },
  {
   "cell_type": "code",
   "execution_count": 22,
   "id": "8d0812bc",
   "metadata": {},
   "outputs": [
    {
     "name": "stdout",
     "output_type": "stream",
     "text": [
      "0 h\n",
      "1 e\n",
      "2 l\n",
      "3 l\n",
      "4 o\n"
     ]
    }
   ],
   "source": [
    "s ='hello'\n",
    "\n",
    "for i, c in enumerate(s):\n",
    "    print(i, c)"
   ]
  }
 ],
 "metadata": {
  "kernelspec": {
   "display_name": "Python 3.9.7 ('base')",
   "language": "python",
   "name": "python3"
  },
  "language_info": {
   "codemirror_mode": {
    "name": "ipython",
    "version": 3
   },
   "file_extension": ".py",
   "mimetype": "text/x-python",
   "name": "python",
   "nbconvert_exporter": "python",
   "pygments_lexer": "ipython3",
   "version": "3.9.7"
  },
  "vscode": {
   "interpreter": {
    "hash": "ad2bdc8ecc057115af97d19610ffacc2b4e99fae6737bb82f5d7fb13d2f2c186"
   }
  }
 },
 "nbformat": 4,
 "nbformat_minor": 5
}
