{
 "cells": [
  {
   "cell_type": "markdown",
   "id": "e2147c44",
   "metadata": {},
   "source": [
    "Importing Modules"
   ]
  },
  {
   "cell_type": "markdown",
   "id": "7cc5ecb7",
   "metadata": {},
   "source": [
    "When we run a statement such as\n",
    "    import fractions\n",
    "what is Python actually doing"
   ]
  },
  {
   "cell_type": "markdown",
   "id": "47b90ef9",
   "metadata": {},
   "source": [
    "The first thing to note is that Python is doing the import at run time, i.e. while my code is running.\n",
    "\n",
    "This is different from traditional compiled languages such as C where modules are compiled an linked at compile time.\n",
    "\n",
    "In both cases though, the system needs to know where those code files exist.\n",
    "\n",
    "Python uses a relatively complex system of how to find and load modules. He's not going to even attempt to describe this in detail, but we'll take a brief looks at the main points"
   ]
  },
  {
   "cell_type": "markdown",
   "id": "6efdc5ab",
   "metadata": {},
   "source": [
    "The sys module has a few properties that define where Python is going to look for modules (either built-in or standard library as well as our own or 3rd party):"
   ]
  },
  {
   "cell_type": "code",
   "execution_count": 1,
   "id": "f1702f84",
   "metadata": {},
   "outputs": [],
   "source": [
    "import sys"
   ]
  },
  {
   "cell_type": "markdown",
   "id": "a1ec9cfb",
   "metadata": {},
   "source": [
    "Where is python installed?"
   ]
  },
  {
   "cell_type": "code",
   "execution_count": 2,
   "id": "9cee9737",
   "metadata": {},
   "outputs": [
    {
     "data": {
      "text/plain": [
       "'/home/carl/anaconda3'"
      ]
     },
     "execution_count": 2,
     "metadata": {},
     "output_type": "execute_result"
    }
   ],
   "source": [
    "sys.prefix"
   ]
  },
  {
   "cell_type": "markdown",
   "id": "c16050cf",
   "metadata": {},
   "source": [
    "Where are the compiled c binaries located?"
   ]
  },
  {
   "cell_type": "code",
   "execution_count": 3,
   "id": "31d8b87f",
   "metadata": {},
   "outputs": [
    {
     "data": {
      "text/plain": [
       "'/home/carl/anaconda3'"
      ]
     },
     "execution_count": 3,
     "metadata": {},
     "output_type": "execute_result"
    }
   ],
   "source": [
    "sys.exec_prefix"
   ]
  },
  {
   "cell_type": "markdown",
   "id": "ea438002",
   "metadata": {},
   "source": [
    "These two properties are how virtual environments are basically able to work with different environments. Python is installed to  a different set of directories, and these prefixes are manipulated to reflect the current Python location."
   ]
  },
  {
   "cell_type": "markdown",
   "id": "dbf8e72c",
   "metadata": {},
   "source": [
    "Where does Python look for imports?"
   ]
  },
  {
   "cell_type": "code",
   "execution_count": 4,
   "id": "d0418caf",
   "metadata": {},
   "outputs": [
    {
     "data": {
      "text/plain": [
       "['/home/carl/Desktop/Matshub/deep-Dive-1/class_notes/modules-packages_namespaces/Modules',\n",
       " '/home/carl/anaconda3/lib/python39.zip',\n",
       " '/home/carl/anaconda3/lib/python3.9',\n",
       " '/home/carl/anaconda3/lib/python3.9/lib-dynload',\n",
       " '',\n",
       " '/home/carl/.local/lib/python3.9/site-packages',\n",
       " '/home/carl/anaconda3/lib/python3.9/site-packages']"
      ]
     },
     "execution_count": 4,
     "metadata": {},
     "output_type": "execute_result"
    }
   ],
   "source": [
    "sys.path"
   ]
  },
  {
   "cell_type": "markdown",
   "id": "ebdef234",
   "metadata": {},
   "source": [
    "Basically when we import a module, Python will search for the module in the paths contained in sys.path.\n",
    "\n",
    "If it does not find the module in one of these paths, the import will fail.\n",
    "\n",
    "So if I ever run into a problem where Python is not able to import a module or package, I should check this first to make sure the path to my module/package is on that list."
   ]
  },
  {
   "cell_type": "markdown",
   "id": "8137a334",
   "metadata": {},
   "source": [
    "Checks the sys.modules cache to see if the module has already been imported - if so, it simply uses the reference in there, otherwise:\n",
    "creates a new module object (types.ModuleType)\n",
    "loads the source code from file.\n",
    "Adds an entry to sys.modules with the name as key and the newly created module.\n",
    "compiles and executes the source code."
   ]
  }
 ],
 "metadata": {
  "kernelspec": {
   "display_name": "Python 3 (ipykernel)",
   "language": "python",
   "name": "python3"
  },
  "language_info": {
   "codemirror_mode": {
    "name": "ipython",
    "version": 3
   },
   "file_extension": ".py",
   "mimetype": "text/x-python",
   "name": "python",
   "nbconvert_exporter": "python",
   "pygments_lexer": "ipython3",
   "version": "3.9.12"
  },
  "vscode": {
   "interpreter": {
    "hash": "143d2740fa7885280d88cdaad3dbdadb51fa40347825ef5e3d2acba7c4a72194"
   }
  }
 },
 "nbformat": 4,
 "nbformat_minor": 5
}
