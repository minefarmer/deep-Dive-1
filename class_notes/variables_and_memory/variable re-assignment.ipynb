{
 "cells": [
  {
   "cell_type": "markdown",
   "id": "77b3cb4b",
   "metadata": {},
   "source": [
    "                    Variable Re-assignment"
   ]
  },
  {
   "cell_type": "code",
   "execution_count": 1,
   "id": "b45f26c8",
   "metadata": {},
   "outputs": [],
   "source": [
    "a = 10"
   ]
  },
  {
   "cell_type": "code",
   "execution_count": 2,
   "id": "82d4bce2",
   "metadata": {},
   "outputs": [
    {
     "data": {
      "text/plain": [
       "'0x2277cd46a50'"
      ]
     },
     "execution_count": 2,
     "metadata": {},
     "output_type": "execute_result"
    }
   ],
   "source": [
    "hex(id(a))"
   ]
  },
  {
   "cell_type": "code",
   "execution_count": 3,
   "id": "09f2c4d7",
   "metadata": {},
   "outputs": [
    {
     "data": {
      "text/plain": [
       "int"
      ]
     },
     "execution_count": 3,
     "metadata": {},
     "output_type": "execute_result"
    }
   ],
   "source": [
    "type(a)"
   ]
  },
  {
   "cell_type": "code",
   "execution_count": 4,
   "id": "c6de468c",
   "metadata": {},
   "outputs": [],
   "source": [
    " a = 15"
   ]
  },
  {
   "cell_type": "code",
   "execution_count": 5,
   "id": "79939bbe",
   "metadata": {},
   "outputs": [
    {
     "data": {
      "text/plain": [
       "'0x2277cd46af0'"
      ]
     },
     "execution_count": 5,
     "metadata": {},
     "output_type": "execute_result"
    }
   ],
   "source": [
    "hex(id(a))"
   ]
  },
  {
   "cell_type": "code",
   "execution_count": 6,
   "id": "61dbcf29",
   "metadata": {},
   "outputs": [],
   "source": [
    "a = a + 1"
   ]
  },
  {
   "cell_type": "code",
   "execution_count": 7,
   "id": "60ac91b4",
   "metadata": {},
   "outputs": [
    {
     "data": {
      "text/plain": [
       "'0x2277cd46b10'"
      ]
     },
     "execution_count": 7,
     "metadata": {},
     "output_type": "execute_result"
    }
   ],
   "source": [
    "hex(id(a))"
   ]
  },
  {
   "cell_type": "code",
   "execution_count": 8,
   "id": "675776cd",
   "metadata": {},
   "outputs": [
    {
     "data": {
      "text/plain": [
       "16"
      ]
     },
     "execution_count": 8,
     "metadata": {},
     "output_type": "execute_result"
    }
   ],
   "source": [
    "a"
   ]
  },
  {
   "cell_type": "code",
   "execution_count": 9,
   "id": "aaa77059",
   "metadata": {},
   "outputs": [],
   "source": [
    "a = 10\n",
    "b = 10"
   ]
  },
  {
   "cell_type": "code",
   "execution_count": 10,
   "id": "2a95277b",
   "metadata": {},
   "outputs": [
    {
     "data": {
      "text/plain": [
       "'0x2277cd46a50'"
      ]
     },
     "execution_count": 10,
     "metadata": {},
     "output_type": "execute_result"
    }
   ],
   "source": [
    "hex(id(a))"
   ]
  },
  {
   "cell_type": "code",
   "execution_count": 11,
   "id": "9fdcd77f",
   "metadata": {},
   "outputs": [
    {
     "data": {
      "text/plain": [
       "'0x2277cd46a50'"
      ]
     },
     "execution_count": 11,
     "metadata": {},
     "output_type": "execute_result"
    }
   ],
   "source": [
    "hex(id(b))"
   ]
  }
 ],
 "metadata": {
  "kernelspec": {
   "display_name": "Python 3.9.13 64-bit (microsoft store)",
   "language": "python",
   "name": "python3"
  },
  "language_info": {
   "codemirror_mode": {
    "name": "ipython",
    "version": 3
   },
   "file_extension": ".py",
   "mimetype": "text/x-python",
   "name": "python",
   "nbconvert_exporter": "python",
   "pygments_lexer": "ipython3",
   "version": "3.9.13"
  },
  "vscode": {
   "interpreter": {
    "hash": "ade0c43015c1571a0e966fe63d6ca9bc6f881f818ef80fb3cfba28dcf27f6d81"
   }
  }
 },
 "nbformat": 4,
 "nbformat_minor": 5
}
