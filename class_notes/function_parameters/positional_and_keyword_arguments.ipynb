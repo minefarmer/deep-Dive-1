{
 "cells": [
  {
   "cell_type": "markdown",
   "id": "9eb8d7dd",
   "metadata": {},
   "source": [
    "                    Positional and Keyword Arguments"
   ]
  },
  {
   "cell_type": "code",
   "execution_count": 1,
   "id": "5fb1b2ec",
   "metadata": {},
   "outputs": [],
   "source": [
    "def my_func(a, b, c):\n",
    "    print(\"a={0}, b={1}, c={2}\".format(a, b, c))"
   ]
  },
  {
   "cell_type": "code",
   "execution_count": 2,
   "id": "8a405bc8",
   "metadata": {},
   "outputs": [
    {
     "name": "stdout",
     "output_type": "stream",
     "text": [
      "a=1, b=2, c=3\n"
     ]
    }
   ],
   "source": [
    "my_func(1, 2, 3)"
   ]
  },
  {
   "cell_type": "code",
   "execution_count": 3,
   "id": "b1f1be36",
   "metadata": {},
   "outputs": [
    {
     "ename": "TypeError",
     "evalue": "my_func() missing 1 required positional argument: 'c'",
     "output_type": "error",
     "traceback": [
      "\u001b[1;31m---------------------------------------------------------------------------\u001b[0m",
      "\u001b[1;31mTypeError\u001b[0m                                 Traceback (most recent call last)",
      "\u001b[1;32mc:\\Users\\pgold\\MatsHub\\deep-Dive-1\\class_notes\\function_parameters\\positional_and_keyword_arguments.ipynb Cell 4\u001b[0m in \u001b[0;36m<cell line: 1>\u001b[1;34m()\u001b[0m\n\u001b[1;32m----> <a href='vscode-notebook-cell:/c%3A/Users/pgold/MatsHub/deep-Dive-1/class_notes/function_parameters/positional_and_keyword_arguments.ipynb#W3sZmlsZQ%3D%3D?line=0'>1</a>\u001b[0m my_func(\u001b[39m1\u001b[39;49m, \u001b[39m2\u001b[39;49m)\n",
      "\u001b[1;31mTypeError\u001b[0m: my_func() missing 1 required positional argument: 'c'"
     ]
    }
   ],
   "source": [
    "my_func(1, 2)  # missing the third positional arguments"
   ]
  },
  {
   "cell_type": "code",
   "execution_count": null,
   "id": "ecf53e7d",
   "metadata": {},
   "outputs": [
    {
     "ename": "SyntaxError",
     "evalue": "non-default argument follows default argument (861350368.py, line 1)",
     "output_type": "error",
     "traceback": [
      "\u001b[1;36m  Input \u001b[1;32mIn [5]\u001b[1;36m\u001b[0m\n\u001b[1;33m    def my_func(a, b=2, c):\u001b[0m\n\u001b[1;37m                         ^\u001b[0m\n\u001b[1;31mSyntaxError\u001b[0m\u001b[1;31m:\u001b[0m non-default argument follows default argument\n"
     ]
    }
   ],
   "source": [
    "def my_func(a, b=2, c):\n",
    "    print(\"a={0}, b={1}, c={2}\".format(a, b, c))"
   ]
  },
  {
   "cell_type": "code",
   "execution_count": 6,
   "id": "43f9f570",
   "metadata": {},
   "outputs": [],
   "source": [
    "def my_func(a=1, b=2, c=3):\n",
    "    print(\"a={0}, b={1}, c={2}\".format(a, b, c))"
   ]
  },
  {
   "cell_type": "code",
   "execution_count": null,
   "id": "2388ddea",
   "metadata": {},
   "outputs": [
    {
     "name": "stdout",
     "output_type": "stream",
     "text": [
      "a=10, b=20, c=30\n"
     ]
    }
   ],
   "source": [
    "my_func(10, 20, 30)"
   ]
  },
  {
   "cell_type": "code",
   "execution_count": null,
   "id": "4dd0ce5b",
   "metadata": {},
   "outputs": [
    {
     "name": "stdout",
     "output_type": "stream",
     "text": [
      "a=10, b=20, c=3\n"
     ]
    }
   ],
   "source": [
    "my_func(10, 20)"
   ]
  },
  {
   "cell_type": "code",
   "execution_count": null,
   "id": "b6f21fad",
   "metadata": {},
   "outputs": [
    {
     "name": "stdout",
     "output_type": "stream",
     "text": [
      "a=10, b=2, c=3\n"
     ]
    }
   ],
   "source": [
    "my_func(10)"
   ]
  },
  {
   "cell_type": "code",
   "execution_count": 7,
   "id": "13d7cba8",
   "metadata": {},
   "outputs": [
    {
     "name": "stdout",
     "output_type": "stream",
     "text": [
      "a=1, b=2, c=3\n"
     ]
    }
   ],
   "source": [
    "my_func()"
   ]
  },
  {
   "cell_type": "code",
   "execution_count": 4,
   "id": "84688766",
   "metadata": {},
   "outputs": [],
   "source": [
    "def my_func(a, b=2, c=3):\n",
    "    print(\"a={0}, b={1}, c={2}\".format(a, b, c))"
   ]
  },
  {
   "cell_type": "code",
   "execution_count": 5,
   "id": "94a96aa6",
   "metadata": {},
   "outputs": [
    {
     "name": "stdout",
     "output_type": "stream",
     "text": [
      "a=10, b=20, c=30\n"
     ]
    }
   ],
   "source": [
    "my_func(c=30, b=20, a=10)"
   ]
  },
  {
   "cell_type": "code",
   "execution_count": 8,
   "id": "edb39155",
   "metadata": {},
   "outputs": [
    {
     "name": "stdout",
     "output_type": "stream",
     "text": [
      "a=10, b=20, c=30\n"
     ]
    }
   ],
   "source": [
    "my_func(10, c=30, b=20)"
   ]
  },
  {
   "cell_type": "code",
   "execution_count": 9,
   "id": "2d66745e",
   "metadata": {},
   "outputs": [
    {
     "name": "stdout",
     "output_type": "stream",
     "text": [
      "a=10, b=2, c=30\n"
     ]
    }
   ],
   "source": [
    "my_func(10, c=30)"
   ]
  }
 ],
 "metadata": {
  "kernelspec": {
   "display_name": "Python 3.9.13 64-bit (microsoft store)",
   "language": "python",
   "name": "python3"
  },
  "language_info": {
   "codemirror_mode": {
    "name": "ipython",
    "version": 3
   },
   "file_extension": ".py",
   "mimetype": "text/x-python",
   "name": "python",
   "nbconvert_exporter": "python",
   "pygments_lexer": "ipython3",
   "version": "3.9.13"
  },
  "vscode": {
   "interpreter": {
    "hash": "ade0c43015c1571a0e966fe63d6ca9bc6f881f818ef80fb3cfba28dcf27f6d81"
   }
  }
 },
 "nbformat": 4,
 "nbformat_minor": 5
}
