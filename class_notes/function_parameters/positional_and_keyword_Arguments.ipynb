{
 "cells": [
  {
   "cell_type": "markdown",
   "id": "1887b74c",
   "metadata": {},
   "source": [
    "Positional and Keyword Arguments"
   ]
  },
  {
   "cell_type": "markdown",
   "id": "342e06f2",
   "metadata": {},
   "source": [
    "            Positional Arguments\n",
    "\n",
    "Most common way of assigning arguments to parameters: via the order in which they are passed.\n",
    "i.e. their position\n",
    "\n",
    "\n",
    "def my_func(a, b):\n",
    "    # code ...\n",
    "\n",
    "\n",
    "my_func(10, 20)     -> a = 10, b = 20\n",
    "\n",
    "my_func(20, 10)     -> a = 20, b = 10\n",
    "\n"
   ]
  },
  {
   "cell_type": "markdown",
   "id": "91d2e585",
   "metadata": {},
   "source": [
    "A positional arguments can be made optional by specifying a default value for the corresponding parameter.\n",
    "\n",
    "def my_func(a, b=100):          my_func(10, 20)     -> a = 10, b = 20\n",
    "    # code ...\n",
    "                                my_func(5)          -> a = 5, b = 100\n",
    "\n",
    "Consider a case where we have three arguments, and we want to make o0ne of them optional:\n",
    "<!-- This does not work\n",
    "def my_func(a, b=100, c):       How would we call this function without specifying a value for the second parameter?\n",
    "    # code ...\n",
    "                                my_func(5, 25)  ???     --->\n",
    "\n",
    "If a positional parameter is defined with a default value, every positional parameter after it must also be given a default value.\n",
    "<!-- This works -->\n",
    "\n",
    "def my_func(a, b = 5, c = 10):   <!-- Now I can call  -->   my_func(1)      result: -> a = 1, b = 2, c = 10\n",
    "    # code ...\n",
    "                                                            my_func(1, 2)   result: -> a= 1, b = 2, c = 10\n",
    "\n",
    "\n",
    "But what if I want to specify the first and third arguments, but omit the second argument?\n",
    "    i.e. we want to specify values for a and c, but let b take on it's default value?\n",
    "\n",
    "-> Keyword Arguments        (named arguments)\n",
    "\n",
    "my+func(a=1, c=2)           -> a = 1, b = 5, c = 2\n",
    "\n",
    "my_func(1, c=2)             -> a = 1, b = 5, c= 2\n",
    "\n"
   ]
  },
  {
   "cell_type": "markdown",
   "id": "f14d65c6",
   "metadata": {},
   "source": [
    "        Keyword Arguments\n",
    "\n",
    "Positional arguments cn, optionally, be specified by using the parameter name whether or not the parameters have default values.\n",
    "\n",
    "def my_func(a, b, c)        my_func(1, 2, 3)\n",
    "\n",
    "                            my_func(1, 2, c=3)\n",
    "                                                    -> a = 1, b = 2, b = 3\n",
    "                            my_func(a=1, b=2, c=3)\n",
    "\n",
    "But, once I use a named argument, all arguments thereafter must be named too.\n",
    "\n",
    "<!-- This will not work\n",
    "my_func(c=1, 2, 3)\n",
    "my_func(1, b=2, 3)\n",
    "-->\n",
    "\n",
    "<!-- this will work\n",
    " my_func(1, b = 2, c = 3)\n",
    " my_func(1, c = 3, b = 2)\n",
    "\n",
    " -->\n",
    "All arguments after the first named (keyword) argument, must be named too.\n",
    "\n",
    "Default arguments may still be omitted.\n",
    "\n",
    "def my_func(a, b=2, c=3)\n",
    "\n",
    "\n",
    "\n",
    "my_func(1)                  -> a=1, b=2, c=3\n",
    "\n",
    "\n",
    "\n",
    "\n",
    "\n"
   ]
  },
  {
   "cell_type": "code",
   "execution_count": 25,
   "id": "283894ea",
   "metadata": {},
   "outputs": [],
   "source": [
    "def my_func(a, b, c):\n",
    "    print(\"a={0}, b={1}, c={2}\".format(a, b, c))"
   ]
  },
  {
   "cell_type": "code",
   "execution_count": 26,
   "id": "ac2a9e2f",
   "metadata": {},
   "outputs": [
    {
     "name": "stdout",
     "output_type": "stream",
     "text": [
      "a=1, b=2, c=3\n"
     ]
    }
   ],
   "source": [
    "my_func(1, 2, 3)"
   ]
  },
  {
   "cell_type": "code",
   "execution_count": 27,
   "id": "84bfbe1b",
   "metadata": {},
   "outputs": [
    {
     "ename": "TypeError",
     "evalue": "my_func() missing 1 required positional argument: 'c'",
     "output_type": "error",
     "traceback": [
      "\u001b[1;31m---------------------------------------------------------------------------\u001b[0m",
      "\u001b[1;31mTypeError\u001b[0m                                 Traceback (most recent call last)",
      "\u001b[1;32mc:\\Users\\pgold\\MatsHub\\deep-Dive-1\\class_notes\\function_parameters\\positional_and_keyword_Arguments.ipynb Cell 7\u001b[0m in \u001b[0;36m<cell line: 1>\u001b[1;34m()\u001b[0m\n\u001b[1;32m----> <a href='vscode-notebook-cell:/c%3A/Users/pgold/MatsHub/deep-Dive-1/class_notes/function_parameters/positional_and_keyword_Arguments.ipynb#ch0000006?line=0'>1</a>\u001b[0m my_func(\u001b[39m1\u001b[39;49m, \u001b[39m2\u001b[39;49m)\n",
      "\u001b[1;31mTypeError\u001b[0m: my_func() missing 1 required positional argument: 'c'"
     ]
    }
   ],
   "source": [
    "my_func(1, 2)"
   ]
  },
  {
   "cell_type": "code",
   "execution_count": null,
   "id": "156e4836",
   "metadata": {},
   "outputs": [
    {
     "ename": "SyntaxError",
     "evalue": "non-default argument follows default argument (861350368.py, line 1)",
     "output_type": "error",
     "traceback": [
      "\u001b[1;36m  Input \u001b[1;32mIn [8]\u001b[1;36m\u001b[0m\n\u001b[1;33m    def my_func(a, b=2, c):\u001b[0m\n\u001b[1;37m                         ^\u001b[0m\n\u001b[1;31mSyntaxError\u001b[0m\u001b[1;31m:\u001b[0m non-default argument follows default argument\n"
     ]
    }
   ],
   "source": [
    "def my_func(a, b=2, c):\n",
    "    print(\"a={0}, b={1}, c={2}\".format(a, b, c))"
   ]
  },
  {
   "cell_type": "code",
   "execution_count": null,
   "id": "83fab44c",
   "metadata": {},
   "outputs": [],
   "source": [
    "def my_func(a=1, b=2, c=3):\n",
    "    print(\"a={0}, b={1}, c={2}\".format(a, b, c))"
   ]
  },
  {
   "cell_type": "code",
   "execution_count": null,
   "id": "35417356",
   "metadata": {},
   "outputs": [
    {
     "name": "stdout",
     "output_type": "stream",
     "text": [
      "a=10, b=20, c=30\n"
     ]
    }
   ],
   "source": [
    "my_func(10, 20, 30)"
   ]
  },
  {
   "cell_type": "code",
   "execution_count": null,
   "id": "13d66526",
   "metadata": {},
   "outputs": [
    {
     "name": "stdout",
     "output_type": "stream",
     "text": [
      "a=10, b=20, c=3\n"
     ]
    }
   ],
   "source": [
    "my_func(10, 20)"
   ]
  },
  {
   "cell_type": "code",
   "execution_count": null,
   "id": "c5ae9648",
   "metadata": {},
   "outputs": [
    {
     "name": "stdout",
     "output_type": "stream",
     "text": [
      "a=10, b=2, c=3\n"
     ]
    }
   ],
   "source": [
    "my_func(10)"
   ]
  },
  {
   "cell_type": "code",
   "execution_count": 29,
   "id": "cec54c4f",
   "metadata": {},
   "outputs": [
    {
     "ename": "TypeError",
     "evalue": "my_func() missing 3 required positional arguments: 'a', 'b', and 'c'",
     "output_type": "error",
     "traceback": [
      "\u001b[1;31m---------------------------------------------------------------------------\u001b[0m",
      "\u001b[1;31mTypeError\u001b[0m                                 Traceback (most recent call last)",
      "\u001b[1;32mc:\\Users\\pgold\\MatsHub\\deep-Dive-1\\class_notes\\function_parameters\\positional_and_keyword_Arguments.ipynb Cell 13\u001b[0m in \u001b[0;36m<cell line: 1>\u001b[1;34m()\u001b[0m\n\u001b[1;32m----> <a href='vscode-notebook-cell:/c%3A/Users/pgold/MatsHub/deep-Dive-1/class_notes/function_parameters/positional_and_keyword_Arguments.ipynb#ch0000012?line=0'>1</a>\u001b[0m my_func()\n",
      "\u001b[1;31mTypeError\u001b[0m: my_func() missing 3 required positional arguments: 'a', 'b', and 'c'"
     ]
    }
   ],
   "source": [
    "my_func()"
   ]
  },
  {
   "cell_type": "code",
   "execution_count": 30,
   "id": "ed801c17",
   "metadata": {},
   "outputs": [],
   "source": [
    "def my_func(a, b=2, c=3):\n",
    "    print(\"a={0}, b={1}, c={2}\".format(a, b, c))"
   ]
  },
  {
   "cell_type": "code",
   "execution_count": 33,
   "id": "ad6fcb74",
   "metadata": {},
   "outputs": [
    {
     "name": "stdout",
     "output_type": "stream",
     "text": [
      "a=10, b=20, c=30\n"
     ]
    }
   ],
   "source": [
    "my_func(c=30, b=20, a=10)"
   ]
  },
  {
   "cell_type": "code",
   "execution_count": 34,
   "id": "963400aa",
   "metadata": {},
   "outputs": [
    {
     "name": "stdout",
     "output_type": "stream",
     "text": [
      "a=10, b=20, c=30\n"
     ]
    }
   ],
   "source": [
    "my_func(10, c=30, b=20)"
   ]
  }
 ],
 "metadata": {
  "kernelspec": {
   "display_name": "Python 3 (ipykernel)",
   "language": "python",
   "name": "python3"
  },
  "language_info": {
   "codemirror_mode": {
    "name": "ipython",
    "version": 3
   },
   "file_extension": ".py",
   "mimetype": "text/x-python",
   "name": "python",
   "nbconvert_exporter": "python",
   "pygments_lexer": "ipython3",
   "version": "3.9.12"
  },
  "vscode": {
   "interpreter": {
    "hash": "a624adbc5e596fddf72740b255048309200567f23df85867ce297e9f9d364c1b"
   }
  }
 },
 "nbformat": 4,
 "nbformat_minor": 5
}
