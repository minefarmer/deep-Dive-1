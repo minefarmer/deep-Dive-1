{
 "cells": [
  {
   "cell_type": "markdown",
   "id": "4eb57296",
   "metadata": {},
   "source": [
    "Unpacking Iterables\n",
    "test\n",
    "            A side note on tuples\n",
    "\n",
    "(1, 2, 3)\n",
    "\n",
    "What defines a tuple in Python, is not (), but,\n",
    "\n",
    "1, 2, 3     is also a tuple.            The () are used to make the tuple clearer.\n",
    "\n",
    "To create a Tuple with a single element:\n",
    "\n",
    "(1)     will not work as intended       -> int\n",
    "\n",
    "1,      or      (1, )       -> tuple:\n",
    "\n",
    "1,  or      (1, )   -> tuple\n",
    "\n",
    "The only exception is when creating an empty tuple:     ()      or      tuple()\n",
    "\n",
    "Tuples and lists are obvious                        t = (1, 2, 3) -> tuple\n",
    "                                                    l = [1, 2, 3] -> list\n",
    "\n",
    "Even a string is considered to be a packed value:   s = 'python\n",
    "\n",
    "Sets and dictionaries are also packed values:       set1 = {1, 2, 3}\n",
    "\n",
    "                                                    d ={'a': 1, 'b' : 2' 'c': 3}\n",
    "\n",
    "In fact, any iterable can be considered a packed value.\n"
   ]
  },
  {
   "cell_type": "markdown",
   "id": "c14ce0ac",
   "metadata": {},
   "source": []
  },
  {
   "cell_type": "markdown",
   "id": "cfd6aea0",
   "metadata": {},
   "source": []
  },
  {
   "cell_type": "markdown",
   "id": "536532de",
   "metadata": {},
   "source": [
    "            A side note on tuples\n",
    "\n",
    "(1, 2, 3)\n",
    "\n",
    "What defines a tuple in Python, is not (), but,\n",
    "\n",
    "1, 2, 3     is also a tuple.            The () are used to make the tuple clearer.\n",
    "\n",
    "To create a Tuple with a single element:\n",
    "\n",
    "(1)     will not work as intended       -> int\n",
    "\n",
    "1,      or      (1, )       -> tuple:\n",
    "\n",
    "1,  or      (1, )   -> tuple\n",
    "\n",
    "The only exception is when creating an empty tuple:     ()      or      tuple()\n",
    "\n",
    "Tuples and lists are obvious                        t = (1, 2, 3) -> tuple\n",
    "                                                    l = [1, 2, 3] -> list\n",
    "\n",
    "Even a string is considered to be a packed value:   s = 'python\n",
    "\n",
    "Sets and dictionaries are also packed values:       set1 = {1, 2, 3}\n",
    "\n",
    "                                                    d ={'a': 1, 'b' : 2' 'c': 3}\n",
    "\n",
    "In fact, any iterable can be considered a packed value.\n"
   ]
  },
  {
   "cell_type": "markdown",
   "id": "96abb7f9",
   "metadata": {},
   "source": [
    "            Unpacking Packed Values\n",
    "\n",
    "Unpacking is the act of splitting packed values into individual cariables contained in a list or tuple.\n",
    "\n",
    "a, b, c = [1, 2, 3]     3 elements in [1, 2, 3]     -> neet three variables to unpack.\n",
    "   \\\n",
    "    \\\n",
    "      this is actually a tuple of 3 variables: a, b and c\n",
    "\n",
    "a -> 1      b -> 2      c -> 3\n",
    "\n",
    "The unpacking into individual variablrs is based on the relative positions of each element\n",
    "\n",
    "Does this remind me of how positional arguments were assigned to parameters in functions.\n"
   ]
  },
  {
   "cell_type": "markdown",
   "id": "d128ff7a",
   "metadata": {},
   "source": [
    "Unpacking other iterables\n",
    "\n",
    "a, b, c = 10, 20, 'hello            -> a = 10  b = 20  c = 'hello'\n",
    "                \\\n",
    "                 this is actually a tuple containing 3 values\n",
    "\n",
    "a, b, c = 'XYZ'         -> a = 'X'      b = 'Y'      c = 'Z'\n",
    "\n",
    "\n",
    "Instead of writing      a = 10      we can write, b = 10, 20\n",
    "                        b = 20\n",
    "\n",
    "In fact, unpacking works with any iterable type.\n",
    "\n",
    "for e in 10, 20, 'hello'        -> loop returns 10, 20, 'hello'\n",
    "\n",
    "for e in 'XYZ'                  -> loop returns 'X',  'Y',  'Z'\n",
    "\n",
    "\n"
   ]
  },
  {
   "cell_type": "markdown",
   "id": "4dd197f4",
   "metadata": {},
   "source": [
    "            Simple Application of Unpacking.\n",
    "\n",
    "swapping values of two variables    a = 10          b = 20\n",
    "                                    b = 20    ->    a = 10\n",
    "\n",
    "<!-- \"traditional approach\"\n",
    "\n",
    "                                    0x123\n",
    "tmp = a               a   -------  10\n",
    "\n",
    "a = b\n",
    "                                   0xF12\n",
    "b = tmp                 b   -------  20 -->\n",
    "\n",
    "using unpacking\n",
    "                        this works because in Python, the entire RHS is evaluated first and completely.\n",
    "a, b = b, a\n",
    "                        then assignments are made to the LHS.\n",
    "\n"
   ]
  },
  {
   "cell_type": "markdown",
   "id": "5210893f",
   "metadata": {},
   "source": [
    "            Unpacking Sets and Dictionaries\n",
    "\n",
    "d = {'key1': 1, 'key2': 2, 'key3': 3}\n",
    "\n",
    "for e in d      -> e iterates thru the keys: 'key1', 'key2', 'key3'\n",
    "\n",
    "so, when unpacking d, we are actually unpacking the keys of d.\n",
    "\n",
    "a, b, c = d         -> a = 'key1', b = 'key2', c = 'key3'\n",
    "                or  -> a = 'key2', b = 'key1', c = 'key3'\n",
    "                    -> a = 'key3', b = 'key1', c = 'key2'\n",
    "                    etc...\n",
    "\n",
    "        Dictionaries (and Sets) are unordered types.\n",
    "        They can be iterated, but there is no guarantee the order of the results will match my ?\n",
    "In practice, we rarely unpack sets and dictionaries in precisely this way.\n"
   ]
  },
  {
   "cell_type": "markdown",
   "id": "acc8cb40",
   "metadata": {},
   "source": [
    "            Example using Sets\n",
    "\n",
    "s = {'p', 'y', 't', 'h', 'o', 'n'}\n",
    "\n",
    "\n",
    "for c in s:      -> p\n",
    "    print(c)        t\n",
    "                    h\n",
    "                    n\n",
    "                    o\n",
    "                    y\n",
    "\n",
    "\n",
    "a, b, c, d, e, f = s    a = 'p'\n",
    "                        b = 't'\n",
    "                        c = 'h'\n",
    "                        ...\n",
    "                        f = 'y'\n"
   ]
  },
  {
   "cell_type": "code",
   "execution_count": 41,
   "id": "0da75dea",
   "metadata": {},
   "outputs": [],
   "source": [
    "a = (1, 2, 3)"
   ]
  },
  {
   "cell_type": "code",
   "execution_count": 42,
   "id": "4afafd5b",
   "metadata": {},
   "outputs": [
    {
     "data": {
      "text/plain": [
       "tuple"
      ]
     },
     "execution_count": 42,
     "metadata": {},
     "output_type": "execute_result"
    }
   ],
   "source": [
    "type(a)"
   ]
  },
  {
   "cell_type": "code",
   "execution_count": 43,
   "id": "ef1804a8",
   "metadata": {},
   "outputs": [],
   "source": [
    "a = 1, 2, 3"
   ]
  },
  {
   "cell_type": "code",
   "execution_count": 44,
   "id": "ba47135f",
   "metadata": {},
   "outputs": [
    {
     "data": {
      "text/plain": [
       "tuple"
      ]
     },
     "execution_count": 44,
     "metadata": {},
     "output_type": "execute_result"
    }
   ],
   "source": [
    "type(a)"
   ]
  },
  {
   "cell_type": "code",
   "execution_count": 45,
   "id": "1f71bc53",
   "metadata": {},
   "outputs": [
    {
     "data": {
      "text/plain": [
       "(1, 2, 3)"
      ]
     },
     "execution_count": 45,
     "metadata": {},
     "output_type": "execute_result"
    }
   ],
   "source": [
    "a"
   ]
  },
  {
   "cell_type": "code",
   "execution_count": 46,
   "id": "02b0202b",
   "metadata": {},
   "outputs": [],
   "source": [
    "a = (1)"
   ]
  },
  {
   "cell_type": "code",
   "execution_count": 47,
   "id": "a0b523be",
   "metadata": {},
   "outputs": [
    {
     "data": {
      "text/plain": [
       "int"
      ]
     },
     "execution_count": 47,
     "metadata": {},
     "output_type": "execute_result"
    }
   ],
   "source": [
    "type(a)"
   ]
  },
  {
   "cell_type": "code",
   "execution_count": 48,
   "id": "d56732db",
   "metadata": {},
   "outputs": [],
   "source": [
    "a = ('a')"
   ]
  },
  {
   "cell_type": "code",
   "execution_count": 49,
   "id": "2c91ca68",
   "metadata": {},
   "outputs": [
    {
     "data": {
      "text/plain": [
       "str"
      ]
     },
     "execution_count": 49,
     "metadata": {},
     "output_type": "execute_result"
    }
   ],
   "source": [
    "type(a)"
   ]
  },
  {
   "cell_type": "code",
   "execution_count": 50,
   "id": "f8e69e46",
   "metadata": {},
   "outputs": [
    {
     "data": {
      "text/plain": [
       "'a'"
      ]
     },
     "execution_count": 50,
     "metadata": {},
     "output_type": "execute_result"
    }
   ],
   "source": [
    "a"
   ]
  },
  {
   "cell_type": "code",
   "execution_count": 51,
   "id": "12c580d2",
   "metadata": {},
   "outputs": [],
   "source": [
    "a =(1,)"
   ]
  },
  {
   "cell_type": "code",
   "execution_count": 52,
   "id": "b3f775da",
   "metadata": {},
   "outputs": [
    {
     "data": {
      "text/plain": [
       "(1,)"
      ]
     },
     "execution_count": 52,
     "metadata": {},
     "output_type": "execute_result"
    }
   ],
   "source": [
    "a"
   ]
  },
  {
   "cell_type": "code",
   "execution_count": 53,
   "id": "2184951c",
   "metadata": {},
   "outputs": [
    {
     "data": {
      "text/plain": [
       "tuple"
      ]
     },
     "execution_count": 53,
     "metadata": {},
     "output_type": "execute_result"
    }
   ],
   "source": [
    "type(a)"
   ]
  },
  {
   "cell_type": "code",
   "execution_count": 54,
   "id": "b790b245",
   "metadata": {},
   "outputs": [],
   "source": [
    "a = 100,"
   ]
  },
  {
   "cell_type": "code",
   "execution_count": 55,
   "id": "51f73ba7",
   "metadata": {},
   "outputs": [
    {
     "data": {
      "text/plain": [
       "tuple"
      ]
     },
     "execution_count": 55,
     "metadata": {},
     "output_type": "execute_result"
    }
   ],
   "source": [
    "type(a)"
   ]
  },
  {
   "cell_type": "code",
   "execution_count": 56,
   "id": "113d0103",
   "metadata": {},
   "outputs": [
    {
     "data": {
      "text/plain": [
       "(100,)"
      ]
     },
     "execution_count": 56,
     "metadata": {},
     "output_type": "execute_result"
    }
   ],
   "source": [
    "a\n"
   ]
  },
  {
   "cell_type": "code",
   "execution_count": 57,
   "id": "6f044a0d",
   "metadata": {},
   "outputs": [],
   "source": [
    "a =()"
   ]
  },
  {
   "cell_type": "code",
   "execution_count": 58,
   "id": "3aa7d078",
   "metadata": {},
   "outputs": [
    {
     "data": {
      "text/plain": [
       "tuple"
      ]
     },
     "execution_count": 58,
     "metadata": {},
     "output_type": "execute_result"
    }
   ],
   "source": [
    "type(a)"
   ]
  },
  {
   "cell_type": "code",
   "execution_count": 59,
   "id": "89839afa",
   "metadata": {},
   "outputs": [
    {
     "ename": "SyntaxError",
     "evalue": "invalid syntax (199967109.py, line 1)",
     "output_type": "error",
     "traceback": [
      "\u001b[1;36m  Input \u001b[1;32mIn [59]\u001b[1;36m\u001b[0m\n\u001b[1;33m    a = ,\u001b[0m\n\u001b[1;37m        ^\u001b[0m\n\u001b[1;31mSyntaxError\u001b[0m\u001b[1;31m:\u001b[0m invalid syntax\n"
     ]
    }
   ],
   "source": [
    "a = ,"
   ]
  },
  {
   "cell_type": "code",
   "execution_count": null,
   "id": "7fcf3727",
   "metadata": {},
   "outputs": [
    {
     "ename": "SyntaxError",
     "evalue": "invalid syntax (344912633.py, line 1)",
     "output_type": "error",
     "traceback": [
      "\u001b[1;36m  Input \u001b[1;32mIn [21]\u001b[1;36m\u001b[0m\n\u001b[1;33m    a = (,)\u001b[0m\n\u001b[1;37m         ^\u001b[0m\n\u001b[1;31mSyntaxError\u001b[0m\u001b[1;31m:\u001b[0m invalid syntax\n"
     ]
    }
   ],
   "source": [
    "a = (,)"
   ]
  },
  {
   "cell_type": "code",
   "execution_count": null,
   "id": "bd8d2ae6",
   "metadata": {},
   "outputs": [],
   "source": [
    "a, b, c = [1, 'a', 3.14]"
   ]
  },
  {
   "cell_type": "code",
   "execution_count": null,
   "id": "ccb6d2a4",
   "metadata": {},
   "outputs": [
    {
     "data": {
      "text/plain": [
       "1"
      ]
     },
     "execution_count": 23,
     "metadata": {},
     "output_type": "execute_result"
    }
   ],
   "source": [
    "a"
   ]
  },
  {
   "cell_type": "code",
   "execution_count": null,
   "id": "21e338bf",
   "metadata": {},
   "outputs": [
    {
     "data": {
      "text/plain": [
       "'a'"
      ]
     },
     "execution_count": 24,
     "metadata": {},
     "output_type": "execute_result"
    }
   ],
   "source": [
    "b"
   ]
  },
  {
   "cell_type": "code",
   "execution_count": null,
   "id": "a5a9b159",
   "metadata": {},
   "outputs": [
    {
     "data": {
      "text/plain": [
       "3.14"
      ]
     },
     "execution_count": 25,
     "metadata": {},
     "output_type": "execute_result"
    }
   ],
   "source": [
    "c"
   ]
  },
  {
   "cell_type": "code",
   "execution_count": null,
   "id": "9531ec78",
   "metadata": {},
   "outputs": [],
   "source": [
    "(a, b, c) = [1, 2, 3]"
   ]
  },
  {
   "cell_type": "code",
   "execution_count": null,
   "id": "53b7d96e",
   "metadata": {},
   "outputs": [
    {
     "data": {
      "text/plain": [
       "1"
      ]
     },
     "execution_count": 27,
     "metadata": {},
     "output_type": "execute_result"
    }
   ],
   "source": [
    "a"
   ]
  },
  {
   "cell_type": "code",
   "execution_count": null,
   "id": "bb5ebf14",
   "metadata": {},
   "outputs": [
    {
     "data": {
      "text/plain": [
       "2"
      ]
     },
     "execution_count": 28,
     "metadata": {},
     "output_type": "execute_result"
    }
   ],
   "source": [
    "b"
   ]
  },
  {
   "cell_type": "code",
   "execution_count": null,
   "id": "143f919b",
   "metadata": {},
   "outputs": [
    {
     "data": {
      "text/plain": [
       "3"
      ]
     },
     "execution_count": 29,
     "metadata": {},
     "output_type": "execute_result"
    }
   ],
   "source": [
    "c"
   ]
  },
  {
   "cell_type": "code",
   "execution_count": null,
   "id": "0653dcd6",
   "metadata": {},
   "outputs": [],
   "source": [
    "(a, b) = (1, 2)"
   ]
  },
  {
   "cell_type": "code",
   "execution_count": null,
   "id": "bab2b2a1",
   "metadata": {},
   "outputs": [
    {
     "data": {
      "text/plain": [
       "1"
      ]
     },
     "execution_count": 32,
     "metadata": {},
     "output_type": "execute_result"
    }
   ],
   "source": [
    "a"
   ]
  },
  {
   "cell_type": "code",
   "execution_count": null,
   "id": "f36d0585",
   "metadata": {},
   "outputs": [
    {
     "data": {
      "text/plain": [
       "2"
      ]
     },
     "execution_count": 33,
     "metadata": {},
     "output_type": "execute_result"
    }
   ],
   "source": [
    "b"
   ]
  },
  {
   "cell_type": "code",
   "execution_count": null,
   "id": "c1070aa5",
   "metadata": {},
   "outputs": [],
   "source": [
    "a, b, c = 10, 20, 30"
   ]
  },
  {
   "cell_type": "code",
   "execution_count": null,
   "id": "bb393a79",
   "metadata": {},
   "outputs": [
    {
     "data": {
      "text/plain": [
       "10"
      ]
     },
     "execution_count": 35,
     "metadata": {},
     "output_type": "execute_result"
    }
   ],
   "source": [
    "a"
   ]
  },
  {
   "cell_type": "code",
   "execution_count": null,
   "id": "18c48814",
   "metadata": {},
   "outputs": [
    {
     "data": {
      "text/plain": [
       "20"
      ]
     },
     "execution_count": 36,
     "metadata": {},
     "output_type": "execute_result"
    }
   ],
   "source": [
    "b"
   ]
  },
  {
   "cell_type": "code",
   "execution_count": null,
   "id": "c2ff3bef",
   "metadata": {},
   "outputs": [
    {
     "data": {
      "text/plain": [
       "30"
      ]
     },
     "execution_count": 40,
     "metadata": {},
     "output_type": "execute_result"
    }
   ],
   "source": [
    "c"
   ]
  },
  {
   "cell_type": "code",
   "execution_count": 60,
   "id": "ae4b27d9",
   "metadata": {},
   "outputs": [],
   "source": [
    "a, b, c = 10, 'a', 3.14"
   ]
  },
  {
   "cell_type": "code",
   "execution_count": 61,
   "id": "641265e9",
   "metadata": {},
   "outputs": [
    {
     "data": {
      "text/plain": [
       "10"
      ]
     },
     "execution_count": 61,
     "metadata": {},
     "output_type": "execute_result"
    }
   ],
   "source": [
    "a"
   ]
  },
  {
   "cell_type": "code",
   "execution_count": 62,
   "id": "55f2eaf1",
   "metadata": {},
   "outputs": [
    {
     "data": {
      "text/plain": [
       "'a'"
      ]
     },
     "execution_count": 62,
     "metadata": {},
     "output_type": "execute_result"
    }
   ],
   "source": [
    "b"
   ]
  },
  {
   "cell_type": "code",
   "execution_count": 63,
   "id": "6b29ff91",
   "metadata": {},
   "outputs": [
    {
     "data": {
      "text/plain": [
       "3.14"
      ]
     },
     "execution_count": 63,
     "metadata": {},
     "output_type": "execute_result"
    }
   ],
   "source": [
    "c"
   ]
  },
  {
   "cell_type": "code",
   "execution_count": 65,
   "id": "871d961e",
   "metadata": {},
   "outputs": [],
   "source": [
    "a, b, c = 10, {1, 2}, ['a', 'b']"
   ]
  },
  {
   "cell_type": "code",
   "execution_count": 66,
   "id": "9fbb07c0",
   "metadata": {},
   "outputs": [
    {
     "data": {
      "text/plain": [
       "10"
      ]
     },
     "execution_count": 66,
     "metadata": {},
     "output_type": "execute_result"
    }
   ],
   "source": [
    "a"
   ]
  },
  {
   "cell_type": "code",
   "execution_count": 67,
   "id": "c7d04c7f",
   "metadata": {},
   "outputs": [
    {
     "data": {
      "text/plain": [
       "{1, 2}"
      ]
     },
     "execution_count": 67,
     "metadata": {},
     "output_type": "execute_result"
    }
   ],
   "source": [
    "b"
   ]
  },
  {
   "cell_type": "code",
   "execution_count": 68,
   "id": "cccb4cac",
   "metadata": {},
   "outputs": [
    {
     "data": {
      "text/plain": [
       "['a', 'b']"
      ]
     },
     "execution_count": 68,
     "metadata": {},
     "output_type": "execute_result"
    }
   ],
   "source": [
    "c"
   ]
  },
  {
   "cell_type": "code",
   "execution_count": 69,
   "id": "965b2a5e",
   "metadata": {},
   "outputs": [],
   "source": [
    "a, b = 10, 20"
   ]
  },
  {
   "cell_type": "code",
   "execution_count": 70,
   "id": "02bdbaae",
   "metadata": {},
   "outputs": [
    {
     "name": "stdout",
     "output_type": "stream",
     "text": [
      "10 20\n"
     ]
    }
   ],
   "source": [
    "print(a, b)"
   ]
  },
  {
   "cell_type": "code",
   "execution_count": 71,
   "id": "79aee1f1",
   "metadata": {},
   "outputs": [],
   "source": [
    "a, b = b, a"
   ]
  },
  {
   "cell_type": "code",
   "execution_count": 72,
   "id": "713d49af",
   "metadata": {},
   "outputs": [],
   "source": [
    "c = (id(b), id(a))"
   ]
  },
  {
   "cell_type": "code",
   "execution_count": 73,
   "id": "bef2ed1b",
   "metadata": {},
   "outputs": [
    {
     "data": {
      "text/plain": [
       "(2279130360400, 2279130360720)"
      ]
     },
     "execution_count": 73,
     "metadata": {},
     "output_type": "execute_result"
    }
   ],
   "source": [
    "c"
   ]
  },
  {
   "cell_type": "code",
   "execution_count": 74,
   "id": "2e967cab",
   "metadata": {},
   "outputs": [],
   "source": [
    "a = c"
   ]
  },
  {
   "cell_type": "code",
   "execution_count": 75,
   "id": "009c5236",
   "metadata": {},
   "outputs": [],
   "source": [
    "a , b = c"
   ]
  },
  {
   "cell_type": "code",
   "execution_count": 76,
   "id": "26b137b2",
   "metadata": {},
   "outputs": [
    {
     "data": {
      "text/plain": [
       "2279130360400"
      ]
     },
     "execution_count": 76,
     "metadata": {},
     "output_type": "execute_result"
    }
   ],
   "source": [
    "a"
   ]
  },
  {
   "cell_type": "code",
   "execution_count": 77,
   "id": "0c90fd92",
   "metadata": {},
   "outputs": [
    {
     "data": {
      "text/plain": [
       "2279130360720"
      ]
     },
     "execution_count": 77,
     "metadata": {},
     "output_type": "execute_result"
    }
   ],
   "source": [
    "b"
   ]
  },
  {
   "cell_type": "code",
   "execution_count": 79,
   "id": "5d4bdcd6",
   "metadata": {},
   "outputs": [
    {
     "name": "stdout",
     "output_type": "stream",
     "text": [
      "2279130360400 2279130360720\n"
     ]
    }
   ],
   "source": [
    "print(a, b)"
   ]
  },
  {
   "cell_type": "code",
   "execution_count": 82,
   "id": "de82cff1",
   "metadata": {},
   "outputs": [
    {
     "name": "stdout",
     "output_type": "stream",
     "text": [
      "X\n",
      "Y\n",
      "Z\n"
     ]
    }
   ],
   "source": [
    "for e in 'XYZ':\n",
    "    print(e)"
   ]
  },
  {
   "cell_type": "code",
   "execution_count": 83,
   "id": "c9df9904",
   "metadata": {},
   "outputs": [],
   "source": [
    "a, b, c = 'XYZ'"
   ]
  },
  {
   "cell_type": "code",
   "execution_count": 84,
   "id": "122c9d80",
   "metadata": {},
   "outputs": [
    {
     "data": {
      "text/plain": [
       "'X'"
      ]
     },
     "execution_count": 84,
     "metadata": {},
     "output_type": "execute_result"
    }
   ],
   "source": [
    "a"
   ]
  },
  {
   "cell_type": "code",
   "execution_count": 85,
   "id": "2e12ba36",
   "metadata": {},
   "outputs": [
    {
     "data": {
      "text/plain": [
       "'Y'"
      ]
     },
     "execution_count": 85,
     "metadata": {},
     "output_type": "execute_result"
    }
   ],
   "source": [
    "b"
   ]
  },
  {
   "cell_type": "code",
   "execution_count": 87,
   "id": "bf643022",
   "metadata": {},
   "outputs": [
    {
     "data": {
      "text/plain": [
       "'Z'"
      ]
     },
     "execution_count": 87,
     "metadata": {},
     "output_type": "execute_result"
    }
   ],
   "source": [
    "c"
   ]
  },
  {
   "cell_type": "code",
   "execution_count": 88,
   "id": "d90a507f",
   "metadata": {},
   "outputs": [],
   "source": [
    "s = 'XYZ'"
   ]
  },
  {
   "cell_type": "code",
   "execution_count": 90,
   "id": "3f21fa74",
   "metadata": {},
   "outputs": [
    {
     "data": {
      "text/plain": [
       "'X'"
      ]
     },
     "execution_count": 90,
     "metadata": {},
     "output_type": "execute_result"
    }
   ],
   "source": [
    "s[0]"
   ]
  },
  {
   "cell_type": "code",
   "execution_count": 91,
   "id": "994bbd35",
   "metadata": {},
   "outputs": [
    {
     "data": {
      "text/plain": [
       "'Y'"
      ]
     },
     "execution_count": 91,
     "metadata": {},
     "output_type": "execute_result"
    }
   ],
   "source": [
    "s[1]"
   ]
  },
  {
   "cell_type": "code",
   "execution_count": 92,
   "id": "d54b4b93",
   "metadata": {},
   "outputs": [],
   "source": [
    "s = {1,2, 3}"
   ]
  },
  {
   "cell_type": "code",
   "execution_count": 93,
   "id": "a61edb19",
   "metadata": {},
   "outputs": [
    {
     "ename": "TypeError",
     "evalue": "'set' object is not subscriptable",
     "output_type": "error",
     "traceback": [
      "\u001b[1;31m---------------------------------------------------------------------------\u001b[0m",
      "\u001b[1;31mTypeError\u001b[0m                                 Traceback (most recent call last)",
      "\u001b[1;32mc:\\Users\\pgold\\MatsHub\\deep-Dive-1\\class_notes\\function_parameters\\unpaking_iterables.ipynb Cell 70\u001b[0m in \u001b[0;36m<cell line: 1>\u001b[1;34m()\u001b[0m\n\u001b[1;32m----> <a href='vscode-notebook-cell:/c%3A/Users/pgold/MatsHub/deep-Dive-1/class_notes/function_parameters/unpaking_iterables.ipynb#ch0000069?line=0'>1</a>\u001b[0m s[\u001b[39m0\u001b[39;49m]\n",
      "\u001b[1;31mTypeError\u001b[0m: 'set' object is not subscriptable"
     ]
    }
   ],
   "source": [
    "s[0]"
   ]
  },
  {
   "cell_type": "code",
   "execution_count": 94,
   "id": "14b0620b",
   "metadata": {},
   "outputs": [],
   "source": [
    "s ={'p','y','t','h', 'o', 'n'}"
   ]
  },
  {
   "cell_type": "code",
   "execution_count": 95,
   "id": "b4695df3",
   "metadata": {},
   "outputs": [
    {
     "name": "stdout",
     "output_type": "stream",
     "text": [
      "{'h', 'n', 't', 'o', 'y', 'p'}\n"
     ]
    }
   ],
   "source": [
    "print(s)"
   ]
  },
  {
   "cell_type": "code",
   "execution_count": 96,
   "id": "ac76056b",
   "metadata": {},
   "outputs": [
    {
     "name": "stdout",
     "output_type": "stream",
     "text": [
      "h\n",
      "n\n",
      "t\n",
      "o\n",
      "y\n",
      "p\n"
     ]
    }
   ],
   "source": [
    "for e in s:\n",
    "    print(e)"
   ]
  },
  {
   "cell_type": "code",
   "execution_count": 98,
   "id": "2fc73613",
   "metadata": {},
   "outputs": [],
   "source": [
    "a, b, c, d, e, f = s"
   ]
  },
  {
   "cell_type": "code",
   "execution_count": 99,
   "id": "afaf0fbf",
   "metadata": {},
   "outputs": [
    {
     "data": {
      "text/plain": [
       "'h'"
      ]
     },
     "execution_count": 99,
     "metadata": {},
     "output_type": "execute_result"
    }
   ],
   "source": [
    "a"
   ]
  },
  {
   "cell_type": "code",
   "execution_count": 100,
   "id": "feda6fa7",
   "metadata": {},
   "outputs": [
    {
     "data": {
      "text/plain": [
       "'n'"
      ]
     },
     "execution_count": 100,
     "metadata": {},
     "output_type": "execute_result"
    }
   ],
   "source": [
    "b"
   ]
  },
  {
   "cell_type": "code",
   "execution_count": 101,
   "id": "08c3086b",
   "metadata": {},
   "outputs": [],
   "source": [
    "d = {'a':1, 'b': 2, 'c': 3}"
   ]
  },
  {
   "cell_type": "code",
   "execution_count": 102,
   "id": "bfa1b288",
   "metadata": {},
   "outputs": [
    {
     "name": "stdout",
     "output_type": "stream",
     "text": [
      "a\n",
      "b\n",
      "c\n"
     ]
    }
   ],
   "source": [
    "for e in d:\n",
    "    print(e)"
   ]
  },
  {
   "cell_type": "code",
   "execution_count": 103,
   "id": "45f811b9",
   "metadata": {},
   "outputs": [],
   "source": [
    "a, b, c = d"
   ]
  },
  {
   "cell_type": "code",
   "execution_count": 104,
   "id": "054e2f90",
   "metadata": {},
   "outputs": [
    {
     "data": {
      "text/plain": [
       "'a'"
      ]
     },
     "execution_count": 104,
     "metadata": {},
     "output_type": "execute_result"
    }
   ],
   "source": [
    "a"
   ]
  },
  {
   "cell_type": "code",
   "execution_count": 105,
   "id": "874c7dd2",
   "metadata": {},
   "outputs": [
    {
     "data": {
      "text/plain": [
       "'b'"
      ]
     },
     "execution_count": 105,
     "metadata": {},
     "output_type": "execute_result"
    }
   ],
   "source": [
    "b"
   ]
  },
  {
   "cell_type": "code",
   "execution_count": 106,
   "id": "64b7f746",
   "metadata": {},
   "outputs": [
    {
     "data": {
      "text/plain": [
       "'c'"
      ]
     },
     "execution_count": 106,
     "metadata": {},
     "output_type": "execute_result"
    }
   ],
   "source": [
    "c"
   ]
  },
  {
   "cell_type": "code",
   "execution_count": 107,
   "id": "8514af67",
   "metadata": {},
   "outputs": [
    {
     "data": {
      "text/plain": [
       "{'a': 1, 'b': 2, 'c': 3}"
      ]
     },
     "execution_count": 107,
     "metadata": {},
     "output_type": "execute_result"
    }
   ],
   "source": [
    "d"
   ]
  },
  {
   "cell_type": "code",
   "execution_count": 108,
   "id": "4959aed4",
   "metadata": {},
   "outputs": [],
   "source": [
    "d = {'a':1, 'b': 2, 'c': 3, 'd': 4}"
   ]
  },
  {
   "cell_type": "code",
   "execution_count": 109,
   "id": "90b6a35a",
   "metadata": {},
   "outputs": [],
   "source": [
    "a, b, c, d = d"
   ]
  },
  {
   "cell_type": "code",
   "execution_count": 110,
   "id": "d3491de9",
   "metadata": {},
   "outputs": [
    {
     "data": {
      "text/plain": [
       "'a'"
      ]
     },
     "execution_count": 110,
     "metadata": {},
     "output_type": "execute_result"
    }
   ],
   "source": [
    "a"
   ]
  },
  {
   "cell_type": "code",
   "execution_count": 111,
   "id": "9d768a26",
   "metadata": {},
   "outputs": [
    {
     "data": {
      "text/plain": [
       "'b'"
      ]
     },
     "execution_count": 111,
     "metadata": {},
     "output_type": "execute_result"
    }
   ],
   "source": [
    "b"
   ]
  },
  {
   "cell_type": "code",
   "execution_count": 112,
   "id": "1463d99e",
   "metadata": {},
   "outputs": [
    {
     "data": {
      "text/plain": [
       "'c'"
      ]
     },
     "execution_count": 112,
     "metadata": {},
     "output_type": "execute_result"
    }
   ],
   "source": [
    "c"
   ]
  },
  {
   "cell_type": "code",
   "execution_count": 113,
   "id": "9d8a7fa7",
   "metadata": {},
   "outputs": [
    {
     "data": {
      "text/plain": [
       "'d'"
      ]
     },
     "execution_count": 113,
     "metadata": {},
     "output_type": "execute_result"
    }
   ],
   "source": [
    "d"
   ]
  },
  {
   "cell_type": "code",
   "execution_count": 115,
   "id": "5f024fd7",
   "metadata": {},
   "outputs": [],
   "source": [
    "d = {'a':1, 'b': 2, 'c': 3, 'd': 4}"
   ]
  },
  {
   "cell_type": "code",
   "execution_count": 116,
   "id": "8281d623",
   "metadata": {},
   "outputs": [],
   "source": [
    "d, a, b, c = d"
   ]
  },
  {
   "cell_type": "code",
   "execution_count": 117,
   "id": "a530599d",
   "metadata": {},
   "outputs": [
    {
     "data": {
      "text/plain": [
       "'a'"
      ]
     },
     "execution_count": 117,
     "metadata": {},
     "output_type": "execute_result"
    }
   ],
   "source": [
    "d"
   ]
  },
  {
   "cell_type": "code",
   "execution_count": 118,
   "id": "164d2526",
   "metadata": {},
   "outputs": [
    {
     "data": {
      "text/plain": [
       "'b'"
      ]
     },
     "execution_count": 118,
     "metadata": {},
     "output_type": "execute_result"
    }
   ],
   "source": [
    "a"
   ]
  },
  {
   "cell_type": "code",
   "execution_count": 119,
   "id": "c38e6dab",
   "metadata": {},
   "outputs": [
    {
     "data": {
      "text/plain": [
       "'d'"
      ]
     },
     "execution_count": 119,
     "metadata": {},
     "output_type": "execute_result"
    }
   ],
   "source": [
    "c"
   ]
  },
  {
   "cell_type": "code",
   "execution_count": 120,
   "id": "84616c17",
   "metadata": {},
   "outputs": [
    {
     "data": {
      "text/plain": [
       "'a'"
      ]
     },
     "execution_count": 120,
     "metadata": {},
     "output_type": "execute_result"
    }
   ],
   "source": [
    "d"
   ]
  },
  {
   "cell_type": "code",
   "execution_count": 122,
   "id": "d29da2cd",
   "metadata": {},
   "outputs": [],
   "source": [
    "d = {'a':1, 'b': 2, 'c': 3, 'd': 4}"
   ]
  },
  {
   "cell_type": "code",
   "execution_count": 123,
   "id": "a8348cf5",
   "metadata": {},
   "outputs": [
    {
     "name": "stdout",
     "output_type": "stream",
     "text": [
      "a\n",
      "b\n",
      "c\n",
      "d\n"
     ]
    }
   ],
   "source": [
    "for e in d:\n",
    "    print(e)"
   ]
  },
  {
   "cell_type": "code",
   "execution_count": 125,
   "id": "b7cd07d6",
   "metadata": {},
   "outputs": [
    {
     "name": "stdout",
     "output_type": "stream",
     "text": [
      "1\n",
      "2\n",
      "3\n",
      "4\n"
     ]
    }
   ],
   "source": [
    "for e in d.values():\n",
    "    print(e)"
   ]
  },
  {
   "cell_type": "code",
   "execution_count": 126,
   "id": "7f304310",
   "metadata": {},
   "outputs": [],
   "source": [
    "a, b, c, d = d.values()"
   ]
  },
  {
   "cell_type": "code",
   "execution_count": 127,
   "id": "3cfec1c3",
   "metadata": {},
   "outputs": [
    {
     "data": {
      "text/plain": [
       "1"
      ]
     },
     "execution_count": 127,
     "metadata": {},
     "output_type": "execute_result"
    }
   ],
   "source": [
    "a"
   ]
  },
  {
   "cell_type": "code",
   "execution_count": 128,
   "id": "7f3ef8f7",
   "metadata": {},
   "outputs": [
    {
     "data": {
      "text/plain": [
       "2"
      ]
     },
     "execution_count": 128,
     "metadata": {},
     "output_type": "execute_result"
    }
   ],
   "source": [
    "b"
   ]
  },
  {
   "cell_type": "code",
   "execution_count": 129,
   "id": "f07d2df4",
   "metadata": {},
   "outputs": [
    {
     "data": {
      "text/plain": [
       "3"
      ]
     },
     "execution_count": 129,
     "metadata": {},
     "output_type": "execute_result"
    }
   ],
   "source": [
    "c"
   ]
  },
  {
   "cell_type": "code",
   "execution_count": 130,
   "id": "8cac49ca",
   "metadata": {},
   "outputs": [
    {
     "data": {
      "text/plain": [
       "4"
      ]
     },
     "execution_count": 130,
     "metadata": {},
     "output_type": "execute_result"
    }
   ],
   "source": [
    "d"
   ]
  },
  {
   "cell_type": "code",
   "execution_count": 132,
   "id": "45528c32",
   "metadata": {},
   "outputs": [],
   "source": [
    "dict1 = {'a':1, 'b': 2, 'c': 3, 'd': 4}"
   ]
  },
  {
   "cell_type": "code",
   "execution_count": 134,
   "id": "6db91406",
   "metadata": {},
   "outputs": [
    {
     "name": "stdout",
     "output_type": "stream",
     "text": [
      "('a', 1)\n",
      "('b', 2)\n",
      "('c', 3)\n",
      "('d', 4)\n"
     ]
    }
   ],
   "source": [
    "for e in dict1.items():\n",
    "    print(e)"
   ]
  },
  {
   "cell_type": "code",
   "execution_count": 139,
   "id": "a9800cc5",
   "metadata": {},
   "outputs": [
    {
     "name": "stdout",
     "output_type": "stream",
     "text": [
      "key=a, value=1\n",
      "key=b, value=2\n",
      "key=c, value=3\n",
      "key=d, value=4\n"
     ]
    }
   ],
   "source": [
    "for e in dict1.items():\n",
    "    a, b = e\n",
    "    print('key={0}, value={1}'.format(a, b))"
   ]
  },
  {
   "cell_type": "code",
   "execution_count": null,
   "id": "fa3efd96",
   "metadata": {},
   "outputs": [],
   "source": []
  }
 ],
 "metadata": {
  "kernelspec": {
   "display_name": "Python 3.9.12 ('base')",
   "language": "python",
   "name": "python3"
  },
  "language_info": {
   "codemirror_mode": {
    "name": "ipython",
    "version": 3
   },
   "file_extension": ".py",
   "mimetype": "text/x-python",
   "name": "python",
   "nbconvert_exporter": "python",
   "pygments_lexer": "ipython3",
   "version": "3.9.12"
  },
  "vscode": {
   "interpreter": {
    "hash": "a624adbc5e596fddf72740b255048309200567f23df85867ce297e9f9d364c1b"
   }
  }
 },
 "nbformat": 4,
 "nbformat_minor": 5
}
