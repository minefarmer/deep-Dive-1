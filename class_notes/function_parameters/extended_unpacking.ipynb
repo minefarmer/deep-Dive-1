{
 "cells": [
  {
   "cell_type": "markdown",
   "id": "4712bcf9",
   "metadata": {},
   "source": [
    "            Extended Unpacking"
   ]
  },
  {
   "cell_type": "markdown",
   "id": "dd2f0a1b",
   "metadata": {},
   "source": []
  },
  {
   "cell_type": "markdown",
   "id": "2974a18b",
   "metadata": {},
   "source": [
    "Using the * and ** Operators"
   ]
  },
  {
   "cell_type": "markdown",
   "id": "453142a9",
   "metadata": {},
   "source": [
    "            The use case for *                          # Much of this section applies to Python>= 3.5\n",
    "\n",
    "We don't always want to unpack every single item in an iterable.\n",
    "\n",
    "We may, for example, want to unpack the first value, and then unpack the remaining values into another variable.\n",
    "\n",
    "l = [1, 2, 3, 4, 5, 6]\n",
    "\n",
    "We can achieve this using slicing:      a = l[0]\n",
    "                                        b = l[1: ]\n",
    "\n",
    "or, using simple unpacking:             a, b = l[0], l[1:]      (aka parallel assignment)\n",
    "\n",
    "We can also use the * operator:         a, *b = l\n",
    "\n"
   ]
  },
  {
   "cell_type": "markdown",
   "id": "0d65a3c2",
   "metadata": {},
   "source": [
    "            Usage with order types\n",
    "\n",
    "<!-- The * operator can only be used once in the LHS of a unpacking assignment. SEE BELOW!! -->\n",
    "\n",
    "a, *b = [-10, 5, 2, 100]        a = -10     b = [5, 2, 100]\n",
    "\n",
    "a, *b = (-10, 5, 2, 100)        a = -10     b = [5, 2, 100] <---- this is still a list!   It always unpacks to a list.\n",
    "\n",
    "a, *b = 'XYZ'                   a = 'X'     b  = ['Y', 'Z'] <---- this is still a list!   It always unpacks to a list.\n",
    "\n",
    "    The following also works:\n",
    "\n",
    "a, b, *c = 1, 2, 3, 4, 5        a = 1       b = 2       c = [3, 4, 5]\n",
    "\n",
    "a, b, *c, d = [1, 2, 33, 4, 5]  a = 1       b = 2       c = [3, 4]      d = 5\n",
    "\n",
    "a, *b, c, d = 'python'          a = 'p'     b = ['y', 't', 'h']     c = 'o',    d = 'n'\n",
    "\n",
    "\n",
    "\n",
    "<!-- The * operator can only be used once in the LHS of a unpacking assignment. SEE BELOW!! -->\n",
    "\n",
    "FOR OBVIOUS REASONS, I CANNOT WRITE SOMETHING LIKE THIS:\n",
    "\n",
    "A, *B, *C = [1, 2, 3, 4, 5, 6]\n",
    "\n",
    "Since both *b and *c mean the \"rest\", both cannot exhaust the remaining elements.\n",
    "\n",
    "\n",
    "\n"
   ]
  }
 ],
 "metadata": {
  "kernelspec": {
   "display_name": "Python 3.9.12 ('base')",
   "language": "python",
   "name": "python3"
  },
  "language_info": {
   "codemirror_mode": {
    "name": "ipython",
    "version": 3
   },
   "file_extension": ".py",
   "mimetype": "text/x-python",
   "name": "python",
   "nbconvert_exporter": "python",
   "pygments_lexer": "ipython3",
   "version": "3.9.12"
  },
  "vscode": {
   "interpreter": {
    "hash": "a624adbc5e596fddf72740b255048309200567f23df85867ce297e9f9d364c1b"
   }
  }
 },
 "nbformat": 4,
 "nbformat_minor": 5
}
