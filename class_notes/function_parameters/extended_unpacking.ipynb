{
 "cells": [
  {
   "cell_type": "markdown",
   "id": "4712bcf9",
   "metadata": {},
   "source": [
    "            Extended Unpzcking"
   ]
  },
  {
   "cell_type": "markdown",
   "id": "2974a18b",
   "metadata": {},
   "source": [
    "Using the * and ** Operators"
   ]
  },
  {
   "cell_type": "markdown",
   "id": "453142a9",
   "metadata": {},
   "source": [
    "            The use case for *                          # Much of this section applies to Python>= 3.5\n",
    "\n",
    "We don't always want to unpack every single item in an iterable.\n",
    "\n",
    "We may, for example, want to unpack the first value, and then unpack the remaining values into another variable.\n",
    "\n",
    "l = [1, 2, 3, 4, 5, 6]\n",
    "\n",
    "We can achieve this using slicing:      a = l[0]\n",
    "                                        b = l[1: ]\n",
    "\n",
    "or, using simple unpacking:             a, b = l[0], l[1:]      (aka parallel assignment)\n",
    "\n",
    "We can also use the * operator:         a, *b = l\n",
    "\n",
    "\n",
    "\n"
   ]
  }
 ],
 "metadata": {
  "kernelspec": {
   "display_name": "Python 3 (ipykernel)",
   "language": "python",
   "name": "python3"
  },
  "language_info": {
   "codemirror_mode": {
    "name": "ipython",
    "version": 3
   },
   "file_extension": ".py",
   "mimetype": "text/x-python",
   "name": "python",
   "nbconvert_exporter": "python",
   "pygments_lexer": "ipython3",
   "version": "3.9.12"
  }
 },
 "nbformat": 4,
 "nbformat_minor": 5
}
