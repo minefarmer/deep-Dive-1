{
 "cells": [
  {
   "cell_type": "markdown",
   "id": "9296662d",
   "metadata": {},
   "source": [
    "**KWARGS"
   ]
  },
  {
   "cell_type": "markdown",
   "id": "001a5f3c",
   "metadata": {},
   "source": [
    "*args is used to scoop up variable amount of remaining positional arguments     -> tuple\n",
    "    The parameter name args is arbitrary - * is the real performer here\n",
    "\n",
    "**kwargs is used to scoop up a variable amount of remaining keyword arguments.  -> dictionary\n",
    "    The parameter name kwargs is arbitrary - ** is the real performer here.\n",
    "\n",
    "**kwargs can be specified even if the positional arguments have not been exhausted.     (unlike keyword-only arguments)\n",
    "\n",
    "No parameters can come after **kwargs\n",
    "\n",
    "\n",
    "\n",
    "Example  ****************************************************\n",
    "\n",
    "def func(*, d, **kwargs):\n",
    "    # code\n",
    "\n",
    "func(d=1, a=2, b=3)         -> d = 1\n",
    "\n",
    "                                kwargs = {'a': 2, 'b': 3}\n",
    "\n",
    "func(d=1)                   -> d = 1\n",
    "\n",
    "                                kwargs = {}\n",
    "\n",
    "\n",
    "Example  ****************************************************\n",
    "\n",
    "def func(**kwargs):\n",
    "    # code\n",
    "\n",
    "func(a=1, b=2, c=3)     -> kwargs = {'a': 1, 'b': 2, 'c': 3}\n",
    "\n",
    "func()                  -> kwargs = {}\n",
    "\n",
    "\n",
    "def func(*args, **kwargs):\n",
    "    # code\n",
    "\n",
    "func(1, 2, a=10, b=20)  -> args = (1, 2)\n",
    "                           kwargs = {'a': 10, 'b': 20}\n"
   ]
  },
  {
   "cell_type": "code",
   "execution_count": 2,
   "id": "9eeb0e99",
   "metadata": {},
   "outputs": [],
   "source": [
    "def func(**others):\n",
    "    print(others)"
   ]
  },
  {
   "cell_type": "code",
   "execution_count": 3,
   "id": "7fb9b99a",
   "metadata": {},
   "outputs": [
    {
     "name": "stdout",
     "output_type": "stream",
     "text": [
      "{'a': 1, 'b': 2, 'c': 3}\n"
     ]
    }
   ],
   "source": [
    "func(a=1, b=2, c=3)"
   ]
  },
  {
   "cell_type": "code",
   "execution_count": 4,
   "id": "44e4c4ba",
   "metadata": {},
   "outputs": [],
   "source": [
    "def func(*args, **kwargs):\n",
    "    print(args)\n",
    "    print(kwargs)"
   ]
  },
  {
   "cell_type": "code",
   "execution_count": 5,
   "id": "fe3235db",
   "metadata": {},
   "outputs": [
    {
     "name": "stdout",
     "output_type": "stream",
     "text": [
      "(1, 2)\n",
      "{'x': 100, 'y': 200}\n"
     ]
    }
   ],
   "source": [
    "func(1, 2, x=100, y=200)"
   ]
  },
  {
   "cell_type": "code",
   "execution_count": 6,
   "id": "8291ece3",
   "metadata": {},
   "outputs": [
    {
     "ename": "SyntaxError",
     "evalue": "named arguments must follow bare * (678502207.py, line 1)",
     "output_type": "error",
     "traceback": [
      "\u001b[1;36m  Input \u001b[1;32mIn [6]\u001b[1;36m\u001b[0m\n\u001b[1;33m    def func(a, b, *, **kwargs):\u001b[0m\n\u001b[1;37m                      ^\u001b[0m\n\u001b[1;31mSyntaxError\u001b[0m\u001b[1;31m:\u001b[0m named arguments must follow bare *\n"
     ]
    }
   ],
   "source": [
    "def func(a, b, *, **kwargs):\n",
    "    print(a)\n",
    "    print(b)\n",
    "    print(kwargs)"
   ]
  },
  {
   "cell_type": "code",
   "execution_count": 10,
   "id": "80351f1b",
   "metadata": {},
   "outputs": [],
   "source": [
    "def func(a, b, *, d,  **kwargs):\n",
    "    print(a)\n",
    "    print(b)\n",
    "    print(d)\n",
    "    print(kwargs)"
   ]
  },
  {
   "cell_type": "code",
   "execution_count": 11,
   "id": "0a6cbc9f",
   "metadata": {},
   "outputs": [
    {
     "name": "stdout",
     "output_type": "stream",
     "text": [
      "1\n",
      "2\n",
      "20\n",
      "{'x': 100, 'y': 200}\n"
     ]
    }
   ],
   "source": [
    "func(1, 2, x=100, y=200, d=20)"
   ]
  },
  {
   "cell_type": "code",
   "execution_count": 12,
   "id": "d1992ea1",
   "metadata": {},
   "outputs": [],
   "source": [
    "def func(a, b,  **kwargs):\n",
    "    print(a)\n",
    "    print(b)\n",
    "    print(kwargs)"
   ]
  },
  {
   "cell_type": "code",
   "execution_count": 13,
   "id": "74d67863",
   "metadata": {},
   "outputs": [
    {
     "name": "stdout",
     "output_type": "stream",
     "text": [
      "1\n",
      "2\n",
      "{'x': 100, 'y': 200}\n"
     ]
    }
   ],
   "source": [
    "func(1, 2, x=100, y=200)"
   ]
  }
 ],
 "metadata": {
  "kernelspec": {
   "display_name": "Python 3 (ipykernel)",
   "language": "python",
   "name": "python3"
  },
  "language_info": {
   "codemirror_mode": {
    "name": "ipython",
    "version": 3
   },
   "file_extension": ".py",
   "mimetype": "text/x-python",
   "name": "python",
   "nbconvert_exporter": "python",
   "pygments_lexer": "ipython3",
   "version": "3.9.12"
  },
  "vscode": {
   "interpreter": {
    "hash": "a624adbc5e596fddf72740b255048309200567f23df85867ce297e9f9d364c1b"
   }
  }
 },
 "nbformat": 4,
 "nbformat_minor": 5
}
