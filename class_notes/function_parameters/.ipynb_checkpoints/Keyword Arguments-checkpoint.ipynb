{
 "cells": [
  {
   "cell_type": "markdown",
   "id": "28fba1bc",
   "metadata": {},
   "source": [
    "Keyword Arguments"
   ]
  },
  {
   "cell_type": "markdown",
   "id": "9f9d6d86",
   "metadata": {},
   "source": [
    "            Positional parameters can, optionally be passed as named (keyword) arguments.\n",
    "\n",
    "def func(a, b, c):\n",
    "    # code\n",
    "\n",
    "func(1, 2, 3)           ->  a - 1, b = 2, c= 3\n",
    "\n",
    "func(a=1, c=3, b =2)    ->  a - 1, b = 2, c= 3\n"
   ]
  },
  {
   "cell_type": "markdown",
   "id": "290116a1",
   "metadata": {},
   "source": [
    "            Mandatory Keyword Arguments\n",
    "I can make keyword arguments mandatory.\n",
    "To do, we create parameters after the positional parameters have been exhausted.\n",
    "\n",
    "def func(a, b, *args, d):\n",
    "    # code\n",
    "\n",
    "In this case, *args effectually exhausts all positional arguments and d must be passed as a keyword argument.\n",
    "\n",
    "func(1, 2, 'x', 'y', d = 100)   -> a = 1, b = 2, args = ('x', 'y'), d = 100\n",
    "\n",
    "func(1, 2, d=100)   -> a = 1, b = 2, args = (), d = 100\n",
    "\n",
    "func(1, 2)  # will fail     # it will fail because d was not a keyword argument.\n",
    "\n"
   ]
  },
  {
   "cell_type": "markdown",
   "id": "236ad98f",
   "metadata": {},
   "source": [
    "We can even omit any mandatory positional arguments:\n",
    "\n",
    "def func(*args, do):\n",
    "    # code\n",
    "\n",
    "\n",
    "func(1, 2, 3, d =100)   -> args = (1, 2, 3), d = 100\n",
    "\n",
    "func(d = 100)           -> args = (), d = 100\n",
    "\n",
    "\n",
    "    We can force no positional arguments at all:\n",
    "\n",
    "def func(*, d):     * indicates the \"end\" of positional arguments.\n",
    "    # code\n",
    "\n",
    "func(1,2, 3, d=100)     -> Exception  blah!!\n",
    "\n",
    "func(d=100)             -> d = 100   # OK, it works\n"
   ]
  },
  {
   "cell_type": "markdown",
   "id": "8b9afd96",
   "metadata": {},
   "source": [
    "Putting it all together\n",
    "\n",
    "def func(a, b= 1, *args, d, e = True):                                      def func(a, b =1,  *, d, e = True)\n",
    "\n",
    "        a: is a mandatory positional argument (may be specified ising a named argument)\n",
    "\n",
    "        b:  optional positional argument (may be specified positionally, as a named argument, or not at all), defaulta to 1\n",
    "\n",
    "args: catch-all for any (optional) additional positional arguments          *: no additional positional arguments allowed\n",
    "\n",
    "                                                d: mandatory keyword argument\n",
    "\n",
    "                                                e: optional keyword argument, defaults to True\n"
   ]
  },
  {
   "cell_type": "markdown",
   "id": "d081cd37",
   "metadata": {},
   "source": [
    "Keyword Arguments"
   ]
  },
  {
   "cell_type": "code",
   "execution_count": 2,
   "id": "07118829",
   "metadata": {},
   "outputs": [],
   "source": [
    "def func1(a, b, c):\n",
    "    print(a, b, c)"
   ]
  },
  {
   "cell_type": "code",
   "execution_count": 3,
   "id": "53dc2859",
   "metadata": {},
   "outputs": [
    {
     "name": "stdout",
     "output_type": "stream",
     "text": [
      "1 2 3\n"
     ]
    }
   ],
   "source": [
    "func1(1, 2, 3)"
   ]
  },
  {
   "cell_type": "code",
   "execution_count": 4,
   "id": "52be0498",
   "metadata": {},
   "outputs": [
    {
     "name": "stdout",
     "output_type": "stream",
     "text": [
      "1 2 3\n"
     ]
    }
   ],
   "source": [
    "func1(1, c=3, b=2)      # Once I start using named arguments = I must continue using them"
   ]
  },
  {
   "cell_type": "code",
   "execution_count": 6,
   "id": "7f644ffd",
   "metadata": {},
   "outputs": [
    {
     "name": "stdout",
     "output_type": "stream",
     "text": [
      "1 2 3\n"
     ]
    }
   ],
   "source": [
    "func1(c=3, b=2, a=1)"
   ]
  },
  {
   "cell_type": "code",
   "execution_count": 7,
   "id": "eedd6c1a",
   "metadata": {},
   "outputs": [],
   "source": [
    "def func1(a, b, *args):\n",
    "    print(a, b, args)"
   ]
  },
  {
   "cell_type": "code",
   "execution_count": 8,
   "id": "7c34c2a1",
   "metadata": {},
   "outputs": [
    {
     "name": "stdout",
     "output_type": "stream",
     "text": [
      "1 2 (3, 4)\n"
     ]
    }
   ],
   "source": [
    "func1(1, 2, 3, 4)"
   ]
  },
  {
   "cell_type": "code",
   "execution_count": 10,
   "id": "b05ac573",
   "metadata": {},
   "outputs": [],
   "source": [
    "def func1(a, b, *args, d):\n",
    "    print(a, b, args, d)"
   ]
  },
  {
   "cell_type": "code",
   "execution_count": 12,
   "id": "74deef27",
   "metadata": {},
   "outputs": [
    {
     "name": "stdout",
     "output_type": "stream",
     "text": [
      "1 2 (3, 4) 5\n"
     ]
    }
   ],
   "source": [
    "func1(1, 2, 3, 4, d=5)"
   ]
  },
  {
   "cell_type": "code",
   "execution_count": 13,
   "id": "2dd4d679",
   "metadata": {},
   "outputs": [],
   "source": [
    "def func1(*args, d):\n",
    "    print(args, d)"
   ]
  },
  {
   "cell_type": "code",
   "execution_count": 14,
   "id": "d6f9fe3f",
   "metadata": {},
   "outputs": [
    {
     "name": "stdout",
     "output_type": "stream",
     "text": [
      "(1, 2, 3) a\n"
     ]
    }
   ],
   "source": [
    "func1(1, 2, 3, d='a')"
   ]
  },
  {
   "cell_type": "code",
   "execution_count": 15,
   "id": "0cba8bc7",
   "metadata": {},
   "outputs": [
    {
     "name": "stdout",
     "output_type": "stream",
     "text": [
      "() a\n"
     ]
    }
   ],
   "source": [
    "func1(d='a')"
   ]
  },
  {
   "cell_type": "code",
   "execution_count": 17,
   "id": "a2f95d18",
   "metadata": {},
   "outputs": [],
   "source": [
    "def func(*, d):\n",
    "    print(d)"
   ]
  },
  {
   "cell_type": "code",
   "execution_count": 18,
   "id": "1fce2461",
   "metadata": {},
   "outputs": [
    {
     "ename": "TypeError",
     "evalue": "func() takes 0 positional arguments but 2 positional arguments (and 1 keyword-only argument) were given",
     "output_type": "error",
     "traceback": [
      "\u001b[1;31m---------------------------------------------------------------------------\u001b[0m",
      "\u001b[1;31mTypeError\u001b[0m                                 Traceback (most recent call last)",
      "\u001b[1;32mc:\\Users\\pgold\\MatsHub\\deep-Dive-1\\class_notes\\function_parameters\\Keyword Arguments.ipynb Cell 19\u001b[0m in \u001b[0;36m<cell line: 1>\u001b[1;34m()\u001b[0m\n\u001b[1;32m----> <a href='vscode-notebook-cell:/c%3A/Users/pgold/MatsHub/deep-Dive-1/class_notes/function_parameters/Keyword%20Arguments.ipynb#ch0000019?line=0'>1</a>\u001b[0m func(\u001b[39m1\u001b[39;49m, \u001b[39m2\u001b[39;49m, d\u001b[39m=\u001b[39;49m\u001b[39m100\u001b[39;49m)\n",
      "\u001b[1;31mTypeError\u001b[0m: func() takes 0 positional arguments but 2 positional arguments (and 1 keyword-only argument) were given"
     ]
    }
   ],
   "source": [
    "func(1, 2, d=100)"
   ]
  },
  {
   "cell_type": "code",
   "execution_count": 19,
   "id": "b8401711",
   "metadata": {},
   "outputs": [
    {
     "name": "stdout",
     "output_type": "stream",
     "text": [
      "100\n"
     ]
    }
   ],
   "source": [
    "func(d=100)   # solution to above type error."
   ]
  },
  {
   "cell_type": "code",
   "execution_count": 21,
   "id": "75f27219",
   "metadata": {},
   "outputs": [],
   "source": [
    "def func(a, b, *, d):\n",
    "    print(a, b, d)"
   ]
  },
  {
   "cell_type": "code",
   "execution_count": 23,
   "id": "96707a96",
   "metadata": {},
   "outputs": [
    {
     "name": "stdout",
     "output_type": "stream",
     "text": [
      "1 2 4\n"
     ]
    }
   ],
   "source": [
    "func(1, 2, d=4)"
   ]
  },
  {
   "cell_type": "code",
   "execution_count": 26,
   "id": "0e955d77",
   "metadata": {},
   "outputs": [],
   "source": [
    "def func(a, b=2, *args, d):\n",
    "    print(a, b, args, d)"
   ]
  },
  {
   "cell_type": "code",
   "execution_count": 28,
   "id": "67ad5134",
   "metadata": {},
   "outputs": [
    {
     "name": "stdout",
     "output_type": "stream",
     "text": [
      "1 5 (3, 4) a\n"
     ]
    }
   ],
   "source": [
    "func(1, 5, 3, 4, d='a')"
   ]
  },
  {
   "cell_type": "code",
   "execution_count": 33,
   "id": "8eb602a8",
   "metadata": {},
   "outputs": [],
   "source": [
    "def func(a, b = 20, *args, d=0, e):\n",
    "    print(a, b, args, d, e)"
   ]
  },
  {
   "cell_type": "code",
   "execution_count": 35,
   "id": "8501738d",
   "metadata": {},
   "outputs": [
    {
     "name": "stdout",
     "output_type": "stream",
     "text": [
      "5 4 (3, 2, 1) 0 all engines running\n"
     ]
    }
   ],
   "source": [
    "func(5, 4, 3, 2, 1, e = 'all engines running')"
   ]
  },
  {
   "cell_type": "code",
   "execution_count": 38,
   "id": "402e798c",
   "metadata": {},
   "outputs": [
    {
     "name": "stdout",
     "output_type": "stream",
     "text": [
      "0 600 () good morning python!\n"
     ]
    }
   ],
   "source": [
    "func(0, 600, d= 'good morning', e = 'python!')"
   ]
  },
  {
   "cell_type": "code",
   "execution_count": 39,
   "id": "a1af1f34",
   "metadata": {},
   "outputs": [
    {
     "name": "stdout",
     "output_type": "stream",
     "text": [
      "11 m/s (24, 'mph') unladen swallow\n"
     ]
    }
   ],
   "source": [
    "func(11, 'm/s', 24, 'mph', d='unladen', e='swallow')"
   ]
  }
 ],
 "metadata": {
  "kernelspec": {
   "display_name": "Python 3 (ipykernel)",
   "language": "python",
   "name": "python3"
  },
  "language_info": {
   "codemirror_mode": {
    "name": "ipython",
    "version": 3
   },
   "file_extension": ".py",
   "mimetype": "text/x-python",
   "name": "python",
   "nbconvert_exporter": "python",
   "pygments_lexer": "ipython3",
   "version": "3.9.12"
  },
  "vscode": {
   "interpreter": {
    "hash": "a624adbc5e596fddf72740b255048309200567f23df85867ce297e9f9d364c1b"
   }
  }
 },
 "nbformat": 4,
 "nbformat_minor": 5
}
