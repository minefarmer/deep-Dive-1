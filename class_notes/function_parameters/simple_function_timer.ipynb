{
 "cells": [
  {
   "cell_type": "markdown",
   "id": "91a31488",
   "metadata": {},
   "source": [
    "                        A Simple Function Timer"
   ]
  },
  {
   "cell_type": "code",
   "execution_count": 36,
   "id": "7fb3a2f2",
   "metadata": {},
   "outputs": [],
   "source": [
    "import time"
   ]
  },
  {
   "cell_type": "code",
   "execution_count": 37,
   "id": "b323cde5",
   "metadata": {},
   "outputs": [],
   "source": [
    "def time_it(fn, *args, **kwargs):\n",
    "    print(args, kwargs)"
   ]
  },
  {
   "cell_type": "code",
   "execution_count": 38,
   "id": "c21409d5",
   "metadata": {},
   "outputs": [
    {
     "name": "stdout",
     "output_type": "stream",
     "text": [
      "(1, 2, 3) {'sep': ' - ', 'end': ' *** '}\n"
     ]
    }
   ],
   "source": [
    "time_it(print, 1, 2, 3, sep=' - ', end=' *** ')"
   ]
  },
  {
   "cell_type": "code",
   "execution_count": 39,
   "id": "7fd0c1c7",
   "metadata": {},
   "outputs": [],
   "source": [
    "def time_it(fn, *args, rep=1, **kwargs):\n",
    "    for i in range(rep):\n",
    "        fn(*args, **kwargs)"
   ]
  },
  {
   "cell_type": "code",
   "execution_count": 40,
   "id": "6879f81c",
   "metadata": {},
   "outputs": [
    {
     "name": "stdout",
     "output_type": "stream",
     "text": [
      "1 - 2 - 3 ***\n",
      "1 - 2 - 3 ***\n",
      "1 - 2 - 3 ***\n",
      "1 - 2 - 3 ***\n",
      "1 - 2 - 3 ***\n"
     ]
    }
   ],
   "source": [
    "time_it(print, 1, 2, 3, sep=' - ', end=' ***\\n', rep=5)"
   ]
  },
  {
   "cell_type": "code",
   "execution_count": 41,
   "id": "44ddd9cd",
   "metadata": {},
   "outputs": [],
   "source": [
    "def time_it(fn, *args, rep=1, **kwargs):\n",
    "    start = time.perf_counter()\n",
    "    for i in range(rep):\n",
    "        fn(*args, **kwargs)\n",
    "    end = time.perf_counter()\n",
    "    return (end - start) / rep"
   ]
  },
  {
   "cell_type": "code",
   "execution_count": 42,
   "id": "c92b4f58",
   "metadata": {},
   "outputs": [
    {
     "name": "stdout",
     "output_type": "stream",
     "text": [
      "1 - 2 - 3 ***\n",
      "1 - 2 - 3 ***\n",
      "1 - 2 - 3 ***\n",
      "1 - 2 - 3 ***\n",
      "1 - 2 - 3 ***\n"
     ]
    },
    {
     "data": {
      "text/plain": [
       "0.0006288000000495231"
      ]
     },
     "execution_count": 42,
     "metadata": {},
     "output_type": "execute_result"
    }
   ],
   "source": [
    "time_it(print, 1, 2, 3, sep=' - ', end=' ***\\n', rep=5)"
   ]
  },
  {
   "cell_type": "code",
   "execution_count": 43,
   "id": "8cd822b9",
   "metadata": {},
   "outputs": [],
   "source": [
    "def computer_powers_1(n, *, start=1, end):\n",
    "    # using a for loop\n",
    "    results = []\n",
    "    for i in range(start, end):\n",
    "        results.append(n**i)\n",
    "    return results"
   ]
  },
  {
   "cell_type": "code",
   "execution_count": 44,
   "id": "ed6caa2e",
   "metadata": {},
   "outputs": [
    {
     "data": {
      "text/plain": [
       "[2, 4, 8, 16]"
      ]
     },
     "execution_count": 44,
     "metadata": {},
     "output_type": "execute_result"
    }
   ],
   "source": [
    "computer_powers_1(2, end=5)"
   ]
  },
  {
   "cell_type": "code",
   "execution_count": 45,
   "id": "4bc7563f",
   "metadata": {},
   "outputs": [],
   "source": [
    "def computer_powers_2(n, *, start=1, end):\n",
    "    # using a list comprehension\n",
    "    return [n**i for i in range(start, end)]"
   ]
  },
  {
   "cell_type": "code",
   "execution_count": 46,
   "id": "ffda8130",
   "metadata": {},
   "outputs": [
    {
     "data": {
      "text/plain": [
       "[2, 4, 8, 16]"
      ]
     },
     "execution_count": 46,
     "metadata": {},
     "output_type": "execute_result"
    }
   ],
   "source": [
    "computer_powers_2(2, end=5)"
   ]
  },
  {
   "cell_type": "code",
   "execution_count": 47,
   "id": "f18559ab",
   "metadata": {},
   "outputs": [],
   "source": [
    "def computer_powers_3(n, *, start=1, end):\n",
    "    # using a generators expression\n",
    "    return (n**i for i in range(start, end))"
   ]
  },
  {
   "cell_type": "code",
   "execution_count": 50,
   "id": "2ef09286",
   "metadata": {},
   "outputs": [
    {
     "data": {
      "text/plain": [
       "<generator object computer_powers_3.<locals>.<genexpr> at 0x00000179EF970350>"
      ]
     },
     "execution_count": 50,
     "metadata": {},
     "output_type": "execute_result"
    }
   ],
   "source": [
    "computer_powers_3(2, end=5)"
   ]
  },
  {
   "cell_type": "code",
   "execution_count": 52,
   "id": "12d8d28c",
   "metadata": {},
   "outputs": [
    {
     "data": {
      "text/plain": [
       "[2, 4, 8, 16]"
      ]
     },
     "execution_count": 52,
     "metadata": {},
     "output_type": "execute_result"
    }
   ],
   "source": [
    "list(computer_powers_3(2, end=5))"
   ]
  },
  {
   "cell_type": "code",
   "execution_count": 54,
   "id": "eca6891a",
   "metadata": {},
   "outputs": [
    {
     "data": {
      "text/plain": [
       "3.7800000427523628e-06"
      ]
     },
     "execution_count": 54,
     "metadata": {},
     "output_type": "execute_result"
    }
   ],
   "source": [
    "time_it(computer_powers_3, 2, start=0, rep=5, end=20000)"
   ]
  },
  {
   "cell_type": "code",
   "execution_count": 55,
   "id": "3fd6b3cb",
   "metadata": {},
   "outputs": [
    {
     "data": {
      "text/plain": [
       "0.6594022000000223"
      ]
     },
     "execution_count": 55,
     "metadata": {},
     "output_type": "execute_result"
    }
   ],
   "source": [
    "time_it(computer_powers_2, n=2, start=0, rep=5, end=20000)"
   ]
  },
  {
   "cell_type": "code",
   "execution_count": 57,
   "id": "b26e0f0c",
   "metadata": {},
   "outputs": [],
   "source": [
    "def time_it(fn, *args, rep=1, **kwargs):\n",
    "    print(args, rep, kwargs)"
   ]
  },
  {
   "cell_type": "code",
   "execution_count": 60,
   "id": "f0d337a0",
   "metadata": {},
   "outputs": [
    {
     "name": "stdout",
     "output_type": "stream",
     "text": [
      "() 5 {'n': 1, 'start': 0, 'end': 20000}\n"
     ]
    }
   ],
   "source": [
    "time_it(print, n=1, start=0, end=20000, rep=5)"
   ]
  },
  {
   "cell_type": "code",
   "execution_count": 61,
   "id": "8126c558",
   "metadata": {},
   "outputs": [],
   "source": [
    "def computer_powers_3(n, *, start=1, end):\n",
    "    # using a generators expression\n",
    "    return (n**i for i in range(start, end))"
   ]
  },
  {
   "cell_type": "code",
   "execution_count": 62,
   "id": "79543723",
   "metadata": {},
   "outputs": [
    {
     "data": {
      "text/plain": [
       "[2, 4, 8, 16]"
      ]
     },
     "execution_count": 62,
     "metadata": {},
     "output_type": "execute_result"
    }
   ],
   "source": [
    "list(computer_powers_3(2, end=5))"
   ]
  },
  {
   "cell_type": "code",
   "execution_count": 63,
   "id": "1feb54b5",
   "metadata": {},
   "outputs": [
    {
     "name": "stdout",
     "output_type": "stream",
     "text": [
      "(2,) 5 {'start': 0, 'end': 20000}\n"
     ]
    }
   ],
   "source": [
    "time_it(computer_powers_1, 2, start=0, rep=5, end=20000)"
   ]
  },
  {
   "cell_type": "code",
   "execution_count": 65,
   "id": "20ab5ac3",
   "metadata": {},
   "outputs": [
    {
     "name": "stdout",
     "output_type": "stream",
     "text": [
      "(2,) 5 {'start': 0, 'end': 20000}\n"
     ]
    }
   ],
   "source": [
    "time_it(computer_powers_2, 2, start=0, rep=5, end=20000)"
   ]
  }
 ],
 "metadata": {
  "kernelspec": {
   "display_name": "Python 3.9.12 ('base')",
   "language": "python",
   "name": "python3"
  },
  "language_info": {
   "codemirror_mode": {
    "name": "ipython",
    "version": 3
   },
   "file_extension": ".py",
   "mimetype": "text/x-python",
   "name": "python",
   "nbconvert_exporter": "python",
   "pygments_lexer": "ipython3",
   "version": "3.9.12"
  },
  "vscode": {
   "interpreter": {
    "hash": "a624adbc5e596fddf72740b255048309200567f23df85867ce297e9f9d364c1b"
   }
  }
 },
 "nbformat": 4,
 "nbformat_minor": 5
}
