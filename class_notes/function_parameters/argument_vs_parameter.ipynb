{
 "cells": [
  {
   "cell_type": "markdown",
   "id": "0e966692",
   "metadata": {},
   "source": [
    "Argument vs Parameter"
   ]
  },
  {
   "cell_type": "code",
   "execution_count": 1,
   "id": "f12a0c2f",
   "metadata": {},
   "outputs": [
    {
     "ename": "SyntaxError",
     "evalue": "invalid syntax (2944400826.py, line 1)",
     "output_type": "error",
     "traceback": [
      "\u001b[1;36m  Input \u001b[1;32mIn [1]\u001b[1;36m\u001b[0m\n\u001b[1;33m    Semantics!\u001b[0m\n\u001b[1;37m             ^\u001b[0m\n\u001b[1;31mSyntaxError\u001b[0m\u001b[1;31m:\u001b[0m invalid syntax\n"
     ]
    }
   ],
   "source": [
    "Semantics!\n",
    "\n",
    "    def my_dunc(a, b):      In this context, a and b are called parameters of my_func\n",
    "        # code here\n",
    "                            Also note that a and b are variables, local to my_func\n",
    "\n",
    "When we call the function:\n",
    "\n",
    "    x = 10\n",
    "    y = 'a'\n",
    "\n",
    "    my_func(x, y)\n",
    "\n",
    "\n",
    "    Module Scope      0xA13F    Function Scope\n",
    "                /  10 <-------- a\n",
    "    x ---------/\n",
    "\n",
    "    y ---------\\\n",
    "                \\   0xE345\n",
    "                 'a'  <--------- b\n",
    "\n",
    "\n"
   ]
  }
 ],
 "metadata": {
  "kernelspec": {
   "display_name": "Python 3.9.12 ('base')",
   "language": "python",
   "name": "python3"
  },
  "language_info": {
   "codemirror_mode": {
    "name": "ipython",
    "version": 3
   },
   "file_extension": ".py",
   "mimetype": "text/x-python",
   "name": "python",
   "nbconvert_exporter": "python",
   "pygments_lexer": "ipython3",
   "version": "3.9.12"
  },
  "vscode": {
   "interpreter": {
    "hash": "a624adbc5e596fddf72740b255048309200567f23df85867ce297e9f9d364c1b"
   }
  }
 },
 "nbformat": 4,
 "nbformat_minor": 5
}
