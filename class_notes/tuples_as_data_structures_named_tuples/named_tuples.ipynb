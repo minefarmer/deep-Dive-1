{
 "cells": [
  {
   "cell_type": "markdown",
   "id": "c318914b",
   "metadata": {},
   "source": [
    "                        Named Tuples"
   ]
  },
  {
   "cell_type": "code",
   "execution_count": 72,
   "id": "f6fb9170",
   "metadata": {},
   "outputs": [],
   "source": [
    "class Point3D:\n",
    "    def __init__(self, x, y, z):\n",
    "        self.x = x\n",
    "        self.y = y\n",
    "        self.z = z"
   ]
  },
  {
   "cell_type": "code",
   "execution_count": 73,
   "id": "402ab116",
   "metadata": {},
   "outputs": [],
   "source": [
    "from collections import namedtuple"
   ]
  },
  {
   "cell_type": "code",
   "execution_count": 74,
   "id": "20b8bc4e",
   "metadata": {},
   "outputs": [],
   "source": [
    "Point2D = namedtuple('Point2D', ['x', 'y'])"
   ]
  },
  {
   "cell_type": "code",
   "execution_count": 75,
   "id": "1454ef90",
   "metadata": {},
   "outputs": [],
   "source": [
    "pt1 = Point2D(10, 20)"
   ]
  },
  {
   "cell_type": "code",
   "execution_count": 76,
   "id": "11bc35a2",
   "metadata": {},
   "outputs": [
    {
     "data": {
      "text/plain": [
       "Point2D(x=10, y=20)"
      ]
     },
     "execution_count": 76,
     "metadata": {},
     "output_type": "execute_result"
    }
   ],
   "source": [
    "pt1"
   ]
  },
  {
   "cell_type": "code",
   "execution_count": 77,
   "id": "096b2648",
   "metadata": {},
   "outputs": [],
   "source": [
    "pt3d_1 = Point3D(10, 20, 30)"
   ]
  },
  {
   "cell_type": "code",
   "execution_count": 78,
   "id": "c85780e5",
   "metadata": {},
   "outputs": [
    {
     "data": {
      "text/plain": [
       "<__main__.Point3D at 0x223558c5a90>"
      ]
     },
     "execution_count": 78,
     "metadata": {},
     "output_type": "execute_result"
    }
   ],
   "source": [
    "pt3d_1"
   ]
  },
  {
   "cell_type": "code",
   "execution_count": 79,
   "id": "ae552978",
   "metadata": {},
   "outputs": [],
   "source": [
    "Point2D = namedtuple('Point2D', ['x', 'y', 'z'])"
   ]
  },
  {
   "cell_type": "code",
   "execution_count": 80,
   "id": "d6e34ab4",
   "metadata": {},
   "outputs": [],
   "source": [
    "pt2 = Point2D(10, 20, 30)"
   ]
  },
  {
   "cell_type": "code",
   "execution_count": 81,
   "id": "14c80460",
   "metadata": {},
   "outputs": [
    {
     "data": {
      "text/plain": [
       "Point2D(x=10, y=20, z=30)"
      ]
     },
     "execution_count": 81,
     "metadata": {},
     "output_type": "execute_result"
    }
   ],
   "source": [
    "pt2"
   ]
  },
  {
   "cell_type": "code",
   "execution_count": 82,
   "id": "71f2029e",
   "metadata": {},
   "outputs": [],
   "source": [
    "Pt3D = Point3D"
   ]
  },
  {
   "cell_type": "code",
   "execution_count": 83,
   "id": "dcc75485",
   "metadata": {},
   "outputs": [],
   "source": [
    "p = Pt3D(10, 20, 30)"
   ]
  },
  {
   "cell_type": "code",
   "execution_count": 84,
   "id": "05c4c71f",
   "metadata": {},
   "outputs": [
    {
     "data": {
      "text/plain": [
       "<__main__.Point3D at 0x22355a948b0>"
      ]
     },
     "execution_count": 84,
     "metadata": {},
     "output_type": "execute_result"
    }
   ],
   "source": [
    "p"
   ]
  },
  {
   "cell_type": "code",
   "execution_count": 85,
   "id": "95b02a85",
   "metadata": {},
   "outputs": [],
   "source": [
    "p = Point3D(x=10, y=20, z=30)"
   ]
  },
  {
   "cell_type": "code",
   "execution_count": 86,
   "id": "55b2b463",
   "metadata": {},
   "outputs": [
    {
     "data": {
      "text/plain": [
       "10"
      ]
     },
     "execution_count": 86,
     "metadata": {},
     "output_type": "execute_result"
    }
   ],
   "source": [
    "p.x"
   ]
  },
  {
   "cell_type": "code",
   "execution_count": 87,
   "id": "7b8ca4bc",
   "metadata": {},
   "outputs": [
    {
     "data": {
      "text/plain": [
       "20"
      ]
     },
     "execution_count": 87,
     "metadata": {},
     "output_type": "execute_result"
    }
   ],
   "source": [
    "p.y"
   ]
  },
  {
   "cell_type": "code",
   "execution_count": 88,
   "id": "54337ec3",
   "metadata": {},
   "outputs": [],
   "source": [
    "p = Point2D(x=10, y=20, z=30)"
   ]
  },
  {
   "cell_type": "code",
   "execution_count": 89,
   "id": "a6bb87f4",
   "metadata": {},
   "outputs": [
    {
     "data": {
      "text/plain": [
       "True"
      ]
     },
     "execution_count": 89,
     "metadata": {},
     "output_type": "execute_result"
    }
   ],
   "source": [
    "isinstance(p, tuple)"
   ]
  },
  {
   "cell_type": "code",
   "execution_count": 90,
   "id": "677f1a03",
   "metadata": {},
   "outputs": [],
   "source": [
    "p = Point3D(x=10, y=20, z=30)"
   ]
  },
  {
   "cell_type": "code",
   "execution_count": 91,
   "id": "f685278d",
   "metadata": {},
   "outputs": [
    {
     "data": {
      "text/plain": [
       "False"
      ]
     },
     "execution_count": 91,
     "metadata": {},
     "output_type": "execute_result"
    }
   ],
   "source": [
    "isinstance(p, tuple)"
   ]
  },
  {
   "cell_type": "code",
   "execution_count": 92,
   "id": "7069074f",
   "metadata": {},
   "outputs": [],
   "source": [
    "a = (10, 20)\n",
    "b = (10, 20)"
   ]
  },
  {
   "cell_type": "code",
   "execution_count": 93,
   "id": "42c9ad49",
   "metadata": {},
   "outputs": [
    {
     "data": {
      "text/plain": [
       "False"
      ]
     },
     "execution_count": 93,
     "metadata": {},
     "output_type": "execute_result"
    }
   ],
   "source": [
    "a is b"
   ]
  },
  {
   "cell_type": "code",
   "execution_count": 94,
   "id": "57c56d5b",
   "metadata": {},
   "outputs": [
    {
     "data": {
      "text/plain": [
       "True"
      ]
     },
     "execution_count": 94,
     "metadata": {},
     "output_type": "execute_result"
    }
   ],
   "source": [
    "a == b"
   ]
  },
  {
   "cell_type": "code",
   "execution_count": 95,
   "id": "414874ca",
   "metadata": {},
   "outputs": [],
   "source": [
    "pt1 = Point2D(10, 20, 30)\n",
    "pt2 = Point2D(10, 20, 30)"
   ]
  },
  {
   "cell_type": "code",
   "execution_count": 96,
   "id": "00e0215a",
   "metadata": {},
   "outputs": [
    {
     "data": {
      "text/plain": [
       "False"
      ]
     },
     "execution_count": 96,
     "metadata": {},
     "output_type": "execute_result"
    }
   ],
   "source": [
    "pt1 is pt2"
   ]
  },
  {
   "cell_type": "code",
   "execution_count": 97,
   "id": "aeaf4c63",
   "metadata": {},
   "outputs": [
    {
     "data": {
      "text/plain": [
       "True"
      ]
     },
     "execution_count": 97,
     "metadata": {},
     "output_type": "execute_result"
    }
   ],
   "source": [
    "pt1 == pt2"
   ]
  },
  {
   "cell_type": "code",
   "execution_count": 98,
   "id": "02447318",
   "metadata": {},
   "outputs": [],
   "source": [
    "pt1 = Point3D(10, 20, 30)\n",
    "pt2 = Point3D(10, 20, 30)"
   ]
  },
  {
   "cell_type": "code",
   "execution_count": 99,
   "id": "3a92386b",
   "metadata": {},
   "outputs": [
    {
     "data": {
      "text/plain": [
       "False"
      ]
     },
     "execution_count": 99,
     "metadata": {},
     "output_type": "execute_result"
    }
   ],
   "source": [
    "pt1 is pt2"
   ]
  },
  {
   "cell_type": "code",
   "execution_count": 100,
   "id": "bf303658",
   "metadata": {},
   "outputs": [
    {
     "data": {
      "text/plain": [
       "False"
      ]
     },
     "execution_count": 100,
     "metadata": {},
     "output_type": "execute_result"
    }
   ],
   "source": [
    "pt1 == pt2"
   ]
  },
  {
   "cell_type": "code",
   "execution_count": 105,
   "id": "60dfa137",
   "metadata": {},
   "outputs": [],
   "source": [
    "class Point3D:\n",
    "    def __init__(self, x, y, z):\n",
    "        self.x = x\n",
    "        self.y = y\n",
    "        self.z = z\n",
    "    \n",
    "    def __repr__(self):\n",
    "        return f'{self.__class__.__name__}(x={self.x}, y={self.y}, z={self.z})'\n",
    "    \n",
    "    def __eq__(self, other):\n",
    "        if isinstance(other, Point3D):\n",
    "            return self.x == other.x and self.y == other.y and self.z\n",
    "        else:\n",
    "            return False"
   ]
  },
  {
   "cell_type": "code",
   "execution_count": 106,
   "id": "24079d8e",
   "metadata": {},
   "outputs": [],
   "source": [
    "pt1 = Point3D(10, 20, 30)\n",
    "pt2 = Point3D(10, 20, 30)"
   ]
  },
  {
   "cell_type": "code",
   "execution_count": 107,
   "id": "75494fd7",
   "metadata": {},
   "outputs": [
    {
     "data": {
      "text/plain": [
       "Point3D(x=10, y=20, z=30)"
      ]
     },
     "execution_count": 107,
     "metadata": {},
     "output_type": "execute_result"
    }
   ],
   "source": [
    "pt1"
   ]
  },
  {
   "cell_type": "code",
   "execution_count": 113,
   "id": "9a9bb092",
   "metadata": {},
   "outputs": [
    {
     "data": {
      "text/plain": [
       "Point3D(x=10, y=20, z=30)"
      ]
     },
     "execution_count": 113,
     "metadata": {},
     "output_type": "execute_result"
    }
   ],
   "source": [
    "pt2"
   ]
  },
  {
   "cell_type": "code",
   "execution_count": 115,
   "id": "bc8da72b",
   "metadata": {},
   "outputs": [
    {
     "data": {
      "text/plain": [
       "True"
      ]
     },
     "execution_count": 115,
     "metadata": {},
     "output_type": "execute_result"
    }
   ],
   "source": [
    "pt1 is pt2"
   ]
  },
  {
   "cell_type": "code",
   "execution_count": 119,
   "id": "de4d6c56",
   "metadata": {},
   "outputs": [
    {
     "data": {
      "text/plain": [
       "False"
      ]
     },
     "execution_count": 119,
     "metadata": {},
     "output_type": "execute_result"
    }
   ],
   "source": [
    "pt1 != pt2"
   ]
  },
  {
   "cell_type": "markdown",
   "id": "db5c487f",
   "metadata": {},
   "source": [
    "a = a.x, a.y\n",
    "b = b.x, b.y\n",
    "\n",
    "a.b = a.x * b.x + a.y *b.y"
   ]
  },
  {
   "cell_type": "code",
   "execution_count": 126,
   "id": "927dd13d",
   "metadata": {},
   "outputs": [],
   "source": [
    "def dot_product_3d(a, b):\n",
    "    return a.x * b.x + a.y * b.y + a.z * b.z"
   ]
  },
  {
   "cell_type": "code",
   "execution_count": 128,
   "id": "6a9165b1",
   "metadata": {},
   "outputs": [],
   "source": [
    "pt1 = Point3D(1, 2, 3)\n",
    "pt2 = Point3D(1, 1, 1)"
   ]
  },
  {
   "cell_type": "code",
   "execution_count": 129,
   "id": "8f8fd7b6",
   "metadata": {},
   "outputs": [
    {
     "data": {
      "text/plain": [
       "6"
      ]
     },
     "execution_count": 129,
     "metadata": {},
     "output_type": "execute_result"
    }
   ],
   "source": [
    "dot_product_3d(pt1, pt2)"
   ]
  },
  {
   "cell_type": "code",
   "execution_count": 130,
   "id": "3a77ad00",
   "metadata": {},
   "outputs": [],
   "source": [
    "a = (1, 2)\n",
    "b = (1, 1)"
   ]
  },
  {
   "cell_type": "code",
   "execution_count": 131,
   "id": "aa09d5d4",
   "metadata": {},
   "outputs": [
    {
     "data": {
      "text/plain": [
       "[(1, 1), (2, 1)]"
      ]
     },
     "execution_count": 131,
     "metadata": {},
     "output_type": "execute_result"
    }
   ],
   "source": [
    "list(zip(a, b))"
   ]
  },
  {
   "cell_type": "code",
   "execution_count": 132,
   "id": "c541f7e8",
   "metadata": {},
   "outputs": [
    {
     "data": {
      "text/plain": [
       "[1, 2]"
      ]
     },
     "execution_count": 132,
     "metadata": {},
     "output_type": "execute_result"
    }
   ],
   "source": [
    "[e[0] * e[1] for e in zip(a,b)]"
   ]
  },
  {
   "cell_type": "code",
   "execution_count": 134,
   "id": "7a598b07",
   "metadata": {},
   "outputs": [
    {
     "data": {
      "text/plain": [
       "3"
      ]
     },
     "execution_count": 134,
     "metadata": {},
     "output_type": "execute_result"
    }
   ],
   "source": [
    "sum([e[0] * e[1] for e in zip(a,b)])"
   ]
  },
  {
   "cell_type": "code",
   "execution_count": 136,
   "id": "79f41ff5",
   "metadata": {},
   "outputs": [],
   "source": [
    "def dot_product(a, b):\n",
    "    return sum([e[0] * e[1] for e in zip(a,b)])"
   ]
  },
  {
   "cell_type": "code",
   "execution_count": 137,
   "id": "745f3dd5",
   "metadata": {},
   "outputs": [
    {
     "data": {
      "text/plain": [
       "3"
      ]
     },
     "execution_count": 137,
     "metadata": {},
     "output_type": "execute_result"
    }
   ],
   "source": [
    "dot_product(a, b)"
   ]
  },
  {
   "cell_type": "code",
   "execution_count": 140,
   "id": "b30b115e",
   "metadata": {},
   "outputs": [],
   "source": [
    "pt1 = Point2D(1, 2, 3)\n",
    "pt2 = Point2D(1, 1, 1)"
   ]
  },
  {
   "cell_type": "code",
   "execution_count": 141,
   "id": "c288016e",
   "metadata": {},
   "outputs": [
    {
     "data": {
      "text/plain": [
       "6"
      ]
     },
     "execution_count": 141,
     "metadata": {},
     "output_type": "execute_result"
    }
   ],
   "source": [
    "dot_product(pt1, pt2)"
   ]
  },
  {
   "cell_type": "code",
   "execution_count": 142,
   "id": "cbcaff6a",
   "metadata": {},
   "outputs": [],
   "source": [
    "Vector3D = namedtuple(\"Vector3D\", 'x y z')"
   ]
  },
  {
   "cell_type": "code",
   "execution_count": 146,
   "id": "c0dfc10d",
   "metadata": {},
   "outputs": [],
   "source": [
    "v1 = Vector3D(1, 2, 3)\n",
    "v2 = Vector3D(1, 1, 1)"
   ]
  },
  {
   "cell_type": "code",
   "execution_count": 147,
   "id": "3a7c9a0c",
   "metadata": {},
   "outputs": [
    {
     "data": {
      "text/plain": [
       "Vector3D(x=1, y=2, z=3)"
      ]
     },
     "execution_count": 147,
     "metadata": {},
     "output_type": "execute_result"
    }
   ],
   "source": [
    "v1"
   ]
  },
  {
   "cell_type": "code",
   "execution_count": 148,
   "id": "4f607938",
   "metadata": {},
   "outputs": [
    {
     "data": {
      "text/plain": [
       "6"
      ]
     },
     "execution_count": 148,
     "metadata": {},
     "output_type": "execute_result"
    }
   ],
   "source": [
    "dot_product(v1, v2)"
   ]
  },
  {
   "cell_type": "code",
   "execution_count": 149,
   "id": "f00dffbb",
   "metadata": {},
   "outputs": [
    {
     "data": {
      "text/plain": [
       "Vector3D(x=1, y=2, z=3)"
      ]
     },
     "execution_count": 149,
     "metadata": {},
     "output_type": "execute_result"
    }
   ],
   "source": [
    "v1"
   ]
  },
  {
   "cell_type": "code",
   "execution_count": 150,
   "id": "4e78ff12",
   "metadata": {},
   "outputs": [
    {
     "data": {
      "text/plain": [
       "(1, 2, 3)"
      ]
     },
     "execution_count": 150,
     "metadata": {},
     "output_type": "execute_result"
    }
   ],
   "source": [
    "tuple(v1)"
   ]
  },
  {
   "cell_type": "code",
   "execution_count": 151,
   "id": "2941c22b",
   "metadata": {},
   "outputs": [
    {
     "data": {
      "text/plain": [
       "(1, 2)"
      ]
     },
     "execution_count": 151,
     "metadata": {},
     "output_type": "execute_result"
    }
   ],
   "source": [
    "v1[0:2]"
   ]
  },
  {
   "cell_type": "code",
   "execution_count": 152,
   "id": "ee783d1f",
   "metadata": {},
   "outputs": [
    {
     "data": {
      "text/plain": [
       "Vector3D(x=1, y=2, z=3)"
      ]
     },
     "execution_count": 152,
     "metadata": {},
     "output_type": "execute_result"
    }
   ],
   "source": [
    "v1"
   ]
  },
  {
   "cell_type": "code",
   "execution_count": 153,
   "id": "0c912b38",
   "metadata": {},
   "outputs": [
    {
     "data": {
      "text/plain": [
       "1"
      ]
     },
     "execution_count": 153,
     "metadata": {},
     "output_type": "execute_result"
    }
   ],
   "source": [
    "v1.x"
   ]
  },
  {
   "cell_type": "code",
   "execution_count": 154,
   "id": "e5899cfe",
   "metadata": {},
   "outputs": [
    {
     "data": {
      "text/plain": [
       "3"
      ]
     },
     "execution_count": 154,
     "metadata": {},
     "output_type": "execute_result"
    }
   ],
   "source": [
    "v1.z"
   ]
  },
  {
   "cell_type": "code",
   "execution_count": 158,
   "id": "24e39129",
   "metadata": {},
   "outputs": [],
   "source": [
    "Circle = namedtuple('Circle', 'center_x center_y  radius')"
   ]
  },
  {
   "cell_type": "code",
   "execution_count": 159,
   "id": "f7436290",
   "metadata": {},
   "outputs": [],
   "source": [
    "c = Circle(0, 0, 10)"
   ]
  },
  {
   "cell_type": "code",
   "execution_count": 160,
   "id": "7f9070a3",
   "metadata": {},
   "outputs": [
    {
     "data": {
      "text/plain": [
       "Circle(center_x=0, center_y=0, radius=10)"
      ]
     },
     "execution_count": 160,
     "metadata": {},
     "output_type": "execute_result"
    }
   ],
   "source": [
    "c"
   ]
  },
  {
   "cell_type": "code",
   "execution_count": 161,
   "id": "fb5a9c81",
   "metadata": {},
   "outputs": [
    {
     "data": {
      "text/plain": [
       "10"
      ]
     },
     "execution_count": 161,
     "metadata": {},
     "output_type": "execute_result"
    }
   ],
   "source": [
    "c.radius"
   ]
  },
  {
   "cell_type": "code",
   "execution_count": 162,
   "id": "1ed5f0a9",
   "metadata": {},
   "outputs": [],
   "source": [
    "Stock = namedtuple(\"Stock\", '''symbol\n",
    "                                    year\n",
    "                                    month\n",
    "                                    day\n",
    "                                    open\n",
    "                                    high\n",
    "                                    low\n",
    "                                    close''')"
   ]
  },
  {
   "cell_type": "code",
   "execution_count": 163,
   "id": "e68daf32",
   "metadata": {},
   "outputs": [],
   "source": [
    "djia = Stock('DJIA', 2018, 1, 25, 26_313, 26_458, 26_260, 26_393)"
   ]
  },
  {
   "cell_type": "code",
   "execution_count": 164,
   "id": "032a1dae",
   "metadata": {},
   "outputs": [
    {
     "data": {
      "text/plain": [
       "Stock(symbol='DJIA', year=2018, month=1, day=25, open=26313, high=26458, low=26260, close=26393)"
      ]
     },
     "execution_count": 164,
     "metadata": {},
     "output_type": "execute_result"
    }
   ],
   "source": [
    "djia"
   ]
  },
  {
   "cell_type": "code",
   "execution_count": 165,
   "id": "b0207580",
   "metadata": {},
   "outputs": [
    {
     "data": {
      "text/plain": [
       "26393"
      ]
     },
     "execution_count": 165,
     "metadata": {},
     "output_type": "execute_result"
    }
   ],
   "source": [
    "djia.close"
   ]
  },
  {
   "cell_type": "code",
   "execution_count": 166,
   "id": "bf98b4a8",
   "metadata": {},
   "outputs": [
    {
     "name": "stdout",
     "output_type": "stream",
     "text": [
      "DJIA\n",
      "2018\n",
      "1\n",
      "25\n",
      "26313\n",
      "26458\n",
      "26260\n",
      "26393\n"
     ]
    }
   ],
   "source": [
    "for item in djia:\n",
    "    print(item)"
   ]
  },
  {
   "cell_type": "code",
   "execution_count": 168,
   "id": "cac85551",
   "metadata": {},
   "outputs": [],
   "source": [
    "p = Point2D(10, 20, 30)"
   ]
  },
  {
   "cell_type": "code",
   "execution_count": 169,
   "id": "6a27f4e8",
   "metadata": {},
   "outputs": [],
   "source": [
    "x, y, z = p"
   ]
  },
  {
   "cell_type": "code",
   "execution_count": 170,
   "id": "b4d6a0fd",
   "metadata": {},
   "outputs": [
    {
     "data": {
      "text/plain": [
       "10"
      ]
     },
     "execution_count": 170,
     "metadata": {},
     "output_type": "execute_result"
    }
   ],
   "source": [
    "x"
   ]
  },
  {
   "cell_type": "code",
   "execution_count": 171,
   "id": "97c5a929",
   "metadata": {},
   "outputs": [
    {
     "data": {
      "text/plain": [
       "20"
      ]
     },
     "execution_count": 171,
     "metadata": {},
     "output_type": "execute_result"
    }
   ],
   "source": [
    "y"
   ]
  },
  {
   "cell_type": "code",
   "execution_count": 172,
   "id": "ca759431",
   "metadata": {},
   "outputs": [
    {
     "data": {
      "text/plain": [
       "30"
      ]
     },
     "execution_count": 172,
     "metadata": {},
     "output_type": "execute_result"
    }
   ],
   "source": [
    "z"
   ]
  },
  {
   "cell_type": "code",
   "execution_count": 173,
   "id": "f841000c",
   "metadata": {},
   "outputs": [
    {
     "data": {
      "text/plain": [
       "Stock(symbol='DJIA', year=2018, month=1, day=25, open=26313, high=26458, low=26260, close=26393)"
      ]
     },
     "execution_count": 173,
     "metadata": {},
     "output_type": "execute_result"
    }
   ],
   "source": [
    "djia"
   ]
  },
  {
   "cell_type": "code",
   "execution_count": 175,
   "id": "cfc133b6",
   "metadata": {},
   "outputs": [],
   "source": [
    "symbol, year,month, day, *_, close = djia"
   ]
  },
  {
   "cell_type": "code",
   "execution_count": 178,
   "id": "54f15655",
   "metadata": {},
   "outputs": [
    {
     "data": {
      "text/plain": [
       "('DJIA', 2018, 1, 25, 26393)"
      ]
     },
     "execution_count": 178,
     "metadata": {},
     "output_type": "execute_result"
    }
   ],
   "source": [
    "symbol, year, month, day, close"
   ]
  },
  {
   "cell_type": "code",
   "execution_count": 177,
   "id": "51c56e3b",
   "metadata": {},
   "outputs": [
    {
     "name": "stdout",
     "output_type": "stream",
     "text": [
      "[26313, 26458, 26260]\n"
     ]
    }
   ],
   "source": [
    "print(_)"
   ]
  },
  {
   "cell_type": "code",
   "execution_count": 182,
   "id": "de846c69",
   "metadata": {},
   "outputs": [],
   "source": [
    "class Point3D:\n",
    "    def __init__(self, x, y, z):\n",
    "        self.x = x\n",
    "        self.y = y\n",
    "        self.z = z\n",
    "        self._ssn = None"
   ]
  },
  {
   "cell_type": "code",
   "execution_count": 185,
   "id": "ec9a5286",
   "metadata": {},
   "outputs": [],
   "source": [
    "Person = namedtuple('Person', 'name age _snn', rename=True)"
   ]
  },
  {
   "cell_type": "code",
   "execution_count": 186,
   "id": "96cc6f5a",
   "metadata": {},
   "outputs": [
    {
     "data": {
      "text/plain": [
       "('name', 'age', '_2')"
      ]
     },
     "execution_count": 186,
     "metadata": {},
     "output_type": "execute_result"
    }
   ],
   "source": [
    "Person._fields"
   ]
  },
  {
   "cell_type": "code",
   "execution_count": 189,
   "id": "6ba2bd5c",
   "metadata": {},
   "outputs": [
    {
     "data": {
      "text/plain": [
       "('x', 'y', 'z')"
      ]
     },
     "execution_count": 189,
     "metadata": {},
     "output_type": "execute_result"
    }
   ],
   "source": [
    "Point2D._fields"
   ]
  },
  {
   "cell_type": "code",
   "execution_count": 190,
   "id": "3c966fad",
   "metadata": {},
   "outputs": [
    {
     "data": {
      "text/plain": [
       "('symbol', 'year', 'month', 'day', 'open', 'high', 'low', 'close')"
      ]
     },
     "execution_count": 190,
     "metadata": {},
     "output_type": "execute_result"
    }
   ],
   "source": [
    "Stock._fields"
   ]
  },
  {
   "cell_type": "code",
   "execution_count": 194,
   "id": "f201a05c",
   "metadata": {},
   "outputs": [
    {
     "data": {
      "text/plain": [
       "Stock(symbol='DJIA', year=2018, month=1, day=25, open=26313, high=26458, low=26260, close=26393)"
      ]
     },
     "execution_count": 194,
     "metadata": {},
     "output_type": "execute_result"
    }
   ],
   "source": [
    "djia"
   ]
  },
  {
   "cell_type": "code",
   "execution_count": 195,
   "id": "c7264acb",
   "metadata": {},
   "outputs": [
    {
     "data": {
      "text/plain": [
       "{'symbol': 'DJIA',\n",
       " 'year': 2018,\n",
       " 'month': 1,\n",
       " 'day': 25,\n",
       " 'open': 26313,\n",
       " 'high': 26458,\n",
       " 'low': 26260,\n",
       " 'close': 26393}"
      ]
     },
     "execution_count": 195,
     "metadata": {},
     "output_type": "execute_result"
    }
   ],
   "source": [
    "djia._asdict()"
   ]
  },
  {
   "cell_type": "code",
   "execution_count": 197,
   "id": "e685be0e",
   "metadata": {},
   "outputs": [],
   "source": [
    "d = djia._asdict()"
   ]
  },
  {
   "cell_type": "code",
   "execution_count": 198,
   "id": "c295ad74",
   "metadata": {},
   "outputs": [
    {
     "data": {
      "text/plain": [
       "'DJIA'"
      ]
     },
     "execution_count": 198,
     "metadata": {},
     "output_type": "execute_result"
    }
   ],
   "source": [
    "d['symbol']"
   ]
  },
  {
   "cell_type": "code",
   "execution_count": 199,
   "id": "09e4c81c",
   "metadata": {},
   "outputs": [
    {
     "data": {
      "text/plain": [
       "26393"
      ]
     },
     "execution_count": 199,
     "metadata": {},
     "output_type": "execute_result"
    }
   ],
   "source": [
    "d['close']"
   ]
  },
  {
   "cell_type": "code",
   "execution_count": 200,
   "id": "d7b31bfe",
   "metadata": {},
   "outputs": [
    {
     "data": {
      "text/plain": [
       "{'symbol': 'DJIA',\n",
       " 'year': 2018,\n",
       " 'month': 1,\n",
       " 'day': 25,\n",
       " 'open': 26313,\n",
       " 'high': 26458,\n",
       " 'low': 26260,\n",
       " 'close': 26393}"
      ]
     },
     "execution_count": 200,
     "metadata": {},
     "output_type": "execute_result"
    }
   ],
   "source": [
    "djia._asdict()"
   ]
  },
  {
   "cell_type": "code",
   "execution_count": 204,
   "id": "f1b4f267",
   "metadata": {},
   "outputs": [
    {
     "data": {
      "text/plain": [
       "{'symbol': 'DJIA',\n",
       " 'year': 2018,\n",
       " 'month': 1,\n",
       " 'day': 25,\n",
       " 'open': 26313,\n",
       " 'high': 26458,\n",
       " 'low': 26260,\n",
       " 'close': 26393}"
      ]
     },
     "execution_count": 204,
     "metadata": {},
     "output_type": "execute_result"
    }
   ],
   "source": [
    "dict(djia._asdict())"
   ]
  },
  {
   "cell_type": "code",
   "execution_count": null,
   "id": "136b5878",
   "metadata": {},
   "outputs": [],
   "source": []
  }
 ],
 "metadata": {
  "kernelspec": {
   "display_name": "Python 3.9.12 ('base')",
   "language": "python",
   "name": "python3"
  },
  "language_info": {
   "codemirror_mode": {
    "name": "ipython",
    "version": 3
   },
   "file_extension": ".py",
   "mimetype": "text/x-python",
   "name": "python",
   "nbconvert_exporter": "python",
   "pygments_lexer": "ipython3",
   "version": "3.9.12"
  },
  "vscode": {
   "interpreter": {
    "hash": "ad2bdc8ecc057115af97d19610ffacc2b4e99fae6737bb82f5d7fb13d2f2c186"
   }
  }
 },
 "nbformat": 4,
 "nbformat_minor": 5
}
