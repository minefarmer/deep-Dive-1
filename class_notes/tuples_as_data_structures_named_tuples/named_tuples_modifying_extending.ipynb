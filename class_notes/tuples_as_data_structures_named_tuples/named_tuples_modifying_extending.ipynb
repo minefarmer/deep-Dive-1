{
 "cells": [
  {
   "cell_type": "markdown",
   "id": "3645311b",
   "metadata": {},
   "source": [
    "                        Named Tuples - Modifying and Extending"
   ]
  },
  {
   "cell_type": "code",
   "execution_count": 1,
   "id": "ad7ab1a7",
   "metadata": {},
   "outputs": [],
   "source": [
    "from collections import namedtuple"
   ]
  },
  {
   "cell_type": "code",
   "execution_count": 2,
   "id": "8741f1c9",
   "metadata": {},
   "outputs": [],
   "source": [
    "Point2D = namedtuple('Point2D', 'x y')"
   ]
  },
  {
   "cell_type": "code",
   "execution_count": 3,
   "id": "2afe6543",
   "metadata": {},
   "outputs": [],
   "source": [
    "pt = Point2D(10, 20)"
   ]
  },
  {
   "cell_type": "code",
   "execution_count": 4,
   "id": "b6510282",
   "metadata": {},
   "outputs": [
    {
     "data": {
      "text/plain": [
       "10"
      ]
     },
     "execution_count": 4,
     "metadata": {},
     "output_type": "execute_result"
    }
   ],
   "source": [
    "pt.x"
   ]
  },
  {
   "cell_type": "code",
   "execution_count": 5,
   "id": "3cd6d43b",
   "metadata": {},
   "outputs": [
    {
     "ename": "AttributeError",
     "evalue": "can't set attribute",
     "output_type": "error",
     "traceback": [
      "\u001b[1;31m---------------------------------------------------------------------------\u001b[0m",
      "\u001b[1;31mAttributeError\u001b[0m                            Traceback (most recent call last)",
      "\u001b[1;32mc:\\Users\\pgold\\MatsHub\\deep-Dive-1\\class_notes\\tuples_as_data_structures_named_tuples\\named_tuples_modifying_extending.ipynb Cell 6\u001b[0m in \u001b[0;36m<cell line: 1>\u001b[1;34m()\u001b[0m\n\u001b[1;32m----> <a href='vscode-notebook-cell:/c%3A/Users/pgold/MatsHub/deep-Dive-1/class_notes/tuples_as_data_structures_named_tuples/named_tuples_modifying_extending.ipynb#W5sZmlsZQ%3D%3D?line=0'>1</a>\u001b[0m pt\u001b[39m.\u001b[39mx \u001b[39m=\u001b[39m \u001b[39m100\u001b[39m\n",
      "\u001b[1;31mAttributeError\u001b[0m: can't set attribute"
     ]
    }
   ],
   "source": [
    "pt.x = 100"
   ]
  },
  {
   "cell_type": "code",
   "execution_count": 6,
   "id": "7a358bb4",
   "metadata": {},
   "outputs": [
    {
     "data": {
      "text/plain": [
       "1801607444480"
      ]
     },
     "execution_count": 6,
     "metadata": {},
     "output_type": "execute_result"
    }
   ],
   "source": [
    "id(pt)"
   ]
  },
  {
   "cell_type": "code",
   "execution_count": 7,
   "id": "397253da",
   "metadata": {},
   "outputs": [],
   "source": [
    "pt = Point2D(100, pt.y)"
   ]
  },
  {
   "cell_type": "code",
   "execution_count": 8,
   "id": "7ee3dc51",
   "metadata": {},
   "outputs": [
    {
     "data": {
      "text/plain": [
       "Point2D(x=100, y=20)"
      ]
     },
     "execution_count": 8,
     "metadata": {},
     "output_type": "execute_result"
    }
   ],
   "source": [
    "pt"
   ]
  },
  {
   "cell_type": "code",
   "execution_count": 9,
   "id": "64dbfc42",
   "metadata": {},
   "outputs": [
    {
     "data": {
      "text/plain": [
       "1801618508352"
      ]
     },
     "execution_count": 9,
     "metadata": {},
     "output_type": "execute_result"
    }
   ],
   "source": [
    "id(pt)"
   ]
  },
  {
   "cell_type": "code",
   "execution_count": 10,
   "id": "d8b02171",
   "metadata": {},
   "outputs": [],
   "source": [
    "s = 'python'"
   ]
  },
  {
   "cell_type": "code",
   "execution_count": 11,
   "id": "fb9c65e7",
   "metadata": {},
   "outputs": [
    {
     "data": {
      "text/plain": [
       "1801543133232"
      ]
     },
     "execution_count": 11,
     "metadata": {},
     "output_type": "execute_result"
    }
   ],
   "source": [
    "id(s)"
   ]
  },
  {
   "cell_type": "code",
   "execution_count": 12,
   "id": "6034edcf",
   "metadata": {},
   "outputs": [],
   "source": [
    "s += ' rocks!'"
   ]
  },
  {
   "cell_type": "code",
   "execution_count": 13,
   "id": "37fafb6b",
   "metadata": {},
   "outputs": [
    {
     "data": {
      "text/plain": [
       "'python rocks!'"
      ]
     },
     "execution_count": 13,
     "metadata": {},
     "output_type": "execute_result"
    }
   ],
   "source": [
    "s"
   ]
  },
  {
   "cell_type": "code",
   "execution_count": 14,
   "id": "43180484",
   "metadata": {},
   "outputs": [
    {
     "data": {
      "text/plain": [
       "1801622786864"
      ]
     },
     "execution_count": 14,
     "metadata": {},
     "output_type": "execute_result"
    }
   ],
   "source": [
    "id(s)"
   ]
  },
  {
   "cell_type": "code",
   "execution_count": 19,
   "id": "94779edc",
   "metadata": {},
   "outputs": [],
   "source": [
    "\n",
    "Stock = namedtuple('Stock', 'symbol year month day open high low close')"
   ]
  },
  {
   "cell_type": "code",
   "execution_count": 20,
   "id": "b037f4df",
   "metadata": {},
   "outputs": [],
   "source": [
    "djia = Stock('DJIA', 2022, 10, 1, 26_313, 26_458, 26_260, 26_393)"
   ]
  },
  {
   "cell_type": "code",
   "execution_count": 21,
   "id": "a5e7a51a",
   "metadata": {},
   "outputs": [
    {
     "data": {
      "text/plain": [
       "Stock(symbol='DJIA', year=2022, month=10, day=1, open=26313, high=26458, low=26260, close=26393)"
      ]
     },
     "execution_count": 21,
     "metadata": {},
     "output_type": "execute_result"
    }
   ],
   "source": [
    "djia"
   ]
  },
  {
   "cell_type": "code",
   "execution_count": 24,
   "id": "2cce3885",
   "metadata": {},
   "outputs": [],
   "source": [
    "djia = Stock(djia.symbol, djia.year, djia.month, djia.day, djia.open, djia.high, djia.low, 1000)"
   ]
  },
  {
   "cell_type": "code",
   "execution_count": 25,
   "id": "b158d276",
   "metadata": {},
   "outputs": [
    {
     "data": {
      "text/plain": [
       "Stock(symbol='DJIA', year=2022, month=10, day=1, open=26313, high=26458, low=26260, close=1000)"
      ]
     },
     "execution_count": 25,
     "metadata": {},
     "output_type": "execute_result"
    }
   ],
   "source": [
    "djia"
   ]
  },
  {
   "cell_type": "code",
   "execution_count": 26,
   "id": "10989e16",
   "metadata": {},
   "outputs": [],
   "source": [
    "*values, _ = djia"
   ]
  },
  {
   "cell_type": "code",
   "execution_count": 27,
   "id": "dae8416d",
   "metadata": {},
   "outputs": [
    {
     "data": {
      "text/plain": [
       "['DJIA', 2022, 10, 1, 26313, 26458, 26260]"
      ]
     },
     "execution_count": 27,
     "metadata": {},
     "output_type": "execute_result"
    }
   ],
   "source": [
    "values"
   ]
  },
  {
   "cell_type": "code",
   "execution_count": 28,
   "id": "c92608f8",
   "metadata": {},
   "outputs": [],
   "source": [
    "values.append(26_393)"
   ]
  },
  {
   "cell_type": "code",
   "execution_count": 29,
   "id": "a4bfe8c4",
   "metadata": {},
   "outputs": [
    {
     "data": {
      "text/plain": [
       "['DJIA', 2022, 10, 1, 26313, 26458, 26260, 26393]"
      ]
     },
     "execution_count": 29,
     "metadata": {},
     "output_type": "execute_result"
    }
   ],
   "source": [
    "values"
   ]
  },
  {
   "cell_type": "code",
   "execution_count": 30,
   "id": "9f6c9d10",
   "metadata": {},
   "outputs": [
    {
     "data": {
      "text/plain": [
       "Stock(symbol='DJIA', year=2022, month=10, day=1, open=26313, high=26458, low=26260, close=26393)"
      ]
     },
     "execution_count": 30,
     "metadata": {},
     "output_type": "execute_result"
    }
   ],
   "source": [
    "Stock(*values)"
   ]
  },
  {
   "cell_type": "code",
   "execution_count": 33,
   "id": "c7ffa368",
   "metadata": {},
   "outputs": [],
   "source": [
    "a = [1, 2, 3]"
   ]
  },
  {
   "cell_type": "code",
   "execution_count": 34,
   "id": "9095fb47",
   "metadata": {},
   "outputs": [
    {
     "data": {
      "text/plain": [
       "1801623274368"
      ]
     },
     "execution_count": 34,
     "metadata": {},
     "output_type": "execute_result"
    }
   ],
   "source": [
    "id(a)"
   ]
  },
  {
   "cell_type": "code",
   "execution_count": 35,
   "id": "1b7582da",
   "metadata": {},
   "outputs": [],
   "source": [
    "a = a + [4, 5]"
   ]
  },
  {
   "cell_type": "code",
   "execution_count": 36,
   "id": "fa9bc5f3",
   "metadata": {},
   "outputs": [
    {
     "data": {
      "text/plain": [
       "[1, 2, 3, 4, 5]"
      ]
     },
     "execution_count": 36,
     "metadata": {},
     "output_type": "execute_result"
    }
   ],
   "source": [
    "a"
   ]
  },
  {
   "cell_type": "code",
   "execution_count": 37,
   "id": "8d1d9f8d",
   "metadata": {},
   "outputs": [
    {
     "data": {
      "text/plain": [
       "1801622813440"
      ]
     },
     "execution_count": 37,
     "metadata": {},
     "output_type": "execute_result"
    }
   ],
   "source": [
    "id(a)"
   ]
  },
  {
   "cell_type": "code",
   "execution_count": 38,
   "id": "9c98f09b",
   "metadata": {},
   "outputs": [],
   "source": [
    "a = [1, 2, 3]"
   ]
  },
  {
   "cell_type": "code",
   "execution_count": 39,
   "id": "ec516a61",
   "metadata": {},
   "outputs": [
    {
     "data": {
      "text/plain": [
       "1801622528832"
      ]
     },
     "execution_count": 39,
     "metadata": {},
     "output_type": "execute_result"
    }
   ],
   "source": [
    "id(a)"
   ]
  },
  {
   "cell_type": "code",
   "execution_count": 40,
   "id": "1baf28a5",
   "metadata": {},
   "outputs": [],
   "source": [
    "a.append(4)"
   ]
  },
  {
   "cell_type": "code",
   "execution_count": 41,
   "id": "600aee35",
   "metadata": {},
   "outputs": [
    {
     "data": {
      "text/plain": [
       "[1, 2, 3, 4]"
      ]
     },
     "execution_count": 41,
     "metadata": {},
     "output_type": "execute_result"
    }
   ],
   "source": [
    "a"
   ]
  },
  {
   "cell_type": "code",
   "execution_count": 42,
   "id": "5311866a",
   "metadata": {},
   "outputs": [
    {
     "data": {
      "text/plain": [
       "1801622528832"
      ]
     },
     "execution_count": 42,
     "metadata": {},
     "output_type": "execute_result"
    }
   ],
   "source": [
    "id(a)"
   ]
  },
  {
   "cell_type": "code",
   "execution_count": 43,
   "id": "0cc8ae30",
   "metadata": {},
   "outputs": [],
   "source": [
    "a.extend([5, 6, 7])"
   ]
  },
  {
   "cell_type": "code",
   "execution_count": 44,
   "id": "26e65347",
   "metadata": {},
   "outputs": [
    {
     "data": {
      "text/plain": [
       "[1, 2, 3, 4, 5, 6, 7]"
      ]
     },
     "execution_count": 44,
     "metadata": {},
     "output_type": "execute_result"
    }
   ],
   "source": [
    "a"
   ]
  },
  {
   "cell_type": "code",
   "execution_count": 45,
   "id": "1dbff622",
   "metadata": {},
   "outputs": [
    {
     "data": {
      "text/plain": [
       "1801622528832"
      ]
     },
     "execution_count": 45,
     "metadata": {},
     "output_type": "execute_result"
    }
   ],
   "source": [
    "id(a)"
   ]
  },
  {
   "cell_type": "code",
   "execution_count": 46,
   "id": "da6c2fa5",
   "metadata": {},
   "outputs": [
    {
     "data": {
      "text/plain": [
       "Stock(symbol='DJIA', year=2022, month=10, day=1, open=26313, high=26458, low=26260, close=26393)"
      ]
     },
     "execution_count": 46,
     "metadata": {},
     "output_type": "execute_result"
    }
   ],
   "source": [
    "djia"
   ]
  },
  {
   "cell_type": "code",
   "execution_count": 47,
   "id": "c8311d22",
   "metadata": {},
   "outputs": [],
   "source": [
    "values = djia[:7]"
   ]
  },
  {
   "cell_type": "code",
   "execution_count": 48,
   "id": "23eeee4b",
   "metadata": {},
   "outputs": [
    {
     "data": {
      "text/plain": [
       "('DJIA', 2022, 10, 1, 26313, 26458, 26260)"
      ]
     },
     "execution_count": 48,
     "metadata": {},
     "output_type": "execute_result"
    }
   ],
   "source": [
    "values"
   ]
  },
  {
   "cell_type": "code",
   "execution_count": 49,
   "id": "c2b81acc",
   "metadata": {},
   "outputs": [
    {
     "data": {
      "text/plain": [
       "('DJIA', 2022, 10, 1, 26313, 26458, 26260, 100)"
      ]
     },
     "execution_count": 49,
     "metadata": {},
     "output_type": "execute_result"
    }
   ],
   "source": [
    "values + (100,)"
   ]
  },
  {
   "cell_type": "code",
   "execution_count": 50,
   "id": "d55091e7",
   "metadata": {},
   "outputs": [],
   "source": [
    "djia = Stock(*(values + (100 ,)))"
   ]
  },
  {
   "cell_type": "code",
   "execution_count": 51,
   "id": "bd484342",
   "metadata": {},
   "outputs": [
    {
     "data": {
      "text/plain": [
       "Stock(symbol='DJIA', year=2022, month=10, day=1, open=26313, high=26458, low=26260, close=100)"
      ]
     },
     "execution_count": 51,
     "metadata": {},
     "output_type": "execute_result"
    }
   ],
   "source": [
    "djia"
   ]
  },
  {
   "cell_type": "code",
   "execution_count": 52,
   "id": "943c88fc",
   "metadata": {},
   "outputs": [
    {
     "data": {
      "text/plain": [
       "1801623525520"
      ]
     },
     "execution_count": 52,
     "metadata": {},
     "output_type": "execute_result"
    }
   ],
   "source": [
    "id(djia)"
   ]
  },
  {
   "cell_type": "code",
   "execution_count": 53,
   "id": "00bd47cb",
   "metadata": {},
   "outputs": [],
   "source": [
    "djia = djia._replace(year=2021, open=10000)"
   ]
  },
  {
   "cell_type": "code",
   "execution_count": 54,
   "id": "79e76c4d",
   "metadata": {},
   "outputs": [
    {
     "data": {
      "text/plain": [
       "Stock(symbol='DJIA', year=2021, month=10, day=1, open=10000, high=26458, low=26260, close=100)"
      ]
     },
     "execution_count": 54,
     "metadata": {},
     "output_type": "execute_result"
    }
   ],
   "source": [
    "djia"
   ]
  },
  {
   "cell_type": "code",
   "execution_count": 55,
   "id": "6fbc2b41",
   "metadata": {},
   "outputs": [
    {
     "data": {
      "text/plain": [
       "1801623526528"
      ]
     },
     "execution_count": 55,
     "metadata": {},
     "output_type": "execute_result"
    }
   ],
   "source": [
    "id(djia)"
   ]
  },
  {
   "cell_type": "code",
   "execution_count": 56,
   "id": "3141ab44",
   "metadata": {},
   "outputs": [],
   "source": [
    "djia = Stock._make(values + (100 ,))"
   ]
  },
  {
   "cell_type": "code",
   "execution_count": 57,
   "id": "c912df6d",
   "metadata": {},
   "outputs": [
    {
     "data": {
      "text/plain": [
       "Stock(symbol='DJIA', year=2022, month=10, day=1, open=26313, high=26458, low=26260, close=100)"
      ]
     },
     "execution_count": 57,
     "metadata": {},
     "output_type": "execute_result"
    }
   ],
   "source": [
    "djia"
   ]
  },
  {
   "cell_type": "code",
   "execution_count": 58,
   "id": "9026b8f9",
   "metadata": {},
   "outputs": [
    {
     "data": {
      "text/plain": [
       "1801623494720"
      ]
     },
     "execution_count": 58,
     "metadata": {},
     "output_type": "execute_result"
    }
   ],
   "source": [
    "id(djia)"
   ]
  },
  {
   "cell_type": "code",
   "execution_count": 59,
   "id": "5059972b",
   "metadata": {},
   "outputs": [],
   "source": [
    "djia = Stock._make(values + (100 ,))"
   ]
  },
  {
   "cell_type": "code",
   "execution_count": 63,
   "id": "7014ca5d",
   "metadata": {},
   "outputs": [],
   "source": [
    "djia = djia._replace(close=10000)"
   ]
  },
  {
   "cell_type": "code",
   "execution_count": 64,
   "id": "7e46ac36",
   "metadata": {},
   "outputs": [
    {
     "data": {
      "text/plain": [
       "Stock(symbol='DJIA', year=2022, month=10, day=1, open=26313, high=26458, low=26260, close=10000)"
      ]
     },
     "execution_count": 64,
     "metadata": {},
     "output_type": "execute_result"
    }
   ],
   "source": [
    "djia"
   ]
  },
  {
   "cell_type": "code",
   "execution_count": 65,
   "id": "b1fa0485",
   "metadata": {},
   "outputs": [
    {
     "data": {
      "text/plain": [
       "__main__.Point2D"
      ]
     },
     "execution_count": 65,
     "metadata": {},
     "output_type": "execute_result"
    }
   ],
   "source": [
    "Point2D"
   ]
  },
  {
   "cell_type": "code",
   "execution_count": 66,
   "id": "aafb5fd6",
   "metadata": {},
   "outputs": [
    {
     "data": {
      "text/plain": [
       "('x', 'y')"
      ]
     },
     "execution_count": 66,
     "metadata": {},
     "output_type": "execute_result"
    }
   ],
   "source": [
    "Point2D._fields"
   ]
  },
  {
   "cell_type": "code",
   "execution_count": 68,
   "id": "0513b193",
   "metadata": {},
   "outputs": [
    {
     "data": {
      "text/plain": [
       "('x', 'y', 'Z')"
      ]
     },
     "execution_count": 68,
     "metadata": {},
     "output_type": "execute_result"
    }
   ],
   "source": [
    "Point2D._fields + ('Z',)"
   ]
  },
  {
   "cell_type": "code",
   "execution_count": 70,
   "id": "973ee67d",
   "metadata": {},
   "outputs": [],
   "source": [
    "Point3D = namedtuple('Point3D', Point2D._fields + ('z',))"
   ]
  },
  {
   "cell_type": "code",
   "execution_count": 71,
   "id": "a73ee239",
   "metadata": {},
   "outputs": [
    {
     "data": {
      "text/plain": [
       "('x', 'y', 'z')"
      ]
     },
     "execution_count": 71,
     "metadata": {},
     "output_type": "execute_result"
    }
   ],
   "source": [
    "Point3D._fields"
   ]
  },
  {
   "cell_type": "code",
   "execution_count": 72,
   "id": "970b78b1",
   "metadata": {},
   "outputs": [
    {
     "data": {
      "text/plain": [
       "('symbol', 'year', 'month', 'day', 'open', 'high', 'low', 'close')"
      ]
     },
     "execution_count": 72,
     "metadata": {},
     "output_type": "execute_result"
    }
   ],
   "source": [
    "Stock._fields"
   ]
  },
  {
   "cell_type": "code",
   "execution_count": 74,
   "id": "61597949",
   "metadata": {},
   "outputs": [],
   "source": [
    "StockExt = namedtuple('StockExt', Stock._fields + ('previous_close',))"
   ]
  },
  {
   "cell_type": "code",
   "execution_count": 75,
   "id": "094990fc",
   "metadata": {},
   "outputs": [
    {
     "data": {
      "text/plain": [
       "('symbol',\n",
       " 'year',\n",
       " 'month',\n",
       " 'day',\n",
       " 'open',\n",
       " 'high',\n",
       " 'low',\n",
       " 'close',\n",
       " 'previous_close')"
      ]
     },
     "execution_count": 75,
     "metadata": {},
     "output_type": "execute_result"
    }
   ],
   "source": [
    "StockExt._fields"
   ]
  },
  {
   "cell_type": "code",
   "execution_count": 76,
   "id": "66386a92",
   "metadata": {},
   "outputs": [
    {
     "data": {
      "text/plain": [
       "Point2D(x=100, y=20)"
      ]
     },
     "execution_count": 76,
     "metadata": {},
     "output_type": "execute_result"
    }
   ],
   "source": [
    "pt"
   ]
  },
  {
   "cell_type": "code",
   "execution_count": 77,
   "id": "235f613b",
   "metadata": {},
   "outputs": [
    {
     "data": {
      "text/plain": [
       "Point2D(x=100, y=20)"
      ]
     },
     "execution_count": 77,
     "metadata": {},
     "output_type": "execute_result"
    }
   ],
   "source": [
    "pt"
   ]
  },
  {
   "cell_type": "code",
   "execution_count": 78,
   "id": "9ff960fd",
   "metadata": {},
   "outputs": [],
   "source": [
    "pt3d = Point3D(*pt, 100)"
   ]
  },
  {
   "cell_type": "code",
   "execution_count": 79,
   "id": "18608b4d",
   "metadata": {},
   "outputs": [
    {
     "data": {
      "text/plain": [
       "Point3D(x=100, y=20, z=100)"
      ]
     },
     "execution_count": 79,
     "metadata": {},
     "output_type": "execute_result"
    }
   ],
   "source": [
    "pt3d"
   ]
  },
  {
   "cell_type": "code",
   "execution_count": 80,
   "id": "6b5857d0",
   "metadata": {},
   "outputs": [
    {
     "data": {
      "text/plain": [
       "Stock(symbol='DJIA', year=2022, month=10, day=1, open=26313, high=26458, low=26260, close=10000)"
      ]
     },
     "execution_count": 80,
     "metadata": {},
     "output_type": "execute_result"
    }
   ],
   "source": [
    "djia"
   ]
  },
  {
   "cell_type": "code",
   "execution_count": 81,
   "id": "8fe48d2e",
   "metadata": {},
   "outputs": [],
   "source": [
    "djia_ext = StockExt(*djia, 1_000_000)"
   ]
  },
  {
   "cell_type": "code",
   "execution_count": 82,
   "id": "a913b788",
   "metadata": {},
   "outputs": [
    {
     "data": {
      "text/plain": [
       "StockExt(symbol='DJIA', year=2022, month=10, day=1, open=26313, high=26458, low=26260, close=10000, previous_close=1000000)"
      ]
     },
     "execution_count": 82,
     "metadata": {},
     "output_type": "execute_result"
    }
   ],
   "source": [
    "djia_ext"
   ]
  },
  {
   "cell_type": "code",
   "execution_count": null,
   "id": "ce84f6ad",
   "metadata": {},
   "outputs": [],
   "source": []
  }
 ],
 "metadata": {
  "kernelspec": {
   "display_name": "Python 3.9.12 ('base')",
   "language": "python",
   "name": "python3"
  },
  "language_info": {
   "codemirror_mode": {
    "name": "ipython",
    "version": 3
   },
   "file_extension": ".py",
   "mimetype": "text/x-python",
   "name": "python",
   "nbconvert_exporter": "python",
   "pygments_lexer": "ipython3",
   "version": "3.9.12"
  },
  "vscode": {
   "interpreter": {
    "hash": "ad2bdc8ecc057115af97d19610ffacc2b4e99fae6737bb82f5d7fb13d2f2c186"
   }
  }
 },
 "nbformat": 4,
 "nbformat_minor": 5
}
