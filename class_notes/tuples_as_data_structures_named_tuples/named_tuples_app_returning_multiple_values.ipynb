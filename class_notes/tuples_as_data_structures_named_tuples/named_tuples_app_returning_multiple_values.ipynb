{
 "cells": [
  {
   "cell_type": "markdown",
   "id": "0a8af8a8",
   "metadata": {},
   "source": [
    "                    Named Tuples - Apps - Returning Multiple Values"
   ]
  },
  {
   "cell_type": "code",
   "execution_count": 1,
   "id": "3838663e",
   "metadata": {},
   "outputs": [],
   "source": [
    "from random import randint, random"
   ]
  },
  {
   "cell_type": "code",
   "execution_count": 2,
   "id": "bc4504e0",
   "metadata": {},
   "outputs": [],
   "source": [
    "from collections import namedtuple"
   ]
  },
  {
   "cell_type": "code",
   "execution_count": 4,
   "id": "f3d2b9d9",
   "metadata": {},
   "outputs": [],
   "source": [
    "def random_color():\n",
    "    red = randint(0, 255)\n",
    "    blue = randint(0, 255)\n",
    "    green = randint(0, 255)\n",
    "    alpha = round(random(), 2)\n",
    "    return red, green, blue, alpha"
   ]
  },
  {
   "cell_type": "code",
   "execution_count": 5,
   "id": "5b4b5087",
   "metadata": {},
   "outputs": [],
   "source": [
    "color = random_color()"
   ]
  },
  {
   "cell_type": "code",
   "execution_count": 6,
   "id": "3ffccbaa",
   "metadata": {},
   "outputs": [
    {
     "data": {
      "text/plain": [
       "(178, 211, 236, 0.12)"
      ]
     },
     "execution_count": 6,
     "metadata": {},
     "output_type": "execute_result"
    }
   ],
   "source": [
    "color"
   ]
  },
  {
   "cell_type": "code",
   "execution_count": 7,
   "id": "86178567",
   "metadata": {},
   "outputs": [],
   "source": [
    "red, green, blue, alpha = color"
   ]
  },
  {
   "cell_type": "code",
   "execution_count": 8,
   "id": "49ae515c",
   "metadata": {},
   "outputs": [
    {
     "data": {
      "text/plain": [
       "178"
      ]
     },
     "execution_count": 8,
     "metadata": {},
     "output_type": "execute_result"
    }
   ],
   "source": [
    "red"
   ]
  },
  {
   "cell_type": "code",
   "execution_count": 9,
   "id": "d5c0d1b1",
   "metadata": {},
   "outputs": [
    {
     "data": {
      "text/plain": [
       "0.12"
      ]
     },
     "execution_count": 9,
     "metadata": {},
     "output_type": "execute_result"
    }
   ],
   "source": [
    "alpha"
   ]
  },
  {
   "cell_type": "code",
   "execution_count": 10,
   "id": "1cb9cb12",
   "metadata": {},
   "outputs": [],
   "source": [
    "Color = namedtuple('Color', 'red green blue alpha')"
   ]
  },
  {
   "cell_type": "code",
   "execution_count": 17,
   "id": "8d990ca3",
   "metadata": {},
   "outputs": [],
   "source": [
    "def random_color():\n",
    "    red = randint(0, 255)\n",
    "    blue = randint(0, 255)\n",
    "    green = randint(0, 255)\n",
    "    alpha = round(random(), 2)\n",
    "    return Color(red, green, blue, alpha)"
   ]
  },
  {
   "cell_type": "code",
   "execution_count": 18,
   "id": "c76b6db7",
   "metadata": {},
   "outputs": [],
   "source": [
    "color = random_color()"
   ]
  },
  {
   "cell_type": "code",
   "execution_count": 19,
   "id": "f7c0be3c",
   "metadata": {},
   "outputs": [
    {
     "data": {
      "text/plain": [
       "Color(red=248, green=210, blue=138, alpha=0.57)"
      ]
     },
     "execution_count": 19,
     "metadata": {},
     "output_type": "execute_result"
    }
   ],
   "source": [
    "color"
   ]
  },
  {
   "cell_type": "code",
   "execution_count": 20,
   "id": "72612db5",
   "metadata": {},
   "outputs": [
    {
     "data": {
      "text/plain": [
       "248"
      ]
     },
     "execution_count": 20,
     "metadata": {},
     "output_type": "execute_result"
    }
   ],
   "source": [
    "color.red"
   ]
  },
  {
   "cell_type": "code",
   "execution_count": 21,
   "id": "1f0bfc05",
   "metadata": {},
   "outputs": [
    {
     "data": {
      "text/plain": [
       "0.57"
      ]
     },
     "execution_count": 21,
     "metadata": {},
     "output_type": "execute_result"
    }
   ],
   "source": [
    "color.alpha"
   ]
  },
  {
   "cell_type": "code",
   "execution_count": 22,
   "id": "91810f4b",
   "metadata": {},
   "outputs": [
    {
     "data": {
      "text/plain": [
       "('red', 'green', 'blue', 'alpha')"
      ]
     },
     "execution_count": 22,
     "metadata": {},
     "output_type": "execute_result"
    }
   ],
   "source": [
    "Color._fields"
   ]
  },
  {
   "cell_type": "code",
   "execution_count": null,
   "id": "14466278",
   "metadata": {},
   "outputs": [],
   "source": []
  }
 ],
 "metadata": {
  "kernelspec": {
   "display_name": "Python 3.9.12 ('base')",
   "language": "python",
   "name": "python3"
  },
  "language_info": {
   "codemirror_mode": {
    "name": "ipython",
    "version": 3
   },
   "file_extension": ".py",
   "mimetype": "text/x-python",
   "name": "python",
   "nbconvert_exporter": "python",
   "pygments_lexer": "ipython3",
   "version": "3.9.12"
  },
  "vscode": {
   "interpreter": {
    "hash": "ad2bdc8ecc057115af97d19610ffacc2b4e99fae6737bb82f5d7fb13d2f2c186"
   }
  }
 },
 "nbformat": 4,
 "nbformat_minor": 5
}
