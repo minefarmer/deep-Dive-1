{
 "cells": [
  {
   "cell_type": "markdown",
   "id": "fa352bb0",
   "metadata": {},
   "source": [
    "                        Simulating a Simple Switch in Python"
   ]
  },
  {
   "cell_type": "markdown",
   "id": "49a7ea6d",
   "metadata": {},
   "source": [
    "            PEP 3103"
   ]
  },
  {
   "cell_type": "code",
   "execution_count": 18,
   "id": "f2c26215",
   "metadata": {},
   "outputs": [
    {
     "ename": "SyntaxError",
     "evalue": "invalid syntax (4211548518.py, line 1)",
     "output_type": "error",
     "traceback": [
      "\u001b[1;36m  Input \u001b[1;32mIn [18]\u001b[1;36m\u001b[0m\n\u001b[1;33m    switch (dow){\u001b[0m\n\u001b[1;37m                ^\u001b[0m\n\u001b[1;31mSyntaxError\u001b[0m\u001b[1;31m:\u001b[0m invalid syntax\n"
     ]
    }
   ],
   "source": [
    "switch (dow){\n",
    "    case 1: docString = 'Monday';\n",
    "        break;\n",
    "    case 2: dowString = 'Tuesday';\n",
    "        break;\n",
    "    case 3: docString = 'Wednesday';\n",
    "        break;\n",
    "    case 4: docString = 'Thursday';\n",
    "        break;\n",
    "    case 5: docString = 'Friday';\n",
    "        break;\n",
    "    case 6: docString = 'Saturday';\n",
    "        break;\n",
    "    case 7: docString = 'Sunday';\n",
    "        break;\n",
    "    default: dowString = 'Invalid day of the week';\n",
    "}"
   ]
  },
  {
   "cell_type": "code",
   "execution_count": null,
   "id": "01754cd3",
   "metadata": {},
   "outputs": [],
   "source": [
    "def dow_switch_fn(dow):\n",
    "    if dow == 1:\n",
    "        fn = "
   ]
  }
 ],
 "metadata": {
  "kernelspec": {
   "display_name": "Python 3.9.12 ('base')",
   "language": "python",
   "name": "python3"
  },
  "language_info": {
   "codemirror_mode": {
    "name": "ipython",
    "version": 3
   },
   "file_extension": ".py",
   "mimetype": "text/x-python",
   "name": "python",
   "nbconvert_exporter": "python",
   "pygments_lexer": "ipython3",
   "version": "3.9.12"
  },
  "vscode": {
   "interpreter": {
    "hash": "a624adbc5e596fddf72740b255048309200567f23df85867ce297e9f9d364c1b"
   }
  }
 },
 "nbformat": 4,
 "nbformat_minor": 5
}
