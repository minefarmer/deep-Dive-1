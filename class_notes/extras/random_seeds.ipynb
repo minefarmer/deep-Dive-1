{
 "cells": [
  {
   "cell_type": "markdown",
   "id": "826abb21",
   "metadata": {},
   "source": [
    "                        Random Seeds"
   ]
  },
  {
   "cell_type": "code",
   "execution_count": 1,
   "id": "9debb612",
   "metadata": {},
   "outputs": [],
   "source": [
    "import random"
   ]
  },
  {
   "cell_type": "code",
   "execution_count": 3,
   "id": "6be2db11",
   "metadata": {},
   "outputs": [
    {
     "name": "stdout",
     "output_type": "stream",
     "text": [
      "10 0.7337055986955272\n",
      "14 0.09765261253969726\n",
      "16 0.9579134765884766\n",
      "20 0.1586822833752063\n",
      "10 0.4230525262079867\n",
      "17 0.5157603921842252\n",
      "10 0.047746475502906116\n",
      "16 0.4320794086625034\n",
      "16 0.9887218033977674\n",
      "16 0.03807856242947327\n"
     ]
    }
   ],
   "source": [
    "for i in range(10):\n",
    "    print(random.randint(10,20), random.random())"
   ]
  },
  {
   "cell_type": "code",
   "execution_count": 4,
   "id": "356ce1fc",
   "metadata": {},
   "outputs": [],
   "source": [
    "random.seed(0)"
   ]
  },
  {
   "cell_type": "code",
   "execution_count": 5,
   "id": "4b69fbd7",
   "metadata": {},
   "outputs": [
    {
     "name": "stdout",
     "output_type": "stream",
     "text": [
      "16 0.7579544029403025\n",
      "16 0.04048437818077755\n",
      "18 0.48592769656281265\n",
      "14 0.9677999949201714\n",
      "15 0.5833820394550312\n",
      "13 0.5046868558173903\n",
      "14 0.1397457849666789\n",
      "11 0.6183689966753316\n",
      "14 0.9872592010330129\n",
      "18 0.9827854760376531\n"
     ]
    }
   ],
   "source": [
    "for i in range(10):\n",
    "    print(random.randint(10,20), random.random())"
   ]
  },
  {
   "cell_type": "code",
   "execution_count": 6,
   "id": "da25180b",
   "metadata": {},
   "outputs": [
    {
     "name": "stdout",
     "output_type": "stream",
     "text": [
      "16 0.7579544029403025\n",
      "16 0.04048437818077755\n",
      "18 0.48592769656281265\n",
      "14 0.9677999949201714\n",
      "15 0.5833820394550312\n",
      "13 0.5046868558173903\n",
      "14 0.1397457849666789\n",
      "11 0.6183689966753316\n",
      "14 0.9872592010330129\n",
      "18 0.9827854760376531\n"
     ]
    }
   ],
   "source": [
    "random.seed(0)\n",
    "for i in range(10):\n",
    "    print(random.randint(10,20), random.random())"
   ]
  },
  {
   "cell_type": "code",
   "execution_count": 7,
   "id": "235434a5",
   "metadata": {},
   "outputs": [
    {
     "name": "stdout",
     "output_type": "stream",
     "text": [
      "16 0.7579544029403025\n",
      "16 0.04048437818077755\n",
      "18 0.48592769656281265\n",
      "14 0.9677999949201714\n",
      "15 0.5833820394550312\n",
      "13 0.5046868558173903\n",
      "14 0.1397457849666789\n",
      "11 0.6183689966753316\n",
      "14 0.9872592010330129\n",
      "18 0.9827854760376531\n"
     ]
    }
   ],
   "source": [
    "random.seed(0)\n",
    "for i in range(10):\n",
    "    print(random.randint(10,20), random.random())"
   ]
  },
  {
   "cell_type": "code",
   "execution_count": 12,
   "id": "56a53f16",
   "metadata": {},
   "outputs": [],
   "source": [
    "def generate_random_stuff(seed=None):\n",
    "    random.seed(seed)\n",
    "    results = []\n",
    "    \n",
    "    for _ in range(5):\n",
    "        results.append(random.randint(0, 5))\n",
    "    \n",
    "    characters = list('abc')\n",
    "    random.shuffle(characters)\n",
    "    results.append(characters)\n",
    "    \n",
    "    for _ in range(5):\n",
    "        results.append(random.gauss(0, 1))\n",
    "    \n",
    "    return results"
   ]
  },
  {
   "cell_type": "code",
   "execution_count": 13,
   "id": "1a52fab9",
   "metadata": {},
   "outputs": [
    {
     "data": {
      "text/plain": [
       "[0,\n",
       " 5,\n",
       " 2,\n",
       " 2,\n",
       " 0,\n",
       " ['c', 'b', 'a'],\n",
       " 0.16783734233701786,\n",
       " 1.1222901485487662,\n",
       " -0.24298125613425353,\n",
       " 0.6084682331960964,\n",
       " 0.2107442291619524]"
      ]
     },
     "execution_count": 13,
     "metadata": {},
     "output_type": "execute_result"
    }
   ],
   "source": [
    "generate_random_stuff()"
   ]
  },
  {
   "cell_type": "code",
   "execution_count": 14,
   "id": "dd441e5e",
   "metadata": {},
   "outputs": [
    {
     "data": {
      "text/plain": [
       "[4,\n",
       " 0,\n",
       " 2,\n",
       " 5,\n",
       " 5,\n",
       " ['b', 'a', 'c'],\n",
       " -0.3198163127651604,\n",
       " 0.6493644141210676,\n",
       " 0.09294066169850479,\n",
       " 0.8870549683105929,\n",
       " -1.0889742295050049]"
      ]
     },
     "execution_count": 14,
     "metadata": {},
     "output_type": "execute_result"
    }
   ],
   "source": [
    "generate_random_stuff()"
   ]
  },
  {
   "cell_type": "code",
   "execution_count": 15,
   "id": "caeb97b1",
   "metadata": {},
   "outputs": [
    {
     "data": {
      "text/plain": [
       "[3,\n",
       " 3,\n",
       " 0,\n",
       " 2,\n",
       " 4,\n",
       " ['a', 'c', 'b'],\n",
       " 1.6391095109274887,\n",
       " -0.9249345372119703,\n",
       " 0.9223306019157185,\n",
       " -0.1891931090669293,\n",
       " 0.5456115709634167]"
      ]
     },
     "execution_count": 15,
     "metadata": {},
     "output_type": "execute_result"
    }
   ],
   "source": [
    "generate_random_stuff(0)"
   ]
  },
  {
   "cell_type": "code",
   "execution_count": 16,
   "id": "dc973d36",
   "metadata": {},
   "outputs": [
    {
     "data": {
      "text/plain": [
       "[3,\n",
       " 2,\n",
       " 2,\n",
       " 5,\n",
       " 1,\n",
       " ['a', 'b', 'c'],\n",
       " 0.09487640389262691,\n",
       " -0.88999953222526,\n",
       " -0.69214598784532,\n",
       " -0.17074051664044756,\n",
       " -2.1630614929438106]"
      ]
     },
     "execution_count": 16,
     "metadata": {},
     "output_type": "execute_result"
    }
   ],
   "source": [
    "generate_random_stuff(50)"
   ]
  },
  {
   "cell_type": "code",
   "execution_count": 17,
   "id": "95deb1c4",
   "metadata": {},
   "outputs": [
    {
     "data": {
      "text/plain": [
       "[3,\n",
       " 2,\n",
       " 2,\n",
       " 5,\n",
       " 1,\n",
       " ['a', 'b', 'c'],\n",
       " 0.09487640389262691,\n",
       " -0.88999953222526,\n",
       " -0.69214598784532,\n",
       " -0.17074051664044756,\n",
       " -2.1630614929438106]"
      ]
     },
     "execution_count": 17,
     "metadata": {},
     "output_type": "execute_result"
    }
   ],
   "source": [
    "generate_random_stuff(50)"
   ]
  },
  {
   "cell_type": "code",
   "execution_count": 21,
   "id": "08b70e45",
   "metadata": {},
   "outputs": [],
   "source": [
    "def freq_analysis(lst):\n",
    "    return {k: lst.count(k) for k in set(lst)}"
   ]
  },
  {
   "cell_type": "code",
   "execution_count": 23,
   "id": "628782e5",
   "metadata": {},
   "outputs": [
    {
     "name": "stdout",
     "output_type": "stream",
     "text": [
      "[9, 0, 4, 5, 5, 8, 10, 10, 8, 7, 1, 4, 2, 6, 3, 1, 10, 1, 0, 2, 2, 0, 2, 0, 4, 10, 5, 0, 2, 8, 0, 3, 9, 4, 9, 0, 2, 7, 6, 6, 5, 8, 2, 3, 0, 8, 9, 4, 10, 5, 6, 5, 0, 2, 8, 7, 4, 2, 1, 5, 6, 4, 8, 8, 1, 1, 8, 1, 0, 1, 4, 10, 7, 7, 4, 4, 10, 9, 3, 4, 3, 9, 10, 3, 3, 4, 3, 0, 8, 7, 2, 3, 1, 4, 6, 0, 4, 8, 1, 2]\n"
     ]
    }
   ],
   "source": [
    "lst = [random.randint(0,10) for _ in range(100)]\n",
    "print(lst)"
   ]
  },
  {
   "cell_type": "code",
   "execution_count": 24,
   "id": "9535ecfc",
   "metadata": {},
   "outputs": [
    {
     "data": {
      "text/plain": [
       "{0, 1, 2, 3, 4, 5, 6, 7, 8, 9, 10}"
      ]
     },
     "execution_count": 24,
     "metadata": {},
     "output_type": "execute_result"
    }
   ],
   "source": [
    "set(lst)"
   ]
  },
  {
   "cell_type": "code",
   "execution_count": 25,
   "id": "f6d9011c",
   "metadata": {},
   "outputs": [
    {
     "data": {
      "text/plain": [
       "10"
      ]
     },
     "execution_count": 25,
     "metadata": {},
     "output_type": "execute_result"
    }
   ],
   "source": [
    "lst.count(1)"
   ]
  },
  {
   "cell_type": "code",
   "execution_count": 26,
   "id": "9b5f433c",
   "metadata": {},
   "outputs": [
    {
     "data": {
      "text/plain": [
       "8"
      ]
     },
     "execution_count": 26,
     "metadata": {},
     "output_type": "execute_result"
    }
   ],
   "source": [
    "lst.count(10)"
   ]
  },
  {
   "cell_type": "code",
   "execution_count": 27,
   "id": "908cf487",
   "metadata": {},
   "outputs": [
    {
     "data": {
      "text/plain": [
       "{0: 12, 1: 10, 2: 11, 3: 9, 4: 14, 5: 7, 6: 6, 7: 6, 8: 11, 9: 6, 10: 8}"
      ]
     },
     "execution_count": 27,
     "metadata": {},
     "output_type": "execute_result"
    }
   ],
   "source": [
    "freq_analysis(lst)"
   ]
  },
  {
   "cell_type": "code",
   "execution_count": 28,
   "id": "1d2a99f1",
   "metadata": {},
   "outputs": [
    {
     "data": {
      "text/plain": [
       "{0: 9, 1: 10, 2: 7, 3: 11, 4: 7, 5: 8, 6: 10, 7: 11, 8: 13, 9: 6, 10: 8}"
      ]
     },
     "execution_count": 28,
     "metadata": {},
     "output_type": "execute_result"
    }
   ],
   "source": [
    "freq_analysis([random.randint(0, 10) for _ in range(100)])"
   ]
  },
  {
   "cell_type": "code",
   "execution_count": 30,
   "id": "42cd1a18",
   "metadata": {},
   "outputs": [],
   "source": [
    "d = freq_analysis([random.randint(0, 10) for _ in range(1_000_000)])"
   ]
  },
  {
   "cell_type": "code",
   "execution_count": 31,
   "id": "7d94e5f7",
   "metadata": {},
   "outputs": [
    {
     "data": {
      "text/plain": [
       "{0: 91373,\n",
       " 1: 90958,\n",
       " 2: 90961,\n",
       " 3: 90937,\n",
       " 4: 90981,\n",
       " 5: 91227,\n",
       " 6: 91137,\n",
       " 7: 90626,\n",
       " 8: 90318,\n",
       " 9: 90433,\n",
       " 10: 91049}"
      ]
     },
     "execution_count": 31,
     "metadata": {},
     "output_type": "execute_result"
    }
   ],
   "source": [
    "d"
   ]
  },
  {
   "cell_type": "code",
   "execution_count": 32,
   "id": "53998a47",
   "metadata": {},
   "outputs": [],
   "source": [
    "total = sum(d.values())"
   ]
  },
  {
   "cell_type": "code",
   "execution_count": 33,
   "id": "b32fef51",
   "metadata": {},
   "outputs": [
    {
     "data": {
      "text/plain": [
       "1000000"
      ]
     },
     "execution_count": 33,
     "metadata": {},
     "output_type": "execute_result"
    }
   ],
   "source": [
    "total"
   ]
  },
  {
   "cell_type": "code",
   "execution_count": 34,
   "id": "753088d1",
   "metadata": {},
   "outputs": [
    {
     "data": {
      "text/plain": [
       "{0: 9.1373,\n",
       " 1: 9.0958,\n",
       " 2: 9.0961,\n",
       " 3: 9.0937,\n",
       " 4: 9.0981,\n",
       " 5: 9.1227,\n",
       " 6: 9.1137,\n",
       " 7: 9.0626,\n",
       " 8: 9.031799999999999,\n",
       " 9: 9.0433,\n",
       " 10: 9.1049}"
      ]
     },
     "execution_count": 34,
     "metadata": {},
     "output_type": "execute_result"
    }
   ],
   "source": [
    "{k: v / total * 100 for k, v in d.items()}"
   ]
  },
  {
   "cell_type": "code",
   "execution_count": 36,
   "id": "ad3e02d4",
   "metadata": {},
   "outputs": [],
   "source": [
    "from collections import Counter"
   ]
  },
  {
   "cell_type": "code",
   "execution_count": 37,
   "id": "53bb2205",
   "metadata": {},
   "outputs": [
    {
     "data": {
      "text/plain": [
       "Counter({17: 898,\n",
       "         14: 859,\n",
       "         10: 923,\n",
       "         13: 912,\n",
       "         15: 1000,\n",
       "         20: 910,\n",
       "         11: 910,\n",
       "         16: 887,\n",
       "         18: 952,\n",
       "         19: 873,\n",
       "         12: 876})"
      ]
     },
     "execution_count": 37,
     "metadata": {},
     "output_type": "execute_result"
    }
   ],
   "source": [
    "Counter([random.randint(10, 20) for _ in range(100_00)])"
   ]
  }
 ],
 "metadata": {
  "kernelspec": {
   "display_name": "Python 3.9.12 ('base')",
   "language": "python",
   "name": "python3"
  },
  "language_info": {
   "codemirror_mode": {
    "name": "ipython",
    "version": 3
   },
   "file_extension": ".py",
   "mimetype": "text/x-python",
   "name": "python",
   "nbconvert_exporter": "python",
   "pygments_lexer": "ipython3",
   "version": "3.9.12"
  },
  "vscode": {
   "interpreter": {
    "hash": "a624adbc5e596fddf72740b255048309200567f23df85867ce297e9f9d364c1b"
   }
  }
 },
 "nbformat": 4,
 "nbformat_minor": 5
}
