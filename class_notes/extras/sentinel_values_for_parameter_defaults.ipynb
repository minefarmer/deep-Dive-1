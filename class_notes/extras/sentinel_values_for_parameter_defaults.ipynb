{
 "cells": [
  {
   "cell_type": "markdown",
   "id": "ef4c88ba",
   "metadata": {},
   "source": [
    "                            Sentinal Values for Parameter Defaults"
   ]
  },
  {
   "cell_type": "markdown",
   "id": "76246865",
   "metadata": {},
   "source": [
    "Often we specify the default for a function parameter as None. This allows to determin if the user specified an argument for that patameter or not.\n",
    "\n",
    "There's a potential issue here!\n",
    "\n",
    "What happens if we need to differientiate between the ollowing:\n",
    "\n",
    "    a non-None value was provided for the argument\n",
    "    a None value was provided for the argument\n",
    "    the argument was not provided at all"
   ]
  },
  {
   "cell_type": "code",
   "execution_count": 2,
   "id": "fc8bda93",
   "metadata": {},
   "outputs": [],
   "source": [
    "def validate(a=None):\n",
    "    if a is not None:\n",
    "        print('argument was provided')\n",
    "    else:\n",
    "        print('argument was NOT provided')"
   ]
  },
  {
   "cell_type": "code",
   "execution_count": 3,
   "id": "d6a3bb4d",
   "metadata": {},
   "outputs": [
    {
     "name": "stdout",
     "output_type": "stream",
     "text": [
      "argument was NOT provided\n"
     ]
    }
   ],
   "source": [
    "validate()"
   ]
  },
  {
   "cell_type": "code",
   "execution_count": 4,
   "id": "bc9de3cb",
   "metadata": {},
   "outputs": [
    {
     "name": "stdout",
     "output_type": "stream",
     "text": [
      "argument was provided\n"
     ]
    }
   ],
   "source": [
    "validate(10)"
   ]
  },
  {
   "cell_type": "code",
   "execution_count": 5,
   "id": "a1fa7a1c",
   "metadata": {},
   "outputs": [
    {
     "name": "stdout",
     "output_type": "stream",
     "text": [
      "argument was NOT provided\n"
     ]
    }
   ],
   "source": [
    "validate(a=None)"
   ]
  },
  {
   "cell_type": "code",
   "execution_count": 6,
   "id": "dc9eded7",
   "metadata": {},
   "outputs": [],
   "source": [
    "a = object()"
   ]
  },
  {
   "cell_type": "code",
   "execution_count": 7,
   "id": "4ece70e6",
   "metadata": {},
   "outputs": [
    {
     "data": {
      "text/plain": [
       "2138425416336"
      ]
     },
     "execution_count": 7,
     "metadata": {},
     "output_type": "execute_result"
    }
   ],
   "source": [
    "id(a)"
   ]
  },
  {
   "cell_type": "code",
   "execution_count": 8,
   "id": "5141d4e3",
   "metadata": {},
   "outputs": [],
   "source": [
    "b = object()"
   ]
  },
  {
   "cell_type": "code",
   "execution_count": 9,
   "id": "07c6d176",
   "metadata": {},
   "outputs": [
    {
     "data": {
      "text/plain": [
       "2138425416352"
      ]
     },
     "execution_count": 9,
     "metadata": {},
     "output_type": "execute_result"
    }
   ],
   "source": [
    "id(b)"
   ]
  },
  {
   "cell_type": "code",
   "execution_count": 10,
   "id": "1518ac8b",
   "metadata": {},
   "outputs": [],
   "source": [
    "_sentinal = object()"
   ]
  },
  {
   "cell_type": "code",
   "execution_count": 11,
   "id": "c39b3fad",
   "metadata": {},
   "outputs": [],
   "source": [
    "def validate(a=_sentinal):\n",
    "    if a is not None:\n",
    "        print('argument was provided')\n",
    "    else:\n",
    "        print('argument was NOT provided')"
   ]
  },
  {
   "cell_type": "code",
   "execution_count": 13,
   "id": "bc05f4a9",
   "metadata": {},
   "outputs": [
    {
     "name": "stdout",
     "output_type": "stream",
     "text": [
      "argument was provided\n"
     ]
    }
   ],
   "source": [
    "validate()"
   ]
  },
  {
   "cell_type": "code",
   "execution_count": 12,
   "id": "d01294da",
   "metadata": {},
   "outputs": [
    {
     "name": "stdout",
     "output_type": "stream",
     "text": [
      "argument was provided\n"
     ]
    }
   ],
   "source": [
    "validate(10)"
   ]
  },
  {
   "cell_type": "code",
   "execution_count": 19,
   "id": "f6e61df0",
   "metadata": {},
   "outputs": [],
   "source": [
    "def validate(a=object()):\n",
    "    if a is not object():\n",
    "        print('argument was provided')\n",
    "    else:\n",
    "        print('argument was NOT provided')"
   ]
  },
  {
   "cell_type": "code",
   "execution_count": 20,
   "id": "b0f5999c",
   "metadata": {},
   "outputs": [
    {
     "name": "stdout",
     "output_type": "stream",
     "text": [
      "argument was provided\n"
     ]
    }
   ],
   "source": [
    "validate(10)"
   ]
  },
  {
   "cell_type": "code",
   "execution_count": 21,
   "id": "ea30812b",
   "metadata": {},
   "outputs": [
    {
     "name": "stdout",
     "output_type": "stream",
     "text": [
      "argument was provided\n"
     ]
    }
   ],
   "source": [
    "validate(None)"
   ]
  },
  {
   "cell_type": "code",
   "execution_count": 22,
   "id": "42edfe37",
   "metadata": {},
   "outputs": [
    {
     "name": "stdout",
     "output_type": "stream",
     "text": [
      "argument was provided\n"
     ]
    }
   ],
   "source": [
    "validate()"
   ]
  },
  {
   "cell_type": "code",
   "execution_count": 23,
   "id": "abf6dfcd",
   "metadata": {},
   "outputs": [],
   "source": [
    "def validate(a=object()):\n",
    "    default_a = validate.__defaults__[0]\n",
    "    if a is not object():\n",
    "        print('argument was provided')\n",
    "    else:\n",
    "        print('argument was NOT provided')"
   ]
  },
  {
   "cell_type": "code",
   "execution_count": 24,
   "id": "65a97bff",
   "metadata": {},
   "outputs": [
    {
     "name": "stdout",
     "output_type": "stream",
     "text": [
      "argument was provided\n"
     ]
    }
   ],
   "source": [
    "validate(10)"
   ]
  },
  {
   "cell_type": "code",
   "execution_count": 25,
   "id": "cdedf2d8",
   "metadata": {},
   "outputs": [
    {
     "name": "stdout",
     "output_type": "stream",
     "text": [
      "argument was provided\n"
     ]
    }
   ],
   "source": [
    "validate()"
   ]
  },
  {
   "cell_type": "code",
   "execution_count": 26,
   "id": "7e0fd82d",
   "metadata": {},
   "outputs": [
    {
     "name": "stdout",
     "output_type": "stream",
     "text": [
      "argument was provided\n"
     ]
    }
   ],
   "source": [
    "validate(None)"
   ]
  },
  {
   "cell_type": "code",
   "execution_count": 28,
   "id": "ecaa603a",
   "metadata": {},
   "outputs": [],
   "source": [
    "def validate(a=object(), b=object(), *, kw=object()):\n",
    "    default_a = validate.__defaults__[0]\n",
    "    default_b = validate.__defaults__[1]\n",
    "    default_kw = validate.__kwdefaults__['kw']\n",
    "    \n",
    "    print(default_a is default_b)\n",
    "    print(default_b is default_kw)\n",
    "    \n",
    "    if a is not default_a:\n",
    "        print('argument a was provided')\n",
    "    else:\n",
    "        print('argument a was NOT provided')\n",
    "    \n",
    "    if b is not default_b:\n",
    "        print('argument b was provided')\n",
    "    else:\n",
    "        print('argument b was NOT provided')\n",
    "    \n",
    "    if kw is not default_kw:\n",
    "        print('argument kw was provided')\n",
    "    else:\n",
    "        print('argument kw was NOT provided')"
   ]
  },
  {
   "cell_type": "code",
   "execution_count": 30,
   "id": "6a3adc2d",
   "metadata": {},
   "outputs": [
    {
     "name": "stdout",
     "output_type": "stream",
     "text": [
      "False\n",
      "False\n",
      "argument a was provided\n",
      "argument b was provided\n",
      "argument kw was provided\n"
     ]
    }
   ],
   "source": [
    "validate(100, 200, kw=None)"
   ]
  },
  {
   "cell_type": "code",
   "execution_count": 31,
   "id": "e6a0eba6",
   "metadata": {},
   "outputs": [
    {
     "name": "stdout",
     "output_type": "stream",
     "text": [
      "False\n",
      "False\n",
      "argument a was provided\n",
      "argument b was NOT provided\n",
      "argument kw was NOT provided\n"
     ]
    }
   ],
   "source": [
    "validate(200)"
   ]
  }
 ],
 "metadata": {
  "kernelspec": {
   "display_name": "Python 3.9.12 ('base')",
   "language": "python",
   "name": "python3"
  },
  "language_info": {
   "codemirror_mode": {
    "name": "ipython",
    "version": 3
   },
   "file_extension": ".py",
   "mimetype": "text/x-python",
   "name": "python",
   "nbconvert_exporter": "python",
   "pygments_lexer": "ipython3",
   "version": "3.9.12"
  },
  "vscode": {
   "interpreter": {
    "hash": "a624adbc5e596fddf72740b255048309200567f23df85867ce297e9f9d364c1b"
   }
  }
 },
 "nbformat": 4,
 "nbformat_minor": 5
}
