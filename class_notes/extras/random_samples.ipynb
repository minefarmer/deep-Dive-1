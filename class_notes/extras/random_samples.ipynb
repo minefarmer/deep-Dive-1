{
 "cells": [
  {
   "cell_type": "markdown",
   "id": "837a736a",
   "metadata": {},
   "source": [
    "                        Ramdom Samples"
   ]
  },
  {
   "cell_type": "code",
   "execution_count": 2,
   "id": "cfa3fdf9",
   "metadata": {},
   "outputs": [],
   "source": [
    "import random"
   ]
  },
  {
   "cell_type": "code",
   "execution_count": 3,
   "id": "889a1819",
   "metadata": {},
   "outputs": [
    {
     "data": {
      "text/plain": [
       "['a', 'b', 'c', 'c', 'a', 'b', 'b', 'b', 'b', 'b']"
      ]
     },
     "execution_count": 3,
     "metadata": {},
     "output_type": "execute_result"
    }
   ],
   "source": [
    "random.choices(list('abc'), k=10)"
   ]
  },
  {
   "cell_type": "code",
   "execution_count": 4,
   "id": "79a54020",
   "metadata": {},
   "outputs": [
    {
     "name": "stdout",
     "output_type": "stream",
     "text": [
      "[0, 1, 2, 3, 4, 5, 6, 7, 8, 9]\n"
     ]
    }
   ],
   "source": [
    "l = list(range(10))\n",
    "print(l)"
   ]
  },
  {
   "cell_type": "code",
   "execution_count": 5,
   "id": "52e1b837",
   "metadata": {},
   "outputs": [
    {
     "data": {
      "text/plain": [
       "[3, 4, 1, 0, 5]"
      ]
     },
     "execution_count": 5,
     "metadata": {},
     "output_type": "execute_result"
    }
   ],
   "source": [
    "random.choices(l, k=5)"
   ]
  },
  {
   "cell_type": "code",
   "execution_count": 7,
   "id": "ba15e634",
   "metadata": {},
   "outputs": [
    {
     "data": {
      "text/plain": [
       "[2, 6, 1, 5, 8]"
      ]
     },
     "execution_count": 7,
     "metadata": {},
     "output_type": "execute_result"
    }
   ],
   "source": [
    "random.sample(l, k=5)"
   ]
  },
  {
   "cell_type": "code",
   "execution_count": 9,
   "id": "97dad503",
   "metadata": {},
   "outputs": [
    {
     "ename": "ValueError",
     "evalue": "Sample larger than population or is negative",
     "output_type": "error",
     "traceback": [
      "\u001b[1;31m---------------------------------------------------------------------------\u001b[0m",
      "\u001b[1;31mValueError\u001b[0m                                Traceback (most recent call last)",
      "\u001b[1;32mc:\\Users\\pgold\\MatsHub\\deep-Dive-1\\class_notes\\extras\\random_samples.ipynb Cell 7\u001b[0m in \u001b[0;36m<cell line: 1>\u001b[1;34m()\u001b[0m\n\u001b[1;32m----> <a href='vscode-notebook-cell:/c%3A/Users/pgold/MatsHub/deep-Dive-1/class_notes/extras/random_samples.ipynb#X14sZmlsZQ%3D%3D?line=0'>1</a>\u001b[0m random\u001b[39m.\u001b[39;49msample(l, k\u001b[39m=\u001b[39;49m\u001b[39m11\u001b[39;49m)\n",
      "File \u001b[1;32mc:\\Users\\pgold\\anaconda3\\lib\\random.py:449\u001b[0m, in \u001b[0;36mRandom.sample\u001b[1;34m(self, population, k, counts)\u001b[0m\n\u001b[0;32m    447\u001b[0m randbelow \u001b[39m=\u001b[39m \u001b[39mself\u001b[39m\u001b[39m.\u001b[39m_randbelow\n\u001b[0;32m    448\u001b[0m \u001b[39mif\u001b[39;00m \u001b[39mnot\u001b[39;00m \u001b[39m0\u001b[39m \u001b[39m<\u001b[39m\u001b[39m=\u001b[39m k \u001b[39m<\u001b[39m\u001b[39m=\u001b[39m n:\n\u001b[1;32m--> 449\u001b[0m     \u001b[39mraise\u001b[39;00m \u001b[39mValueError\u001b[39;00m(\u001b[39m\"\u001b[39m\u001b[39mSample larger than population or is negative\u001b[39m\u001b[39m\"\u001b[39m)\n\u001b[0;32m    450\u001b[0m result \u001b[39m=\u001b[39m [\u001b[39mNone\u001b[39;00m] \u001b[39m*\u001b[39m k\n\u001b[0;32m    451\u001b[0m setsize \u001b[39m=\u001b[39m \u001b[39m21\u001b[39m        \u001b[39m# size of a small set minus size of an empty list\u001b[39;00m\n",
      "\u001b[1;31mValueError\u001b[0m: Sample larger than population or is negative"
     ]
    }
   ],
   "source": [
    "random.sample(l, k=11)  # k is too large"
   ]
  },
  {
   "cell_type": "code",
   "execution_count": 10,
   "id": "a60cbe60",
   "metadata": {},
   "outputs": [],
   "source": [
    "suits = 'C', 'D', 'H', 'S'\n",
    "ranks = tuple(range(2, 11)) + tuple('JQKA')"
   ]
  },
  {
   "cell_type": "code",
   "execution_count": 11,
   "id": "cabba3be",
   "metadata": {},
   "outputs": [
    {
     "data": {
      "text/plain": [
       "('C', 'D', 'H', 'S')"
      ]
     },
     "execution_count": 11,
     "metadata": {},
     "output_type": "execute_result"
    }
   ],
   "source": [
    "suits"
   ]
  },
  {
   "cell_type": "code",
   "execution_count": 12,
   "id": "230ed9b1",
   "metadata": {},
   "outputs": [
    {
     "data": {
      "text/plain": [
       "(2, 3, 4, 5, 6, 7, 8, 9, 10, 'J', 'Q', 'K', 'A')"
      ]
     },
     "execution_count": 12,
     "metadata": {},
     "output_type": "execute_result"
    }
   ],
   "source": [
    "ranks"
   ]
  },
  {
   "cell_type": "code",
   "execution_count": 14,
   "id": "63550644",
   "metadata": {},
   "outputs": [],
   "source": [
    "deck = []\n",
    "for suit in suits:\n",
    "    for rank in ranks:\n",
    "        deck.append(str(rank) + suit)"
   ]
  },
  {
   "cell_type": "code",
   "execution_count": 15,
   "id": "66b164b3",
   "metadata": {},
   "outputs": [
    {
     "name": "stdout",
     "output_type": "stream",
     "text": [
      "['2C', '3C', '4C', '5C', '6C', '7C', '8C', '9C', '10C', 'JC', 'QC', 'KC', 'AC', '2D', '3D', '4D', '5D', '6D', '7D', '8D', '9D', '10D', 'JD', 'QD', 'KD', 'AD', '2H', '3H', '4H', '5H', '6H', '7H', '8H', '9H', '10H', 'JH', 'QH', 'KH', 'AH', '2S', '3S', '4S', '5S', '6S', '7S', '8S', '9S', '10S', 'JS', 'QS', 'KS', 'AS']\n"
     ]
    }
   ],
   "source": [
    "print(deck)"
   ]
  },
  {
   "cell_type": "code",
   "execution_count": 19,
   "id": "0a7fabfe",
   "metadata": {},
   "outputs": [],
   "source": [
    "deck = [str(rank) + suit for suit in suits for rank in ranks]"
   ]
  },
  {
   "cell_type": "code",
   "execution_count": 20,
   "id": "fb1674be",
   "metadata": {},
   "outputs": [
    {
     "name": "stdout",
     "output_type": "stream",
     "text": [
      "['2C', '3C', '4C', '5C', '6C', '7C', '8C', '9C', '10C', 'JC', 'QC', 'KC', 'AC', '2D', '3D', '4D', '5D', '6D', '7D', '8D', '9D', '10D', 'JD', 'QD', 'KD', 'AD', '2H', '3H', '4H', '5H', '6H', '7H', '8H', '9H', '10H', 'JH', 'QH', 'KH', 'AH', '2S', '3S', '4S', '5S', '6S', '7S', '8S', '9S', '10S', 'JS', 'QS', 'KS', 'AS']\n"
     ]
    }
   ],
   "source": [
    "print(deck)"
   ]
  },
  {
   "cell_type": "code",
   "execution_count": 21,
   "id": "c5ef3eb7",
   "metadata": {},
   "outputs": [],
   "source": [
    "deck = [str(rank) + suit for suit in suits for rank in ranks]"
   ]
  },
  {
   "cell_type": "code",
   "execution_count": 22,
   "id": "69d9cb5d",
   "metadata": {},
   "outputs": [
    {
     "data": {
      "text/plain": [
       "['3S', 'JD', '6H', '9H', '6S', '6H', '6D', '10H', 'AD', '8S']"
      ]
     },
     "execution_count": 22,
     "metadata": {},
     "output_type": "execute_result"
    }
   ],
   "source": [
    "random.choices(deck, k=10)"
   ]
  },
  {
   "cell_type": "code",
   "execution_count": 27,
   "id": "9185723d",
   "metadata": {},
   "outputs": [
    {
     "data": {
      "text/plain": [
       "['8H',\n",
       " 'KH',\n",
       " 'AC',\n",
       " '3C',\n",
       " 'AS',\n",
       " '7S',\n",
       " '4S',\n",
       " '10S',\n",
       " '7D',\n",
       " '8H',\n",
       " 'QS',\n",
       " '5D',\n",
       " '2H',\n",
       " '10H',\n",
       " '9D',\n",
       " 'AD',\n",
       " '8S',\n",
       " '8S',\n",
       " '2D',\n",
       " '6D',\n",
       " '3D',\n",
       " '8H',\n",
       " '2S',\n",
       " '5S',\n",
       " 'JH',\n",
       " '6D',\n",
       " '7S',\n",
       " '3H',\n",
       " 'JD',\n",
       " 'AH',\n",
       " 'QC',\n",
       " 'KS',\n",
       " '2C',\n",
       " '5D',\n",
       " '2S',\n",
       " 'KH',\n",
       " 'JD',\n",
       " '8D',\n",
       " '10H',\n",
       " '2S']"
      ]
     },
     "execution_count": 27,
     "metadata": {},
     "output_type": "execute_result"
    }
   ],
   "source": [
    "random.choices(deck, k=40)"
   ]
  },
  {
   "cell_type": "code",
   "execution_count": 29,
   "id": "8ecd14cb",
   "metadata": {},
   "outputs": [
    {
     "data": {
      "text/plain": [
       "Counter({'AC': 1,\n",
       "         '9D': 1,\n",
       "         '8H': 1,\n",
       "         'AD': 2,\n",
       "         '4C': 1,\n",
       "         '4H': 1,\n",
       "         'KH': 1,\n",
       "         '7D': 1,\n",
       "         '8S': 1})"
      ]
     },
     "execution_count": 29,
     "metadata": {},
     "output_type": "execute_result"
    }
   ],
   "source": [
    "Counter(random.choices(deck, k=10))"
   ]
  },
  {
   "cell_type": "code",
   "execution_count": 30,
   "id": "cb323999",
   "metadata": {},
   "outputs": [
    {
     "data": {
      "text/plain": [
       "Counter({'10C': 2,\n",
       "         '10D': 1,\n",
       "         'QC': 2,\n",
       "         'QH': 2,\n",
       "         '9H': 2,\n",
       "         '4D': 2,\n",
       "         '2H': 1,\n",
       "         '4S': 1,\n",
       "         '5D': 1,\n",
       "         '10S': 1,\n",
       "         '8C': 1,\n",
       "         'AD': 2,\n",
       "         '7C': 1,\n",
       "         'KH': 2,\n",
       "         '8S': 1,\n",
       "         '2C': 2,\n",
       "         '10H': 1,\n",
       "         '4H': 1,\n",
       "         'KD': 1,\n",
       "         '3D': 1,\n",
       "         'JC': 1,\n",
       "         '2S': 1,\n",
       "         'AS': 1,\n",
       "         'QS': 1,\n",
       "         '7H': 2,\n",
       "         'KC': 1,\n",
       "         'JD': 1,\n",
       "         '9C': 1,\n",
       "         'QD': 1,\n",
       "         '6S': 1,\n",
       "         '5H': 1})"
      ]
     },
     "execution_count": 30,
     "metadata": {},
     "output_type": "execute_result"
    }
   ],
   "source": [
    "Counter(random.choices(deck, k=40))"
   ]
  },
  {
   "cell_type": "code",
   "execution_count": 31,
   "id": "1f283fb2",
   "metadata": {},
   "outputs": [
    {
     "data": {
      "text/plain": [
       "Counter({'5C': 1,\n",
       "         '9S': 2,\n",
       "         '3C': 2,\n",
       "         '7S': 2,\n",
       "         'KS': 2,\n",
       "         'AC': 2,\n",
       "         '7C': 1,\n",
       "         '3H': 4,\n",
       "         '6S': 1,\n",
       "         'KD': 1,\n",
       "         'JS': 2,\n",
       "         '2D': 1,\n",
       "         '10S': 2,\n",
       "         '9D': 1,\n",
       "         '9C': 1,\n",
       "         '5H': 3,\n",
       "         '8D': 3,\n",
       "         '6H': 2,\n",
       "         '5D': 2,\n",
       "         '10D': 1,\n",
       "         'QC': 2,\n",
       "         '8H': 1,\n",
       "         'QH': 1,\n",
       "         'JD': 2,\n",
       "         '2H': 1,\n",
       "         '5S': 2,\n",
       "         '6D': 2,\n",
       "         '10C': 1,\n",
       "         '2C': 1,\n",
       "         '9H': 1,\n",
       "         '7D': 1,\n",
       "         '7H': 1})"
      ]
     },
     "execution_count": 31,
     "metadata": {},
     "output_type": "execute_result"
    }
   ],
   "source": [
    "Counter(random.choices(deck, k=52))"
   ]
  }
 ],
 "metadata": {
  "kernelspec": {
   "display_name": "Python 3.9.12 ('base')",
   "language": "python",
   "name": "python3"
  },
  "language_info": {
   "codemirror_mode": {
    "name": "ipython",
    "version": 3
   },
   "file_extension": ".py",
   "mimetype": "text/x-python",
   "name": "python",
   "nbconvert_exporter": "python",
   "pygments_lexer": "ipython3",
   "version": "3.9.12"
  },
  "vscode": {
   "interpreter": {
    "hash": "a624adbc5e596fddf72740b255048309200567f23df85867ce297e9f9d364c1b"
   }
  }
 },
 "nbformat": 4,
 "nbformat_minor": 5
}
