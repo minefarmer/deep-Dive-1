{
 "cells": [
  {
   "cell_type": "markdown",
   "id": "74ad5240",
   "metadata": {},
   "source": [
    "                        RANDOM CHOICES\n",
    "        How would I pick a random element from a list?"
   ]
  },
  {
   "cell_type": "code",
   "execution_count": 62,
   "id": "aac3f1b1",
   "metadata": {},
   "outputs": [],
   "source": [
    "import random\n",
    "\n",
    "l = [10, 20, 30, 40, 50]"
   ]
  },
  {
   "cell_type": "code",
   "execution_count": 63,
   "id": "5e04e723",
   "metadata": {},
   "outputs": [
    {
     "data": {
      "text/plain": [
       "40"
      ]
     },
     "execution_count": 63,
     "metadata": {},
     "output_type": "execute_result"
    }
   ],
   "source": [
    "random_index = random.randrange(len(l))\n",
    "l[random_index]"
   ]
  },
  {
   "cell_type": "code",
   "execution_count": 64,
   "id": "003d084c",
   "metadata": {},
   "outputs": [
    {
     "name": "stdout",
     "output_type": "stream",
     "text": [
      "[0, 1, 2, 3, 4, 5, 6, 7, 8, 9, 10, 11, 12, 13, 14, 15, 16, 17, 18, 19, 20, 21, 22, 23, 24, 25, 26, 27, 28, 29, 30, 31, 32, 33, 34, 35, 36, 37, 38, 39, 40, 41, 42, 43, 44, 45, 46, 47, 48, 49, 50, 51, 52, 53, 54, 55, 56, 57, 58, 59, 60, 61, 62, 63, 64, 65, 66, 67, 68, 69, 70, 71, 72, 73, 74, 75, 76, 77, 78, 79, 80, 81, 82, 83, 84, 85, 86, 87, 88, 89, 90, 91, 92, 93, 94, 95, 96, 97, 98, 99]\n"
     ]
    }
   ],
   "source": [
    "l = list(range(100))\n",
    "print(l)"
   ]
  },
  {
   "cell_type": "code",
   "execution_count": 65,
   "id": "ec8c7f3f",
   "metadata": {},
   "outputs": [
    {
     "name": "stdout",
     "output_type": "stream",
     "text": [
      "[97]\n",
      "[97, 53]\n",
      "[97, 53, 5]\n",
      "[97, 53, 5, 33]\n",
      "[97, 53, 5, 33, 65]\n"
     ]
    }
   ],
   "source": [
    "randoms = []  # not the best way\n",
    "\n",
    "for _ in range(5):\n",
    "    randoms.append(l[random.randrange(len(l))])\n",
    "    \n",
    "    print(randoms)"
   ]
  },
  {
   "cell_type": "code",
   "execution_count": 66,
   "id": "a1436c4c",
   "metadata": {},
   "outputs": [
    {
     "data": {
      "text/plain": [
       "62"
      ]
     },
     "execution_count": 66,
     "metadata": {},
     "output_type": "execute_result"
    }
   ],
   "source": [
    "random.choice(l)"
   ]
  },
  {
   "cell_type": "code",
   "execution_count": 67,
   "id": "bd198a34",
   "metadata": {},
   "outputs": [
    {
     "name": "stdout",
     "output_type": "stream",
     "text": [
      "[51]\n",
      "[51, 38]\n",
      "[51, 38, 61]\n",
      "[51, 38, 61, 45]\n",
      "[51, 38, 61, 45, 74]\n"
     ]
    }
   ],
   "source": [
    "randoms = []  # the best way\n",
    "\n",
    "for _ in range(5):\n",
    "    randoms.append(random.choice(l))\n",
    "    \n",
    "    print(randoms)"
   ]
  },
  {
   "cell_type": "code",
   "execution_count": 68,
   "id": "110358ec",
   "metadata": {},
   "outputs": [
    {
     "name": "stdout",
     "output_type": "stream",
     "text": [
      "[27, 64, 17, 36, 17]\n"
     ]
    }
   ],
   "source": [
    "randoms = [random.choice(l) for _ in range(5)]\n",
    "print(randoms)"
   ]
  },
  {
   "cell_type": "code",
   "execution_count": 69,
   "id": "cb936a0b",
   "metadata": {},
   "outputs": [
    {
     "name": "stdout",
     "output_type": "stream",
     "text": [
      "[75, 61, 25, 90, 98]\n"
     ]
    }
   ],
   "source": [
    "randoms = random.choices(l, k=5)\n",
    "print(randoms)"
   ]
  },
  {
   "cell_type": "code",
   "execution_count": 70,
   "id": "40c0acdc",
   "metadata": {},
   "outputs": [
    {
     "name": "stdout",
     "output_type": "stream",
     "text": [
      "[2, 3, 1, 1, 3, 4, 1, 3, 4, 3]\n"
     ]
    },
    {
     "data": {
      "text/plain": [
       "[None]"
      ]
     },
     "execution_count": 70,
     "metadata": {},
     "output_type": "execute_result"
    }
   ],
   "source": [
    "l = [1, 2, 3, 4]\n",
    "\n",
    "randoms = [random.choice(l) for _ in range(10)]\n",
    "\n",
    "[print(randoms)]"
   ]
  },
  {
   "cell_type": "code",
   "execution_count": 71,
   "id": "e400550b",
   "metadata": {},
   "outputs": [
    {
     "name": "stdout",
     "output_type": "stream",
     "text": [
      "[3, 4, 4, 2, 4, 2, 4, 3, 1, 3]\n"
     ]
    }
   ],
   "source": [
    "randoms = random.choices(l, k=10)\n",
    "print(randoms)"
   ]
  },
  {
   "cell_type": "code",
   "execution_count": 72,
   "id": "3832d011",
   "metadata": {},
   "outputs": [],
   "source": [
    "l = ['a', 'b', 'c']"
   ]
  },
  {
   "cell_type": "code",
   "execution_count": 73,
   "id": "0ba3466d",
   "metadata": {},
   "outputs": [
    {
     "name": "stdout",
     "output_type": "stream",
     "text": [
      "['b', 'c', 'c', 'a', 'b']\n",
      "['c', 'a', 'a', 'c', 'a']\n",
      "['b', 'a', 'c', 'c', 'b']\n",
      "['a', 'a', 'b', 'c', 'a']\n",
      "['b', 'c', 'b', 'c', 'b']\n",
      "['c', 'b', 'b', 'b', 'b']\n",
      "['b', 'b', 'a', 'a', 'a']\n",
      "['b', 'b', 'b', 'a', 'c']\n",
      "['c', 'c', 'c', 'c', 'c']\n",
      "['b', 'b', 'c', 'a', 'c']\n"
     ]
    }
   ],
   "source": [
    "for i in range(10):\n",
    "    print(random.choices(l, k=5))"
   ]
  },
  {
   "cell_type": "code",
   "execution_count": 74,
   "id": "458624d1",
   "metadata": {},
   "outputs": [],
   "source": [
    "weights = [10, 1, 1]"
   ]
  },
  {
   "cell_type": "code",
   "execution_count": 75,
   "id": "b44f2bae",
   "metadata": {},
   "outputs": [
    {
     "name": "stdout",
     "output_type": "stream",
     "text": [
      "['b', 'b', 'a', 'c', 'a']\n",
      "['a', 'a', 'c', 'c', 'a']\n",
      "['a', 'a', 'a', 'a', 'b']\n",
      "['a', 'a', 'a', 'a', 'a']\n",
      "['a', 'a', 'a', 'a', 'a']\n",
      "['a', 'a', 'b', 'a', 'a']\n",
      "['a', 'a', 'a', 'a', 'a']\n",
      "['a', 'c', 'a', 'a', 'c']\n",
      "['a', 'a', 'a', 'a', 'c']\n",
      "['a', 'a', 'a', 'a', 'a']\n"
     ]
    }
   ],
   "source": [
    "for i in range(10):\n",
    "    print(random.choices(l, k=5, weights=weights))"
   ]
  },
  {
   "cell_type": "code",
   "execution_count": 76,
   "id": "64394eb0",
   "metadata": {},
   "outputs": [],
   "source": [
    "from collections import namedtuple\n",
    "\n",
    "Freq = namedtuple('Freq', 'count freq')"
   ]
  },
  {
   "cell_type": "code",
   "execution_count": 77,
   "id": "ebdf56fa",
   "metadata": {},
   "outputs": [],
   "source": [
    "def freq_counts(lst):\n",
    "    total = len(lst) \n",
    "    return {k: Freq(lst.count(k), 100 * lst.count(k) / total)\n",
    "    for k in set(lst)}"
   ]
  },
  {
   "cell_type": "code",
   "execution_count": 78,
   "id": "3a274f67",
   "metadata": {},
   "outputs": [
    {
     "data": {
      "text/plain": [
       "{'a': Freq(count=333, freq=33.3),\n",
       " 'b': Freq(count=331, freq=33.1),\n",
       " 'c': Freq(count=336, freq=33.6)}"
      ]
     },
     "execution_count": 78,
     "metadata": {},
     "output_type": "execute_result"
    }
   ],
   "source": [
    "freq_counts(random.choices(l, k=1000))"
   ]
  },
  {
   "cell_type": "code",
   "execution_count": 79,
   "id": "e9e9661c",
   "metadata": {},
   "outputs": [
    {
     "data": {
      "text/plain": [
       "{'a': Freq(count=33464, freq=33.464),\n",
       " 'b': Freq(count=33195, freq=33.195),\n",
       " 'c': Freq(count=33341, freq=33.341)}"
      ]
     },
     "execution_count": 79,
     "metadata": {},
     "output_type": "execute_result"
    }
   ],
   "source": [
    "freq_counts(random.choices(l, k=100_000))"
   ]
  },
  {
   "cell_type": "code",
   "execution_count": 80,
   "id": "5d9c0c35",
   "metadata": {},
   "outputs": [],
   "source": [
    "cum_weights = [7, 8, 10]"
   ]
  },
  {
   "cell_type": "code",
   "execution_count": 81,
   "id": "d12e414b",
   "metadata": {},
   "outputs": [
    {
     "data": {
      "text/plain": [
       "{'a': Freq(count=69922, freq=69.922),\n",
       " 'b': Freq(count=10057, freq=10.057),\n",
       " 'c': Freq(count=20021, freq=20.021)}"
      ]
     },
     "execution_count": 81,
     "metadata": {},
     "output_type": "execute_result"
    }
   ],
   "source": [
    "freq_counts(random.choices(l, k=100_000, cum_weights=cum_weights))"
   ]
  },
  {
   "cell_type": "code",
   "execution_count": 82,
   "id": "7e2191ec",
   "metadata": {},
   "outputs": [],
   "source": [
    "from time import perf_counter\n",
    "\n",
    "random.seed(0)"
   ]
  },
  {
   "cell_type": "code",
   "execution_count": 84,
   "id": "5a08f8b5",
   "metadata": {},
   "outputs": [],
   "source": [
    "demons = random.choices([0, 1], k=10_000_000)"
   ]
  },
  {
   "cell_type": "code",
   "execution_count": 88,
   "id": "9f86f072",
   "metadata": {},
   "outputs": [
    {
     "name": "stdout",
     "output_type": "stream",
     "text": [
      "Avg elapsed time: 0.853000600000087\n"
     ]
    }
   ],
   "source": [
    "start = perf_counter()\n",
    "for d in demons:\n",
    "    if d == 0:\n",
    "        continue\n",
    "    else:\n",
    "        10 / d\n",
    "end = perf_counter()\n",
    "print(f'Avg elapsed time: {(end-start):0.15f}')"
   ]
  },
  {
   "cell_type": "code",
   "execution_count": 90,
   "id": "77fc5342",
   "metadata": {},
   "outputs": [
    {
     "name": "stdout",
     "output_type": "stream",
     "text": [
      "Avg elapsed time: 2.460453900000175\n"
     ]
    }
   ],
   "source": [
    "start = perf_counter()\n",
    "for d in demons:\n",
    "    try:\n",
    "        10 / d\n",
    "    except ZeroDivisionError:\n",
    "        pass\n",
    "end = perf_counter()\n",
    "print(f'Avg elapsed time: {(end-start):0.15f}')"
   ]
  },
  {
   "cell_type": "code",
   "execution_count": 92,
   "id": "00afe782",
   "metadata": {},
   "outputs": [],
   "source": [
    "random.seed(0)\n",
    "demons = random.choices([0, 1], k=10_000_000, weights=[1, 9])"
   ]
  },
  {
   "cell_type": "code",
   "execution_count": 102,
   "id": "7f72db84",
   "metadata": {},
   "outputs": [
    {
     "name": "stdout",
     "output_type": "stream",
     "text": [
      "Avg elapsed time: 0.9571868000002723\n"
     ]
    }
   ],
   "source": [
    "start = perf_counter()\n",
    "for d in demons:\n",
    "    if d == 0:\n",
    "        continue\n",
    "    else:\n",
    "        10 / d\n",
    "end = perf_counter()\n",
    "print(f'Avg elapsed time: {(end-start)}')"
   ]
  },
  {
   "cell_type": "code",
   "execution_count": 104,
   "id": "6741682f",
   "metadata": {},
   "outputs": [
    {
     "name": "stdout",
     "output_type": "stream",
     "text": [
      "Avg elapsed time: 1.0452831000002334\n"
     ]
    }
   ],
   "source": [
    "start = perf_counter()\n",
    "for d in demons:\n",
    "    try:\n",
    "        10 / d\n",
    "    except ZeroDivisionError:\n",
    "        pass\n",
    "end = perf_counter()\n",
    "print(f'Avg elapsed time: {(end-start)}')"
   ]
  }
 ],
 "metadata": {
  "kernelspec": {
   "display_name": "Python 3.9.12 ('base')",
   "language": "python",
   "name": "python3"
  },
  "language_info": {
   "codemirror_mode": {
    "name": "ipython",
    "version": 3
   },
   "file_extension": ".py",
   "mimetype": "text/x-python",
   "name": "python",
   "nbconvert_exporter": "python",
   "pygments_lexer": "ipython3",
   "version": "3.9.12"
  },
  "vscode": {
   "interpreter": {
    "hash": "a624adbc5e596fddf72740b255048309200567f23df85867ce297e9f9d364c1b"
   }
  }
 },
 "nbformat": 4,
 "nbformat_minor": 5
}
