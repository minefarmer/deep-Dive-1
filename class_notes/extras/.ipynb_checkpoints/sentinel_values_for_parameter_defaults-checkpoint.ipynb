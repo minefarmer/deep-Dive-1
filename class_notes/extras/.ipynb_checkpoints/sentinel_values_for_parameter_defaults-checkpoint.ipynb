{
 "cells": [
  {
   "cell_type": "markdown",
   "id": "ef4c88ba",
   "metadata": {},
   "source": [
    "                            Sentinal Values for Parameter Defaults"
   ]
  },
  {
   "cell_type": "markdown",
   "id": "76246865",
   "metadata": {},
   "source": [
    "Often we specify the default for a function parameter as None. This allows to determin if the user specified an argument for that patameter or not.\n",
    "\n",
    "There's a potential issue here!\n",
    "\n",
    "What happens if we need to differientiate between the ollowing:\n",
    "\n",
    "    a non-None value was provided for the argument\n",
    "    a None value was provided for the argument\n",
    "    the argument was not provided at all"
   ]
  }
 ],
 "metadata": {
  "kernelspec": {
   "display_name": "Python 3 (ipykernel)",
   "language": "python",
   "name": "python3"
  },
  "language_info": {
   "codemirror_mode": {
    "name": "ipython",
    "version": 3
   },
   "file_extension": ".py",
   "mimetype": "text/x-python",
   "name": "python",
   "nbconvert_exporter": "python",
   "pygments_lexer": "ipython3",
   "version": "3.9.12"
  }
 },
 "nbformat": 4,
 "nbformat_minor": 5
}
