{
 "cells": [
  {
   "cell_type": "markdown",
   "metadata": {},
   "source": [
    "        What is a Module?"
   ]
  },
  {
   "cell_type": "code",
   "execution_count": 19,
   "metadata": {},
   "outputs": [],
   "source": [
    "import math"
   ]
  },
  {
   "cell_type": "code",
   "execution_count": 20,
   "metadata": {},
   "outputs": [
    {
     "data": {
      "text/plain": [
       "<module 'math' (built-in)>"
      ]
     },
     "execution_count": 20,
     "metadata": {},
     "output_type": "execute_result"
    }
   ],
   "source": [
    "math"
   ]
  },
  {
   "cell_type": "code",
   "execution_count": 21,
   "metadata": {},
   "outputs": [],
   "source": [
    "import fractions"
   ]
  },
  {
   "cell_type": "code",
   "execution_count": 22,
   "metadata": {},
   "outputs": [
    {
     "data": {
      "text/plain": [
       "<module 'fractions' from '/usr/lib/python3.9/fractions.py'>"
      ]
     },
     "execution_count": 22,
     "metadata": {},
     "output_type": "execute_result"
    }
   ],
   "source": [
    "fractions"
   ]
  },
  {
   "cell_type": "code",
   "execution_count": 1,
   "metadata": {},
   "outputs": [],
   "source": [
    "def func():\n",
    "    a = 10\n",
    "    return a"
   ]
  },
  {
   "cell_type": "code",
   "execution_count": 2,
   "metadata": {},
   "outputs": [
    {
     "data": {
      "text/plain": [
       "<function __main__.func()>"
      ]
     },
     "execution_count": 2,
     "metadata": {},
     "output_type": "execute_result"
    }
   ],
   "source": [
    "func"
   ]
  },
  {
   "cell_type": "code",
   "execution_count": 3,
   "metadata": {},
   "outputs": [
    {
     "data": {
      "text/plain": [
       "10"
      ]
     },
     "execution_count": 3,
     "metadata": {},
     "output_type": "execute_result"
    }
   ],
   "source": [
    "func()"
   ]
  },
  {
   "cell_type": "code",
   "execution_count": 4,
   "metadata": {},
   "outputs": [
    {
     "data": {
      "text/plain": [
       "140042537866432"
      ]
     },
     "execution_count": 4,
     "metadata": {},
     "output_type": "execute_result"
    }
   ],
   "source": [
    "id(func)"
   ]
  },
  {
   "cell_type": "code",
   "execution_count": 23,
   "metadata": {},
   "outputs": [],
   "source": [
    "junk = math"
   ]
  },
  {
   "cell_type": "code",
   "execution_count": 24,
   "metadata": {},
   "outputs": [
    {
     "data": {
      "text/plain": [
       "1.4142135623730951"
      ]
     },
     "execution_count": 24,
     "metadata": {},
     "output_type": "execute_result"
    }
   ],
   "source": [
    "junk.sqrt(2)"
   ]
  },
  {
   "cell_type": "code",
   "execution_count": 25,
   "metadata": {},
   "outputs": [
    {
     "data": {
      "text/plain": [
       "True"
      ]
     },
     "execution_count": 25,
     "metadata": {},
     "output_type": "execute_result"
    }
   ],
   "source": [
    "junk is math"
   ]
  },
  {
   "cell_type": "code",
   "execution_count": 5,
   "metadata": {},
   "outputs": [
    {
     "data": {
      "text/plain": [
       "{'__name__': '__main__',\n",
       " '__doc__': 'Automatically created module for IPython interactive environment',\n",
       " '__package__': None,\n",
       " '__loader__': None,\n",
       " '__spec__': None,\n",
       " '__builtin__': <module 'builtins' (built-in)>,\n",
       " '__builtins__': <module 'builtins' (built-in)>,\n",
       " '_ih': ['',\n",
       "  'def func():\\n    a = 10\\n    return a',\n",
       "  'func',\n",
       "  'func()',\n",
       "  'id(func)',\n",
       "  'globals()'],\n",
       " '_oh': {2: <function __main__.func()>, 3: 10, 4: 140042537866432},\n",
       " '_dh': [PosixPath('/home/carl/Desktop/Matshub/deep-Dive-1/class_notes/modules_packages_namespaces')],\n",
       " 'In': ['',\n",
       "  'def func():\\n    a = 10\\n    return a',\n",
       "  'func',\n",
       "  'func()',\n",
       "  'id(func)',\n",
       "  'globals()'],\n",
       " 'Out': {2: <function __main__.func()>, 3: 10, 4: 140042537866432},\n",
       " 'get_ipython': <bound method InteractiveShell.get_ipython of <ipykernel.zmqshell.ZMQInteractiveShell object at 0x7f5e4bd89d00>>,\n",
       " 'exit': <IPython.core.autocall.ZMQExitAutocall at 0x7f5e4bd9da60>,\n",
       " 'quit': <IPython.core.autocall.ZMQExitAutocall at 0x7f5e4bd9da60>,\n",
       " '_': 140042537866432,\n",
       " '__': 10,\n",
       " '___': <function __main__.func()>,\n",
       " 'os': <module 'os' from '/usr/lib/python3.9/os.py'>,\n",
       " 'sys': <module 'sys' (built-in)>,\n",
       " '__vsc_ipynb_file__': '/home/carl/Desktop/Matshub/deep-Dive-1/class_notes/modules_packages_namespaces/modules.ipynb',\n",
       " '_i': 'id(func)',\n",
       " '_ii': 'func()',\n",
       " '_iii': 'func',\n",
       " '_i1': 'def func():\\n    a = 10\\n    return a',\n",
       " 'func': <function __main__.func()>,\n",
       " '_i2': 'func',\n",
       " '_2': <function __main__.func()>,\n",
       " '_i3': 'func()',\n",
       " '_3': 10,\n",
       " '_i4': 'id(func)',\n",
       " '_4': 140042537866432,\n",
       " '_i5': 'globals()'}"
      ]
     },
     "execution_count": 5,
     "metadata": {},
     "output_type": "execute_result"
    }
   ],
   "source": [
    "globals()"
   ]
  },
  {
   "cell_type": "code",
   "execution_count": 6,
   "metadata": {},
   "outputs": [],
   "source": [
    "f = globals()['func']"
   ]
  },
  {
   "cell_type": "code",
   "execution_count": 8,
   "metadata": {},
   "outputs": [
    {
     "data": {
      "text/plain": [
       "10"
      ]
     },
     "execution_count": 8,
     "metadata": {},
     "output_type": "execute_result"
    }
   ],
   "source": [
    "globals()['func']()"
   ]
  },
  {
   "cell_type": "code",
   "execution_count": 7,
   "metadata": {},
   "outputs": [
    {
     "data": {
      "text/plain": [
       "True"
      ]
     },
     "execution_count": 7,
     "metadata": {},
     "output_type": "execute_result"
    }
   ],
   "source": [
    "f is func"
   ]
  },
  {
   "cell_type": "code",
   "execution_count": 9,
   "metadata": {},
   "outputs": [
    {
     "data": {
      "text/plain": [
       "10"
      ]
     },
     "execution_count": 9,
     "metadata": {},
     "output_type": "execute_result"
    }
   ],
   "source": [
    "f()"
   ]
  },
  {
   "cell_type": "code",
   "execution_count": 12,
   "metadata": {},
   "outputs": [
    {
     "ename": "SyntaxError",
     "evalue": "invalid syntax (4273360510.py, line 7)",
     "output_type": "error",
     "traceback": [
      "\u001b[0;36m  Input \u001b[0;32mIn [12]\u001b[0;36m\u001b[0m\n\u001b[0;31m    '__builtin__': <module 'builtins' (built-in)>,\u001b[0m\n\u001b[0m                   ^\u001b[0m\n\u001b[0;31mSyntaxError\u001b[0m\u001b[0;31m:\u001b[0m invalid syntax\n"
     ]
    }
   ],
   "source": [
    "# Locals\n",
    "{'__name__': '__main__',\n",
    " '__doc__': 'Automatically created module for IPython interactive environment',\n",
    " '__package__': None,\n",
    " '__loader__': None,\n",
    " '__spec__': None,\n",
    " '__builtin__': <module 'builtins' (built-in)>,\n",
    " '__builtins__': <module 'builtins' (built-in)>,\n",
    " '_ih': ['',\n",
    "  'def func():\\n    a = 10\\n    return a',\n",
    "  'func',\n",
    "  'func()',\n",
    "  'id(func)',\n",
    "  'globals()',\n",
    "  \"f = globals()['func']\",\n",
    "  'f is func',\n",
    "  \"globals()['func']()\",\n",
    "  'f()',\n",
    "  'locals()'],\n",
    " '_oh': {2: <function __main__.func()>,\n",
    "  3: 10,\n",
    "  4: 140042537866432,\n",
    "  5: {...},\n",
    "  7: True,\n",
    "  8: 10,\n",
    "  9: 10},\n",
    " '_dh': [PosixPath('/home/carl/Desktop/Matshub/deep-Dive-1/class_notes/modules_packages_namespaces')],\n",
    " 'In': ['',\n",
    "  'def func():\\n    a = 10\\n    return a',\n",
    "  'func',\n",
    "  'func()',\n",
    "  'id(func)',\n",
    "  'globals()',\n",
    "  \"f = globals()['func']\",\n",
    "  'f is func',\n",
    "  \"globals()['func']()\",\n",
    "  'f()',\n",
    "  'locals()'],\n",
    " 'Out': {2: <function __main__.func()>,\n",
    "  3: 10,\n",
    "  4: 140042537866432,\n",
    "  5: {...},\n",
    "  7: True,\n",
    "  8: 10,\n",
    "  9: 10},\n",
    " 'get_ipython': <bound method InteractiveShell.get_ipython of <ipykernel.zmqshell.ZMQInteractiveShell object at 0x7f5e4bd89d00>>,\n",
    " 'exit': <IPython.core.autocall.ZMQExitAutocall at 0x7f5e4bd9da60>,\n",
    " 'quit': <IPython.core.autocall.ZMQExitAutocall at 0x7f5e4bd9da60>,\n",
    " '_': 10,\n",
    " '__': 10,\n",
    " '___': True,\n",
    " 'os': <module 'os' from '/usr/lib/python3.9/os.py'>,\n",
    " 'sys': <module 'sys' (built-in)>,\n",
    " '__vsc_ipynb_file__': '/home/carl/Desktop/Matshub/deep-Dive-1/class_notes/modules_packages_namespaces/modules.ipynb',\n",
    " '_i': 'f()',\n",
    " '_ii': \"globals()['func']()\",\n",
    " '_iii': 'f is func',\n",
    " '_i1': 'def func():\\n    a = 10\\n    return a',\n",
    " 'func': <function __main__.func()>,\n",
    " '_i2': 'func',\n",
    " '_2': <function __main__.func()>,\n",
    " '_i3': 'func()',\n",
    " '_3': 10,\n",
    " '_i4': 'id(func)',\n",
    " '_4': 140042537866432,\n",
    " '_i5': 'globals()',\n",
    " '_5': {...},\n",
    " '_i6': \"f = globals()['func']\",\n",
    " 'f': <function __main__.func()>,\n",
    " '_i7': 'f is func',\n",
    " '_7': True,\n",
    " '_i8': \"globals()['func']()\",\n",
    " '_8': 10,\n",
    " '_i9': 'f()',\n",
    " '_9': 10,\n",
    " '_i10': 'locals()'}"
   ]
  },
  {
   "cell_type": "code",
   "execution_count": 13,
   "metadata": {},
   "outputs": [
    {
     "data": {
      "text/plain": [
       "True"
      ]
     },
     "execution_count": 13,
     "metadata": {},
     "output_type": "execute_result"
    }
   ],
   "source": [
    "locals() is globals()"
   ]
  },
  {
   "cell_type": "code",
   "execution_count": 14,
   "metadata": {},
   "outputs": [],
   "source": [
    "a = 100"
   ]
  },
  {
   "cell_type": "code",
   "execution_count": 15,
   "metadata": {},
   "outputs": [
    {
     "data": {
      "text/plain": [
       "{'__name__': '__main__',\n",
       " '__doc__': 'Automatically created module for IPython interactive environment',\n",
       " '__package__': None,\n",
       " '__loader__': None,\n",
       " '__spec__': None,\n",
       " '__builtin__': <module 'builtins' (built-in)>,\n",
       " '__builtins__': <module 'builtins' (built-in)>,\n",
       " '_ih': ['',\n",
       "  'def func():\\n    a = 10\\n    return a',\n",
       "  'func',\n",
       "  'func()',\n",
       "  'id(func)',\n",
       "  'globals()',\n",
       "  \"f = globals()['func']\",\n",
       "  'f is func',\n",
       "  \"globals()['func']()\",\n",
       "  'f()',\n",
       "  'locals()',\n",
       "  '{\\'__name__\\': \\'__main__\\',\\n \\'__doc__\\': \\'Automatically created module for IPython interactive environment\\',\\n \\'__package__\\': None,\\n \\'__loader__\\': None,\\n \\'__spec__\\': None,\\n \\'__builtin__\\': <module \\'builtins\\' (built-in)>,\\n \\'__builtins__\\': <module \\'builtins\\' (built-in)>,\\n \\'_ih\\': [\\'\\',\\n  \\'def func():\\\\n    a = 10\\\\n    return a\\',\\n  \\'func\\',\\n  \\'func()\\',\\n  \\'id(func)\\',\\n  \\'globals()\\',\\n  \"f = globals()[\\'func\\']\",\\n  \\'f is func\\',\\n  \"globals()[\\'func\\']()\",\\n  \\'f()\\',\\n  \\'locals()\\'],\\n \\'_oh\\': {2: <function __main__.func()>,\\n  3: 10,\\n  4: 140042537866432,\\n  5: {...},\\n  7: True,\\n  8: 10,\\n  9: 10},\\n \\'_dh\\': [PosixPath(\\'/home/carl/Desktop/Matshub/deep-Dive-1/class_notes/modules_packages_namespaces\\')],\\n \\'In\\': [\\'\\',\\n  \\'def func():\\\\n    a = 10\\\\n    return a\\',\\n  \\'func\\',\\n  \\'func()\\',\\n  \\'id(func)\\',\\n  \\'globals()\\',\\n  \"f = globals()[\\'func\\']\",\\n  \\'f is func\\',\\n  \"globals()[\\'func\\']()\",\\n  \\'f()\\',\\n  \\'locals()\\'],\\n \\'Out\\': {2: <function __main__.func()>,\\n  3: 10,\\n  4: 140042537866432,\\n  5: {...},\\n  7: True,\\n  8: 10,\\n  9: 10},\\n \\'get_ipython\\': <bound method InteractiveShell.get_ipython of <ipykernel.zmqshell.ZMQInteractiveShell object at 0x7f5e4bd89d00>>,\\n \\'exit\\': <IPython.core.autocall.ZMQExitAutocall at 0x7f5e4bd9da60>,\\n \\'quit\\': <IPython.core.autocall.ZMQExitAutocall at 0x7f5e4bd9da60>,\\n \\'_\\': 10,\\n \\'__\\': 10,\\n \\'___\\': True,\\n \\'os\\': <module \\'os\\' from \\'/usr/lib/python3.9/os.py\\'>,\\n \\'sys\\': <module \\'sys\\' (built-in)>,\\n \\'__vsc_ipynb_file__\\': \\'/home/carl/Desktop/Matshub/deep-Dive-1/class_notes/modules_packages_namespaces/modules.ipynb\\',\\n \\'_i\\': \\'f()\\',\\n \\'_ii\\': \"globals()[\\'func\\']()\",\\n \\'_iii\\': \\'f is func\\',\\n \\'_i1\\': \\'def func():\\\\n    a = 10\\\\n    return a\\',\\n \\'func\\': <function __main__.func()>,\\n \\'_i2\\': \\'func\\',\\n \\'_2\\': <function __main__.func()>,\\n \\'_i3\\': \\'func()\\',\\n \\'_3\\': 10,\\n \\'_i4\\': \\'id(func)\\',\\n \\'_4\\': 140042537866432,\\n \\'_i5\\': \\'globals()\\',\\n \\'_5\\': {...},\\n \\'_i6\\': \"f = globals()[\\'func\\']\",\\n \\'f\\': <function __main__.func()>,\\n \\'_i7\\': \\'f is func\\',\\n \\'_7\\': True,\\n \\'_i8\\': \"globals()[\\'func\\']()\",\\n \\'_8\\': 10,\\n \\'_i9\\': \\'f()\\',\\n \\'_9\\': 10,\\n \\'_i10\\': \\'locals()\\'}',\n",
       "  '# Locals\\n{\\'__name__\\': \\'__main__\\',\\n \\'__doc__\\': \\'Automatically created module for IPython interactive environment\\',\\n \\'__package__\\': None,\\n \\'__loader__\\': None,\\n \\'__spec__\\': None,\\n \\'__builtin__\\': <module \\'builtins\\' (built-in)>,\\n \\'__builtins__\\': <module \\'builtins\\' (built-in)>,\\n \\'_ih\\': [\\'\\',\\n  \\'def func():\\\\n    a = 10\\\\n    return a\\',\\n  \\'func\\',\\n  \\'func()\\',\\n  \\'id(func)\\',\\n  \\'globals()\\',\\n  \"f = globals()[\\'func\\']\",\\n  \\'f is func\\',\\n  \"globals()[\\'func\\']()\",\\n  \\'f()\\',\\n  \\'locals()\\'],\\n \\'_oh\\': {2: <function __main__.func()>,\\n  3: 10,\\n  4: 140042537866432,\\n  5: {...},\\n  7: True,\\n  8: 10,\\n  9: 10},\\n \\'_dh\\': [PosixPath(\\'/home/carl/Desktop/Matshub/deep-Dive-1/class_notes/modules_packages_namespaces\\')],\\n \\'In\\': [\\'\\',\\n  \\'def func():\\\\n    a = 10\\\\n    return a\\',\\n  \\'func\\',\\n  \\'func()\\',\\n  \\'id(func)\\',\\n  \\'globals()\\',\\n  \"f = globals()[\\'func\\']\",\\n  \\'f is func\\',\\n  \"globals()[\\'func\\']()\",\\n  \\'f()\\',\\n  \\'locals()\\'],\\n \\'Out\\': {2: <function __main__.func()>,\\n  3: 10,\\n  4: 140042537866432,\\n  5: {...},\\n  7: True,\\n  8: 10,\\n  9: 10},\\n \\'get_ipython\\': <bound method InteractiveShell.get_ipython of <ipykernel.zmqshell.ZMQInteractiveShell object at 0x7f5e4bd89d00>>,\\n \\'exit\\': <IPython.core.autocall.ZMQExitAutocall at 0x7f5e4bd9da60>,\\n \\'quit\\': <IPython.core.autocall.ZMQExitAutocall at 0x7f5e4bd9da60>,\\n \\'_\\': 10,\\n \\'__\\': 10,\\n \\'___\\': True,\\n \\'os\\': <module \\'os\\' from \\'/usr/lib/python3.9/os.py\\'>,\\n \\'sys\\': <module \\'sys\\' (built-in)>,\\n \\'__vsc_ipynb_file__\\': \\'/home/carl/Desktop/Matshub/deep-Dive-1/class_notes/modules_packages_namespaces/modules.ipynb\\',\\n \\'_i\\': \\'f()\\',\\n \\'_ii\\': \"globals()[\\'func\\']()\",\\n \\'_iii\\': \\'f is func\\',\\n \\'_i1\\': \\'def func():\\\\n    a = 10\\\\n    return a\\',\\n \\'func\\': <function __main__.func()>,\\n \\'_i2\\': \\'func\\',\\n \\'_2\\': <function __main__.func()>,\\n \\'_i3\\': \\'func()\\',\\n \\'_3\\': 10,\\n \\'_i4\\': \\'id(func)\\',\\n \\'_4\\': 140042537866432,\\n \\'_i5\\': \\'globals()\\',\\n \\'_5\\': {...},\\n \\'_i6\\': \"f = globals()[\\'func\\']\",\\n \\'f\\': <function __main__.func()>,\\n \\'_i7\\': \\'f is func\\',\\n \\'_7\\': True,\\n \\'_i8\\': \"globals()[\\'func\\']()\",\\n \\'_8\\': 10,\\n \\'_i9\\': \\'f()\\',\\n \\'_9\\': 10,\\n \\'_i10\\': \\'locals()\\'}',\n",
       "  'locals() is globals()',\n",
       "  'a = 100',\n",
       "  'globals()'],\n",
       " '_oh': {2: <function __main__.func()>,\n",
       "  3: 10,\n",
       "  4: 140042537866432,\n",
       "  5: {...},\n",
       "  7: True,\n",
       "  8: 10,\n",
       "  9: 10,\n",
       "  10: {...},\n",
       "  13: True},\n",
       " '_dh': [PosixPath('/home/carl/Desktop/Matshub/deep-Dive-1/class_notes/modules_packages_namespaces')],\n",
       " 'In': ['',\n",
       "  'def func():\\n    a = 10\\n    return a',\n",
       "  'func',\n",
       "  'func()',\n",
       "  'id(func)',\n",
       "  'globals()',\n",
       "  \"f = globals()['func']\",\n",
       "  'f is func',\n",
       "  \"globals()['func']()\",\n",
       "  'f()',\n",
       "  'locals()',\n",
       "  '{\\'__name__\\': \\'__main__\\',\\n \\'__doc__\\': \\'Automatically created module for IPython interactive environment\\',\\n \\'__package__\\': None,\\n \\'__loader__\\': None,\\n \\'__spec__\\': None,\\n \\'__builtin__\\': <module \\'builtins\\' (built-in)>,\\n \\'__builtins__\\': <module \\'builtins\\' (built-in)>,\\n \\'_ih\\': [\\'\\',\\n  \\'def func():\\\\n    a = 10\\\\n    return a\\',\\n  \\'func\\',\\n  \\'func()\\',\\n  \\'id(func)\\',\\n  \\'globals()\\',\\n  \"f = globals()[\\'func\\']\",\\n  \\'f is func\\',\\n  \"globals()[\\'func\\']()\",\\n  \\'f()\\',\\n  \\'locals()\\'],\\n \\'_oh\\': {2: <function __main__.func()>,\\n  3: 10,\\n  4: 140042537866432,\\n  5: {...},\\n  7: True,\\n  8: 10,\\n  9: 10},\\n \\'_dh\\': [PosixPath(\\'/home/carl/Desktop/Matshub/deep-Dive-1/class_notes/modules_packages_namespaces\\')],\\n \\'In\\': [\\'\\',\\n  \\'def func():\\\\n    a = 10\\\\n    return a\\',\\n  \\'func\\',\\n  \\'func()\\',\\n  \\'id(func)\\',\\n  \\'globals()\\',\\n  \"f = globals()[\\'func\\']\",\\n  \\'f is func\\',\\n  \"globals()[\\'func\\']()\",\\n  \\'f()\\',\\n  \\'locals()\\'],\\n \\'Out\\': {2: <function __main__.func()>,\\n  3: 10,\\n  4: 140042537866432,\\n  5: {...},\\n  7: True,\\n  8: 10,\\n  9: 10},\\n \\'get_ipython\\': <bound method InteractiveShell.get_ipython of <ipykernel.zmqshell.ZMQInteractiveShell object at 0x7f5e4bd89d00>>,\\n \\'exit\\': <IPython.core.autocall.ZMQExitAutocall at 0x7f5e4bd9da60>,\\n \\'quit\\': <IPython.core.autocall.ZMQExitAutocall at 0x7f5e4bd9da60>,\\n \\'_\\': 10,\\n \\'__\\': 10,\\n \\'___\\': True,\\n \\'os\\': <module \\'os\\' from \\'/usr/lib/python3.9/os.py\\'>,\\n \\'sys\\': <module \\'sys\\' (built-in)>,\\n \\'__vsc_ipynb_file__\\': \\'/home/carl/Desktop/Matshub/deep-Dive-1/class_notes/modules_packages_namespaces/modules.ipynb\\',\\n \\'_i\\': \\'f()\\',\\n \\'_ii\\': \"globals()[\\'func\\']()\",\\n \\'_iii\\': \\'f is func\\',\\n \\'_i1\\': \\'def func():\\\\n    a = 10\\\\n    return a\\',\\n \\'func\\': <function __main__.func()>,\\n \\'_i2\\': \\'func\\',\\n \\'_2\\': <function __main__.func()>,\\n \\'_i3\\': \\'func()\\',\\n \\'_3\\': 10,\\n \\'_i4\\': \\'id(func)\\',\\n \\'_4\\': 140042537866432,\\n \\'_i5\\': \\'globals()\\',\\n \\'_5\\': {...},\\n \\'_i6\\': \"f = globals()[\\'func\\']\",\\n \\'f\\': <function __main__.func()>,\\n \\'_i7\\': \\'f is func\\',\\n \\'_7\\': True,\\n \\'_i8\\': \"globals()[\\'func\\']()\",\\n \\'_8\\': 10,\\n \\'_i9\\': \\'f()\\',\\n \\'_9\\': 10,\\n \\'_i10\\': \\'locals()\\'}',\n",
       "  '# Locals\\n{\\'__name__\\': \\'__main__\\',\\n \\'__doc__\\': \\'Automatically created module for IPython interactive environment\\',\\n \\'__package__\\': None,\\n \\'__loader__\\': None,\\n \\'__spec__\\': None,\\n \\'__builtin__\\': <module \\'builtins\\' (built-in)>,\\n \\'__builtins__\\': <module \\'builtins\\' (built-in)>,\\n \\'_ih\\': [\\'\\',\\n  \\'def func():\\\\n    a = 10\\\\n    return a\\',\\n  \\'func\\',\\n  \\'func()\\',\\n  \\'id(func)\\',\\n  \\'globals()\\',\\n  \"f = globals()[\\'func\\']\",\\n  \\'f is func\\',\\n  \"globals()[\\'func\\']()\",\\n  \\'f()\\',\\n  \\'locals()\\'],\\n \\'_oh\\': {2: <function __main__.func()>,\\n  3: 10,\\n  4: 140042537866432,\\n  5: {...},\\n  7: True,\\n  8: 10,\\n  9: 10},\\n \\'_dh\\': [PosixPath(\\'/home/carl/Desktop/Matshub/deep-Dive-1/class_notes/modules_packages_namespaces\\')],\\n \\'In\\': [\\'\\',\\n  \\'def func():\\\\n    a = 10\\\\n    return a\\',\\n  \\'func\\',\\n  \\'func()\\',\\n  \\'id(func)\\',\\n  \\'globals()\\',\\n  \"f = globals()[\\'func\\']\",\\n  \\'f is func\\',\\n  \"globals()[\\'func\\']()\",\\n  \\'f()\\',\\n  \\'locals()\\'],\\n \\'Out\\': {2: <function __main__.func()>,\\n  3: 10,\\n  4: 140042537866432,\\n  5: {...},\\n  7: True,\\n  8: 10,\\n  9: 10},\\n \\'get_ipython\\': <bound method InteractiveShell.get_ipython of <ipykernel.zmqshell.ZMQInteractiveShell object at 0x7f5e4bd89d00>>,\\n \\'exit\\': <IPython.core.autocall.ZMQExitAutocall at 0x7f5e4bd9da60>,\\n \\'quit\\': <IPython.core.autocall.ZMQExitAutocall at 0x7f5e4bd9da60>,\\n \\'_\\': 10,\\n \\'__\\': 10,\\n \\'___\\': True,\\n \\'os\\': <module \\'os\\' from \\'/usr/lib/python3.9/os.py\\'>,\\n \\'sys\\': <module \\'sys\\' (built-in)>,\\n \\'__vsc_ipynb_file__\\': \\'/home/carl/Desktop/Matshub/deep-Dive-1/class_notes/modules_packages_namespaces/modules.ipynb\\',\\n \\'_i\\': \\'f()\\',\\n \\'_ii\\': \"globals()[\\'func\\']()\",\\n \\'_iii\\': \\'f is func\\',\\n \\'_i1\\': \\'def func():\\\\n    a = 10\\\\n    return a\\',\\n \\'func\\': <function __main__.func()>,\\n \\'_i2\\': \\'func\\',\\n \\'_2\\': <function __main__.func()>,\\n \\'_i3\\': \\'func()\\',\\n \\'_3\\': 10,\\n \\'_i4\\': \\'id(func)\\',\\n \\'_4\\': 140042537866432,\\n \\'_i5\\': \\'globals()\\',\\n \\'_5\\': {...},\\n \\'_i6\\': \"f = globals()[\\'func\\']\",\\n \\'f\\': <function __main__.func()>,\\n \\'_i7\\': \\'f is func\\',\\n \\'_7\\': True,\\n \\'_i8\\': \"globals()[\\'func\\']()\",\\n \\'_8\\': 10,\\n \\'_i9\\': \\'f()\\',\\n \\'_9\\': 10,\\n \\'_i10\\': \\'locals()\\'}',\n",
       "  'locals() is globals()',\n",
       "  'a = 100',\n",
       "  'globals()'],\n",
       " 'Out': {2: <function __main__.func()>,\n",
       "  3: 10,\n",
       "  4: 140042537866432,\n",
       "  5: {...},\n",
       "  7: True,\n",
       "  8: 10,\n",
       "  9: 10,\n",
       "  10: {...},\n",
       "  13: True},\n",
       " 'get_ipython': <bound method InteractiveShell.get_ipython of <ipykernel.zmqshell.ZMQInteractiveShell object at 0x7f5e4bd89d00>>,\n",
       " 'exit': <IPython.core.autocall.ZMQExitAutocall at 0x7f5e4bd9da60>,\n",
       " 'quit': <IPython.core.autocall.ZMQExitAutocall at 0x7f5e4bd9da60>,\n",
       " '_': True,\n",
       " '__': {...},\n",
       " '___': 10,\n",
       " 'os': <module 'os' from '/usr/lib/python3.9/os.py'>,\n",
       " 'sys': <module 'sys' (built-in)>,\n",
       " '__vsc_ipynb_file__': '/home/carl/Desktop/Matshub/deep-Dive-1/class_notes/modules_packages_namespaces/modules.ipynb',\n",
       " '_i': 'a = 100',\n",
       " '_ii': 'locals() is globals()',\n",
       " '_iii': '# Locals\\n{\\'__name__\\': \\'__main__\\',\\n \\'__doc__\\': \\'Automatically created module for IPython interactive environment\\',\\n \\'__package__\\': None,\\n \\'__loader__\\': None,\\n \\'__spec__\\': None,\\n \\'__builtin__\\': <module \\'builtins\\' (built-in)>,\\n \\'__builtins__\\': <module \\'builtins\\' (built-in)>,\\n \\'_ih\\': [\\'\\',\\n  \\'def func():\\\\n    a = 10\\\\n    return a\\',\\n  \\'func\\',\\n  \\'func()\\',\\n  \\'id(func)\\',\\n  \\'globals()\\',\\n  \"f = globals()[\\'func\\']\",\\n  \\'f is func\\',\\n  \"globals()[\\'func\\']()\",\\n  \\'f()\\',\\n  \\'locals()\\'],\\n \\'_oh\\': {2: <function __main__.func()>,\\n  3: 10,\\n  4: 140042537866432,\\n  5: {...},\\n  7: True,\\n  8: 10,\\n  9: 10},\\n \\'_dh\\': [PosixPath(\\'/home/carl/Desktop/Matshub/deep-Dive-1/class_notes/modules_packages_namespaces\\')],\\n \\'In\\': [\\'\\',\\n  \\'def func():\\\\n    a = 10\\\\n    return a\\',\\n  \\'func\\',\\n  \\'func()\\',\\n  \\'id(func)\\',\\n  \\'globals()\\',\\n  \"f = globals()[\\'func\\']\",\\n  \\'f is func\\',\\n  \"globals()[\\'func\\']()\",\\n  \\'f()\\',\\n  \\'locals()\\'],\\n \\'Out\\': {2: <function __main__.func()>,\\n  3: 10,\\n  4: 140042537866432,\\n  5: {...},\\n  7: True,\\n  8: 10,\\n  9: 10},\\n \\'get_ipython\\': <bound method InteractiveShell.get_ipython of <ipykernel.zmqshell.ZMQInteractiveShell object at 0x7f5e4bd89d00>>,\\n \\'exit\\': <IPython.core.autocall.ZMQExitAutocall at 0x7f5e4bd9da60>,\\n \\'quit\\': <IPython.core.autocall.ZMQExitAutocall at 0x7f5e4bd9da60>,\\n \\'_\\': 10,\\n \\'__\\': 10,\\n \\'___\\': True,\\n \\'os\\': <module \\'os\\' from \\'/usr/lib/python3.9/os.py\\'>,\\n \\'sys\\': <module \\'sys\\' (built-in)>,\\n \\'__vsc_ipynb_file__\\': \\'/home/carl/Desktop/Matshub/deep-Dive-1/class_notes/modules_packages_namespaces/modules.ipynb\\',\\n \\'_i\\': \\'f()\\',\\n \\'_ii\\': \"globals()[\\'func\\']()\",\\n \\'_iii\\': \\'f is func\\',\\n \\'_i1\\': \\'def func():\\\\n    a = 10\\\\n    return a\\',\\n \\'func\\': <function __main__.func()>,\\n \\'_i2\\': \\'func\\',\\n \\'_2\\': <function __main__.func()>,\\n \\'_i3\\': \\'func()\\',\\n \\'_3\\': 10,\\n \\'_i4\\': \\'id(func)\\',\\n \\'_4\\': 140042537866432,\\n \\'_i5\\': \\'globals()\\',\\n \\'_5\\': {...},\\n \\'_i6\\': \"f = globals()[\\'func\\']\",\\n \\'f\\': <function __main__.func()>,\\n \\'_i7\\': \\'f is func\\',\\n \\'_7\\': True,\\n \\'_i8\\': \"globals()[\\'func\\']()\",\\n \\'_8\\': 10,\\n \\'_i9\\': \\'f()\\',\\n \\'_9\\': 10,\\n \\'_i10\\': \\'locals()\\'}',\n",
       " '_i1': 'def func():\\n    a = 10\\n    return a',\n",
       " 'func': <function __main__.func()>,\n",
       " '_i2': 'func',\n",
       " '_2': <function __main__.func()>,\n",
       " '_i3': 'func()',\n",
       " '_3': 10,\n",
       " '_i4': 'id(func)',\n",
       " '_4': 140042537866432,\n",
       " '_i5': 'globals()',\n",
       " '_5': {...},\n",
       " '_i6': \"f = globals()['func']\",\n",
       " 'f': <function __main__.func()>,\n",
       " '_i7': 'f is func',\n",
       " '_7': True,\n",
       " '_i8': \"globals()['func']()\",\n",
       " '_8': 10,\n",
       " '_i9': 'f()',\n",
       " '_9': 10,\n",
       " '_i10': 'locals()',\n",
       " '_10': {...},\n",
       " '_i11': '{\\'__name__\\': \\'__main__\\',\\n \\'__doc__\\': \\'Automatically created module for IPython interactive environment\\',\\n \\'__package__\\': None,\\n \\'__loader__\\': None,\\n \\'__spec__\\': None,\\n \\'__builtin__\\': <module \\'builtins\\' (built-in)>,\\n \\'__builtins__\\': <module \\'builtins\\' (built-in)>,\\n \\'_ih\\': [\\'\\',\\n  \\'def func():\\\\n    a = 10\\\\n    return a\\',\\n  \\'func\\',\\n  \\'func()\\',\\n  \\'id(func)\\',\\n  \\'globals()\\',\\n  \"f = globals()[\\'func\\']\",\\n  \\'f is func\\',\\n  \"globals()[\\'func\\']()\",\\n  \\'f()\\',\\n  \\'locals()\\'],\\n \\'_oh\\': {2: <function __main__.func()>,\\n  3: 10,\\n  4: 140042537866432,\\n  5: {...},\\n  7: True,\\n  8: 10,\\n  9: 10},\\n \\'_dh\\': [PosixPath(\\'/home/carl/Desktop/Matshub/deep-Dive-1/class_notes/modules_packages_namespaces\\')],\\n \\'In\\': [\\'\\',\\n  \\'def func():\\\\n    a = 10\\\\n    return a\\',\\n  \\'func\\',\\n  \\'func()\\',\\n  \\'id(func)\\',\\n  \\'globals()\\',\\n  \"f = globals()[\\'func\\']\",\\n  \\'f is func\\',\\n  \"globals()[\\'func\\']()\",\\n  \\'f()\\',\\n  \\'locals()\\'],\\n \\'Out\\': {2: <function __main__.func()>,\\n  3: 10,\\n  4: 140042537866432,\\n  5: {...},\\n  7: True,\\n  8: 10,\\n  9: 10},\\n \\'get_ipython\\': <bound method InteractiveShell.get_ipython of <ipykernel.zmqshell.ZMQInteractiveShell object at 0x7f5e4bd89d00>>,\\n \\'exit\\': <IPython.core.autocall.ZMQExitAutocall at 0x7f5e4bd9da60>,\\n \\'quit\\': <IPython.core.autocall.ZMQExitAutocall at 0x7f5e4bd9da60>,\\n \\'_\\': 10,\\n \\'__\\': 10,\\n \\'___\\': True,\\n \\'os\\': <module \\'os\\' from \\'/usr/lib/python3.9/os.py\\'>,\\n \\'sys\\': <module \\'sys\\' (built-in)>,\\n \\'__vsc_ipynb_file__\\': \\'/home/carl/Desktop/Matshub/deep-Dive-1/class_notes/modules_packages_namespaces/modules.ipynb\\',\\n \\'_i\\': \\'f()\\',\\n \\'_ii\\': \"globals()[\\'func\\']()\",\\n \\'_iii\\': \\'f is func\\',\\n \\'_i1\\': \\'def func():\\\\n    a = 10\\\\n    return a\\',\\n \\'func\\': <function __main__.func()>,\\n \\'_i2\\': \\'func\\',\\n \\'_2\\': <function __main__.func()>,\\n \\'_i3\\': \\'func()\\',\\n \\'_3\\': 10,\\n \\'_i4\\': \\'id(func)\\',\\n \\'_4\\': 140042537866432,\\n \\'_i5\\': \\'globals()\\',\\n \\'_5\\': {...},\\n \\'_i6\\': \"f = globals()[\\'func\\']\",\\n \\'f\\': <function __main__.func()>,\\n \\'_i7\\': \\'f is func\\',\\n \\'_7\\': True,\\n \\'_i8\\': \"globals()[\\'func\\']()\",\\n \\'_8\\': 10,\\n \\'_i9\\': \\'f()\\',\\n \\'_9\\': 10,\\n \\'_i10\\': \\'locals()\\'}',\n",
       " '_i12': '# Locals\\n{\\'__name__\\': \\'__main__\\',\\n \\'__doc__\\': \\'Automatically created module for IPython interactive environment\\',\\n \\'__package__\\': None,\\n \\'__loader__\\': None,\\n \\'__spec__\\': None,\\n \\'__builtin__\\': <module \\'builtins\\' (built-in)>,\\n \\'__builtins__\\': <module \\'builtins\\' (built-in)>,\\n \\'_ih\\': [\\'\\',\\n  \\'def func():\\\\n    a = 10\\\\n    return a\\',\\n  \\'func\\',\\n  \\'func()\\',\\n  \\'id(func)\\',\\n  \\'globals()\\',\\n  \"f = globals()[\\'func\\']\",\\n  \\'f is func\\',\\n  \"globals()[\\'func\\']()\",\\n  \\'f()\\',\\n  \\'locals()\\'],\\n \\'_oh\\': {2: <function __main__.func()>,\\n  3: 10,\\n  4: 140042537866432,\\n  5: {...},\\n  7: True,\\n  8: 10,\\n  9: 10},\\n \\'_dh\\': [PosixPath(\\'/home/carl/Desktop/Matshub/deep-Dive-1/class_notes/modules_packages_namespaces\\')],\\n \\'In\\': [\\'\\',\\n  \\'def func():\\\\n    a = 10\\\\n    return a\\',\\n  \\'func\\',\\n  \\'func()\\',\\n  \\'id(func)\\',\\n  \\'globals()\\',\\n  \"f = globals()[\\'func\\']\",\\n  \\'f is func\\',\\n  \"globals()[\\'func\\']()\",\\n  \\'f()\\',\\n  \\'locals()\\'],\\n \\'Out\\': {2: <function __main__.func()>,\\n  3: 10,\\n  4: 140042537866432,\\n  5: {...},\\n  7: True,\\n  8: 10,\\n  9: 10},\\n \\'get_ipython\\': <bound method InteractiveShell.get_ipython of <ipykernel.zmqshell.ZMQInteractiveShell object at 0x7f5e4bd89d00>>,\\n \\'exit\\': <IPython.core.autocall.ZMQExitAutocall at 0x7f5e4bd9da60>,\\n \\'quit\\': <IPython.core.autocall.ZMQExitAutocall at 0x7f5e4bd9da60>,\\n \\'_\\': 10,\\n \\'__\\': 10,\\n \\'___\\': True,\\n \\'os\\': <module \\'os\\' from \\'/usr/lib/python3.9/os.py\\'>,\\n \\'sys\\': <module \\'sys\\' (built-in)>,\\n \\'__vsc_ipynb_file__\\': \\'/home/carl/Desktop/Matshub/deep-Dive-1/class_notes/modules_packages_namespaces/modules.ipynb\\',\\n \\'_i\\': \\'f()\\',\\n \\'_ii\\': \"globals()[\\'func\\']()\",\\n \\'_iii\\': \\'f is func\\',\\n \\'_i1\\': \\'def func():\\\\n    a = 10\\\\n    return a\\',\\n \\'func\\': <function __main__.func()>,\\n \\'_i2\\': \\'func\\',\\n \\'_2\\': <function __main__.func()>,\\n \\'_i3\\': \\'func()\\',\\n \\'_3\\': 10,\\n \\'_i4\\': \\'id(func)\\',\\n \\'_4\\': 140042537866432,\\n \\'_i5\\': \\'globals()\\',\\n \\'_5\\': {...},\\n \\'_i6\\': \"f = globals()[\\'func\\']\",\\n \\'f\\': <function __main__.func()>,\\n \\'_i7\\': \\'f is func\\',\\n \\'_7\\': True,\\n \\'_i8\\': \"globals()[\\'func\\']()\",\\n \\'_8\\': 10,\\n \\'_i9\\': \\'f()\\',\\n \\'_9\\': 10,\\n \\'_i10\\': \\'locals()\\'}',\n",
       " '_i13': 'locals() is globals()',\n",
       " '_13': True,\n",
       " '_i14': 'a = 100',\n",
       " 'a': 100,\n",
       " '_i15': 'globals()'}"
      ]
     },
     "execution_count": 15,
     "metadata": {},
     "output_type": "execute_result"
    }
   ],
   "source": [
    "globals()"
   ]
  },
  {
   "cell_type": "code",
   "execution_count": 17,
   "metadata": {},
   "outputs": [],
   "source": [
    "def func():\n",
    "    a = 10\n",
    "    b = 10\n",
    "    print(locals())"
   ]
  },
  {
   "cell_type": "code",
   "execution_count": 18,
   "metadata": {},
   "outputs": [
    {
     "name": "stdout",
     "output_type": "stream",
     "text": [
      "{'a': 10, 'b': 10}\n"
     ]
    }
   ],
   "source": [
    "func()"
   ]
  },
  {
   "cell_type": "code",
   "execution_count": 16,
   "metadata": {},
   "outputs": [
    {
     "data": {
      "text/plain": [
       "10"
      ]
     },
     "execution_count": 16,
     "metadata": {},
     "output_type": "execute_result"
    }
   ],
   "source": [
    "func()"
   ]
  },
  {
   "cell_type": "code",
   "execution_count": 27,
   "metadata": {},
   "outputs": [
    {
     "data": {
      "text/plain": [
       "<module 'math' (built-in)>"
      ]
     },
     "execution_count": 27,
     "metadata": {},
     "output_type": "execute_result"
    }
   ],
   "source": [
    "globals()['math']"
   ]
  },
  {
   "cell_type": "code",
   "execution_count": 28,
   "metadata": {},
   "outputs": [],
   "source": [
    "mod_math = globals()['math']"
   ]
  },
  {
   "cell_type": "code",
   "execution_count": 30,
   "metadata": {},
   "outputs": [
    {
     "data": {
      "text/plain": [
       "1.4142135623730951"
      ]
     },
     "execution_count": 30,
     "metadata": {},
     "output_type": "execute_result"
    }
   ],
   "source": [
    "mod_math.sqrt(2)"
   ]
  },
  {
   "cell_type": "code",
   "execution_count": 31,
   "metadata": {},
   "outputs": [
    {
     "data": {
      "text/plain": [
       "dict"
      ]
     },
     "execution_count": 31,
     "metadata": {},
     "output_type": "execute_result"
    }
   ],
   "source": [
    "type(globals())"
   ]
  },
  {
   "cell_type": "code",
   "execution_count": 32,
   "metadata": {},
   "outputs": [
    {
     "data": {
      "text/plain": [
       "module"
      ]
     },
     "execution_count": 32,
     "metadata": {},
     "output_type": "execute_result"
    }
   ],
   "source": [
    "type(fractions)"
   ]
  },
  {
   "cell_type": "code",
   "execution_count": 33,
   "metadata": {},
   "outputs": [
    {
     "data": {
      "text/plain": [
       "140043046449936"
      ]
     },
     "execution_count": 33,
     "metadata": {},
     "output_type": "execute_result"
    }
   ],
   "source": [
    "id(math)"
   ]
  },
  {
   "cell_type": "code",
   "execution_count": null,
   "metadata": {},
   "outputs": [],
   "source": [
    "import sys"
   ]
  }
 ],
 "metadata": {
  "kernelspec": {
   "display_name": "Python 3.9.2 64-bit",
   "language": "python",
   "name": "python3"
  },
  "language_info": {
   "codemirror_mode": {
    "name": "ipython",
    "version": 3
   },
   "file_extension": ".py",
   "mimetype": "text/x-python",
   "name": "python",
   "nbconvert_exporter": "python",
   "pygments_lexer": "ipython3",
   "version": "3.9.2"
  },
  "orig_nbformat": 4,
  "vscode": {
   "interpreter": {
    "hash": "31f2aee4e71d21fbe5cf8b01ff0e069b9275f58929596ceb00d14d90e3e16cd6"
   }
  }
 },
 "nbformat": 4,
 "nbformat_minor": 2
}
