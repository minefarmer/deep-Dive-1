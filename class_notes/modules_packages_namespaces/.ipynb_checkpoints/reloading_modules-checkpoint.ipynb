{
 "cells": [
  {
   "cell_type": "markdown",
   "id": "51a2d293",
   "metadata": {},
   "source": [
    "            RELOADING MODULES"
   ]
  },
  {
   "cell_type": "code",
   "execution_count": 1,
   "id": "6383711e",
   "metadata": {},
   "outputs": [
    {
     "ename": "NameError",
     "evalue": "name 'module_name' is not defined",
     "output_type": "error",
     "traceback": [
      "\u001b[1;31m---------------------------------------------------------------------------\u001b[0m",
      "\u001b[1;31mNameError\u001b[0m                                 Traceback (most recent call last)",
      "Input \u001b[1;32mIn [1]\u001b[0m, in \u001b[0;36m<cell line: 8>\u001b[1;34m()\u001b[0m\n\u001b[0;32m      3\u001b[0m \u001b[38;5;28;01mdef\u001b[39;00m \u001b[38;5;21mcreate_module_file\u001b[39m(module_name, \u001b[38;5;241m*\u001b[39m\u001b[38;5;241m*\u001b[39mkwargs):\n\u001b[0;32m      4\u001b[0m     \u001b[38;5;124;03m'''Create a module file named <module_name.py\u001b[39;00m\n\u001b[0;32m      5\u001b[0m \u001b[38;5;124;03m    Module has a single function (print_values) that will print out the supplied (stringified) kwargs\u001b[39;00m\n\u001b[0;32m      6\u001b[0m \u001b[38;5;124;03m    '''\u001b[39;00m\n\u001b[1;32m----> 8\u001b[0m module_file_name \u001b[38;5;241m=\u001b[39m \u001b[38;5;124mf\u001b[39m\u001b[38;5;124m'\u001b[39m\u001b[38;5;132;01m{\u001b[39;00mmodule_name\u001b[38;5;132;01m}\u001b[39;00m\u001b[38;5;124m'\u001b[39m\n\u001b[0;32m      9\u001b[0m \u001b[38;5;66;03m# module_file_name = '{0}.py',format(module_name)\u001b[39;00m\n\u001b[0;32m     10\u001b[0m module_rel_file_path \u001b[38;5;241m=\u001b[39m module_file_name\n",
      "\u001b[1;31mNameError\u001b[0m: name 'module_name' is not defined"
     ]
    }
   ],
   "source": [
    "import os\n",
    "\n",
    "def create_module_file(module_name, **kwargs):\n",
    "    '''Create a module file named <module_name.py\n",
    "    Module has a single function (print_values) that will print out the supplied (stringified) kwargs\n",
    "    '''\n",
    "\n",
    "module_file_name = f'{module_name}'\n",
    "# module_file_name = '{0}.py',format(module_name)\n",
    "module_rel_file_path = module_file_name\n",
    "module_abs_file_path = os.path.abspath(module_rel_file_path)\n",
    "\n",
    "with ope(module_abs_file_path, 'w') as f:\n",
    "    f.write((f'# {module_name}.pt\\n\\n'))\n",
    "    f.write(f\"print('running {module_file_name}...')\\n\\n\")\n",
    "    f.write(f'def print_values():\\n')\n",
    "    for key, value in kwargs,items():\n",
    "        f.write(f\"\\tprint('{str(key)}', '{str(value)}')\\n\")"
   ]
  },
  {
   "cell_type": "code",
   "execution_count": null,
   "id": "5b854e3d",
   "metadata": {},
   "outputs": [],
   "source": []
  }
 ],
 "metadata": {
  "kernelspec": {
   "display_name": "Python 3 (ipykernel)",
   "language": "python",
   "name": "python3"
  },
  "language_info": {
   "codemirror_mode": {
    "name": "ipython",
    "version": 3
   },
   "file_extension": ".py",
   "mimetype": "text/x-python",
   "name": "python",
   "nbconvert_exporter": "python",
   "pygments_lexer": "ipython3",
   "version": "3.9.12"
  },
  "vscode": {
   "interpreter": {
    "hash": "a624adbc5e596fddf72740b255048309200567f23df85867ce297e9f9d364c1b"
   }
  }
 },
 "nbformat": 4,
 "nbformat_minor": 5
}
