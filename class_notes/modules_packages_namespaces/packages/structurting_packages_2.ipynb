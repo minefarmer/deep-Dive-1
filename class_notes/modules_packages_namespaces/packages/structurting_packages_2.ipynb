{
 "cells": [
  {
   "cell_type": "markdown",
   "id": "da105951",
   "metadata": {},
   "source": [
    "Structing Packages 2"
   ]
  },
  {
   "cell_type": "code",
   "execution_count": null,
   "id": "ae523e8d",
   "metadata": {},
   "outputs": [],
   "source": []
  }
 ],
 "metadata": {
  "kernelspec": {
   "display_name": "Python 3.9.12 64-bit",
   "language": "python",
   "name": "python3"
  },
  "language_info": {
   "codemirror_mode": {
    "name": "ipython",
    "version": 3
   },
   "file_extension": ".py",
   "mimetype": "text/x-python",
   "name": "python",
   "nbconvert_exporter": "python",
   "pygments_lexer": "ipython3",
   "version": "3.9.12"
  },
  "vscode": {
   "interpreter": {
    "hash": "143d2740fa7885280d88cdaad3dbdadb51fa40347825ef5e3d2acba7c4a72194"
   }
  }
 },
 "nbformat": 4,
 "nbformat_minor": 5
}
