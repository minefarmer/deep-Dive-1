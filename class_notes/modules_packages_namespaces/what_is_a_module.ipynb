{
 "cells": [
  {
   "cell_type": "markdown",
   "id": "d68ff7c8",
   "metadata": {},
   "source": [
    "                    What is a Module?"
   ]
  },
  {
   "cell_type": "markdown",
   "id": "ebe91222",
   "metadata": {},
   "source": []
  },
  {
   "cell_type": "code",
   "execution_count": 5,
   "id": "40522a1f",
   "metadata": {},
   "outputs": [],
   "source": [
    "def func():\n",
    "    a = 10\n",
    "    return a"
   ]
  },
  {
   "cell_type": "code",
   "execution_count": 6,
   "id": "11c9085b",
   "metadata": {},
   "outputs": [
    {
     "data": {
      "text/plain": [
       "<function __main__.func()>"
      ]
     },
     "execution_count": 6,
     "metadata": {},
     "output_type": "execute_result"
    }
   ],
   "source": [
    "func"
   ]
  },
  {
   "cell_type": "code",
   "execution_count": 7,
   "id": "320d0a4a",
   "metadata": {},
   "outputs": [
    {
     "data": {
      "text/plain": [
       "10"
      ]
     },
     "execution_count": 7,
     "metadata": {},
     "output_type": "execute_result"
    }
   ],
   "source": [
    "func()"
   ]
  },
  {
   "cell_type": "code",
   "execution_count": 8,
   "id": "776bcc0e",
   "metadata": {},
   "outputs": [
    {
     "data": {
      "text/plain": [
       "140370753021984"
      ]
     },
     "execution_count": 8,
     "metadata": {},
     "output_type": "execute_result"
    }
   ],
   "source": [
    "id(func)"
   ]
  },
  {
   "cell_type": "code",
   "execution_count": 9,
   "id": "71062b08",
   "metadata": {},
   "outputs": [
    {
     "data": {
      "text/plain": [
       "{'__name__': '__main__',\n",
       " '__doc__': 'Automatically created module for IPython interactive environment',\n",
       " '__package__': None,\n",
       " '__loader__': None,\n",
       " '__spec__': None,\n",
       " '__builtin__': <module 'builtins' (built-in)>,\n",
       " '__builtins__': <module 'builtins' (built-in)>,\n",
       " '_ih': ['',\n",
       "  'globals()',\n",
       "  \"globals()['math']\",\n",
       "  \"mod_math = globals()['math']\",\n",
       "  'import math',\n",
       "  'def func():\\n    a = 10\\n    return a',\n",
       "  'func',\n",
       "  'func()',\n",
       "  'id(func)',\n",
       "  'globals()'],\n",
       " '_oh': {1: {...}, 6: <function __main__.func()>, 7: 10, 8: 140370753021984},\n",
       " '_dh': [PosixPath('/home/carl/Desktop/MatsHub/deep-Dive-1/class_notes/modules_packages_namespaces')],\n",
       " 'In': ['',\n",
       "  'globals()',\n",
       "  \"globals()['math']\",\n",
       "  \"mod_math = globals()['math']\",\n",
       "  'import math',\n",
       "  'def func():\\n    a = 10\\n    return a',\n",
       "  'func',\n",
       "  'func()',\n",
       "  'id(func)',\n",
       "  'globals()'],\n",
       " 'Out': {1: {...}, 6: <function __main__.func()>, 7: 10, 8: 140370753021984},\n",
       " 'get_ipython': <bound method InteractiveShell.get_ipython of <ipykernel.zmqshell.ZMQInteractiveShell object at 0x7faaaf0373d0>>,\n",
       " 'exit': <IPython.core.autocall.ZMQExitAutocall at 0x7faaaf0528b0>,\n",
       " 'quit': <IPython.core.autocall.ZMQExitAutocall at 0x7faaaf0528b0>,\n",
       " '_': 140370753021984,\n",
       " '__': 10,\n",
       " '___': <function __main__.func()>,\n",
       " 'os': <module 'os' from '/home/carl/anaconda3/lib/python3.9/os.py'>,\n",
       " 'sys': <module 'sys' (built-in)>,\n",
       " '__vsc_ipynb_file__': '/home/carl/Desktop/MatsHub/deep-Dive-1/class_notes/modules_packages_namespaces/what_is_a_module.ipynb',\n",
       " '_i': 'id(func)',\n",
       " '_ii': 'func()',\n",
       " '_iii': 'func',\n",
       " '_i1': 'globals()',\n",
       " '_1': {...},\n",
       " '_i2': \"globals()['math']\",\n",
       " '_i3': \"mod_math = globals()['math']\",\n",
       " '_i4': 'import math',\n",
       " 'math': <module 'math' from '/home/carl/anaconda3/lib/python3.9/lib-dynload/math.cpython-39-x86_64-linux-gnu.so'>,\n",
       " '_i5': 'def func():\\n    a = 10\\n    return a',\n",
       " 'func': <function __main__.func()>,\n",
       " '_i6': 'func',\n",
       " '_6': <function __main__.func()>,\n",
       " '_i7': 'func()',\n",
       " '_7': 10,\n",
       " '_i8': 'id(func)',\n",
       " '_8': 140370753021984,\n",
       " '_i9': 'globals()'}"
      ]
     },
     "execution_count": 9,
     "metadata": {},
     "output_type": "execute_result"
    }
   ],
   "source": [
    "globals()"
   ]
  },
  {
   "cell_type": "code",
   "execution_count": 10,
   "id": "60187621",
   "metadata": {},
   "outputs": [],
   "source": [
    "f = globals()['func']"
   ]
  },
  {
   "cell_type": "code",
   "execution_count": 11,
   "id": "20ecce79",
   "metadata": {},
   "outputs": [
    {
     "data": {
      "text/plain": [
       "True"
      ]
     },
     "execution_count": 11,
     "metadata": {},
     "output_type": "execute_result"
    }
   ],
   "source": [
    "f is func"
   ]
  },
  {
   "cell_type": "code",
   "execution_count": 12,
   "id": "ea8a7042",
   "metadata": {},
   "outputs": [
    {
     "data": {
      "text/plain": [
       "10"
      ]
     },
     "execution_count": 12,
     "metadata": {},
     "output_type": "execute_result"
    }
   ],
   "source": [
    "f()"
   ]
  },
  {
   "cell_type": "code",
   "execution_count": 13,
   "id": "010f2053",
   "metadata": {},
   "outputs": [
    {
     "data": {
      "text/plain": [
       "10"
      ]
     },
     "execution_count": 13,
     "metadata": {},
     "output_type": "execute_result"
    }
   ],
   "source": [
    "globals()['func']()"
   ]
  },
  {
   "cell_type": "code",
   "execution_count": 14,
   "id": "0fa5f315",
   "metadata": {},
   "outputs": [
    {
     "data": {
      "text/plain": [
       "True"
      ]
     },
     "execution_count": 14,
     "metadata": {},
     "output_type": "execute_result"
    }
   ],
   "source": [
    "f is func"
   ]
  },
  {
   "cell_type": "code",
   "execution_count": 15,
   "id": "8fb47945",
   "metadata": {},
   "outputs": [
    {
     "data": {
      "text/plain": [
       "10"
      ]
     },
     "execution_count": 15,
     "metadata": {},
     "output_type": "execute_result"
    }
   ],
   "source": [
    "f()"
   ]
  },
  {
   "cell_type": "code",
   "execution_count": 16,
   "id": "a880f8ba",
   "metadata": {},
   "outputs": [
    {
     "data": {
      "text/plain": [
       "True"
      ]
     },
     "execution_count": 16,
     "metadata": {},
     "output_type": "execute_result"
    }
   ],
   "source": [
    "locals() is globals()"
   ]
  },
  {
   "cell_type": "code",
   "execution_count": 17,
   "id": "6c0ef410",
   "metadata": {},
   "outputs": [],
   "source": [
    "def func():\n",
    "    a = 10\n",
    "    b = 10\n",
    "    print(locals())"
   ]
  },
  {
   "cell_type": "code",
   "execution_count": 18,
   "id": "1e705ee7",
   "metadata": {},
   "outputs": [
    {
     "name": "stdout",
     "output_type": "stream",
     "text": [
      "{'a': 10, 'b': 10}\n"
     ]
    }
   ],
   "source": [
    "func()"
   ]
  },
  {
   "cell_type": "code",
   "execution_count": 19,
   "id": "9e059e50",
   "metadata": {},
   "outputs": [],
   "source": [
    "import math"
   ]
  },
  {
   "cell_type": "code",
   "execution_count": 20,
   "id": "0fc4dd46",
   "metadata": {},
   "outputs": [
    {
     "data": {
      "text/plain": [
       "<module 'math' from '/home/carl/anaconda3/lib/python3.9/lib-dynload/math.cpython-39-x86_64-linux-gnu.so'>"
      ]
     },
     "execution_count": 20,
     "metadata": {},
     "output_type": "execute_result"
    }
   ],
   "source": [
    "math"
   ]
  },
  {
   "cell_type": "code",
   "execution_count": 21,
   "id": "ebc11afe",
   "metadata": {},
   "outputs": [],
   "source": [
    "import fractions"
   ]
  },
  {
   "cell_type": "code",
   "execution_count": 22,
   "id": "fd9f8fbb",
   "metadata": {},
   "outputs": [
    {
     "data": {
      "text/plain": [
       "<module 'fractions' from '/home/carl/anaconda3/lib/python3.9/fractions.py'>"
      ]
     },
     "execution_count": 22,
     "metadata": {},
     "output_type": "execute_result"
    }
   ],
   "source": [
    "fractions"
   ]
  },
  {
   "cell_type": "code",
   "execution_count": 23,
   "id": "fe42b3a7",
   "metadata": {},
   "outputs": [],
   "source": [
    "junk = math"
   ]
  },
  {
   "cell_type": "code",
   "execution_count": 24,
   "id": "67099e82",
   "metadata": {},
   "outputs": [
    {
     "data": {
      "text/plain": [
       "1.4142135623730951"
      ]
     },
     "execution_count": 24,
     "metadata": {},
     "output_type": "execute_result"
    }
   ],
   "source": [
    "junk.sqrt(2)"
   ]
  },
  {
   "cell_type": "code",
   "execution_count": 25,
   "id": "5cd92c4e",
   "metadata": {},
   "outputs": [
    {
     "data": {
      "text/plain": [
       "True"
      ]
     },
     "execution_count": 25,
     "metadata": {},
     "output_type": "execute_result"
    }
   ],
   "source": [
    "junk is math"
   ]
  },
  {
   "cell_type": "code",
   "execution_count": 26,
   "id": "c4983a78",
   "metadata": {},
   "outputs": [
    {
     "data": {
      "text/plain": [
       "{'__name__': '__main__',\n",
       " '__doc__': 'Automatically created module for IPython interactive environment',\n",
       " '__package__': None,\n",
       " '__loader__': None,\n",
       " '__spec__': None,\n",
       " '__builtin__': <module 'builtins' (built-in)>,\n",
       " '__builtins__': <module 'builtins' (built-in)>,\n",
       " '_ih': ['',\n",
       "  'globals()',\n",
       "  \"globals()['math']\",\n",
       "  \"mod_math = globals()['math']\",\n",
       "  'import math',\n",
       "  'def func():\\n    a = 10\\n    return a',\n",
       "  'func',\n",
       "  'func()',\n",
       "  'id(func)',\n",
       "  'globals()',\n",
       "  \"f = globals()['func']\",\n",
       "  'f is func',\n",
       "  'f()',\n",
       "  \"globals()['func']()\",\n",
       "  'f is func',\n",
       "  'f()',\n",
       "  'locals() is globals()',\n",
       "  'def func():\\n    a = 10\\n    b = 10\\n    print(locals())',\n",
       "  'func()',\n",
       "  'import math',\n",
       "  'math',\n",
       "  'import fractions',\n",
       "  'fractions',\n",
       "  'junk = math',\n",
       "  'junk.sqrt(2)',\n",
       "  'junk is math',\n",
       "  'globals()'],\n",
       " '_oh': {1: {...},\n",
       "  6: <function __main__.func()>,\n",
       "  7: 10,\n",
       "  8: 140370753021984,\n",
       "  9: {...},\n",
       "  11: True,\n",
       "  12: 10,\n",
       "  13: 10,\n",
       "  14: True,\n",
       "  15: 10,\n",
       "  16: True,\n",
       "  20: <module 'math' from '/home/carl/anaconda3/lib/python3.9/lib-dynload/math.cpython-39-x86_64-linux-gnu.so'>,\n",
       "  22: <module 'fractions' from '/home/carl/anaconda3/lib/python3.9/fractions.py'>,\n",
       "  24: 1.4142135623730951,\n",
       "  25: True},\n",
       " '_dh': [PosixPath('/home/carl/Desktop/MatsHub/deep-Dive-1/class_notes/modules_packages_namespaces')],\n",
       " 'In': ['',\n",
       "  'globals()',\n",
       "  \"globals()['math']\",\n",
       "  \"mod_math = globals()['math']\",\n",
       "  'import math',\n",
       "  'def func():\\n    a = 10\\n    return a',\n",
       "  'func',\n",
       "  'func()',\n",
       "  'id(func)',\n",
       "  'globals()',\n",
       "  \"f = globals()['func']\",\n",
       "  'f is func',\n",
       "  'f()',\n",
       "  \"globals()['func']()\",\n",
       "  'f is func',\n",
       "  'f()',\n",
       "  'locals() is globals()',\n",
       "  'def func():\\n    a = 10\\n    b = 10\\n    print(locals())',\n",
       "  'func()',\n",
       "  'import math',\n",
       "  'math',\n",
       "  'import fractions',\n",
       "  'fractions',\n",
       "  'junk = math',\n",
       "  'junk.sqrt(2)',\n",
       "  'junk is math',\n",
       "  'globals()'],\n",
       " 'Out': {1: {...},\n",
       "  6: <function __main__.func()>,\n",
       "  7: 10,\n",
       "  8: 140370753021984,\n",
       "  9: {...},\n",
       "  11: True,\n",
       "  12: 10,\n",
       "  13: 10,\n",
       "  14: True,\n",
       "  15: 10,\n",
       "  16: True,\n",
       "  20: <module 'math' from '/home/carl/anaconda3/lib/python3.9/lib-dynload/math.cpython-39-x86_64-linux-gnu.so'>,\n",
       "  22: <module 'fractions' from '/home/carl/anaconda3/lib/python3.9/fractions.py'>,\n",
       "  24: 1.4142135623730951,\n",
       "  25: True},\n",
       " 'get_ipython': <bound method InteractiveShell.get_ipython of <ipykernel.zmqshell.ZMQInteractiveShell object at 0x7faaaf0373d0>>,\n",
       " 'exit': <IPython.core.autocall.ZMQExitAutocall at 0x7faaaf0528b0>,\n",
       " 'quit': <IPython.core.autocall.ZMQExitAutocall at 0x7faaaf0528b0>,\n",
       " '_': True,\n",
       " '__': 1.4142135623730951,\n",
       " '___': <module 'fractions' from '/home/carl/anaconda3/lib/python3.9/fractions.py'>,\n",
       " 'os': <module 'os' from '/home/carl/anaconda3/lib/python3.9/os.py'>,\n",
       " 'sys': <module 'sys' (built-in)>,\n",
       " '__vsc_ipynb_file__': '/home/carl/Desktop/MatsHub/deep-Dive-1/class_notes/modules_packages_namespaces/what_is_a_module.ipynb',\n",
       " '_i': 'junk is math',\n",
       " '_ii': 'junk.sqrt(2)',\n",
       " '_iii': 'junk = math',\n",
       " '_i1': 'globals()',\n",
       " '_1': {...},\n",
       " '_i2': \"globals()['math']\",\n",
       " '_i3': \"mod_math = globals()['math']\",\n",
       " '_i4': 'import math',\n",
       " 'math': <module 'math' from '/home/carl/anaconda3/lib/python3.9/lib-dynload/math.cpython-39-x86_64-linux-gnu.so'>,\n",
       " '_i5': 'def func():\\n    a = 10\\n    return a',\n",
       " 'func': <function __main__.func()>,\n",
       " '_i6': 'func',\n",
       " '_6': <function __main__.func()>,\n",
       " '_i7': 'func()',\n",
       " '_7': 10,\n",
       " '_i8': 'id(func)',\n",
       " '_8': 140370753021984,\n",
       " '_i9': 'globals()',\n",
       " '_9': {...},\n",
       " '_i10': \"f = globals()['func']\",\n",
       " 'f': <function __main__.func()>,\n",
       " '_i11': 'f is func',\n",
       " '_11': True,\n",
       " '_i12': 'f()',\n",
       " '_12': 10,\n",
       " '_i13': \"globals()['func']()\",\n",
       " '_13': 10,\n",
       " '_i14': 'f is func',\n",
       " '_14': True,\n",
       " '_i15': 'f()',\n",
       " '_15': 10,\n",
       " '_i16': 'locals() is globals()',\n",
       " '_16': True,\n",
       " '_i17': 'def func():\\n    a = 10\\n    b = 10\\n    print(locals())',\n",
       " '_i18': 'func()',\n",
       " '_i19': 'import math',\n",
       " '_i20': 'math',\n",
       " '_20': <module 'math' from '/home/carl/anaconda3/lib/python3.9/lib-dynload/math.cpython-39-x86_64-linux-gnu.so'>,\n",
       " '_i21': 'import fractions',\n",
       " 'fractions': <module 'fractions' from '/home/carl/anaconda3/lib/python3.9/fractions.py'>,\n",
       " '_i22': 'fractions',\n",
       " '_22': <module 'fractions' from '/home/carl/anaconda3/lib/python3.9/fractions.py'>,\n",
       " '_i23': 'junk = math',\n",
       " 'junk': <module 'math' from '/home/carl/anaconda3/lib/python3.9/lib-dynload/math.cpython-39-x86_64-linux-gnu.so'>,\n",
       " '_i24': 'junk.sqrt(2)',\n",
       " '_24': 1.4142135623730951,\n",
       " '_i25': 'junk is math',\n",
       " '_25': True,\n",
       " '_i26': 'globals()'}"
      ]
     },
     "execution_count": 26,
     "metadata": {},
     "output_type": "execute_result"
    }
   ],
   "source": [
    "globals()"
   ]
  },
  {
   "cell_type": "code",
   "execution_count": 27,
   "id": "4ff03c9f",
   "metadata": {},
   "outputs": [
    {
     "data": {
      "text/plain": [
       "<module 'math' from '/home/carl/anaconda3/lib/python3.9/lib-dynload/math.cpython-39-x86_64-linux-gnu.so'>"
      ]
     },
     "execution_count": 27,
     "metadata": {},
     "output_type": "execute_result"
    }
   ],
   "source": [
    "globals()['math']"
   ]
  },
  {
   "cell_type": "code",
   "execution_count": 28,
   "id": "99413a9e",
   "metadata": {},
   "outputs": [],
   "source": [
    "mod_math = globals()['math']"
   ]
  },
  {
   "cell_type": "code",
   "execution_count": 29,
   "id": "9a479a37",
   "metadata": {},
   "outputs": [],
   "source": [
    "mod_math = globals()['math']"
   ]
  },
  {
   "cell_type": "code",
   "execution_count": 30,
   "id": "2ccf0109",
   "metadata": {},
   "outputs": [
    {
     "data": {
      "text/plain": [
       "1.4142135623730951"
      ]
     },
     "execution_count": 30,
     "metadata": {},
     "output_type": "execute_result"
    }
   ],
   "source": [
    "mod_math.sqrt(2)"
   ]
  },
  {
   "cell_type": "code",
   "execution_count": 31,
   "id": "64da8b60",
   "metadata": {},
   "outputs": [
    {
     "data": {
      "text/plain": [
       "dict"
      ]
     },
     "execution_count": 31,
     "metadata": {},
     "output_type": "execute_result"
    }
   ],
   "source": [
    "type(globals())"
   ]
  },
  {
   "cell_type": "code",
   "execution_count": 32,
   "id": "4f433b2d",
   "metadata": {},
   "outputs": [
    {
     "data": {
      "text/plain": [
       "module"
      ]
     },
     "execution_count": 32,
     "metadata": {},
     "output_type": "execute_result"
    }
   ],
   "source": [
    "type(math)"
   ]
  },
  {
   "cell_type": "code",
   "execution_count": 33,
   "id": "cd989dcb",
   "metadata": {},
   "outputs": [
    {
     "data": {
      "text/plain": [
       "module"
      ]
     },
     "execution_count": 33,
     "metadata": {},
     "output_type": "execute_result"
    }
   ],
   "source": [
    "type(fractions)"
   ]
  },
  {
   "cell_type": "code",
   "execution_count": 34,
   "id": "8d3f1728",
   "metadata": {},
   "outputs": [
    {
     "data": {
      "text/plain": [
       "140371105534016"
      ]
     },
     "execution_count": 34,
     "metadata": {},
     "output_type": "execute_result"
    }
   ],
   "source": [
    "id(math)"
   ]
  },
  {
   "cell_type": "code",
   "execution_count": 35,
   "id": "96db0ab7",
   "metadata": {},
   "outputs": [],
   "source": [
    "import math"
   ]
  },
  {
   "cell_type": "code",
   "execution_count": 36,
   "id": "60a4a8bd",
   "metadata": {},
   "outputs": [
    {
     "data": {
      "text/plain": [
       "140371105534016"
      ]
     },
     "execution_count": 36,
     "metadata": {},
     "output_type": "execute_result"
    }
   ],
   "source": [
    "id(math)"
   ]
  },
  {
   "cell_type": "code",
   "execution_count": 37,
   "id": "059f397d",
   "metadata": {},
   "outputs": [],
   "source": [
    "import sys"
   ]
  },
  {
   "cell_type": "code",
   "execution_count": 38,
   "id": "b36ba902",
   "metadata": {},
   "outputs": [
    {
     "data": {
      "text/plain": [
       "{'sys': <module 'sys' (built-in)>,\n",
       " 'builtins': <module 'builtins' (built-in)>,\n",
       " '_frozen_importlib': <module 'importlib._bootstrap' (frozen)>,\n",
       " '_imp': <module '_imp' (built-in)>,\n",
       " '_thread': <module '_thread' (built-in)>,\n",
       " '_warnings': <module '_warnings' (built-in)>,\n",
       " '_weakref': <module '_weakref' (built-in)>,\n",
       " '_io': <module 'io' (built-in)>,\n",
       " 'marshal': <module 'marshal' (built-in)>,\n",
       " 'posix': <module 'posix' (built-in)>,\n",
       " '_frozen_importlib_external': <module 'importlib._bootstrap_external' (frozen)>,\n",
       " 'time': <module 'time' (built-in)>,\n",
       " 'zipimport': <module 'zipimport' (frozen)>,\n",
       " '_codecs': <module '_codecs' (built-in)>,\n",
       " 'codecs': <module 'codecs' from '/home/carl/anaconda3/lib/python3.9/codecs.py'>,\n",
       " 'encodings.aliases': <module 'encodings.aliases' from '/home/carl/anaconda3/lib/python3.9/encodings/aliases.py'>,\n",
       " 'encodings': <module 'encodings' from '/home/carl/anaconda3/lib/python3.9/encodings/__init__.py'>,\n",
       " 'encodings.utf_8': <module 'encodings.utf_8' from '/home/carl/anaconda3/lib/python3.9/encodings/utf_8.py'>,\n",
       " '_signal': <module '_signal' (built-in)>,\n",
       " 'encodings.latin_1': <module 'encodings.latin_1' from '/home/carl/anaconda3/lib/python3.9/encodings/latin_1.py'>,\n",
       " '_abc': <module '_abc' (built-in)>,\n",
       " 'abc': <module 'abc' from '/home/carl/anaconda3/lib/python3.9/abc.py'>,\n",
       " 'io': <module 'io' from '/home/carl/anaconda3/lib/python3.9/io.py'>,\n",
       " '__main__': <module '__main__'>,\n",
       " '_stat': <module '_stat' (built-in)>,\n",
       " 'stat': <module 'stat' from '/home/carl/anaconda3/lib/python3.9/stat.py'>,\n",
       " '_collections_abc': <module '_collections_abc' from '/home/carl/anaconda3/lib/python3.9/_collections_abc.py'>,\n",
       " 'genericpath': <module 'genericpath' from '/home/carl/anaconda3/lib/python3.9/genericpath.py'>,\n",
       " 'posixpath': <module 'posixpath' from '/home/carl/anaconda3/lib/python3.9/posixpath.py'>,\n",
       " 'os.path': <module 'posixpath' from '/home/carl/anaconda3/lib/python3.9/posixpath.py'>,\n",
       " 'os': <module 'os' from '/home/carl/anaconda3/lib/python3.9/os.py'>,\n",
       " '_sitebuiltins': <module '_sitebuiltins' from '/home/carl/anaconda3/lib/python3.9/_sitebuiltins.py'>,\n",
       " '_locale': <module '_locale' (built-in)>,\n",
       " '_bootlocale': <module '_bootlocale' from '/home/carl/anaconda3/lib/python3.9/_bootlocale.py'>,\n",
       " '_distutils_hack': <module '_distutils_hack' from '/home/carl/anaconda3/lib/python3.9/site-packages/_distutils_hack/__init__.py'>,\n",
       " 'types': <module 'types' from '/home/carl/anaconda3/lib/python3.9/types.py'>,\n",
       " 'importlib._bootstrap': <module 'importlib._bootstrap' (frozen)>,\n",
       " 'importlib._bootstrap_external': <module 'importlib._bootstrap_external' (frozen)>,\n",
       " 'warnings': <module 'warnings' from '/home/carl/anaconda3/lib/python3.9/warnings.py'>,\n",
       " 'importlib': <module 'importlib' from '/home/carl/anaconda3/lib/python3.9/importlib/__init__.py'>,\n",
       " 'importlib.machinery': <module 'importlib.machinery' from '/home/carl/anaconda3/lib/python3.9/importlib/machinery.py'>,\n",
       " '_heapq': <module '_heapq' from '/home/carl/anaconda3/lib/python3.9/lib-dynload/_heapq.cpython-39-x86_64-linux-gnu.so'>,\n",
       " 'heapq': <module 'heapq' from '/home/carl/anaconda3/lib/python3.9/heapq.py'>,\n",
       " 'itertools': <module 'itertools' (built-in)>,\n",
       " 'keyword': <module 'keyword' from '/home/carl/anaconda3/lib/python3.9/keyword.py'>,\n",
       " '_operator': <module '_operator' (built-in)>,\n",
       " 'operator': <module 'operator' from '/home/carl/anaconda3/lib/python3.9/operator.py'>,\n",
       " 'reprlib': <module 'reprlib' from '/home/carl/anaconda3/lib/python3.9/reprlib.py'>,\n",
       " '_collections': <module '_collections' (built-in)>,\n",
       " 'collections': <module 'collections' from '/home/carl/anaconda3/lib/python3.9/collections/__init__.py'>,\n",
       " 'collections.abc': <module 'collections.abc' from '/home/carl/anaconda3/lib/python3.9/collections/abc.py'>,\n",
       " '_functools': <module '_functools' (built-in)>,\n",
       " 'functools': <module 'functools' from '/home/carl/anaconda3/lib/python3.9/functools.py'>,\n",
       " 'contextlib': <module 'contextlib' from '/home/carl/anaconda3/lib/python3.9/contextlib.py'>,\n",
       " 'enum': <module 'enum' from '/home/carl/anaconda3/lib/python3.9/enum.py'>,\n",
       " '_sre': <module '_sre' (built-in)>,\n",
       " 'sre_constants': <module 'sre_constants' from '/home/carl/anaconda3/lib/python3.9/sre_constants.py'>,\n",
       " 'sre_parse': <module 'sre_parse' from '/home/carl/anaconda3/lib/python3.9/sre_parse.py'>,\n",
       " 'sre_compile': <module 'sre_compile' from '/home/carl/anaconda3/lib/python3.9/sre_compile.py'>,\n",
       " 'copyreg': <module 'copyreg' from '/home/carl/anaconda3/lib/python3.9/copyreg.py'>,\n",
       " 're': <module 're' from '/home/carl/anaconda3/lib/python3.9/re.py'>,\n",
       " 'typing.io': typing.io,\n",
       " 'typing.re': typing.re,\n",
       " 'typing': <module 'typing' from '/home/carl/anaconda3/lib/python3.9/typing.py'>,\n",
       " 'importlib.abc': <module 'importlib.abc' from '/home/carl/anaconda3/lib/python3.9/importlib/abc.py'>,\n",
       " 'importlib.util': <module 'importlib.util' from '/home/carl/anaconda3/lib/python3.9/importlib/util.py'>,\n",
       " 'google': <module 'google' (namespace)>,\n",
       " 'google.cloud': <module 'google.cloud' (namespace)>,\n",
       " 'google.logging': <module 'google.logging' (namespace)>,\n",
       " 'mpl_toolkits': <module 'mpl_toolkits' (namespace)>,\n",
       " 'sphinxcontrib': <module 'sphinxcontrib' (namespace)>,\n",
       " 'zope': <module 'zope' from '/home/carl/anaconda3/lib/python3.9/site-packages/zope/__init__.py'>,\n",
       " 'site': <module 'site' from '/home/carl/anaconda3/lib/python3.9/site.py'>,\n",
       " '_weakrefset': <module '_weakrefset' from '/home/carl/anaconda3/lib/python3.9/_weakrefset.py'>,\n",
       " 'weakref': <module 'weakref' from '/home/carl/anaconda3/lib/python3.9/weakref.py'>,\n",
       " 'pkgutil': <module 'pkgutil' from '/home/carl/anaconda3/lib/python3.9/pkgutil.py'>,\n",
       " 'runpy': <module 'runpy' from '/home/carl/anaconda3/lib/python3.9/runpy.py'>,\n",
       " 'ipykernel._version': <module 'ipykernel._version' from '/home/carl/anaconda3/lib/python3.9/site-packages/ipykernel/_version.py'>,\n",
       " '_json': <module '_json' from '/home/carl/anaconda3/lib/python3.9/lib-dynload/_json.cpython-39-x86_64-linux-gnu.so'>,\n",
       " 'json.scanner': <module 'json.scanner' from '/home/carl/anaconda3/lib/python3.9/json/scanner.py'>,\n",
       " 'json.decoder': <module 'json.decoder' from '/home/carl/anaconda3/lib/python3.9/json/decoder.py'>,\n",
       " 'json.encoder': <module 'json.encoder' from '/home/carl/anaconda3/lib/python3.9/json/encoder.py'>,\n",
       " 'json': <module 'json' from '/home/carl/anaconda3/lib/python3.9/json/__init__.py'>,\n",
       " 'errno': <module 'errno' (built-in)>,\n",
       " 'signal': <module 'signal' from '/home/carl/anaconda3/lib/python3.9/signal.py'>,\n",
       " 'threading': <module 'threading' from '/home/carl/anaconda3/lib/python3.9/threading.py'>,\n",
       " 'pwd': <module 'pwd' (built-in)>,\n",
       " 'grp': <module 'grp' from '/home/carl/anaconda3/lib/python3.9/lib-dynload/grp.cpython-39-x86_64-linux-gnu.so'>,\n",
       " '_posixsubprocess': <module '_posixsubprocess' from '/home/carl/anaconda3/lib/python3.9/lib-dynload/_posixsubprocess.cpython-39-x86_64-linux-gnu.so'>,\n",
       " 'select': <module 'select' from '/home/carl/anaconda3/lib/python3.9/lib-dynload/select.cpython-39-x86_64-linux-gnu.so'>,\n",
       " 'math': <module 'math' from '/home/carl/anaconda3/lib/python3.9/lib-dynload/math.cpython-39-x86_64-linux-gnu.so'>,\n",
       " 'selectors': <module 'selectors' from '/home/carl/anaconda3/lib/python3.9/selectors.py'>,\n",
       " 'subprocess': <module 'subprocess' from '/home/carl/anaconda3/lib/python3.9/subprocess.py'>,\n",
       " 'jupyter_client._version': <module 'jupyter_client._version' from '/home/carl/anaconda3/lib/python3.9/site-packages/jupyter_client/_version.py'>,\n",
       " 'fnmatch': <module 'fnmatch' from '/home/carl/anaconda3/lib/python3.9/fnmatch.py'>,\n",
       " 'glob': <module 'glob' from '/home/carl/anaconda3/lib/python3.9/glob.py'>,\n",
       " '_socket': <module '_socket' from '/home/carl/anaconda3/lib/python3.9/lib-dynload/_socket.cpython-39-x86_64-linux-gnu.so'>,\n",
       " 'array': <module 'array' from '/home/carl/anaconda3/lib/python3.9/lib-dynload/array.cpython-39-x86_64-linux-gnu.so'>,\n",
       " 'socket': <module 'socket' from '/home/carl/anaconda3/lib/python3.9/socket.py'>,\n",
       " 'zlib': <module 'zlib' from '/home/carl/anaconda3/lib/python3.9/lib-dynload/zlib.cpython-39-x86_64-linux-gnu.so'>,\n",
       " '_compression': <module '_compression' from '/home/carl/anaconda3/lib/python3.9/_compression.py'>,\n",
       " '_bz2': <module '_bz2' from '/home/carl/anaconda3/lib/python3.9/lib-dynload/_bz2.cpython-39-x86_64-linux-gnu.so'>,\n",
       " 'bz2': <module 'bz2' from '/home/carl/anaconda3/lib/python3.9/bz2.py'>,\n",
       " '_lzma': <module '_lzma' from '/home/carl/anaconda3/lib/python3.9/lib-dynload/_lzma.cpython-39-x86_64-linux-gnu.so'>,\n",
       " 'lzma': <module 'lzma' from '/home/carl/anaconda3/lib/python3.9/lzma.py'>,\n",
       " 'shutil': <module 'shutil' from '/home/carl/anaconda3/lib/python3.9/shutil.py'>,\n",
       " '_bisect': <module '_bisect' from '/home/carl/anaconda3/lib/python3.9/lib-dynload/_bisect.cpython-39-x86_64-linux-gnu.so'>,\n",
       " 'bisect': <module 'bisect' from '/home/carl/anaconda3/lib/python3.9/bisect.py'>,\n",
       " '_random': <module '_random' from '/home/carl/anaconda3/lib/python3.9/lib-dynload/_random.cpython-39-x86_64-linux-gnu.so'>,\n",
       " '_sha512': <module '_sha512' from '/home/carl/anaconda3/lib/python3.9/lib-dynload/_sha512.cpython-39-x86_64-linux-gnu.so'>,\n",
       " 'random': <module 'random' from '/home/carl/anaconda3/lib/python3.9/random.py'>,\n",
       " 'tempfile': <module 'tempfile' from '/home/carl/anaconda3/lib/python3.9/tempfile.py'>,\n",
       " 'termios': <module 'termios' from '/home/carl/anaconda3/lib/python3.9/lib-dynload/termios.cpython-39-x86_64-linux-gnu.so'>,\n",
       " 'getpass': <module 'getpass' from '/home/carl/anaconda3/lib/python3.9/getpass.py'>,\n",
       " 'platform': <module 'platform' from '/home/carl/anaconda3/lib/python3.9/platform.py'>,\n",
       " '_ctypes': <module '_ctypes' from '/home/carl/anaconda3/lib/python3.9/lib-dynload/_ctypes.cpython-39-x86_64-linux-gnu.so'>,\n",
       " '_struct': <module '_struct' from '/home/carl/anaconda3/lib/python3.9/lib-dynload/_struct.cpython-39-x86_64-linux-gnu.so'>,\n",
       " 'struct': <module 'struct' from '/home/carl/anaconda3/lib/python3.9/struct.py'>,\n",
       " 'ctypes._endian': <module 'ctypes._endian' from '/home/carl/anaconda3/lib/python3.9/ctypes/_endian.py'>,\n",
       " 'ctypes': <module 'ctypes' from '/home/carl/anaconda3/lib/python3.9/ctypes/__init__.py'>,\n",
       " 'zmq.backend.select': <module 'zmq.backend.select' from '/home/carl/anaconda3/lib/python3.9/site-packages/zmq/backend/select.py'>,\n",
       " 'cython_runtime': <module 'cython_runtime'>,\n",
       " 'zmq.backend.cython.constants': <module 'zmq.backend.cython.constants' from '/home/carl/anaconda3/lib/python3.9/site-packages/zmq/backend/cython/constants.cpython-39-x86_64-linux-gnu.so'>,\n",
       " '_cython_0_29_24': <module '_cython_0_29_24'>,\n",
       " 'zmq.backend.cython.error': <module 'zmq.backend.cython.error' from '/home/carl/anaconda3/lib/python3.9/site-packages/zmq/backend/cython/error.cpython-39-x86_64-linux-gnu.so'>,\n",
       " 'zmq.error': <module 'zmq.error' from '/home/carl/anaconda3/lib/python3.9/site-packages/zmq/error.py'>,\n",
       " 'zmq.backend.cython.message': <module 'zmq.backend.cython.message' from '/home/carl/anaconda3/lib/python3.9/site-packages/zmq/backend/cython/message.cpython-39-x86_64-linux-gnu.so'>,\n",
       " 'zmq.backend.cython.context': <module 'zmq.backend.cython.context' from '/home/carl/anaconda3/lib/python3.9/site-packages/zmq/backend/cython/context.cpython-39-x86_64-linux-gnu.so'>,\n",
       " 'copy': <module 'copy' from '/home/carl/anaconda3/lib/python3.9/copy.py'>,\n",
       " '_compat_pickle': <module '_compat_pickle' from '/home/carl/anaconda3/lib/python3.9/_compat_pickle.py'>,\n",
       " '_pickle': <module '_pickle' from '/home/carl/anaconda3/lib/python3.9/lib-dynload/_pickle.cpython-39-x86_64-linux-gnu.so'>,\n",
       " 'pickle': <module 'pickle' from '/home/carl/anaconda3/lib/python3.9/pickle.py'>,\n",
       " 'zmq.backend.cython.socket': <module 'zmq.backend.cython.socket' from '/home/carl/anaconda3/lib/python3.9/site-packages/zmq/backend/cython/socket.cpython-39-x86_64-linux-gnu.so'>,\n",
       " 'zmq.backend.cython.utils': <module 'zmq.backend.cython.utils' from '/home/carl/anaconda3/lib/python3.9/site-packages/zmq/backend/cython/utils.cpython-39-x86_64-linux-gnu.so'>,\n",
       " 'zmq.backend.cython._poll': <module 'zmq.backend.cython._poll' from '/home/carl/anaconda3/lib/python3.9/site-packages/zmq/backend/cython/_poll.cpython-39-x86_64-linux-gnu.so'>,\n",
       " 'zmq.backend.cython._version': <module 'zmq.backend.cython._version' from '/home/carl/anaconda3/lib/python3.9/site-packages/zmq/backend/cython/_version.cpython-39-x86_64-linux-gnu.so'>,\n",
       " 'zmq.backend.cython._device': <module 'zmq.backend.cython._device' from '/home/carl/anaconda3/lib/python3.9/site-packages/zmq/backend/cython/_device.cpython-39-x86_64-linux-gnu.so'>,\n",
       " 'zmq.backend.cython._proxy_steerable': <module 'zmq.backend.cython._proxy_steerable' from '/home/carl/anaconda3/lib/python3.9/site-packages/zmq/backend/cython/_proxy_steerable.cpython-39-x86_64-linux-gnu.so'>,\n",
       " 'zmq.backend.cython': <module 'zmq.backend.cython' from '/home/carl/anaconda3/lib/python3.9/site-packages/zmq/backend/cython/__init__.py'>,\n",
       " 'zmq.backend': <module 'zmq.backend' from '/home/carl/anaconda3/lib/python3.9/site-packages/zmq/backend/__init__.py'>,\n",
       " 'zmq.utils': <module 'zmq.utils' from '/home/carl/anaconda3/lib/python3.9/site-packages/zmq/utils/__init__.py'>,\n",
       " 'zmq.utils.constant_names': <module 'zmq.utils.constant_names' from '/home/carl/anaconda3/lib/python3.9/site-packages/zmq/utils/constant_names.py'>,\n",
       " 'zmq.sugar.constants': <module 'zmq.sugar.constants' from '/home/carl/anaconda3/lib/python3.9/site-packages/zmq/sugar/constants.py'>,\n",
       " 'atexit': <module 'atexit' (built-in)>,\n",
       " 'zmq.sugar.attrsettr': <module 'zmq.sugar.attrsettr' from '/home/carl/anaconda3/lib/python3.9/site-packages/zmq/sugar/attrsettr.py'>,\n",
       " 'zmq.sugar.poll': <module 'zmq.sugar.poll' from '/home/carl/anaconda3/lib/python3.9/site-packages/zmq/sugar/poll.py'>,\n",
       " 'zmq.utils.jsonapi': <module 'zmq.utils.jsonapi' from '/home/carl/anaconda3/lib/python3.9/site-packages/zmq/utils/jsonapi.py'>,\n",
       " 'zmq.utils.strtypes': <module 'zmq.utils.strtypes' from '/home/carl/anaconda3/lib/python3.9/site-packages/zmq/utils/strtypes.py'>,\n",
       " 'zmq.sugar.socket': <module 'zmq.sugar.socket' from '/home/carl/anaconda3/lib/python3.9/site-packages/zmq/sugar/socket.py'>,\n",
       " 'zmq.sugar.context': <module 'zmq.sugar.context' from '/home/carl/anaconda3/lib/python3.9/site-packages/zmq/sugar/context.py'>,\n",
       " 'zmq.sugar.frame': <module 'zmq.sugar.frame' from '/home/carl/anaconda3/lib/python3.9/site-packages/zmq/sugar/frame.py'>,\n",
       " 'zmq.sugar.tracker': <module 'zmq.sugar.tracker' from '/home/carl/anaconda3/lib/python3.9/site-packages/zmq/sugar/tracker.py'>,\n",
       " 'zmq.sugar.version': <module 'zmq.sugar.version' from '/home/carl/anaconda3/lib/python3.9/site-packages/zmq/sugar/version.py'>,\n",
       " 'zmq.sugar.stopwatch': <module 'zmq.sugar.stopwatch' from '/home/carl/anaconda3/lib/python3.9/site-packages/zmq/sugar/stopwatch.py'>,\n",
       " 'zmq.sugar': <module 'zmq.sugar' from '/home/carl/anaconda3/lib/python3.9/site-packages/zmq/sugar/__init__.py'>,\n",
       " 'zmq': <module 'zmq' from '/home/carl/anaconda3/lib/python3.9/site-packages/zmq/__init__.py'>,\n",
       " '_ast': <module '_ast' (built-in)>,\n",
       " 'ast': <module 'ast' from '/home/carl/anaconda3/lib/python3.9/ast.py'>,\n",
       " '_opcode': <module '_opcode' from '/home/carl/anaconda3/lib/python3.9/lib-dynload/_opcode.cpython-39-x86_64-linux-gnu.so'>,\n",
       " 'opcode': <module 'opcode' from '/home/carl/anaconda3/lib/python3.9/opcode.py'>,\n",
       " 'dis': <module 'dis' from '/home/carl/anaconda3/lib/python3.9/dis.py'>,\n",
       " 'token': <module 'token' from '/home/carl/anaconda3/lib/python3.9/token.py'>,\n",
       " 'tokenize': <module 'tokenize' from '/home/carl/anaconda3/lib/python3.9/tokenize.py'>,\n",
       " 'linecache': <module 'linecache' from '/home/carl/anaconda3/lib/python3.9/linecache.py'>,\n",
       " 'inspect': <module 'inspect' from '/home/carl/anaconda3/lib/python3.9/inspect.py'>,\n",
       " 'traitlets.utils': <module 'traitlets.utils' from '/home/carl/anaconda3/lib/python3.9/site-packages/traitlets/utils/__init__.py'>,\n",
       " 'traitlets.utils.getargspec': <module 'traitlets.utils.getargspec' from '/home/carl/anaconda3/lib/python3.9/site-packages/traitlets/utils/getargspec.py'>,\n",
       " 'traitlets.utils.importstring': <module 'traitlets.utils.importstring' from '/home/carl/anaconda3/lib/python3.9/site-packages/traitlets/utils/importstring.py'>,\n",
       " 'traitlets.utils.sentinel': <module 'traitlets.utils.sentinel' from '/home/carl/anaconda3/lib/python3.9/site-packages/traitlets/utils/sentinel.py'>,\n",
       " 'traitlets.utils.bunch': <module 'traitlets.utils.bunch' from '/home/carl/anaconda3/lib/python3.9/site-packages/traitlets/utils/bunch.py'>,\n",
       " 'traitlets.utils.descriptions': <module 'traitlets.utils.descriptions' from '/home/carl/anaconda3/lib/python3.9/site-packages/traitlets/utils/descriptions.py'>,\n",
       " 'traitlets.traitlets': <module 'traitlets.traitlets' from '/home/carl/anaconda3/lib/python3.9/site-packages/traitlets/traitlets.py'>,\n",
       " 'traitlets.utils.decorators': <module 'traitlets.utils.decorators' from '/home/carl/anaconda3/lib/python3.9/site-packages/traitlets/utils/decorators.py'>,\n",
       " 'traitlets._version': <module 'traitlets._version' from '/home/carl/anaconda3/lib/python3.9/site-packages/traitlets/_version.py'>,\n",
       " 'traitlets': <module 'traitlets' from '/home/carl/anaconda3/lib/python3.9/site-packages/traitlets/__init__.py'>,\n",
       " 'traceback': <module 'traceback' from '/home/carl/anaconda3/lib/python3.9/traceback.py'>,\n",
       " '_string': <module '_string' (built-in)>,\n",
       " 'string': <module 'string' from '/home/carl/anaconda3/lib/python3.9/string.py'>,\n",
       " 'logging': <module 'logging' from '/home/carl/anaconda3/lib/python3.9/logging/__init__.py'>,\n",
       " 'pprint': <module 'pprint' from '/home/carl/anaconda3/lib/python3.9/pprint.py'>,\n",
       " 'gettext': <module 'gettext' from '/home/carl/anaconda3/lib/python3.9/gettext.py'>,\n",
       " 'argparse': <module 'argparse' from '/home/carl/anaconda3/lib/python3.9/argparse.py'>,\n",
       " 'traitlets.config.loader': <module 'traitlets.config.loader' from '/home/carl/anaconda3/lib/python3.9/site-packages/traitlets/config/loader.py'>,\n",
       " 'textwrap': <module 'textwrap' from '/home/carl/anaconda3/lib/python3.9/textwrap.py'>,\n",
       " 'traitlets.utils.text': <module 'traitlets.utils.text' from '/home/carl/anaconda3/lib/python3.9/site-packages/traitlets/utils/text.py'>,\n",
       " 'traitlets.config.configurable': <module 'traitlets.config.configurable' from '/home/carl/anaconda3/lib/python3.9/site-packages/traitlets/config/configurable.py'>,\n",
       " 'traitlets.config.application': <module 'traitlets.config.application' from '/home/carl/anaconda3/lib/python3.9/site-packages/traitlets/config/application.py'>,\n",
       " 'traitlets.config': <module 'traitlets.config' from '/home/carl/anaconda3/lib/python3.9/site-packages/traitlets/config/__init__.py'>,\n",
       " 'jupyter_client.localinterfaces': <module 'jupyter_client.localinterfaces' from '/home/carl/anaconda3/lib/python3.9/site-packages/jupyter_client/localinterfaces.py'>,\n",
       " 'jupyter_core.version': <module 'jupyter_core.version' from '/home/carl/anaconda3/lib/python3.9/site-packages/jupyter_core/version.py'>,\n",
       " 'jupyter_core': <module 'jupyter_core' from '/home/carl/anaconda3/lib/python3.9/site-packages/jupyter_core/__init__.py'>,\n",
       " 'ntpath': <module 'ntpath' from '/home/carl/anaconda3/lib/python3.9/ntpath.py'>,\n",
       " 'urllib': <module 'urllib' from '/home/carl/anaconda3/lib/python3.9/urllib/__init__.py'>,\n",
       " 'urllib.parse': <module 'urllib.parse' from '/home/carl/anaconda3/lib/python3.9/urllib/parse.py'>,\n",
       " 'pathlib': <module 'pathlib' from '/home/carl/anaconda3/lib/python3.9/pathlib.py'>,\n",
       " 'jupyter_core.paths': <module 'jupyter_core.paths' from '/home/carl/anaconda3/lib/python3.9/site-packages/jupyter_core/paths.py'>,\n",
       " 'jupyter_client.utils': <module 'jupyter_client.utils' from '/home/carl/anaconda3/lib/python3.9/site-packages/jupyter_client/utils.py'>,\n",
       " 'jupyter_client.connect': <module 'jupyter_client.connect' from '/home/carl/anaconda3/lib/python3.9/site-packages/jupyter_client/connect.py'>,\n",
       " 'traitlets.log': <module 'traitlets.log' from '/home/carl/anaconda3/lib/python3.9/site-packages/traitlets/log.py'>,\n",
       " 'jupyter_client.launcher': <module 'jupyter_client.launcher' from '/home/carl/anaconda3/lib/python3.9/site-packages/jupyter_client/launcher.py'>,\n",
       " 'concurrent': <module 'concurrent' from '/home/carl/anaconda3/lib/python3.9/concurrent/__init__.py'>,\n",
       " 'concurrent.futures._base': <module 'concurrent.futures._base' from '/home/carl/anaconda3/lib/python3.9/concurrent/futures/_base.py'>,\n",
       " 'concurrent.futures': <module 'concurrent.futures' from '/home/carl/anaconda3/lib/python3.9/concurrent/futures/__init__.py'>,\n",
       " '_ssl': <module '_ssl' from '/home/carl/anaconda3/lib/python3.9/lib-dynload/_ssl.cpython-39-x86_64-linux-gnu.so'>,\n",
       " 'binascii': <module 'binascii' from '/home/carl/anaconda3/lib/python3.9/lib-dynload/binascii.cpython-39-x86_64-linux-gnu.so'>,\n",
       " 'base64': <module 'base64' from '/home/carl/anaconda3/lib/python3.9/base64.py'>,\n",
       " 'ssl': <module 'ssl' from '/home/carl/anaconda3/lib/python3.9/ssl.py'>,\n",
       " 'asyncio.constants': <module 'asyncio.constants' from '/home/carl/anaconda3/lib/python3.9/asyncio/constants.py'>,\n",
       " 'asyncio.format_helpers': <module 'asyncio.format_helpers' from '/home/carl/anaconda3/lib/python3.9/asyncio/format_helpers.py'>,\n",
       " 'asyncio.base_futures': <module 'asyncio.base_futures' from '/home/carl/anaconda3/lib/python3.9/asyncio/base_futures.py'>,\n",
       " 'asyncio.log': <module 'asyncio.log' from '/home/carl/anaconda3/lib/python3.9/asyncio/log.py'>,\n",
       " 'asyncio.coroutines': <module 'asyncio.coroutines' from '/home/carl/anaconda3/lib/python3.9/asyncio/coroutines.py'>,\n",
       " '_contextvars': <module '_contextvars' from '/home/carl/anaconda3/lib/python3.9/lib-dynload/_contextvars.cpython-39-x86_64-linux-gnu.so'>,\n",
       " 'contextvars': <module 'contextvars' from '/home/carl/anaconda3/lib/python3.9/contextvars.py'>,\n",
       " 'asyncio.exceptions': <module 'asyncio.exceptions' from '/home/carl/anaconda3/lib/python3.9/asyncio/exceptions.py'>,\n",
       " 'asyncio.base_tasks': <module 'asyncio.base_tasks' from '/home/carl/anaconda3/lib/python3.9/asyncio/base_tasks.py'>,\n",
       " '_asyncio': <module '_asyncio' from '/home/carl/anaconda3/lib/python3.9/lib-dynload/_asyncio.cpython-39-x86_64-linux-gnu.so'>,\n",
       " 'asyncio.events': <module 'asyncio.events' from '/home/carl/anaconda3/lib/python3.9/asyncio/events.py'>,\n",
       " 'asyncio.futures': <module 'asyncio.futures' from '/home/carl/anaconda3/lib/python3.9/asyncio/futures.py'>,\n",
       " 'asyncio.protocols': <module 'asyncio.protocols' from '/home/carl/anaconda3/lib/python3.9/asyncio/protocols.py'>,\n",
       " 'asyncio.transports': <module 'asyncio.transports' from '/home/carl/anaconda3/lib/python3.9/asyncio/transports.py'>,\n",
       " 'asyncio.sslproto': <module 'asyncio.sslproto' from '/home/carl/anaconda3/lib/python3.9/asyncio/sslproto.py'>,\n",
       " 'asyncio.locks': <module 'asyncio.locks' from '/home/carl/anaconda3/lib/python3.9/asyncio/locks.py'>,\n",
       " 'asyncio.tasks': <module 'asyncio.tasks' from '/home/carl/anaconda3/lib/python3.9/asyncio/tasks.py'>,\n",
       " 'asyncio.staggered': <module 'asyncio.staggered' from '/home/carl/anaconda3/lib/python3.9/asyncio/staggered.py'>,\n",
       " 'asyncio.trsock': <module 'asyncio.trsock' from '/home/carl/anaconda3/lib/python3.9/asyncio/trsock.py'>,\n",
       " 'asyncio.base_events': <module 'asyncio.base_events' from '/home/carl/anaconda3/lib/python3.9/asyncio/base_events.py'>,\n",
       " 'asyncio.runners': <module 'asyncio.runners' from '/home/carl/anaconda3/lib/python3.9/asyncio/runners.py'>,\n",
       " 'asyncio.queues': <module 'asyncio.queues' from '/home/carl/anaconda3/lib/python3.9/asyncio/queues.py'>,\n",
       " 'asyncio.streams': <module 'asyncio.streams' from '/home/carl/anaconda3/lib/python3.9/asyncio/streams.py'>,\n",
       " 'asyncio.subprocess': <module 'asyncio.subprocess' from '/home/carl/anaconda3/lib/python3.9/asyncio/subprocess.py'>,\n",
       " 'asyncio.threads': <module 'asyncio.threads' from '/home/carl/anaconda3/lib/python3.9/asyncio/threads.py'>,\n",
       " 'asyncio.base_subprocess': <module 'asyncio.base_subprocess' from '/home/carl/anaconda3/lib/python3.9/asyncio/base_subprocess.py'>,\n",
       " 'asyncio.selector_events': <module 'asyncio.selector_events' from '/home/carl/anaconda3/lib/python3.9/asyncio/selector_events.py'>,\n",
       " 'asyncio.unix_events': <module 'asyncio.unix_events' from '/home/carl/anaconda3/lib/python3.9/asyncio/unix_events.py'>,\n",
       " 'asyncio': <module 'asyncio' from '/home/carl/anaconda3/lib/python3.9/asyncio/__init__.py'>,\n",
       " 'jupyter_client.channelsabc': <module 'jupyter_client.channelsabc' from '/home/carl/anaconda3/lib/python3.9/site-packages/jupyter_client/channelsabc.py'>,\n",
       " 'jupyter_client.channels': <module 'jupyter_client.channels' from '/home/carl/anaconda3/lib/python3.9/site-packages/jupyter_client/channels.py'>,\n",
       " 'jupyter_client.clientabc': <module 'jupyter_client.clientabc' from '/home/carl/anaconda3/lib/python3.9/site-packages/jupyter_client/clientabc.py'>,\n",
       " 'jupyter_client.client': <module 'jupyter_client.client' from '/home/carl/anaconda3/lib/python3.9/site-packages/jupyter_client/client.py'>,\n",
       " 'jupyter_client.kernelspec': <module 'jupyter_client.kernelspec' from '/home/carl/anaconda3/lib/python3.9/site-packages/jupyter_client/kernelspec.py'>,\n",
       " 'jupyter_client.managerabc': <module 'jupyter_client.managerabc' from '/home/carl/anaconda3/lib/python3.9/site-packages/jupyter_client/managerabc.py'>,\n",
       " 'jupyter_client.manager': <module 'jupyter_client.manager' from '/home/carl/anaconda3/lib/python3.9/site-packages/jupyter_client/manager.py'>,\n",
       " '_queue': <module '_queue' from '/home/carl/anaconda3/lib/python3.9/lib-dynload/_queue.cpython-39-x86_64-linux-gnu.so'>,\n",
       " 'queue': <module 'queue' from '/home/carl/anaconda3/lib/python3.9/queue.py'>,\n",
       " 'jupyter_client.blocking.channels': <module 'jupyter_client.blocking.channels' from '/home/carl/anaconda3/lib/python3.9/site-packages/jupyter_client/blocking/channels.py'>,\n",
       " 'jupyter_client.blocking.client': <module 'jupyter_client.blocking.client' from '/home/carl/anaconda3/lib/python3.9/site-packages/jupyter_client/blocking/client.py'>,\n",
       " 'jupyter_client.blocking': <module 'jupyter_client.blocking' from '/home/carl/anaconda3/lib/python3.9/site-packages/jupyter_client/blocking/__init__.py'>,\n",
       " 'zmq._future': <module 'zmq._future' from '/home/carl/anaconda3/lib/python3.9/site-packages/zmq/_future.py'>,\n",
       " 'zmq.asyncio': <module 'zmq.asyncio' from '/home/carl/anaconda3/lib/python3.9/site-packages/zmq/asyncio.py'>,\n",
       " 'jupyter_client.asynchronous.channels': <module 'jupyter_client.asynchronous.channels' from '/home/carl/anaconda3/lib/python3.9/site-packages/jupyter_client/asynchronous/channels.py'>,\n",
       " 'jupyter_client.asynchronous.client': <module 'jupyter_client.asynchronous.client' from '/home/carl/anaconda3/lib/python3.9/site-packages/jupyter_client/asynchronous/client.py'>,\n",
       " 'jupyter_client.asynchronous': <module 'jupyter_client.asynchronous' from '/home/carl/anaconda3/lib/python3.9/site-packages/jupyter_client/asynchronous/__init__.py'>,\n",
       " '_uuid': <module '_uuid' from '/home/carl/anaconda3/lib/python3.9/lib-dynload/_uuid.cpython-39-x86_64-linux-gnu.so'>,\n",
       " 'uuid': <module 'uuid' from '/home/carl/anaconda3/lib/python3.9/uuid.py'>,\n",
       " 'jupyter_client.multikernelmanager': <module 'jupyter_client.multikernelmanager' from '/home/carl/anaconda3/lib/python3.9/site-packages/jupyter_client/multikernelmanager.py'>,\n",
       " 'jupyter_client': <module 'jupyter_client' from '/home/carl/anaconda3/lib/python3.9/site-packages/jupyter_client/__init__.py'>,\n",
       " 'ipykernel.connect': <module 'ipykernel.connect' from '/home/carl/anaconda3/lib/python3.9/site-packages/ipykernel/connect.py'>,\n",
       " 'ipykernel': <module 'ipykernel' from '/home/carl/anaconda3/lib/python3.9/site-packages/ipykernel/__init__.py'>,\n",
       " 'tornado': <module 'tornado' from '/home/carl/anaconda3/lib/python3.9/site-packages/tornado/__init__.py'>,\n",
       " '_datetime': <module '_datetime' from '/home/carl/anaconda3/lib/python3.9/lib-dynload/_datetime.cpython-39-x86_64-linux-gnu.so'>,\n",
       " 'datetime': <module 'datetime' from '/home/carl/anaconda3/lib/python3.9/datetime.py'>,\n",
       " 'numbers': <module 'numbers' from '/home/carl/anaconda3/lib/python3.9/numbers.py'>,\n",
       " 'logging.handlers': <module 'logging.handlers' from '/home/carl/anaconda3/lib/python3.9/logging/handlers.py'>,\n",
       " 'html.entities': <module 'html.entities' from '/home/carl/anaconda3/lib/python3.9/html/entities.py'>,\n",
       " 'html': <module 'html' from '/home/carl/anaconda3/lib/python3.9/html/__init__.py'>,\n",
       " 'tornado.speedups': <module 'tornado.speedups' from '/home/carl/anaconda3/lib/python3.9/site-packages/tornado/speedups.cpython-39-x86_64-linux-gnu.so'>,\n",
       " 'tornado.util': <module 'tornado.util' from '/home/carl/anaconda3/lib/python3.9/site-packages/tornado/util.py'>,\n",
       " 'tornado.escape': <module 'tornado.escape' from '/home/carl/anaconda3/lib/python3.9/site-packages/tornado/escape.py'>,\n",
       " 'colorama.ansi': <module 'colorama.ansi' from '/home/carl/anaconda3/lib/python3.9/site-packages/colorama/ansi.py'>,\n",
       " 'colorama.win32': <module 'colorama.win32' from '/home/carl/anaconda3/lib/python3.9/site-packages/colorama/win32.py'>,\n",
       " 'colorama.winterm': <module 'colorama.winterm' from '/home/carl/anaconda3/lib/python3.9/site-packages/colorama/winterm.py'>,\n",
       " 'colorama.ansitowin32': <module 'colorama.ansitowin32' from '/home/carl/anaconda3/lib/python3.9/site-packages/colorama/ansitowin32.py'>,\n",
       " 'colorama.initialise': <module 'colorama.initialise' from '/home/carl/anaconda3/lib/python3.9/site-packages/colorama/initialise.py'>,\n",
       " 'colorama': <module 'colorama' from '/home/carl/anaconda3/lib/python3.9/site-packages/colorama/__init__.py'>,\n",
       " '_curses': <module '_curses' from '/home/carl/anaconda3/lib/python3.9/lib-dynload/_curses.cpython-39-x86_64-linux-gnu.so'>,\n",
       " 'curses': <module 'curses' from '/home/carl/anaconda3/lib/python3.9/curses/__init__.py'>,\n",
       " 'tornado.log': <module 'tornado.log' from '/home/carl/anaconda3/lib/python3.9/site-packages/tornado/log.py'>,\n",
       " 'tornado.concurrent': <module 'tornado.concurrent' from '/home/carl/anaconda3/lib/python3.9/site-packages/tornado/concurrent.py'>,\n",
       " 'tornado.ioloop': <module 'tornado.ioloop' from '/home/carl/anaconda3/lib/python3.9/site-packages/tornado/ioloop.py'>,\n",
       " '__future__': <module '__future__' from '/home/carl/anaconda3/lib/python3.9/__future__.py'>,\n",
       " 'tornado.platform': <module 'tornado.platform' from '/home/carl/anaconda3/lib/python3.9/site-packages/tornado/platform/__init__.py'>,\n",
       " 'tornado.gen': <module 'tornado.gen' from '/home/carl/anaconda3/lib/python3.9/site-packages/tornado/gen.py'>,\n",
       " 'tornado.platform.asyncio': <module 'tornado.platform.asyncio' from '/home/carl/anaconda3/lib/python3.9/site-packages/tornado/platform/asyncio.py'>,\n",
       " 'zmq.eventloop.ioloop': <module 'zmq.eventloop.ioloop' from '/home/carl/anaconda3/lib/python3.9/site-packages/zmq/eventloop/ioloop.py'>,\n",
       " 'zmq.eventloop': <module 'zmq.eventloop' from '/home/carl/anaconda3/lib/python3.9/site-packages/zmq/eventloop/__init__.py'>,\n",
       " 'zmq.eventloop.zmqstream': <module 'zmq.eventloop.zmqstream' from '/home/carl/anaconda3/lib/python3.9/site-packages/zmq/eventloop/zmqstream.py'>,\n",
       " 'IPython.core': <module 'IPython.core' from '/home/carl/anaconda3/lib/python3.9/site-packages/IPython/core/__init__.py'>,\n",
       " 'IPython.core.getipython': <module 'IPython.core.getipython' from '/home/carl/anaconda3/lib/python3.9/site-packages/IPython/core/getipython.py'>,\n",
       " 'IPython.core.release': <module 'IPython.core.release' from '/home/carl/anaconda3/lib/python3.9/site-packages/IPython/core/release.py'>,\n",
       " 'sysconfig': <module 'sysconfig' from '/home/carl/anaconda3/lib/python3.9/sysconfig.py'>,\n",
       " '_sysconfigdata__linux_x86_64-linux-gnu': <module '_sysconfigdata__linux_x86_64-linux-gnu' from '/home/carl/anaconda3/lib/python3.9/_sysconfigdata__linux_x86_64-linux-gnu.py'>,\n",
       " 'pydoc': <module 'pydoc' from '/home/carl/anaconda3/lib/python3.9/pydoc.py'>,\n",
       " 'executing.executing': <module 'executing.executing' from '/home/carl/anaconda3/lib/python3.9/site-packages/executing/executing.py'>,\n",
       " 'executing.version': <module 'executing.version' from '/home/carl/anaconda3/lib/python3.9/site-packages/executing/version.py'>,\n",
       " 'executing': <module 'executing' from '/home/carl/anaconda3/lib/python3.9/site-packages/executing/__init__.py'>,\n",
       " 'asttokens.line_numbers': <module 'asttokens.line_numbers' from '/home/carl/anaconda3/lib/python3.9/site-packages/asttokens/line_numbers.py'>,\n",
       " 'six': <module 'six' from '/home/carl/anaconda3/lib/python3.9/site-packages/six.py'>,\n",
       " 'six.moves': <module 'six.moves' (<six._SixMetaPathImporter object at 0x7faab0d5cac0>)>,\n",
       " 'asttokens.util': <module 'asttokens.util' from '/home/carl/anaconda3/lib/python3.9/site-packages/asttokens/util.py'>,\n",
       " 'asttokens.mark_tokens': <module 'asttokens.mark_tokens' from '/home/carl/anaconda3/lib/python3.9/site-packages/asttokens/mark_tokens.py'>,\n",
       " 'asttokens.asttokens': <module 'asttokens.asttokens' from '/home/carl/anaconda3/lib/python3.9/site-packages/asttokens/asttokens.py'>,\n",
       " 'asttokens': <module 'asttokens' from '/home/carl/anaconda3/lib/python3.9/site-packages/asttokens/__init__.py'>,\n",
       " '_decimal': <module '_decimal' from '/home/carl/anaconda3/lib/python3.9/lib-dynload/_decimal.cpython-39-x86_64-linux-gnu.so'>,\n",
       " 'decimal': <module 'decimal' from '/home/carl/anaconda3/lib/python3.9/decimal.py'>,\n",
       " 'fractions': <module 'fractions' from '/home/carl/anaconda3/lib/python3.9/fractions.py'>,\n",
       " 'pure_eval.utils': <module 'pure_eval.utils' from '/home/carl/anaconda3/lib/python3.9/site-packages/pure_eval/utils.py'>,\n",
       " 'pure_eval.my_getattr_static': <module 'pure_eval.my_getattr_static' from '/home/carl/anaconda3/lib/python3.9/site-packages/pure_eval/my_getattr_static.py'>,\n",
       " 'pure_eval.core': <module 'pure_eval.core' from '/home/carl/anaconda3/lib/python3.9/site-packages/pure_eval/core.py'>,\n",
       " 'pure_eval.version': <module 'pure_eval.version' from '/home/carl/anaconda3/lib/python3.9/site-packages/pure_eval/version.py'>,\n",
       " 'pure_eval': <module 'pure_eval' from '/home/carl/anaconda3/lib/python3.9/site-packages/pure_eval/__init__.py'>,\n",
       " 'stack_data.utils': <module 'stack_data.utils' from '/home/carl/anaconda3/lib/python3.9/site-packages/stack_data/utils.py'>,\n",
       " 'stack_data.core': <module 'stack_data.core' from '/home/carl/anaconda3/lib/python3.9/site-packages/stack_data/core.py'>,\n",
       " 'stack_data.formatting': <module 'stack_data.formatting' from '/home/carl/anaconda3/lib/python3.9/site-packages/stack_data/formatting.py'>,\n",
       " 'stack_data.version': <module 'stack_data.version' from '/home/carl/anaconda3/lib/python3.9/site-packages/stack_data/version.py'>,\n",
       " 'stack_data': <module 'stack_data' from '/home/carl/anaconda3/lib/python3.9/site-packages/stack_data/__init__.py'>,\n",
       " 'pygments': <module 'pygments' from '/home/carl/anaconda3/lib/python3.9/site-packages/pygments/__init__.py'>,\n",
       " 'pygments.formatters._mapping': <module 'pygments.formatters._mapping' from '/home/carl/anaconda3/lib/python3.9/site-packages/pygments/formatters/_mapping.py'>,\n",
       " 'pygments.plugin': <module 'pygments.plugin' from '/home/carl/anaconda3/lib/python3.9/site-packages/pygments/plugin.py'>,\n",
       " 'pygments.util': <module 'pygments.util' from '/home/carl/anaconda3/lib/python3.9/site-packages/pygments/util.py'>,\n",
       " 'pygments.formatters': <module 'pygments.formatters' from '/home/carl/anaconda3/lib/python3.9/site-packages/pygments/formatters/__init__.py'>,\n",
       " 'pygments.styles': <module 'pygments.styles' from '/home/carl/anaconda3/lib/python3.9/site-packages/pygments/styles/__init__.py'>,\n",
       " 'pygments.formatter': <module 'pygments.formatter' from '/home/carl/anaconda3/lib/python3.9/site-packages/pygments/formatter.py'>,\n",
       " 'pygments.console': <module 'pygments.console' from '/home/carl/anaconda3/lib/python3.9/site-packages/pygments/console.py'>,\n",
       " 'pygments.token': <module 'pygments.token' from '/home/carl/anaconda3/lib/python3.9/site-packages/pygments/token.py'>,\n",
       " 'pygments.style': <module 'pygments.style' from '/home/carl/anaconda3/lib/python3.9/site-packages/pygments/style.py'>,\n",
       " 'pygments.formatters.terminal256': <module 'pygments.formatters.terminal256' from '/home/carl/anaconda3/lib/python3.9/site-packages/pygments/formatters/terminal256.py'>,\n",
       " 'bdb': <module 'bdb' from '/home/carl/anaconda3/lib/python3.9/bdb.py'>,\n",
       " 'IPython.utils': <module 'IPython.utils' from '/home/carl/anaconda3/lib/python3.9/site-packages/IPython/utils/__init__.py'>,\n",
       " 'IPython.utils.ipstruct': <module 'IPython.utils.ipstruct' from '/home/carl/anaconda3/lib/python3.9/site-packages/IPython/utils/ipstruct.py'>,\n",
       " 'IPython.utils.coloransi': <module 'IPython.utils.coloransi' from '/home/carl/anaconda3/lib/python3.9/site-packages/IPython/utils/coloransi.py'>,\n",
       " 'IPython.utils.colorable': <module 'IPython.utils.colorable' from '/home/carl/anaconda3/lib/python3.9/site-packages/IPython/utils/colorable.py'>,\n",
       " 'IPython.utils.PyColorize': <module 'IPython.utils.PyColorize' from '/home/carl/anaconda3/lib/python3.9/site-packages/IPython/utils/PyColorize.py'>,\n",
       " 'locale': <module 'locale' from '/home/carl/anaconda3/lib/python3.9/locale.py'>,\n",
       " 'IPython.utils.encoding': <module 'IPython.utils.encoding' from '/home/carl/anaconda3/lib/python3.9/site-packages/IPython/utils/encoding.py'>,\n",
       " 'IPython.utils.py3compat': <module 'IPython.utils.py3compat' from '/home/carl/anaconda3/lib/python3.9/site-packages/IPython/utils/py3compat.py'>,\n",
       " 'IPython.core.excolors': <module 'IPython.core.excolors' from '/home/carl/anaconda3/lib/python3.9/site-packages/IPython/core/excolors.py'>,\n",
       " 'cmd': <module 'cmd' from '/home/carl/anaconda3/lib/python3.9/cmd.py'>,\n",
       " 'codeop': <module 'codeop' from '/home/carl/anaconda3/lib/python3.9/codeop.py'>,\n",
       " 'code': <module 'code' from '/home/carl/anaconda3/lib/python3.9/code.py'>,\n",
       " 'pdb': <module 'pdb' from '/home/carl/anaconda3/lib/python3.9/pdb.py'>,\n",
       " 'IPython.core.debugger': <module 'IPython.core.debugger' from '/home/carl/anaconda3/lib/python3.9/site-packages/IPython/core/debugger.py'>,\n",
       " 'IPython.core.display_trap': <module 'IPython.core.display_trap' from '/home/carl/anaconda3/lib/python3.9/site-packages/IPython/core/display_trap.py'>,\n",
       " 'pexpect.exceptions': <module 'pexpect.exceptions' from '/home/carl/anaconda3/lib/python3.9/site-packages/pexpect/exceptions.py'>,\n",
       " 'pexpect.utils': <module 'pexpect.utils' from '/home/carl/anaconda3/lib/python3.9/site-packages/pexpect/utils.py'>,\n",
       " 'pexpect.expect': <module 'pexpect.expect' from '/home/carl/anaconda3/lib/python3.9/site-packages/pexpect/expect.py'>,\n",
       " 'tty': <module 'tty' from '/home/carl/anaconda3/lib/python3.9/tty.py'>,\n",
       " 'pty': <module 'pty' from '/home/carl/anaconda3/lib/python3.9/pty.py'>,\n",
       " 'fcntl': <module 'fcntl' from '/home/carl/anaconda3/lib/python3.9/lib-dynload/fcntl.cpython-39-x86_64-linux-gnu.so'>,\n",
       " 'resource': <module 'resource' from '/home/carl/anaconda3/lib/python3.9/lib-dynload/resource.cpython-39-x86_64-linux-gnu.so'>,\n",
       " 'ptyprocess.util': <module 'ptyprocess.util' from '/home/carl/anaconda3/lib/python3.9/site-packages/ptyprocess/util.py'>,\n",
       " 'ptyprocess.ptyprocess': <module 'ptyprocess.ptyprocess' from '/home/carl/anaconda3/lib/python3.9/site-packages/ptyprocess/ptyprocess.py'>,\n",
       " 'ptyprocess': <module 'ptyprocess' from '/home/carl/anaconda3/lib/python3.9/site-packages/ptyprocess/__init__.py'>,\n",
       " 'pexpect.spawnbase': <module 'pexpect.spawnbase' from '/home/carl/anaconda3/lib/python3.9/site-packages/pexpect/spawnbase.py'>,\n",
       " 'pexpect.pty_spawn': <module 'pexpect.pty_spawn' from '/home/carl/anaconda3/lib/python3.9/site-packages/pexpect/pty_spawn.py'>,\n",
       " 'pexpect.run': <module 'pexpect.run' from '/home/carl/anaconda3/lib/python3.9/site-packages/pexpect/run.py'>,\n",
       " 'pexpect': <module 'pexpect' from '/home/carl/anaconda3/lib/python3.9/site-packages/pexpect/__init__.py'>,\n",
       " 'shlex': <module 'shlex' from '/home/carl/anaconda3/lib/python3.9/shlex.py'>,\n",
       " 'IPython.utils._process_common': <module 'IPython.utils._process_common' from '/home/carl/anaconda3/lib/python3.9/site-packages/IPython/utils/_process_common.py'>,\n",
       " 'IPython.utils._process_posix': <module 'IPython.utils._process_posix' from '/home/carl/anaconda3/lib/python3.9/site-packages/IPython/utils/_process_posix.py'>,\n",
       " 'IPython.utils.process': <module 'IPython.utils.process' from '/home/carl/anaconda3/lib/python3.9/site-packages/IPython/utils/process.py'>,\n",
       " 'IPython.utils.decorators': <module 'IPython.utils.decorators' from '/home/carl/anaconda3/lib/python3.9/site-packages/IPython/utils/decorators.py'>,\n",
       " 'IPython.utils.path': <module 'IPython.utils.path' from '/home/carl/anaconda3/lib/python3.9/site-packages/IPython/utils/path.py'>,\n",
       " 'IPython.utils.terminal': <module 'IPython.utils.terminal' from '/home/carl/anaconda3/lib/python3.9/site-packages/IPython/utils/terminal.py'>,\n",
       " 'IPython.core.ultratb': <module 'IPython.core.ultratb' from '/home/carl/anaconda3/lib/python3.9/site-packages/IPython/core/ultratb.py'>,\n",
       " 'IPython.utils._sysinfo': <module 'IPython.utils._sysinfo' from '/home/carl/anaconda3/lib/python3.9/site-packages/IPython/utils/_sysinfo.py'>,\n",
       " 'IPython.utils.sysinfo': <module 'IPython.utils.sysinfo' from '/home/carl/anaconda3/lib/python3.9/site-packages/IPython/utils/sysinfo.py'>,\n",
       " 'IPython.core.crashhandler': <module 'IPython.core.crashhandler' from '/home/carl/anaconda3/lib/python3.9/site-packages/IPython/core/crashhandler.py'>,\n",
       " 'IPython.utils.importstring': <module 'IPython.utils.importstring' from '/home/carl/anaconda3/lib/python3.9/site-packages/IPython/utils/importstring.py'>,\n",
       " 'IPython.paths': <module 'IPython.paths' from '/home/carl/anaconda3/lib/python3.9/site-packages/IPython/paths.py'>,\n",
       " 'IPython.core.profiledir': <module 'IPython.core.profiledir' from '/home/carl/anaconda3/lib/python3.9/site-packages/IPython/core/profiledir.py'>,\n",
       " 'IPython.core.application': <module 'IPython.core.application' from '/home/carl/anaconda3/lib/python3.9/site-packages/IPython/core/application.py'>,\n",
       " 'IPython.terminal': <module 'IPython.terminal' from '/home/carl/anaconda3/lib/python3.9/site-packages/IPython/terminal/__init__.py'>,\n",
       " '_hashlib': <module '_hashlib' from '/home/carl/anaconda3/lib/python3.9/lib-dynload/_hashlib.cpython-39-x86_64-linux-gnu.so'>,\n",
       " '_blake2': <module '_blake2' from '/home/carl/anaconda3/lib/python3.9/lib-dynload/_blake2.cpython-39-x86_64-linux-gnu.so'>,\n",
       " 'hashlib': <module 'hashlib' from '/home/carl/anaconda3/lib/python3.9/hashlib.py'>,\n",
       " 'IPython.core.compilerop': <module 'IPython.core.compilerop' from '/home/carl/anaconda3/lib/python3.9/site-packages/IPython/core/compilerop.py'>,\n",
       " 'IPython.core.error': <module 'IPython.core.error' from '/home/carl/anaconda3/lib/python3.9/site-packages/IPython/core/error.py'>,\n",
       " 'IPython.utils.text': <module 'IPython.utils.text' from '/home/carl/anaconda3/lib/python3.9/site-packages/IPython/utils/text.py'>,\n",
       " 'IPython.core.magic_arguments': <module 'IPython.core.magic_arguments' from '/home/carl/anaconda3/lib/python3.9/site-packages/IPython/core/magic_arguments.py'>,\n",
       " 'getopt': <module 'getopt' from '/home/carl/anaconda3/lib/python3.9/getopt.py'>,\n",
       " 'IPython.core.display_functions': <module 'IPython.core.display_functions' from '/home/carl/anaconda3/lib/python3.9/site-packages/IPython/core/display_functions.py'>,\n",
       " 'mimetypes': <module 'mimetypes' from '/home/carl/anaconda3/lib/python3.9/mimetypes.py'>,\n",
       " 'IPython.testing': <module 'IPython.testing' from '/home/carl/anaconda3/lib/python3.9/site-packages/IPython/testing/__init__.py'>,\n",
       " 'IPython.testing.skipdoctest': <module 'IPython.testing.skipdoctest' from '/home/carl/anaconda3/lib/python3.9/site-packages/IPython/testing/skipdoctest.py'>,\n",
       " 'IPython.core.display': <module 'IPython.core.display' from '/home/carl/anaconda3/lib/python3.9/site-packages/IPython/core/display.py'>,\n",
       " 'IPython.lib': <module 'IPython.lib' from '/home/carl/anaconda3/lib/python3.9/site-packages/IPython/lib/__init__.py'>,\n",
       " 'IPython.lib.display': <module 'IPython.lib.display' from '/home/carl/anaconda3/lib/python3.9/site-packages/IPython/lib/display.py'>,\n",
       " 'IPython.display': <module 'IPython.display' from '/home/carl/anaconda3/lib/python3.9/site-packages/IPython/display.py'>,\n",
       " 'IPython.utils.data': <module 'IPython.utils.data' from '/home/carl/anaconda3/lib/python3.9/site-packages/IPython/utils/data.py'>,\n",
       " 'IPython.core.page': <module 'IPython.core.page' from '/home/carl/anaconda3/lib/python3.9/site-packages/IPython/core/page.py'>,\n",
       " 'IPython.lib.pretty': <module 'IPython.lib.pretty' from '/home/carl/anaconda3/lib/python3.9/site-packages/IPython/lib/pretty.py'>,\n",
       " 'IPython.utils.openpy': <module 'IPython.utils.openpy' from '/home/carl/anaconda3/lib/python3.9/site-packages/IPython/utils/openpy.py'>,\n",
       " 'IPython.utils.dir2': <module 'IPython.utils.dir2' from '/home/carl/anaconda3/lib/python3.9/site-packages/IPython/utils/dir2.py'>,\n",
       " 'IPython.utils.wildcard': <module 'IPython.utils.wildcard' from '/home/carl/anaconda3/lib/python3.9/site-packages/IPython/utils/wildcard.py'>,\n",
       " 'pygments.lexers._mapping': <module 'pygments.lexers._mapping' from '/home/carl/anaconda3/lib/python3.9/site-packages/pygments/lexers/_mapping.py'>,\n",
       " 'pygments.modeline': <module 'pygments.modeline' from '/home/carl/anaconda3/lib/python3.9/site-packages/pygments/modeline.py'>,\n",
       " 'pygments.lexers': <module 'pygments.lexers' from '/home/carl/anaconda3/lib/python3.9/site-packages/pygments/lexers/__init__.py'>,\n",
       " 'pygments.filter': <module 'pygments.filter' from '/home/carl/anaconda3/lib/python3.9/site-packages/pygments/filter.py'>,\n",
       " 'pygments.filters': <module 'pygments.filters' from '/home/carl/anaconda3/lib/python3.9/site-packages/pygments/filters/__init__.py'>,\n",
       " 'pygments.regexopt': <module 'pygments.regexopt' from '/home/carl/anaconda3/lib/python3.9/site-packages/pygments/regexopt.py'>,\n",
       " 'pygments.lexer': <module 'pygments.lexer' from '/home/carl/anaconda3/lib/python3.9/site-packages/pygments/lexer.py'>,\n",
       " 'pygments.unistring': <module 'pygments.unistring' from '/home/carl/anaconda3/lib/python3.9/site-packages/pygments/unistring.py'>,\n",
       " 'pygments.lexers.python': <module 'pygments.lexers.python' from '/home/carl/anaconda3/lib/python3.9/site-packages/pygments/lexers/python.py'>,\n",
       " 'pygments.formatters.html': <module 'pygments.formatters.html' from '/home/carl/anaconda3/lib/python3.9/site-packages/pygments/formatters/html.py'>,\n",
       " 'IPython.core.oinspect': <module 'IPython.core.oinspect' from '/home/carl/anaconda3/lib/python3.9/site-packages/IPython/core/oinspect.py'>,\n",
       " 'IPython.core.inputtransformer2': <module 'IPython.core.inputtransformer2' from '/home/carl/anaconda3/lib/python3.9/site-packages/IPython/core/inputtransformer2.py'>,\n",
       " 'IPython.core.magic': <module 'IPython.core.magic' from '/home/carl/anaconda3/lib/python3.9/site-packages/IPython/core/magic.py'>,\n",
       " 'pickleshare': <module 'pickleshare' from '/home/carl/anaconda3/lib/python3.9/site-packages/pickleshare.py'>,\n",
       " 'IPython.core.hooks': <module 'IPython.core.hooks' from '/home/carl/anaconda3/lib/python3.9/site-packages/IPython/core/hooks.py'>,\n",
       " 'IPython.core.autocall': <module 'IPython.core.autocall' from '/home/carl/anaconda3/lib/python3.9/site-packages/IPython/core/autocall.py'>,\n",
       " 'IPython.core.macro': <module 'IPython.core.macro' from '/home/carl/anaconda3/lib/python3.9/site-packages/IPython/core/macro.py'>,\n",
       " 'IPython.core.splitinput': <module 'IPython.core.splitinput' from '/home/carl/anaconda3/lib/python3.9/site-packages/IPython/core/splitinput.py'>,\n",
       " 'IPython.core.prefilter': <module 'IPython.core.prefilter' from '/home/carl/anaconda3/lib/python3.9/site-packages/IPython/core/prefilter.py'>,\n",
       " 'IPython.core.alias': <module 'IPython.core.alias' from '/home/carl/anaconda3/lib/python3.9/site-packages/IPython/core/alias.py'>,\n",
       " 'IPython.core.builtin_trap': <module 'IPython.core.builtin_trap' from '/home/carl/anaconda3/lib/python3.9/site-packages/IPython/core/builtin_trap.py'>,\n",
       " 'IPython.core.displayhook': <module 'IPython.core.displayhook' from '/home/carl/anaconda3/lib/python3.9/site-packages/IPython/core/displayhook.py'>,\n",
       " 'IPython.core.displaypub': <module 'IPython.core.displaypub' from '/home/carl/anaconda3/lib/python3.9/site-packages/IPython/core/displaypub.py'>,\n",
       " 'backcall.backcall': <module 'backcall.backcall' from '/home/carl/anaconda3/lib/python3.9/site-packages/backcall/backcall.py'>,\n",
       " 'backcall': <module 'backcall' from '/home/carl/anaconda3/lib/python3.9/site-packages/backcall/__init__.py'>,\n",
       " 'IPython.core.events': <module 'IPython.core.events' from '/home/carl/anaconda3/lib/python3.9/site-packages/IPython/core/events.py'>,\n",
       " 'IPython.core.extensions': <module 'IPython.core.extensions' from '/home/carl/anaconda3/lib/python3.9/site-packages/IPython/core/extensions.py'>,\n",
       " 'decorator': <module 'decorator' from '/home/carl/anaconda3/lib/python3.9/site-packages/decorator.py'>,\n",
       " 'IPython.utils.sentinel': <module 'IPython.utils.sentinel' from '/home/carl/anaconda3/lib/python3.9/site-packages/IPython/utils/sentinel.py'>,\n",
       " 'IPython.core.formatters': <module 'IPython.core.formatters' from '/home/carl/anaconda3/lib/python3.9/site-packages/IPython/core/formatters.py'>,\n",
       " '_sqlite3': <module '_sqlite3' from '/home/carl/anaconda3/lib/python3.9/lib-dynload/_sqlite3.cpython-39-x86_64-linux-gnu.so'>,\n",
       " 'sqlite3.dbapi2': <module 'sqlite3.dbapi2' from '/home/carl/anaconda3/lib/python3.9/sqlite3/dbapi2.py'>,\n",
       " 'sqlite3': <module 'sqlite3' from '/home/carl/anaconda3/lib/python3.9/sqlite3/__init__.py'>,\n",
       " 'IPython.core.history': <module 'IPython.core.history' from '/home/carl/anaconda3/lib/python3.9/site-packages/IPython/core/history.py'>,\n",
       " 'IPython.core.logger': <module 'IPython.core.logger' from '/home/carl/anaconda3/lib/python3.9/site-packages/IPython/core/logger.py'>,\n",
       " 'IPython.core.payload': <module 'IPython.core.payload' from '/home/carl/anaconda3/lib/python3.9/site-packages/IPython/core/payload.py'>,\n",
       " 'IPython.core.usage': <module 'IPython.core.usage' from '/home/carl/anaconda3/lib/python3.9/site-packages/IPython/core/usage.py'>,\n",
       " 'IPython.utils.capture': <module 'IPython.utils.capture' from '/home/carl/anaconda3/lib/python3.9/site-packages/IPython/utils/capture.py'>,\n",
       " 'IPython.utils.io': <module 'IPython.utils.io' from '/home/carl/anaconda3/lib/python3.9/site-packages/IPython/utils/io.py'>,\n",
       " 'IPython.utils.strdispatch': <module 'IPython.utils.strdispatch' from '/home/carl/anaconda3/lib/python3.9/site-packages/IPython/utils/strdispatch.py'>,\n",
       " 'IPython.utils.syspathcontext': <module 'IPython.utils.syspathcontext' from '/home/carl/anaconda3/lib/python3.9/site-packages/IPython/utils/syspathcontext.py'>,\n",
       " 'IPython.core.async_helpers': <module 'IPython.core.async_helpers' from '/home/carl/anaconda3/lib/python3.9/site-packages/IPython/core/async_helpers.py'>,\n",
       " 'IPython.core.interactiveshell': <module 'IPython.core.interactiveshell' from '/home/carl/anaconda3/lib/python3.9/site-packages/IPython/core/interactiveshell.py'>,\n",
       " 'prompt_toolkit.application.current': <module 'prompt_toolkit.application.current' from '/home/carl/anaconda3/lib/python3.9/site-packages/prompt_toolkit/application/current.py'>,\n",
       " 'prompt_toolkit.eventloop.utils': <module 'prompt_toolkit.eventloop.utils' from '/home/carl/anaconda3/lib/python3.9/site-packages/prompt_toolkit/eventloop/utils.py'>,\n",
       " 'prompt_toolkit.eventloop.async_generator': <module 'prompt_toolkit.eventloop.async_generator' from '/home/carl/anaconda3/lib/python3.9/site-packages/prompt_toolkit/eventloop/async_generator.py'>,\n",
       " 'wcwidth.table_wide': <module 'wcwidth.table_wide' from '/home/carl/anaconda3/lib/python3.9/site-packages/wcwidth/table_wide.py'>,\n",
       " 'wcwidth.table_zero': <module 'wcwidth.table_zero' from '/home/carl/anaconda3/lib/python3.9/site-packages/wcwidth/table_zero.py'>,\n",
       " 'wcwidth.unicode_versions': <module 'wcwidth.unicode_versions' from '/home/carl/anaconda3/lib/python3.9/site-packages/wcwidth/unicode_versions.py'>,\n",
       " 'wcwidth.wcwidth': <module 'wcwidth.wcwidth' from '/home/carl/anaconda3/lib/python3.9/site-packages/wcwidth/wcwidth.py'>,\n",
       " 'wcwidth': <module 'wcwidth' from '/home/carl/anaconda3/lib/python3.9/site-packages/wcwidth/__init__.py'>,\n",
       " 'prompt_toolkit.utils': <module 'prompt_toolkit.utils' from '/home/carl/anaconda3/lib/python3.9/site-packages/prompt_toolkit/utils.py'>,\n",
       " 'prompt_toolkit.eventloop.inputhook': <module 'prompt_toolkit.eventloop.inputhook' from '/home/carl/anaconda3/lib/python3.9/site-packages/prompt_toolkit/eventloop/inputhook.py'>,\n",
       " 'prompt_toolkit.eventloop': <module 'prompt_toolkit.eventloop' from '/home/carl/anaconda3/lib/python3.9/site-packages/prompt_toolkit/eventloop/__init__.py'>,\n",
       " 'prompt_toolkit.application.run_in_terminal': <module 'prompt_toolkit.application.run_in_terminal' from '/home/carl/anaconda3/lib/python3.9/site-packages/prompt_toolkit/application/run_in_terminal.py'>,\n",
       " 'prompt_toolkit.selection': <module 'prompt_toolkit.selection' from '/home/carl/anaconda3/lib/python3.9/site-packages/prompt_toolkit/selection.py'>,\n",
       " 'prompt_toolkit.clipboard.base': <module 'prompt_toolkit.clipboard.base' from '/home/carl/anaconda3/lib/python3.9/site-packages/prompt_toolkit/clipboard/base.py'>,\n",
       " 'prompt_toolkit.clipboard.in_memory': <module 'prompt_toolkit.clipboard.in_memory' from '/home/carl/anaconda3/lib/python3.9/site-packages/prompt_toolkit/clipboard/in_memory.py'>,\n",
       " 'prompt_toolkit.clipboard': <module 'prompt_toolkit.clipboard' from '/home/carl/anaconda3/lib/python3.9/site-packages/prompt_toolkit/clipboard/__init__.py'>,\n",
       " 'prompt_toolkit.cache': <module 'prompt_toolkit.cache' from '/home/carl/anaconda3/lib/python3.9/site-packages/prompt_toolkit/cache.py'>,\n",
       " 'prompt_toolkit.enums': <module 'prompt_toolkit.enums' from '/home/carl/anaconda3/lib/python3.9/site-packages/prompt_toolkit/enums.py'>,\n",
       " 'prompt_toolkit.filters.base': <module 'prompt_toolkit.filters.base' from '/home/carl/anaconda3/lib/python3.9/site-packages/prompt_toolkit/filters/base.py'>,\n",
       " 'prompt_toolkit.filters.app': <module 'prompt_toolkit.filters.app' from '/home/carl/anaconda3/lib/python3.9/site-packages/prompt_toolkit/filters/app.py'>,\n",
       " 'prompt_toolkit.filters.cli': <module 'prompt_toolkit.filters.cli' from '/home/carl/anaconda3/lib/python3.9/site-packages/prompt_toolkit/filters/cli.py'>,\n",
       " 'prompt_toolkit.filters.utils': <module 'prompt_toolkit.filters.utils' from '/home/carl/anaconda3/lib/python3.9/site-packages/prompt_toolkit/filters/utils.py'>,\n",
       " 'prompt_toolkit.filters': <module 'prompt_toolkit.filters' from '/home/carl/anaconda3/lib/python3.9/site-packages/prompt_toolkit/filters/__init__.py'>,\n",
       " 'prompt_toolkit.document': <module 'prompt_toolkit.document' from '/home/carl/anaconda3/lib/python3.9/site-packages/prompt_toolkit/document.py'>,\n",
       " 'prompt_toolkit.auto_suggest': <module 'prompt_toolkit.auto_suggest' from '/home/carl/anaconda3/lib/python3.9/site-packages/prompt_toolkit/auto_suggest.py'>,\n",
       " 'prompt_toolkit.data_structures': <module 'prompt_toolkit.data_structures' from '/home/carl/anaconda3/lib/python3.9/site-packages/prompt_toolkit/data_structures.py'>,\n",
       " 'prompt_toolkit.styles.base': <module 'prompt_toolkit.styles.base' from '/home/carl/anaconda3/lib/python3.9/site-packages/prompt_toolkit/styles/base.py'>,\n",
       " 'prompt_toolkit.styles.named_colors': <module 'prompt_toolkit.styles.named_colors' from '/home/carl/anaconda3/lib/python3.9/site-packages/prompt_toolkit/styles/named_colors.py'>,\n",
       " 'prompt_toolkit.styles.style': <module 'prompt_toolkit.styles.style' from '/home/carl/anaconda3/lib/python3.9/site-packages/prompt_toolkit/styles/style.py'>,\n",
       " 'prompt_toolkit.styles.defaults': <module 'prompt_toolkit.styles.defaults' from '/home/carl/anaconda3/lib/python3.9/site-packages/prompt_toolkit/styles/defaults.py'>,\n",
       " 'prompt_toolkit.styles.pygments': <module 'prompt_toolkit.styles.pygments' from '/home/carl/anaconda3/lib/python3.9/site-packages/prompt_toolkit/styles/pygments.py'>,\n",
       " 'colorsys': <module 'colorsys' from '/home/carl/anaconda3/lib/python3.9/colorsys.py'>,\n",
       " 'prompt_toolkit.styles.style_transformation': <module 'prompt_toolkit.styles.style_transformation' from '/home/carl/anaconda3/lib/python3.9/site-packages/prompt_toolkit/styles/style_transformation.py'>,\n",
       " 'prompt_toolkit.styles': <module 'prompt_toolkit.styles' from '/home/carl/anaconda3/lib/python3.9/site-packages/prompt_toolkit/styles/__init__.py'>,\n",
       " 'prompt_toolkit.output.color_depth': <module 'prompt_toolkit.output.color_depth' from '/home/carl/anaconda3/lib/python3.9/site-packages/prompt_toolkit/output/color_depth.py'>,\n",
       " 'prompt_toolkit.output.base': <module 'prompt_toolkit.output.base' from '/home/carl/anaconda3/lib/python3.9/site-packages/prompt_toolkit/output/base.py'>,\n",
       " 'prompt_toolkit.output.defaults': <module 'prompt_toolkit.output.defaults' from '/home/carl/anaconda3/lib/python3.9/site-packages/prompt_toolkit/output/defaults.py'>,\n",
       " 'prompt_toolkit.output': <module 'prompt_toolkit.output' from '/home/carl/anaconda3/lib/python3.9/site-packages/prompt_toolkit/output/__init__.py'>,\n",
       " 'prompt_toolkit.output.vt100': <module 'prompt_toolkit.output.vt100' from '/home/carl/anaconda3/lib/python3.9/site-packages/prompt_toolkit/output/vt100.py'>,\n",
       " 'prompt_toolkit.mouse_events': <module 'prompt_toolkit.mouse_events' from '/home/carl/anaconda3/lib/python3.9/site-packages/prompt_toolkit/mouse_events.py'>,\n",
       " 'prompt_toolkit.formatted_text.base': <module 'prompt_toolkit.formatted_text.base' from '/home/carl/anaconda3/lib/python3.9/site-packages/prompt_toolkit/formatted_text/base.py'>,\n",
       " 'prompt_toolkit.formatted_text.ansi': <module 'prompt_toolkit.formatted_text.ansi' from '/home/carl/anaconda3/lib/python3.9/site-packages/prompt_toolkit/formatted_text/ansi.py'>,\n",
       " 'xml': <module 'xml' from '/home/carl/anaconda3/lib/python3.9/xml/__init__.py'>,\n",
       " 'xml.dom.domreg': <module 'xml.dom.domreg' from '/home/carl/anaconda3/lib/python3.9/xml/dom/domreg.py'>,\n",
       " 'xml.dom': <module 'xml.dom' from '/home/carl/anaconda3/lib/python3.9/xml/dom/__init__.py'>,\n",
       " 'xml.dom.minicompat': <module 'xml.dom.minicompat' from '/home/carl/anaconda3/lib/python3.9/xml/dom/minicompat.py'>,\n",
       " 'xml.dom.NodeFilter': <module 'xml.dom.NodeFilter' from '/home/carl/anaconda3/lib/python3.9/xml/dom/NodeFilter.py'>,\n",
       " 'xml.dom.xmlbuilder': <module 'xml.dom.xmlbuilder' from '/home/carl/anaconda3/lib/python3.9/xml/dom/xmlbuilder.py'>,\n",
       " 'xml.dom.minidom': <module 'xml.dom.minidom' from '/home/carl/anaconda3/lib/python3.9/xml/dom/minidom.py'>,\n",
       " 'prompt_toolkit.formatted_text.html': <module 'prompt_toolkit.formatted_text.html' from '/home/carl/anaconda3/lib/python3.9/site-packages/prompt_toolkit/formatted_text/html.py'>,\n",
       " 'prompt_toolkit.formatted_text.pygments': <module 'prompt_toolkit.formatted_text.pygments' from '/home/carl/anaconda3/lib/python3.9/site-packages/prompt_toolkit/formatted_text/pygments.py'>,\n",
       " 'prompt_toolkit.formatted_text.utils': <module 'prompt_toolkit.formatted_text.utils' from '/home/carl/anaconda3/lib/python3.9/site-packages/prompt_toolkit/formatted_text/utils.py'>,\n",
       " 'prompt_toolkit.formatted_text': <module 'prompt_toolkit.formatted_text' from '/home/carl/anaconda3/lib/python3.9/site-packages/prompt_toolkit/formatted_text/__init__.py'>,\n",
       " 'prompt_toolkit.completion.base': <module 'prompt_toolkit.completion.base' from '/home/carl/anaconda3/lib/python3.9/site-packages/prompt_toolkit/completion/base.py'>,\n",
       " 'prompt_toolkit.completion.deduplicate': <module 'prompt_toolkit.completion.deduplicate' from '/home/carl/anaconda3/lib/python3.9/site-packages/prompt_toolkit/completion/deduplicate.py'>,\n",
       " 'prompt_toolkit.completion.filesystem': <module 'prompt_toolkit.completion.filesystem' from '/home/carl/anaconda3/lib/python3.9/site-packages/prompt_toolkit/completion/filesystem.py'>,\n",
       " 'prompt_toolkit.completion.word_completer': <module 'prompt_toolkit.completion.word_completer' from '/home/carl/anaconda3/lib/python3.9/site-packages/prompt_toolkit/completion/word_completer.py'>,\n",
       " 'prompt_toolkit.completion.fuzzy_completer': <module 'prompt_toolkit.completion.fuzzy_completer' from '/home/carl/anaconda3/lib/python3.9/site-packages/prompt_toolkit/completion/fuzzy_completer.py'>,\n",
       " 'prompt_toolkit.completion.nested': <module 'prompt_toolkit.completion.nested' from '/home/carl/anaconda3/lib/python3.9/site-packages/prompt_toolkit/completion/nested.py'>,\n",
       " 'prompt_toolkit.completion': <module 'prompt_toolkit.completion' from '/home/carl/anaconda3/lib/python3.9/site-packages/prompt_toolkit/completion/__init__.py'>,\n",
       " 'prompt_toolkit.history': <module 'prompt_toolkit.history' from '/home/carl/anaconda3/lib/python3.9/site-packages/prompt_toolkit/history.py'>,\n",
       " 'prompt_toolkit.keys': <module 'prompt_toolkit.keys' from '/home/carl/anaconda3/lib/python3.9/site-packages/prompt_toolkit/keys.py'>,\n",
       " 'prompt_toolkit.key_binding.key_bindings': <module 'prompt_toolkit.key_binding.key_bindings' from '/home/carl/anaconda3/lib/python3.9/site-packages/prompt_toolkit/key_binding/key_bindings.py'>,\n",
       " 'prompt_toolkit.key_binding.key_processor': <module 'prompt_toolkit.key_binding.key_processor' from '/home/carl/anaconda3/lib/python3.9/site-packages/prompt_toolkit/key_binding/key_processor.py'>,\n",
       " 'prompt_toolkit.key_binding': <module 'prompt_toolkit.key_binding' from '/home/carl/anaconda3/lib/python3.9/site-packages/prompt_toolkit/key_binding/__init__.py'>,\n",
       " 'prompt_toolkit.key_binding.vi_state': <module 'prompt_toolkit.key_binding.vi_state' from '/home/carl/anaconda3/lib/python3.9/site-packages/prompt_toolkit/key_binding/vi_state.py'>,\n",
       " 'prompt_toolkit.search': <module 'prompt_toolkit.search' from '/home/carl/anaconda3/lib/python3.9/site-packages/prompt_toolkit/search.py'>,\n",
       " 'prompt_toolkit.validation': <module 'prompt_toolkit.validation' from '/home/carl/anaconda3/lib/python3.9/site-packages/prompt_toolkit/validation.py'>,\n",
       " 'prompt_toolkit.buffer': <module 'prompt_toolkit.buffer' from '/home/carl/anaconda3/lib/python3.9/site-packages/prompt_toolkit/buffer.py'>,\n",
       " 'prompt_toolkit.input.base': <module 'prompt_toolkit.input.base' from '/home/carl/anaconda3/lib/python3.9/site-packages/prompt_toolkit/input/base.py'>,\n",
       " 'prompt_toolkit.input.defaults': <module 'prompt_toolkit.input.defaults' from '/home/carl/anaconda3/lib/python3.9/site-packages/prompt_toolkit/input/defaults.py'>,\n",
       " 'prompt_toolkit.input': <module 'prompt_toolkit.input' from '/home/carl/anaconda3/lib/python3.9/site-packages/prompt_toolkit/input/__init__.py'>,\n",
       " 'prompt_toolkit.input.typeahead': <module 'prompt_toolkit.input.typeahead' from '/home/carl/anaconda3/lib/python3.9/site-packages/prompt_toolkit/input/typeahead.py'>,\n",
       " 'prompt_toolkit.key_binding.bindings': <module 'prompt_toolkit.key_binding.bindings' from '/home/carl/anaconda3/lib/python3.9/site-packages/prompt_toolkit/key_binding/bindings/__init__.py'>,\n",
       " 'prompt_toolkit.key_binding.bindings.scroll': <module 'prompt_toolkit.key_binding.bindings.scroll' from '/home/carl/anaconda3/lib/python3.9/site-packages/prompt_toolkit/key_binding/bindings/scroll.py'>,\n",
       " 'prompt_toolkit.key_binding.bindings.page_navigation': <module 'prompt_toolkit.key_binding.bindings.page_navigation' from '/home/carl/anaconda3/lib/python3.9/site-packages/prompt_toolkit/key_binding/bindings/page_navigation.py'>,\n",
       " 'prompt_toolkit.lexers.base': <module 'prompt_toolkit.lexers.base' from '/home/carl/anaconda3/lib/python3.9/site-packages/prompt_toolkit/lexers/base.py'>,\n",
       " 'prompt_toolkit.lexers.pygments': <module 'prompt_toolkit.lexers.pygments' from '/home/carl/anaconda3/lib/python3.9/site-packages/prompt_toolkit/lexers/pygments.py'>,\n",
       " 'prompt_toolkit.lexers': <module 'prompt_toolkit.lexers' from '/home/carl/anaconda3/lib/python3.9/site-packages/prompt_toolkit/lexers/__init__.py'>,\n",
       " 'prompt_toolkit.layout.utils': <module 'prompt_toolkit.layout.utils' from '/home/carl/anaconda3/lib/python3.9/site-packages/prompt_toolkit/layout/utils.py'>,\n",
       " 'prompt_toolkit.layout.processors': <module 'prompt_toolkit.layout.processors' from '/home/carl/anaconda3/lib/python3.9/site-packages/prompt_toolkit/layout/processors.py'>,\n",
       " 'prompt_toolkit.layout.controls': <module 'prompt_toolkit.layout.controls' from '/home/carl/anaconda3/lib/python3.9/site-packages/prompt_toolkit/layout/controls.py'>,\n",
       " 'prompt_toolkit.layout.dimension': <module 'prompt_toolkit.layout.dimension' from '/home/carl/anaconda3/lib/python3.9/site-packages/prompt_toolkit/layout/dimension.py'>,\n",
       " 'prompt_toolkit.layout.margins': <module 'prompt_toolkit.layout.margins' from '/home/carl/anaconda3/lib/python3.9/site-packages/prompt_toolkit/layout/margins.py'>,\n",
       " 'prompt_toolkit.layout.mouse_handlers': <module 'prompt_toolkit.layout.mouse_handlers' from '/home/carl/anaconda3/lib/python3.9/site-packages/prompt_toolkit/layout/mouse_handlers.py'>,\n",
       " 'prompt_toolkit.layout.screen': <module 'prompt_toolkit.layout.screen' from '/home/carl/anaconda3/lib/python3.9/site-packages/prompt_toolkit/layout/screen.py'>,\n",
       " 'prompt_toolkit.layout.containers': <module 'prompt_toolkit.layout.containers' from '/home/carl/anaconda3/lib/python3.9/site-packages/prompt_toolkit/layout/containers.py'>,\n",
       " 'prompt_toolkit.layout.layout': <module 'prompt_toolkit.layout.layout' from '/home/carl/anaconda3/lib/python3.9/site-packages/prompt_toolkit/layout/layout.py'>,\n",
       " 'prompt_toolkit.layout.menus': <module 'prompt_toolkit.layout.menus' from '/home/carl/anaconda3/lib/python3.9/site-packages/prompt_toolkit/layout/menus.py'>,\n",
       " 'prompt_toolkit.layout.scrollable_pane': <module 'prompt_toolkit.layout.scrollable_pane' from '/home/carl/anaconda3/lib/python3.9/site-packages/prompt_toolkit/layout/scrollable_pane.py'>,\n",
       " 'prompt_toolkit.layout': <module 'prompt_toolkit.layout' from '/home/carl/anaconda3/lib/python3.9/site-packages/prompt_toolkit/layout/__init__.py'>,\n",
       " 'prompt_toolkit.key_binding.bindings.completion': <module 'prompt_toolkit.key_binding.bindings.completion' from '/home/carl/anaconda3/lib/python3.9/site-packages/prompt_toolkit/key_binding/bindings/completion.py'>,\n",
       " 'prompt_toolkit.key_binding.bindings.named_commands': <module 'prompt_toolkit.key_binding.bindings.named_commands' from '/home/carl/anaconda3/lib/python3.9/site-packages/prompt_toolkit/key_binding/bindings/named_commands.py'>,\n",
       " 'prompt_toolkit.key_binding.bindings.basic': <module 'prompt_toolkit.key_binding.bindings.basic' from '/home/carl/anaconda3/lib/python3.9/site-packages/prompt_toolkit/key_binding/bindings/basic.py'>,\n",
       " 'prompt_toolkit.key_binding.bindings.cpr': <module 'prompt_toolkit.key_binding.bindings.cpr' from '/home/carl/anaconda3/lib/python3.9/site-packages/prompt_toolkit/key_binding/bindings/cpr.py'>,\n",
       " 'prompt_toolkit.key_binding.bindings.emacs': <module 'prompt_toolkit.key_binding.bindings.emacs' from '/home/carl/anaconda3/lib/python3.9/site-packages/prompt_toolkit/key_binding/bindings/emacs.py'>,\n",
       " 'prompt_toolkit.key_binding.bindings.mouse': <module 'prompt_toolkit.key_binding.bindings.mouse' from '/home/carl/anaconda3/lib/python3.9/site-packages/prompt_toolkit/key_binding/bindings/mouse.py'>,\n",
       " 'prompt_toolkit.input.ansi_escape_sequences': <module 'prompt_toolkit.input.ansi_escape_sequences' from '/home/carl/anaconda3/lib/python3.9/site-packages/prompt_toolkit/input/ansi_escape_sequences.py'>,\n",
       " 'prompt_toolkit.input.vt100_parser': <module 'prompt_toolkit.input.vt100_parser' from '/home/carl/anaconda3/lib/python3.9/site-packages/prompt_toolkit/input/vt100_parser.py'>,\n",
       " 'prompt_toolkit.key_binding.digraphs': <module 'prompt_toolkit.key_binding.digraphs' from '/home/carl/anaconda3/lib/python3.9/site-packages/prompt_toolkit/key_binding/digraphs.py'>,\n",
       " 'prompt_toolkit.key_binding.bindings.vi': <module 'prompt_toolkit.key_binding.bindings.vi' from '/home/carl/anaconda3/lib/python3.9/site-packages/prompt_toolkit/key_binding/bindings/vi.py'>,\n",
       " 'prompt_toolkit.key_binding.defaults': <module 'prompt_toolkit.key_binding.defaults' from '/home/carl/anaconda3/lib/python3.9/site-packages/prompt_toolkit/key_binding/defaults.py'>,\n",
       " 'prompt_toolkit.key_binding.emacs_state': <module 'prompt_toolkit.key_binding.emacs_state' from '/home/carl/anaconda3/lib/python3.9/site-packages/prompt_toolkit/key_binding/emacs_state.py'>,\n",
       " 'prompt_toolkit.layout.dummy': <module 'prompt_toolkit.layout.dummy' from '/home/carl/anaconda3/lib/python3.9/site-packages/prompt_toolkit/layout/dummy.py'>,\n",
       " 'prompt_toolkit.renderer': <module 'prompt_toolkit.renderer' from '/home/carl/anaconda3/lib/python3.9/site-packages/prompt_toolkit/renderer.py'>,\n",
       " 'prompt_toolkit.application.application': <module 'prompt_toolkit.application.application' from '/home/carl/anaconda3/lib/python3.9/site-packages/prompt_toolkit/application/application.py'>,\n",
       " 'prompt_toolkit.application.dummy': <module 'prompt_toolkit.application.dummy' from '/home/carl/anaconda3/lib/python3.9/site-packages/prompt_toolkit/application/dummy.py'>,\n",
       " 'prompt_toolkit.application': <module 'prompt_toolkit.application' from '/home/carl/anaconda3/lib/python3.9/site-packages/prompt_toolkit/application/__init__.py'>,\n",
       " 'prompt_toolkit.key_binding.bindings.focus': <module 'prompt_toolkit.key_binding.bindings.focus' from '/home/carl/anaconda3/lib/python3.9/site-packages/prompt_toolkit/key_binding/bindings/focus.py'>,\n",
       " 'prompt_toolkit.widgets.toolbars': <module 'prompt_toolkit.widgets.toolbars' from '/home/carl/anaconda3/lib/python3.9/site-packages/prompt_toolkit/widgets/toolbars.py'>,\n",
       " 'prompt_toolkit.widgets.base': <module 'prompt_toolkit.widgets.base' from '/home/carl/anaconda3/lib/python3.9/site-packages/prompt_toolkit/widgets/base.py'>,\n",
       " 'prompt_toolkit.widgets.dialogs': <module 'prompt_toolkit.widgets.dialogs' from '/home/carl/anaconda3/lib/python3.9/site-packages/prompt_toolkit/widgets/dialogs.py'>,\n",
       " 'prompt_toolkit.widgets.menus': <module 'prompt_toolkit.widgets.menus' from '/home/carl/anaconda3/lib/python3.9/site-packages/prompt_toolkit/widgets/menus.py'>,\n",
       " 'prompt_toolkit.widgets': <module 'prompt_toolkit.widgets' from '/home/carl/anaconda3/lib/python3.9/site-packages/prompt_toolkit/widgets/__init__.py'>,\n",
       " 'prompt_toolkit.shortcuts.dialogs': <module 'prompt_toolkit.shortcuts.dialogs' from '/home/carl/anaconda3/lib/python3.9/site-packages/prompt_toolkit/shortcuts/dialogs.py'>,\n",
       " 'prompt_toolkit.shortcuts.progress_bar.formatters': <module 'prompt_toolkit.shortcuts.progress_bar.formatters' from '/home/carl/anaconda3/lib/python3.9/site-packages/prompt_toolkit/shortcuts/progress_bar/formatters.py'>,\n",
       " 'prompt_toolkit.shortcuts.progress_bar.base': <module 'prompt_toolkit.shortcuts.progress_bar.base' from '/home/carl/anaconda3/lib/python3.9/site-packages/prompt_toolkit/shortcuts/progress_bar/base.py'>,\n",
       " 'prompt_toolkit.shortcuts.progress_bar': <module 'prompt_toolkit.shortcuts.progress_bar' from '/home/carl/anaconda3/lib/python3.9/site-packages/prompt_toolkit/shortcuts/progress_bar/__init__.py'>,\n",
       " 'prompt_toolkit.key_binding.bindings.auto_suggest': <module 'prompt_toolkit.key_binding.bindings.auto_suggest' from '/home/carl/anaconda3/lib/python3.9/site-packages/prompt_toolkit/key_binding/bindings/auto_suggest.py'>,\n",
       " 'prompt_toolkit.key_binding.bindings.open_in_editor': <module 'prompt_toolkit.key_binding.bindings.open_in_editor' from '/home/carl/anaconda3/lib/python3.9/site-packages/prompt_toolkit/key_binding/bindings/open_in_editor.py'>,\n",
       " 'prompt_toolkit.shortcuts.prompt': <module 'prompt_toolkit.shortcuts.prompt' from '/home/carl/anaconda3/lib/python3.9/site-packages/prompt_toolkit/shortcuts/prompt.py'>,\n",
       " 'prompt_toolkit.shortcuts.utils': <module 'prompt_toolkit.shortcuts.utils' from '/home/carl/anaconda3/lib/python3.9/site-packages/prompt_toolkit/shortcuts/utils.py'>,\n",
       " 'prompt_toolkit.shortcuts': <module 'prompt_toolkit.shortcuts' from '/home/carl/anaconda3/lib/python3.9/site-packages/prompt_toolkit/shortcuts/__init__.py'>,\n",
       " 'prompt_toolkit': <module 'prompt_toolkit' from '/home/carl/anaconda3/lib/python3.9/site-packages/prompt_toolkit/__init__.py'>,\n",
       " 'prompt_toolkit.patch_stdout': <module 'prompt_toolkit.patch_stdout' from '/home/carl/anaconda3/lib/python3.9/site-packages/prompt_toolkit/patch_stdout.py'>,\n",
       " 'unicodedata': <module 'unicodedata' from '/home/carl/anaconda3/lib/python3.9/lib-dynload/unicodedata.cpython-39-x86_64-linux-gnu.so'>,\n",
       " 'IPython.core.latex_symbols': <module 'IPython.core.latex_symbols' from '/home/carl/anaconda3/lib/python3.9/site-packages/IPython/core/latex_symbols.py'>,\n",
       " 'IPython.utils.generics': <module 'IPython.utils.generics' from '/home/carl/anaconda3/lib/python3.9/site-packages/IPython/utils/generics.py'>,\n",
       " 'parso.utils': <module 'parso.utils' from '/home/carl/anaconda3/lib/python3.9/site-packages/parso/utils.py'>,\n",
       " 'parso.tree': <module 'parso.tree' from '/home/carl/anaconda3/lib/python3.9/site-packages/parso/tree.py'>,\n",
       " 'parso.python': <module 'parso.python' from '/home/carl/anaconda3/lib/python3.9/site-packages/parso/python/__init__.py'>,\n",
       " 'parso.python.token': <module 'parso.python.token' from '/home/carl/anaconda3/lib/python3.9/site-packages/parso/python/token.py'>,\n",
       " 'parso.python.tokenize': <module 'parso.python.tokenize' from '/home/carl/anaconda3/lib/python3.9/site-packages/parso/python/tokenize.py'>,\n",
       " 'parso.pgen2.grammar_parser': <module 'parso.pgen2.grammar_parser' from '/home/carl/anaconda3/lib/python3.9/site-packages/parso/pgen2/grammar_parser.py'>,\n",
       " 'parso.pgen2.generator': <module 'parso.pgen2.generator' from '/home/carl/anaconda3/lib/python3.9/site-packages/parso/pgen2/generator.py'>,\n",
       " 'parso.pgen2': <module 'parso.pgen2' from '/home/carl/anaconda3/lib/python3.9/site-packages/parso/pgen2/__init__.py'>,\n",
       " 'parso.parser': <module 'parso.parser' from '/home/carl/anaconda3/lib/python3.9/site-packages/parso/parser.py'>,\n",
       " 'parso._compatibility': <module 'parso._compatibility' from '/home/carl/anaconda3/lib/python3.9/site-packages/parso/_compatibility.py'>,\n",
       " 'difflib': <module 'difflib' from '/home/carl/anaconda3/lib/python3.9/difflib.py'>,\n",
       " 'parso.python.prefix': <module 'parso.python.prefix' from '/home/carl/anaconda3/lib/python3.9/site-packages/parso/python/prefix.py'>,\n",
       " 'parso.python.tree': <module 'parso.python.tree' from '/home/carl/anaconda3/lib/python3.9/site-packages/parso/python/tree.py'>,\n",
       " 'parso.python.parser': <module 'parso.python.parser' from '/home/carl/anaconda3/lib/python3.9/site-packages/parso/python/parser.py'>,\n",
       " 'parso.python.diff': <module 'parso.python.diff' from '/home/carl/anaconda3/lib/python3.9/site-packages/parso/python/diff.py'>,\n",
       " 'gc': <module 'gc' (built-in)>,\n",
       " 'parso.cache': <module 'parso.cache' from '/home/carl/anaconda3/lib/python3.9/site-packages/parso/cache.py'>,\n",
       " 'parso.normalizer': <module 'parso.normalizer' from '/home/carl/anaconda3/lib/python3.9/site-packages/parso/normalizer.py'>,\n",
       " 'parso.python.errors': <module 'parso.python.errors' from '/home/carl/anaconda3/lib/python3.9/site-packages/parso/python/errors.py'>,\n",
       " 'parso.python.pep8': <module 'parso.python.pep8' from '/home/carl/anaconda3/lib/python3.9/site-packages/parso/python/pep8.py'>,\n",
       " 'parso.file_io': <module 'parso.file_io' from '/home/carl/anaconda3/lib/python3.9/site-packages/parso/file_io.py'>,\n",
       " 'parso.grammar': <module 'parso.grammar' from '/home/carl/anaconda3/lib/python3.9/site-packages/parso/grammar.py'>,\n",
       " 'parso': <module 'parso' from '/home/carl/anaconda3/lib/python3.9/site-packages/parso/__init__.py'>,\n",
       " 'jedi.parser_utils': <module 'jedi.parser_utils' from '/home/carl/anaconda3/lib/python3.9/site-packages/jedi/parser_utils.py'>,\n",
       " 'jedi.debug': <module 'jedi.debug' from '/home/carl/anaconda3/lib/python3.9/site-packages/jedi/debug.py'>,\n",
       " 'jedi.settings': <module 'jedi.settings' from '/home/carl/anaconda3/lib/python3.9/site-packages/jedi/settings.py'>,\n",
       " 'jedi.cache': <module 'jedi.cache' from '/home/carl/anaconda3/lib/python3.9/site-packages/jedi/cache.py'>,\n",
       " 'jedi.file_io': <module 'jedi.file_io' from '/home/carl/anaconda3/lib/python3.9/site-packages/jedi/file_io.py'>,\n",
       " 'jedi.inference.cache': <module 'jedi.inference.cache' from '/home/carl/anaconda3/lib/python3.9/site-packages/jedi/inference/cache.py'>,\n",
       " 'jedi.inference.helpers': <module 'jedi.inference.helpers' from '/home/carl/anaconda3/lib/python3.9/site-packages/jedi/inference/helpers.py'>,\n",
       " 'jedi.inference.utils': <module 'jedi.inference.utils' from '/home/carl/anaconda3/lib/python3.9/site-packages/jedi/inference/utils.py'>,\n",
       " 'jedi.inference.base_value': <module 'jedi.inference.base_value' from '/home/carl/anaconda3/lib/python3.9/site-packages/jedi/inference/base_value.py'>,\n",
       " 'jedi.inference.sys_path': <module 'jedi.inference.sys_path' from '/home/carl/anaconda3/lib/python3.9/site-packages/jedi/inference/sys_path.py'>,\n",
       " 'jedi.inference.recursion': <module 'jedi.inference.recursion' from '/home/carl/anaconda3/lib/python3.9/site-packages/jedi/inference/recursion.py'>,\n",
       " 'jedi.inference.flow_analysis': <module 'jedi.inference.flow_analysis' from '/home/carl/anaconda3/lib/python3.9/site-packages/jedi/inference/flow_analysis.py'>,\n",
       " 'jedi.common': <module 'jedi.common' from '/home/carl/anaconda3/lib/python3.9/site-packages/jedi/common.py'>,\n",
       " 'jedi.inference.lazy_value': <module 'jedi.inference.lazy_value' from '/home/carl/anaconda3/lib/python3.9/site-packages/jedi/inference/lazy_value.py'>,\n",
       " 'jedi.inference.docstrings': <module 'jedi.inference.docstrings' from '/home/carl/anaconda3/lib/python3.9/site-packages/jedi/inference/docstrings.py'>,\n",
       " 'jedi.plugins': <module 'jedi.plugins' from '/home/carl/anaconda3/lib/python3.9/site-packages/jedi/plugins/__init__.py'>,\n",
       " 'jedi.inference.names': <module 'jedi.inference.names' from '/home/carl/anaconda3/lib/python3.9/site-packages/jedi/inference/names.py'>,\n",
       " 'jedi.inference.filters': <module 'jedi.inference.filters' from '/home/carl/anaconda3/lib/python3.9/site-packages/jedi/inference/filters.py'>,\n",
       " 'jedi.inference.compiled.getattr_static': <module 'jedi.inference.compiled.getattr_static' from '/home/carl/anaconda3/lib/python3.9/site-packages/jedi/inference/compiled/getattr_static.py'>,\n",
       " 'jedi.inference.compiled.access': <module 'jedi.inference.compiled.access' from '/home/carl/anaconda3/lib/python3.9/site-packages/jedi/inference/compiled/access.py'>,\n",
       " 'jedi.inference.signature': <module 'jedi.inference.signature' from '/home/carl/anaconda3/lib/python3.9/site-packages/jedi/inference/signature.py'>,\n",
       " 'jedi.inference.context': <module 'jedi.inference.context' from '/home/carl/anaconda3/lib/python3.9/site-packages/jedi/inference/context.py'>,\n",
       " 'jedi.inference.compiled.value': <module 'jedi.inference.compiled.value' from '/home/carl/anaconda3/lib/python3.9/site-packages/jedi/inference/compiled/value.py'>,\n",
       " 'jedi.inference.compiled': <module 'jedi.inference.compiled' from '/home/carl/anaconda3/lib/python3.9/site-packages/jedi/inference/compiled/__init__.py'>,\n",
       " 'jedi.inference.analysis': <module 'jedi.inference.analysis' from '/home/carl/anaconda3/lib/python3.9/site-packages/jedi/inference/analysis.py'>,\n",
       " 'jedi.inference.gradual': <module 'jedi.inference.gradual' from '/home/carl/anaconda3/lib/python3.9/site-packages/jedi/inference/gradual/__init__.py'>,\n",
       " 'jedi.inference.value.module': <module 'jedi.inference.value.module' from '/home/carl/anaconda3/lib/python3.9/site-packages/jedi/inference/value/module.py'>,\n",
       " 'jedi.inference.value.dynamic_arrays': <module 'jedi.inference.value.dynamic_arrays' from '/home/carl/anaconda3/lib/python3.9/site-packages/jedi/inference/value/dynamic_arrays.py'>,\n",
       " 'jedi.inference.value.iterable': <module 'jedi.inference.value.iterable' from '/home/carl/anaconda3/lib/python3.9/site-packages/jedi/inference/value/iterable.py'>,\n",
       " 'jedi.inference.arguments': <module 'jedi.inference.arguments' from '/home/carl/anaconda3/lib/python3.9/site-packages/jedi/inference/arguments.py'>,\n",
       " 'jedi.inference.parser_cache': <module 'jedi.inference.parser_cache' from '/home/carl/anaconda3/lib/python3.9/site-packages/jedi/inference/parser_cache.py'>,\n",
       " 'jedi.inference.gradual.generics': <module 'jedi.inference.gradual.generics' from '/home/carl/anaconda3/lib/python3.9/site-packages/jedi/inference/gradual/generics.py'>,\n",
       " 'jedi.inference.value.function': <module 'jedi.inference.value.function' from '/home/carl/anaconda3/lib/python3.9/site-packages/jedi/inference/value/function.py'>,\n",
       " 'jedi.inference.value.klass': <module 'jedi.inference.value.klass' from '/home/carl/anaconda3/lib/python3.9/site-packages/jedi/inference/value/klass.py'>,\n",
       " 'jedi.inference.value.instance': <module 'jedi.inference.value.instance' from '/home/carl/anaconda3/lib/python3.9/site-packages/jedi/inference/value/instance.py'>,\n",
       " 'jedi.inference.value': <module 'jedi.inference.value' from '/home/carl/anaconda3/lib/python3.9/site-packages/jedi/inference/value/__init__.py'>,\n",
       " 'jedi.inference.gradual.base': <module 'jedi.inference.gradual.base' from '/home/carl/anaconda3/lib/python3.9/site-packages/jedi/inference/gradual/base.py'>,\n",
       " 'jedi.inference.gradual.type_var': <module 'jedi.inference.gradual.type_var' from '/home/carl/anaconda3/lib/python3.9/site-packages/jedi/inference/gradual/type_var.py'>,\n",
       " 'jedi.inference.gradual.typing': <module 'jedi.inference.gradual.typing' from '/home/carl/anaconda3/lib/python3.9/site-packages/jedi/inference/gradual/typing.py'>,\n",
       " 'jedi.inference.gradual.stub_value': <module 'jedi.inference.gradual.stub_value' from '/home/carl/anaconda3/lib/python3.9/site-packages/jedi/inference/gradual/stub_value.py'>,\n",
       " 'jedi.inference.gradual.typeshed': <module 'jedi.inference.gradual.typeshed' from '/home/carl/anaconda3/lib/python3.9/site-packages/jedi/inference/gradual/typeshed.py'>,\n",
       " 'jedi._compatibility': <module 'jedi._compatibility' from '/home/carl/anaconda3/lib/python3.9/site-packages/jedi/_compatibility.py'>,\n",
       " 'zipfile': <module 'zipfile' from '/home/carl/anaconda3/lib/python3.9/zipfile.py'>,\n",
       " 'jedi.inference.compiled.subprocess.functions': <module 'jedi.inference.compiled.subprocess.functions' from '/home/carl/anaconda3/lib/python3.9/site-packages/jedi/inference/compiled/subprocess/functions.py'>,\n",
       " 'jedi.api.exceptions': <module 'jedi.api.exceptions' from '/home/carl/anaconda3/lib/python3.9/site-packages/jedi/api/exceptions.py'>,\n",
       " 'jedi.inference.compiled.subprocess': <module 'jedi.inference.compiled.subprocess' from '/home/carl/anaconda3/lib/python3.9/site-packages/jedi/inference/compiled/subprocess/__init__.py'>,\n",
       " 'jedi.inference.imports': <module 'jedi.inference.imports' from '/home/carl/anaconda3/lib/python3.9/site-packages/jedi/inference/imports.py'>,\n",
       " 'jedi.inference.param': <module 'jedi.inference.param' from '/home/carl/anaconda3/lib/python3.9/site-packages/jedi/inference/param.py'>,\n",
       " 'jedi.inference.gradual.annotation': <module 'jedi.inference.gradual.annotation' from '/home/carl/anaconda3/lib/python3.9/site-packages/jedi/inference/gradual/annotation.py'>,\n",
       " 'jedi.inference.value.decorator': <module 'jedi.inference.value.decorator' from '/home/carl/anaconda3/lib/python3.9/site-packages/jedi/inference/value/decorator.py'>,\n",
       " 'jedi.inference.syntax_tree': <module 'jedi.inference.syntax_tree' from '/home/carl/anaconda3/lib/python3.9/site-packages/jedi/inference/syntax_tree.py'>,\n",
       " 'jedi.inference': <module 'jedi.inference' from '/home/carl/anaconda3/lib/python3.9/site-packages/jedi/inference/__init__.py'>,\n",
       " 'jedi.inference.gradual.conversion': <module 'jedi.inference.gradual.conversion' from '/home/carl/anaconda3/lib/python3.9/site-packages/jedi/inference/gradual/conversion.py'>,\n",
       " 'jedi.inference.compiled.mixed': <module 'jedi.inference.compiled.mixed' from '/home/carl/anaconda3/lib/python3.9/site-packages/jedi/inference/compiled/mixed.py'>,\n",
       " 'pydoc_data': <module 'pydoc_data' from '/home/carl/anaconda3/lib/python3.9/pydoc_data/__init__.py'>,\n",
       " 'pydoc_data.topics': <module 'pydoc_data.topics' from '/home/carl/anaconda3/lib/python3.9/pydoc_data/topics.py'>,\n",
       " 'jedi.api.keywords': <module 'jedi.api.keywords' from '/home/carl/anaconda3/lib/python3.9/site-packages/jedi/api/keywords.py'>,\n",
       " 'jedi.api.completion_cache': <module 'jedi.api.completion_cache' from '/home/carl/anaconda3/lib/python3.9/site-packages/jedi/api/completion_cache.py'>,\n",
       " 'jedi.api.helpers': <module 'jedi.api.helpers' from '/home/carl/anaconda3/lib/python3.9/site-packages/jedi/api/helpers.py'>,\n",
       " 'jedi.api.classes': <module 'jedi.api.classes' from '/home/carl/anaconda3/lib/python3.9/site-packages/jedi/api/classes.py'>,\n",
       " 'jedi.api.interpreter': <module 'jedi.api.interpreter' from '/home/carl/anaconda3/lib/python3.9/site-packages/jedi/api/interpreter.py'>,\n",
       " 'jedi.api.strings': <module 'jedi.api.strings' from '/home/carl/anaconda3/lib/python3.9/site-packages/jedi/api/strings.py'>,\n",
       " 'jedi.api.file_name': <module 'jedi.api.file_name' from '/home/carl/anaconda3/lib/python3.9/site-packages/jedi/api/file_name.py'>,\n",
       " 'jedi.inference.docstring_utils': <module 'jedi.inference.docstring_utils' from '/home/carl/anaconda3/lib/python3.9/site-packages/jedi/inference/docstring_utils.py'>,\n",
       " 'jedi.api.completion': <module 'jedi.api.completion' from '/home/carl/anaconda3/lib/python3.9/site-packages/jedi/api/completion.py'>,\n",
       " 'filecmp': <module 'filecmp' from '/home/carl/anaconda3/lib/python3.9/filecmp.py'>,\n",
       " 'jedi.api.environment': <module 'jedi.api.environment' from '/home/carl/anaconda3/lib/python3.9/site-packages/jedi/api/environment.py'>,\n",
       " 'jedi.inference.references': <module 'jedi.inference.references' from '/home/carl/anaconda3/lib/python3.9/site-packages/jedi/inference/references.py'>,\n",
       " 'jedi.api.project': <module 'jedi.api.project' from '/home/carl/anaconda3/lib/python3.9/site-packages/jedi/api/project.py'>,\n",
       " 'jedi.api.errors': <module 'jedi.api.errors' from '/home/carl/anaconda3/lib/python3.9/site-packages/jedi/api/errors.py'>,\n",
       " 'jedi.api.refactoring': <module 'jedi.api.refactoring' from '/home/carl/anaconda3/lib/python3.9/site-packages/jedi/api/refactoring/__init__.py'>,\n",
       " 'jedi.api.refactoring.extract': <module 'jedi.api.refactoring.extract' from '/home/carl/anaconda3/lib/python3.9/site-packages/jedi/api/refactoring/extract.py'>,\n",
       " 'jedi.inference.gradual.utils': <module 'jedi.inference.gradual.utils' from '/home/carl/anaconda3/lib/python3.9/site-packages/jedi/inference/gradual/utils.py'>,\n",
       " 'jedi.api': <module 'jedi.api' from '/home/carl/anaconda3/lib/python3.9/site-packages/jedi/api/__init__.py'>,\n",
       " 'jedi.plugins.stdlib': <module 'jedi.plugins.stdlib' from '/home/carl/anaconda3/lib/python3.9/site-packages/jedi/plugins/stdlib.py'>,\n",
       " 'jedi.plugins.flask': <module 'jedi.plugins.flask' from '/home/carl/anaconda3/lib/python3.9/site-packages/jedi/plugins/flask.py'>,\n",
       " 'jedi.plugins.pytest': <module 'jedi.plugins.pytest' from '/home/carl/anaconda3/lib/python3.9/site-packages/jedi/plugins/pytest.py'>,\n",
       " 'jedi.plugins.django': <module 'jedi.plugins.django' from '/home/carl/anaconda3/lib/python3.9/site-packages/jedi/plugins/django.py'>,\n",
       " 'jedi.plugins.registry': <module 'jedi.plugins.registry' from '/home/carl/anaconda3/lib/python3.9/site-packages/jedi/plugins/registry.py'>,\n",
       " 'jedi': <module 'jedi' from '/home/carl/anaconda3/lib/python3.9/site-packages/jedi/__init__.py'>,\n",
       " 'IPython.core.completer': <module 'IPython.core.completer' from '/home/carl/anaconda3/lib/python3.9/site-packages/IPython/core/completer.py'>,\n",
       " 'IPython.terminal.ptutils': <module 'IPython.terminal.ptutils' from '/home/carl/anaconda3/lib/python3.9/site-packages/IPython/terminal/ptutils.py'>,\n",
       " 'IPython.terminal.shortcuts': <module 'IPython.terminal.shortcuts' from '/home/carl/anaconda3/lib/python3.9/site-packages/IPython/terminal/shortcuts.py'>,\n",
       " 'concurrent.futures.thread': <module 'concurrent.futures.thread' from '/home/carl/anaconda3/lib/python3.9/concurrent/futures/thread.py'>,\n",
       " 'IPython.terminal.debugger': <module 'IPython.terminal.debugger' from '/home/carl/anaconda3/lib/python3.9/site-packages/IPython/terminal/debugger.py'>,\n",
       " 'IPython.lib.clipboard': <module 'IPython.lib.clipboard' from '/home/carl/anaconda3/lib/python3.9/site-packages/IPython/lib/clipboard.py'>,\n",
       " 'IPython.terminal.magics': <module 'IPython.terminal.magics' from '/home/carl/anaconda3/lib/python3.9/site-packages/IPython/terminal/magics.py'>,\n",
       " 'IPython.terminal.pt_inputhooks': <module 'IPython.terminal.pt_inputhooks' from '/home/carl/anaconda3/lib/python3.9/site-packages/IPython/terminal/pt_inputhooks/__init__.py'>,\n",
       " 'IPython.terminal.prompts': <module 'IPython.terminal.prompts' from '/home/carl/anaconda3/lib/python3.9/site-packages/IPython/terminal/prompts.py'>,\n",
       " 'IPython.terminal.interactiveshell': <module 'IPython.terminal.interactiveshell' from '/home/carl/anaconda3/lib/python3.9/site-packages/IPython/terminal/interactiveshell.py'>,\n",
       " 'IPython.core.magics.auto': <module 'IPython.core.magics.auto' from '/home/carl/anaconda3/lib/python3.9/site-packages/IPython/core/magics/auto.py'>,\n",
       " 'IPython.core.magics.basic': <module 'IPython.core.magics.basic' from '/home/carl/anaconda3/lib/python3.9/site-packages/IPython/core/magics/basic.py'>,\n",
       " 'email': <module 'email' from '/home/carl/anaconda3/lib/python3.9/email/__init__.py'>,\n",
       " 'http': <module 'http' from '/home/carl/anaconda3/lib/python3.9/http/__init__.py'>,\n",
       " 'email.errors': <module 'email.errors' from '/home/carl/anaconda3/lib/python3.9/email/errors.py'>,\n",
       " 'email.quoprimime': <module 'email.quoprimime' from '/home/carl/anaconda3/lib/python3.9/email/quoprimime.py'>,\n",
       " 'email.base64mime': <module 'email.base64mime' from '/home/carl/anaconda3/lib/python3.9/email/base64mime.py'>,\n",
       " 'quopri': <module 'quopri' from '/home/carl/anaconda3/lib/python3.9/quopri.py'>,\n",
       " 'email.encoders': <module 'email.encoders' from '/home/carl/anaconda3/lib/python3.9/email/encoders.py'>,\n",
       " 'email.charset': <module 'email.charset' from '/home/carl/anaconda3/lib/python3.9/email/charset.py'>,\n",
       " 'email.header': <module 'email.header' from '/home/carl/anaconda3/lib/python3.9/email/header.py'>,\n",
       " 'calendar': <module 'calendar' from '/home/carl/anaconda3/lib/python3.9/calendar.py'>,\n",
       " 'email._parseaddr': <module 'email._parseaddr' from '/home/carl/anaconda3/lib/python3.9/email/_parseaddr.py'>,\n",
       " 'email.utils': <module 'email.utils' from '/home/carl/anaconda3/lib/python3.9/email/utils.py'>,\n",
       " 'email._policybase': <module 'email._policybase' from '/home/carl/anaconda3/lib/python3.9/email/_policybase.py'>,\n",
       " 'email.feedparser': <module 'email.feedparser' from '/home/carl/anaconda3/lib/python3.9/email/feedparser.py'>,\n",
       " 'email.parser': <module 'email.parser' from '/home/carl/anaconda3/lib/python3.9/email/parser.py'>,\n",
       " 'uu': <module 'uu' from '/home/carl/anaconda3/lib/python3.9/uu.py'>,\n",
       " 'email._encoded_words': <module 'email._encoded_words' from '/home/carl/anaconda3/lib/python3.9/email/_encoded_words.py'>,\n",
       " 'email.iterators': <module 'email.iterators' from '/home/carl/anaconda3/lib/python3.9/email/iterators.py'>,\n",
       " 'email.message': <module 'email.message' from '/home/carl/anaconda3/lib/python3.9/email/message.py'>,\n",
       " 'http.client': <module 'http.client' from '/home/carl/anaconda3/lib/python3.9/http/client.py'>,\n",
       " 'urllib.response': <module 'urllib.response' from '/home/carl/anaconda3/lib/python3.9/urllib/response.py'>,\n",
       " 'urllib.error': <module 'urllib.error' from '/home/carl/anaconda3/lib/python3.9/urllib/error.py'>,\n",
       " 'urllib.request': <module 'urllib.request' from '/home/carl/anaconda3/lib/python3.9/urllib/request.py'>,\n",
       " 'IPython.utils.contexts': <module 'IPython.utils.contexts' from '/home/carl/anaconda3/lib/python3.9/site-packages/IPython/utils/contexts.py'>,\n",
       " 'IPython.core.magics.code': <module 'IPython.core.magics.code' from '/home/carl/anaconda3/lib/python3.9/site-packages/IPython/core/magics/code.py'>,\n",
       " 'IPython.core.magics.config': <module 'IPython.core.magics.config' from '/home/carl/anaconda3/lib/python3.9/site-packages/IPython/core/magics/config.py'>,\n",
       " 'IPython.core.magics.display': <module 'IPython.core.magics.display' from '/home/carl/anaconda3/lib/python3.9/site-packages/IPython/core/magics/display.py'>,\n",
       " '_lsprof': <module '_lsprof' from '/home/carl/anaconda3/lib/python3.9/lib-dynload/_lsprof.cpython-39-x86_64-linux-gnu.so'>,\n",
       " 'profile': <module 'profile' from '/home/carl/anaconda3/lib/python3.9/profile.py'>,\n",
       " 'cProfile': <module 'cProfile' from '/home/carl/anaconda3/lib/python3.9/cProfile.py'>,\n",
       " 'dataclasses': <module 'dataclasses' from '/home/carl/anaconda3/lib/python3.9/dataclasses.py'>,\n",
       " 'pstats': <module 'pstats' from '/home/carl/anaconda3/lib/python3.9/pstats.py'>,\n",
       " 'timeit': <module 'timeit' from '/home/carl/anaconda3/lib/python3.9/timeit.py'>,\n",
       " 'IPython.utils.module_paths': <module 'IPython.utils.module_paths' from '/home/carl/anaconda3/lib/python3.9/site-packages/IPython/utils/module_paths.py'>,\n",
       " 'IPython.utils.timing': <module 'IPython.utils.timing' from '/home/carl/anaconda3/lib/python3.9/site-packages/IPython/utils/timing.py'>,\n",
       " 'IPython.core.magics.execution': <module 'IPython.core.magics.execution' from '/home/carl/anaconda3/lib/python3.9/site-packages/IPython/core/magics/execution.py'>,\n",
       " 'IPython.core.magics.extension': <module 'IPython.core.magics.extension' from '/home/carl/anaconda3/lib/python3.9/site-packages/IPython/core/magics/extension.py'>,\n",
       " 'IPython.core.magics.history': <module 'IPython.core.magics.history' from '/home/carl/anaconda3/lib/python3.9/site-packages/IPython/core/magics/history.py'>,\n",
       " 'IPython.core.magics.logging': <module 'IPython.core.magics.logging' from '/home/carl/anaconda3/lib/python3.9/site-packages/IPython/core/magics/logging.py'>,\n",
       " 'IPython.core.magics.namespace': <module 'IPython.core.magics.namespace' from '/home/carl/anaconda3/lib/python3.9/site-packages/IPython/core/magics/namespace.py'>,\n",
       " 'IPython.core.magics.osm': <module 'IPython.core.magics.osm' from '/home/carl/anaconda3/lib/python3.9/site-packages/IPython/core/magics/osm.py'>,\n",
       " 'IPython.core.magics.packaging': <module 'IPython.core.magics.packaging' from '/home/carl/anaconda3/lib/python3.9/site-packages/IPython/core/magics/packaging.py'>,\n",
       " 'IPython.core.pylabtools': <module 'IPython.core.pylabtools' from '/home/carl/anaconda3/lib/python3.9/site-packages/IPython/core/pylabtools.py'>,\n",
       " 'IPython.core.magics.pylab': <module 'IPython.core.magics.pylab' from '/home/carl/anaconda3/lib/python3.9/site-packages/IPython/core/magics/pylab.py'>,\n",
       " 'IPython.core.magics.script': <module 'IPython.core.magics.script' from '/home/carl/anaconda3/lib/python3.9/site-packages/IPython/core/magics/script.py'>,\n",
       " 'IPython.core.magics': <module 'IPython.core.magics' from '/home/carl/anaconda3/lib/python3.9/site-packages/IPython/core/magics/__init__.py'>,\n",
       " 'IPython.core.shellapp': <module 'IPython.core.shellapp' from '/home/carl/anaconda3/lib/python3.9/site-packages/IPython/core/shellapp.py'>,\n",
       " 'IPython.extensions': <module 'IPython.extensions' from '/home/carl/anaconda3/lib/python3.9/site-packages/IPython/extensions/__init__.py'>,\n",
       " 'IPython.extensions.storemagic': <module 'IPython.extensions.storemagic' from '/home/carl/anaconda3/lib/python3.9/site-packages/IPython/extensions/storemagic.py'>,\n",
       " 'IPython.terminal.ipapp': <module 'IPython.terminal.ipapp' from '/home/carl/anaconda3/lib/python3.9/site-packages/IPython/terminal/ipapp.py'>,\n",
       " 'IPython.terminal.embed': <module 'IPython.terminal.embed' from '/home/carl/anaconda3/lib/python3.9/site-packages/IPython/terminal/embed.py'>,\n",
       " 'IPython.utils.frame': <module 'IPython.utils.frame' from '/home/carl/anaconda3/lib/python3.9/site-packages/IPython/utils/frame.py'>,\n",
       " 'IPython': <module 'IPython' from '/home/carl/anaconda3/lib/python3.9/site-packages/IPython/__init__.py'>,\n",
       " 'imp': <module 'imp' from '/home/carl/anaconda3/lib/python3.9/imp.py'>,\n",
       " 'hmac': <module 'hmac' from '/home/carl/anaconda3/lib/python3.9/hmac.py'>,\n",
       " 'dateutil._version': <module 'dateutil._version' from '/home/carl/anaconda3/lib/python3.9/site-packages/dateutil/_version.py'>,\n",
       " 'dateutil': <module 'dateutil' from '/home/carl/anaconda3/lib/python3.9/site-packages/dateutil/__init__.py'>,\n",
       " 'dateutil._common': <module 'dateutil._common' from '/home/carl/anaconda3/lib/python3.9/site-packages/dateutil/_common.py'>,\n",
       " 'dateutil.relativedelta': <module 'dateutil.relativedelta' from '/home/carl/anaconda3/lib/python3.9/site-packages/dateutil/relativedelta.py'>,\n",
       " 'dateutil.tz._common': <module 'dateutil.tz._common' from '/home/carl/anaconda3/lib/python3.9/site-packages/dateutil/tz/_common.py'>,\n",
       " 'dateutil.tz._factories': <module 'dateutil.tz._factories' from '/home/carl/anaconda3/lib/python3.9/site-packages/dateutil/tz/_factories.py'>,\n",
       " 'dateutil.tz.tz': <module 'dateutil.tz.tz' from '/home/carl/anaconda3/lib/python3.9/site-packages/dateutil/tz/tz.py'>,\n",
       " 'dateutil.tz': <module 'dateutil.tz' from '/home/carl/anaconda3/lib/python3.9/site-packages/dateutil/tz/__init__.py'>,\n",
       " 'dateutil.parser._parser': <module 'dateutil.parser._parser' from '/home/carl/anaconda3/lib/python3.9/site-packages/dateutil/parser/_parser.py'>,\n",
       " 'dateutil.parser.isoparser': <module 'dateutil.parser.isoparser' from '/home/carl/anaconda3/lib/python3.9/site-packages/dateutil/parser/isoparser.py'>,\n",
       " 'dateutil.parser': <module 'dateutil.parser' from '/home/carl/anaconda3/lib/python3.9/site-packages/dateutil/parser/__init__.py'>,\n",
       " '_strptime': <module '_strptime' from '/home/carl/anaconda3/lib/python3.9/_strptime.py'>,\n",
       " 'jupyter_client.jsonutil': <module 'jupyter_client.jsonutil' from '/home/carl/anaconda3/lib/python3.9/site-packages/jupyter_client/jsonutil.py'>,\n",
       " 'jupyter_client.adapter': <module 'jupyter_client.adapter' from '/home/carl/anaconda3/lib/python3.9/site-packages/jupyter_client/adapter.py'>,\n",
       " 'jupyter_client.session': <module 'jupyter_client.session' from '/home/carl/anaconda3/lib/python3.9/site-packages/jupyter_client/session.py'>,\n",
       " 'ipykernel.iostream': <module 'ipykernel.iostream' from '/home/carl/anaconda3/lib/python3.9/site-packages/ipykernel/iostream.py'>,\n",
       " 'ipykernel.control': <module 'ipykernel.control' from '/home/carl/anaconda3/lib/python3.9/site-packages/ipykernel/control.py'>,\n",
       " 'ipykernel.heartbeat': <module 'ipykernel.heartbeat' from '/home/carl/anaconda3/lib/python3.9/site-packages/ipykernel/heartbeat.py'>,\n",
       " 'IPython.utils.tokenutil': <module 'IPython.utils.tokenutil' from '/home/carl/anaconda3/lib/python3.9/site-packages/IPython/utils/tokenutil.py'>,\n",
       " 'psutil._common': <module 'psutil._common' from '/home/carl/anaconda3/lib/python3.9/site-packages/psutil/_common.py'>,\n",
       " 'psutil._compat': <module 'psutil._compat' from '/home/carl/anaconda3/lib/python3.9/site-packages/psutil/_compat.py'>,\n",
       " 'psutil._psposix': <module 'psutil._psposix' from '/home/carl/anaconda3/lib/python3.9/site-packages/psutil/_psposix.py'>,\n",
       " 'psutil._psutil_linux': <module 'psutil._psutil_linux' from '/home/carl/anaconda3/lib/python3.9/site-packages/psutil/_psutil_linux.cpython-39-x86_64-linux-gnu.so'>,\n",
       " 'psutil._psutil_posix': <module 'psutil._psutil_posix' from '/home/carl/anaconda3/lib/python3.9/site-packages/psutil/_psutil_posix.cpython-39-x86_64-linux-gnu.so'>,\n",
       " 'psutil._pslinux': <module 'psutil._pslinux' from '/home/carl/anaconda3/lib/python3.9/site-packages/psutil/_pslinux.py'>,\n",
       " 'psutil': <module 'psutil' from '/home/carl/anaconda3/lib/python3.9/site-packages/psutil/__init__.py'>,\n",
       " 'tornado.locks': <module 'tornado.locks' from '/home/carl/anaconda3/lib/python3.9/site-packages/tornado/locks.py'>,\n",
       " 'tornado.queues': <module 'tornado.queues' from '/home/carl/anaconda3/lib/python3.9/site-packages/tornado/queues.py'>,\n",
       " 'ipykernel.jsonutil': <module 'ipykernel.jsonutil' from '/home/carl/anaconda3/lib/python3.9/site-packages/ipykernel/jsonutil.py'>,\n",
       " 'ipykernel.kernelbase': <module 'ipykernel.kernelbase' from '/home/carl/anaconda3/lib/python3.9/site-packages/ipykernel/kernelbase.py'>,\n",
       " 'ipykernel.comm.comm': <module 'ipykernel.comm.comm' from '/home/carl/anaconda3/lib/python3.9/site-packages/ipykernel/comm/comm.py'>,\n",
       " 'ipykernel.comm.manager': <module 'ipykernel.comm.manager' from '/home/carl/anaconda3/lib/python3.9/site-packages/ipykernel/comm/manager.py'>,\n",
       " 'ipykernel.comm': <module 'ipykernel.comm' from '/home/carl/anaconda3/lib/python3.9/site-packages/ipykernel/comm/__init__.py'>,\n",
       " 'IPython.core.payloadpage': <module 'IPython.core.payloadpage' from '/home/carl/anaconda3/lib/python3.9/site-packages/IPython/core/payloadpage.py'>,\n",
       " 'ipykernel.displayhook': <module 'ipykernel.displayhook' from '/home/carl/anaconda3/lib/python3.9/site-packages/ipykernel/displayhook.py'>,\n",
       " 'ipykernel.zmqshell': <module 'ipykernel.zmqshell' from '/home/carl/anaconda3/lib/python3.9/site-packages/ipykernel/zmqshell.py'>,\n",
       " 'setuptools._distutils': <module 'distutils' (/home/carl/anaconda3/lib/python3.9/site-packages/setuptools/_distutils/__init__.py)>,\n",
       " 'distutils.debug': <module 'distutils.debug' from '/home/carl/anaconda3/lib/python3.9/site-packages/setuptools/_distutils/debug.py'>,\n",
       " 'distutils.errors': <module 'distutils.errors' from '/home/carl/anaconda3/lib/python3.9/site-packages/setuptools/_distutils/errors.py'>,\n",
       " 'distutils.fancy_getopt': <module 'distutils.fancy_getopt' from '/home/carl/anaconda3/lib/python3.9/site-packages/setuptools/_distutils/fancy_getopt.py'>,\n",
       " 'distutils.dep_util': <module 'distutils.dep_util' from '/home/carl/anaconda3/lib/python3.9/site-packages/setuptools/_distutils/dep_util.py'>,\n",
       " 'distutils.log': <module 'distutils.log' from '/home/carl/anaconda3/lib/python3.9/site-packages/setuptools/_distutils/log.py'>,\n",
       " 'distutils.spawn': <module 'distutils.spawn' from '/home/carl/anaconda3/lib/python3.9/site-packages/setuptools/_distutils/spawn.py'>,\n",
       " 'distutils.py35compat': <module 'distutils.py35compat' from '/home/carl/anaconda3/lib/python3.9/site-packages/setuptools/_distutils/py35compat.py'>,\n",
       " 'distutils.util': <module 'distutils.util' from '/home/carl/anaconda3/lib/python3.9/site-packages/setuptools/_distutils/util.py'>,\n",
       " 'distutils.dist': <module 'distutils.dist' from '/home/carl/anaconda3/lib/python3.9/site-packages/setuptools/_distutils/dist.py'>,\n",
       " 'distutils.dir_util': <module 'distutils.dir_util' from '/home/carl/anaconda3/lib/python3.9/site-packages/setuptools/_distutils/dir_util.py'>,\n",
       " 'distutils.file_util': <module 'distutils.file_util' from '/home/carl/anaconda3/lib/python3.9/site-packages/setuptools/_distutils/file_util.py'>,\n",
       " 'distutils.archive_util': <module 'distutils.archive_util' from '/home/carl/anaconda3/lib/python3.9/site-packages/setuptools/_distutils/archive_util.py'>,\n",
       " 'distutils.cmd': <module 'distutils.cmd' from '/home/carl/anaconda3/lib/python3.9/site-packages/setuptools/_distutils/cmd.py'>,\n",
       " 'configparser': <module 'configparser' from '/home/carl/anaconda3/lib/python3.9/configparser.py'>,\n",
       " 'distutils.config': <module 'distutils.config' from '/home/carl/anaconda3/lib/python3.9/site-packages/setuptools/_distutils/config.py'>,\n",
       " 'distutils.extension': <module 'distutils.extension' from '/home/carl/anaconda3/lib/python3.9/site-packages/setuptools/_distutils/extension.py'>,\n",
       " 'distutils.core': <module 'distutils.core' from '/home/carl/anaconda3/lib/python3.9/site-packages/setuptools/_distutils/core.py'>,\n",
       " '_distutils_hack.override': <module '_distutils_hack.override' from '/home/carl/anaconda3/lib/python3.9/site-packages/_distutils_hack/override.py'>,\n",
       " 'setuptools._deprecation_warning': <module 'setuptools._deprecation_warning' from '/home/carl/anaconda3/lib/python3.9/site-packages/setuptools/_deprecation_warning.py'>,\n",
       " 'xml.parsers': <module 'xml.parsers' from '/home/carl/anaconda3/lib/python3.9/xml/parsers/__init__.py'>,\n",
       " 'pyexpat.errors': <module 'pyexpat.errors'>,\n",
       " 'pyexpat.model': <module 'pyexpat.model'>,\n",
       " 'pyexpat': <module 'pyexpat' from '/home/carl/anaconda3/lib/python3.9/lib-dynload/pyexpat.cpython-39-x86_64-linux-gnu.so'>,\n",
       " 'xml.parsers.expat.model': <module 'pyexpat.model'>,\n",
       " 'xml.parsers.expat.errors': <module 'pyexpat.errors'>,\n",
       " 'xml.parsers.expat': <module 'xml.parsers.expat' from '/home/carl/anaconda3/lib/python3.9/xml/parsers/expat.py'>,\n",
       " 'plistlib': <module 'plistlib' from '/home/carl/anaconda3/lib/python3.9/plistlib.py'>,\n",
       " 'pkg_resources.extern': <module 'pkg_resources.extern' from '/home/carl/anaconda3/lib/python3.9/site-packages/pkg_resources/extern/__init__.py'>,\n",
       " 'pkg_resources._vendor': <module 'pkg_resources._vendor' from '/home/carl/anaconda3/lib/python3.9/site-packages/pkg_resources/_vendor/__init__.py'>,\n",
       " 'pkg_resources._vendor.jaraco': <module 'pkg_resources.extern.jaraco' (<pkg_resources.extern.VendorImporter object at 0x7faaafb7b0d0>)>,\n",
       " 'pkg_resources.extern.jaraco': <module 'pkg_resources.extern.jaraco' (<pkg_resources.extern.VendorImporter object at 0x7faaafb7b0d0>)>,\n",
       " 'importlib._common': <module 'importlib._common' from '/home/carl/anaconda3/lib/python3.9/importlib/_common.py'>,\n",
       " 'importlib.resources': <module 'importlib.resources' from '/home/carl/anaconda3/lib/python3.9/importlib/resources.py'>,\n",
       " 'pkg_resources._vendor.more_itertools.recipes': <module 'pkg_resources._vendor.more_itertools.recipes' from '/home/carl/anaconda3/lib/python3.9/site-packages/pkg_resources/_vendor/more_itertools/recipes.py'>,\n",
       " 'pkg_resources._vendor.more_itertools.more': <module 'pkg_resources._vendor.more_itertools.more' from '/home/carl/anaconda3/lib/python3.9/site-packages/pkg_resources/_vendor/more_itertools/more.py'>,\n",
       " 'pkg_resources._vendor.more_itertools': <module 'pkg_resources.extern.more_itertools' (<pkg_resources.extern.VendorImporter object at 0x7faaafb7b0d0>)>,\n",
       " 'pkg_resources.extern.more_itertools': <module 'pkg_resources.extern.more_itertools' (<pkg_resources.extern.VendorImporter object at 0x7faaafb7b0d0>)>,\n",
       " 'pkg_resources.extern.jaraco.functools': <module 'pkg_resources.extern.jaraco.functools' from '/home/carl/anaconda3/lib/python3.9/site-packages/pkg_resources/_vendor/jaraco/functools.py'>,\n",
       " 'pkg_resources.extern.jaraco.context': <module 'pkg_resources.extern.jaraco.context' from '/home/carl/anaconda3/lib/python3.9/site-packages/pkg_resources/_vendor/jaraco/context.py'>,\n",
       " 'pkg_resources.extern.jaraco.text': <module 'pkg_resources.extern.jaraco.text' from '/home/carl/anaconda3/lib/python3.9/site-packages/pkg_resources/_vendor/jaraco/text/__init__.py'>,\n",
       " 'pkg_resources._vendor.appdirs': <module 'pkg_resources.extern.appdirs' (<pkg_resources.extern.VendorImporter object at 0x7faaafb7b0d0>)>,\n",
       " 'pkg_resources.extern.appdirs': <module 'pkg_resources.extern.appdirs' (<pkg_resources.extern.VendorImporter object at 0x7faaafb7b0d0>)>,\n",
       " 'pkg_resources._vendor.packaging.__about__': <module 'pkg_resources._vendor.packaging.__about__' from '/home/carl/anaconda3/lib/python3.9/site-packages/pkg_resources/_vendor/packaging/__about__.py'>,\n",
       " 'pkg_resources._vendor.packaging': <module 'pkg_resources.extern.packaging' (<pkg_resources.extern.VendorImporter object at 0x7faaafb7b0d0>)>,\n",
       " 'pkg_resources.extern.packaging': <module 'pkg_resources.extern.packaging' (<pkg_resources.extern.VendorImporter object at 0x7faaafb7b0d0>)>,\n",
       " 'pkg_resources.extern.packaging._structures': <module 'pkg_resources.extern.packaging._structures' from '/home/carl/anaconda3/lib/python3.9/site-packages/pkg_resources/_vendor/packaging/_structures.py'>,\n",
       " 'pkg_resources.extern.packaging.version': <module 'pkg_resources.extern.packaging.version' from '/home/carl/anaconda3/lib/python3.9/site-packages/pkg_resources/_vendor/packaging/version.py'>,\n",
       " 'pkg_resources._vendor.packaging._manylinux': <module 'pkg_resources._vendor.packaging._manylinux' from '/home/carl/anaconda3/lib/python3.9/site-packages/pkg_resources/_vendor/packaging/_manylinux.py'>,\n",
       " 'pkg_resources._vendor.packaging._musllinux': <module 'pkg_resources._vendor.packaging._musllinux' from '/home/carl/anaconda3/lib/python3.9/site-packages/pkg_resources/_vendor/packaging/_musllinux.py'>,\n",
       " 'pkg_resources.extern.packaging.tags': <module 'pkg_resources.extern.packaging.tags' from '/home/carl/anaconda3/lib/python3.9/site-packages/pkg_resources/_vendor/packaging/tags.py'>,\n",
       " 'pkg_resources.extern.packaging.utils': <module 'pkg_resources.extern.packaging.utils' from '/home/carl/anaconda3/lib/python3.9/site-packages/pkg_resources/_vendor/packaging/utils.py'>,\n",
       " 'pkg_resources.extern.packaging.specifiers': <module 'pkg_resources.extern.packaging.specifiers' from '/home/carl/anaconda3/lib/python3.9/site-packages/pkg_resources/_vendor/packaging/specifiers.py'>,\n",
       " 'pkg_resources._vendor.pyparsing': <module 'pkg_resources.extern.pyparsing' (<pkg_resources.extern.VendorImporter object at 0x7faaafb7b0d0>)>,\n",
       " 'pkg_resources.extern.pyparsing': <module 'pkg_resources.extern.pyparsing' (<pkg_resources.extern.VendorImporter object at 0x7faaafb7b0d0>)>,\n",
       " 'pkg_resources.extern.packaging.markers': <module 'pkg_resources.extern.packaging.markers' from '/home/carl/anaconda3/lib/python3.9/site-packages/pkg_resources/_vendor/packaging/markers.py'>,\n",
       " 'pkg_resources.extern.packaging.requirements': <module 'pkg_resources.extern.packaging.requirements' from '/home/carl/anaconda3/lib/python3.9/site-packages/pkg_resources/_vendor/packaging/requirements.py'>,\n",
       " 'pkg_resources': <module 'pkg_resources' from '/home/carl/anaconda3/lib/python3.9/site-packages/pkg_resources/__init__.py'>,\n",
       " 'setuptools.version': <module 'setuptools.version' from '/home/carl/anaconda3/lib/python3.9/site-packages/setuptools/version.py'>,\n",
       " 'distutils.filelist': <module 'distutils.filelist' from '/home/carl/anaconda3/lib/python3.9/site-packages/setuptools/_distutils/filelist.py'>,\n",
       " 'setuptools.monkey': <module 'setuptools.monkey' from '/home/carl/anaconda3/lib/python3.9/site-packages/setuptools/monkey.py'>,\n",
       " 'setuptools.extension': <module 'setuptools.extension' from '/home/carl/anaconda3/lib/python3.9/site-packages/setuptools/extension.py'>,\n",
       " 'distutils.command': <module 'distutils.command' from '/home/carl/anaconda3/lib/python3.9/site-packages/setuptools/_distutils/command/__init__.py'>,\n",
       " 'setuptools.extern': <module 'setuptools.extern' from '/home/carl/anaconda3/lib/python3.9/site-packages/setuptools/extern/__init__.py'>,\n",
       " 'setuptools._vendor': <module 'setuptools._vendor' from '/home/carl/anaconda3/lib/python3.9/site-packages/setuptools/_vendor/__init__.py'>,\n",
       " 'setuptools._vendor.packaging.__about__': <module 'setuptools._vendor.packaging.__about__' from '/home/carl/anaconda3/lib/python3.9/site-packages/setuptools/_vendor/packaging/__about__.py'>,\n",
       " 'setuptools._vendor.packaging': <module 'setuptools.extern.packaging' (<setuptools.extern.VendorImporter object at 0x7faaaf8b5850>)>,\n",
       " 'setuptools.extern.packaging': <module 'setuptools.extern.packaging' (<setuptools.extern.VendorImporter object at 0x7faaaf8b5850>)>,\n",
       " 'setuptools._vendor.ordered_set': <module 'setuptools.extern.ordered_set' (<setuptools.extern.VendorImporter object at 0x7faaaf8b5850>)>,\n",
       " 'setuptools.extern.ordered_set': <module 'setuptools.extern.ordered_set' (<setuptools.extern.VendorImporter object at 0x7faaaf8b5850>)>,\n",
       " 'setuptools._vendor.more_itertools.recipes': <module 'setuptools._vendor.more_itertools.recipes' from '/home/carl/anaconda3/lib/python3.9/site-packages/setuptools/_vendor/more_itertools/recipes.py'>,\n",
       " 'setuptools._vendor.more_itertools.more': <module 'setuptools._vendor.more_itertools.more' from '/home/carl/anaconda3/lib/python3.9/site-packages/setuptools/_vendor/more_itertools/more.py'>,\n",
       " 'setuptools._vendor.more_itertools': <module 'setuptools.extern.more_itertools' (<setuptools.extern.VendorImporter object at 0x7faaaf8b5850>)>,\n",
       " 'setuptools.extern.more_itertools': <module 'setuptools.extern.more_itertools' (<setuptools.extern.VendorImporter object at 0x7faaaf8b5850>)>,\n",
       " 'setuptools._vendor.pyparsing': <module 'setuptools.extern.pyparsing' (<setuptools.extern.VendorImporter object at 0x7faaaf8b5850>)>,\n",
       " 'setuptools.extern.pyparsing': <module 'setuptools.extern.pyparsing' (<setuptools.extern.VendorImporter object at 0x7faaaf8b5850>)>,\n",
       " 'setuptools._vendor.packaging._manylinux': <module 'setuptools._vendor.packaging._manylinux' from '/home/carl/anaconda3/lib/python3.9/site-packages/setuptools/_vendor/packaging/_manylinux.py'>,\n",
       " 'setuptools._vendor.packaging._musllinux': <module 'setuptools._vendor.packaging._musllinux' from '/home/carl/anaconda3/lib/python3.9/site-packages/setuptools/_vendor/packaging/_musllinux.py'>,\n",
       " 'setuptools.extern.packaging.tags': <module 'setuptools.extern.packaging.tags' from '/home/carl/anaconda3/lib/python3.9/site-packages/setuptools/_vendor/packaging/tags.py'>,\n",
       " 'setuptools.extern.packaging._structures': <module 'setuptools.extern.packaging._structures' from '/home/carl/anaconda3/lib/python3.9/site-packages/setuptools/_vendor/packaging/_structures.py'>,\n",
       " 'setuptools.extern.packaging.version': <module 'setuptools.extern.packaging.version' from '/home/carl/anaconda3/lib/python3.9/site-packages/setuptools/_vendor/packaging/version.py'>,\n",
       " 'setuptools.extern.packaging.utils': <module 'setuptools.extern.packaging.utils' from '/home/carl/anaconda3/lib/python3.9/site-packages/setuptools/_vendor/packaging/utils.py'>,\n",
       " 'setuptools.extern.packaging.specifiers': <module 'setuptools.extern.packaging.specifiers' from '/home/carl/anaconda3/lib/python3.9/site-packages/setuptools/_vendor/packaging/specifiers.py'>,\n",
       " 'setuptools.extern.packaging.markers': <module 'setuptools.extern.packaging.markers' from '/home/carl/anaconda3/lib/python3.9/site-packages/setuptools/_vendor/packaging/markers.py'>,\n",
       " 'setuptools.extern.packaging.requirements': <module 'setuptools.extern.packaging.requirements' from '/home/carl/anaconda3/lib/python3.9/site-packages/setuptools/_vendor/packaging/requirements.py'>,\n",
       " 'setuptools._vendor.jaraco': <module 'setuptools.extern.jaraco' (<setuptools.extern.VendorImporter object at 0x7faaaf8b5850>)>,\n",
       " 'setuptools.extern.jaraco': <module 'setuptools.extern.jaraco' (<setuptools.extern.VendorImporter object at 0x7faaaf8b5850>)>,\n",
       " 'setuptools.extern.jaraco.context': <module 'setuptools.extern.jaraco.context' from '/home/carl/anaconda3/lib/python3.9/site-packages/setuptools/_vendor/jaraco/context.py'>,\n",
       " 'setuptools.extern.jaraco.functools': <module 'setuptools.extern.jaraco.functools' from '/home/carl/anaconda3/lib/python3.9/site-packages/setuptools/_vendor/jaraco/functools.py'>,\n",
       " '_csv': <module '_csv' from '/home/carl/anaconda3/lib/python3.9/lib-dynload/_csv.cpython-39-x86_64-linux-gnu.so'>,\n",
       " 'csv': <module 'csv' from '/home/carl/anaconda3/lib/python3.9/csv.py'>,\n",
       " 'setuptools._vendor.zipp': <module 'setuptools._vendor.zipp' from '/home/carl/anaconda3/lib/python3.9/site-packages/setuptools/_vendor/zipp.py'>,\n",
       " 'setuptools._vendor.importlib_metadata._functools': <module 'setuptools._vendor.importlib_metadata._functools' from '/home/carl/anaconda3/lib/python3.9/site-packages/setuptools/_vendor/importlib_metadata/_functools.py'>,\n",
       " 'setuptools._vendor.importlib_metadata._text': <module 'setuptools._vendor.importlib_metadata._text' from '/home/carl/anaconda3/lib/python3.9/site-packages/setuptools/_vendor/importlib_metadata/_text.py'>,\n",
       " 'setuptools._vendor.importlib_metadata._adapters': <module 'setuptools._vendor.importlib_metadata._adapters' from '/home/carl/anaconda3/lib/python3.9/site-packages/setuptools/_vendor/importlib_metadata/_adapters.py'>,\n",
       " 'setuptools._vendor.importlib_metadata._compat': <module 'setuptools._vendor.importlib_metadata._compat' from '/home/carl/anaconda3/lib/python3.9/site-packages/setuptools/_vendor/importlib_metadata/_compat.py'>,\n",
       " 'setuptools._vendor.importlib_metadata._meta': <module 'setuptools._vendor.importlib_metadata._meta' from '/home/carl/anaconda3/lib/python3.9/site-packages/setuptools/_vendor/importlib_metadata/_meta.py'>,\n",
       " 'setuptools._vendor.importlib_metadata._collections': <module 'setuptools._vendor.importlib_metadata._collections' from '/home/carl/anaconda3/lib/python3.9/site-packages/setuptools/_vendor/importlib_metadata/_collections.py'>,\n",
       " 'setuptools._vendor.importlib_metadata._itertools': <module 'setuptools._vendor.importlib_metadata._itertools' from '/home/carl/anaconda3/lib/python3.9/site-packages/setuptools/_vendor/importlib_metadata/_itertools.py'>,\n",
       " 'setuptools._vendor.importlib_metadata': <module 'setuptools.extern.importlib_metadata' (<setuptools.extern.VendorImporter object at 0x7faaaf8b5850>)>,\n",
       " 'setuptools.extern.importlib_metadata': <module 'setuptools.extern.importlib_metadata' (<setuptools.extern.VendorImporter object at 0x7faaaf8b5850>)>,\n",
       " 'setuptools._vendor.nspektr._compat': <module 'setuptools._vendor.nspektr._compat' from '/home/carl/anaconda3/lib/python3.9/site-packages/setuptools/_vendor/nspektr/_compat.py'>,\n",
       " 'setuptools._vendor.nspektr': <module 'setuptools.extern.nspektr' (<setuptools.extern.VendorImporter object at 0x7faaaf8b5850>)>,\n",
       " 'setuptools.extern.nspektr': <module 'setuptools.extern.nspektr' (<setuptools.extern.VendorImporter object at 0x7faaaf8b5850>)>,\n",
       " 'zipp': <module 'zipp' from '/home/carl/anaconda3/lib/python3.9/site-packages/zipp.py'>,\n",
       " 'importlib_metadata._functools': <module 'importlib_metadata._functools' from '/home/carl/anaconda3/lib/python3.9/site-packages/importlib_metadata/_functools.py'>,\n",
       " 'importlib_metadata._text': <module 'importlib_metadata._text' from '/home/carl/anaconda3/lib/python3.9/site-packages/importlib_metadata/_text.py'>,\n",
       " 'importlib_metadata._adapters': <module 'importlib_metadata._adapters' from '/home/carl/anaconda3/lib/python3.9/site-packages/importlib_metadata/_adapters.py'>,\n",
       " 'importlib_metadata._compat': <module 'importlib_metadata._compat' from '/home/carl/anaconda3/lib/python3.9/site-packages/importlib_metadata/_compat.py'>,\n",
       " 'importlib_metadata._meta': <module 'importlib_metadata._meta' from '/home/carl/anaconda3/lib/python3.9/site-packages/importlib_metadata/_meta.py'>,\n",
       " 'importlib_metadata._collections': <module 'importlib_metadata._collections' from '/home/carl/anaconda3/lib/python3.9/site-packages/importlib_metadata/_collections.py'>,\n",
       " 'importlib_metadata._itertools': <module 'importlib_metadata._itertools' from '/home/carl/anaconda3/lib/python3.9/site-packages/importlib_metadata/_itertools.py'>,\n",
       " 'importlib_metadata': <module 'importlib_metadata' from '/home/carl/anaconda3/lib/python3.9/site-packages/importlib_metadata/__init__.py'>,\n",
       " 'setuptools._importlib': <module 'setuptools._importlib' from '/home/carl/anaconda3/lib/python3.9/site-packages/setuptools/_importlib.py'>,\n",
       " 'distutils.command.bdist': <module 'distutils.command.bdist' from '/home/carl/anaconda3/lib/python3.9/site-packages/setuptools/_distutils/command/bdist.py'>,\n",
       " 'setuptools.command': <module 'setuptools.command' from '/home/carl/anaconda3/lib/python3.9/site-packages/setuptools/command/__init__.py'>,\n",
       " 'setuptools.windows_support': <module 'setuptools.windows_support' from '/home/carl/anaconda3/lib/python3.9/site-packages/setuptools/windows_support.py'>,\n",
       " 'setuptools.config.expand': <module 'setuptools.config.expand' from '/home/carl/anaconda3/lib/python3.9/site-packages/setuptools/config/expand.py'>,\n",
       " 'setuptools.config.setupcfg': <module 'setuptools.config.setupcfg' from '/home/carl/anaconda3/lib/python3.9/site-packages/setuptools/config/setupcfg.py'>,\n",
       " 'setuptools.config': <module 'setuptools.config' from '/home/carl/anaconda3/lib/python3.9/site-packages/setuptools/config/__init__.py'>,\n",
       " 'setuptools.errors': <module 'setuptools.errors' from '/home/carl/anaconda3/lib/python3.9/site-packages/setuptools/errors.py'>,\n",
       " 'email._header_value_parser': <module 'email._header_value_parser' from '/home/carl/anaconda3/lib/python3.9/email/_header_value_parser.py'>,\n",
       " 'email.headerregistry': <module 'email.headerregistry' from '/home/carl/anaconda3/lib/python3.9/email/headerregistry.py'>,\n",
       " 'setuptools.config._apply_pyprojecttoml': <module 'setuptools.config._apply_pyprojecttoml' from '/home/carl/anaconda3/lib/python3.9/site-packages/setuptools/config/_apply_pyprojecttoml.py'>,\n",
       " 'setuptools.config.pyprojecttoml': <module 'setuptools.config.pyprojecttoml' from '/home/carl/anaconda3/lib/python3.9/site-packages/setuptools/config/pyprojecttoml.py'>,\n",
       " 'setuptools.discovery': <module 'setuptools.discovery' from '/home/carl/anaconda3/lib/python3.9/site-packages/setuptools/discovery.py'>,\n",
       " 'setuptools.extern.jaraco.text': <module 'setuptools.extern.jaraco.text' from '/home/carl/anaconda3/lib/python3.9/site-packages/setuptools/_vendor/jaraco/text/__init__.py'>,\n",
       " 'setuptools._reqs': <module 'setuptools._reqs' from '/home/carl/anaconda3/lib/python3.9/site-packages/setuptools/_reqs.py'>,\n",
       " 'setuptools._itertools': <module 'setuptools._itertools' from '/home/carl/anaconda3/lib/python3.9/site-packages/setuptools/_itertools.py'>,\n",
       " 'setuptools._entry_points': <module 'setuptools._entry_points' from '/home/carl/anaconda3/lib/python3.9/site-packages/setuptools/_entry_points.py'>,\n",
       " 'setuptools.dist': <module 'setuptools.dist' from '/home/carl/anaconda3/lib/python3.9/site-packages/setuptools/dist.py'>,\n",
       " 'setuptools.py34compat': <module 'setuptools.py34compat' from '/home/carl/anaconda3/lib/python3.9/site-packages/setuptools/py34compat.py'>,\n",
       " 'setuptools._imp': <module 'setuptools._imp' from '/home/carl/anaconda3/lib/python3.9/site-packages/setuptools/_imp.py'>,\n",
       " 'setuptools.depends': <module 'setuptools.depends' from '/home/carl/anaconda3/lib/python3.9/site-packages/setuptools/depends.py'>,\n",
       " 'setuptools.logging': <module 'setuptools.logging' from '/home/carl/anaconda3/lib/python3.9/site-packages/setuptools/logging.py'>,\n",
       " 'distutils.ccompiler': <module 'distutils.ccompiler' from '/home/carl/anaconda3/lib/python3.9/site-packages/setuptools/_distutils/ccompiler.py'>,\n",
       " 'setuptools.msvc': <module 'setuptools.msvc' from '/home/carl/anaconda3/lib/python3.9/site-packages/setuptools/msvc.py'>,\n",
       " 'setuptools': <module 'setuptools' from '/home/carl/anaconda3/lib/python3.9/site-packages/setuptools/__init__.py'>,\n",
       " 'distutils': <module 'distutils' (/home/carl/anaconda3/lib/python3.9/site-packages/setuptools/_distutils/__init__.py)>,\n",
       " 'distutils.version': <module 'distutils.version' from '/home/carl/anaconda3/lib/python3.9/site-packages/setuptools/_distutils/version.py'>,\n",
       " 'ipykernel.eventloops': <module 'ipykernel.eventloops' from '/home/carl/anaconda3/lib/python3.9/site-packages/ipykernel/eventloops.py'>,\n",
       " 'ipykernel.compiler': <module 'ipykernel.compiler' from '/home/carl/anaconda3/lib/python3.9/site-packages/ipykernel/compiler.py'>,\n",
       " 'debugpy._version': <module 'debugpy._version' from '/home/carl/anaconda3/lib/python3.9/site-packages/debugpy/_version.py'>,\n",
       " 'debugpy.common': <module 'debugpy.common' from '/home/carl/anaconda3/lib/python3.9/site-packages/debugpy/common/__init__.py'>,\n",
       " 'debugpy.common.json': <module 'debugpy.common.json' from '/home/carl/anaconda3/lib/python3.9/site-packages/debugpy/common/json.py'>,\n",
       " 'debugpy.common.fmt': <module 'debugpy.common.fmt' from '/home/carl/anaconda3/lib/python3.9/site-packages/debugpy/common/fmt.py'>,\n",
       " 'debugpy.common.compat': <module 'debugpy.common.compat' from '/home/carl/anaconda3/lib/python3.9/site-packages/debugpy/common/compat.py'>,\n",
       " 'debugpy': <module 'debugpy' from '/home/carl/anaconda3/lib/python3.9/site-packages/debugpy/__init__.py'>,\n",
       " 'debugpy._vendored._util': <module 'debugpy._vendored._util' from '/home/carl/anaconda3/lib/python3.9/site-packages/debugpy/_vendored/_util.py'>,\n",
       " 'debugpy._vendored': <module 'debugpy._vendored' from '/home/carl/anaconda3/lib/python3.9/site-packages/debugpy/_vendored/__init__.py'>,\n",
       " '_pydevd_bundle': <module '_pydevd_bundle' from '/home/carl/anaconda3/lib/python3.9/site-packages/debugpy/_vendored/pydevd/_pydevd_bundle/__init__.py'>,\n",
       " 'encodings.ascii': <module 'encodings.ascii' from '/home/carl/anaconda3/lib/python3.9/encodings/ascii.py'>,\n",
       " 'stringprep': <module 'stringprep' from '/home/carl/anaconda3/lib/python3.9/stringprep.py'>,\n",
       " 'encodings.idna': <module 'encodings.idna' from '/home/carl/anaconda3/lib/python3.9/encodings/idna.py'>,\n",
       " '_pydevd_bundle.pydevd_vm_type': <module '_pydevd_bundle.pydevd_vm_type' from '/home/carl/anaconda3/lib/python3.9/site-packages/debugpy/_vendored/pydevd/_pydevd_bundle/pydevd_vm_type.py'>,\n",
       " '_pydev_imps': <module '_pydev_imps' from '/home/carl/anaconda3/lib/python3.9/site-packages/debugpy/_vendored/pydevd/_pydev_imps/__init__.py'>,\n",
       " 'xmlrpc': <module 'xmlrpc' from '/home/carl/anaconda3/lib/python3.9/xmlrpc/__init__.py'>,\n",
       " 'gzip': <module 'gzip' from '/home/carl/anaconda3/lib/python3.9/gzip.py'>,\n",
       " 'xmlrpc.client': <module 'xmlrpc.client' from '/home/carl/anaconda3/lib/python3.9/xmlrpc/client.py'>,\n",
       " 'socketserver': <module 'socketserver' from '/home/carl/anaconda3/lib/python3.9/socketserver.py'>,\n",
       " 'http.server': <module 'http.server' from '/home/carl/anaconda3/lib/python3.9/http/server.py'>,\n",
       " 'xmlrpc.server': <module 'xmlrpc.server' from '/home/carl/anaconda3/lib/python3.9/xmlrpc/server.py'>,\n",
       " '_pydev_imps._pydev_saved_modules': <module '_pydev_imps._pydev_saved_modules' from '/home/carl/anaconda3/lib/python3.9/site-packages/debugpy/_vendored/pydevd/_pydev_imps/_pydev_saved_modules.py'>,\n",
       " '_pydevd_bundle.pydevd_constants': <module '_pydevd_bundle.pydevd_constants' from '/home/carl/anaconda3/lib/python3.9/site-packages/debugpy/_vendored/pydevd/_pydevd_bundle/pydevd_constants.py'>,\n",
       " '_pydev_bundle': <module '_pydev_bundle' from '/home/carl/anaconda3/lib/python3.9/site-packages/debugpy/_vendored/pydevd/_pydev_bundle/__init__.py'>,\n",
       " '_pydev_runfiles': <module '_pydev_runfiles' from '/home/carl/anaconda3/lib/python3.9/site-packages/debugpy/_vendored/pydevd/_pydev_runfiles/__init__.py'>,\n",
       " '_pydevd_frame_eval': <module '_pydevd_frame_eval' from '/home/carl/anaconda3/lib/python3.9/site-packages/debugpy/_vendored/pydevd/_pydevd_frame_eval/__init__.py'>,\n",
       " 'pydev_ipython': <module 'pydev_ipython' from '/home/carl/anaconda3/lib/python3.9/site-packages/debugpy/_vendored/pydevd/pydev_ipython/__init__.py'>,\n",
       " 'pydevd_concurrency_analyser': <module 'pydevd_concurrency_analyser' from '/home/carl/anaconda3/lib/python3.9/site-packages/debugpy/_vendored/pydevd/pydevd_concurrency_analyser/__init__.py'>,\n",
       " 'pydevd_plugins': <module 'pydevd_plugins' from '/home/carl/anaconda3/lib/python3.9/site-packages/debugpy/_vendored/pydevd/pydevd_plugins/__init__.py'>,\n",
       " '_pydev_bundle.pydev_log': <module '_pydev_bundle.pydev_log' from '/home/carl/anaconda3/lib/python3.9/site-packages/debugpy/_vendored/pydevd/_pydev_bundle/pydev_log.py'>,\n",
       " '_pydev_bundle._pydev_filesystem_encoding': <module '_pydev_bundle._pydev_filesystem_encoding' from '/home/carl/anaconda3/lib/python3.9/site-packages/debugpy/_vendored/pydevd/_pydev_bundle/_pydev_filesystem_encoding.py'>,\n",
       " '_pydevd_bundle.pydevd_comm_constants': <module '_pydevd_bundle.pydevd_comm_constants' from '/home/carl/anaconda3/lib/python3.9/site-packages/debugpy/_vendored/pydevd/_pydevd_bundle/pydevd_comm_constants.py'>,\n",
       " 'pydevd_file_utils': <module 'pydevd_file_utils' from '/home/carl/anaconda3/lib/python3.9/site-packages/debugpy/_vendored/pydevd/pydevd_file_utils.py'>,\n",
       " '_pydev_imps._pydev_execfile': <module '_pydev_imps._pydev_execfile' from '/home/carl/anaconda3/lib/python3.9/site-packages/debugpy/_vendored/pydevd/_pydev_imps/_pydev_execfile.py'>,\n",
       " '_pydevd_bundle.pydevd_exec2': <module '_pydevd_bundle.pydevd_exec2' from '/home/carl/anaconda3/lib/python3.9/site-packages/debugpy/_vendored/pydevd/_pydevd_bundle/pydevd_exec2.py'>,\n",
       " '_pydev_bundle.pydev_imports': <module '_pydev_bundle.pydev_imports' from '/home/carl/anaconda3/lib/python3.9/site-packages/debugpy/_vendored/pydevd/_pydev_bundle/pydev_imports.py'>,\n",
       " '_pydev_bundle.pydev_is_thread_alive': <module '_pydev_bundle.pydev_is_thread_alive' from '/home/carl/anaconda3/lib/python3.9/site-packages/debugpy/_vendored/pydevd/_pydev_bundle/pydev_is_thread_alive.py'>,\n",
       " '_pydev_bundle.pydev_override': <module '_pydev_bundle.pydev_override' from '/home/carl/anaconda3/lib/python3.9/site-packages/debugpy/_vendored/pydevd/_pydev_bundle/pydev_override.py'>,\n",
       " 'pydevd_plugins.extensions': <module 'pydevd_plugins.extensions' from '/home/carl/anaconda3/lib/python3.9/site-packages/debugpy/_vendored/pydevd/pydevd_plugins/extensions/__init__.py'>,\n",
       " '_pydevd_bundle.pydevd_extension_utils': <module '_pydevd_bundle.pydevd_extension_utils' from '/home/carl/anaconda3/lib/python3.9/site-packages/debugpy/_vendored/pydevd/_pydevd_bundle/pydevd_extension_utils.py'>,\n",
       " '_pydevd_bundle.pydevd_frame_utils': <module '_pydevd_bundle.pydevd_frame_utils' from '/home/carl/anaconda3/lib/python3.9/site-packages/debugpy/_vendored/pydevd/_pydevd_bundle/pydevd_frame_utils.py'>,\n",
       " '_pydevd_bundle.pydevd_filtering': <module '_pydevd_bundle.pydevd_filtering' from '/home/carl/anaconda3/lib/python3.9/site-packages/debugpy/_vendored/pydevd/_pydevd_bundle/pydevd_filtering.py'>,\n",
       " '_pydevd_bundle.pydevd_io': <module '_pydevd_bundle.pydevd_io' from '/home/carl/anaconda3/lib/python3.9/site-packages/debugpy/_vendored/pydevd/_pydevd_bundle/pydevd_io.py'>,\n",
       " '_pydevd_bundle.pydevd_utils': <module '_pydevd_bundle.pydevd_utils' from '/home/carl/anaconda3/lib/python3.9/site-packages/debugpy/_vendored/pydevd/_pydevd_bundle/pydevd_utils.py'>,\n",
       " '_pydev_bundle._pydev_tipper_common': <module '_pydev_bundle._pydev_tipper_common' from '/home/carl/anaconda3/lib/python3.9/site-packages/debugpy/_vendored/pydevd/_pydev_bundle/_pydev_tipper_common.py'>,\n",
       " '_pydev_bundle._pydev_imports_tipper': <module '_pydev_bundle._pydev_imports_tipper' from '/home/carl/anaconda3/lib/python3.9/site-packages/debugpy/_vendored/pydevd/_pydev_bundle/_pydev_imports_tipper.py'>,\n",
       " '_pydev_bundle._pydev_calltip_util': <module '_pydev_bundle._pydev_calltip_util' from '/home/carl/anaconda3/lib/python3.9/site-packages/debugpy/_vendored/pydevd/_pydev_bundle/_pydev_calltip_util.py'>,\n",
       " '_pydevd_bundle.pydevd_safe_repr': <module '_pydevd_bundle.pydevd_safe_repr' from '/home/carl/anaconda3/lib/python3.9/site-packages/debugpy/_vendored/pydevd/_pydevd_bundle/pydevd_safe_repr.py'>,\n",
       " '_pydevd_bundle.pydevd_resolver': <module '_pydevd_bundle.pydevd_resolver' from '/home/carl/anaconda3/lib/python3.9/site-packages/debugpy/_vendored/pydevd/_pydevd_bundle/pydevd_resolver.py'>,\n",
       " '_pydevd_bundle.pydevd_extension_api': <module '_pydevd_bundle.pydevd_extension_api' from '/home/carl/anaconda3/lib/python3.9/site-packages/debugpy/_vendored/pydevd/_pydevd_bundle/pydevd_extension_api.py'>,\n",
       " '_pydevd_bundle.pydevd_xml': <module '_pydevd_bundle.pydevd_xml' from '/home/carl/anaconda3/lib/python3.9/site-packages/debugpy/_vendored/pydevd/_pydevd_bundle/pydevd_xml.py'>,\n",
       " '_pydevd_bundle.pydevd_dont_trace': <module '_pydevd_bundle.pydevd_dont_trace' from '/home/carl/anaconda3/lib/python3.9/site-packages/debugpy/_vendored/pydevd/_pydevd_bundle/pydevd_dont_trace.py'>,\n",
       " '_pydevd_frame_eval.vendored': <module '_pydevd_frame_eval.vendored' from '/home/carl/anaconda3/lib/python3.9/site-packages/debugpy/_vendored/pydevd/_pydevd_frame_eval/vendored/__init__.py'>,\n",
       " '_pydevd_frame_eval.vendored.bytecode.flags': <module '_pydevd_frame_eval.vendored.bytecode.flags' from '/home/carl/anaconda3/lib/python3.9/site-packages/debugpy/_vendored/pydevd/_pydevd_frame_eval/vendored/bytecode/flags.py'>,\n",
       " '_pydevd_frame_eval.vendored.bytecode.instr': <module '_pydevd_frame_eval.vendored.bytecode.instr' from '/home/carl/anaconda3/lib/python3.9/site-packages/debugpy/_vendored/pydevd/_pydevd_frame_eval/vendored/bytecode/instr.py'>,\n",
       " '_pydevd_frame_eval.vendored.bytecode.bytecode': <module '_pydevd_frame_eval.vendored.bytecode.bytecode' from '/home/carl/anaconda3/lib/python3.9/site-packages/debugpy/_vendored/pydevd/_pydevd_frame_eval/vendored/bytecode/bytecode.py'>,\n",
       " '_pydevd_frame_eval.vendored.bytecode.concrete': <module '_pydevd_frame_eval.vendored.bytecode.concrete' from '/home/carl/anaconda3/lib/python3.9/site-packages/debugpy/_vendored/pydevd/_pydevd_frame_eval/vendored/bytecode/concrete.py'>,\n",
       " '_pydevd_frame_eval.vendored.bytecode.cfg': <module '_pydevd_frame_eval.vendored.bytecode.cfg' from '/home/carl/anaconda3/lib/python3.9/site-packages/debugpy/_vendored/pydevd/_pydevd_frame_eval/vendored/bytecode/cfg.py'>,\n",
       " '_pydevd_frame_eval.vendored.bytecode': <module '_pydevd_frame_eval.vendored.bytecode' from '/home/carl/anaconda3/lib/python3.9/site-packages/debugpy/_vendored/pydevd/_pydevd_frame_eval/vendored/bytecode/__init__.py'>,\n",
       " '_pydevd_bundle.pydevd_bytecode_utils': <module '_pydevd_bundle.pydevd_bytecode_utils' from '/home/carl/anaconda3/lib/python3.9/site-packages/debugpy/_vendored/pydevd/_pydevd_bundle/pydevd_bytecode_utils.py'>,\n",
       " '_pydevd_bundle.pydevd_cython': <module '_pydevd_bundle.pydevd_cython' from '/home/carl/anaconda3/lib/python3.9/site-packages/debugpy/_vendored/pydevd/_pydevd_bundle/pydevd_cython.cpython-39-x86_64-linux-gnu.so'>,\n",
       " '_pydevd_bundle.pydevd_cython_wrapper': <module '_pydevd_bundle.pydevd_cython_wrapper' from '/home/carl/anaconda3/lib/python3.9/site-packages/debugpy/_vendored/pydevd/_pydevd_bundle/pydevd_cython_wrapper.py'>,\n",
       " '_pydevd_bundle.pydevd_additional_thread_info': <module '_pydevd_bundle.pydevd_additional_thread_info' from '/home/carl/anaconda3/lib/python3.9/site-packages/debugpy/_vendored/pydevd/_pydevd_bundle/pydevd_additional_thread_info.py'>,\n",
       " '_pydevd_bundle.pydevd_thread_lifecycle': <module '_pydevd_bundle.pydevd_thread_lifecycle' from '/home/carl/anaconda3/lib/python3.9/site-packages/debugpy/_vendored/pydevd/_pydevd_bundle/pydevd_thread_lifecycle.py'>,\n",
       " '_pydevd_bundle.pydevd_save_locals': <module '_pydevd_bundle.pydevd_save_locals' from '/home/carl/anaconda3/lib/python3.9/site-packages/debugpy/_vendored/pydevd/_pydevd_bundle/pydevd_save_locals.py'>,\n",
       " '_pydevd_bundle.pydevd_defaults': <module '_pydevd_bundle.pydevd_defaults' from '/home/carl/anaconda3/lib/python3.9/site-packages/debugpy/_vendored/pydevd/_pydevd_bundle/pydevd_defaults.py'>,\n",
       " '_pydev_bundle.pydev_monkey': <module '_pydev_bundle.pydev_monkey' from '/home/carl/anaconda3/lib/python3.9/site-packages/debugpy/_vendored/pydevd/_pydev_bundle/pydev_monkey.py'>,\n",
       " 'pydevd_tracing': <module 'pydevd_tracing' from '/home/carl/anaconda3/lib/python3.9/site-packages/debugpy/_vendored/pydevd/pydevd_tracing.py'>,\n",
       " '_pydevd_bundle.pydevd_daemon_thread': <module '_pydevd_bundle.pydevd_daemon_thread' from '/home/carl/anaconda3/lib/python3.9/site-packages/debugpy/_vendored/pydevd/_pydevd_bundle/pydevd_daemon_thread.py'>,\n",
       " '_pydevd_bundle.pydevd_timeout': <module '_pydevd_bundle.pydevd_timeout' from '/home/carl/anaconda3/lib/python3.9/site-packages/debugpy/_vendored/pydevd/_pydevd_bundle/pydevd_timeout.py'>,\n",
       " '_pydevd_bundle.pydevd_vars': <module '_pydevd_bundle.pydevd_vars' from '/home/carl/anaconda3/lib/python3.9/site-packages/debugpy/_vendored/pydevd/_pydevd_bundle/pydevd_vars.py'>,\n",
       " '_pydev_bundle.pydev_console_utils': <module '_pydev_bundle.pydev_console_utils' from '/home/carl/anaconda3/lib/python3.9/site-packages/debugpy/_vendored/pydevd/_pydev_bundle/pydev_console_utils.py'>,\n",
       " '_pydevd_bundle.pydevd_import_class': <module '_pydevd_bundle.pydevd_import_class' from '/home/carl/anaconda3/lib/python3.9/site-packages/debugpy/_vendored/pydevd/_pydevd_bundle/pydevd_import_class.py'>,\n",
       " '_pydevd_bundle.pydevd_breakpoints': <module '_pydevd_bundle.pydevd_breakpoints' from '/home/carl/anaconda3/lib/python3.9/site-packages/debugpy/_vendored/pydevd/_pydevd_bundle/pydevd_breakpoints.py'>,\n",
       " '_pydevd_bundle.pydevd_custom_frames': <module '_pydevd_bundle.pydevd_custom_frames' from '/home/carl/anaconda3/lib/python3.9/site-packages/debugpy/_vendored/pydevd/_pydevd_bundle/pydevd_custom_frames.py'>,\n",
       " '_pydevd_bundle.pydevd_dont_trace_files': <module '_pydevd_bundle.pydevd_dont_trace_files' from '/home/carl/anaconda3/lib/python3.9/site-packages/debugpy/_vendored/pydevd/_pydevd_bundle/pydevd_dont_trace_files.py'>,\n",
       " '_pydevd_bundle.pydevd_net_command': <module '_pydevd_bundle.pydevd_net_command' from '/home/carl/anaconda3/lib/python3.9/site-packages/debugpy/_vendored/pydevd/_pydevd_bundle/pydevd_net_command.py'>,\n",
       " '_pydev_bundle.pydev_umd': <module '_pydev_bundle.pydev_umd' from '/home/carl/anaconda3/lib/python3.9/site-packages/debugpy/_vendored/pydevd/_pydev_bundle/pydev_umd.py'>,\n",
       " 'pydevconsole': <module 'pydevconsole' from '/home/carl/anaconda3/lib/python3.9/site-packages/debugpy/_vendored/pydevd/pydevconsole.py'>,\n",
       " '_pydev_bundle._pydev_completer': <module '_pydev_bundle._pydev_completer' from '/home/carl/anaconda3/lib/python3.9/site-packages/debugpy/_vendored/pydevd/_pydev_bundle/_pydev_completer.py'>,\n",
       " '_pydevd_bundle.pydevd_net_command_factory_xml': <module '_pydevd_bundle.pydevd_net_command_factory_xml' from '/home/carl/anaconda3/lib/python3.9/site-packages/debugpy/_vendored/pydevd/_pydevd_bundle/pydevd_net_command_factory_xml.py'>,\n",
       " '_pydevd_bundle.pydevd_frame': <module '_pydevd_bundle.pydevd_frame' from '/home/carl/anaconda3/lib/python3.9/site-packages/debugpy/_vendored/pydevd/_pydevd_bundle/pydevd_frame.py'>,\n",
       " '_pydevd_bundle.pydevd_additional_thread_info_regular': <module '_pydevd_bundle.pydevd_additional_thread_info_regular' from '/home/carl/anaconda3/lib/python3.9/site-packages/debugpy/_vendored/pydevd/_pydevd_bundle/pydevd_additional_thread_info_regular.py'>,\n",
       " '_pydevd_bundle.pydevd_trace_dispatch': <module '_pydevd_bundle.pydevd_trace_dispatch' from '/home/carl/anaconda3/lib/python3.9/site-packages/debugpy/_vendored/pydevd/_pydevd_bundle/pydevd_trace_dispatch.py'>,\n",
       " '_pydevd_frame_eval.pydevd_frame_eval_main': <module '_pydevd_frame_eval.pydevd_frame_eval_main' from '/home/carl/anaconda3/lib/python3.9/site-packages/debugpy/_vendored/pydevd/_pydevd_frame_eval/pydevd_frame_eval_main.py'>,\n",
       " '_pydevd_bundle.pydevd_source_mapping': <module '_pydevd_bundle.pydevd_source_mapping' from '/home/carl/anaconda3/lib/python3.9/site-packages/debugpy/_vendored/pydevd/_pydevd_bundle/pydevd_source_mapping.py'>,\n",
       " 'pydevd_concurrency_analyser.pydevd_thread_wrappers': <module 'pydevd_concurrency_analyser.pydevd_thread_wrappers' from '/home/carl/anaconda3/lib/python3.9/site-packages/debugpy/_vendored/pydevd/pydevd_concurrency_analyser/pydevd_thread_wrappers.py'>,\n",
       " ...}"
      ]
     },
     "execution_count": 38,
     "metadata": {},
     "output_type": "execute_result"
    }
   ],
   "source": [
    "sys.modules"
   ]
  },
  {
   "cell_type": "code",
   "execution_count": 39,
   "id": "b0aaa4fe",
   "metadata": {},
   "outputs": [
    {
     "data": {
      "text/plain": [
       "dict"
      ]
     },
     "execution_count": 39,
     "metadata": {},
     "output_type": "execute_result"
    }
   ],
   "source": [
    "type(sys.modules)"
   ]
  },
  {
   "cell_type": "code",
   "execution_count": 40,
   "id": "ba5c2b5d",
   "metadata": {},
   "outputs": [
    {
     "data": {
      "text/plain": [
       "<module 'math' from '/home/carl/anaconda3/lib/python3.9/lib-dynload/math.cpython-39-x86_64-linux-gnu.so'>"
      ]
     },
     "execution_count": 40,
     "metadata": {},
     "output_type": "execute_result"
    }
   ],
   "source": [
    "sys.modules['math']"
   ]
  },
  {
   "cell_type": "code",
   "execution_count": 41,
   "id": "d609685d",
   "metadata": {},
   "outputs": [
    {
     "data": {
      "text/plain": [
       "140371105534016"
      ]
     },
     "execution_count": 41,
     "metadata": {},
     "output_type": "execute_result"
    }
   ],
   "source": [
    "id(sys.modules['math'])"
   ]
  },
  {
   "cell_type": "code",
   "execution_count": 42,
   "id": "1864f12e",
   "metadata": {},
   "outputs": [
    {
     "data": {
      "text/plain": [
       "'math'"
      ]
     },
     "execution_count": 42,
     "metadata": {},
     "output_type": "execute_result"
    }
   ],
   "source": [
    "math.__name__"
   ]
  },
  {
   "cell_type": "code",
   "execution_count": 43,
   "id": "93b36b1f",
   "metadata": {},
   "outputs": [
    {
     "data": {
      "text/plain": [
       "'math'"
      ]
     },
     "execution_count": 43,
     "metadata": {},
     "output_type": "execute_result"
    }
   ],
   "source": [
    "math.__name__"
   ]
  },
  {
   "cell_type": "code",
   "execution_count": 44,
   "id": "e650dc4f",
   "metadata": {},
   "outputs": [
    {
     "data": {
      "text/plain": [
       "{'__name__': 'math',\n",
       " '__doc__': 'This module provides access to the mathematical functions\\ndefined by the C standard.',\n",
       " '__package__': '',\n",
       " '__loader__': <_frozen_importlib_external.ExtensionFileLoader at 0x7faab1e14ee0>,\n",
       " '__spec__': ModuleSpec(name='math', loader=<_frozen_importlib_external.ExtensionFileLoader object at 0x7faab1e14ee0>, origin='/home/carl/anaconda3/lib/python3.9/lib-dynload/math.cpython-39-x86_64-linux-gnu.so'),\n",
       " 'acos': <function math.acos(x, /)>,\n",
       " 'acosh': <function math.acosh(x, /)>,\n",
       " 'asin': <function math.asin(x, /)>,\n",
       " 'asinh': <function math.asinh(x, /)>,\n",
       " 'atan': <function math.atan(x, /)>,\n",
       " 'atan2': <function math.atan2(y, x, /)>,\n",
       " 'atanh': <function math.atanh(x, /)>,\n",
       " 'ceil': <function math.ceil(x, /)>,\n",
       " 'copysign': <function math.copysign(x, y, /)>,\n",
       " 'cos': <function math.cos(x, /)>,\n",
       " 'cosh': <function math.cosh(x, /)>,\n",
       " 'degrees': <function math.degrees(x, /)>,\n",
       " 'dist': <function math.dist(p, q, /)>,\n",
       " 'erf': <function math.erf(x, /)>,\n",
       " 'erfc': <function math.erfc(x, /)>,\n",
       " 'exp': <function math.exp(x, /)>,\n",
       " 'expm1': <function math.expm1(x, /)>,\n",
       " 'fabs': <function math.fabs(x, /)>,\n",
       " 'factorial': <function math.factorial(x, /)>,\n",
       " 'floor': <function math.floor(x, /)>,\n",
       " 'fmod': <function math.fmod(x, y, /)>,\n",
       " 'frexp': <function math.frexp(x, /)>,\n",
       " 'fsum': <function math.fsum(seq, /)>,\n",
       " 'gamma': <function math.gamma(x, /)>,\n",
       " 'gcd': <function math.gcd(*integers)>,\n",
       " 'hypot': <function math.hypot>,\n",
       " 'isclose': <function math.isclose(a, b, *, rel_tol=1e-09, abs_tol=0.0)>,\n",
       " 'isfinite': <function math.isfinite(x, /)>,\n",
       " 'isinf': <function math.isinf(x, /)>,\n",
       " 'isnan': <function math.isnan(x, /)>,\n",
       " 'isqrt': <function math.isqrt(n, /)>,\n",
       " 'lcm': <function math.lcm(*integers)>,\n",
       " 'ldexp': <function math.ldexp(x, i, /)>,\n",
       " 'lgamma': <function math.lgamma(x, /)>,\n",
       " 'log': <function math.log>,\n",
       " 'log1p': <function math.log1p(x, /)>,\n",
       " 'log10': <function math.log10(x, /)>,\n",
       " 'log2': <function math.log2(x, /)>,\n",
       " 'modf': <function math.modf(x, /)>,\n",
       " 'pow': <function math.pow(x, y, /)>,\n",
       " 'radians': <function math.radians(x, /)>,\n",
       " 'remainder': <function math.remainder(x, y, /)>,\n",
       " 'sin': <function math.sin(x, /)>,\n",
       " 'sinh': <function math.sinh(x, /)>,\n",
       " 'sqrt': <function math.sqrt(x, /)>,\n",
       " 'tan': <function math.tan(x, /)>,\n",
       " 'tanh': <function math.tanh(x, /)>,\n",
       " 'trunc': <function math.trunc(x, /)>,\n",
       " 'prod': <function math.prod(iterable, /, *, start=1)>,\n",
       " 'perm': <function math.perm(n, k=None, /)>,\n",
       " 'comb': <function math.comb(n, k, /)>,\n",
       " 'nextafter': <function math.nextafter(x, y, /)>,\n",
       " 'ulp': <function math.ulp(x, /)>,\n",
       " '__file__': '/home/carl/anaconda3/lib/python3.9/lib-dynload/math.cpython-39-x86_64-linux-gnu.so',\n",
       " 'pi': 3.141592653589793,\n",
       " 'e': 2.718281828459045,\n",
       " 'tau': 6.283185307179586,\n",
       " 'inf': inf,\n",
       " 'nan': nan}"
      ]
     },
     "execution_count": 44,
     "metadata": {},
     "output_type": "execute_result"
    }
   ],
   "source": [
    "math.__dict__"
   ]
  },
  {
   "cell_type": "code",
   "execution_count": 45,
   "id": "5ef8d60a",
   "metadata": {},
   "outputs": [],
   "source": [
    "f = math.__dict__['sqrt']"
   ]
  },
  {
   "cell_type": "code",
   "execution_count": 46,
   "id": "f1aa9ec6",
   "metadata": {},
   "outputs": [
    {
     "data": {
      "text/plain": [
       "<function math.sqrt(x, /)>"
      ]
     },
     "execution_count": 46,
     "metadata": {},
     "output_type": "execute_result"
    }
   ],
   "source": [
    "f"
   ]
  },
  {
   "cell_type": "code",
   "execution_count": 47,
   "id": "e738cd7e",
   "metadata": {},
   "outputs": [
    {
     "data": {
      "text/plain": [
       "1.4142135623730951"
      ]
     },
     "execution_count": 47,
     "metadata": {},
     "output_type": "execute_result"
    }
   ],
   "source": [
    "f(2)"
   ]
  },
  {
   "cell_type": "code",
   "execution_count": 48,
   "id": "ee36da61",
   "metadata": {},
   "outputs": [],
   "source": [
    "import fractions"
   ]
  },
  {
   "cell_type": "code",
   "execution_count": 49,
   "id": "0ef456eb",
   "metadata": {},
   "outputs": [
    {
     "data": {
      "text/plain": [
       "<module 'fractions' from '/home/carl/anaconda3/lib/python3.9/fractions.py'>"
      ]
     },
     "execution_count": 49,
     "metadata": {},
     "output_type": "execute_result"
    }
   ],
   "source": [
    "sys.modules['fractions']"
   ]
  },
  {
   "cell_type": "code",
   "execution_count": 50,
   "id": "2ff617d5",
   "metadata": {},
   "outputs": [
    {
     "data": {
      "text/plain": [
       "['Decimal',\n",
       " 'Fraction',\n",
       " '_PyHASH_INF',\n",
       " '_PyHASH_MODULUS',\n",
       " '_RATIONAL_FORMAT',\n",
       " '__all__',\n",
       " '__builtins__',\n",
       " '__cached__',\n",
       " '__doc__',\n",
       " '__file__',\n",
       " '__loader__',\n",
       " '__name__',\n",
       " '__package__',\n",
       " '__spec__',\n",
       " 'math',\n",
       " 'numbers',\n",
       " 'operator',\n",
       " 're',\n",
       " 'sys']"
      ]
     },
     "execution_count": 50,
     "metadata": {},
     "output_type": "execute_result"
    }
   ],
   "source": [
    "dir(fractions)"
   ]
  },
  {
   "cell_type": "code",
   "execution_count": 51,
   "id": "1b983d15",
   "metadata": {},
   "outputs": [
    {
     "data": {
      "text/plain": [
       "{'__name__': 'fractions',\n",
       " '__doc__': 'Fraction, infinite-precision, real numbers.',\n",
       " '__package__': '',\n",
       " '__loader__': <_frozen_importlib_external.SourceFileLoader at 0x7faab0d02d60>,\n",
       " '__spec__': ModuleSpec(name='fractions', loader=<_frozen_importlib_external.SourceFileLoader object at 0x7faab0d02d60>, origin='/home/carl/anaconda3/lib/python3.9/fractions.py'),\n",
       " '__file__': '/home/carl/anaconda3/lib/python3.9/fractions.py',\n",
       " '__cached__': '/home/carl/anaconda3/lib/python3.9/__pycache__/fractions.cpython-39.pyc',\n",
       " '__builtins__': {'__name__': 'builtins',\n",
       "  '__doc__': \"Built-in functions, exceptions, and other objects.\\n\\nNoteworthy: None is the `nil' object; Ellipsis represents `...' in slices.\",\n",
       "  '__package__': '',\n",
       "  '__loader__': _frozen_importlib.BuiltinImporter,\n",
       "  '__spec__': ModuleSpec(name='builtins', loader=<class '_frozen_importlib.BuiltinImporter'>, origin='built-in'),\n",
       "  '__build_class__': <function __build_class__>,\n",
       "  '__import__': <function __import__>,\n",
       "  'abs': <function abs(x, /)>,\n",
       "  'all': <function all(iterable, /)>,\n",
       "  'any': <function any(iterable, /)>,\n",
       "  'ascii': <function ascii(obj, /)>,\n",
       "  'bin': <function bin(number, /)>,\n",
       "  'breakpoint': <function breakpoint>,\n",
       "  'callable': <function callable(obj, /)>,\n",
       "  'chr': <function chr(i, /)>,\n",
       "  'compile': <function compile(source, filename, mode, flags=0, dont_inherit=False, optimize=-1, *, _feature_version=-1)>,\n",
       "  'delattr': <function delattr(obj, name, /)>,\n",
       "  'dir': <function dir>,\n",
       "  'divmod': <function divmod(x, y, /)>,\n",
       "  'eval': <function eval(source, globals=None, locals=None, /)>,\n",
       "  'exec': <function exec(source, globals=None, locals=None, /)>,\n",
       "  'format': <function format(value, format_spec='', /)>,\n",
       "  'getattr': <function getattr>,\n",
       "  'globals': <function globals()>,\n",
       "  'hasattr': <function hasattr(obj, name, /)>,\n",
       "  'hash': <function hash(obj, /)>,\n",
       "  'hex': <function hex(number, /)>,\n",
       "  'id': <function id(obj, /)>,\n",
       "  'input': <bound method Kernel.raw_input of <ipykernel.ipkernel.IPythonKernel object at 0x7faaaf0d5d00>>,\n",
       "  'isinstance': <function isinstance(obj, class_or_tuple, /)>,\n",
       "  'issubclass': <function issubclass(cls, class_or_tuple, /)>,\n",
       "  'iter': <function iter>,\n",
       "  'len': <function len(obj, /)>,\n",
       "  'locals': <function locals()>,\n",
       "  'max': <function max>,\n",
       "  'min': <function min>,\n",
       "  'next': <function next>,\n",
       "  'oct': <function oct(number, /)>,\n",
       "  'ord': <function ord(c, /)>,\n",
       "  'pow': <function pow(base, exp, mod=None)>,\n",
       "  'print': <function print>,\n",
       "  'repr': <function repr(obj, /)>,\n",
       "  'round': <function round(number, ndigits=None)>,\n",
       "  'setattr': <function setattr(obj, name, value, /)>,\n",
       "  'sorted': <function sorted(iterable, /, *, key=None, reverse=False)>,\n",
       "  'sum': <function sum(iterable, /, start=0)>,\n",
       "  'vars': <function vars>,\n",
       "  'None': None,\n",
       "  'Ellipsis': Ellipsis,\n",
       "  'NotImplemented': NotImplemented,\n",
       "  'False': False,\n",
       "  'True': True,\n",
       "  'bool': bool,\n",
       "  'memoryview': memoryview,\n",
       "  'bytearray': bytearray,\n",
       "  'bytes': bytes,\n",
       "  'classmethod': classmethod,\n",
       "  'complex': complex,\n",
       "  'dict': dict,\n",
       "  'enumerate': enumerate,\n",
       "  'filter': filter,\n",
       "  'float': float,\n",
       "  'frozenset': frozenset,\n",
       "  'property': property,\n",
       "  'int': int,\n",
       "  'list': list,\n",
       "  'map': map,\n",
       "  'object': object,\n",
       "  'range': range,\n",
       "  'reversed': reversed,\n",
       "  'set': set,\n",
       "  'slice': slice,\n",
       "  'staticmethod': staticmethod,\n",
       "  'str': str,\n",
       "  'super': super,\n",
       "  'tuple': tuple,\n",
       "  'type': type,\n",
       "  'zip': zip,\n",
       "  '__debug__': True,\n",
       "  'BaseException': BaseException,\n",
       "  'Exception': Exception,\n",
       "  'TypeError': TypeError,\n",
       "  'StopAsyncIteration': StopAsyncIteration,\n",
       "  'StopIteration': StopIteration,\n",
       "  'GeneratorExit': GeneratorExit,\n",
       "  'SystemExit': SystemExit,\n",
       "  'KeyboardInterrupt': KeyboardInterrupt,\n",
       "  'ImportError': ImportError,\n",
       "  'ModuleNotFoundError': ModuleNotFoundError,\n",
       "  'OSError': OSError,\n",
       "  'EnvironmentError': OSError,\n",
       "  'IOError': OSError,\n",
       "  'EOFError': EOFError,\n",
       "  'RuntimeError': RuntimeError,\n",
       "  'RecursionError': RecursionError,\n",
       "  'NotImplementedError': NotImplementedError,\n",
       "  'NameError': NameError,\n",
       "  'UnboundLocalError': UnboundLocalError,\n",
       "  'AttributeError': AttributeError,\n",
       "  'SyntaxError': SyntaxError,\n",
       "  'IndentationError': IndentationError,\n",
       "  'TabError': TabError,\n",
       "  'LookupError': LookupError,\n",
       "  'IndexError': IndexError,\n",
       "  'KeyError': KeyError,\n",
       "  'ValueError': ValueError,\n",
       "  'UnicodeError': UnicodeError,\n",
       "  'UnicodeEncodeError': UnicodeEncodeError,\n",
       "  'UnicodeDecodeError': UnicodeDecodeError,\n",
       "  'UnicodeTranslateError': UnicodeTranslateError,\n",
       "  'AssertionError': AssertionError,\n",
       "  'ArithmeticError': ArithmeticError,\n",
       "  'FloatingPointError': FloatingPointError,\n",
       "  'OverflowError': OverflowError,\n",
       "  'ZeroDivisionError': ZeroDivisionError,\n",
       "  'SystemError': SystemError,\n",
       "  'ReferenceError': ReferenceError,\n",
       "  'MemoryError': MemoryError,\n",
       "  'BufferError': BufferError,\n",
       "  'Warning': Warning,\n",
       "  'UserWarning': UserWarning,\n",
       "  'DeprecationWarning': DeprecationWarning,\n",
       "  'PendingDeprecationWarning': PendingDeprecationWarning,\n",
       "  'SyntaxWarning': SyntaxWarning,\n",
       "  'RuntimeWarning': RuntimeWarning,\n",
       "  'FutureWarning': FutureWarning,\n",
       "  'ImportWarning': ImportWarning,\n",
       "  'UnicodeWarning': UnicodeWarning,\n",
       "  'BytesWarning': BytesWarning,\n",
       "  'ResourceWarning': ResourceWarning,\n",
       "  'ConnectionError': ConnectionError,\n",
       "  'BlockingIOError': BlockingIOError,\n",
       "  'BrokenPipeError': BrokenPipeError,\n",
       "  'ChildProcessError': ChildProcessError,\n",
       "  'ConnectionAbortedError': ConnectionAbortedError,\n",
       "  'ConnectionRefusedError': ConnectionRefusedError,\n",
       "  'ConnectionResetError': ConnectionResetError,\n",
       "  'FileExistsError': FileExistsError,\n",
       "  'FileNotFoundError': FileNotFoundError,\n",
       "  'IsADirectoryError': IsADirectoryError,\n",
       "  'NotADirectoryError': NotADirectoryError,\n",
       "  'InterruptedError': InterruptedError,\n",
       "  'PermissionError': PermissionError,\n",
       "  'ProcessLookupError': ProcessLookupError,\n",
       "  'TimeoutError': TimeoutError,\n",
       "  'open': <function io.open(file, mode='r', buffering=-1, encoding=None, errors=None, newline=None, closefd=True, opener=None)>,\n",
       "  'copyright': Copyright (c) 2001-2022 Python Software Foundation.\n",
       "  All Rights Reserved.\n",
       "  \n",
       "  Copyright (c) 2000 BeOpen.com.\n",
       "  All Rights Reserved.\n",
       "  \n",
       "  Copyright (c) 1995-2001 Corporation for National Research Initiatives.\n",
       "  All Rights Reserved.\n",
       "  \n",
       "  Copyright (c) 1991-1995 Stichting Mathematisch Centrum, Amsterdam.\n",
       "  All Rights Reserved.,\n",
       "  'credits':     Thanks to CWI, CNRI, BeOpen.com, Zope Corporation and a cast of thousands\n",
       "      for supporting Python development.  See www.python.org for more information.,\n",
       "  'license': Type license() to see the full license text,\n",
       "  'help': Type help() for interactive help, or help(object) for help about object.,\n",
       "  'execfile': <function _pydev_imps._pydev_execfile.execfile(file, glob=None, loc=None)>,\n",
       "  'runfile': <function _pydev_bundle.pydev_umd.runfile(filename, args=None, wdir=None, namespace=None)>,\n",
       "  '__IPYTHON__': True,\n",
       "  'display': <function IPython.core.display_functions.display(*objs, include=None, exclude=None, metadata=None, transient=None, display_id=None, raw=False, clear=False, **kwargs)>,\n",
       "  'get_ipython': <bound method InteractiveShell.get_ipython of <ipykernel.zmqshell.ZMQInteractiveShell object at 0x7faaaf0373d0>>},\n",
       " 'Decimal': decimal.Decimal,\n",
       " 'math': <module 'math' from '/home/carl/anaconda3/lib/python3.9/lib-dynload/math.cpython-39-x86_64-linux-gnu.so'>,\n",
       " 'numbers': <module 'numbers' from '/home/carl/anaconda3/lib/python3.9/numbers.py'>,\n",
       " 'operator': <module 'operator' from '/home/carl/anaconda3/lib/python3.9/operator.py'>,\n",
       " 're': <module 're' from '/home/carl/anaconda3/lib/python3.9/re.py'>,\n",
       " 'sys': <module 'sys' (built-in)>,\n",
       " '__all__': ['Fraction'],\n",
       " '_PyHASH_MODULUS': 2305843009213693951,\n",
       " '_PyHASH_INF': 314159,\n",
       " '_RATIONAL_FORMAT': re.compile(r'\\n    \\A\\s*                      # optional whitespace at the start, then\\n    (?P<sign>[-+]?)            # an optional sign, then\\n    (?=\\d|\\.\\d)                # lookahead for digit or .digit\\n    (?P<num>\\d*)               # numerator (possibly empty)\\n    (?:                        # followed by\\n       (?:/(?P<denom>\\d+))?    # an optional denominator\\n    |                          # or\\n       (?:\\.(?P<decimal>\\d*))? # an optional fractional part\\n       (?:E(?P<exp>[-+]?\\d+))? # and optional exponent\\n    )\\n    \\s*\\Z                      # and optional whitespace to finish\\n',\n",
       "            re.IGNORECASE|re.UNICODE|re.VERBOSE),\n",
       " 'Fraction': fractions.Fraction}"
      ]
     },
     "execution_count": 51,
     "metadata": {},
     "output_type": "execute_result"
    }
   ],
   "source": [
    "fractions.__dict__"
   ]
  },
  {
   "cell_type": "code",
   "execution_count": 53,
   "id": "d279f1b1",
   "metadata": {},
   "outputs": [],
   "source": [
    "import calendar"
   ]
  },
  {
   "cell_type": "code",
   "execution_count": 54,
   "id": "c8602998",
   "metadata": {},
   "outputs": [
    {
     "data": {
      "text/plain": [
       "<module 'calendar' from '/home/carl/anaconda3/lib/python3.9/calendar.py'>"
      ]
     },
     "execution_count": 54,
     "metadata": {},
     "output_type": "execute_result"
    }
   ],
   "source": [
    "calendar"
   ]
  },
  {
   "cell_type": "code",
   "execution_count": 55,
   "id": "0549d201",
   "metadata": {},
   "outputs": [],
   "source": [
    "import types"
   ]
  },
  {
   "cell_type": "code",
   "execution_count": 56,
   "id": "b0bf5fc9",
   "metadata": {},
   "outputs": [
    {
     "data": {
      "text/plain": [
       "True"
      ]
     },
     "execution_count": 56,
     "metadata": {},
     "output_type": "execute_result"
    }
   ],
   "source": [
    "isinstance(fractions, types.ModuleType)"
   ]
  },
  {
   "cell_type": "code",
   "execution_count": 57,
   "id": "84609109",
   "metadata": {},
   "outputs": [
    {
     "data": {
      "text/plain": [
       "True"
      ]
     },
     "execution_count": 57,
     "metadata": {},
     "output_type": "execute_result"
    }
   ],
   "source": [
    "isinstance(math, types.ModuleType)"
   ]
  },
  {
   "cell_type": "code",
   "execution_count": 58,
   "id": "7c3cf920",
   "metadata": {},
   "outputs": [],
   "source": [
    "mod = types.ModuleType('test', 'This is a test module')"
   ]
  },
  {
   "cell_type": "code",
   "execution_count": 60,
   "id": "7892dfd4",
   "metadata": {},
   "outputs": [
    {
     "data": {
      "text/plain": [
       "True"
      ]
     },
     "execution_count": 60,
     "metadata": {},
     "output_type": "execute_result"
    }
   ],
   "source": [
    "from types import ModuleType\n",
    "\n",
    "isinstance(mod, ModuleType)"
   ]
  },
  {
   "cell_type": "code",
   "execution_count": 61,
   "id": "5b658579",
   "metadata": {},
   "outputs": [
    {
     "data": {
      "text/plain": [
       "{'__name__': 'test',\n",
       " '__doc__': 'This is a test module',\n",
       " '__package__': None,\n",
       " '__loader__': None,\n",
       " '__spec__': None}"
      ]
     },
     "execution_count": 61,
     "metadata": {},
     "output_type": "execute_result"
    }
   ],
   "source": [
    "mod.__dict__"
   ]
  },
  {
   "cell_type": "code",
   "execution_count": 63,
   "id": "c4f0a7f2",
   "metadata": {},
   "outputs": [],
   "source": [
    "mod.hello = lambda: 'hello!'"
   ]
  },
  {
   "cell_type": "code",
   "execution_count": 64,
   "id": "e00f424f",
   "metadata": {},
   "outputs": [
    {
     "data": {
      "text/plain": [
       "'hello!'"
      ]
     },
     "execution_count": 64,
     "metadata": {},
     "output_type": "execute_result"
    }
   ],
   "source": [
    "mod.hello()"
   ]
  },
  {
   "cell_type": "code",
   "execution_count": 65,
   "id": "4c7cd5dc",
   "metadata": {},
   "outputs": [],
   "source": [
    "hello = mod.hello"
   ]
  },
  {
   "cell_type": "code",
   "execution_count": 66,
   "id": "09f772c0",
   "metadata": {},
   "outputs": [
    {
     "data": {
      "text/plain": [
       "True"
      ]
     },
     "execution_count": 66,
     "metadata": {},
     "output_type": "execute_result"
    }
   ],
   "source": [
    "'hello' in globals()"
   ]
  },
  {
   "cell_type": "code",
   "execution_count": 67,
   "id": "69a9f65f",
   "metadata": {},
   "outputs": [
    {
     "data": {
      "text/plain": [
       "True"
      ]
     },
     "execution_count": 67,
     "metadata": {},
     "output_type": "execute_result"
    }
   ],
   "source": [
    "'mod' in globals()"
   ]
  },
  {
   "cell_type": "code",
   "execution_count": 68,
   "id": "039a84f9",
   "metadata": {},
   "outputs": [
    {
     "data": {
      "text/plain": [
       "'hello!'"
      ]
     },
     "execution_count": 68,
     "metadata": {},
     "output_type": "execute_result"
    }
   ],
   "source": [
    "hello()"
   ]
  },
  {
   "cell_type": "code",
   "execution_count": 69,
   "id": "101e7d0f",
   "metadata": {},
   "outputs": [],
   "source": [
    "from collections import namedtuple"
   ]
  },
  {
   "cell_type": "code",
   "execution_count": 70,
   "id": "268a7b3c",
   "metadata": {},
   "outputs": [],
   "source": [
    "mod.Point = namedtuple(\"Point\", 'x y')"
   ]
  },
  {
   "cell_type": "code",
   "execution_count": 72,
   "id": "c4b3e168",
   "metadata": {},
   "outputs": [],
   "source": [
    "p1 = mod.Point(0, 0)\n",
    "p2 = mod.Point(1, 1)"
   ]
  },
  {
   "cell_type": "code",
   "execution_count": 73,
   "id": "39130752",
   "metadata": {},
   "outputs": [
    {
     "data": {
      "text/plain": [
       "Point(x=0, y=0)"
      ]
     },
     "execution_count": 73,
     "metadata": {},
     "output_type": "execute_result"
    }
   ],
   "source": [
    "p1"
   ]
  },
  {
   "cell_type": "code",
   "execution_count": 74,
   "id": "a3edb495",
   "metadata": {},
   "outputs": [
    {
     "data": {
      "text/plain": [
       "['Point',\n",
       " '__doc__',\n",
       " '__loader__',\n",
       " '__name__',\n",
       " '__package__',\n",
       " '__spec__',\n",
       " 'hello']"
      ]
     },
     "execution_count": 74,
     "metadata": {},
     "output_type": "execute_result"
    }
   ],
   "source": [
    "dir(mod)"
   ]
  },
  {
   "cell_type": "code",
   "execution_count": 75,
   "id": "aa4a099f",
   "metadata": {},
   "outputs": [],
   "source": [
    "PT = getattr(mod, \"Point\")"
   ]
  },
  {
   "cell_type": "code",
   "execution_count": 76,
   "id": "245fbe35",
   "metadata": {},
   "outputs": [
    {
     "data": {
      "text/plain": [
       "Point(x=10, y=20)"
      ]
     },
     "execution_count": 76,
     "metadata": {},
     "output_type": "execute_result"
    }
   ],
   "source": [
    "PT(10, 20)"
   ]
  },
  {
   "cell_type": "code",
   "execution_count": 77,
   "id": "0783150c",
   "metadata": {},
   "outputs": [],
   "source": [
    "PT = mod.__dict__['Point']"
   ]
  },
  {
   "cell_type": "code",
   "execution_count": 78,
   "id": "90525799",
   "metadata": {},
   "outputs": [
    {
     "data": {
      "text/plain": [
       "Point(x=20, y=20)"
      ]
     },
     "execution_count": 78,
     "metadata": {},
     "output_type": "execute_result"
    }
   ],
   "source": [
    "PT(20, 20)"
   ]
  }
 ],
 "metadata": {
  "kernelspec": {
   "display_name": "Python 3 (ipykernel)",
   "language": "python",
   "name": "python3"
  },
  "language_info": {
   "codemirror_mode": {
    "name": "ipython",
    "version": 3
   },
   "file_extension": ".py",
   "mimetype": "text/x-python",
   "name": "python",
   "nbconvert_exporter": "python",
   "pygments_lexer": "ipython3",
   "version": "3.9.12"
  },
  "vscode": {
   "interpreter": {
    "hash": "143d2740fa7885280d88cdaad3dbdadb51fa40347825ef5e3d2acba7c4a72194"
   }
  }
 },
 "nbformat": 4,
 "nbformat_minor": 5
}
