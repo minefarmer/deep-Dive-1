{
 "cells": [
  {
   "cell_type": "markdown",
   "id": "5b6edeb2",
   "metadata": {},
   "source": [
    "                                    Reloading Modules"
   ]
  },
  {
   "cell_type": "code",
   "execution_count": 1,
   "id": "3e7bb353",
   "metadata": {},
   "outputs": [
    {
     "ename": "NameError",
     "evalue": "name 'module_name' is not defined",
     "output_type": "error",
     "traceback": [
      "\u001b[1;31m---------------------------------------------------------------------------\u001b[0m",
      "\u001b[1;31mNameError\u001b[0m                                 Traceback (most recent call last)",
      "\u001b[1;32mc:\\Users\\pgold\\MatsHub\\deep-Dive-1\\class_notes\\modules_packages_namespaces\\reloading_modules.ipynb Cell 2\u001b[0m in \u001b[0;36m<cell line: 8>\u001b[1;34m()\u001b[0m\n\u001b[0;32m      <a href='vscode-notebook-cell:/c%3A/Users/pgold/MatsHub/deep-Dive-1/class_notes/modules_packages_namespaces/reloading_modules.ipynb#W1sZmlsZQ%3D%3D?line=2'>3</a>\u001b[0m \u001b[39mdef\u001b[39;00m \u001b[39mcreate_module_file\u001b[39m(module_name, \u001b[39m*\u001b[39m\u001b[39m*\u001b[39mkwargs):\n\u001b[0;32m      <a href='vscode-notebook-cell:/c%3A/Users/pgold/MatsHub/deep-Dive-1/class_notes/modules_packages_namespaces/reloading_modules.ipynb#W1sZmlsZQ%3D%3D?line=3'>4</a>\u001b[0m     \u001b[39m'''Create a module file named <module_name>\u001b[39;00m\n\u001b[0;32m      <a href='vscode-notebook-cell:/c%3A/Users/pgold/MatsHub/deep-Dive-1/class_notes/modules_packages_namespaces/reloading_modules.ipynb#W1sZmlsZQ%3D%3D?line=4'>5</a>\u001b[0m \u001b[39m    Module has a single function (print_values) that will print out the supplied (stringified) kwargs.'''\u001b[39;00m\n\u001b[1;32m----> <a href='vscode-notebook-cell:/c%3A/Users/pgold/MatsHub/deep-Dive-1/class_notes/modules_packages_namespaces/reloading_modules.ipynb#W1sZmlsZQ%3D%3D?line=7'>8</a>\u001b[0m module_file_name \u001b[39m=\u001b[39m \u001b[39mf\u001b[39m\u001b[39m'\u001b[39m\u001b[39m{\u001b[39;00mmodule_name\u001b[39m}\u001b[39;00m\u001b[39m.py\u001b[39m\u001b[39m'\u001b[39m\n\u001b[0;32m      <a href='vscode-notebook-cell:/c%3A/Users/pgold/MatsHub/deep-Dive-1/class_notes/modules_packages_namespaces/reloading_modules.ipynb#W1sZmlsZQ%3D%3D?line=8'>9</a>\u001b[0m \u001b[39m# module_file_name = '{0}.py'.format(module_name)\u001b[39;00m\n\u001b[0;32m     <a href='vscode-notebook-cell:/c%3A/Users/pgold/MatsHub/deep-Dive-1/class_notes/modules_packages_namespaces/reloading_modules.ipynb#W1sZmlsZQ%3D%3D?line=9'>10</a>\u001b[0m module_rel_file_path \u001b[39m=\u001b[39m module_file_name\n",
      "\u001b[1;31mNameError\u001b[0m: name 'module_name' is not defined"
     ]
    }
   ],
   "source": [
    "import os\n",
    "\n",
    "def create_module_file(module_name, **kwargs):\n",
    "    '''Create a module file named <module_name>\n",
    "    Module has a single function (print_values) that will print out the supplied (stringified) kwargs.'''\n",
    "\n",
    "\n",
    "module_file_name = f'{module_name}.py'\n",
    "# module_file_name = '{0}.py'.format(module_name)\n",
    "module_rel_file_path = module_file_name\n",
    "module_abs_file_path = os.path.abspath(module_rel_file_path)\n",
    "\n",
    "with open(module_abs_file_path, 'w') as f:\n",
    "    f.write(f' # {module_name}.py\\n\\n')\n",
    "    f.write(f\"print('running {module_file_name}...')\\n\\n\")\n",
    "    f.write(f'def print_values():\\n')\n",
    "    for key, value in kwargs.items():\n",
    "        f.write(f\"\\tprint('{str(key)}', '{str(value)}')\\n\")\n"
   ]
  },
  {
   "cell_type": "code",
   "execution_count": null,
   "id": "442aed93",
   "metadata": {},
   "outputs": [],
   "source": [
    "create_module_file('test', k1=10, k2='python', k3='cheese')"
   ]
  },
  {
   "cell_type": "code",
   "execution_count": null,
   "id": "a9cd8462",
   "metadata": {},
   "outputs": [],
   "source": [
    "import test"
   ]
  },
  {
   "cell_type": "code",
   "execution_count": null,
   "id": "922e9072",
   "metadata": {},
   "outputs": [
    {
     "name": "stdout",
     "output_type": "stream",
     "text": [
      "k1 10\n",
      "k2 python\n"
     ]
    }
   ],
   "source": [
    "test.print_values()"
   ]
  },
  {
   "cell_type": "code",
   "execution_count": null,
   "id": "0b9aa7da",
   "metadata": {},
   "outputs": [
    {
     "data": {
      "text/plain": [
       "3118514389376"
      ]
     },
     "execution_count": 58,
     "metadata": {},
     "output_type": "execute_result"
    }
   ],
   "source": [
    "id(test)"
   ]
  },
  {
   "cell_type": "code",
   "execution_count": null,
   "id": "d36bb09b",
   "metadata": {},
   "outputs": [],
   "source": [
    "import sys"
   ]
  },
  {
   "cell_type": "code",
   "execution_count": null,
   "id": "62373141",
   "metadata": {},
   "outputs": [
    {
     "data": {
      "text/plain": [
       "True"
      ]
     },
     "execution_count": 69,
     "metadata": {},
     "output_type": "execute_result"
    }
   ],
   "source": [
    "'test' in sys.modules"
   ]
  },
  {
   "cell_type": "code",
   "execution_count": null,
   "id": "13c18bde",
   "metadata": {},
   "outputs": [],
   "source": [
    "del sys.modules['test']"
   ]
  },
  {
   "cell_type": "code",
   "execution_count": null,
   "id": "d5323be8",
   "metadata": {},
   "outputs": [
    {
     "data": {
      "text/plain": [
       "False"
      ]
     },
     "execution_count": 71,
     "metadata": {},
     "output_type": "execute_result"
    }
   ],
   "source": [
    "'test' in sys.modules"
   ]
  },
  {
   "cell_type": "code",
   "execution_count": null,
   "id": "d582f9c6",
   "metadata": {},
   "outputs": [],
   "source": [
    "import test"
   ]
  },
  {
   "cell_type": "code",
   "execution_count": null,
   "id": "1903efb9",
   "metadata": {},
   "outputs": [
    {
     "data": {
      "text/plain": [
       "3118508441088"
      ]
     },
     "execution_count": 73,
     "metadata": {},
     "output_type": "execute_result"
    }
   ],
   "source": [
    "id(sys.modules['test'])"
   ]
  },
  {
   "cell_type": "code",
   "execution_count": null,
   "id": "cecb52b0",
   "metadata": {},
   "outputs": [
    {
     "data": {
      "text/plain": [
       "True"
      ]
     },
     "execution_count": 74,
     "metadata": {},
     "output_type": "execute_result"
    }
   ],
   "source": [
    "'test'in globals()"
   ]
  },
  {
   "cell_type": "code",
   "execution_count": null,
   "id": "6eac766c",
   "metadata": {},
   "outputs": [
    {
     "data": {
      "text/plain": [
       "3118508441088"
      ]
     },
     "execution_count": 75,
     "metadata": {},
     "output_type": "execute_result"
    }
   ],
   "source": [
    "id(test)"
   ]
  },
  {
   "cell_type": "code",
   "execution_count": null,
   "id": "e9335ad8",
   "metadata": {},
   "outputs": [
    {
     "ename": "AttributeError",
     "evalue": "module 'test' has no attribute 'print_values'",
     "output_type": "error",
     "traceback": [
      "\u001b[1;31m---------------------------------------------------------------------------\u001b[0m",
      "\u001b[1;31mAttributeError\u001b[0m                            Traceback (most recent call last)",
      "\u001b[1;32mc:\\Users\\pgold\\MatsHub\\deep-Dive-1\\class_notes\\modules_packages_namespaces\\reloading_modules.ipynb Cell 15\u001b[0m in \u001b[0;36m<cell line: 1>\u001b[1;34m()\u001b[0m\n\u001b[1;32m----> <a href='vscode-notebook-cell:/c%3A/Users/pgold/MatsHub/deep-Dive-1/class_notes/modules_packages_namespaces/reloading_modules.ipynb#X26sZmlsZQ%3D%3D?line=0'>1</a>\u001b[0m test\u001b[39m.\u001b[39;49mprint_values()\n",
      "\u001b[1;31mAttributeError\u001b[0m: module 'test' has no attribute 'print_values'"
     ]
    }
   ],
   "source": [
    "test.print_values()"
   ]
  },
  {
   "cell_type": "code",
   "execution_count": null,
   "id": "5b1802c1",
   "metadata": {},
   "outputs": [
    {
     "data": {
      "text/plain": [
       "3118508441088"
      ]
     },
     "execution_count": 78,
     "metadata": {},
     "output_type": "execute_result"
    }
   ],
   "source": [
    "id(test)"
   ]
  },
  {
   "cell_type": "code",
   "execution_count": null,
   "id": "36eeabcc",
   "metadata": {},
   "outputs": [
    {
     "data": {
      "text/plain": [
       "(3118508441088, 3118508441088)"
      ]
     },
     "execution_count": 80,
     "metadata": {},
     "output_type": "execute_result"
    }
   ],
   "source": [
    "id(test), id(sys.modules['test'])"
   ]
  },
  {
   "cell_type": "code",
   "execution_count": null,
   "id": "6f99f6fb",
   "metadata": {},
   "outputs": [],
   "source": [
    "create_module_file('test', k=10, k2='python', ks='cheese', k4='parrots')"
   ]
  },
  {
   "cell_type": "code",
   "execution_count": null,
   "id": "a0a5e2f1",
   "metadata": {},
   "outputs": [
    {
     "data": {
      "text/plain": [
       "<module 'test' from 'c:\\\\Users\\\\pgold\\\\anaconda3\\\\lib\\\\test\\\\__init__.py'>"
      ]
     },
     "execution_count": 82,
     "metadata": {},
     "output_type": "execute_result"
    }
   ],
   "source": [
    "import importlib\n",
    "\n",
    "importlib.reload(test)"
   ]
  },
  {
   "cell_type": "code",
   "execution_count": null,
   "id": "a5b4dcc2",
   "metadata": {},
   "outputs": [
    {
     "data": {
      "text/plain": [
       "3118508441088"
      ]
     },
     "execution_count": 83,
     "metadata": {},
     "output_type": "execute_result"
    }
   ],
   "source": [
    "id(test)"
   ]
  },
  {
   "cell_type": "code",
   "execution_count": null,
   "id": "7cd3ccc2",
   "metadata": {},
   "outputs": [
    {
     "data": {
      "text/plain": [
       "3118508441088"
      ]
     },
     "execution_count": 84,
     "metadata": {},
     "output_type": "execute_result"
    }
   ],
   "source": [
    "id(sys.modules['test'])"
   ]
  },
  {
   "cell_type": "code",
   "execution_count": null,
   "id": "4fd13344",
   "metadata": {},
   "outputs": [
    {
     "ename": "AttributeError",
     "evalue": "module 'test' has no attribute 'print_values'",
     "output_type": "error",
     "traceback": [
      "\u001b[1;31m---------------------------------------------------------------------------\u001b[0m",
      "\u001b[1;31mAttributeError\u001b[0m                            Traceback (most recent call last)",
      "\u001b[1;32mc:\\Users\\pgold\\MatsHub\\deep-Dive-1\\class_notes\\modules_packages_namespaces\\reloading_modules.ipynb Cell 22\u001b[0m in \u001b[0;36m<cell line: 1>\u001b[1;34m()\u001b[0m\n\u001b[1;32m----> <a href='vscode-notebook-cell:/c%3A/Users/pgold/MatsHub/deep-Dive-1/class_notes/modules_packages_namespaces/reloading_modules.ipynb#X40sZmlsZQ%3D%3D?line=0'>1</a>\u001b[0m test\u001b[39m.\u001b[39;49mprint_values()\n",
      "\u001b[1;31mAttributeError\u001b[0m: module 'test' has no attribute 'print_values'"
     ]
    }
   ],
   "source": [
    "test.print_values()"
   ]
  },
  {
   "cell_type": "code",
   "execution_count": null,
   "id": "189cd6a6",
   "metadata": {},
   "outputs": [],
   "source": [
    "create_module_file('test2', k1='python')"
   ]
  },
  {
   "cell_type": "code",
   "execution_count": null,
   "id": "560837fe",
   "metadata": {},
   "outputs": [
    {
     "ename": "ModuleNotFoundError",
     "evalue": "No module named 'test2'",
     "output_type": "error",
     "traceback": [
      "\u001b[1;31m---------------------------------------------------------------------------\u001b[0m",
      "\u001b[1;31mModuleNotFoundError\u001b[0m                       Traceback (most recent call last)",
      "\u001b[1;32mc:\\Users\\pgold\\MatsHub\\deep-Dive-1\\class_notes\\modules_packages_namespaces\\reloading_modules.ipynb Cell 24\u001b[0m in \u001b[0;36m<cell line: 1>\u001b[1;34m()\u001b[0m\n\u001b[1;32m----> <a href='vscode-notebook-cell:/c%3A/Users/pgold/MatsHub/deep-Dive-1/class_notes/modules_packages_namespaces/reloading_modules.ipynb#X42sZmlsZQ%3D%3D?line=0'>1</a>\u001b[0m \u001b[39mfrom\u001b[39;00m \u001b[39mtest2\u001b[39;00m \u001b[39mimport\u001b[39;00m print_values\n",
      "\u001b[1;31mModuleNotFoundError\u001b[0m: No module named 'test2'"
     ]
    }
   ],
   "source": [
    "from test2 import print_values"
   ]
  },
  {
   "cell_type": "code",
   "execution_count": null,
   "id": "a005f762",
   "metadata": {},
   "outputs": [
    {
     "data": {
      "text/plain": [
       "False"
      ]
     },
     "execution_count": 90,
     "metadata": {},
     "output_type": "execute_result"
    }
   ],
   "source": [
    "'test2' in globals()"
   ]
  },
  {
   "cell_type": "code",
   "execution_count": null,
   "id": "4e3e0daf",
   "metadata": {},
   "outputs": [
    {
     "data": {
      "text/plain": [
       "True"
      ]
     },
     "execution_count": 91,
     "metadata": {},
     "output_type": "execute_result"
    }
   ],
   "source": [
    "'test' in sys.modules"
   ]
  },
  {
   "cell_type": "code",
   "execution_count": null,
   "id": "4988af46",
   "metadata": {},
   "outputs": [
    {
     "ename": "NameError",
     "evalue": "name 'print_values' is not defined",
     "output_type": "error",
     "traceback": [
      "\u001b[1;31m---------------------------------------------------------------------------\u001b[0m",
      "\u001b[1;31mNameError\u001b[0m                                 Traceback (most recent call last)",
      "\u001b[1;32mc:\\Users\\pgold\\MatsHub\\deep-Dive-1\\class_notes\\modules_packages_namespaces\\reloading_modules.ipynb Cell 27\u001b[0m in \u001b[0;36m<cell line: 1>\u001b[1;34m()\u001b[0m\n\u001b[1;32m----> <a href='vscode-notebook-cell:/c%3A/Users/pgold/MatsHub/deep-Dive-1/class_notes/modules_packages_namespaces/reloading_modules.ipynb#X45sZmlsZQ%3D%3D?line=0'>1</a>\u001b[0m print_values()\n",
      "\u001b[1;31mNameError\u001b[0m: name 'print_values' is not defined"
     ]
    }
   ],
   "source": [
    "print_values()"
   ]
  },
  {
   "cell_type": "code",
   "execution_count": 2,
   "id": "6c125a20",
   "metadata": {},
   "outputs": [],
   "source": [
    "create_module_file('test2', k1='python', k2='cheese')"
   ]
  },
  {
   "cell_type": "code",
   "execution_count": 3,
   "id": "29b417d6",
   "metadata": {},
   "outputs": [
    {
     "ename": "NameError",
     "evalue": "name 'importlib' is not defined",
     "output_type": "error",
     "traceback": [
      "\u001b[1;31m---------------------------------------------------------------------------\u001b[0m",
      "\u001b[1;31mNameError\u001b[0m                                 Traceback (most recent call last)",
      "\u001b[1;32mc:\\Users\\pgold\\MatsHub\\deep-Dive-1\\class_notes\\modules_packages_namespaces\\reloading_modules.ipynb Cell 29\u001b[0m in \u001b[0;36m<cell line: 1>\u001b[1;34m()\u001b[0m\n\u001b[1;32m----> <a href='vscode-notebook-cell:/c%3A/Users/pgold/MatsHub/deep-Dive-1/class_notes/modules_packages_namespaces/reloading_modules.ipynb#X50sZmlsZQ%3D%3D?line=0'>1</a>\u001b[0m importlib\u001b[39m.\u001b[39mreload(sys\u001b[39m.\u001b[39mmodules[\u001b[39m'\u001b[39m\u001b[39mtest2\u001b[39m\u001b[39m'\u001b[39m])\n",
      "\u001b[1;31mNameError\u001b[0m: name 'importlib' is not defined"
     ]
    }
   ],
   "source": [
    "importlib.reload(sys.modules['test2'])"
   ]
  },
  {
   "cell_type": "code",
   "execution_count": 4,
   "id": "f310b8cd",
   "metadata": {},
   "outputs": [
    {
     "ename": "NameError",
     "evalue": "name 'print_values' is not defined",
     "output_type": "error",
     "traceback": [
      "\u001b[1;31m---------------------------------------------------------------------------\u001b[0m",
      "\u001b[1;31mNameError\u001b[0m                                 Traceback (most recent call last)",
      "\u001b[1;32mc:\\Users\\pgold\\MatsHub\\deep-Dive-1\\class_notes\\modules_packages_namespaces\\reloading_modules.ipynb Cell 30\u001b[0m in \u001b[0;36m<cell line: 1>\u001b[1;34m()\u001b[0m\n\u001b[1;32m----> <a href='vscode-notebook-cell:/c%3A/Users/pgold/MatsHub/deep-Dive-1/class_notes/modules_packages_namespaces/reloading_modules.ipynb#X51sZmlsZQ%3D%3D?line=0'>1</a>\u001b[0m print_values()\n",
      "\u001b[1;31mNameError\u001b[0m: name 'print_values' is not defined"
     ]
    }
   ],
   "source": [
    "print_values()"
   ]
  },
  {
   "cell_type": "code",
   "execution_count": 5,
   "id": "e9a5b579",
   "metadata": {},
   "outputs": [
    {
     "ename": "KeyError",
     "evalue": "'test2'",
     "output_type": "error",
     "traceback": [
      "\u001b[1;31m---------------------------------------------------------------------------\u001b[0m",
      "\u001b[1;31mKeyError\u001b[0m                                  Traceback (most recent call last)",
      "\u001b[1;32mc:\\Users\\pgold\\MatsHub\\deep-Dive-1\\class_notes\\modules_packages_namespaces\\reloading_modules.ipynb Cell 31\u001b[0m in \u001b[0;36m<cell line: 1>\u001b[1;34m()\u001b[0m\n\u001b[1;32m----> <a href='vscode-notebook-cell:/c%3A/Users/pgold/MatsHub/deep-Dive-1/class_notes/modules_packages_namespaces/reloading_modules.ipynb#X52sZmlsZQ%3D%3D?line=0'>1</a>\u001b[0m print_values \u001b[39m=\u001b[39m sys\u001b[39m.\u001b[39;49mmodules[\u001b[39m'\u001b[39;49m\u001b[39mtest2\u001b[39;49m\u001b[39m'\u001b[39;49m]\u001b[39m.\u001b[39mprint_values\n",
      "\u001b[1;31mKeyError\u001b[0m: 'test2'"
     ]
    }
   ],
   "source": [
    "print_values = sys.modules['test2'].print_values"
   ]
  },
  {
   "cell_type": "code",
   "execution_count": null,
   "id": "2784e0c6",
   "metadata": {},
   "outputs": [],
   "source": []
  }
 ],
 "metadata": {
  "kernelspec": {
   "display_name": "Python 3.9.12 ('base')",
   "language": "python",
   "name": "python3"
  },
  "language_info": {
   "codemirror_mode": {
    "name": "ipython",
    "version": 3
   },
   "file_extension": ".py",
   "mimetype": "text/x-python",
   "name": "python",
   "nbconvert_exporter": "python",
   "pygments_lexer": "ipython3",
   "version": "3.9.12"
  },
  "vscode": {
   "interpreter": {
    "hash": "a624adbc5e596fddf72740b255048309200567f23df85867ce297e9f9d364c1b"
   }
  }
 },
 "nbformat": 4,
 "nbformat_minor": 5
}
