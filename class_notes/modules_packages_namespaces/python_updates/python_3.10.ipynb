{
 "cells": [
  {
   "cell_type": "markdown",
   "id": "c3d166d3",
   "metadata": {},
   "source": [
    "                        Relevant Python Changes 3.10"
   ]
  },
  {
   "cell_type": "code",
   "execution_count": 3,
   "id": "e44118a8",
   "metadata": {},
   "outputs": [
    {
     "ename": "SyntaxError",
     "evalue": "invalid syntax (2064590109.py, line 2)",
     "output_type": "error",
     "traceback": [
      "\u001b[1;36m  Input \u001b[1;32mIn [3]\u001b[1;36m\u001b[0m\n\u001b[1;33m    match language:\u001b[0m\n\u001b[1;37m          ^\u001b[0m\n\u001b[1;31mSyntaxError\u001b[0m\u001b[1;31m:\u001b[0m invalid syntax\n"
     ]
    }
   ],
   "source": [
    "def respond(language):\n",
    "    match language:\n",
    "        case 'Java':\n",
    "            return \"Hmm, coffee!\"\n",
    "        case \"Python\":\n",
    "            return \"1'm not scared of snakes!\"\n",
    "        case \"Rust\":\n",
    "            return \"Don't drink too much water!\"\n",
    "        case \"Go\":\n",
    "            return \"Collect $399\"\n",
    "        case _: \"I'm sorry...\""
   ]
  }
 ],
 "metadata": {
  "kernelspec": {
   "display_name": "base",
   "language": "python",
   "name": "python3"
  },
  "language_info": {
   "codemirror_mode": {
    "name": "ipython",
    "version": 3
   },
   "file_extension": ".py",
   "mimetype": "text/x-python",
   "name": "python",
   "nbconvert_exporter": "python",
   "pygments_lexer": "ipython3",
   "version": "3.9.12 (main, Apr  4 2022, 05:22:27) [MSC v.1916 64 bit (AMD64)]"
  },
  "vscode": {
   "interpreter": {
    "hash": "a624adbc5e596fddf72740b255048309200567f23df85867ce297e9f9d364c1b"
   }
  }
 },
 "nbformat": 4,
 "nbformat_minor": 5
}
