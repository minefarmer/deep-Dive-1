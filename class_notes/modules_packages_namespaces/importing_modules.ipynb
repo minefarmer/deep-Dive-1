{
 "cells": [
  {
   "cell_type": "markdown",
   "id": "9eafbfb4",
   "metadata": {},
   "source": [
    "                Importing Modules"
   ]
  },
  {
   "cell_type": "markdown",
   "id": "daa0b751",
   "metadata": {},
   "source": [
    "When we run a statement such as\n",
    "\n",
    "import fractions\n",
    "\n",
    "What is Python actually doing?"
   ]
  },
  {
   "cell_type": "markdown",
   "id": "8f9fd83e",
   "metadata": {},
   "source": [
    "The first thing to note is that Python is doingg the import at run time. i,e, while my code is actually running.\n",
    "\n",
    "This is different from traditional compiled languages such as C, where modules are compiles and linked at compile time.\n",
    "\n",
    "In both cases though, the system needs to know where those code files exist.\n",
    "\n",
    "Python uses a relatively complex system of how to find and load modules, we'll take a look at the main points."
   ]
  },
  {
   "cell_type": "markdown",
   "id": "46378426",
   "metadata": {},
   "source": [
    "Thesys module has a few properties that define where Python is going to look for modules (either built-in or standard library as well as our own or third party):"
   ]
  },
  {
   "cell_type": "markdown",
   "id": "890e71c7",
   "metadata": {},
   "source": [
    "import sys"
   ]
  },
  {
   "cell_type": "markdown",
   "id": "271d54de",
   "metadata": {},
   "source": [
    "Where is Python installed?"
   ]
  },
  {
   "cell_type": "code",
   "execution_count": 2,
   "id": "df6cfa2a",
   "metadata": {},
   "outputs": [
    {
     "data": {
      "text/plain": [
       "'c:\\\\Users\\\\pgold\\\\anaconda3'"
      ]
     },
     "execution_count": 2,
     "metadata": {},
     "output_type": "execute_result"
    }
   ],
   "source": [
    "sys.prefix"
   ]
  },
  {
   "cell_type": "markdown",
   "id": "4ab44807",
   "metadata": {},
   "source": [
    "Where are the compiled C binaries located?"
   ]
  },
  {
   "cell_type": "code",
   "execution_count": 1,
   "id": "991df3da",
   "metadata": {},
   "outputs": [
    {
     "data": {
      "text/plain": [
       "'c:\\\\Users\\\\pgold\\\\anaconda3'"
      ]
     },
     "execution_count": 1,
     "metadata": {},
     "output_type": "execute_result"
    }
   ],
   "source": [
    "sys.exec_prefix"
   ]
  },
  {
   "cell_type": "markdown",
   "id": "17f6dbbb",
   "metadata": {},
   "source": []
  }
 ],
 "metadata": {
  "kernelspec": {
   "display_name": "Python 3.9.12 ('base')",
   "language": "python",
   "name": "python3"
  },
  "language_info": {
   "codemirror_mode": {
    "name": "ipython",
    "version": 3
   },
   "file_extension": ".py",
   "mimetype": "text/x-python",
   "name": "python",
   "nbconvert_exporter": "python",
   "pygments_lexer": "ipython3",
   "version": "3.9.12"
  },
  "vscode": {
   "interpreter": {
    "hash": "a624adbc5e596fddf72740b255048309200567f23df85867ce297e9f9d364c1b"
   }
  }
 },
 "nbformat": 4,
 "nbformat_minor": 5
}
