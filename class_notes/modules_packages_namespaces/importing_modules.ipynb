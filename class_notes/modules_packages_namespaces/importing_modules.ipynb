{
 "cells": [
  {
   "cell_type": "markdown",
   "id": "a51a8bd1",
   "metadata": {},
   "source": [
    "                        Importing Modules"
   ]
  },
  {
   "cell_type": "markdown",
   "id": "fd77e387",
   "metadata": {},
   "source": [
    "Whem we run a statement such as\n",
    "\n",
    "import fractions\n",
    "\n",
    "what is Python really doing?"
   ]
  },
  {
   "cell_type": "markdown",
   "id": "7db8f856",
   "metadata": {},
   "source": [
    "The first thing is to note that python is doing the import at run time, i.e. while my code is actually running.\n",
    "\n",
    "This is different from traditional compiled languages such as C, where modules are compiled and linked at compile time.\n",
    "\n",
    "In both cases though, the system needs to know where those code files exist.\n",
    "\n",
    "Python uses a relatively complex system of how to find and load modules. We'll take a brief look at the mau=in points."
   ]
  },
  {
   "cell_type": "markdown",
   "id": "dde34d1e",
   "metadata": {},
   "source": [
    "The sys module has a few properties that define where Python is going to look for modules (either built-in or standard library as well as our own or third party):"
   ]
  },
  {
   "cell_type": "code",
   "execution_count": 1,
   "id": "72c8a8f0",
   "metadata": {},
   "outputs": [],
   "source": [
    "import sys"
   ]
  },
  {
   "cell_type": "markdown",
   "id": "554c784d",
   "metadata": {},
   "source": [
    "Where is python installed"
   ]
  },
  {
   "cell_type": "code",
   "execution_count": 2,
   "id": "a7d8c984",
   "metadata": {},
   "outputs": [
    {
     "data": {
      "text/plain": [
       "'c:\\\\Users\\\\pgold\\\\anaconda3'"
      ]
     },
     "execution_count": 2,
     "metadata": {},
     "output_type": "execute_result"
    }
   ],
   "source": [
    "sys.prefix"
   ]
  },
  {
   "cell_type": "markdown",
   "id": "50bf5bdd",
   "metadata": {},
   "source": [
    "Where are the compiled C binaries located?"
   ]
  },
  {
   "cell_type": "code",
   "execution_count": 3,
   "id": "b83a2586",
   "metadata": {},
   "outputs": [
    {
     "data": {
      "text/plain": [
       "'c:\\\\Users\\\\pgold\\\\anaconda3'"
      ]
     },
     "execution_count": 3,
     "metadata": {},
     "output_type": "execute_result"
    }
   ],
   "source": [
    "sys.exec_prefix"
   ]
  },
  {
   "cell_type": "markdown",
   "id": "5b0ae08f",
   "metadata": {},
   "source": [
    "Thes two properties are how virtual environments are basically able to work with different enviroments. Python is installed to a different set of directories, and these prefixes areMANIPULATED TO REFLECT THE CURRENT pYTHON LOCATION."
   ]
  },
  {
   "cell_type": "markdown",
   "id": "10cd1018",
   "metadata": {},
   "source": [
    "Where does python look for imports?"
   ]
  },
  {
   "cell_type": "code",
   "execution_count": 4,
   "id": "32390235",
   "metadata": {},
   "outputs": [
    {
     "data": {
      "text/plain": [
       "['c:\\\\Users\\\\pgold\\\\MatsHub\\\\deep-Dive-1\\\\class_notes\\\\modules_packages_namespaces',\n",
       " 'c:\\\\Users\\\\pgold\\\\anaconda3\\\\python39.zip',\n",
       " 'c:\\\\Users\\\\pgold\\\\anaconda3\\\\DLLs',\n",
       " 'c:\\\\Users\\\\pgold\\\\anaconda3\\\\lib',\n",
       " 'c:\\\\Users\\\\pgold\\\\anaconda3',\n",
       " '',\n",
       " 'c:\\\\Users\\\\pgold\\\\anaconda3\\\\lib\\\\site-packages',\n",
       " 'c:\\\\Users\\\\pgold\\\\anaconda3\\\\lib\\\\site-packages\\\\win32',\n",
       " 'c:\\\\Users\\\\pgold\\\\anaconda3\\\\lib\\\\site-packages\\\\win32\\\\lib',\n",
       " 'c:\\\\Users\\\\pgold\\\\anaconda3\\\\lib\\\\site-packages\\\\Pythonwin']"
      ]
     },
     "execution_count": 4,
     "metadata": {},
     "output_type": "execute_result"
    }
   ],
   "source": [
    "sys.path"
   ]
  },
  {
   "cell_type": "markdown",
   "id": "947d58b7",
   "metadata": {},
   "source": [
    "Basically when we import a module, Python will search for the moduje in the paths contained in sys.path.\n",
    "\n",
    "If it does not find the module in one of these paths, the import will fail.\n",
    "\n",
    "So, if I ever run into a problem where python is not able to import a module or package, I should check this first to make sure the path to my module/package exists.\n",
    "\n",
    "At a high level, this is how python imports a module from a file:"
   ]
  },
  {
   "cell_type": "markdown",
   "id": "f6e8fcc5",
   "metadata": {},
   "source": [
    "checks the sys.modules cache to see if the module has already been Imported - if so it simply uses the reference in there, otherwise:\n",
    "creates a new module object (types.ModuleType)\n",
    "loads the source code from file.\n",
    "adds an entry to sys.modules with the name as a key and the newly created module as the value.\n",
    "compiles and executes the source code."
   ]
  },
  {
   "cell_type": "markdown",
   "id": "5da6825f",
   "metadata": {},
   "source": [
    "When the module is imported, the module is executed."
   ]
  },
  {
   "cell_type": "code",
   "execution_count": null,
   "id": "fcfe1f44",
   "metadata": {},
   "outputs": [],
   "source": []
  }
 ],
 "metadata": {
  "kernelspec": {
   "display_name": "Python 3.9.12 ('base')",
   "language": "python",
   "name": "python3"
  },
  "language_info": {
   "codemirror_mode": {
    "name": "ipython",
    "version": 3
   },
   "file_extension": ".py",
   "mimetype": "text/x-python",
   "name": "python",
   "nbconvert_exporter": "python",
   "pygments_lexer": "ipython3",
   "version": "3.9.12"
  },
  "vscode": {
   "interpreter": {
    "hash": "a624adbc5e596fddf72740b255048309200567f23df85867ce297e9f9d364c1b"
   }
  }
 },
 "nbformat": 4,
 "nbformat_minor": 5
}
