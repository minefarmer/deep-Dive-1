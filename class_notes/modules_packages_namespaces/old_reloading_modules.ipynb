{
 "cells": [
  {
   "cell_type": "markdown",
   "id": "51a2d293",
   "metadata": {},
   "source": [
    "            RELOADING MODULES"
   ]
  },
  {
   "cell_type": "code",
   "execution_count": 8,
   "id": "6383711e",
   "metadata": {},
   "outputs": [
    {
     "ename": "NameError",
     "evalue": "name 'module_name' is not defined",
     "output_type": "error",
     "traceback": [
      "\u001b[0;31m---------------------------------------------------------------------------\u001b[0m",
      "\u001b[0;31mNameError\u001b[0m                                 Traceback (most recent call last)",
      "\u001b[1;32m/home/carl/Desktop/Matshub/deep-Dive-1/class_notes/modules_packages_namespaces/reloading_modules.ipynb Cell 2\u001b[0m in \u001b[0;36m<cell line: 8>\u001b[0;34m()\u001b[0m\n\u001b[1;32m      <a href='vscode-notebook-cell:/home/carl/Desktop/Matshub/deep-Dive-1/class_notes/modules_packages_namespaces/reloading_modules.ipynb#W1sZmlsZQ%3D%3D?line=2'>3</a>\u001b[0m \u001b[39mdef\u001b[39;00m \u001b[39mcreate_module_file\u001b[39m(module_name, \u001b[39m*\u001b[39m\u001b[39m*\u001b[39mkwargs):\n\u001b[1;32m      <a href='vscode-notebook-cell:/home/carl/Desktop/Matshub/deep-Dive-1/class_notes/modules_packages_namespaces/reloading_modules.ipynb#W1sZmlsZQ%3D%3D?line=3'>4</a>\u001b[0m     \u001b[39m'''Create a module file named <module_name.py\u001b[39;00m\n\u001b[1;32m      <a href='vscode-notebook-cell:/home/carl/Desktop/Matshub/deep-Dive-1/class_notes/modules_packages_namespaces/reloading_modules.ipynb#W1sZmlsZQ%3D%3D?line=4'>5</a>\u001b[0m \u001b[39m    Module has a single function (print_values) that will print out the supplied (stringified) kwargs\u001b[39;00m\n\u001b[1;32m      <a href='vscode-notebook-cell:/home/carl/Desktop/Matshub/deep-Dive-1/class_notes/modules_packages_namespaces/reloading_modules.ipynb#W1sZmlsZQ%3D%3D?line=5'>6</a>\u001b[0m \u001b[39m    '''\u001b[39;00m\n\u001b[0;32m----> <a href='vscode-notebook-cell:/home/carl/Desktop/Matshub/deep-Dive-1/class_notes/modules_packages_namespaces/reloading_modules.ipynb#W1sZmlsZQ%3D%3D?line=7'>8</a>\u001b[0m module_file_name \u001b[39m=\u001b[39m \u001b[39mf\u001b[39m\u001b[39m'\u001b[39m\u001b[39m{\u001b[39;00mmodule_name\u001b[39m}\u001b[39;00m\u001b[39m.py\u001b[39m\u001b[39m'\u001b[39m\n\u001b[1;32m      <a href='vscode-notebook-cell:/home/carl/Desktop/Matshub/deep-Dive-1/class_notes/modules_packages_namespaces/reloading_modules.ipynb#W1sZmlsZQ%3D%3D?line=8'>9</a>\u001b[0m \u001b[39m# module_file_name = '{0}.py',format(module_name)\u001b[39;00m\n\u001b[1;32m     <a href='vscode-notebook-cell:/home/carl/Desktop/Matshub/deep-Dive-1/class_notes/modules_packages_namespaces/reloading_modules.ipynb#W1sZmlsZQ%3D%3D?line=9'>10</a>\u001b[0m module_rel_file_path \u001b[39m=\u001b[39m module_file_name\n",
      "\u001b[0;31mNameError\u001b[0m: name 'module_name' is not defined"
     ]
    }
   ],
   "source": [
    "import os\n",
    "\n",
    "def create_module_file(module_name, **kwargs):\n",
    "    '''Create a module file named <module_name.py\n",
    "    Module has a single function (print_values) that will print out the supplied (stringified) kwargs\n",
    "    '''\n",
    "\n",
    "module_file_name = f'{module_name}.py'\n",
    "# module_file_name = '{0}.py',format(module_name)\n",
    "module_rel_file_path = module_file_name\n",
    "module_abs_file_path = os.path.abspath(module_rel_file_path)\n",
    "\n",
    "with open(module_abs_file_path, 'w') as f:\n",
    "    f.write(f'# {module_name}.py\\n\\n')\n",
    "    f.write(f\"print('running {module_file_name}...')\\n\\n\")\n",
    "    f.write(f'def print_values():\\n')\n",
    "    for key, value in kwargs,items():\n",
    "        f.write(f\"\\print('{str(key)}', '{str(value)}')\\n\")"
   ]
  },
  {
   "cell_type": "code",
   "execution_count": 9,
   "id": "5b854e3d",
   "metadata": {},
   "outputs": [
    {
     "ename": "NameError",
     "evalue": "name 'create_module' is not defined",
     "output_type": "error",
     "traceback": [
      "\u001b[0;31m---------------------------------------------------------------------------\u001b[0m",
      "\u001b[0;31mNameError\u001b[0m                                 Traceback (most recent call last)",
      "\u001b[1;32m/home/carl/Desktop/Matshub/deep-Dive-1/class_notes/modules_packages_namespaces/reloading_modules.ipynb Cell 3\u001b[0m in \u001b[0;36m<cell line: 1>\u001b[0;34m()\u001b[0m\n\u001b[0;32m----> <a href='vscode-notebook-cell:/home/carl/Desktop/Matshub/deep-Dive-1/class_notes/modules_packages_namespaces/reloading_modules.ipynb#W2sZmlsZQ%3D%3D?line=0'>1</a>\u001b[0m create_module(\u001b[39m'\u001b[39m\u001b[39mtest\u001b[39m\u001b[39m'\u001b[39m, k1\u001b[39m=\u001b[39m\u001b[39m10\u001b[39m, k2\u001b[39m=\u001b[39m\u001b[39m'\u001b[39m\u001b[39mpython\u001b[39m\u001b[39m'\u001b[39m)\n",
      "\u001b[0;31mNameError\u001b[0m: name 'create_module' is not defined"
     ]
    }
   ],
   "source": [
    "create_module('test', k1=10, k2='python')"
   ]
  },
  {
   "cell_type": "code",
   "execution_count": null,
   "id": "751d15c7",
   "metadata": {},
   "outputs": [],
   "source": [
    "import test"
   ]
  },
  {
   "cell_type": "code",
   "execution_count": null,
   "id": "6ab95109",
   "metadata": {},
   "outputs": [
    {
     "data": {
      "text/plain": [
       "<module 'test' from '/usr/lib/python3.9/test/__init__.py'>"
      ]
     },
     "execution_count": 5,
     "metadata": {},
     "output_type": "execute_result"
    }
   ],
   "source": [
    "test"
   ]
  },
  {
   "cell_type": "code",
   "execution_count": null,
   "id": "d3123d03",
   "metadata": {},
   "outputs": [
    {
     "ename": "AttributeError",
     "evalue": "module 'test' has no attribute 'print_values'",
     "output_type": "error",
     "traceback": [
      "\u001b[0;31m---------------------------------------------------------------------------\u001b[0m",
      "\u001b[0;31mAttributeError\u001b[0m                            Traceback (most recent call last)",
      "\u001b[1;32m/home/carl/Desktop/Matshub/deep-Dive-1/class_notes/modules_packages_namespaces/reloading_modules.ipynb Cell 6\u001b[0m in \u001b[0;36m<cell line: 1>\u001b[0;34m()\u001b[0m\n\u001b[0;32m----> <a href='vscode-notebook-cell:/home/carl/Desktop/Matshub/deep-Dive-1/class_notes/modules_packages_namespaces/reloading_modules.ipynb#W5sZmlsZQ%3D%3D?line=0'>1</a>\u001b[0m test\u001b[39m.\u001b[39;49mprint_values\n",
      "\u001b[0;31mAttributeError\u001b[0m: module 'test' has no attribute 'print_values'"
     ]
    }
   ],
   "source": [
    "test.print_values"
   ]
  }
 ],
 "metadata": {
  "kernelspec": {
   "display_name": "Python 3.9.7 ('base')",
   "language": "python",
   "name": "python3"
  },
  "language_info": {
   "codemirror_mode": {
    "name": "ipython",
    "version": 3
   },
   "file_extension": ".py",
   "mimetype": "text/x-python",
   "name": "python",
   "nbconvert_exporter": "python",
   "pygments_lexer": "ipython3",
   "version": "3.9.7"
  },
  "vscode": {
   "interpreter": {
    "hash": "ad2bdc8ecc057115af97d19610ffacc2b4e99fae6737bb82f5d7fb13d2f2c186"
   }
  }
 },
 "nbformat": 4,
 "nbformat_minor": 5
}
