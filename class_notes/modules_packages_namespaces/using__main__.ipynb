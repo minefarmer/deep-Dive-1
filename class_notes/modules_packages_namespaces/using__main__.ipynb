{
 "cells": [
  {
   "cell_type": "markdown",
   "id": "e9769848",
   "metadata": {},
   "source": [
    "Using__main__"
   ]
  },
  {
   "cell_type": "code",
   "execution_count": null,
   "id": "d9158513",
   "metadata": {},
   "outputs": [],
   "source": []
  }
 ],
 "metadata": {
  "kernelspec": {
   "display_name": "Python 3.9.7 ('base')",
   "language": "python",
   "name": "python3"
  },
  "language_info": {
   "codemirror_mode": {
    "name": "ipython",
    "version": 3
   },
   "file_extension": ".py",
   "mimetype": "text/x-python",
   "name": "python",
   "nbconvert_exporter": "python",
   "pygments_lexer": "ipython3",
   "version": "3.9.7"
  },
  "vscode": {
   "interpreter": {
    "hash": "ad2bdc8ecc057115af97d19610ffacc2b4e99fae6737bb82f5d7fb13d2f2c186"
   }
  }
 },
 "nbformat": 4,
 "nbformat_minor": 5
}
