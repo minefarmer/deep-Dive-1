{
 "cells": [
  {
   "cell_type": "markdown",
   "id": "55223149",
   "metadata": {},
   "source": [
    "Decorators Parameters Part: 2"
   ]
  },
  {
   "cell_type": "code",
   "execution_count": 83,
   "id": "7504f202",
   "metadata": {},
   "outputs": [],
   "source": [
    "def timed(fn):\n",
    "    from time import perf_counter\n",
    "\n",
    "    def inner(*args, **kwargs):\n",
    "        start = perf_counter()\n",
    "        result = fn(*args, **kwargs)\n",
    "        end = perf_counter()\n",
    "        elapsed = end - start\n",
    "        print('Run time: {0:.6f}s'.format(elapsed))\n",
    "        return result\n",
    "    return inner"
   ]
  },
  {
   "cell_type": "code",
   "execution_count": 84,
   "id": "29d0a84b",
   "metadata": {},
   "outputs": [],
   "source": [
    "def calc_fib_recurse(n):\n",
    "    return 1 if n < 3 else calc_fib_recurse(n-2) + calc_fib_recurse(n-1)\n",
    "\n",
    "@timed\n",
    "def fib(n):\n",
    "    return calc_fib_recurse(n)"
   ]
  },
  {
   "cell_type": "code",
   "execution_count": 85,
   "id": "0cea4ceb",
   "metadata": {},
   "outputs": [
    {
     "name": "stdout",
     "output_type": "stream",
     "text": [
      "Run time: 0.001377s\n"
     ]
    },
    {
     "data": {
      "text/plain": [
       "6765"
      ]
     },
     "execution_count": 85,
     "metadata": {},
     "output_type": "execute_result"
    }
   ],
   "source": [
    "fib(20)"
   ]
  },
  {
   "cell_type": "code",
   "execution_count": 86,
   "id": "b474ebd2",
   "metadata": {},
   "outputs": [],
   "source": [
    "def timed(fn):\n",
    "    from time import perf_counter\n",
    "\n",
    "    def inner(*args, **kwargs):\n",
    "        total_elapsed = 0\n",
    "        for i in range(10):\n",
    "            start = perf_counter()\n",
    "            result = fn(*args, **kwargs)\n",
    "            end = perf_counter()\n",
    "            total_elapsed += (end - start)\n",
    "\n",
    "        avg_run_time = total_elapsed / 10\n",
    "        print('Run time: {0:.6f}s'.format(avg_run_time))\n",
    "        return result\n",
    "    return inner"
   ]
  },
  {
   "cell_type": "code",
   "execution_count": 87,
   "id": "fdfc92b7",
   "metadata": {},
   "outputs": [],
   "source": [
    "def fib(n):\n",
    "    return calc_fib_recusive(n)"
   ]
  },
  {
   "cell_type": "code",
   "execution_count": 88,
   "id": "123a3f2b",
   "metadata": {},
   "outputs": [],
   "source": [
    "fib = timed(fib)"
   ]
  },
  {
   "cell_type": "code",
   "execution_count": 89,
   "id": "374bd99e",
   "metadata": {},
   "outputs": [],
   "source": [
    "def calc_fib_recurse(n):\n",
    "    return 1 if n < 3 else calc_fib_recurse(n-2) + calc_fib_recurse(n-1)\n",
    "\n",
    "@timed\n",
    "def fib(n):\n",
    "    return calc_fib_recurse(n)"
   ]
  },
  {
   "cell_type": "code",
   "execution_count": 90,
   "id": "46092bda",
   "metadata": {},
   "outputs": [
    {
     "name": "stdout",
     "output_type": "stream",
     "text": [
      "Run time: 0.065080s\n"
     ]
    },
    {
     "data": {
      "text/plain": [
       "317811"
      ]
     },
     "execution_count": 90,
     "metadata": {},
     "output_type": "execute_result"
    }
   ],
   "source": [
    "fib(28)"
   ]
  },
  {
   "cell_type": "code",
   "execution_count": 91,
   "id": "22313abe",
   "metadata": {},
   "outputs": [],
   "source": [
    "def timed(fn, reps):\n",
    "    from time import perf_counter\n",
    "\n",
    "    def inner(*args, **kwargs):\n",
    "        total_elapsed = 0\n",
    "        for i in range(reps):\n",
    "            start = perf_counter()\n",
    "            result = fn(*args, **kwargs)\n",
    "            end = perf_counter()\n",
    "            total_elapsed += (end - start)\n",
    "\n",
    "        avg_run_time = total_elapsed / reps\n",
    "        print('Avg Run time: {0:.6f}s ({1} reps'.format(avg_run_time))\n",
    "        return result\n",
    "    return inner"
   ]
  },
  {
   "cell_type": "code",
   "execution_count": 92,
   "id": "f262f9fb",
   "metadata": {},
   "outputs": [],
   "source": [
    "def fib(n):\n",
    "    return calc_fib_recurse(n)"
   ]
  },
  {
   "cell_type": "code",
   "execution_count": 93,
   "id": "9af27bb0",
   "metadata": {},
   "outputs": [],
   "source": [
    "fib = timed(fib, 5)"
   ]
  },
  {
   "cell_type": "code",
   "execution_count": 94,
   "id": "c4445910",
   "metadata": {},
   "outputs": [
    {
     "ename": "IndexError",
     "evalue": "Replacement index 1 out of range for positional args tuple",
     "output_type": "error",
     "traceback": [
      "\u001b[1;31m---------------------------------------------------------------------------\u001b[0m",
      "\u001b[1;31mIndexError\u001b[0m                                Traceback (most recent call last)",
      "\u001b[1;32mc:\\Users\\pgold\\MatsHub\\deep-Dive-1\\class_notes\\scoopes_clousers_decorators\\decorator_parameters_2.ipynb Cell 13\u001b[0m in \u001b[0;36m<cell line: 1>\u001b[1;34m()\u001b[0m\n\u001b[1;32m----> <a href='vscode-notebook-cell:/c%3A/Users/pgold/MatsHub/deep-Dive-1/class_notes/scoopes_clousers_decorators/decorator_parameters_2.ipynb#ch0000013?line=0'>1</a>\u001b[0m fib(\u001b[39m28\u001b[39;49m)\n",
      "\u001b[1;32mc:\\Users\\pgold\\MatsHub\\deep-Dive-1\\class_notes\\scoopes_clousers_decorators\\decorator_parameters_2.ipynb Cell 13\u001b[0m in \u001b[0;36mtimed.<locals>.inner\u001b[1;34m(*args, **kwargs)\u001b[0m\n\u001b[0;32m     <a href='vscode-notebook-cell:/c%3A/Users/pgold/MatsHub/deep-Dive-1/class_notes/scoopes_clousers_decorators/decorator_parameters_2.ipynb#ch0000013?line=9'>10</a>\u001b[0m     total_elapsed \u001b[39m+\u001b[39m\u001b[39m=\u001b[39m (end \u001b[39m-\u001b[39m start)\n\u001b[0;32m     <a href='vscode-notebook-cell:/c%3A/Users/pgold/MatsHub/deep-Dive-1/class_notes/scoopes_clousers_decorators/decorator_parameters_2.ipynb#ch0000013?line=11'>12</a>\u001b[0m avg_run_time \u001b[39m=\u001b[39m total_elapsed \u001b[39m/\u001b[39m reps\n\u001b[1;32m---> <a href='vscode-notebook-cell:/c%3A/Users/pgold/MatsHub/deep-Dive-1/class_notes/scoopes_clousers_decorators/decorator_parameters_2.ipynb#ch0000013?line=12'>13</a>\u001b[0m \u001b[39mprint\u001b[39m(\u001b[39m'\u001b[39;49m\u001b[39mAvg Run time: \u001b[39;49m\u001b[39m{0:.6f}\u001b[39;49;00m\u001b[39ms (\u001b[39;49m\u001b[39m{1}\u001b[39;49;00m\u001b[39m reps\u001b[39;49m\u001b[39m'\u001b[39;49m\u001b[39m.\u001b[39;49mformat(avg_run_time))\n\u001b[0;32m     <a href='vscode-notebook-cell:/c%3A/Users/pgold/MatsHub/deep-Dive-1/class_notes/scoopes_clousers_decorators/decorator_parameters_2.ipynb#ch0000013?line=13'>14</a>\u001b[0m \u001b[39mreturn\u001b[39;00m result\n",
      "\u001b[1;31mIndexError\u001b[0m: Replacement index 1 out of range for positional args tuple"
     ]
    }
   ],
   "source": [
    "fib(28)"
   ]
  },
  {
   "cell_type": "code",
   "execution_count": null,
   "id": "4392e773",
   "metadata": {},
   "outputs": [
    {
     "ename": "TypeError",
     "evalue": "timed() missing 1 required positional argument: 'reps'",
     "output_type": "error",
     "traceback": [
      "\u001b[1;31m---------------------------------------------------------------------------\u001b[0m",
      "\u001b[1;31mTypeError\u001b[0m                                 Traceback (most recent call last)",
      "\u001b[1;32mc:\\Users\\pgold\\MatsHub\\deep-Dive-1\\class_notes\\scoopes_clousers_decorators\\decorator_parameters_2.ipynb Cell 14\u001b[0m in \u001b[0;36m<cell line: 1>\u001b[1;34m()\u001b[0m\n\u001b[1;32m----> <a href='vscode-notebook-cell:/c%3A/Users/pgold/MatsHub/deep-Dive-1/class_notes/scoopes_clousers_decorators/decorator_parameters_2.ipynb#ch0000014?line=0'>1</a>\u001b[0m \u001b[39m@timed\u001b[39m(\u001b[39m5\u001b[39;49m)  \u001b[39m# example of code that will not work.\u001b[39;00m\n\u001b[0;32m      <a href='vscode-notebook-cell:/c%3A/Users/pgold/MatsHub/deep-Dive-1/class_notes/scoopes_clousers_decorators/decorator_parameters_2.ipynb#ch0000014?line=1'>2</a>\u001b[0m \u001b[39mdef\u001b[39;00m \u001b[39mfib\u001b[39m(n):\n\u001b[0;32m      <a href='vscode-notebook-cell:/c%3A/Users/pgold/MatsHub/deep-Dive-1/class_notes/scoopes_clousers_decorators/decorator_parameters_2.ipynb#ch0000014?line=2'>3</a>\u001b[0m     \u001b[39mreturn\u001b[39;00m calc_fib_recursive(n)\n",
      "\u001b[1;31mTypeError\u001b[0m: timed() missing 1 required positional argument: 'reps'"
     ]
    }
   ],
   "source": [
    "@timed(5)  # example of code that will not work.\n",
    "def fib(n):\n",
    "    return calc_fib_recursive(n)\n"
   ]
  },
  {
   "cell_type": "code",
   "execution_count": null,
   "id": "b31d2329",
   "metadata": {},
   "outputs": [],
   "source": [
    "def dec(fn):\n",
    "    print(\"running dec\")"
   ]
  },
  {
   "cell_type": "code",
   "execution_count": null,
   "id": "79a27c3f",
   "metadata": {},
   "outputs": [],
   "source": [
    "def dec(fn):\n",
    "    print(\"running dec\")\n",
    "\n",
    "    def inner(*args, **kwargs):\n",
    "        print(\"running inner\")\n",
    "        return fn(*args, **kwargs)\n",
    "\n",
    "    return inner"
   ]
  },
  {
   "cell_type": "code",
   "execution_count": null,
   "id": "3de4cf38",
   "metadata": {},
   "outputs": [
    {
     "name": "stdout",
     "output_type": "stream",
     "text": [
      "running dec\n"
     ]
    }
   ],
   "source": [
    "@dec\n",
    "def my_func():\n",
    "    print(\"running my_func\")"
   ]
  },
  {
   "cell_type": "code",
   "execution_count": null,
   "id": "ef415f22",
   "metadata": {},
   "outputs": [],
   "source": [
    "def my_func():\n",
    "    print(\"running my_func\")"
   ]
  },
  {
   "cell_type": "code",
   "execution_count": null,
   "id": "7cc248f4",
   "metadata": {},
   "outputs": [
    {
     "name": "stdout",
     "output_type": "stream",
     "text": [
      "running dec\n"
     ]
    }
   ],
   "source": [
    "my_func = dec(my_func)"
   ]
  },
  {
   "cell_type": "code",
   "execution_count": null,
   "id": "352752e0",
   "metadata": {},
   "outputs": [
    {
     "name": "stdout",
     "output_type": "stream",
     "text": [
      "running inner\n",
      "running my_func\n"
     ]
    }
   ],
   "source": [
    "my_func()"
   ]
  },
  {
   "cell_type": "code",
   "execution_count": null,
   "id": "d6538c7e",
   "metadata": {},
   "outputs": [],
   "source": [
    "def my_func():\n",
    "    print(\"running my_func\")"
   ]
  },
  {
   "cell_type": "code",
   "execution_count": null,
   "id": "7f422bef",
   "metadata": {},
   "outputs": [
    {
     "name": "stdout",
     "output_type": "stream",
     "text": [
      "running dec_factory\n"
     ]
    }
   ],
   "source": [
    "dec = dec_factory()"
   ]
  },
  {
   "cell_type": "code",
   "execution_count": null,
   "id": "584ad646",
   "metadata": {},
   "outputs": [],
   "source": [
    "def my_func():\n",
    "    print(\"running my_func\")"
   ]
  },
  {
   "cell_type": "code",
   "execution_count": null,
   "id": "e81a194b",
   "metadata": {},
   "outputs": [
    {
     "name": "stdout",
     "output_type": "stream",
     "text": [
      "running dec\n"
     ]
    }
   ],
   "source": [
    "my_func = dec(my_func)"
   ]
  },
  {
   "cell_type": "code",
   "execution_count": null,
   "id": "2608e040",
   "metadata": {},
   "outputs": [
    {
     "name": "stdout",
     "output_type": "stream",
     "text": [
      "running inner\n",
      "running my_func\n"
     ]
    }
   ],
   "source": [
    "my_func()"
   ]
  },
  {
   "cell_type": "code",
   "execution_count": null,
   "id": "8fca0c54",
   "metadata": {},
   "outputs": [
    {
     "name": "stdout",
     "output_type": "stream",
     "text": [
      "running dec_factory\n",
      "running dec\n"
     ]
    }
   ],
   "source": [
    "@dec_factory()\n",
    "def my_func():\n",
    "    print(\"running my_func\")"
   ]
  },
  {
   "cell_type": "code",
   "execution_count": null,
   "id": "95063bb5",
   "metadata": {},
   "outputs": [
    {
     "name": "stdout",
     "output_type": "stream",
     "text": [
      "running dec_factory\n",
      "running dec\n"
     ]
    }
   ],
   "source": [
    "def my_func():\n",
    "    print(\"running my_func\")\n",
    "\n",
    "my_func = dec_factory()(my_func)"
   ]
  },
  {
   "cell_type": "code",
   "execution_count": null,
   "id": "00c7415c",
   "metadata": {},
   "outputs": [],
   "source": [
    "def dec_factory(a, b):\n",
    "    print(\"running dec_factory\")\n",
    "\n",
    "    def dec(fn):\n",
    "        print(\"running dec\")\n",
    "\n",
    "        def inner(*args, **kwargs):\n",
    "            print(\"running inner\")\n",
    "            print(\"a={0}, b={1}\".format(a, b))\n",
    "            return fn(*args, **kwargs)\n",
    "\n",
    "        return inner\n",
    "    return dec"
   ]
  },
  {
   "cell_type": "code",
   "execution_count": null,
   "id": "d1886884",
   "metadata": {},
   "outputs": [
    {
     "name": "stdout",
     "output_type": "stream",
     "text": [
      "running dec_factory\n"
     ]
    }
   ],
   "source": [
    "dec = dec_factory(10, 20)"
   ]
  },
  {
   "cell_type": "code",
   "execution_count": null,
   "id": "4a89cbe2",
   "metadata": {},
   "outputs": [
    {
     "name": "stdout",
     "output_type": "stream",
     "text": [
      "running dec\n"
     ]
    }
   ],
   "source": [
    "@dec\n",
    "def my_func():\n",
    "    print(\"running my_func\")"
   ]
  },
  {
   "cell_type": "code",
   "execution_count": null,
   "id": "071cf7a8",
   "metadata": {},
   "outputs": [
    {
     "name": "stdout",
     "output_type": "stream",
     "text": [
      "running inner\n",
      "a=10, b=20\n",
      "running my_func\n"
     ]
    }
   ],
   "source": [
    "my_func()"
   ]
  },
  {
   "cell_type": "code",
   "execution_count": null,
   "id": "d808ea87",
   "metadata": {},
   "outputs": [
    {
     "name": "stdout",
     "output_type": "stream",
     "text": [
      "running dec_factory\n",
      "running dec\n"
     ]
    }
   ],
   "source": [
    "@dec_factory(100, 200)\n",
    "def my_func():\n",
    "    print(\"running my_func\")"
   ]
  },
  {
   "cell_type": "code",
   "execution_count": null,
   "id": "c8d3d2f8",
   "metadata": {},
   "outputs": [
    {
     "name": "stdout",
     "output_type": "stream",
     "text": [
      "running inner\n",
      "a=100, b=200\n",
      "running my_func\n"
     ]
    }
   ],
   "source": [
    "my_func()"
   ]
  },
  {
   "cell_type": "code",
   "execution_count": null,
   "id": "98474235",
   "metadata": {},
   "outputs": [],
   "source": [
    "def my_func():\n",
    "    print(\"running my_func\")"
   ]
  },
  {
   "cell_type": "code",
   "execution_count": null,
   "id": "2ad763d4",
   "metadata": {},
   "outputs": [
    {
     "name": "stdout",
     "output_type": "stream",
     "text": [
      "running dec_factory\n",
      "running dec\n"
     ]
    }
   ],
   "source": [
    "my_func = dec_factory(150, 250)(my_func)"
   ]
  },
  {
   "cell_type": "code",
   "execution_count": null,
   "id": "a4102b90",
   "metadata": {},
   "outputs": [
    {
     "name": "stdout",
     "output_type": "stream",
     "text": [
      "running inner\n",
      "a=150, b=250\n"
     ]
    },
    {
     "ename": "TypeError",
     "evalue": "dec() missing 1 required positional argument: 'fn'",
     "output_type": "error",
     "traceback": [
      "\u001b[1;31m---------------------------------------------------------------------------\u001b[0m",
      "\u001b[1;31mTypeError\u001b[0m                                 Traceback (most recent call last)",
      "\u001b[1;32mc:\\Users\\pgold\\MatsHub\\deep-Dive-1\\class_notes\\scoopes_clousers_decorators\\decorator_parameters_2.ipynb Cell 36\u001b[0m in \u001b[0;36m<cell line: 1>\u001b[1;34m()\u001b[0m\n\u001b[1;32m----> <a href='vscode-notebook-cell:/c%3A/Users/pgold/MatsHub/deep-Dive-1/class_notes/scoopes_clousers_decorators/decorator_parameters_2.ipynb#ch0000036?line=0'>1</a>\u001b[0m my_func()\n",
      "\u001b[1;32mc:\\Users\\pgold\\MatsHub\\deep-Dive-1\\class_notes\\scoopes_clousers_decorators\\decorator_parameters_2.ipynb Cell 36\u001b[0m in \u001b[0;36mdec_factory.<locals>.dec.<locals>.inner\u001b[1;34m(*args, **kwargs)\u001b[0m\n\u001b[0;32m      <a href='vscode-notebook-cell:/c%3A/Users/pgold/MatsHub/deep-Dive-1/class_notes/scoopes_clousers_decorators/decorator_parameters_2.ipynb#ch0000036?line=7'>8</a>\u001b[0m \u001b[39mprint\u001b[39m(\u001b[39m\"\u001b[39m\u001b[39mrunning inner\u001b[39m\u001b[39m\"\u001b[39m)\n\u001b[0;32m      <a href='vscode-notebook-cell:/c%3A/Users/pgold/MatsHub/deep-Dive-1/class_notes/scoopes_clousers_decorators/decorator_parameters_2.ipynb#ch0000036?line=8'>9</a>\u001b[0m \u001b[39mprint\u001b[39m(\u001b[39m\"\u001b[39m\u001b[39ma=\u001b[39m\u001b[39m{0}\u001b[39;00m\u001b[39m, b=\u001b[39m\u001b[39m{1}\u001b[39;00m\u001b[39m\"\u001b[39m\u001b[39m.\u001b[39mformat(a, b))\n\u001b[1;32m---> <a href='vscode-notebook-cell:/c%3A/Users/pgold/MatsHub/deep-Dive-1/class_notes/scoopes_clousers_decorators/decorator_parameters_2.ipynb#ch0000036?line=9'>10</a>\u001b[0m \u001b[39mreturn\u001b[39;00m fn(\u001b[39m*\u001b[39margs, \u001b[39m*\u001b[39m\u001b[39m*\u001b[39mkwargs)\n",
      "\u001b[1;31mTypeError\u001b[0m: dec() missing 1 required positional argument: 'fn'"
     ]
    }
   ],
   "source": [
    "my_func()"
   ]
  },
  {
   "cell_type": "code",
   "execution_count": null,
   "id": "54febb63",
   "metadata": {},
   "outputs": [],
   "source": [
    "def dec_factory(reps):\n",
    "    def timed(fn):\n",
    "        def timed(fn):\n",
    "            from time import perf_counter\n",
    "\n",
    "        def inner(*args, **kwargs):\n",
    "            total_elapsed = 0\n",
    "            for i in range(reps):\n",
    "                start = perf_counter()\n",
    "                result = fn(*args, **kwargs)\n",
    "                end = perf_counter()\n",
    "                total_elapsed += (end - start)\n",
    "\n",
    "            avg_run_time = total_elapsed / reps\n",
    "            print('Avg Run time: {0:.6f}s ({1} reps'.format(avg_run_time, reps))\n",
    "            return result\n",
    "        return inner\n",
    "    return timed"
   ]
  },
  {
   "cell_type": "code",
   "execution_count": null,
   "id": "d0f0a04b",
   "metadata": {},
   "outputs": [],
   "source": [
    "@dec_factory(5)\n",
    "def fib(n):\n",
    "    return calc_fib_recurse(n)"
   ]
  },
  {
   "cell_type": "code",
   "execution_count": null,
   "id": "d2716250",
   "metadata": {},
   "outputs": [
    {
     "ename": "NameError",
     "evalue": "name 'perf_counter' is not defined",
     "output_type": "error",
     "traceback": [
      "\u001b[1;31m---------------------------------------------------------------------------\u001b[0m",
      "\u001b[1;31mNameError\u001b[0m                                 Traceback (most recent call last)",
      "\u001b[1;32mc:\\Users\\pgold\\MatsHub\\deep-Dive-1\\class_notes\\scoopes_clousers_decorators\\decorator_parameters_2.ipynb Cell 39\u001b[0m in \u001b[0;36m<cell line: 1>\u001b[1;34m()\u001b[0m\n\u001b[1;32m----> <a href='vscode-notebook-cell:/c%3A/Users/pgold/MatsHub/deep-Dive-1/class_notes/scoopes_clousers_decorators/decorator_parameters_2.ipynb#ch0000039?line=0'>1</a>\u001b[0m fib(\u001b[39m28\u001b[39;49m)\n",
      "\u001b[1;32mc:\\Users\\pgold\\MatsHub\\deep-Dive-1\\class_notes\\scoopes_clousers_decorators\\decorator_parameters_2.ipynb Cell 39\u001b[0m in \u001b[0;36mdec_factory.<locals>.timed.<locals>.inner\u001b[1;34m(*args, **kwargs)\u001b[0m\n\u001b[0;32m      <a href='vscode-notebook-cell:/c%3A/Users/pgold/MatsHub/deep-Dive-1/class_notes/scoopes_clousers_decorators/decorator_parameters_2.ipynb#ch0000039?line=6'>7</a>\u001b[0m total_elapsed \u001b[39m=\u001b[39m \u001b[39m0\u001b[39m\n\u001b[0;32m      <a href='vscode-notebook-cell:/c%3A/Users/pgold/MatsHub/deep-Dive-1/class_notes/scoopes_clousers_decorators/decorator_parameters_2.ipynb#ch0000039?line=7'>8</a>\u001b[0m \u001b[39mfor\u001b[39;00m i \u001b[39min\u001b[39;00m \u001b[39mrange\u001b[39m(reps):\n\u001b[1;32m----> <a href='vscode-notebook-cell:/c%3A/Users/pgold/MatsHub/deep-Dive-1/class_notes/scoopes_clousers_decorators/decorator_parameters_2.ipynb#ch0000039?line=8'>9</a>\u001b[0m     start \u001b[39m=\u001b[39m perf_counter()\n\u001b[0;32m     <a href='vscode-notebook-cell:/c%3A/Users/pgold/MatsHub/deep-Dive-1/class_notes/scoopes_clousers_decorators/decorator_parameters_2.ipynb#ch0000039?line=9'>10</a>\u001b[0m     result \u001b[39m=\u001b[39m fn(\u001b[39m*\u001b[39margs, \u001b[39m*\u001b[39m\u001b[39m*\u001b[39mkwargs)\n\u001b[0;32m     <a href='vscode-notebook-cell:/c%3A/Users/pgold/MatsHub/deep-Dive-1/class_notes/scoopes_clousers_decorators/decorator_parameters_2.ipynb#ch0000039?line=10'>11</a>\u001b[0m     end \u001b[39m=\u001b[39m perf_counter()\n",
      "\u001b[1;31mNameError\u001b[0m: name 'perf_counter' is not defined"
     ]
    }
   ],
   "source": [
    "fib(28)"
   ]
  },
  {
   "cell_type": "code",
   "execution_count": 95,
   "id": "7b56c51d",
   "metadata": {},
   "outputs": [],
   "source": [
    "def timed(reps):\n",
    "    def dec(fn):\n",
    "        def timed(fn):\n",
    "            from time import perf_counter\n",
    "\n",
    "        def inner(*args, **kwargs):\n",
    "            total_elapsed = 0\n",
    "            for i in range(reps):\n",
    "                start = perf_counter()\n",
    "                result = fn(*args, **kwargs)\n",
    "                end = perf_counter()\n",
    "                total_elapsed += (end - start)\n",
    "\n",
    "            avg_run_time = total_elapsed / reps\n",
    "            print('Avg Run time: {0:.6f}s ({1} reps'.format(avg_run_time, reps))\n",
    "            return result\n",
    "        return inner\n",
    "    return timed"
   ]
  },
  {
   "cell_type": "code",
   "execution_count": 96,
   "id": "7e157ded",
   "metadata": {},
   "outputs": [],
   "source": [
    "@timed(15)\n",
    "def fib(n):\n",
    "    return calc_fib_recursive(n)"
   ]
  },
  {
   "cell_type": "code",
   "execution_count": 97,
   "id": "b4a909d0",
   "metadata": {},
   "outputs": [
    {
     "data": {
      "text/plain": [
       "<function __main__.timed(reps)>"
      ]
     },
     "execution_count": 97,
     "metadata": {},
     "output_type": "execute_result"
    }
   ],
   "source": [
    "fib(28)"
   ]
  }
 ],
 "metadata": {
  "kernelspec": {
   "display_name": "Python 3 (ipykernel)",
   "language": "python",
   "name": "python3"
  },
  "language_info": {
   "codemirror_mode": {
    "name": "ipython",
    "version": 3
   },
   "file_extension": ".py",
   "mimetype": "text/x-python",
   "name": "python",
   "nbconvert_exporter": "python",
   "pygments_lexer": "ipython3",
   "version": "3.9.12"
  },
  "vscode": {
   "interpreter": {
    "hash": "ad2bdc8ecc057115af97d19610ffacc2b4e99fae6737bb82f5d7fb13d2f2c186"
   }
  }
 },
 "nbformat": 4,
 "nbformat_minor": 5
}
