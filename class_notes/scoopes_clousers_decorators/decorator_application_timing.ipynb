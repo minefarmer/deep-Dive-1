{
 "cells": [
  {
   "cell_type": "markdown",
   "id": "4f2c40e3",
   "metadata": {},
   "source": [
    "Decorator App - Timing"
   ]
  },
  {
   "cell_type": "code",
   "execution_count": 61,
   "id": "36c60ac6",
   "metadata": {},
   "outputs": [],
   "source": [
    "from sympy import re\n",
    "\n",
    "\n",
    "def timed(fn):\n",
    "    from time import perf_counter\n",
    "    from functools import warps\n",
    "\n",
    "    @wraps(fn)\n",
    "    def inner(*args, **kwargs):\n",
    "        start = perf_counter()\n",
    "        result = fn(*args, **kwargs)\n",
    "        end = perf_counter()\n",
    "        elapsed = end - start\n",
    "\n",
    "        args_ = [str(a) for a in args]\n",
    "        kwargs_ = ['{0}={1}'.format(k, v) for (k, v) in kwargs.items()]\n",
    "        all_args = args_ + kwargs_\n",
    "        args_str = ','.join(all_args)\n",
    "\n",
    "        print('{0}({1}) took {2:.6f}s to run. '.format(fn.__name__, args_str, elapsed))\n",
    "        return result\n",
    "\n",
    "    return inner"
   ]
  },
  {
   "cell_type": "code",
   "execution_count": 62,
   "id": "6b081518",
   "metadata": {},
   "outputs": [
    {
     "data": {
      "text/plain": [
       "(1, 1, 2, 3, 5, 8, 13, 21, Ellipsis)"
      ]
     },
     "execution_count": 62,
     "metadata": {},
     "output_type": "execute_result"
    }
   ],
   "source": [
    "1, 1, 2, 3, 5, 8, 13, 21, ..."
   ]
  },
  {
   "cell_type": "markdown",
   "id": "942e1219",
   "metadata": {},
   "source": [
    "1. recursion\n",
    "2. loop\n",
    "3. reduce"
   ]
  },
  {
   "cell_type": "code",
   "execution_count": 63,
   "id": "4f0fd592",
   "metadata": {},
   "outputs": [],
   "source": [
    "def calc_recursive_fib(n):\n",
    "    if n <= 2:\n",
    "        return 1\n",
    "    else:\n",
    "        return calc_recursive_fib(n-1) + calc_recursive_fib(n-2)"
   ]
  },
  {
   "cell_type": "code",
   "execution_count": 64,
   "id": "17688950",
   "metadata": {},
   "outputs": [
    {
     "data": {
      "text/plain": [
       "8"
      ]
     },
     "execution_count": 64,
     "metadata": {},
     "output_type": "execute_result"
    }
   ],
   "source": [
    "calc_recursive_fib(6)"
   ]
  },
  {
   "cell_type": "code",
   "execution_count": 65,
   "id": "8da956c4",
   "metadata": {},
   "outputs": [],
   "source": [
    "def fib_recursive(n):\n",
    "    return calc_recursive_fib(n)"
   ]
  },
  {
   "cell_type": "code",
   "execution_count": 66,
   "id": "2a7fcac8",
   "metadata": {},
   "outputs": [
    {
     "data": {
      "text/plain": [
       "8"
      ]
     },
     "execution_count": 66,
     "metadata": {},
     "output_type": "execute_result"
    }
   ],
   "source": [
    "fib_recursive(6)"
   ]
  },
  {
   "cell_type": "code",
   "execution_count": 67,
   "id": "9a6f9b4e",
   "metadata": {},
   "outputs": [
    {
     "data": {
      "text/plain": [
       "6765"
      ]
     },
     "execution_count": 67,
     "metadata": {},
     "output_type": "execute_result"
    }
   ],
   "source": [
    "fib_recursive(20)"
   ]
  },
  {
   "cell_type": "code",
   "execution_count": 68,
   "id": "8a679f39",
   "metadata": {},
   "outputs": [
    {
     "data": {
      "text/plain": [
       "75025"
      ]
     },
     "execution_count": 68,
     "metadata": {},
     "output_type": "execute_result"
    }
   ],
   "source": [
    "fib_recursive(25)"
   ]
  },
  {
   "cell_type": "code",
   "execution_count": 69,
   "id": "9559ec6e",
   "metadata": {},
   "outputs": [
    {
     "data": {
      "text/plain": [
       "832040"
      ]
     },
     "execution_count": 69,
     "metadata": {},
     "output_type": "execute_result"
    }
   ],
   "source": [
    "fib_recursive(30)"
   ]
  },
  {
   "cell_type": "code",
   "execution_count": 70,
   "id": "d6863610",
   "metadata": {},
   "outputs": [
    {
     "data": {
      "text/plain": [
       "2178309"
      ]
     },
     "execution_count": 70,
     "metadata": {},
     "output_type": "execute_result"
    }
   ],
   "source": [
    "fib_recursive(32)"
   ]
  },
  {
   "cell_type": "code",
   "execution_count": 71,
   "id": "4ddc2b93",
   "metadata": {},
   "outputs": [
    {
     "data": {
      "text/plain": [
       "9227465"
      ]
     },
     "execution_count": 71,
     "metadata": {},
     "output_type": "execute_result"
    }
   ],
   "source": [
    "fib_recursive(35)"
   ]
  },
  {
   "cell_type": "code",
   "execution_count": 72,
   "id": "b24ade54",
   "metadata": {},
   "outputs": [
    {
     "data": {
      "text/plain": [
       "14930352"
      ]
     },
     "execution_count": 72,
     "metadata": {},
     "output_type": "execute_result"
    }
   ],
   "source": [
    "fib_recursive(36)"
   ]
  },
  {
   "cell_type": "code",
   "execution_count": 73,
   "id": "d4cd38e5",
   "metadata": {},
   "outputs": [],
   "source": [
    "def fib_loop(n):\n",
    "    fib_1 = 1\n",
    "    fib_2 = 1\n",
    "    for i in range(3, n+1):\n",
    "        fib_1, fib_2 = fib_2, fib_1 + fib_2\n",
    "    return(fib_2)\n"
   ]
  },
  {
   "cell_type": "markdown",
   "id": "158be770",
   "metadata": {},
   "source": [
    "<pre>\n",
    "n = 1\n",
    "(1,0) --> (1, 1) result index[0]\n",
    "\n",
    "n = 2\n",
    "(1, 0) --> (1, 1) --> (2, 1) result index[0] = 2\n",
    "\n",
    "n = 3\n",
    "(1, 0) --> (1, 1) --> (2, 1) --> (3, 2) result t[0] = 3\n",
    "\n",
    "n = 4\n",
    "(1, 0) --> (1, 1) --> (2, 1) --> (3, 2) --> (5, 3) result t[0] = 5\n",
    "</pre>"
   ]
  },
  {
   "cell_type": "code",
   "execution_count": 74,
   "id": "701ba424",
   "metadata": {},
   "outputs": [],
   "source": [
    "from functools import reduce"
   ]
  },
  {
   "cell_type": "code",
   "execution_count": 75,
   "id": "ce4b1b64",
   "metadata": {},
   "outputs": [],
   "source": [
    "def fib_reduce(n):\n",
    "    initial = (1, 0)\n",
    "    dummy = range(n)\n",
    "    fib_n = reduce(lambda prev, n: (prev[0], + prev[1], prev[0]) ,dummy, initial)\n",
    "    return fib_n[0]"
   ]
  },
  {
   "cell_type": "code",
   "execution_count": 76,
   "id": "5ac5b304",
   "metadata": {},
   "outputs": [
    {
     "data": {
      "text/plain": [
       "1"
      ]
     },
     "execution_count": 76,
     "metadata": {},
     "output_type": "execute_result"
    }
   ],
   "source": [
    "fib_reduce(35)"
   ]
  },
  {
   "cell_type": "code",
   "execution_count": 77,
   "id": "b12e2a61",
   "metadata": {},
   "outputs": [
    {
     "data": {
      "text/plain": [
       "9227465"
      ]
     },
     "execution_count": 77,
     "metadata": {},
     "output_type": "execute_result"
    }
   ],
   "source": [
    "fib_loop(35)"
   ]
  },
  {
   "cell_type": "code",
   "execution_count": 78,
   "id": "e19bbb1d",
   "metadata": {},
   "outputs": [
    {
     "data": {
      "text/plain": [
       "1"
      ]
     },
     "execution_count": 78,
     "metadata": {},
     "output_type": "execute_result"
    }
   ],
   "source": [
    "fib_reduce(100)"
   ]
  },
  {
   "cell_type": "code",
   "execution_count": 79,
   "id": "8424a0a7",
   "metadata": {},
   "outputs": [
    {
     "data": {
      "text/plain": [
       "354224848179261915075"
      ]
     },
     "execution_count": 79,
     "metadata": {},
     "output_type": "execute_result"
    }
   ],
   "source": [
    "fib_loop(100)"
   ]
  },
  {
   "cell_type": "code",
   "execution_count": 80,
   "id": "5d1aee70",
   "metadata": {},
   "outputs": [],
   "source": [
    "for i in range(10):\n",
    "    fib_loop(100)"
   ]
  },
  {
   "cell_type": "code",
   "execution_count": 81,
   "id": "c092bb88",
   "metadata": {},
   "outputs": [],
   "source": [
    "def timed(fn, count):\n",
    "    from time import perf_counter\n",
    "    from functools import warps\n",
    "\n",
    "    @wraps(fn)\n",
    "    def inner(*args, **kwargs):\n",
    "        elapsed_total = 0\n",
    "        elapsed_count = 0\n",
    "\n",
    "        for i in range(count):\n",
    "            print('Running iteration {0}...'.format(i))\n",
    "            start = perf_counter()\n",
    "            result = fn(*args, **kwargs)\n",
    "            end = perf_counter()\n",
    "            elapsed = end - start\n",
    "            elapsed_total += elapsed\n",
    "            elapsed_count += 1\n",
    "\n",
    "        args_ = [str(a) for a in args]\n",
    "        kwargs_ = ['{0}={1}'.format(k, v) for (k, v) in kwargs.items()]\n",
    "        all_args = args_ + kwargs_\n",
    "        args_str = ','.join(all_args)\n",
    "\n",
    "        elapsed_total = elapsed_total / elapsed_count\n",
    "        print('{0}({1}) took {2:.6f}s to run. '.format(fn.__name__, args_str, elapsed))\n",
    "        return result\n",
    "\n",
    "    return inner"
   ]
  },
  {
   "cell_type": "code",
   "execution_count": 82,
   "id": "e3a3b2c8",
   "metadata": {},
   "outputs": [],
   "source": [
    "def fib_reduce(n):\n",
    "    initial = (1, 0)\n",
    "    dummy = range(n)\n",
    "    fib_n = reduce(lambda prev, n: (prev[0], + prev[1], prev[0]) ,dummy, initial)\n",
    "    return fib_n[0]"
   ]
  },
  {
   "cell_type": "code",
   "execution_count": 83,
   "id": "c8298e12",
   "metadata": {},
   "outputs": [
    {
     "data": {
      "text/plain": [
       "1"
      ]
     },
     "execution_count": 83,
     "metadata": {},
     "output_type": "execute_result"
    }
   ],
   "source": [
    "fib_reduce(100)"
   ]
  }
 ],
 "metadata": {
  "kernelspec": {
   "display_name": "Python 3.9.12 ('base')",
   "language": "python",
   "name": "python3"
  },
  "language_info": {
   "codemirror_mode": {
    "name": "ipython",
    "version": 3
   },
   "file_extension": ".py",
   "mimetype": "text/x-python",
   "name": "python",
   "nbconvert_exporter": "python",
   "pygments_lexer": "ipython3",
   "version": "3.9.12"
  },
  "vscode": {
   "interpreter": {
    "hash": "a624adbc5e596fddf72740b255048309200567f23df85867ce297e9f9d364c1b"
   }
  }
 },
 "nbformat": 4,
 "nbformat_minor": 5
}
