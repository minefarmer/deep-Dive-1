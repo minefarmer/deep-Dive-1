{
 "cells": [
  {
   "cell_type": "markdown",
   "id": "298257d8",
   "metadata": {},
   "source": [
    "                    Partials"
   ]
  },
  {
   "cell_type": "code",
   "execution_count": 1,
   "id": "011991cc",
   "metadata": {},
   "outputs": [],
   "source": [
    "from functools import partial"
   ]
  },
  {
   "cell_type": "code",
   "execution_count": 2,
   "id": "2573f1dd",
   "metadata": {},
   "outputs": [],
   "source": [
    "def my_func(a, b, c):\n",
    "    print(a, b, c)"
   ]
  },
  {
   "cell_type": "code",
   "execution_count": 3,
   "id": "9c4e0b1f",
   "metadata": {},
   "outputs": [
    {
     "name": "stdout",
     "output_type": "stream",
     "text": [
      "10 20 30\n"
     ]
    }
   ],
   "source": [
    "my_func(10, 20, 30)"
   ]
  },
  {
   "cell_type": "code",
   "execution_count": 4,
   "id": "32c257d5",
   "metadata": {},
   "outputs": [],
   "source": [
    "def f(x, y):\n",
    "    return my_func(10, x, y)"
   ]
  },
  {
   "cell_type": "code",
   "execution_count": 5,
   "id": "63bfcf3e",
   "metadata": {},
   "outputs": [
    {
     "name": "stdout",
     "output_type": "stream",
     "text": [
      "10 20 30\n"
     ]
    }
   ],
   "source": [
    "f(20, 30)"
   ]
  },
  {
   "cell_type": "code",
   "execution_count": 7,
   "id": "05e1ec2e",
   "metadata": {},
   "outputs": [
    {
     "name": "stdout",
     "output_type": "stream",
     "text": [
      "10 100 200\n"
     ]
    }
   ],
   "source": [
    "f(100, 200)"
   ]
  },
  {
   "cell_type": "code",
   "execution_count": 11,
   "id": "18e692e5",
   "metadata": {},
   "outputs": [],
   "source": [
    "f = lambda x, y: my_func(10, x, y)"
   ]
  },
  {
   "cell_type": "code",
   "execution_count": 12,
   "id": "afe78a37",
   "metadata": {},
   "outputs": [
    {
     "name": "stdout",
     "output_type": "stream",
     "text": [
      "10 100 200\n"
     ]
    }
   ],
   "source": [
    "f(100,200)"
   ]
  },
  {
   "cell_type": "code",
   "execution_count": 13,
   "id": "f7596554",
   "metadata": {},
   "outputs": [],
   "source": [
    "f = partial(my_func, 10)"
   ]
  },
  {
   "cell_type": "code",
   "execution_count": 14,
   "id": "7d2deffa",
   "metadata": {},
   "outputs": [
    {
     "name": "stdout",
     "output_type": "stream",
     "text": [
      "10 20 30\n"
     ]
    }
   ],
   "source": [
    "f(20, 30)"
   ]
  },
  {
   "cell_type": "code",
   "execution_count": 17,
   "id": "c012b0b1",
   "metadata": {},
   "outputs": [],
   "source": [
    "f = partial(my_func, 10)"
   ]
  },
  {
   "cell_type": "code",
   "execution_count": 18,
   "id": "361f45c9",
   "metadata": {},
   "outputs": [
    {
     "name": "stdout",
     "output_type": "stream",
     "text": [
      "10 20 30\n"
     ]
    }
   ],
   "source": [
    "f(20, 30)"
   ]
  },
  {
   "cell_type": "code",
   "execution_count": 19,
   "id": "ebe3466f",
   "metadata": {},
   "outputs": [],
   "source": [
    "f = partial(my_func, 10, 20)"
   ]
  },
  {
   "cell_type": "code",
   "execution_count": 20,
   "id": "beec7da1",
   "metadata": {},
   "outputs": [
    {
     "name": "stdout",
     "output_type": "stream",
     "text": [
      "10 20 30\n"
     ]
    }
   ],
   "source": [
    "f(30)"
   ]
  },
  {
   "cell_type": "code",
   "execution_count": 21,
   "id": "ae5c5bae",
   "metadata": {},
   "outputs": [],
   "source": [
    "def my_func(a, b, *args, k1, k2, **kwargs):\n",
    "    print(a, b, args, k1, k2, kwargs)"
   ]
  },
  {
   "cell_type": "code",
   "execution_count": 22,
   "id": "913b3a9a",
   "metadata": {},
   "outputs": [
    {
     "name": "stdout",
     "output_type": "stream",
     "text": [
      "10 20 (100, 200) a b {'k3': 1000, 'k4': 2000}\n"
     ]
    }
   ],
   "source": [
    "my_func(10, 20, 100, 200, k1='a', k2='b', k3=1000, k4=2000)"
   ]
  },
  {
   "cell_type": "code",
   "execution_count": 23,
   "id": "5bb13225",
   "metadata": {},
   "outputs": [],
   "source": [
    "def f(x, *vars, kw, **kwvars):\n",
    "    return my_func(10, x, *vars, k1='a', k2=kw, **kwvars)"
   ]
  },
  {
   "cell_type": "code",
   "execution_count": 24,
   "id": "758c215e",
   "metadata": {},
   "outputs": [
    {
     "name": "stdout",
     "output_type": "stream",
     "text": [
      "10 20 (100, 200) a b {'k3': 1000, 'k4': 2000}\n"
     ]
    }
   ],
   "source": [
    "f(20, 100, 200, kw='b', k3=1000, k4=2000)"
   ]
  },
  {
   "cell_type": "code",
   "execution_count": null,
   "id": "28850422",
   "metadata": {},
   "outputs": [],
   "source": []
  }
 ],
 "metadata": {
  "kernelspec": {
   "display_name": "Python 3.9.12 ('base')",
   "language": "python",
   "name": "python3"
  },
  "language_info": {
   "codemirror_mode": {
    "name": "ipython",
    "version": 3
   },
   "file_extension": ".py",
   "mimetype": "text/x-python",
   "name": "python",
   "nbconvert_exporter": "python",
   "pygments_lexer": "ipython3",
   "version": "3.9.12"
  },
  "vscode": {
   "interpreter": {
    "hash": "143d2740fa7885280d88cdaad3dbdadb51fa40347825ef5e3d2acba7c4a72194"
   }
  }
 },
 "nbformat": 4,
 "nbformat_minor": 5
}
