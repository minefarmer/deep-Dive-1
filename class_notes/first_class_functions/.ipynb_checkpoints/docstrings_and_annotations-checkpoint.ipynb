{
 "cells": [
  {
   "cell_type": "markdown",
   "id": "4ff1919b",
   "metadata": {},
   "source": [
    "DOCSTRINGE AND ANNOTATIONS"
   ]
  },
  {
   "cell_type": "markdown",
   "id": "4a3d57fc",
   "metadata": {},
   "source": [
    "We have seen the help(x) function before.       -> returns some documentation (if available) for x.\n",
    "\n",
    "docstrings      -> PEP 257\n",
    "\n",
    "If the fist line in the function body is a string (not an assignment, not a comment, just a string by itself), it will be interpreted as a docstring.\n",
    "\n",
    "def my_func(a):                                 help(my_func)\n",
    "    \"documentation for my_func\"\n",
    "    return a                                            -> my_func(a)\n",
    "                                                            documentation for my_func\n",
    "\n",
    "Multi-line docstrings are achieved using...\n",
    "                                                multi-line strings!\n",
    "\n",
    "fact.__doc__    -> 'Calculates n! (factorial function)\\n  \\n  Inputs:\\n\n",
    "                    n: non-negative integer\\n  Returns:\\n      the\n",
    "                    factorial of n\\n\n",
    "\n",
    "help(fact)      -> fact(n)\n",
    "                        Calculates n! (factorial function)\n",
    "\n",
    "                        Inputs:\n",
    "                          n: non-negative integer\n",
    "                        Returns:\n",
    "                          the factorial of n\n",
    "\n",
    "\n",
    "\n",
    "Function annotations give us an additional way to document our functions:           -> PEP 3107\n",
    "\n",
    "def my_func(a: <expression>, b: <expression>) -> <expression>:\n",
    "    pass\n",
    "\n",
    "\n",
    "def my_func(a: (a: a string', b: 'a positive interger') -> 'a string'\n",
    "    return a * b\n",
    "\n",
    "help(my_func)   -> my_func(a:'string, b: 'a positive integer') -> 'a string'\n",
    "\n",
    "my_func.__doc__  -> empty string\n",
    "\n",
    "\n",
    "\n",
    "Annotations can be any expression:\n",
    "\n",
    "def my_func(a: str, b: 'int > 0')  -> str:\n",
    "    return a*b\n",
    "\n",
    "def my_func(a: str -> 'a str, b: [1, 2, 3])  -> str:\n",
    "    return a*b\n",
    "\n",
    "x = 3\n",
    "y = 5\n",
    "def my_func(a: str) ->  'a repeated ' + str(max(x, y)) + ' times':\n",
    "    return a*max(x, y)\n",
    "\n",
    "\n",
    "\n",
    "\n"
   ]
  }
 ],
 "metadata": {
  "kernelspec": {
   "display_name": "Python 3 (ipykernel)",
   "language": "python",
   "name": "python3"
  },
  "language_info": {
   "codemirror_mode": {
    "name": "ipython",
    "version": 3
   },
   "file_extension": ".py",
   "mimetype": "text/x-python",
   "name": "python",
   "nbconvert_exporter": "python",
   "pygments_lexer": "ipython3",
   "version": "3.9.12"
  },
  "vscode": {
   "interpreter": {
    "hash": "a624adbc5e596fddf72740b255048309200567f23df85867ce297e9f9d364c1b"
   }
  }
 },
 "nbformat": 4,
 "nbformat_minor": 5
}
