{
 "cells": [
  {
   "cell_type": "markdown",
   "id": "c72b2270",
   "metadata": {},
   "source": [
    "                    Map, Filter and Zip"
   ]
  },
  {
   "cell_type": "code",
   "execution_count": 2,
   "id": "069a7cf1",
   "metadata": {},
   "outputs": [],
   "source": [
    "def fact(n):\n",
    "    return 1 if n < 2 else n * fact(n-1)"
   ]
  },
  {
   "cell_type": "code",
   "execution_count": 3,
   "id": "18d01533",
   "metadata": {},
   "outputs": [
    {
     "data": {
      "text/plain": [
       "6"
      ]
     },
     "execution_count": 3,
     "metadata": {},
     "output_type": "execute_result"
    }
   ],
   "source": [
    "fact(3)"
   ]
  },
  {
   "cell_type": "code",
   "execution_count": 4,
   "id": "6fce2557",
   "metadata": {},
   "outputs": [
    {
     "data": {
      "text/plain": [
       "24"
      ]
     },
     "execution_count": 4,
     "metadata": {},
     "output_type": "execute_result"
    }
   ],
   "source": [
    "fact(4)"
   ]
  },
  {
   "cell_type": "code",
   "execution_count": 5,
   "id": "c6fac115",
   "metadata": {},
   "outputs": [
    {
     "data": {
      "text/plain": [
       "<map at 0x1096b5d9b40>"
      ]
     },
     "execution_count": 5,
     "metadata": {},
     "output_type": "execute_result"
    }
   ],
   "source": [
    "map(fact, range(6))"
   ]
  },
  {
   "cell_type": "code",
   "execution_count": 6,
   "id": "4e3c95f2",
   "metadata": {},
   "outputs": [],
   "source": [
    "results = map(fact, range(6))"
   ]
  },
  {
   "cell_type": "code",
   "execution_count": 7,
   "id": "97de3a15",
   "metadata": {},
   "outputs": [
    {
     "name": "stdout",
     "output_type": "stream",
     "text": [
      "<map object at 0x000001096B5D99F0>\n"
     ]
    }
   ],
   "source": [
    "print(results)"
   ]
  },
  {
   "cell_type": "code",
   "execution_count": 8,
   "id": "fe4a26dc",
   "metadata": {},
   "outputs": [
    {
     "name": "stdout",
     "output_type": "stream",
     "text": [
      "1\n",
      "1\n",
      "2\n",
      "6\n",
      "24\n",
      "120\n"
     ]
    }
   ],
   "source": [
    "for x in results:\n",
    "    print(x)"
   ]
  },
  {
   "cell_type": "code",
   "execution_count": 9,
   "id": "b0d70625",
   "metadata": {},
   "outputs": [],
   "source": [
    "for x in results:\n",
    "    print(x)"
   ]
  },
  {
   "cell_type": "code",
   "execution_count": 10,
   "id": "2544b0b8",
   "metadata": {},
   "outputs": [],
   "source": [
    "results = list(map(fact, range(6)))"
   ]
  },
  {
   "cell_type": "code",
   "execution_count": 11,
   "id": "52da3c9a",
   "metadata": {},
   "outputs": [
    {
     "name": "stdout",
     "output_type": "stream",
     "text": [
      "1\n",
      "1\n",
      "2\n",
      "6\n",
      "24\n",
      "120\n"
     ]
    }
   ],
   "source": [
    "for x in results:\n",
    "    print(x)"
   ]
  },
  {
   "cell_type": "code",
   "execution_count": 12,
   "id": "ebfd4a64",
   "metadata": {},
   "outputs": [],
   "source": [
    "l1 = [1, 2, 3, 4, 5]\n",
    "l2 = [10, 20, 30]"
   ]
  },
  {
   "cell_type": "code",
   "execution_count": 15,
   "id": "2e06f279",
   "metadata": {},
   "outputs": [],
   "source": [
    "results = list(map(lambda x, y: x+y, l1, l2))"
   ]
  },
  {
   "cell_type": "code",
   "execution_count": 16,
   "id": "6ebe7849",
   "metadata": {},
   "outputs": [
    {
     "name": "stdout",
     "output_type": "stream",
     "text": [
      "[11, 22, 33]\n"
     ]
    }
   ],
   "source": [
    "print(results)"
   ]
  },
  {
   "cell_type": "code",
   "execution_count": 17,
   "id": "0300ee8c",
   "metadata": {},
   "outputs": [],
   "source": [
    "l1 = [1, 2, 3, 4, 5]\n",
    "l2 = [10, 20, 30]\n",
    "l3 = [100, 200, 300, 400]"
   ]
  },
  {
   "cell_type": "code",
   "execution_count": 18,
   "id": "77ee4b67",
   "metadata": {},
   "outputs": [],
   "source": [
    "results = list(map(lambda x, y: x+y, l1, l2))"
   ]
  },
  {
   "cell_type": "code",
   "execution_count": 19,
   "id": "0b8f5956",
   "metadata": {},
   "outputs": [
    {
     "name": "stdout",
     "output_type": "stream",
     "text": [
      "[11, 22, 33]\n"
     ]
    }
   ],
   "source": [
    "print(results)"
   ]
  },
  {
   "cell_type": "code",
   "execution_count": 21,
   "id": "b7dd7f0e",
   "metadata": {},
   "outputs": [],
   "source": [
    "results = list(map(lambda x, y, z: x+y+z, l1, l2, l3))"
   ]
  },
  {
   "cell_type": "code",
   "execution_count": 22,
   "id": "23d0db86",
   "metadata": {},
   "outputs": [
    {
     "name": "stdout",
     "output_type": "stream",
     "text": [
      "[111, 222, 333]\n"
     ]
    }
   ],
   "source": [
    "print(results)"
   ]
  },
  {
   "cell_type": "code",
   "execution_count": 23,
   "id": "3a3634be",
   "metadata": {},
   "outputs": [],
   "source": [
    "results = map(lambda x, y, z: x+y+z, l1, l2, l3)"
   ]
  },
  {
   "cell_type": "code",
   "execution_count": 24,
   "id": "c4359530",
   "metadata": {},
   "outputs": [
    {
     "name": "stdout",
     "output_type": "stream",
     "text": [
      "<map object at 0x000001096BD2CD60>\n"
     ]
    }
   ],
   "source": [
    "print(results)"
   ]
  },
  {
   "cell_type": "code",
   "execution_count": 35,
   "id": "0fd2669e",
   "metadata": {},
   "outputs": [],
   "source": [
    "results = map(lambda x, y: x+y, l1, l2, l3)"
   ]
  },
  {
   "cell_type": "code",
   "execution_count": 36,
   "id": "909c4d3c",
   "metadata": {},
   "outputs": [
    {
     "ename": "TypeError",
     "evalue": "<lambda>() takes 2 positional arguments but 3 were given",
     "output_type": "error",
     "traceback": [
      "\u001b[1;31m---------------------------------------------------------------------------\u001b[0m",
      "\u001b[1;31mTypeError\u001b[0m                                 Traceback (most recent call last)",
      "\u001b[1;32mc:\\Users\\pgold\\MatsHub\\deep-Dive-1\\class_notes\\first_class_functions\\map_filter_zip.ipynb Cell 23\u001b[0m in \u001b[0;36m<cell line: 1>\u001b[1;34m()\u001b[0m\n\u001b[1;32m----> <a href='vscode-notebook-cell:/c%3A/Users/pgold/MatsHub/deep-Dive-1/class_notes/first_class_functions/map_filter_zip.ipynb#X30sZmlsZQ%3D%3D?line=0'>1</a>\u001b[0m \u001b[39mfor\u001b[39;00m x \u001b[39min\u001b[39;00m results:\n\u001b[0;32m      <a href='vscode-notebook-cell:/c%3A/Users/pgold/MatsHub/deep-Dive-1/class_notes/first_class_functions/map_filter_zip.ipynb#X30sZmlsZQ%3D%3D?line=1'>2</a>\u001b[0m     \u001b[39mprint\u001b[39m(x)\n",
      "\u001b[1;31mTypeError\u001b[0m: <lambda>() takes 2 positional arguments but 3 were given"
     ]
    }
   ],
   "source": [
    "for x in results:\n",
    "    print(x)"
   ]
  },
  {
   "cell_type": "code",
   "execution_count": 38,
   "id": "d3f7690a",
   "metadata": {},
   "outputs": [],
   "source": [
    "x = range(25)"
   ]
  },
  {
   "cell_type": "code",
   "execution_count": 39,
   "id": "e7e289c1",
   "metadata": {},
   "outputs": [
    {
     "name": "stdout",
     "output_type": "stream",
     "text": [
      "range(0, 25)\n"
     ]
    }
   ],
   "source": [
    "print(x)"
   ]
  },
  {
   "cell_type": "code",
   "execution_count": 40,
   "id": "daa23a6e",
   "metadata": {},
   "outputs": [
    {
     "name": "stdout",
     "output_type": "stream",
     "text": [
      "0\n",
      "1\n",
      "2\n",
      "3\n",
      "4\n",
      "5\n",
      "6\n",
      "7\n",
      "8\n",
      "9\n",
      "10\n",
      "11\n",
      "12\n",
      "13\n",
      "14\n",
      "15\n",
      "16\n",
      "17\n",
      "18\n",
      "19\n",
      "20\n",
      "21\n",
      "22\n",
      "23\n",
      "24\n"
     ]
    }
   ],
   "source": [
    "for i in x:\n",
    "    print(i)"
   ]
  },
  {
   "cell_type": "code",
   "execution_count": 41,
   "id": "4e16d002",
   "metadata": {},
   "outputs": [
    {
     "name": "stdout",
     "output_type": "stream",
     "text": [
      "0\n",
      "1\n",
      "2\n",
      "3\n",
      "4\n",
      "5\n",
      "6\n",
      "7\n",
      "8\n",
      "9\n",
      "10\n",
      "11\n",
      "12\n",
      "13\n",
      "14\n",
      "15\n",
      "16\n",
      "17\n",
      "18\n",
      "19\n",
      "20\n",
      "21\n",
      "22\n",
      "23\n",
      "24\n"
     ]
    }
   ],
   "source": [
    "for i in x:\n",
    "    print(i)"
   ]
  },
  {
   "cell_type": "code",
   "execution_count": 42,
   "id": "5afc340b",
   "metadata": {},
   "outputs": [
    {
     "name": "stdout",
     "output_type": "stream",
     "text": [
      "range(0, 25)\n"
     ]
    }
   ],
   "source": [
    "print(x)"
   ]
  },
  {
   "cell_type": "code",
   "execution_count": 43,
   "id": "ae09465d",
   "metadata": {},
   "outputs": [
    {
     "data": {
      "text/plain": [
       "[0, 3, 6, 9, 12, 15, 18, 21, 24]"
      ]
     },
     "execution_count": 43,
     "metadata": {},
     "output_type": "execute_result"
    }
   ],
   "source": [
    "list(filter(lambda x: x % 3 == 0, range(25)))"
   ]
  },
  {
   "cell_type": "code",
   "execution_count": 44,
   "id": "cc533e7c",
   "metadata": {},
   "outputs": [
    {
     "data": {
      "text/plain": [
       "<filter at 0x1096b888ca0>"
      ]
     },
     "execution_count": 44,
     "metadata": {},
     "output_type": "execute_result"
    }
   ],
   "source": [
    "filter(None, [1, 0, 4, 'a', '', None, True, False])"
   ]
  },
  {
   "cell_type": "code",
   "execution_count": 45,
   "id": "316f80f3",
   "metadata": {},
   "outputs": [
    {
     "data": {
      "text/plain": [
       "[1, 4, 'a', True]"
      ]
     },
     "execution_count": 45,
     "metadata": {},
     "output_type": "execute_result"
    }
   ],
   "source": [
    "list(filter(None, [1, 0, 4, 'a', '', None, True, False]))"
   ]
  },
  {
   "cell_type": "code",
   "execution_count": 46,
   "id": "41e33b0a",
   "metadata": {},
   "outputs": [],
   "source": [
    "l1 = [1, 2, 3, 4]\n",
    "l2 = [10, 20, 30, 40]\n",
    "l3 = 'python'"
   ]
  },
  {
   "cell_type": "code",
   "execution_count": 49,
   "id": "986175cf",
   "metadata": {},
   "outputs": [],
   "source": [
    "results = zip(l1, l2, l3)"
   ]
  },
  {
   "cell_type": "code",
   "execution_count": 50,
   "id": "d52e7356",
   "metadata": {},
   "outputs": [
    {
     "name": "stdout",
     "output_type": "stream",
     "text": [
      "(1, 10, 'p')\n",
      "(2, 20, 'y')\n",
      "(3, 30, 't')\n",
      "(4, 40, 'h')\n"
     ]
    }
   ],
   "source": [
    "for x in results:\n",
    "    print(x)"
   ]
  },
  {
   "cell_type": "code",
   "execution_count": 51,
   "id": "7fc4eff5",
   "metadata": {},
   "outputs": [],
   "source": [
    "for x in results:  # it didn't work because it is a generator and cannot redo the code. Need to put it in a list.\n",
    "    print(x)"
   ]
  },
  {
   "cell_type": "code",
   "execution_count": 52,
   "id": "48ef2eea",
   "metadata": {},
   "outputs": [],
   "source": [
    "results = list(zip(l1, l2, l3))"
   ]
  },
  {
   "cell_type": "code",
   "execution_count": 53,
   "id": "583891b9",
   "metadata": {},
   "outputs": [
    {
     "name": "stdout",
     "output_type": "stream",
     "text": [
      "(1, 10, 'p')\n",
      "(2, 20, 'y')\n",
      "(3, 30, 't')\n",
      "(4, 40, 'h')\n"
     ]
    }
   ],
   "source": [
    "for x in results:\n",
    "    print(x)"
   ]
  },
  {
   "cell_type": "code",
   "execution_count": 54,
   "id": "66891c9d",
   "metadata": {},
   "outputs": [
    {
     "name": "stdout",
     "output_type": "stream",
     "text": [
      "(1, 10, 'p')\n",
      "(2, 20, 'y')\n",
      "(3, 30, 't')\n",
      "(4, 40, 'h')\n"
     ]
    }
   ],
   "source": [
    "for x in results:\n",
    "    print(x)"
   ]
  },
  {
   "cell_type": "code",
   "execution_count": 55,
   "id": "0e8691c9",
   "metadata": {},
   "outputs": [
    {
     "data": {
      "text/plain": [
       "<zip at 0x1096cb09cc0>"
      ]
     },
     "execution_count": 55,
     "metadata": {},
     "output_type": "execute_result"
    }
   ],
   "source": [
    "zip(range(10000), 'python')"
   ]
  },
  {
   "cell_type": "code",
   "execution_count": 56,
   "id": "ea3f5ab5",
   "metadata": {},
   "outputs": [
    {
     "data": {
      "text/plain": [
       "[(0, 'p'), (1, 'y'), (2, 't'), (3, 'h'), (4, 'o'), (5, 'n')]"
      ]
     },
     "execution_count": 56,
     "metadata": {},
     "output_type": "execute_result"
    }
   ],
   "source": [
    "list(zip(range(10000), 'python'))"
   ]
  },
  {
   "cell_type": "code",
   "execution_count": 57,
   "id": "70bca412",
   "metadata": {},
   "outputs": [],
   "source": [
    "l = range(10)"
   ]
  },
  {
   "cell_type": "code",
   "execution_count": 58,
   "id": "ea108370",
   "metadata": {},
   "outputs": [
    {
     "name": "stdout",
     "output_type": "stream",
     "text": [
      "[0, 1, 2, 3, 4, 5, 6, 7, 8, 9]\n"
     ]
    }
   ],
   "source": [
    "print(list(l))"
   ]
  },
  {
   "cell_type": "code",
   "execution_count": 59,
   "id": "2af768d2",
   "metadata": {},
   "outputs": [
    {
     "data": {
      "text/plain": [
       "[1, 1, 2, 6, 24, 120, 720, 5040, 40320, 362880]"
      ]
     },
     "execution_count": 59,
     "metadata": {},
     "output_type": "execute_result"
    }
   ],
   "source": [
    "list(map(fact, l))"
   ]
  },
  {
   "cell_type": "code",
   "execution_count": 60,
   "id": "710ac9f4",
   "metadata": {},
   "outputs": [],
   "source": [
    "results =[fact(n) for n in range(10)]"
   ]
  },
  {
   "cell_type": "code",
   "execution_count": 61,
   "id": "331d02c1",
   "metadata": {},
   "outputs": [
    {
     "name": "stdout",
     "output_type": "stream",
     "text": [
      "[1, 1, 2, 6, 24, 120, 720, 5040, 40320, 362880]\n"
     ]
    }
   ],
   "source": [
    "print(results)"
   ]
  },
  {
   "cell_type": "code",
   "execution_count": 62,
   "id": "eb3ecb51",
   "metadata": {},
   "outputs": [],
   "source": [
    "results =(fact(n) for n in range(10))"
   ]
  },
  {
   "cell_type": "code",
   "execution_count": 63,
   "id": "7f1936af",
   "metadata": {},
   "outputs": [
    {
     "name": "stdout",
     "output_type": "stream",
     "text": [
      "<generator object <genexpr> at 0x000001096CB27610>\n"
     ]
    }
   ],
   "source": [
    "print(results)"
   ]
  },
  {
   "cell_type": "code",
   "execution_count": 64,
   "id": "a7ab978f",
   "metadata": {},
   "outputs": [
    {
     "name": "stdout",
     "output_type": "stream",
     "text": [
      "1\n",
      "1\n",
      "2\n",
      "6\n",
      "24\n",
      "120\n",
      "720\n",
      "5040\n",
      "40320\n",
      "362880\n"
     ]
    }
   ],
   "source": [
    "for x in results:\n",
    "    print(x)"
   ]
  },
  {
   "cell_type": "code",
   "execution_count": 65,
   "id": "0743fd5c",
   "metadata": {},
   "outputs": [],
   "source": [
    "results = list((fact(n) for n in range(10)))"
   ]
  },
  {
   "cell_type": "code",
   "execution_count": 66,
   "id": "03c7e7c9",
   "metadata": {},
   "outputs": [
    {
     "data": {
      "text/plain": [
       "[1, 1, 2, 6, 24, 120, 720, 5040, 40320, 362880]"
      ]
     },
     "execution_count": 66,
     "metadata": {},
     "output_type": "execute_result"
    }
   ],
   "source": [
    "results"
   ]
  },
  {
   "cell_type": "code",
   "execution_count": 67,
   "id": "f86ebafc",
   "metadata": {},
   "outputs": [],
   "source": [
    "results = [fact(n) for n in range(10)]"
   ]
  },
  {
   "cell_type": "code",
   "execution_count": 68,
   "id": "388bc223",
   "metadata": {},
   "outputs": [
    {
     "data": {
      "text/plain": [
       "[1, 1, 2, 6, 24, 120, 720, 5040, 40320, 362880]"
      ]
     },
     "execution_count": 68,
     "metadata": {},
     "output_type": "execute_result"
    }
   ],
   "source": [
    "results"
   ]
  },
  {
   "cell_type": "code",
   "execution_count": 69,
   "id": "df60f9ae",
   "metadata": {},
   "outputs": [
    {
     "data": {
      "text/plain": [
       "[11, 22, 33, 44]"
      ]
     },
     "execution_count": 69,
     "metadata": {},
     "output_type": "execute_result"
    }
   ],
   "source": [
    "list(map(lambda x, y: x+y, l1, l2))"
   ]
  },
  {
   "cell_type": "code",
   "execution_count": 70,
   "id": "78e9ebce",
   "metadata": {},
   "outputs": [
    {
     "data": {
      "text/plain": [
       "[11, 22, 33, 44]"
      ]
     },
     "execution_count": 70,
     "metadata": {},
     "output_type": "execute_result"
    }
   ],
   "source": [
    "[x+y for x, y in zip(l1, l2)]"
   ]
  },
  {
   "cell_type": "code",
   "execution_count": 71,
   "id": "5ca38ed6",
   "metadata": {},
   "outputs": [
    {
     "data": {
      "text/plain": [
       "[22, 44]"
      ]
     },
     "execution_count": 71,
     "metadata": {},
     "output_type": "execute_result"
    }
   ],
   "source": [
    "list(filter(lambda x: x%2==0, map(lambda x, y: x+y, l1, l2)))"
   ]
  },
  {
   "cell_type": "code",
   "execution_count": 72,
   "id": "65192d26",
   "metadata": {},
   "outputs": [
    {
     "data": {
      "text/plain": [
       "[22, 44]"
      ]
     },
     "execution_count": 72,
     "metadata": {},
     "output_type": "execute_result"
    }
   ],
   "source": [
    "[x + y for x, y in zip(l1, l2) if (x+y)%2 == 0]"
   ]
  },
  {
   "cell_type": "code",
   "execution_count": 73,
   "id": "41ccf25e",
   "metadata": {},
   "outputs": [],
   "source": [
    "results = (x + y for x, y in zip(l1, l2) if (x+y)%2 == 0)"
   ]
  },
  {
   "cell_type": "code",
   "execution_count": 74,
   "id": "15d72006",
   "metadata": {},
   "outputs": [
    {
     "name": "stdout",
     "output_type": "stream",
     "text": [
      "<generator object <genexpr> at 0x000001096CBB0C10>\n"
     ]
    }
   ],
   "source": [
    "print(results)"
   ]
  },
  {
   "cell_type": "markdown",
   "id": "d9747b6b",
   "metadata": {},
   "source": [
    "TODO: 90"
   ]
  }
 ],
 "metadata": {
  "kernelspec": {
   "display_name": "Python 3.10.4 64-bit (microsoft store)",
   "language": "python",
   "name": "python3"
  },
  "language_info": {
   "codemirror_mode": {
    "name": "ipython",
    "version": 3
   },
   "file_extension": ".py",
   "mimetype": "text/x-python",
   "name": "python",
   "nbconvert_exporter": "python",
   "pygments_lexer": "ipython3",
   "version": "3.10.7"
  },
  "vscode": {
   "interpreter": {
    "hash": "234ef6a6594d3bde90fb6d953f8819a2c5e4558d5396c2bcf39db0789736caa3"
   }
  }
 },
 "nbformat": 4,
 "nbformat_minor": 5
}
