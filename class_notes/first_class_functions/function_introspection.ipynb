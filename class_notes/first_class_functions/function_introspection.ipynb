{
 "cells": [
  {
   "cell_type": "markdown",
   "id": "21a42a54",
   "metadata": {},
   "source": [
    "FUNCTION INTROSPECTION"
   ]
  },
  {
   "cell_type": "code",
   "execution_count": 1,
   "id": "6db01162",
   "metadata": {},
   "outputs": [],
   "source": [
    "def my_func(a: \"mandatory positional\",\n",
    "            b: \"optional positional\" = 1,\n",
    "            c=2,\n",
    "            *args: \"add extra positional here\",\n",
    "            kw1,\n",
    "            kw2=100,\n",
    "            kw3=200,\n",
    "            **kwargs: \"provide extra kw-only here\") -> \"does nothing\":\n",
    "    \"\"\" This function does nothing but does have various parameters and annotations.\"\"\"\n",
    "    i = 10\n",
    "    j = 20"
   ]
  },
  {
   "cell_type": "code",
   "execution_count": 2,
   "id": "86c2a95e",
   "metadata": {},
   "outputs": [
    {
     "data": {
      "text/plain": [
       "' This function does nothing but does have various parameters and annotations.'"
      ]
     },
     "execution_count": 2,
     "metadata": {},
     "output_type": "execute_result"
    }
   ],
   "source": [
    "my_func.__doc__"
   ]
  },
  {
   "cell_type": "code",
   "execution_count": 3,
   "id": "e4452656",
   "metadata": {},
   "outputs": [
    {
     "data": {
      "text/plain": [
       "{'a': 'mandatory positional',\n",
       " 'b': 'optional positional',\n",
       " 'args': 'add extra positional here',\n",
       " 'kwargs': 'provide extra kw-only here',\n",
       " 'return': 'does nothing'}"
      ]
     },
     "execution_count": 3,
     "metadata": {},
     "output_type": "execute_result"
    }
   ],
   "source": [
    "my_func.__annotations__"
   ]
  },
  {
   "cell_type": "code",
   "execution_count": 4,
   "id": "e2ab960c",
   "metadata": {},
   "outputs": [],
   "source": [
    "my_func.short_description = \"this is a function that does nothing much\""
   ]
  },
  {
   "cell_type": "code",
   "execution_count": 5,
   "id": "ea52ebbb",
   "metadata": {},
   "outputs": [
    {
     "data": {
      "text/plain": [
       "'this is a function that does nothing much'"
      ]
     },
     "execution_count": 5,
     "metadata": {},
     "output_type": "execute_result"
    }
   ],
   "source": [
    "my_func.short_description"
   ]
  },
  {
   "cell_type": "code",
   "execution_count": 6,
   "id": "c265ff08",
   "metadata": {},
   "outputs": [
    {
     "data": {
      "text/plain": [
       "['__annotations__',\n",
       " '__call__',\n",
       " '__class__',\n",
       " '__closure__',\n",
       " '__code__',\n",
       " '__defaults__',\n",
       " '__delattr__',\n",
       " '__dict__',\n",
       " '__dir__',\n",
       " '__doc__',\n",
       " '__eq__',\n",
       " '__format__',\n",
       " '__ge__',\n",
       " '__get__',\n",
       " '__getattribute__',\n",
       " '__globals__',\n",
       " '__gt__',\n",
       " '__hash__',\n",
       " '__init__',\n",
       " '__init_subclass__',\n",
       " '__kwdefaults__',\n",
       " '__le__',\n",
       " '__lt__',\n",
       " '__module__',\n",
       " '__name__',\n",
       " '__ne__',\n",
       " '__new__',\n",
       " '__qualname__',\n",
       " '__reduce__',\n",
       " '__reduce_ex__',\n",
       " '__repr__',\n",
       " '__setattr__',\n",
       " '__sizeof__',\n",
       " '__str__',\n",
       " '__subclasshook__',\n",
       " 'short_description']"
      ]
     },
     "execution_count": 6,
     "metadata": {},
     "output_type": "execute_result"
    }
   ],
   "source": [
    "dir(my_func)"
   ]
  },
  {
   "cell_type": "code",
   "execution_count": 7,
   "id": "4fcd29f5",
   "metadata": {},
   "outputs": [
    {
     "data": {
      "text/plain": [
       "'my_func'"
      ]
     },
     "execution_count": 7,
     "metadata": {},
     "output_type": "execute_result"
    }
   ],
   "source": [
    "my_func.__name__"
   ]
  },
  {
   "cell_type": "code",
   "execution_count": 8,
   "id": "22b80792",
   "metadata": {},
   "outputs": [
    {
     "data": {
      "text/plain": [
       "2525182993744"
      ]
     },
     "execution_count": 8,
     "metadata": {},
     "output_type": "execute_result"
    }
   ],
   "source": [
    "id(my_func)"
   ]
  },
  {
   "cell_type": "code",
   "execution_count": 9,
   "id": "a78c6c10",
   "metadata": {},
   "outputs": [],
   "source": [
    "def func_call(f):\n",
    "    print(id(f))\n",
    "    print(f.__name__)"
   ]
  },
  {
   "cell_type": "code",
   "execution_count": 10,
   "id": "4d26bd0e",
   "metadata": {},
   "outputs": [
    {
     "name": "stdout",
     "output_type": "stream",
     "text": [
      "2525182993744\n",
      "my_func\n"
     ]
    }
   ],
   "source": [
    "func_call(my_func)"
   ]
  },
  {
   "cell_type": "code",
   "execution_count": 11,
   "id": "1e979fcf",
   "metadata": {},
   "outputs": [
    {
     "data": {
      "text/plain": [
       "(1, 2)"
      ]
     },
     "execution_count": 11,
     "metadata": {},
     "output_type": "execute_result"
    }
   ],
   "source": [
    "my_func.__defaults__"
   ]
  },
  {
   "cell_type": "code",
   "execution_count": 12,
   "id": "9a846dfc",
   "metadata": {},
   "outputs": [
    {
     "data": {
      "text/plain": [
       "{'kw2': 100, 'kw3': 200}"
      ]
     },
     "execution_count": 12,
     "metadata": {},
     "output_type": "execute_result"
    }
   ],
   "source": [
    "my_func.__kwdefaults__"
   ]
  },
  {
   "cell_type": "code",
   "execution_count": 13,
   "id": "4155fe0f",
   "metadata": {},
   "outputs": [
    {
     "data": {
      "text/plain": [
       "['__class__',\n",
       " '__delattr__',\n",
       " '__dir__',\n",
       " '__doc__',\n",
       " '__eq__',\n",
       " '__format__',\n",
       " '__ge__',\n",
       " '__getattribute__',\n",
       " '__gt__',\n",
       " '__hash__',\n",
       " '__init__',\n",
       " '__init_subclass__',\n",
       " '__le__',\n",
       " '__lt__',\n",
       " '__ne__',\n",
       " '__new__',\n",
       " '__reduce__',\n",
       " '__reduce_ex__',\n",
       " '__repr__',\n",
       " '__setattr__',\n",
       " '__sizeof__',\n",
       " '__str__',\n",
       " '__subclasshook__',\n",
       " 'co_argcount',\n",
       " 'co_cellvars',\n",
       " 'co_code',\n",
       " 'co_consts',\n",
       " 'co_filename',\n",
       " 'co_firstlineno',\n",
       " 'co_flags',\n",
       " 'co_freevars',\n",
       " 'co_kwonlyargcount',\n",
       " 'co_lnotab',\n",
       " 'co_name',\n",
       " 'co_names',\n",
       " 'co_nlocals',\n",
       " 'co_posonlyargcount',\n",
       " 'co_stacksize',\n",
       " 'co_varnames',\n",
       " 'replace']"
      ]
     },
     "execution_count": 13,
     "metadata": {},
     "output_type": "execute_result"
    }
   ],
   "source": [
    "dir(my_func.__code__)"
   ]
  },
  {
   "cell_type": "code",
   "execution_count": 14,
   "id": "91b37d8b",
   "metadata": {},
   "outputs": [
    {
     "data": {
      "text/plain": [
       "'my_func'"
      ]
     },
     "execution_count": 14,
     "metadata": {},
     "output_type": "execute_result"
    }
   ],
   "source": [
    "my_func.__code__.co_name"
   ]
  },
  {
   "cell_type": "code",
   "execution_count": 15,
   "id": "2a39c99f",
   "metadata": {},
   "outputs": [
    {
     "data": {
      "text/plain": [
       "('a', 'b', 'c', 'kw1', 'kw2', 'kw3', 'args', 'kwargs', 'i', 'j')"
      ]
     },
     "execution_count": 15,
     "metadata": {},
     "output_type": "execute_result"
    }
   ],
   "source": [
    "my_func.__code__.co_varnames"
   ]
  },
  {
   "cell_type": "code",
   "execution_count": 16,
   "id": "cc5cedad",
   "metadata": {},
   "outputs": [
    {
     "data": {
      "text/plain": [
       "3"
      ]
     },
     "execution_count": 16,
     "metadata": {},
     "output_type": "execute_result"
    }
   ],
   "source": [
    "my_func.__code__.co_argcount"
   ]
  },
  {
   "cell_type": "code",
   "execution_count": 17,
   "id": "e17e0f8e",
   "metadata": {},
   "outputs": [],
   "source": [
    "import inspect"
   ]
  },
  {
   "cell_type": "code",
   "execution_count": 18,
   "id": "5cba405a",
   "metadata": {},
   "outputs": [],
   "source": [
    "from inspect import isfunction, ismethod, isroutine"
   ]
  },
  {
   "cell_type": "code",
   "execution_count": 19,
   "id": "b230996b",
   "metadata": {},
   "outputs": [],
   "source": [
    "a = 10"
   ]
  },
  {
   "cell_type": "code",
   "execution_count": 20,
   "id": "7f85cb88",
   "metadata": {},
   "outputs": [
    {
     "data": {
      "text/plain": [
       "False"
      ]
     },
     "execution_count": 20,
     "metadata": {},
     "output_type": "execute_result"
    }
   ],
   "source": [
    "isfunction(a)"
   ]
  },
  {
   "cell_type": "code",
   "execution_count": 21,
   "id": "b1db0639",
   "metadata": {},
   "outputs": [
    {
     "data": {
      "text/plain": [
       "True"
      ]
     },
     "execution_count": 21,
     "metadata": {},
     "output_type": "execute_result"
    }
   ],
   "source": [
    "isfunction(my_func)"
   ]
  },
  {
   "cell_type": "code",
   "execution_count": 22,
   "id": "505e83ed",
   "metadata": {},
   "outputs": [
    {
     "data": {
      "text/plain": [
       "False"
      ]
     },
     "execution_count": 22,
     "metadata": {},
     "output_type": "execute_result"
    }
   ],
   "source": [
    "ismethod(my_func)"
   ]
  },
  {
   "cell_type": "code",
   "execution_count": 23,
   "id": "80dac01b",
   "metadata": {},
   "outputs": [],
   "source": [
    "class MyClass:\n",
    "    def f(self):\n",
    "        pass"
   ]
  },
  {
   "cell_type": "code",
   "execution_count": 24,
   "id": "d09fbaf8",
   "metadata": {},
   "outputs": [
    {
     "data": {
      "text/plain": [
       "True"
      ]
     },
     "execution_count": 24,
     "metadata": {},
     "output_type": "execute_result"
    }
   ],
   "source": [
    "isfunction(MyClass.f)"
   ]
  },
  {
   "cell_type": "code",
   "execution_count": 25,
   "id": "43a14e82",
   "metadata": {},
   "outputs": [],
   "source": [
    "my_obj = MyClass()"
   ]
  },
  {
   "cell_type": "code",
   "execution_count": 26,
   "id": "bb0cbd08",
   "metadata": {},
   "outputs": [
    {
     "data": {
      "text/plain": [
       "False"
      ]
     },
     "execution_count": 26,
     "metadata": {},
     "output_type": "execute_result"
    }
   ],
   "source": [
    "isfunction(my_obj.f)"
   ]
  },
  {
   "cell_type": "code",
   "execution_count": 27,
   "id": "19d1127a",
   "metadata": {},
   "outputs": [
    {
     "data": {
      "text/plain": [
       "True"
      ]
     },
     "execution_count": 27,
     "metadata": {},
     "output_type": "execute_result"
    }
   ],
   "source": [
    "ismethod(my_obj.f)"
   ]
  },
  {
   "cell_type": "code",
   "execution_count": 28,
   "id": "09672e5d",
   "metadata": {},
   "outputs": [
    {
     "data": {
      "text/plain": [
       "True"
      ]
     },
     "execution_count": 28,
     "metadata": {},
     "output_type": "execute_result"
    }
   ],
   "source": [
    "isroutine(my_obj.f)"
   ]
  },
  {
   "cell_type": "code",
   "execution_count": 29,
   "id": "70d92931",
   "metadata": {},
   "outputs": [
    {
     "data": {
      "text/plain": [
       "True"
      ]
     },
     "execution_count": 29,
     "metadata": {},
     "output_type": "execute_result"
    }
   ],
   "source": [
    "isroutine(MyClass.f)"
   ]
  },
  {
   "cell_type": "code",
   "execution_count": 30,
   "id": "52e1fb80",
   "metadata": {},
   "outputs": [
    {
     "data": {
      "text/plain": [
       "'def my_func(a: \"mandatory positional\",\\n            b: \"optional positional\" = 1,\\n            c=2,\\n            *args: \"add extra positional here\",\\n            kw1,\\n            kw2=100,\\n            kw3=200,\\n            **kwargs: \"provide extra kw-only here\") -> \"does nothing\":\\n    \"\"\" This function does nothing but does have various parameters and annotations.\"\"\"\\n    i = 10\\n    j = 20\\n'"
      ]
     },
     "execution_count": 30,
     "metadata": {},
     "output_type": "execute_result"
    }
   ],
   "source": [
    "inspect.getsource(my_func)"
   ]
  },
  {
   "cell_type": "code",
   "execution_count": 31,
   "id": "5cf0bb72",
   "metadata": {},
   "outputs": [
    {
     "name": "stdout",
     "output_type": "stream",
     "text": [
      "def my_func(a: \"mandatory positional\",\n",
      "            b: \"optional positional\" = 1,\n",
      "            c=2,\n",
      "            *args: \"add extra positional here\",\n",
      "            kw1,\n",
      "            kw2=100,\n",
      "            kw3=200,\n",
      "            **kwargs: \"provide extra kw-only here\") -> \"does nothing\":\n",
      "    \"\"\" This function does nothing but does have various parameters and annotations.\"\"\"\n",
      "    i = 10\n",
      "    j = 20\n",
      "\n"
     ]
    }
   ],
   "source": [
    "print(inspect.getsource(my_func))"
   ]
  },
  {
   "cell_type": "code",
   "execution_count": 32,
   "id": "bdcca0d5",
   "metadata": {},
   "outputs": [
    {
     "ename": "NameError",
     "evalue": "name 'f' is not defined",
     "output_type": "error",
     "traceback": [
      "\u001b[1;31m---------------------------------------------------------------------------\u001b[0m",
      "\u001b[1;31mNameError\u001b[0m                                 Traceback (most recent call last)",
      "\u001b[1;32mc:\\Users\\pgold\\MatsHub\\deep-Dive-1\\class_notes\\first_class_functions\\function_introspection.ipynb Cell 33\u001b[0m in \u001b[0;36m<cell line: 1>\u001b[1;34m()\u001b[0m\n\u001b[1;32m----> <a href='vscode-notebook-cell:/c%3A/Users/pgold/MatsHub/deep-Dive-1/class_notes/first_class_functions/function_introspection.ipynb#ch0000032?line=0'>1</a>\u001b[0m \u001b[39mprint\u001b[39m(inspect\u001b[39m.\u001b[39mgetsource(f))\n",
      "\u001b[1;31mNameError\u001b[0m: name 'f' is not defined"
     ]
    }
   ],
   "source": [
    "print(inspect.getsource(f))"
   ]
  },
  {
   "cell_type": "code",
   "execution_count": null,
   "id": "b9f2a834",
   "metadata": {},
   "outputs": [
    {
     "data": {
      "text/plain": [
       "<module '__main__'>"
      ]
     },
     "execution_count": 45,
     "metadata": {},
     "output_type": "execute_result"
    }
   ],
   "source": [
    "inspect.getmodule(my_func)"
   ]
  },
  {
   "cell_type": "code",
   "execution_count": null,
   "id": "4d03e6aa",
   "metadata": {},
   "outputs": [
    {
     "data": {
      "text/plain": [
       "<module 'builtins' (built-in)>"
      ]
     },
     "execution_count": 81,
     "metadata": {},
     "output_type": "execute_result"
    }
   ],
   "source": [
    "inspect.getmodule(print)"
   ]
  },
  {
   "cell_type": "code",
   "execution_count": null,
   "id": "b9b3d04f",
   "metadata": {},
   "outputs": [],
   "source": [
    "import math"
   ]
  },
  {
   "cell_type": "code",
   "execution_count": null,
   "id": "845488f5",
   "metadata": {},
   "outputs": [
    {
     "data": {
      "text/plain": [
       "<module 'math' (built-in)>"
      ]
     },
     "execution_count": 83,
     "metadata": {},
     "output_type": "execute_result"
    }
   ],
   "source": [
    "inspect.getmodule(math.sin)"
   ]
  },
  {
   "cell_type": "code",
   "execution_count": null,
   "id": "291cefae",
   "metadata": {},
   "outputs": [],
   "source": [
    "# dummy code\n",
    "i = 100\n",
    "\n",
    "\n",
    "# TODO: Fix this function\n",
    "def my_func(a: \"mandatory positional\",\n",
    "            b: \"optional positional\" = 1,\n",
    "            c=2,\n",
    "            *args: \"add extra positional here\",\n",
    "            kw1,\n",
    "            kw2=100,\n",
    "            kw3=200,\n",
    "            **kwargs: \"provide extra kw-only here\") -> \"does nothing\":\n",
    "    \"\"\" This function does nothing but does have various parameters and annotations.\"\"\"\n",
    "    i = 10\n",
    "    j = 20\n",
    "    a = i + j\n",
    "    return a"
   ]
  },
  {
   "cell_type": "code",
   "execution_count": null,
   "id": "2a346ff1",
   "metadata": {},
   "outputs": [
    {
     "data": {
      "text/plain": [
       "'# TODO: Fix this function\\n'"
      ]
     },
     "execution_count": 88,
     "metadata": {},
     "output_type": "execute_result"
    }
   ],
   "source": [
    "inspect.getcomments(my_func)"
   ]
  },
  {
   "cell_type": "code",
   "execution_count": null,
   "id": "4dd92cef",
   "metadata": {},
   "outputs": [
    {
     "data": {
      "text/plain": [
       "<Signature (a: 'mandatory positional', b: 'optional positional' = 1, c=2, *args: 'add extra positional here', kw1, kw2=100, kw3=200, **kwargs: 'provide extra kw-only here') -> 'does nothing'>"
      ]
     },
     "execution_count": 89,
     "metadata": {},
     "output_type": "execute_result"
    }
   ],
   "source": [
    "inspect.signature(my_func)"
   ]
  },
  {
   "cell_type": "code",
   "execution_count": null,
   "id": "be65879b",
   "metadata": {},
   "outputs": [
    {
     "data": {
      "text/plain": [
       "['__class__',\n",
       " '__delattr__',\n",
       " '__dir__',\n",
       " '__doc__',\n",
       " '__eq__',\n",
       " '__format__',\n",
       " '__ge__',\n",
       " '__getattribute__',\n",
       " '__gt__',\n",
       " '__hash__',\n",
       " '__init__',\n",
       " '__init_subclass__',\n",
       " '__le__',\n",
       " '__lt__',\n",
       " '__module__',\n",
       " '__ne__',\n",
       " '__new__',\n",
       " '__reduce__',\n",
       " '__reduce_ex__',\n",
       " '__repr__',\n",
       " '__setattr__',\n",
       " '__setstate__',\n",
       " '__sizeof__',\n",
       " '__slots__',\n",
       " '__str__',\n",
       " '__subclasshook__',\n",
       " '_bind',\n",
       " '_bound_arguments_cls',\n",
       " '_hash_basis',\n",
       " '_parameter_cls',\n",
       " '_parameters',\n",
       " '_return_annotation',\n",
       " 'bind',\n",
       " 'bind_partial',\n",
       " 'empty',\n",
       " 'from_builtin',\n",
       " 'from_callable',\n",
       " 'from_function',\n",
       " 'parameters',\n",
       " 'replace',\n",
       " 'return_annotation']"
      ]
     },
     "execution_count": 90,
     "metadata": {},
     "output_type": "execute_result"
    }
   ],
   "source": [
    "dir(inspect.signature(my_func))"
   ]
  },
  {
   "cell_type": "code",
   "execution_count": null,
   "id": "3e6a6166",
   "metadata": {},
   "outputs": [
    {
     "data": {
      "text/plain": [
       "{'a': 'mandatory positional',\n",
       " 'b': 'optional positional',\n",
       " 'args': 'add extra positional here',\n",
       " 'kwargs': 'provide extra kw-only here',\n",
       " 'return': 'does nothing'}"
      ]
     },
     "execution_count": 91,
     "metadata": {},
     "output_type": "execute_result"
    }
   ],
   "source": [
    "my_func.__annotations__"
   ]
  },
  {
   "cell_type": "code",
   "execution_count": null,
   "id": "ed051c39",
   "metadata": {},
   "outputs": [
    {
     "data": {
      "text/plain": [
       "'does nothing'"
      ]
     },
     "execution_count": 92,
     "metadata": {},
     "output_type": "execute_result"
    }
   ],
   "source": [
    "inspect.signature(my_func).return_annotation"
   ]
  },
  {
   "cell_type": "code",
   "execution_count": null,
   "id": "c901d577",
   "metadata": {},
   "outputs": [],
   "source": [
    "sig = inspect.signature(my_func)"
   ]
  },
  {
   "cell_type": "code",
   "execution_count": null,
   "id": "5da53136",
   "metadata": {},
   "outputs": [
    {
     "data": {
      "text/plain": [
       "<Signature (a: 'mandatory positional', b: 'optional positional' = 1, c=2, *args: 'add extra positional here', kw1, kw2=100, kw3=200, **kwargs: 'provide extra kw-only here') -> 'does nothing'>"
      ]
     },
     "execution_count": 94,
     "metadata": {},
     "output_type": "execute_result"
    }
   ],
   "source": [
    "sig"
   ]
  },
  {
   "cell_type": "code",
   "execution_count": null,
   "id": "b0033add",
   "metadata": {},
   "outputs": [
    {
     "data": {
      "text/plain": [
       "mappingproxy({'a': <Parameter \"a: 'mandatory positional'\">,\n",
       "              'b': <Parameter \"b: 'optional positional' = 1\">,\n",
       "              'c': <Parameter \"c=2\">,\n",
       "              'args': <Parameter \"*args: 'add extra positional here'\">,\n",
       "              'kw1': <Parameter \"kw1\">,\n",
       "              'kw2': <Parameter \"kw2=100\">,\n",
       "              'kw3': <Parameter \"kw3=200\">,\n",
       "              'kwargs': <Parameter \"**kwargs: 'provide extra kw-only here'\">})"
      ]
     },
     "execution_count": 95,
     "metadata": {},
     "output_type": "execute_result"
    }
   ],
   "source": [
    "sig.parameters"
   ]
  },
  {
   "cell_type": "code",
   "execution_count": null,
   "id": "156f2c8d",
   "metadata": {},
   "outputs": [
    {
     "name": "stdout",
     "output_type": "stream",
     "text": [
      "a a: 'mandatory positional'\n",
      "b b: 'optional positional' = 1\n",
      "c c=2\n",
      "args *args: 'add extra positional here'\n",
      "kw1 kw1\n",
      "kw2 kw2=100\n",
      "kw3 kw3=200\n",
      "kwargs **kwargs: 'provide extra kw-only here'\n"
     ]
    }
   ],
   "source": [
    "for k, v in sig.parameters.items():\n",
    "    print(k, v)"
   ]
  },
  {
   "cell_type": "code",
   "execution_count": null,
   "id": "88f5645d",
   "metadata": {},
   "outputs": [
    {
     "name": "stdout",
     "output_type": "stream",
     "text": [
      "a <class 'inspect.Parameter'>\n",
      "b <class 'inspect.Parameter'>\n",
      "c <class 'inspect.Parameter'>\n",
      "args <class 'inspect.Parameter'>\n",
      "kw1 <class 'inspect.Parameter'>\n",
      "kw2 <class 'inspect.Parameter'>\n",
      "kw3 <class 'inspect.Parameter'>\n",
      "kwargs <class 'inspect.Parameter'>\n"
     ]
    }
   ],
   "source": [
    "for k, v in sig.parameters.items():\n",
    "    print(k, type(v))"
   ]
  },
  {
   "cell_type": "code",
   "execution_count": null,
   "id": "e7f15bf3",
   "metadata": {},
   "outputs": [
    {
     "name": "stdout",
     "output_type": "stream",
     "text": [
      "['KEYWORD_ONLY', 'POSITIONAL_ONLY', 'POSITIONAL_OR_KEYWORD', 'VAR_KEYWORD', 'VAR_POSITIONAL', '__class__', '__delattr__', '__dir__', '__doc__', '__eq__', '__format__', '__ge__', '__getattribute__', '__gt__', '__hash__', '__init__', '__init_subclass__', '__le__', '__lt__', '__module__', '__ne__', '__new__', '__reduce__', '__reduce_ex__', '__repr__', '__setattr__', '__setstate__', '__sizeof__', '__slots__', '__str__', '__subclasshook__', '_annotation', '_default', '_kind', '_name', 'annotation', 'default', 'empty', 'kind', 'name', 'replace']\n",
      "['KEYWORD_ONLY', 'POSITIONAL_ONLY', 'POSITIONAL_OR_KEYWORD', 'VAR_KEYWORD', 'VAR_POSITIONAL', '__class__', '__delattr__', '__dir__', '__doc__', '__eq__', '__format__', '__ge__', '__getattribute__', '__gt__', '__hash__', '__init__', '__init_subclass__', '__le__', '__lt__', '__module__', '__ne__', '__new__', '__reduce__', '__reduce_ex__', '__repr__', '__setattr__', '__setstate__', '__sizeof__', '__slots__', '__str__', '__subclasshook__', '_annotation', '_default', '_kind', '_name', 'annotation', 'default', 'empty', 'kind', 'name', 'replace']\n",
      "['KEYWORD_ONLY', 'POSITIONAL_ONLY', 'POSITIONAL_OR_KEYWORD', 'VAR_KEYWORD', 'VAR_POSITIONAL', '__class__', '__delattr__', '__dir__', '__doc__', '__eq__', '__format__', '__ge__', '__getattribute__', '__gt__', '__hash__', '__init__', '__init_subclass__', '__le__', '__lt__', '__module__', '__ne__', '__new__', '__reduce__', '__reduce_ex__', '__repr__', '__setattr__', '__setstate__', '__sizeof__', '__slots__', '__str__', '__subclasshook__', '_annotation', '_default', '_kind', '_name', 'annotation', 'default', 'empty', 'kind', 'name', 'replace']\n",
      "['KEYWORD_ONLY', 'POSITIONAL_ONLY', 'POSITIONAL_OR_KEYWORD', 'VAR_KEYWORD', 'VAR_POSITIONAL', '__class__', '__delattr__', '__dir__', '__doc__', '__eq__', '__format__', '__ge__', '__getattribute__', '__gt__', '__hash__', '__init__', '__init_subclass__', '__le__', '__lt__', '__module__', '__ne__', '__new__', '__reduce__', '__reduce_ex__', '__repr__', '__setattr__', '__setstate__', '__sizeof__', '__slots__', '__str__', '__subclasshook__', '_annotation', '_default', '_kind', '_name', 'annotation', 'default', 'empty', 'kind', 'name', 'replace']\n",
      "['KEYWORD_ONLY', 'POSITIONAL_ONLY', 'POSITIONAL_OR_KEYWORD', 'VAR_KEYWORD', 'VAR_POSITIONAL', '__class__', '__delattr__', '__dir__', '__doc__', '__eq__', '__format__', '__ge__', '__getattribute__', '__gt__', '__hash__', '__init__', '__init_subclass__', '__le__', '__lt__', '__module__', '__ne__', '__new__', '__reduce__', '__reduce_ex__', '__repr__', '__setattr__', '__setstate__', '__sizeof__', '__slots__', '__str__', '__subclasshook__', '_annotation', '_default', '_kind', '_name', 'annotation', 'default', 'empty', 'kind', 'name', 'replace']\n",
      "['KEYWORD_ONLY', 'POSITIONAL_ONLY', 'POSITIONAL_OR_KEYWORD', 'VAR_KEYWORD', 'VAR_POSITIONAL', '__class__', '__delattr__', '__dir__', '__doc__', '__eq__', '__format__', '__ge__', '__getattribute__', '__gt__', '__hash__', '__init__', '__init_subclass__', '__le__', '__lt__', '__module__', '__ne__', '__new__', '__reduce__', '__reduce_ex__', '__repr__', '__setattr__', '__setstate__', '__sizeof__', '__slots__', '__str__', '__subclasshook__', '_annotation', '_default', '_kind', '_name', 'annotation', 'default', 'empty', 'kind', 'name', 'replace']\n",
      "['KEYWORD_ONLY', 'POSITIONAL_ONLY', 'POSITIONAL_OR_KEYWORD', 'VAR_KEYWORD', 'VAR_POSITIONAL', '__class__', '__delattr__', '__dir__', '__doc__', '__eq__', '__format__', '__ge__', '__getattribute__', '__gt__', '__hash__', '__init__', '__init_subclass__', '__le__', '__lt__', '__module__', '__ne__', '__new__', '__reduce__', '__reduce_ex__', '__repr__', '__setattr__', '__setstate__', '__sizeof__', '__slots__', '__str__', '__subclasshook__', '_annotation', '_default', '_kind', '_name', 'annotation', 'default', 'empty', 'kind', 'name', 'replace']\n",
      "['KEYWORD_ONLY', 'POSITIONAL_ONLY', 'POSITIONAL_OR_KEYWORD', 'VAR_KEYWORD', 'VAR_POSITIONAL', '__class__', '__delattr__', '__dir__', '__doc__', '__eq__', '__format__', '__ge__', '__getattribute__', '__gt__', '__hash__', '__init__', '__init_subclass__', '__le__', '__lt__', '__module__', '__ne__', '__new__', '__reduce__', '__reduce_ex__', '__repr__', '__setattr__', '__setstate__', '__sizeof__', '__slots__', '__str__', '__subclasshook__', '_annotation', '_default', '_kind', '_name', 'annotation', 'default', 'empty', 'kind', 'name', 'replace']\n"
     ]
    }
   ],
   "source": [
    "for k, v in sig.parameters.items():\n",
    "    print(dir(v))"
   ]
  },
  {
   "cell_type": "code",
   "execution_count": null,
   "id": "74221425",
   "metadata": {},
   "outputs": [
    {
     "name": "stdout",
     "output_type": "stream",
     "text": [
      "Name: a\n",
      "Default: <class 'inspect._empty'>\n",
      "Annotation: mandatory positional\n",
      "Kind POSITIONAL_OR_KEYWORD\n",
      "------------------------------------\n",
      "Name: b\n",
      "Default: 1\n",
      "Annotation: optional positional\n",
      "Kind POSITIONAL_OR_KEYWORD\n",
      "------------------------------------\n",
      "Name: c\n",
      "Default: 2\n",
      "Annotation: <class 'inspect._empty'>\n",
      "Kind POSITIONAL_OR_KEYWORD\n",
      "------------------------------------\n",
      "Name: args\n",
      "Default: <class 'inspect._empty'>\n",
      "Annotation: add extra positional here\n",
      "Kind VAR_POSITIONAL\n",
      "------------------------------------\n",
      "Name: kw1\n",
      "Default: <class 'inspect._empty'>\n",
      "Annotation: <class 'inspect._empty'>\n",
      "Kind KEYWORD_ONLY\n",
      "------------------------------------\n",
      "Name: kw2\n",
      "Default: 100\n",
      "Annotation: <class 'inspect._empty'>\n",
      "Kind KEYWORD_ONLY\n",
      "------------------------------------\n",
      "Name: kw3\n",
      "Default: 200\n",
      "Annotation: <class 'inspect._empty'>\n",
      "Kind KEYWORD_ONLY\n",
      "------------------------------------\n",
      "Name: kwargs\n",
      "Default: <class 'inspect._empty'>\n",
      "Annotation: provide extra kw-only here\n",
      "Kind VAR_KEYWORD\n",
      "------------------------------------\n"
     ]
    }
   ],
   "source": [
    "for param in sig.parameters.values():\n",
    "    print('Name:', param.name)\n",
    "    print('Default:', param.default)\n",
    "    print('Annotation:', param.annotation)\n",
    "    print('Kind', param.kind)\n",
    "    print('------------------------------------')"
   ]
  },
  {
   "cell_type": "code",
   "execution_count": null,
   "id": "b8f7398d",
   "metadata": {},
   "outputs": [
    {
     "name": "stdout",
     "output_type": "stream",
     "text": [
      "Help on built-in function divmod in module builtins:\n",
      "\n",
      "divmod(x, y, /)\n",
      "    Return the tuple (x//y, x%y).  Invariant: div*y + mod == x.\n",
      "\n"
     ]
    }
   ],
   "source": [
    "help(divmod)"
   ]
  },
  {
   "cell_type": "code",
   "execution_count": null,
   "id": "3d566642",
   "metadata": {},
   "outputs": [
    {
     "data": {
      "text/plain": [
       "(1, 1)"
      ]
     },
     "execution_count": 104,
     "metadata": {},
     "output_type": "execute_result"
    }
   ],
   "source": [
    "divmod(4, 3)"
   ]
  },
  {
   "cell_type": "code",
   "execution_count": null,
   "id": "6b4af593",
   "metadata": {},
   "outputs": [
    {
     "name": "stdout",
     "output_type": "stream",
     "text": [
      "POSITIONAL_ONLY\n",
      "POSITIONAL_ONLY\n"
     ]
    }
   ],
   "source": [
    "for param in inspect.signature(divmod).parameters.values():\n",
    "    print(param.kind)"
   ]
  }
 ],
 "metadata": {
  "kernelspec": {
   "display_name": "Python 3 (ipykernel)",
   "language": "python",
   "name": "python3"
  },
  "language_info": {
   "codemirror_mode": {
    "name": "ipython",
    "version": 3
   },
   "file_extension": ".py",
   "mimetype": "text/x-python",
   "name": "python",
   "nbconvert_exporter": "python",
   "pygments_lexer": "ipython3",
   "version": "3.9.12"
  },
  "vscode": {
   "interpreter": {
    "hash": "a624adbc5e596fddf72740b255048309200567f23df85867ce297e9f9d364c1b"
   }
  }
 },
 "nbformat": 4,
 "nbformat_minor": 5
}
