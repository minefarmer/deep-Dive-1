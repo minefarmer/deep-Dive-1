{
 "cells": [
  {
   "cell_type": "markdown",
   "id": "77a330b2",
   "metadata": {},
   "source": [
    "VARIABLE EQUALITY"
   ]
  },
  {
   "cell_type": "markdown",
   "id": "adc6371f",
   "metadata": {},
   "source": [
    "We think of variable equality in two fundimental ways:\n",
    "            Memory Address                              Object State (data)\n",
    "                is                                              == \n",
    "            identity operator                               equality operator\n",
    "            var_1 is var_2                                  var_1 == var_2\n",
    "\n",
    "\n",
    "Negation        is not                                          != \n",
    "            var_1 is not var_2                              var1 != var_2\n",
    "            not(var_1 is var_2)                           not(var_1 == var_2)  \n",
    "\n",
    "\n",
    "\n",
    "Examples                        True or False  (As a shared reference)\n",
    "\n",
    "        a = 10          a is b  True\n",
    "        b = a           a == b  True\n",
    "\n",
    "\n",
    "        a = 'hello'     a is b  True           # but as we'll see later, don't count on it!\n",
    "        b = 'hello'     a == b  True\n",
    "\n",
    "\n",
    "        a = [1, 2, 3]   a is b  False\n",
    "        b = [1, 2, 3]   a == b  True\n",
    "\n",
    "\n",
    "        a = 10\n",
    "        b = 10.0\n"
   ]
  },
  {
   "cell_type": "markdown",
   "id": "4beed070",
   "metadata": {},
   "source": [
    "        THE NONE OBJECT\n",
    "\n",
    "The None object can be assigned to variables to indicate that they are not set (in the way we would expect thrm to be), i. e. an \"empty\" value (or null pointer)\n",
    "\n",
    "But the None object is a (real) object that is managed by the Python memory manager.\n",
    "\n",
    "Futhermore, the memory manager will always use a shared reference when assigning a variable to None.  (No matter how many None variables my program has, they will all have the same memory address.)\n"
   ]
  },
  {
   "cell_type": "code",
   "execution_count": 1,
   "id": "384ad75e",
   "metadata": {},
   "outputs": [],
   "source": [
    "a = 10"
   ]
  },
  {
   "cell_type": "code",
   "execution_count": 2,
   "id": "f0f87eb3",
   "metadata": {},
   "outputs": [],
   "source": [
    "b = 10"
   ]
  },
  {
   "cell_type": "code",
   "execution_count": 3,
   "id": "cf2004d6",
   "metadata": {},
   "outputs": [
    {
     "data": {
      "text/plain": [
       "2956426570320"
      ]
     },
     "execution_count": 3,
     "metadata": {},
     "output_type": "execute_result"
    }
   ],
   "source": [
    "id(a)"
   ]
  },
  {
   "cell_type": "code",
   "execution_count": 4,
   "id": "3e3e7a58",
   "metadata": {},
   "outputs": [
    {
     "data": {
      "text/plain": [
       "2956426570320"
      ]
     },
     "execution_count": 4,
     "metadata": {},
     "output_type": "execute_result"
    }
   ],
   "source": [
    "id(b)"
   ]
  },
  {
   "cell_type": "code",
   "execution_count": 5,
   "id": "1b809780",
   "metadata": {},
   "outputs": [
    {
     "name": "stdout",
     "output_type": "stream",
     "text": [
      "a is b True\n"
     ]
    }
   ],
   "source": [
    "print(\"a is b\", a is b)"
   ]
  },
  {
   "cell_type": "code",
   "execution_count": 7,
   "id": "13f66075",
   "metadata": {},
   "outputs": [
    {
     "name": "stdout",
     "output_type": "stream",
     "text": [
      "a is b True\n"
     ]
    }
   ],
   "source": [
    "print(\"a is b\", a == b)"
   ]
  },
  {
   "cell_type": "code",
   "execution_count": 8,
   "id": "2a1d03e3",
   "metadata": {},
   "outputs": [],
   "source": [
    "a = 500\n",
    "b = 500"
   ]
  },
  {
   "cell_type": "code",
   "execution_count": 9,
   "id": "2ae6f0d1",
   "metadata": {},
   "outputs": [
    {
     "data": {
      "text/plain": [
       "2956513718192"
      ]
     },
     "execution_count": 9,
     "metadata": {},
     "output_type": "execute_result"
    }
   ],
   "source": [
    "id(a)"
   ]
  },
  {
   "cell_type": "code",
   "execution_count": 10,
   "id": "adef3e18",
   "metadata": {},
   "outputs": [
    {
     "data": {
      "text/plain": [
       "2956514132016"
      ]
     },
     "execution_count": 10,
     "metadata": {},
     "output_type": "execute_result"
    }
   ],
   "source": [
    "id(b)"
   ]
  },
  {
   "cell_type": "code",
   "execution_count": 11,
   "id": "35f4d0a4",
   "metadata": {},
   "outputs": [
    {
     "name": "stdout",
     "output_type": "stream",
     "text": [
      "a is b False\n"
     ]
    }
   ],
   "source": [
    "print(\"a is b\", a is b)"
   ]
  },
  {
   "cell_type": "code",
   "execution_count": 12,
   "id": "f4f97b2b",
   "metadata": {},
   "outputs": [
    {
     "name": "stdout",
     "output_type": "stream",
     "text": [
      "a is b True\n"
     ]
    }
   ],
   "source": [
    "print(\"a is b\", a == b)"
   ]
  },
  {
   "cell_type": "code",
   "execution_count": 13,
   "id": "17213fa8",
   "metadata": {},
   "outputs": [],
   "source": [
    "a = [1, 2, 3]\n",
    "b = [1, 2, 3]"
   ]
  },
  {
   "cell_type": "code",
   "execution_count": 14,
   "id": "be85e86c",
   "metadata": {},
   "outputs": [
    {
     "data": {
      "text/plain": [
       "2956513968832"
      ]
     },
     "execution_count": 14,
     "metadata": {},
     "output_type": "execute_result"
    }
   ],
   "source": [
    "id(a)"
   ]
  },
  {
   "cell_type": "code",
   "execution_count": 15,
   "id": "eee66abb",
   "metadata": {},
   "outputs": [
    {
     "data": {
      "text/plain": [
       "2956513864192"
      ]
     },
     "execution_count": 15,
     "metadata": {},
     "output_type": "execute_result"
    }
   ],
   "source": [
    "id(b)"
   ]
  },
  {
   "cell_type": "code",
   "execution_count": 16,
   "id": "e2be4a73",
   "metadata": {},
   "outputs": [
    {
     "name": "stdout",
     "output_type": "stream",
     "text": [
      "a is b False\n",
      "a == b True\n"
     ]
    }
   ],
   "source": [
    "print(\"a is b\", a is b)\n",
    "print(\"a == b\", a == b)"
   ]
  },
  {
   "cell_type": "code",
   "execution_count": 17,
   "id": "5dee90a2",
   "metadata": {},
   "outputs": [],
   "source": [
    "a = 10"
   ]
  },
  {
   "cell_type": "code",
   "execution_count": 18,
   "id": "c828d34f",
   "metadata": {},
   "outputs": [],
   "source": [
    "b = 10.0"
   ]
  },
  {
   "cell_type": "code",
   "execution_count": 19,
   "id": "c93ab45b",
   "metadata": {},
   "outputs": [
    {
     "name": "stdout",
     "output_type": "stream",
     "text": [
      "a is b False\n",
      "a == b True\n"
     ]
    }
   ],
   "source": [
    "print(\"a is b\", a is b)\n",
    "print(\"a == b\", a == b)"
   ]
  },
  {
   "cell_type": "code",
   "execution_count": 20,
   "id": "e241298d",
   "metadata": {},
   "outputs": [],
   "source": [
    "a = 10 + 0j"
   ]
  },
  {
   "cell_type": "code",
   "execution_count": 21,
   "id": "33f6e08d",
   "metadata": {},
   "outputs": [
    {
     "data": {
      "text/plain": [
       "complex"
      ]
     },
     "execution_count": 21,
     "metadata": {},
     "output_type": "execute_result"
    }
   ],
   "source": [
    "type(a)"
   ]
  },
  {
   "cell_type": "code",
   "execution_count": 22,
   "id": "55aacb0a",
   "metadata": {},
   "outputs": [
    {
     "data": {
      "text/plain": [
       "float"
      ]
     },
     "execution_count": 22,
     "metadata": {},
     "output_type": "execute_result"
    }
   ],
   "source": [
    "type(b)"
   ]
  },
  {
   "cell_type": "code",
   "execution_count": 23,
   "id": "e7210361",
   "metadata": {},
   "outputs": [
    {
     "name": "stdout",
     "output_type": "stream",
     "text": [
      "a is b False\n",
      "a == b True\n"
     ]
    }
   ],
   "source": [
    "print(\"a is b\", a is b)\n",
    "print(\"a == b\", a == b)"
   ]
  },
  {
   "cell_type": "code",
   "execution_count": 24,
   "id": "d2f4754c",
   "metadata": {},
   "outputs": [
    {
     "data": {
      "text/plain": [
       "140721015332056"
      ]
     },
     "execution_count": 24,
     "metadata": {},
     "output_type": "execute_result"
    }
   ],
   "source": [
    "id(None)"
   ]
  },
  {
   "cell_type": "code",
   "execution_count": 25,
   "id": "eb215be1",
   "metadata": {},
   "outputs": [
    {
     "data": {
      "text/plain": [
       "NoneType"
      ]
     },
     "execution_count": 25,
     "metadata": {},
     "output_type": "execute_result"
    }
   ],
   "source": [
    "type(None)"
   ]
  },
  {
   "cell_type": "code",
   "execution_count": 26,
   "id": "cf21bb29",
   "metadata": {},
   "outputs": [],
   "source": [
    "a = None\n",
    "b = None\n",
    "c = None"
   ]
  },
  {
   "cell_type": "code",
   "execution_count": 27,
   "id": "6e212fd3",
   "metadata": {},
   "outputs": [
    {
     "data": {
      "text/plain": [
       "True"
      ]
     },
     "execution_count": 27,
     "metadata": {},
     "output_type": "execute_result"
    }
   ],
   "source": [
    "a is b"
   ]
  },
  {
   "cell_type": "code",
   "execution_count": 28,
   "id": "3602f3d4",
   "metadata": {},
   "outputs": [
    {
     "data": {
      "text/plain": [
       "True"
      ]
     },
     "execution_count": 28,
     "metadata": {},
     "output_type": "execute_result"
    }
   ],
   "source": [
    "a is c"
   ]
  },
  {
   "cell_type": "code",
   "execution_count": 29,
   "id": "2601ed79",
   "metadata": {},
   "outputs": [
    {
     "data": {
      "text/plain": [
       "True"
      ]
     },
     "execution_count": 29,
     "metadata": {},
     "output_type": "execute_result"
    }
   ],
   "source": [
    "a is None"
   ]
  },
  {
   "cell_type": "code",
   "execution_count": 30,
   "id": "69a03c4d",
   "metadata": {},
   "outputs": [
    {
     "data": {
      "text/plain": [
       "True"
      ]
     },
     "execution_count": 30,
     "metadata": {},
     "output_type": "execute_result"
    }
   ],
   "source": [
    "b is None"
   ]
  },
  {
   "cell_type": "code",
   "execution_count": 31,
   "id": "cfa5152d",
   "metadata": {},
   "outputs": [
    {
     "data": {
      "text/plain": [
       "True"
      ]
     },
     "execution_count": 31,
     "metadata": {},
     "output_type": "execute_result"
    }
   ],
   "source": [
    "c is None"
   ]
  },
  {
   "cell_type": "code",
   "execution_count": null,
   "id": "37a812fb",
   "metadata": {},
   "outputs": [],
   "source": []
  }
 ],
 "metadata": {
  "kernelspec": {
   "display_name": "Python 3.9.12 ('base')",
   "language": "python",
   "name": "python3"
  },
  "language_info": {
   "codemirror_mode": {
    "name": "ipython",
    "version": 3
   },
   "file_extension": ".py",
   "mimetype": "text/x-python",
   "name": "python",
   "nbconvert_exporter": "python",
   "pygments_lexer": "ipython3",
   "version": "3.9.12"
  },
  "vscode": {
   "interpreter": {
    "hash": "a624adbc5e596fddf72740b255048309200567f23df85867ce297e9f9d364c1b"
   }
  }
 },
 "nbformat": 4,
 "nbformat_minor": 5
}
