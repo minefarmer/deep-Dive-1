{
 "cells": [
  {
   "cell_type": "markdown",
<<<<<<< HEAD
   "id": "77a330b2",
=======
   "id": "d60676f5",
>>>>>>> 7eb2d8606961a6e440f39b7cff3184e11187cf90
   "metadata": {},
   "source": [
    "VARIABLE EQUALITY"
   ]
  },
  {
   "cell_type": "markdown",
<<<<<<< HEAD
   "id": "adc6371f",
   "metadata": {},
   "source": [
    "We think of variable equality in two fundimental ways:\n",
    "            Memory Address                              Object State (data)\n",
    "                is                                              == \n",
    "            identity operator                               equality operator\n",
    "            var_1 is var_2                                  var_1 == var_2\n",
    "\n",
    "\n",
    "Negation        is not                                          != \n",
    "            var_1 is not var_2                              var1 != var_2\n",
    "            not(var_1 is var_2)                           not(var_1 == var_2)  \n",
    "\n",
    "\n",
    "\n",
    "Examples                        True or False  (As a shared reference)\n",
    "\n",
    "        a = 10          a is b  True\n",
    "        b = a           a == b  True\n",
    "\n",
    "\n",
    "        a = 'hello'     a is b  True           # but as we'll see later, don't count on it!\n",
    "        b = 'hello'     a == b  True\n",
    "\n",
    "\n",
    "        a = [1, 2, 3]   a is b  False\n",
    "        b = [1, 2, 3]   a == b  True\n",
    "\n",
    "\n",
    "        a = 10\n",
    "        b = 10.0\n"
=======
   "id": "d713c010",
   "metadata": {},
   "source": [
    "We can think of variable equality in two fundimental ways:\n",
    "\n",
    "        Memory Address                      Object State (data)\n",
    "            is                                  ==\n",
    "        identity operator                   equality operator = compaires the state of two variables.\n",
    "\n",
    "        var_1 is var_2\n",
    "\n",
    "Negation    is not                              !=\n",
    "        var_1 is var_2                      var_1 != var_2\n",
    "\n",
    "        not(var_1 is var_2)                 not(var_1 == var_2)\n",
    "\n",
    "EXAMPLES\n",
    "        a = 10              a is b # True\n",
    "        b = a               a == b # True\n",
    "\n",
    "        a ='hello'          a is b # True   # but don't count on it!\n",
    "        b = 'hello'         a == b # True\n",
    "\n",
    "        a - [1, 2, 3]       a is b # False\n",
    "        b = [1, 2, 3]       a == b # True\n",
    "\n",
    "        a = 10              a is b # False\n",
    "        b = 10.0            a == b # True\n"
>>>>>>> 7eb2d8606961a6e440f39b7cff3184e11187cf90
   ]
  },
  {
   "cell_type": "markdown",
<<<<<<< HEAD
   "id": "4beed070",
=======
   "id": "f07acba3",
>>>>>>> 7eb2d8606961a6e440f39b7cff3184e11187cf90
   "metadata": {},
   "source": [
    "        THE NONE OBJECT\n",
    "\n",
<<<<<<< HEAD
    "The None object can be assigned to variables to indicate that they are not set (in the way we would expect thrm to be), i. e. an \"empty\" value (or null pointer)\n",
    "\n",
    "But the None object is a (real) object that is managed by the Python memory manager.\n",
    "\n",
    "Futhermore, the memory manager will always use a shared reference when assigning a variable to None.  (No matter how many None variables my program has, they will all have the same memory address.)\n"
   ]
  },
  {
   "cell_type": "code",
   "execution_count": 1,
   "id": "384ad75e",
   "metadata": {},
   "outputs": [],
   "source": [
    "a = 10"
   ]
  },
  {
   "cell_type": "code",
   "execution_count": 2,
   "id": "f0f87eb3",
   "metadata": {},
   "outputs": [],
   "source": [
    "b = 10"
=======
    "The none object can be assigned to variales to indicate that they are not set (in the way we would expect them to be), i.e. an \"empty\" value (or null pointer)\n",
    "\n",
    "The None object is a real object that is managed by the Python memory manager.\n",
    "\n",
    "Futhermore, the memory manager will always use a shared reference when assigning a variable to None.  i.e. They will all have a shared memory address.\n",
    "\n",
    "a = None  ---|          0x1000\n",
    "b = None  ---|--- None\n",
    "c = None  ---| \n",
    "\n",
    "So  we can test if a variable is \"not set\" or \"empty\" by comparing it's memory address to the memory address of None using the is operator.\n",
    "\n",
    "        a is None # False for me.  # True in lesson\n",
    "\n"
>>>>>>> 7eb2d8606961a6e440f39b7cff3184e11187cf90
   ]
  },
  {
   "cell_type": "code",
   "execution_count": 3,
<<<<<<< HEAD
   "id": "cf2004d6",
=======
   "id": "8826caa2",
>>>>>>> 7eb2d8606961a6e440f39b7cff3184e11187cf90
   "metadata": {},
   "outputs": [
    {
     "data": {
      "text/plain": [
<<<<<<< HEAD
       "2956426570320"
=======
       "False"
>>>>>>> 7eb2d8606961a6e440f39b7cff3184e11187cf90
      ]
     },
     "execution_count": 3,
     "metadata": {},
     "output_type": "execute_result"
    }
   ],
   "source": [
<<<<<<< HEAD
    "id(a)"
=======
    "a is None"
>>>>>>> 7eb2d8606961a6e440f39b7cff3184e11187cf90
   ]
  },
  {
   "cell_type": "code",
   "execution_count": 4,
<<<<<<< HEAD
   "id": "3e3e7a58",
   "metadata": {},
   "outputs": [
    {
     "data": {
      "text/plain": [
       "2956426570320"
      ]
     },
     "execution_count": 4,
     "metadata": {},
     "output_type": "execute_result"
    }
   ],
   "source": [
    "id(b)"
=======
   "id": "3f253d9f",
   "metadata": {},
   "outputs": [],
   "source": [
    "x = 10"
>>>>>>> 7eb2d8606961a6e440f39b7cff3184e11187cf90
   ]
  },
  {
   "cell_type": "code",
   "execution_count": 5,
<<<<<<< HEAD
   "id": "1b809780",
   "metadata": {},
   "outputs": [
    {
     "name": "stdout",
     "output_type": "stream",
     "text": [
      "a is b True\n"
     ]
    }
   ],
   "source": [
    "print(\"a is b\", a is b)"
   ]
  },
  {
   "cell_type": "code",
   "execution_count": 7,
   "id": "13f66075",
   "metadata": {},
   "outputs": [
    {
     "name": "stdout",
     "output_type": "stream",
     "text": [
      "a is b True\n"
     ]
    }
   ],
   "source": [
    "print(\"a is b\", a == b)"
   ]
  },
  {
   "cell_type": "code",
   "execution_count": 8,
   "id": "2a1d03e3",
   "metadata": {},
   "outputs": [],
   "source": [
    "a = 500\n",
    "b = 500"
   ]
  },
  {
   "cell_type": "code",
   "execution_count": 9,
   "id": "2ae6f0d1",
=======
   "id": "9a87da9d",
>>>>>>> 7eb2d8606961a6e440f39b7cff3184e11187cf90
   "metadata": {},
   "outputs": [
    {
     "data": {
      "text/plain": [
<<<<<<< HEAD
       "2956513718192"
=======
       "False"
      ]
     },
     "execution_count": 5,
     "metadata": {},
     "output_type": "execute_result"
    }
   ],
   "source": [
    "x is None"
   ]
  },
  {
   "cell_type": "code",
   "execution_count": 6,
   "id": "be166e7a",
   "metadata": {},
   "outputs": [
    {
     "data": {
      "text/plain": [
       "True"
      ]
     },
     "execution_count": 6,
     "metadata": {},
     "output_type": "execute_result"
    }
   ],
   "source": [
    "x is not None"
   ]
  },
  {
   "cell_type": "code",
   "execution_count": 7,
   "id": "83d5df5f",
   "metadata": {},
   "outputs": [],
   "source": [
    "a = 10"
   ]
  },
  {
   "cell_type": "code",
   "execution_count": 8,
   "id": "74a3e400",
   "metadata": {},
   "outputs": [],
   "source": [
    "b = 10"
   ]
  },
  {
   "cell_type": "code",
   "execution_count": 9,
   "id": "89e6edbc",
   "metadata": {},
   "outputs": [
    {
     "data": {
      "text/plain": [
       "140320265898576"
>>>>>>> 7eb2d8606961a6e440f39b7cff3184e11187cf90
      ]
     },
     "execution_count": 9,
     "metadata": {},
     "output_type": "execute_result"
    }
   ],
   "source": [
    "id(a)"
   ]
  },
  {
   "cell_type": "code",
   "execution_count": 10,
<<<<<<< HEAD
   "id": "adef3e18",
=======
   "id": "e2235958",
>>>>>>> 7eb2d8606961a6e440f39b7cff3184e11187cf90
   "metadata": {},
   "outputs": [
    {
     "data": {
      "text/plain": [
<<<<<<< HEAD
       "2956514132016"
=======
       "140320265898576"
>>>>>>> 7eb2d8606961a6e440f39b7cff3184e11187cf90
      ]
     },
     "execution_count": 10,
     "metadata": {},
     "output_type": "execute_result"
    }
   ],
   "source": [
    "id(b)"
   ]
  },
  {
   "cell_type": "code",
   "execution_count": 11,
<<<<<<< HEAD
   "id": "35f4d0a4",
   "metadata": {},
   "outputs": [
    {
     "name": "stdout",
     "output_type": "stream",
     "text": [
      "a is b False\n"
     ]
    }
   ],
   "source": [
    "print(\"a is b\", a is b)"
   ]
  },
  {
   "cell_type": "code",
   "execution_count": 12,
   "id": "f4f97b2b",
=======
   "id": "d4a7c0c3",
>>>>>>> 7eb2d8606961a6e440f39b7cff3184e11187cf90
   "metadata": {},
   "outputs": [
    {
     "name": "stdout",
     "output_type": "stream",
     "text": [
      "a is b True\n"
     ]
    }
   ],
   "source": [
<<<<<<< HEAD
    "print(\"a is b\", a == b)"
=======
    "print(\"a is b\", a is b)"
   ]
  },
  {
   "cell_type": "code",
   "execution_count": 12,
   "id": "df11f424",
   "metadata": {},
   "outputs": [
    {
     "name": "stdout",
     "output_type": "stream",
     "text": [
      "a == b True\n"
     ]
    }
   ],
   "source": [
    "print(\"a == b\", a == b)"
   ]
  },
  {
   "cell_type": "code",
   "execution_count": null,
   "id": "1b78df23",
   "metadata": {},
   "outputs": [],
   "source": [
    "a = 500\n",
    "b = 500"
>>>>>>> 7eb2d8606961a6e440f39b7cff3184e11187cf90
   ]
  },
  {
   "cell_type": "code",
   "execution_count": 13,
<<<<<<< HEAD
   "id": "17213fa8",
   "metadata": {},
   "outputs": [],
   "source": [
    "a = [1, 2, 3]\n",
    "b = [1, 2, 3]"
=======
   "id": "658e49cb",
   "metadata": {},
   "outputs": [
    {
     "name": "stdout",
     "output_type": "stream",
     "text": [
      "a is b True\n"
     ]
    }
   ],
   "source": [
    "print(\"a is b\", a is b)"
>>>>>>> 7eb2d8606961a6e440f39b7cff3184e11187cf90
   ]
  },
  {
   "cell_type": "code",
   "execution_count": 14,
<<<<<<< HEAD
   "id": "be85e86c",
=======
   "id": "35ccb656",
   "metadata": {},
   "outputs": [
    {
     "name": "stdout",
     "output_type": "stream",
     "text": [
      "a == b True\n"
     ]
    }
   ],
   "source": [
    "print(\"a == b\", a == b)"
   ]
  },
  {
   "cell_type": "code",
   "execution_count": 15,
   "id": "f0962ef5",
   "metadata": {},
   "outputs": [],
   "source": [
    "a = [1, 2,3]\n",
    "b = [1, 2, 3]"
   ]
  },
  {
   "cell_type": "code",
   "execution_count": 16,
   "id": "d5203074",
>>>>>>> 7eb2d8606961a6e440f39b7cff3184e11187cf90
   "metadata": {},
   "outputs": [
    {
     "data": {
      "text/plain": [
<<<<<<< HEAD
       "2956513968832"
      ]
     },
     "execution_count": 14,
=======
       "140320140123520"
      ]
     },
     "execution_count": 16,
>>>>>>> 7eb2d8606961a6e440f39b7cff3184e11187cf90
     "metadata": {},
     "output_type": "execute_result"
    }
   ],
   "source": [
    "id(a)"
   ]
  },
  {
   "cell_type": "code",
<<<<<<< HEAD
   "execution_count": 15,
   "id": "eee66abb",
=======
   "execution_count": 17,
   "id": "0b5dc752",
>>>>>>> 7eb2d8606961a6e440f39b7cff3184e11187cf90
   "metadata": {},
   "outputs": [
    {
     "data": {
      "text/plain": [
<<<<<<< HEAD
       "2956513864192"
      ]
     },
     "execution_count": 15,
=======
       "140319657402496"
      ]
     },
     "execution_count": 17,
>>>>>>> 7eb2d8606961a6e440f39b7cff3184e11187cf90
     "metadata": {},
     "output_type": "execute_result"
    }
   ],
   "source": [
    "id(b)"
   ]
  },
  {
   "cell_type": "code",
<<<<<<< HEAD
   "execution_count": 16,
   "id": "e2be4a73",
   "metadata": {},
   "outputs": [
    {
     "name": "stdout",
     "output_type": "stream",
     "text": [
      "a is b False\n",
      "a == b True\n"
     ]
    }
   ],
   "source": [
    "print(\"a is b\", a is b)\n",
    "print(\"a == b\", a == b)"
   ]
  },
  {
   "cell_type": "code",
   "execution_count": 17,
   "id": "5dee90a2",
   "metadata": {},
   "outputs": [],
   "source": [
    "a = 10"
   ]
  },
  {
   "cell_type": "code",
   "execution_count": 18,
   "id": "c828d34f",
   "metadata": {},
   "outputs": [],
   "source": [
    "b = 10.0"
   ]
  },
  {
   "cell_type": "code",
   "execution_count": 19,
   "id": "c93ab45b",
=======
   "execution_count": 18,
   "id": "a68f9282",
>>>>>>> 7eb2d8606961a6e440f39b7cff3184e11187cf90
   "metadata": {},
   "outputs": [
    {
     "name": "stdout",
     "output_type": "stream",
     "text": [
      "a is b False\n",
      "a == b True\n"
     ]
    }
   ],
   "source": [
    "print(\"a is b\", a is b)\n",
    "print(\"a == b\", a == b)"
   ]
  },
  {
   "cell_type": "code",
   "execution_count": 20,
<<<<<<< HEAD
   "id": "e241298d",
   "metadata": {},
   "outputs": [],
   "source": [
    "a = 10 + 0j"
=======
   "id": "f350de87",
   "metadata": {},
   "outputs": [],
   "source": [
    "a = 10\n",
    "b = 10.0"
>>>>>>> 7eb2d8606961a6e440f39b7cff3184e11187cf90
   ]
  },
  {
   "cell_type": "code",
   "execution_count": 21,
<<<<<<< HEAD
   "id": "33f6e08d",
   "metadata": {},
   "outputs": [
    {
     "data": {
      "text/plain": [
       "complex"
      ]
     },
     "execution_count": 21,
     "metadata": {},
     "output_type": "execute_result"
    }
   ],
   "source": [
    "type(a)"
   ]
  },
  {
   "cell_type": "code",
   "execution_count": 22,
   "id": "55aacb0a",
   "metadata": {},
   "outputs": [
    {
     "data": {
      "text/plain": [
       "float"
      ]
     },
     "execution_count": 22,
     "metadata": {},
     "output_type": "execute_result"
    }
   ],
   "source": [
    "type(b)"
   ]
  },
  {
   "cell_type": "code",
   "execution_count": 23,
   "id": "e7210361",
=======
   "id": "6b553158",
>>>>>>> 7eb2d8606961a6e440f39b7cff3184e11187cf90
   "metadata": {},
   "outputs": [
    {
     "name": "stdout",
     "output_type": "stream",
     "text": [
      "a is b False\n",
      "a == b True\n"
     ]
    }
   ],
   "source": [
    "print(\"a is b\", a is b)\n",
    "print(\"a == b\", a == b)"
   ]
  },
  {
   "cell_type": "code",
<<<<<<< HEAD
   "execution_count": 24,
   "id": "d2f4754c",
=======
   "execution_count": 23,
   "id": "c6e57687",
>>>>>>> 7eb2d8606961a6e440f39b7cff3184e11187cf90
   "metadata": {},
   "outputs": [
    {
     "data": {
      "text/plain": [
<<<<<<< HEAD
       "140721015332056"
=======
       "int"
      ]
     },
     "execution_count": 23,
     "metadata": {},
     "output_type": "execute_result"
    }
   ],
   "source": [
    "type(a)"
   ]
  },
  {
   "cell_type": "code",
   "execution_count": 24,
   "id": "e638fceb",
   "metadata": {},
   "outputs": [
    {
     "data": {
      "text/plain": [
       "float"
>>>>>>> 7eb2d8606961a6e440f39b7cff3184e11187cf90
      ]
     },
     "execution_count": 24,
     "metadata": {},
     "output_type": "execute_result"
    }
   ],
   "source": [
<<<<<<< HEAD
=======
    "type(b)"
   ]
  },
  {
   "cell_type": "code",
   "execution_count": 25,
   "id": "e5ad027e",
   "metadata": {},
   "outputs": [
    {
     "name": "stdout",
     "output_type": "stream",
     "text": [
      "a is b False\n",
      "a == b True\n"
     ]
    }
   ],
   "source": [
    "print(\"a is b\", a is b)\n",
    "print(\"a == b\", a == b)"
   ]
  },
  {
   "cell_type": "code",
   "execution_count": 26,
   "id": "d20a79d1",
   "metadata": {},
   "outputs": [
    {
     "data": {
      "text/plain": [
       "94766773587200"
      ]
     },
     "execution_count": 26,
     "metadata": {},
     "output_type": "execute_result"
    }
   ],
   "source": [
>>>>>>> 7eb2d8606961a6e440f39b7cff3184e11187cf90
    "id(None)"
   ]
  },
  {
   "cell_type": "code",
<<<<<<< HEAD
   "execution_count": 25,
   "id": "eb215be1",
=======
   "execution_count": 27,
   "id": "c00596d0",
>>>>>>> 7eb2d8606961a6e440f39b7cff3184e11187cf90
   "metadata": {},
   "outputs": [
    {
     "data": {
      "text/plain": [
<<<<<<< HEAD
       "NoneType"
      ]
     },
     "execution_count": 25,
=======
       "140319650074992"
      ]
     },
     "execution_count": 27,
>>>>>>> 7eb2d8606961a6e440f39b7cff3184e11187cf90
     "metadata": {},
     "output_type": "execute_result"
    }
   ],
   "source": [
<<<<<<< HEAD
    "type(None)"
=======
    "id(b)"
>>>>>>> 7eb2d8606961a6e440f39b7cff3184e11187cf90
   ]
  },
  {
   "cell_type": "code",
<<<<<<< HEAD
   "execution_count": 26,
   "id": "cf21bb29",
=======
   "execution_count": 28,
   "id": "503d805f",
>>>>>>> 7eb2d8606961a6e440f39b7cff3184e11187cf90
   "metadata": {},
   "outputs": [],
   "source": [
    "a = None\n",
    "b = None\n",
    "c = None"
   ]
  },
  {
   "cell_type": "code",
<<<<<<< HEAD
   "execution_count": 27,
   "id": "6e212fd3",
   "metadata": {},
   "outputs": [
    {
     "data": {
      "text/plain": [
       "True"
      ]
     },
     "execution_count": 27,
     "metadata": {},
     "output_type": "execute_result"
    }
   ],
   "source": [
    "a is b"
   ]
  },
  {
   "cell_type": "code",
   "execution_count": 28,
   "id": "3602f3d4",
   "metadata": {},
   "outputs": [
    {
     "data": {
      "text/plain": [
       "True"
      ]
     },
     "execution_count": 28,
     "metadata": {},
     "output_type": "execute_result"
    }
   ],
   "source": [
    "a is c"
   ]
  },
  {
   "cell_type": "code",
   "execution_count": 29,
   "id": "2601ed79",
=======
   "execution_count": 29,
   "id": "879ca850",
>>>>>>> 7eb2d8606961a6e440f39b7cff3184e11187cf90
   "metadata": {},
   "outputs": [
    {
     "data": {
      "text/plain": [
       "True"
      ]
     },
     "execution_count": 29,
     "metadata": {},
     "output_type": "execute_result"
    }
   ],
   "source": [
<<<<<<< HEAD
    "a is None"
=======
    "a is b"
>>>>>>> 7eb2d8606961a6e440f39b7cff3184e11187cf90
   ]
  },
  {
   "cell_type": "code",
   "execution_count": 30,
<<<<<<< HEAD
   "id": "69a03c4d",
=======
   "id": "60423b4b",
>>>>>>> 7eb2d8606961a6e440f39b7cff3184e11187cf90
   "metadata": {},
   "outputs": [
    {
     "data": {
      "text/plain": [
       "True"
      ]
     },
     "execution_count": 30,
     "metadata": {},
     "output_type": "execute_result"
    }
   ],
   "source": [
<<<<<<< HEAD
    "b is None"
=======
    "a is c"
>>>>>>> 7eb2d8606961a6e440f39b7cff3184e11187cf90
   ]
  },
  {
   "cell_type": "code",
   "execution_count": 31,
<<<<<<< HEAD
   "id": "cfa5152d",
=======
   "id": "15840f91",
>>>>>>> 7eb2d8606961a6e440f39b7cff3184e11187cf90
   "metadata": {},
   "outputs": [
    {
     "data": {
      "text/plain": [
       "True"
      ]
     },
     "execution_count": 31,
     "metadata": {},
     "output_type": "execute_result"
    }
   ],
   "source": [
<<<<<<< HEAD
    "c is None"
=======
    "a is None"
>>>>>>> 7eb2d8606961a6e440f39b7cff3184e11187cf90
   ]
  },
  {
   "cell_type": "code",
<<<<<<< HEAD
   "execution_count": null,
   "id": "37a812fb",
   "metadata": {},
   "outputs": [],
   "source": []
=======
   "execution_count": 32,
   "id": "e1a5284c",
   "metadata": {},
   "outputs": [
    {
     "data": {
      "text/plain": [
       "True"
      ]
     },
     "execution_count": 32,
     "metadata": {},
     "output_type": "execute_result"
    }
   ],
   "source": [
    "b is None"
   ]
  },
  {
   "cell_type": "code",
   "execution_count": 34,
   "id": "90ba7725",
   "metadata": {},
   "outputs": [
    {
     "data": {
      "text/plain": [
       "True"
      ]
     },
     "execution_count": 34,
     "metadata": {},
     "output_type": "execute_result"
    }
   ],
   "source": [
    "c is None"
   ]
>>>>>>> 7eb2d8606961a6e440f39b7cff3184e11187cf90
  }
 ],
 "metadata": {
  "kernelspec": {
<<<<<<< HEAD
   "display_name": "Python 3.9.12 ('base')",
=======
   "display_name": "Python 3 (ipykernel)",
>>>>>>> 7eb2d8606961a6e440f39b7cff3184e11187cf90
   "language": "python",
   "name": "python3"
  },
  "language_info": {
   "codemirror_mode": {
    "name": "ipython",
    "version": 3
   },
   "file_extension": ".py",
   "mimetype": "text/x-python",
   "name": "python",
   "nbconvert_exporter": "python",
   "pygments_lexer": "ipython3",
   "version": "3.9.12"
  },
  "vscode": {
   "interpreter": {
<<<<<<< HEAD
    "hash": "a624adbc5e596fddf72740b255048309200567f23df85867ce297e9f9d364c1b"
=======
    "hash": "0d39b9ca25346db2d4fbd64f0fe44090b1a521776e9bcf0dda43e48cea0d85ae"
>>>>>>> 7eb2d8606961a6e440f39b7cff3184e11187cf90
   }
  }
 },
 "nbformat": 4,
 "nbformat_minor": 5
}
