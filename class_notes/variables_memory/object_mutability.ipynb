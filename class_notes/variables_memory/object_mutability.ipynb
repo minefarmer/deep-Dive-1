{
 "cells": [
  {
   "cell_type": "markdown",
   "id": "f200a497",
   "metadata": {},
   "source": [
    "OBJECT MUTABILITY"
   ]
  },
  {
   "cell_type": "markdown",
   "id": "59195ba6",
   "metadata": {},
   "source": [
    "Changing the data inside the object is called 'modifying the internal state' of the object.  We say we mutated the object.\n",
    "A  'Mutable'  object is one whose internal state can be changed.\n",
    "      |\n",
    "    Numbers (int, float, Booleans, complex, etc.)\n",
    "    Strings (I can assign a new string to the variable.)\n",
    "    Tuples\n",
    "    Frozen Sets\n",
    "    User-defined classes\n",
    "\n",
    "          \n",
    "An 'Immutable' object is one whose internal state can be changed.\n",
    "         |\n",
    "        Lists\n",
    "        Sets\n",
    "        Dictionaries\n",
    "        User-defined classes\n",
    "\n",
    "\n",
    "    Tuples\n",
    "t = (1, 2, 3)   Tuples are immutable: elements cannot be deleted, inserted, or  replaced.\n",
    "                    In this case, both the container (tuple), and all it's elements (ints) are inmutable.\n",
    "\n",
    "\n",
    "\n",
    "But consider this:\n",
    "\n",
    "a = [1, 2]\n",
    "                Lists are mutable: elements can be deleted, inserted, or replaced.\n",
    "b = [3, 4]\n",
    "\n",
    "\n",
    "Tuples\n",
    "\n",
    "t = (a, b)      t = ([1, 2], [3, 4])\n",
    "\n",
    "\n",
    "\n",
    "a.append(3)\n",
    "b.append(5)     t = ([1, 2, 3], [3, 4, 5])\n",
    "                    the list inside the tuple is mutable.\n"
   ]
  },
  {
   "cell_type": "code",
   "execution_count": 11,
   "id": "898d027a",
   "metadata": {},
   "outputs": [],
   "source": [
    "my_list = [1, 2, 3]"
   ]
  },
  {
   "cell_type": "code",
   "execution_count": 12,
   "id": "1484d3e6",
   "metadata": {},
   "outputs": [
    {
     "data": {
      "text/plain": [
       "list"
      ]
     },
     "execution_count": 12,
     "metadata": {},
     "output_type": "execute_result"
    }
   ],
   "source": [
    "type(my_list)"
   ]
  },
  {
   "cell_type": "code",
   "execution_count": 13,
   "id": "375f806c",
   "metadata": {},
   "outputs": [
    {
     "data": {
      "text/plain": [
       "1862651978496"
      ]
     },
     "execution_count": 13,
     "metadata": {},
     "output_type": "execute_result"
    }
   ],
   "source": [
    "id(my_list)"
   ]
  },
  {
   "cell_type": "code",
   "execution_count": 14,
   "id": "a8b82e18",
   "metadata": {},
   "outputs": [],
   "source": [
    "my_list.append(4)"
   ]
  },
  {
   "cell_type": "code",
   "execution_count": 15,
   "id": "b64c9f2a",
   "metadata": {},
   "outputs": [
    {
     "data": {
      "text/plain": [
       "[1, 2, 3, 4]"
      ]
     },
     "execution_count": 15,
     "metadata": {},
     "output_type": "execute_result"
    }
   ],
   "source": [
    "my_list"
   ]
  },
  {
   "cell_type": "code",
   "execution_count": 16,
   "id": "2441f623",
   "metadata": {},
   "outputs": [
    {
     "data": {
      "text/plain": [
       "1862651978496"
      ]
     },
     "execution_count": 16,
     "metadata": {},
     "output_type": "execute_result"
    }
   ],
   "source": [
    "id(my_list)"
   ]
  },
  {
   "cell_type": "code",
   "execution_count": 17,
   "id": "a34d7dd5",
   "metadata": {},
   "outputs": [],
   "source": [
    "my_list_1 = [1, 2, 3]"
   ]
  },
  {
   "cell_type": "code",
   "execution_count": 18,
   "id": "36b3e099",
   "metadata": {},
   "outputs": [
    {
     "data": {
      "text/plain": [
       "1862679709696"
      ]
     },
     "execution_count": 18,
     "metadata": {},
     "output_type": "execute_result"
    }
   ],
   "source": [
    "id(my_list_1)"
   ]
  },
  {
   "cell_type": "code",
   "execution_count": 19,
   "id": "5ef91eeb",
   "metadata": {},
   "outputs": [],
   "source": [
    "my_list_1 = my_list_1 + [4]"
   ]
  },
  {
   "cell_type": "code",
   "execution_count": 20,
   "id": "c76a07d5",
   "metadata": {},
   "outputs": [
    {
     "data": {
      "text/plain": [
       "[1, 2, 3, 4]"
      ]
     },
     "execution_count": 20,
     "metadata": {},
     "output_type": "execute_result"
    }
   ],
   "source": [
    "my_list_1"
   ]
  },
  {
   "cell_type": "code",
   "execution_count": 22,
   "id": "06bde1cf",
   "metadata": {},
   "outputs": [
    {
     "data": {
      "text/plain": [
       "1862651072960"
      ]
     },
     "execution_count": 22,
     "metadata": {},
     "output_type": "execute_result"
    }
   ],
   "source": [
    "id(my_list_1)"
   ]
  },
  {
   "cell_type": "code",
   "execution_count": 23,
   "id": "895455c4",
   "metadata": {},
   "outputs": [],
   "source": [
    "my_dict = dict(key1=1, key2='a')"
   ]
  },
  {
   "cell_type": "code",
   "execution_count": 24,
   "id": "ef565bec",
   "metadata": {},
   "outputs": [
    {
     "data": {
      "text/plain": [
       "{'key1': 1, 'key2': 'a'}"
      ]
     },
     "execution_count": 24,
     "metadata": {},
     "output_type": "execute_result"
    }
   ],
   "source": [
    "my_dict"
   ]
  },
  {
   "cell_type": "code",
   "execution_count": 25,
   "id": "1896b6f7",
   "metadata": {},
   "outputs": [
    {
     "data": {
      "text/plain": [
       "1862651073024"
      ]
     },
     "execution_count": 25,
     "metadata": {},
     "output_type": "execute_result"
    }
   ],
   "source": [
    "id(my_dict)"
   ]
  },
  {
   "cell_type": "code",
   "execution_count": 26,
   "id": "a0c43d78",
   "metadata": {},
   "outputs": [],
   "source": [
    "t = (1, 2, 3)"
   ]
  },
  {
   "cell_type": "code",
   "execution_count": 27,
   "id": "71507372",
   "metadata": {},
   "outputs": [
    {
     "data": {
      "text/plain": [
       "1862651915712"
      ]
     },
     "execution_count": 27,
     "metadata": {},
     "output_type": "execute_result"
    }
   ],
   "source": [
    "id(t)"
   ]
  },
  {
   "cell_type": "code",
   "execution_count": 28,
   "id": "90295cfc",
   "metadata": {},
   "outputs": [
    {
     "data": {
      "text/plain": [
       "1"
      ]
     },
     "execution_count": 28,
     "metadata": {},
     "output_type": "execute_result"
    }
   ],
   "source": [
    "t[0]"
   ]
  },
  {
   "cell_type": "code",
   "execution_count": 29,
   "id": "d9ebc42b",
   "metadata": {},
   "outputs": [
    {
     "data": {
      "text/plain": [
       "1862564866352"
      ]
     },
     "execution_count": 29,
     "metadata": {},
     "output_type": "execute_result"
    }
   ],
   "source": [
    "id(t[0])"
   ]
  },
  {
   "cell_type": "code",
   "execution_count": 30,
   "id": "d6f6df9e",
   "metadata": {},
   "outputs": [
    {
     "data": {
      "text/plain": [
       "1862564866384"
      ]
     },
     "execution_count": 30,
     "metadata": {},
     "output_type": "execute_result"
    }
   ],
   "source": [
    "id(t[1])"
   ]
  },
  {
   "cell_type": "code",
   "execution_count": 31,
   "id": "090ad1ef",
   "metadata": {},
   "outputs": [],
   "source": [
    "t = ([1, 2], [3, 4])"
   ]
  },
  {
   "cell_type": "code",
   "execution_count": 32,
   "id": "380a4984",
   "metadata": {},
   "outputs": [
    {
     "data": {
      "text/plain": [
       "1862678850496"
      ]
     },
     "execution_count": 32,
     "metadata": {},
     "output_type": "execute_result"
    }
   ],
   "source": [
    "id(t)"
   ]
  }
 ],
 "metadata": {
  "kernelspec": {
   "display_name": "Python 3 (ipykernel)",
   "language": "python",
   "name": "python3"
  },
  "language_info": {
   "codemirror_mode": {
    "name": "ipython",
    "version": 3
   },
   "file_extension": ".py",
   "mimetype": "text/x-python",
   "name": "python",
   "nbconvert_exporter": "python",
   "pygments_lexer": "ipython3",
   "version": "3.9.12"
  },
  "vscode": {
   "interpreter": {
    "hash": "a624adbc5e596fddf72740b255048309200567f23df85867ce297e9f9d364c1b"
   }
  }
 },
 "nbformat": 4,
 "nbformat_minor": 5
}
