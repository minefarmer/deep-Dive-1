{
 "cells": [
  {
   "cell_type": "markdown",
   "id": "05b02f28",
   "metadata": {},
   "source": [
    "EVERYTHING IS AN OBJECT"
   ]
  },
  {
   "cell_type": "markdown",
   "id": "812b71d8",
   "metadata": {},
   "source": [
    "Throughout this course, we'll encounter many data types.\n",
    "    Integers(int)\n",
    "    Booleans(bool)\n",
    "    Floats(float)\n",
    "    Strings (str)\n",
    "    Lists(list)\n",
    "    Tuples(tuple)\n",
    "    Sets(set)\n",
    "    Dictionaries(dict)\n",
    "    None(NoneType)\n",
    "\n",
    "We'll also se other constructs:\n",
    "    Operators(+, -, ==, is, ...)\n",
    "    Functions\n",
    "    Classes\n",
    "    Types\n",
    "\n",
    "But the one thing in common with all these things, is that they are all objects (instances of classes).\n",
    "\n",
    "Functions (function)\n",
    "Classes (class) [not just instances, but the class itself]\n",
    "Types (type)\n",
    "\n",
    "This means they all have a memory address!              def my_func():\n",
    "                                                            ...         \n",
    "                                                                                0x1000\n",
    "                                                        my-func ----->  function\n",
    "                                                                        state\n",
    "\n",
    "                                                        id(my_func)\n",
    "                                                            ----> 0x1000\n",
    "As aconsequences:\n",
    "    Any object can be assigned to a variable\n",
    "                                including functions...\n",
    "    Any object can be passed to a function\n",
    "                                including functions...\n",
    "    Any object can be returned from a function\n",
    "                                including functions...\n",
    "\n",
    "my_func is the name of the function\n",
    "my_func() invokes the function"
   ]
  },
  {
   "cell_type": "code",
   "execution_count": 25,
   "id": "dfc022c0",
   "metadata": {},
   "outputs": [],
   "source": [
    "a = 10"
   ]
  },
  {
   "cell_type": "code",
   "execution_count": 26,
   "id": "9de7cfac",
   "metadata": {},
   "outputs": [
    {
     "name": "stdout",
     "output_type": "stream",
     "text": [
      "<class 'int'>\n"
     ]
    }
   ],
   "source": [
    "print(type(a))"
   ]
  },
  {
   "cell_type": "code",
   "execution_count": 27,
   "id": "cfdcc6b6",
   "metadata": {},
   "outputs": [],
   "source": [
    "b = int(10)"
   ]
  },
  {
   "cell_type": "code",
   "execution_count": 28,
   "id": "8a465cff",
   "metadata": {},
   "outputs": [
    {
     "data": {
      "text/plain": [
       "10"
      ]
     },
     "execution_count": 28,
     "metadata": {},
     "output_type": "execute_result"
    }
   ],
   "source": [
    "b"
   ]
  },
  {
   "cell_type": "code",
   "execution_count": 29,
   "id": "fd40568a",
   "metadata": {},
   "outputs": [
    {
     "data": {
      "text/plain": [
       "10"
      ]
     },
     "execution_count": 29,
     "metadata": {},
     "output_type": "execute_result"
    }
   ],
   "source": [
    "b"
   ]
  },
  {
   "cell_type": "code",
   "execution_count": 30,
   "id": "e956fd8e",
   "metadata": {},
   "outputs": [
    {
     "name": "stdout",
     "output_type": "stream",
     "text": [
      "<class 'int'>\n"
     ]
    }
   ],
   "source": [
    "print(type(b))"
   ]
  },
  {
   "cell_type": "code",
   "execution_count": 31,
   "id": "25b879a1",
   "metadata": {},
   "outputs": [],
   "source": [
    "c = int()"
   ]
  },
  {
   "cell_type": "code",
   "execution_count": 32,
   "id": "89aa2b9a",
   "metadata": {},
   "outputs": [
    {
     "data": {
      "text/plain": [
       "0"
      ]
     },
     "execution_count": 32,
     "metadata": {},
     "output_type": "execute_result"
    }
   ],
   "source": [
    "c"
   ]
  },
  {
   "cell_type": "code",
   "execution_count": 33,
   "id": "1829c6b2",
   "metadata": {},
   "outputs": [],
   "source": [
    "c = int('101')"
   ]
  },
  {
   "cell_type": "code",
   "execution_count": 34,
   "id": "f1cda083",
   "metadata": {},
   "outputs": [
    {
     "data": {
      "text/plain": [
       "101"
      ]
     },
     "execution_count": 34,
     "metadata": {},
     "output_type": "execute_result"
    }
   ],
   "source": [
    "c"
   ]
  },
  {
   "cell_type": "code",
   "execution_count": 35,
   "id": "f0af740d",
   "metadata": {},
   "outputs": [
    {
     "data": {
      "text/plain": [
       "0"
      ]
     },
     "execution_count": 35,
     "metadata": {},
     "output_type": "execute_result"
    }
   ],
   "source": [
    "int()"
   ]
  },
  {
   "cell_type": "code",
   "execution_count": 36,
   "id": "f14a4712",
   "metadata": {},
   "outputs": [],
   "source": [
    "g = int()"
   ]
  },
  {
   "cell_type": "code",
   "execution_count": 37,
   "id": "824c39c7",
   "metadata": {},
   "outputs": [
    {
     "data": {
      "text/plain": [
       "0"
      ]
     },
     "execution_count": 37,
     "metadata": {},
     "output_type": "execute_result"
    }
   ],
   "source": [
    "g"
   ]
  },
  {
   "cell_type": "code",
   "execution_count": 38,
   "id": "27953f8e",
   "metadata": {},
   "outputs": [],
   "source": [
    "c = int('101', base=2)"
   ]
  },
  {
   "cell_type": "code",
   "execution_count": 39,
   "id": "b398b78c",
   "metadata": {},
   "outputs": [
    {
     "data": {
      "text/plain": [
       "5"
      ]
     },
     "execution_count": 39,
     "metadata": {},
     "output_type": "execute_result"
    }
   ],
   "source": [
    "c"
   ]
  },
  {
   "cell_type": "code",
   "execution_count": 44,
   "id": "0416320c",
   "metadata": {},
   "outputs": [],
   "source": [
    "def square(a):\n",
    "    return a ** 2"
   ]
  },
  {
   "cell_type": "code",
   "execution_count": 45,
   "id": "5b5d58d9",
   "metadata": {},
   "outputs": [
    {
     "data": {
      "text/plain": [
       "function"
      ]
     },
     "execution_count": 45,
     "metadata": {},
     "output_type": "execute_result"
    }
   ],
   "source": [
    "type(square)"
   ]
  },
  {
   "cell_type": "code",
   "execution_count": 46,
   "id": "e43b3a06",
   "metadata": {},
   "outputs": [
    {
     "name": "stdout",
     "output_type": "stream",
     "text": [
      "<class 'function'>\n"
     ]
    }
   ],
   "source": [
    "print(type(square))"
   ]
  },
  {
   "cell_type": "code",
   "execution_count": 47,
   "id": "5c8e4e7a",
   "metadata": {},
   "outputs": [],
   "source": [
    "f = square"
   ]
  },
  {
   "cell_type": "code",
   "execution_count": 48,
   "id": "9c6c6e8f",
   "metadata": {},
   "outputs": [
    {
     "data": {
      "text/plain": [
       "1794700780304"
      ]
     },
     "execution_count": 48,
     "metadata": {},
     "output_type": "execute_result"
    }
   ],
   "source": [
    "id(square)"
   ]
  },
  {
   "cell_type": "code",
   "execution_count": 49,
   "id": "76f2880b",
   "metadata": {},
   "outputs": [
    {
     "data": {
      "text/plain": [
       "1794700780304"
      ]
     },
     "execution_count": 49,
     "metadata": {},
     "output_type": "execute_result"
    }
   ],
   "source": [
    "id(f)"
   ]
  },
  {
   "cell_type": "code",
   "execution_count": 50,
   "id": "3a30dfa2",
   "metadata": {},
   "outputs": [
    {
     "data": {
      "text/plain": [
       "True"
      ]
     },
     "execution_count": 50,
     "metadata": {},
     "output_type": "execute_result"
    }
   ],
   "source": [
    "f is square"
   ]
  },
  {
   "cell_type": "code",
   "execution_count": 51,
   "id": "f9cb1d53",
   "metadata": {},
   "outputs": [
    {
     "data": {
      "text/plain": [
       "4"
      ]
     },
     "execution_count": 51,
     "metadata": {},
     "output_type": "execute_result"
    }
   ],
   "source": [
    "square(2)"
   ]
  },
  {
   "cell_type": "code",
   "execution_count": 52,
   "id": "fe16afaf",
   "metadata": {},
   "outputs": [
    {
     "data": {
      "text/plain": [
       "4"
      ]
     },
     "execution_count": 52,
     "metadata": {},
     "output_type": "execute_result"
    }
   ],
   "source": [
    "f(2)"
   ]
  },
  {
   "cell_type": "code",
   "execution_count": 53,
   "id": "a66f0441",
   "metadata": {},
   "outputs": [],
   "source": [
    "def cube(a):\n",
    "    return a ** 3"
   ]
  },
  {
   "cell_type": "code",
   "execution_count": 54,
   "id": "b718545d",
   "metadata": {},
   "outputs": [],
   "source": [
    "def select_function(fn_id):\n",
    "    if fn_id == 1:\n",
    "        return square\n",
    "    else:\n",
    "        return cube"
   ]
  },
  {
   "cell_type": "code",
   "execution_count": 55,
   "id": "7ff823ee",
   "metadata": {},
   "outputs": [],
   "source": [
    "f = select_function(1)"
   ]
  },
  {
   "cell_type": "code",
   "execution_count": 56,
   "id": "499427bf",
   "metadata": {},
   "outputs": [
    {
     "data": {
      "text/plain": [
       "True"
      ]
     },
     "execution_count": 56,
     "metadata": {},
     "output_type": "execute_result"
    }
   ],
   "source": [
    "f is square"
   ]
  },
  {
   "cell_type": "code",
   "execution_count": 57,
   "id": "e77977a5",
   "metadata": {},
   "outputs": [
    {
     "data": {
      "text/plain": [
       "4"
      ]
     },
     "execution_count": 57,
     "metadata": {},
     "output_type": "execute_result"
    }
   ],
   "source": [
    "f(2)"
   ]
  },
  {
   "cell_type": "code",
   "execution_count": 58,
   "id": "7a002826",
   "metadata": {},
   "outputs": [],
   "source": [
    "f = select_function(2)"
   ]
  },
  {
   "cell_type": "code",
   "execution_count": 59,
   "id": "dd524565",
   "metadata": {},
   "outputs": [
    {
     "data": {
      "text/plain": [
       "True"
      ]
     },
     "execution_count": 59,
     "metadata": {},
     "output_type": "execute_result"
    }
   ],
   "source": [
    "f is cube"
   ]
  },
  {
   "cell_type": "code",
   "execution_count": 60,
   "id": "a9443eab",
   "metadata": {},
   "outputs": [
    {
     "data": {
      "text/plain": [
       "8"
      ]
     },
     "execution_count": 60,
     "metadata": {},
     "output_type": "execute_result"
    }
   ],
   "source": [
    "f(2)"
   ]
  },
  {
   "cell_type": "code",
   "execution_count": 61,
   "id": "aa10660f",
   "metadata": {},
   "outputs": [
    {
     "data": {
      "text/plain": [
       "27"
      ]
     },
     "execution_count": 61,
     "metadata": {},
     "output_type": "execute_result"
    }
   ],
   "source": [
    "select_function(2)(3)"
   ]
  },
  {
   "cell_type": "code",
   "execution_count": 63,
   "id": "0e5b3534",
   "metadata": {},
   "outputs": [],
   "source": [
    "def exec_function(fn, n):\n",
    "    return fn(n)"
   ]
  },
  {
   "cell_type": "code",
   "execution_count": 64,
   "id": "21bae687",
   "metadata": {},
   "outputs": [
    {
     "data": {
      "text/plain": [
       "27"
      ]
     },
     "execution_count": 64,
     "metadata": {},
     "output_type": "execute_result"
    }
   ],
   "source": [
    "exec_function(cube, 3)"
   ]
  },
  {
   "cell_type": "code",
   "execution_count": 65,
   "id": "021bfec9",
   "metadata": {},
   "outputs": [
    {
     "data": {
      "text/plain": [
       "9"
      ]
     },
     "execution_count": 65,
     "metadata": {},
     "output_type": "execute_result"
    }
   ],
   "source": [
    "exec_function(square, 3)"
   ]
  },
  {
   "cell_type": "code",
   "execution_count": null,
   "id": "3a4e8dd5",
   "metadata": {},
   "outputs": [],
   "source": []
  }
 ],
 "metadata": {
  "kernelspec": {
   "display_name": "Python 3.9.12 ('base')",
   "language": "python",
   "name": "python3"
  },
  "language_info": {
   "codemirror_mode": {
    "name": "ipython",
    "version": 3
   },
   "file_extension": ".py",
   "mimetype": "text/x-python",
   "name": "python",
   "nbconvert_exporter": "python",
   "pygments_lexer": "ipython3",
   "version": "3.9.12"
  },
  "vscode": {
   "interpreter": {
    "hash": "a624adbc5e596fddf72740b255048309200567f23df85867ce297e9f9d364c1b"
   }
  }
 },
 "nbformat": 4,
 "nbformat_minor": 5
}
