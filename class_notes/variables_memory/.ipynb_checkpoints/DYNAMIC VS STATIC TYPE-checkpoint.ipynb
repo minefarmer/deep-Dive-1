{
 "cells": [
  {
   "cell_type": "markdown",
   "id": "0bcd733d",
   "metadata": {},
   "source": [
    "DYNAMIC TYPING VS STATIC TYPING"
   ]
  },
  {
   "cell_type": "code",
   "execution_count": 1,
   "id": "7cf740dd",
   "metadata": {},
   "outputs": [
    {
     "ename": "SyntaxError",
     "evalue": "invalid syntax (3653379589.py, line 1)",
     "output_type": "error",
     "traceback": [
      "\u001b[1;36m  Input \u001b[1;32mIn [1]\u001b[1;36m\u001b[0m\n\u001b[1;33m    Some languages (Java, C++, Swift) sre statically typed.\u001b[0m\n\u001b[1;37m         ^\u001b[0m\n\u001b[1;31mSyntaxError\u001b[0m\u001b[1;31m:\u001b[0m invalid syntax\n"
     ]
    }
   ],
   "source": [
    "        Some languages (Java, C++, Swift) sre statically typed.\n",
    "\n",
    "String  myVar = \"Helllo\";\n",
    "data   variable   value\n",
    "type    name      \n",
    "\n",
    "myVar = 10:         Does not work       myvar has been declared as a String, and cannot be assigned the integar value 10 later.  \n",
    "\n",
    "myVar = \"abc\";      this is OK!         \"abc\" is a string = so compatible type.\n",
    "\n",
    "my_va = 'Hello';    The variable my_var is purely a reference to a string object with the value hello.\n",
    "        No type is attched to my_var.\n",
    "        String and Int are the type of var being refered to.\n",
    "\n",
    "Python variables do not have an inherent static type."
   ]
  },
  {
   "cell_type": "code",
   "execution_count": null,
   "id": "a0394c39",
   "metadata": {},
   "outputs": [],
   "source": []
  }
 ],
 "metadata": {
  "kernelspec": {
   "display_name": "Python 3 (ipykernel)",
   "language": "python",
   "name": "python3"
  },
  "language_info": {
   "codemirror_mode": {
    "name": "ipython",
    "version": 3
   },
   "file_extension": ".py",
   "mimetype": "text/x-python",
   "name": "python",
   "nbconvert_exporter": "python",
   "pygments_lexer": "ipython3",
   "version": "3.9.12"
  }
 },
 "nbformat": 4,
 "nbformat_minor": 5
}
