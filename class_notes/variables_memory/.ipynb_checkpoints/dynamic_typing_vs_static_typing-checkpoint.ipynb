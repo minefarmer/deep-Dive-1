{
 "cells": [
  {
   "cell_type": "markdown",
   "id": "0bcd733d",
   "metadata": {},
   "source": [
    "DYNAMIC TYPING VS STATIC TYPING"
   ]
  },
  {
   "cell_type": "code",
   "execution_count": null,
   "id": "7cf740dd",
   "metadata": {},
   "outputs": [],
   "source": [
    "        Some languages (Java, C++, Swift) sre statically typed.\n",
    "\n",
    "String  myVar = \"Helllo\";\n",
    "data   variable   value\n",
    "type    name      \n",
    "\n",
    "myVar = 10:         Does not work       myvar has been declared as a String, and cannot be assigned the integar value 10 later.  \n",
    "\n",
    "myVar = \"abc\";      this is OK!         \"abc\" is a string = so compatible type.\n",
    "\n",
    "my_va = 'Hello';    The variable my_var is purely a reference to a string object with the value hello.\n",
    "        No type is attched to my_var.\n",
    "        String and Int are the type of var being refered to.\n",
    "\n",
    "Python variables do not have an inherent static type."
   ]
  },
  {
   "cell_type": "code",
   "execution_count": 1,
   "id": "a0394c39",
   "metadata": {},
   "outputs": [],
   "source": [
    "a = \"Hello\""
   ]
  },
  {
   "cell_type": "code",
   "execution_count": 2,
   "id": "6dd95fb2",
   "metadata": {},
   "outputs": [
    {
     "data": {
      "text/plain": [
       "str"
      ]
     },
     "execution_count": 2,
     "metadata": {},
     "output_type": "execute_result"
    }
   ],
   "source": [
    "type(a)"
   ]
  },
  {
   "cell_type": "code",
   "execution_count": 3,
   "id": "b9d19826",
   "metadata": {},
   "outputs": [],
   "source": [
    "a = 10"
   ]
  },
  {
   "cell_type": "code",
   "execution_count": 4,
   "id": "281f121f",
   "metadata": {},
   "outputs": [
    {
     "data": {
      "text/plain": [
       "int"
      ]
     },
     "execution_count": 4,
     "metadata": {},
     "output_type": "execute_result"
    }
   ],
   "source": [
    "type(a)"
   ]
  },
  {
   "cell_type": "code",
   "execution_count": 5,
   "id": "8cde2ee2",
   "metadata": {},
   "outputs": [],
   "source": [
    "a = lambda x: x**2"
   ]
  },
  {
   "cell_type": "code",
   "execution_count": 6,
   "id": "93f2876b",
   "metadata": {},
   "outputs": [
    {
     "data": {
      "text/plain": [
       "4"
      ]
     },
     "execution_count": 6,
     "metadata": {},
     "output_type": "execute_result"
    }
   ],
   "source": [
    "a(2)"
   ]
  },
  {
   "cell_type": "code",
   "execution_count": 7,
   "id": "acb6eb23",
   "metadata": {},
   "outputs": [
    {
     "data": {
      "text/plain": [
       "function"
      ]
     },
     "execution_count": 7,
     "metadata": {},
     "output_type": "execute_result"
    }
   ],
   "source": [
    "type(a)"
   ]
  },
  {
   "cell_type": "code",
   "execution_count": 8,
   "id": "61099d8f",
   "metadata": {},
   "outputs": [],
   "source": [
    "a = 3 * 4"
   ]
  },
  {
   "cell_type": "code",
   "execution_count": 9,
   "id": "f8ee81d8",
   "metadata": {},
   "outputs": [
    {
     "data": {
      "text/plain": [
       "int"
      ]
     },
     "execution_count": 9,
     "metadata": {},
     "output_type": "execute_result"
    }
   ],
   "source": [
    "type(a)"
   ]
  },
  {
   "cell_type": "code",
   "execution_count": null,
   "id": "784b6369",
   "metadata": {},
   "outputs": [],
   "source": []
  }
 ],
 "metadata": {
  "kernelspec": {
   "display_name": "Python 3 (ipykernel)",
   "language": "python",
   "name": "python3"
  },
  "language_info": {
   "codemirror_mode": {
    "name": "ipython",
    "version": 3
   },
   "file_extension": ".py",
   "mimetype": "text/x-python",
   "name": "python",
   "nbconvert_exporter": "python",
   "pygments_lexer": "ipython3",
   "version": "3.9.12"
  },
  "vscode": {
   "interpreter": {
    "hash": "a624adbc5e596fddf72740b255048309200567f23df85867ce297e9f9d364c1b"
   }
  }
 },
 "nbformat": 4,
 "nbformat_minor": 5
}
