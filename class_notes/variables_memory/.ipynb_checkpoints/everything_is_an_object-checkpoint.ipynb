{
 "cells": [
  {
   "cell_type": "markdown",
   "id": "05b02f28",
   "metadata": {},
   "source": [
    "EVERYTHING IS AN OBJECT"
   ]
  },
  {
   "cell_type": "code",
   "execution_count": null,
   "id": "dfc022c0",
   "metadata": {},
   "outputs": [],
   "source": []
  }
 ],
 "metadata": {
  "kernelspec": {
   "display_name": "Python 3 (ipykernel)",
   "language": "python",
   "name": "python3"
  },
  "language_info": {
   "codemirror_mode": {
    "name": "ipython",
    "version": 3
   },
   "file_extension": ".py",
   "mimetype": "text/x-python",
   "name": "python",
   "nbconvert_exporter": "python",
   "pygments_lexer": "ipython3",
   "version": "3.9.12"
  }
 },
 "nbformat": 4,
 "nbformat_minor": 5
}
