{
 "cells": [
  {
   "cell_type": "markdown",
   "id": "ade1c3e1",
   "metadata": {},
   "source": [
    "VARIABBLE RE-ASSIGNMENT"
   ]
  },
  {
   "cell_type": "markdown",
   "id": "4ef16d8a",
   "metadata": {},
   "source": [
    "my_var = \n",
    "        my_var ------>  int\n",
    "                        10\n",
    "                        \n",
    "    my_var = 15  ---->   int\n",
    "                         15\n",
    "    \n",
    "    my_var = my_var + 5  int\n",
    "                          15\n",
    "    \n",
    "    \n",
    "    \n",
    " "
   ]
  }
 ],
 "metadata": {
  "kernelspec": {
   "display_name": "Python 3 (ipykernel)",
   "language": "python",
   "name": "python3"
  },
  "language_info": {
   "codemirror_mode": {
    "name": "ipython",
    "version": 3
   },
   "file_extension": ".py",
   "mimetype": "text/x-python",
   "name": "python",
   "nbconvert_exporter": "python",
   "pygments_lexer": "ipython3",
   "version": "3.9.12"
  }
 },
 "nbformat": 4,
 "nbformat_minor": 5
}
