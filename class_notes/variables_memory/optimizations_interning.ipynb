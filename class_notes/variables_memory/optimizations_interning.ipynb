{
 "cells": [
  {
   "cell_type": "markdown",
   "id": "aa736897",
   "metadata": {},
   "source": [
    "OPTIMIZATIONS INTERNING"
   ]
  },
  {
   "cell_type": "markdown",
   "id": "72f370b7",
   "metadata": {},
   "source": [
    "Interning: Reusing objects on-demand.\n",
    "At startup, Python pr-loads (cahes) a global list of integers in the range [-5, 256] = Singleton objects.\n",
    "Any time an integer is referenced in that range, Python will use the cached version of that object.\n",
    "\n",
    "Singleton objects are classes that can only be instanciated once. i.e. the original startup.\n",
    "\n",
    "\n"
   ]
  }
 ],
 "metadata": {
  "kernelspec": {
   "display_name": "Python 3 (ipykernel)",
   "language": "python",
   "name": "python3"
  },
  "language_info": {
   "codemirror_mode": {
    "name": "ipython",
    "version": 3
   },
   "file_extension": ".py",
   "mimetype": "text/x-python",
   "name": "python",
   "nbconvert_exporter": "python",
   "pygments_lexer": "ipython3",
   "version": "3.9.12"
  }
 },
 "nbformat": 4,
 "nbformat_minor": 5
}
