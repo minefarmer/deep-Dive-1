{
 "cells": [
  {
   "cell_type": "markdown",
   "id": "d66a6cc1",
   "metadata": {},
   "source": [
    "BOOLEANS: Precedence and short curcuiting"
   ]
  },
  {
   "cell_type": "markdown",
   "id": "2a6f21a7",
   "metadata": {},
   "source": [
    "The Boolean Operators: not, and, or\n",
    "\n",
    "X   Y   not X   X and Y     x or Y          True = 1\n",
    "0   0     1        0          0             False = 0\n",
    "0   1     1        0          1\n",
    "1   0     0        0          1\n",
    "1   1     0        1          1\n"
   ]
  },
  {
   "cell_type": "markdown",
   "id": "e237c3d2",
   "metadata": {},
   "source": [
    "Commutativity               Distributivity\n",
    "        A or B == B or A        A and (B or C) == (A and B) or (A and C)\n",
    "        A and B == B and A      A or (B and C) == (A or B) and (a or C)\n",
    "\n",
    "\n",
    "Associativity\n",
    "        A or (B or C) == (A or B) or C          A or B or C         -> (A or B) or C\n",
    "\n",
    "        A and (B and C)== (A and B) and C       A and B and C       -> (A and B) and C\n",
    "\n",
    "                                                    left to right evaluation\n",
    "\n",
    "De Morgan's Theorem\n",
    "\n",
    "    not(A or B) == (not A) and (not B)\n",
    "\n",
    "    not(A and B) == (not A) or (not B)\n",
    "\n",
    "\n",
    "Miscellaneous\n",
    "    not(x < y) == x >= y    not(x <= y) == x > y\n",
    "\n",
    "    not(x > y) == x <= y)    not(x >= y) == x > y\n",
    "\n",
    "    not(not A) == A\n",
    "\n"
   ]
  },
  {
   "cell_type": "markdown",
   "id": "ae2bea20",
   "metadata": {},
   "source": [
    "Operator Precedence\n",
    "\n",
    "()  # Really not an operator, but kind of:)\n",
    "                                                        True or (True and False)\n",
    "< > <= >= == != in is   | highest precedence                            -> True or False    -> True\n",
    "                        |\n",
    "not                     |                               (True 0r True) and False    # what is in side () is evaluated first\n",
    "                        |\n",
    "and                     |\n",
    "                        |                               (True or True) and False\n",
    "or                      | lowest                                        -> True and False -> False\n",
    "\n",
    "                                            # When in doubt, or to be absolutely sure, use parentheses!\n",
    "                                # Also, use parentheses to make your code more human readable!\n",
    "\n",
    "    a < b or a > c and not x or y\n",
    "<!-- for human readability, write the above code this way. -->\n",
    "    (a < b) or ((a > c) and (not x)) or y\n",
    "\n"
   ]
  },
  {
   "cell_type": "markdown",
   "id": "203ccc83",
   "metadata": {},
   "source": [
    "Short-Circuit Evaluation\n",
    "\n",
    "  X   Y  | X or Y\n",
    "  0   0  |   0\n",
    "  0   1  |   1\n",
    "  1   0  |   1      # If X is True, then X or Y will be True no matter the value of Y\n",
    "  1   1  |   1      # I.E. So, X or Y will return True without evaluating Y if X is True\n",
    "\n",
    "\n",
    "  X   Y  | X or Y\n",
    "  0   0  |   0\n",
    "  0   1  |   0\n",
    "  1   0  |   0      # If X is False, then X and Y will be False no matter the value of Y\n",
    "  1   1  |   1      # I.E. So, X and  Y will return False without evaluating Y if X is False\n",
    "\n",
    "\n",
    "Example\n",
    "\n",
    "Scenario: There is some data feed that lists a stock symbol, and some financial data.\n",
    "\n"
   ]
  }
 ],
 "metadata": {
  "kernelspec": {
   "display_name": "Python 3.9.12 ('base')",
   "language": "python",
   "name": "python3"
  },
  "language_info": {
   "codemirror_mode": {
    "name": "ipython",
    "version": 3
   },
   "file_extension": ".py",
   "mimetype": "text/x-python",
   "name": "python",
   "nbconvert_exporter": "python",
   "pygments_lexer": "ipython3",
   "version": "3.9.12"
  },
  "vscode": {
   "interpreter": {
    "hash": "0d39b9ca25346db2d4fbd64f0fe44090b1a521776e9bcf0dda43e48cea0d85ae"
   }
  }
 },
 "nbformat": 4,
 "nbformat_minor": 5
}
