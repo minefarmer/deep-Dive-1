{
 "cells": [
  {
   "cell_type": "markdown",
   "id": "d66a6cc1",
   "metadata": {},
   "source": [
    "BOOLEANS: Precedence and short curcuiting"
   ]
  },
  {
   "cell_type": "markdown",
   "id": "2a6f21a7",
   "metadata": {},
   "source": [
    "The Boolean Operators: not, and, or\n",
    "\n",
    "X   Y   not X   X and Y     x or Y          True = 1\n",
    "0   0     1        0          0             False = 0\n",
    "0   1     1        0          1\n",
    "1   0     0        0          1\n",
    "1   1     0        1          1\n"
   ]
  },
  {
   "cell_type": "markdown",
   "id": "e237c3d2",
   "metadata": {},
   "source": [
    "Commutativity               Distributivity\n",
    "        A or B == B or A        A and (B or C) == (A and B) or (A and C)\n",
    "        A and B == B and A      A or (B and C) == (A or B) and (a or C)\n",
    "\n",
    "\n",
    "Associativity\n",
    "        A or (B or C) == (A or B) or C          A or B or C         -> (A or B) or C\n",
    "\n",
    "        A and (B and C)== (A and B) and C       A and B and C       -> (A and B) and C\n",
    "\n",
    "                                                    left to right evaluation\n",
    "\n",
    "De Morgan's Theorem\n",
    "\n",
    "    not(A or B) == (not A) and (not B)\n",
    "\n",
    "    not(A and B) == (not A) or (not B)\n",
    "\n",
    "\n",
    "Miscellaneous\n",
    "    not(x < y) == x >= y    not(x <= y) == x > y\n",
    "\n",
    "    not(x > y) == x <= y)    not(x >= y) == x > y\n",
    "\n",
    "    not(not A) == A\n",
    "\n"
   ]
  },
  {
   "cell_type": "markdown",
   "id": "ae2bea20",
   "metadata": {},
   "source": [
    "Operator Precedence\n",
    "\n",
    "()  # Really not an operator, but kind of:)\n",
    "                                                        True or (True and False)\n",
    "< > <= >= == != in is   | highest precedence                            -> True or False    -> True\n",
    "                        |\n",
    "not                     |                               (True 0r True) and False    # what is in side () is evaluated first\n",
    "                        |\n",
    "and                     |\n",
    "                        |                               (True or True) and False\n",
    "or                      | lowest                                        -> True and False -> False\n",
    "\n",
    "                                            # When in doubt, or to be absolutely sure, use parentheses!\n",
    "                                # Also, use parentheses to make your code more human readable!\n",
    "\n",
    "    a < b or a > c and not x or y\n",
    "<!-- for human readability, write the above code this way. -->\n",
    "    (a < b) or ((a > c) and (not x)) or y\n",
    "\n"
   ]
  },
  {
   "cell_type": "markdown",
   "id": "203ccc83",
   "metadata": {},
   "source": [
    "Short-Circuit Evaluation\n",
    "\n",
    "  X   Y  | X or Y\n",
    "  0   0  |   0\n",
    "  0   1  |   1\n",
    "  1   0  |   1      # If X is True, then X or Y will be True no matter the value of Y\n",
    "  1   1  |   1      # I.E. So, X or Y will return True without evaluating Y if X is True\n",
    "\n",
    "\n",
    "  X   Y  | X or Y\n",
    "  0   0  |   0\n",
    "  0   1  |   0\n",
    "  1   0  |   0      # If X is False, then X and Y will be False no matter the value of Y\n",
    "  1   1  |   1      # I.E. So, X and  Y will return False without evaluating Y if X is False\n",
    "\n",
    "\n",
    "\n",
    "\n"
   ]
  },
  {
   "cell_type": "markdown",
   "id": "1f38f9c2",
   "metadata": {},
   "source": [
    "Short-Circuit Evaluation:   Example #1\n",
    "\n",
    "Scenario: There is some data feed that lists a stock symbol, and some financial data.\n",
    "\n",
    "          My job is to monitor this feed, looking for specific stock symbols defined in some watch list, and react only if the current stock price is above some threshold. Getting the current stock price has an associated cost.\n",
    "\n",
    "If Boolean expressions did not implement stort-circuiting., I would probable write:\n",
    "\n",
    "if symbol in watch_ list:\n",
    "    if price(symbol) > threshold:\n",
    "        # do something\n",
    "\n",
    "But, because of short-circuit evaluation I could writethie equivalently as:\n",
    "\n",
    "if sympol in watch_list and price(symbol) > threshold:\n",
    "    # do something\n",
    "\n"
   ]
  },
  {
   "cell_type": "markdown",
   "id": "8e02cee4",
   "metadata": {},
   "source": [
    "Short-Circuit Evaluation:   Example #2\n",
    "                                                                            null -> None\n",
    "name is a string returned from a nullable text field in a database.         . .  -> empty string. : not the same thing as None.\n",
    "\n",
    "perform some action if the first character of name is a digit (0-9).\n",
    "\n",
    "\n",
    "if name[0] in string.digits:        This code will break if name is None or an empty string.\n",
    "    # do something\n",
    "\n",
    "\n"
   ]
  },
  {
   "cell_type": "code",
   "execution_count": 20,
   "id": "76dac552",
   "metadata": {},
   "outputs": [
    {
     "ename": "SyntaxError",
     "evalue": "invalid syntax (1557448487.py, line 1)",
     "output_type": "error",
     "traceback": [
      "\u001b[1;36m  Input \u001b[1;32mIn [20]\u001b[1;36m\u001b[0m\n\u001b[1;33m    not --> and --> or   # not has the highest precedence.\u001b[0m\n\u001b[1;37m         ^\u001b[0m\n\u001b[1;31mSyntaxError\u001b[0m\u001b[1;31m:\u001b[0m invalid syntax\n"
     ]
    }
   ],
   "source": [
    "not --> and --> or   # not has the highest precedence."
   ]
  },
  {
   "cell_type": "code",
   "execution_count": null,
   "id": "b16fb80c",
   "metadata": {},
   "outputs": [
    {
     "data": {
      "text/plain": [
       "True"
      ]
     },
     "execution_count": 1,
     "metadata": {},
     "output_type": "execute_result"
    }
   ],
   "source": [
    "True or True and False"
   ]
  },
  {
   "cell_type": "code",
   "execution_count": null,
   "id": "7ad50313",
   "metadata": {},
   "outputs": [
    {
     "data": {
      "text/plain": [
       "True"
      ]
     },
     "execution_count": 3,
     "metadata": {},
     "output_type": "execute_result"
    }
   ],
   "source": [
    "True or (True and False)    # This is how the above becomes False"
   ]
  },
  {
   "cell_type": "code",
   "execution_count": null,
   "id": "8d57483d",
   "metadata": {},
   "outputs": [
    {
     "data": {
      "text/plain": [
       "False"
      ]
     },
     "execution_count": 4,
     "metadata": {},
     "output_type": "execute_result"
    }
   ],
   "source": [
    "(True or True) and False    # What is in  the () is evaluated first"
   ]
  },
  {
   "cell_type": "markdown",
   "id": "1351e330",
   "metadata": {},
   "source": [
    "It is best practice to use the ( ) for the clearity."
   ]
  },
  {
   "cell_type": "markdown",
   "id": "2e1aeb98",
   "metadata": {},
   "source": [
    "Short-Circuiting"
   ]
  },
  {
   "cell_type": "markdown",
   "id": "9eabe3f8",
   "metadata": {},
   "source": [
    "True or Y --> True\n",
    "\n",
    "False and Y --> False"
   ]
  },
  {
   "cell_type": "code",
   "execution_count": null,
   "id": "eb4b14be",
   "metadata": {},
   "outputs": [
    {
     "name": "stdout",
     "output_type": "stream",
     "text": [
      "a is at least twice b\n"
     ]
    }
   ],
   "source": [
    "a = 10\n",
    "b = 2\n",
    "\n",
    "if a/b > 2:\n",
    "    print('a is at least twice b')"
   ]
  },
  {
   "cell_type": "code",
   "execution_count": null,
   "id": "7c0cf377",
   "metadata": {},
   "outputs": [
    {
     "ename": "ZeroDivisionError",
     "evalue": "division by zero",
     "output_type": "error",
     "traceback": [
      "\u001b[1;31m---------------------------------------------------------------------------\u001b[0m",
      "\u001b[1;31mZeroDivisionError\u001b[0m                         Traceback (most recent call last)",
      "\u001b[1;32mc:\\Users\\pgold\\MatsHub\\deep-Dive-1\\class_notes\\numeric_types\\booleans_prececence_short_circuiting.ipynb Cell 16\u001b[0m in \u001b[0;36m<cell line: 4>\u001b[1;34m()\u001b[0m\n\u001b[0;32m      <a href='vscode-notebook-cell:/c%3A/Users/pgold/MatsHub/deep-Dive-1/class_notes/numeric_types/booleans_prececence_short_circuiting.ipynb#ch0000017?line=0'>1</a>\u001b[0m a \u001b[39m=\u001b[39m \u001b[39m10\u001b[39m\n\u001b[0;32m      <a href='vscode-notebook-cell:/c%3A/Users/pgold/MatsHub/deep-Dive-1/class_notes/numeric_types/booleans_prececence_short_circuiting.ipynb#ch0000017?line=1'>2</a>\u001b[0m b \u001b[39m=\u001b[39m \u001b[39m0\u001b[39m\n\u001b[1;32m----> <a href='vscode-notebook-cell:/c%3A/Users/pgold/MatsHub/deep-Dive-1/class_notes/numeric_types/booleans_prececence_short_circuiting.ipynb#ch0000017?line=3'>4</a>\u001b[0m \u001b[39mif\u001b[39;00m a\u001b[39m/\u001b[39;49mb \u001b[39m>\u001b[39m \u001b[39m2\u001b[39m:\n\u001b[0;32m      <a href='vscode-notebook-cell:/c%3A/Users/pgold/MatsHub/deep-Dive-1/class_notes/numeric_types/booleans_prececence_short_circuiting.ipynb#ch0000017?line=4'>5</a>\u001b[0m     \u001b[39mprint\u001b[39m(\u001b[39m'\u001b[39m\u001b[39ma is at least twice b\u001b[39m\u001b[39m'\u001b[39m)\n",
      "\u001b[1;31mZeroDivisionError\u001b[0m: division by zero"
     ]
    }
   ],
   "source": [
    "a = 10\n",
    "b = 0\n",
    "\n",
    "if a/b > 2:\n",
    "    print('a is at least twice b')"
   ]
  },
  {
   "cell_type": "code",
   "execution_count": null,
   "id": "c2206a12",
   "metadata": {},
   "outputs": [],
   "source": [
    "a = 10\n",
    "b = 0\n",
    "\n",
    "if b > 0:\n",
    "    a/b > 2\n",
    "    print(\"a is at least twice b\")"
   ]
  },
  {
   "cell_type": "code",
   "execution_count": null,
   "id": "98a84164",
   "metadata": {},
   "outputs": [],
   "source": [
    "a = 10\n",
    "b = 0\n",
    "\n",
    "if b > 0 and a/b > 2:\n",
    "    print(\"a is at least twice b\")"
   ]
  },
  {
   "cell_type": "code",
   "execution_count": null,
   "id": "4fe0cbfd",
   "metadata": {},
   "outputs": [
    {
     "name": "stdout",
     "output_type": "stream",
     "text": [
      "a is at least twice b\n"
     ]
    }
   ],
   "source": [
    "a = 10\n",
    "b = 1\n",
    "\n",
    "if b and a/b > 2:\n",
    "    print(\"a is at least twice b\")"
   ]
  },
  {
   "cell_type": "code",
   "execution_count": null,
   "id": "d48af497",
   "metadata": {},
   "outputs": [
    {
     "ename": "TypeError",
     "evalue": "'>' not supported between instances of 'NoneType' and 'int'",
     "output_type": "error",
     "traceback": [
      "\u001b[1;31m---------------------------------------------------------------------------\u001b[0m",
      "\u001b[1;31mTypeError\u001b[0m                                 Traceback (most recent call last)",
      "\u001b[1;32mc:\\Users\\pgold\\MatsHub\\deep-Dive-1\\class_notes\\numeric_types\\booleans_prececence_short_circuiting.ipynb Cell 20\u001b[0m in \u001b[0;36m<cell line: 4>\u001b[1;34m()\u001b[0m\n\u001b[0;32m      <a href='vscode-notebook-cell:/c%3A/Users/pgold/MatsHub/deep-Dive-1/class_notes/numeric_types/booleans_prececence_short_circuiting.ipynb#ch0000021?line=0'>1</a>\u001b[0m a \u001b[39m=\u001b[39m \u001b[39m10\u001b[39m\n\u001b[0;32m      <a href='vscode-notebook-cell:/c%3A/Users/pgold/MatsHub/deep-Dive-1/class_notes/numeric_types/booleans_prececence_short_circuiting.ipynb#ch0000021?line=1'>2</a>\u001b[0m b \u001b[39m=\u001b[39m \u001b[39mNone\u001b[39;00m\n\u001b[1;32m----> <a href='vscode-notebook-cell:/c%3A/Users/pgold/MatsHub/deep-Dive-1/class_notes/numeric_types/booleans_prececence_short_circuiting.ipynb#ch0000021?line=3'>4</a>\u001b[0m \u001b[39mif\u001b[39;00m b \u001b[39m>\u001b[39;49m \u001b[39m0\u001b[39;49m \u001b[39mand\u001b[39;00m a\u001b[39m/\u001b[39mb \u001b[39m>\u001b[39m \u001b[39m2\u001b[39m:\n\u001b[0;32m      <a href='vscode-notebook-cell:/c%3A/Users/pgold/MatsHub/deep-Dive-1/class_notes/numeric_types/booleans_prececence_short_circuiting.ipynb#ch0000021?line=4'>5</a>\u001b[0m     \u001b[39mprint\u001b[39m(\u001b[39m\"\u001b[39m\u001b[39ma is at least twice b\u001b[39m\u001b[39m\"\u001b[39m)\n",
      "\u001b[1;31mTypeError\u001b[0m: '>' not supported between instances of 'NoneType' and 'int'"
     ]
    }
   ],
   "source": [
    "a = 10\n",
    "b = None\n",
    "\n",
    "if b > 0 and a/b > 2:\n",
    "    print(\"a is at least twice b\")"
   ]
  },
  {
   "cell_type": "code",
   "execution_count": null,
   "id": "40b43e37",
   "metadata": {},
   "outputs": [],
   "source": [
    "import string"
   ]
  },
  {
   "cell_type": "code",
   "execution_count": 10,
   "id": "ff11dd78",
   "metadata": {},
   "outputs": [
    {
     "name": "stdout",
     "output_type": "stream",
     "text": [
      "Help on module string:\n",
      "\n",
      "NAME\n",
      "    string - A collection of string constants.\n",
      "\n",
      "MODULE REFERENCE\n",
      "    https://docs.python.org/3.9/library/string\n",
      "    \n",
      "    The following documentation is automatically generated from the Python\n",
      "    source files.  It may be incomplete, incorrect or include features that\n",
      "    are considered implementation detail and may vary between Python\n",
      "    implementations.  When in doubt, consult the module reference at the\n",
      "    location listed above.\n",
      "\n",
      "DESCRIPTION\n",
      "    Public module variables:\n",
      "    \n",
      "    whitespace -- a string containing all ASCII whitespace\n",
      "    ascii_lowercase -- a string containing all ASCII lowercase letters\n",
      "    ascii_uppercase -- a string containing all ASCII uppercase letters\n",
      "    ascii_letters -- a string containing all ASCII letters\n",
      "    digits -- a string containing all ASCII decimal digits\n",
      "    hexdigits -- a string containing all ASCII hexadecimal digits\n",
      "    octdigits -- a string containing all ASCII octal digits\n",
      "    punctuation -- a string containing all ASCII punctuation characters\n",
      "    printable -- a string containing all ASCII characters considered printable\n",
      "\n",
      "CLASSES\n",
      "    builtins.object\n",
      "        Formatter\n",
      "        Template\n",
      "    \n",
      "    class Formatter(builtins.object)\n",
      "     |  Methods defined here:\n",
      "     |  \n",
      "     |  check_unused_args(self, used_args, args, kwargs)\n",
      "     |  \n",
      "     |  convert_field(self, value, conversion)\n",
      "     |  \n",
      "     |  format(self, format_string, /, *args, **kwargs)\n",
      "     |  \n",
      "     |  format_field(self, value, format_spec)\n",
      "     |  \n",
      "     |  get_field(self, field_name, args, kwargs)\n",
      "     |      # given a field_name, find the object it references.\n",
      "     |      #  field_name:   the field being looked up, e.g. \"0.name\"\n",
      "     |      #                 or \"lookup[3]\"\n",
      "     |      #  used_args:    a set of which args have been used\n",
      "     |      #  args, kwargs: as passed in to vformat\n",
      "     |  \n",
      "     |  get_value(self, key, args, kwargs)\n",
      "     |  \n",
      "     |  parse(self, format_string)\n",
      "     |      # returns an iterable that contains tuples of the form:\n",
      "     |      # (literal_text, field_name, format_spec, conversion)\n",
      "     |      # literal_text can be zero length\n",
      "     |      # field_name can be None, in which case there's no\n",
      "     |      #  object to format and output\n",
      "     |      # if field_name is not None, it is looked up, formatted\n",
      "     |      #  with format_spec and conversion and then used\n",
      "     |  \n",
      "     |  vformat(self, format_string, args, kwargs)\n",
      "     |  \n",
      "     |  ----------------------------------------------------------------------\n",
      "     |  Data descriptors defined here:\n",
      "     |  \n",
      "     |  __dict__\n",
      "     |      dictionary for instance variables (if defined)\n",
      "     |  \n",
      "     |  __weakref__\n",
      "     |      list of weak references to the object (if defined)\n",
      "    \n",
      "    class Template(builtins.object)\n",
      "     |  Template(template)\n",
      "     |  \n",
      "     |  A string class for supporting $-substitutions.\n",
      "     |  \n",
      "     |  Methods defined here:\n",
      "     |  \n",
      "     |  __init__(self, template)\n",
      "     |      Initialize self.  See help(type(self)) for accurate signature.\n",
      "     |  \n",
      "     |  safe_substitute(self, mapping={}, /, **kws)\n",
      "     |  \n",
      "     |  substitute(self, mapping={}, /, **kws)\n",
      "     |  \n",
      "     |  ----------------------------------------------------------------------\n",
      "     |  Class methods defined here:\n",
      "     |  \n",
      "     |  __init_subclass__() from builtins.type\n",
      "     |      This method is called when a class is subclassed.\n",
      "     |      \n",
      "     |      The default implementation does nothing. It may be\n",
      "     |      overridden to extend subclasses.\n",
      "     |  \n",
      "     |  ----------------------------------------------------------------------\n",
      "     |  Data descriptors defined here:\n",
      "     |  \n",
      "     |  __dict__\n",
      "     |      dictionary for instance variables (if defined)\n",
      "     |  \n",
      "     |  __weakref__\n",
      "     |      list of weak references to the object (if defined)\n",
      "     |  \n",
      "     |  ----------------------------------------------------------------------\n",
      "     |  Data and other attributes defined here:\n",
      "     |  \n",
      "     |  braceidpattern = None\n",
      "     |  \n",
      "     |  delimiter = '$'\n",
      "     |  \n",
      "     |  flags = re.IGNORECASE\n",
      "     |  \n",
      "     |  idpattern = '(?a:[_a-z][_a-z0-9]*)'\n",
      "     |  \n",
      "     |  pattern = re.compile('\\n            \\\\$(?:\\n              ...identifie...\n",
      "\n",
      "FUNCTIONS\n",
      "    capwords(s, sep=None)\n",
      "        capwords(s [,sep]) -> string\n",
      "        \n",
      "        Split the argument into words using split, capitalize each\n",
      "        word using capitalize, and join the capitalized words using\n",
      "        join.  If the optional second argument sep is absent or None,\n",
      "        runs of whitespace characters are replaced by a single space\n",
      "        and leading and trailing whitespace are removed, otherwise\n",
      "        sep is used to split and join the words.\n",
      "\n",
      "DATA\n",
      "    __all__ = ['ascii_letters', 'ascii_lowercase', 'ascii_uppercase', 'cap...\n",
      "    ascii_letters = 'abcdefghijklmnopqrstuvwxyzABCDEFGHIJKLMNOPQRSTUVWXYZ'\n",
      "    ascii_lowercase = 'abcdefghijklmnopqrstuvwxyz'\n",
      "    ascii_uppercase = 'ABCDEFGHIJKLMNOPQRSTUVWXYZ'\n",
      "    digits = '0123456789'\n",
      "    hexdigits = '0123456789abcdefABCDEF'\n",
      "    octdigits = '01234567'\n",
      "    printable = '0123456789abcdefghijklmnopqrstuvwxyzABCDEFGHIJKLMNOPQRSTU...\n",
      "    punctuation = '!\"#$%&\\'()*+,-./:;<=>?@[\\\\]^_`{|}~'\n",
      "    whitespace = ' \\t\\n\\r\\x0b\\x0c'\n",
      "\n",
      "FILE\n",
      "    c:\\users\\pgold\\anaconda3\\lib\\string.py\n",
      "\n",
      "\n"
     ]
    }
   ],
   "source": [
    "help(string)"
   ]
  },
  {
   "cell_type": "code",
   "execution_count": 21,
   "id": "c97381f1",
   "metadata": {},
   "outputs": [
    {
     "data": {
      "text/plain": [
       "False"
      ]
     },
     "execution_count": 21,
     "metadata": {},
     "output_type": "execute_result"
    }
   ],
   "source": [
    "a = 'c'\n",
    "a in string.ascii_uppercase\n"
   ]
  },
  {
   "cell_type": "code",
   "execution_count": 22,
   "id": "e9b17e8e",
   "metadata": {},
   "outputs": [
    {
     "data": {
      "text/plain": [
       "'ABCDEFGHIJKLMNOPQRSTUVWXYZ'"
      ]
     },
     "execution_count": 22,
     "metadata": {},
     "output_type": "execute_result"
    }
   ],
   "source": [
    "string.ascii_uppercase"
   ]
  },
  {
   "cell_type": "code",
   "execution_count": 23,
   "id": "9919027b",
   "metadata": {},
   "outputs": [
    {
     "data": {
      "text/plain": [
       "'0123456789'"
      ]
     },
     "execution_count": 23,
     "metadata": {},
     "output_type": "execute_result"
    }
   ],
   "source": [
    "string.digits"
   ]
  },
  {
   "cell_type": "code",
   "execution_count": 24,
   "id": "01666215",
   "metadata": {},
   "outputs": [
    {
     "data": {
      "text/plain": [
       "'abcdefghijklmnopqrstuvwxyzABCDEFGHIJKLMNOPQRSTUVWXYZ'"
      ]
     },
     "execution_count": 24,
     "metadata": {},
     "output_type": "execute_result"
    }
   ],
   "source": [
    "string.ascii_letters"
   ]
  },
  {
   "cell_type": "code",
   "execution_count": 26,
   "id": "d8c0df0b",
   "metadata": {},
   "outputs": [],
   "source": [
    "name = 'Bob'\n",
    "if name[0] in string.digits:\n",
    "    print(\"Name cannot statr with a digit.\")"
   ]
  },
  {
   "cell_type": "code",
   "execution_count": 34,
   "id": "42c2f7ae",
   "metadata": {},
   "outputs": [
    {
     "name": "stdout",
     "output_type": "stream",
     "text": [
      "Name cannot start with a digit.\n"
     ]
    }
   ],
   "source": [
    "name = '0Bob'\n",
    "if name[0] in string.digits:\n",
    "    print(\"Name cannot start with a digit.\")"
   ]
  },
  {
   "cell_type": "code",
   "execution_count": 28,
   "id": "0ac1dae4",
   "metadata": {},
   "outputs": [
    {
     "ename": "IndexError",
     "evalue": "string index out of range",
     "output_type": "error",
     "traceback": [
      "\u001b[1;31m---------------------------------------------------------------------------\u001b[0m",
      "\u001b[1;31mIndexError\u001b[0m                                Traceback (most recent call last)",
      "\u001b[1;32mc:\\Users\\pgold\\MatsHub\\deep-Dive-1\\class_notes\\numeric_types\\booleans_prececence_short_circuiting.ipynb Cell 29\u001b[0m in \u001b[0;36m<cell line: 2>\u001b[1;34m()\u001b[0m\n\u001b[0;32m      <a href='vscode-notebook-cell:/c%3A/Users/pgold/MatsHub/deep-Dive-1/class_notes/numeric_types/booleans_prececence_short_circuiting.ipynb#ch0000028?line=0'>1</a>\u001b[0m name \u001b[39m=\u001b[39m \u001b[39m'\u001b[39m\u001b[39m'\u001b[39m\n\u001b[1;32m----> <a href='vscode-notebook-cell:/c%3A/Users/pgold/MatsHub/deep-Dive-1/class_notes/numeric_types/booleans_prececence_short_circuiting.ipynb#ch0000028?line=1'>2</a>\u001b[0m \u001b[39mif\u001b[39;00m name[\u001b[39m0\u001b[39;49m] \u001b[39min\u001b[39;00m string\u001b[39m.\u001b[39mdigits:\n\u001b[0;32m      <a href='vscode-notebook-cell:/c%3A/Users/pgold/MatsHub/deep-Dive-1/class_notes/numeric_types/booleans_prececence_short_circuiting.ipynb#ch0000028?line=2'>3</a>\u001b[0m     \u001b[39mprint\u001b[39m(\u001b[39m\"\u001b[39m\u001b[39mName cannot statr with a digit.\u001b[39m\u001b[39m\"\u001b[39m)\n",
      "\u001b[1;31mIndexError\u001b[0m: string index out of range"
     ]
    }
   ],
   "source": [
    "name = ''\n",
    "if name[0] in string.digits:\n",
    "    print(\"Name cannot statr with a digit.\")"
   ]
  },
  {
   "cell_type": "code",
   "execution_count": 29,
   "id": "6f4347d2",
   "metadata": {},
   "outputs": [
    {
     "ename": "SyntaxError",
     "evalue": "invalid syntax (3782387182.py, line 2)",
     "output_type": "error",
     "traceback": [
      "\u001b[1;36m  Input \u001b[1;32mIn [29]\u001b[1;36m\u001b[0m\n\u001b[1;33m    if name[0] 0 and name[0] in string.digits:\u001b[0m\n\u001b[1;37m               ^\u001b[0m\n\u001b[1;31mSyntaxError\u001b[0m\u001b[1;31m:\u001b[0m invalid syntax\n"
     ]
    }
   ],
   "source": [
    "name = ''\n",
    "if name[0] 0 and name[0] in string.digits:\n",
    "    print(\"Name cannot statr with a digit.\")"
   ]
  },
  {
   "cell_type": "code",
   "execution_count": 32,
   "id": "ecd331ca",
   "metadata": {},
   "outputs": [
    {
     "ename": "TypeError",
     "evalue": "'builtin_function_or_method' object is not subscriptable",
     "output_type": "error",
     "traceback": [
      "\u001b[1;31m---------------------------------------------------------------------------\u001b[0m",
      "\u001b[1;31mTypeError\u001b[0m                                 Traceback (most recent call last)",
      "\u001b[1;32mc:\\Users\\pgold\\MatsHub\\deep-Dive-1\\class_notes\\numeric_types\\booleans_prececence_short_circuiting.ipynb Cell 31\u001b[0m in \u001b[0;36m<cell line: 2>\u001b[1;34m()\u001b[0m\n\u001b[0;32m      <a href='vscode-notebook-cell:/c%3A/Users/pgold/MatsHub/deep-Dive-1/class_notes/numeric_types/booleans_prececence_short_circuiting.ipynb#ch0000030?line=0'>1</a>\u001b[0m name \u001b[39m=\u001b[39m \u001b[39m'\u001b[39m\u001b[39m'\u001b[39m\n\u001b[1;32m----> <a href='vscode-notebook-cell:/c%3A/Users/pgold/MatsHub/deep-Dive-1/class_notes/numeric_types/booleans_prececence_short_circuiting.ipynb#ch0000030?line=1'>2</a>\u001b[0m \u001b[39mif\u001b[39;00m \u001b[39mlen\u001b[39;49m[name] \u001b[39mand\u001b[39;00m name[\u001b[39m0\u001b[39m] \u001b[39min\u001b[39;00m string\u001b[39m.\u001b[39mdigits:\n\u001b[0;32m      <a href='vscode-notebook-cell:/c%3A/Users/pgold/MatsHub/deep-Dive-1/class_notes/numeric_types/booleans_prececence_short_circuiting.ipynb#ch0000030?line=2'>3</a>\u001b[0m     \u001b[39mprint\u001b[39m(\u001b[39m\"\u001b[39m\u001b[39mName cannot statr with a digit.\u001b[39m\u001b[39m\"\u001b[39m)\n",
      "\u001b[1;31mTypeError\u001b[0m: 'builtin_function_or_method' object is not subscriptable"
     ]
    }
   ],
   "source": [
    "name = ''\n",
    "if len[name] and name[0] in string.digits:\n",
    "    print(\"Name cannot statr with a digit.\")"
   ]
  },
  {
   "cell_type": "code",
   "execution_count": 35,
   "id": "38676b5f",
   "metadata": {},
   "outputs": [],
   "source": [
    "name = ''\n",
    "if name and name[0] in string.digits:\n",
    "    print(\"Name cannot start with a digit.\")"
   ]
  },
  {
   "cell_type": "code",
   "execution_count": 36,
   "id": "0f44a96f",
   "metadata": {},
   "outputs": [
    {
     "data": {
      "text/plain": [
       "True"
      ]
     },
     "execution_count": 36,
     "metadata": {},
     "output_type": "execute_result"
    }
   ],
   "source": [
    "name = 'abc'\n",
    "bool(name)"
   ]
  },
  {
   "cell_type": "code",
   "execution_count": 37,
   "id": "65a42680",
   "metadata": {},
   "outputs": [
    {
     "data": {
      "text/plain": [
       "False"
      ]
     },
     "execution_count": 37,
     "metadata": {},
     "output_type": "execute_result"
    }
   ],
   "source": [
    "name = ''\n",
    "bool(name)"
   ]
  },
  {
   "cell_type": "code",
   "execution_count": 38,
   "id": "426fe916",
   "metadata": {},
   "outputs": [
    {
     "ename": "TypeError",
     "evalue": "object of type 'NoneType' has no len()",
     "output_type": "error",
     "traceback": [
      "\u001b[1;31m---------------------------------------------------------------------------\u001b[0m",
      "\u001b[1;31mTypeError\u001b[0m                                 Traceback (most recent call last)",
      "\u001b[1;32mc:\\Users\\pgold\\MatsHub\\deep-Dive-1\\class_notes\\numeric_types\\booleans_prececence_short_circuiting.ipynb Cell 35\u001b[0m in \u001b[0;36m<cell line: 2>\u001b[1;34m()\u001b[0m\n\u001b[0;32m      <a href='vscode-notebook-cell:/c%3A/Users/pgold/MatsHub/deep-Dive-1/class_notes/numeric_types/booleans_prececence_short_circuiting.ipynb#ch0000034?line=0'>1</a>\u001b[0m name \u001b[39m=\u001b[39m \u001b[39mNone\u001b[39;00m\n\u001b[1;32m----> <a href='vscode-notebook-cell:/c%3A/Users/pgold/MatsHub/deep-Dive-1/class_notes/numeric_types/booleans_prececence_short_circuiting.ipynb#ch0000034?line=1'>2</a>\u001b[0m \u001b[39mif\u001b[39;00m \u001b[39mlen\u001b[39;49m(name) \u001b[39m>\u001b[39m \u001b[39m0\u001b[39m \u001b[39mand\u001b[39;00m name[\u001b[39m0\u001b[39m] \u001b[39min\u001b[39;00m string\u001b[39m.\u001b[39mdigits:\n\u001b[0;32m      <a href='vscode-notebook-cell:/c%3A/Users/pgold/MatsHub/deep-Dive-1/class_notes/numeric_types/booleans_prececence_short_circuiting.ipynb#ch0000034?line=2'>3</a>\u001b[0m     \u001b[39mprint\u001b[39m(\u001b[39m\"\u001b[39m\u001b[39mName cannot start with a digit.\u001b[39m\u001b[39m\"\u001b[39m)\n",
      "\u001b[1;31mTypeError\u001b[0m: object of type 'NoneType' has no len()"
     ]
    }
   ],
   "source": [
    "name = None\n",
    "if len(name) > 0 and name[0] in string.digits:\n",
    "    print(\"Name cannot start with a digit.\")"
   ]
  },
  {
   "cell_type": "code",
   "execution_count": 40,
   "id": "b6d06a36",
   "metadata": {},
   "outputs": [],
   "source": [
    "name = None\n",
    "if name and name[0] in string.digits:\n",
    "    print(\"Name cannot start with a digit.\")"
   ]
  },
  {
   "cell_type": "code",
   "execution_count": 41,
   "id": "36006e46",
   "metadata": {},
   "outputs": [],
   "source": [
    "name = None\n",
    "if name is not None and len(name) > 0 and name[0] in string.digits:\n",
    "    print(\"Name cannot start with a digit.\")"
   ]
  },
  {
   "cell_type": "code",
   "execution_count": null,
   "id": "ed5625fe",
   "metadata": {},
   "outputs": [],
   "source": []
  }
 ],
 "metadata": {
  "kernelspec": {
   "display_name": "Python 3 (ipykernel)",
   "language": "python",
   "name": "python3"
  },
  "language_info": {
   "codemirror_mode": {
    "name": "ipython",
    "version": 3
   },
   "file_extension": ".py",
   "mimetype": "text/x-python",
   "name": "python",
   "nbconvert_exporter": "python",
   "pygments_lexer": "ipython3",
   "version": "3.9.12"
  },
  "vscode": {
   "interpreter": {
    "hash": "a624adbc5e596fddf72740b255048309200567f23df85867ce297e9f9d364c1b"
   }
  }
 },
 "nbformat": 4,
 "nbformat_minor": 5
}
