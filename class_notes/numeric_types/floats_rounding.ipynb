{
 "cells": [
  {
   "cell_type": "markdown",
   "id": "2f80a23f",
   "metadata": {},
   "source": [
    "FLOATS - ROUNDING"
   ]
  },
  {
   "cell_type": "markdown",
   "id": "ee797d51",
   "metadata": {},
   "source": [
    "                    The round() function\n",
    "\n",
    "Python provides a built-in rounding function: round(x, n=0)\n",
    "                                                          - ( power of 10)\n",
    "This will round the number x to the closest multipule of 10.\n",
    "    I might think of this as rounding to a certain number of digits after the decimal point, which would work for positive n, but n can, in fact, also be negative!\n",
    "\n",
    "If n is not specified, then it defaults to zero and round(x) will therefore return an int.\n",
    "\n",
    "    round(x) -> int\n",
    "\n",
    "    round(x, n) -> same type as x\n",
    "\n",
    "    round(x, 0) -> same type as x\n",
    "\n",
    "n = 0                              -0 \n",
    "round to the closest multiple of 10   = 1\n",
    "\n",
    "                x = 1.23\n",
    "               /\n",
    "        1     /     2\n",
    "    ----0----o------0-----    round(1.23)\n",
    "       / <--> <---->\n",
    "      /\n",
    "closest\n",
    "\n",
    "\n",
    "\n",
    "\n",
    "\n",
    "                                           -1    \n",
    "n _ 1   round to the closest multiple of 10  = 0.1\n",
    "\n",
    "                x = 1.23\n",
    "               /\n",
    "        1     /     2\n",
    "    ----0----o------0-----    round(1.23, 1) -> 1.2\n",
    "       / <--> <---->\n",
    "      / 0.03   0.07 \n",
    "closest\n",
    "\n",
    "\n",
    "# Now lets look at the negitive number\n",
    "                                           -(-1)    \n",
    "n = -1  round to the closest multiple of 10     = 10\n",
    "\n",
    "\n",
    "        x = 18.2\n",
    "           \\\n",
    "      10    \\      20\n",
    "    --0------o-----0----        round(18.2, -1) -> 20\n",
    "       <-----><---> \\\n",
    "         8.2   1.8     \n"
   ]
  },
  {
   "cell_type": "markdown",
   "id": "175fca8d",
   "metadata": {},
   "source": [
    "                Ties\n",
    "\n",
    "                        x = 1.25\n",
    "                       /\n",
    "                1.2   /  1.3        round(1.25, 1) = ???\n",
    "              ---0---o---0-----\n",
    "                  <-> <->           there is no closest value!\n",
    "                 0.05  0.05\n",
    "\n",
    "We probably would expect round(1.25, 1) to be 1.3   (rounding up)  / away from zero\n",
    "\n",
    "Similarly, we would expect round(-1.25, 1) to result in -1.3    (rounding down)  / away from zero\n",
    "\n",
    "This type of rounding is called rounding to nearest, with ties AWAY FROM ZERO.\n",
    "\n",
    "But in fact:  round(1.25, 1) -> 1.2    towards 0\n",
    "              round(1.35, 1) -> 1.4    away from 0\n",
    "\n",
    "              round(-1.25, 1) -> 1.2    towards 0\n",
    "              round(-1.35, 1) -> 1.4    away from 0\n"
   ]
  },
  {
   "cell_type": "markdown",
   "id": "a023c278",
   "metadata": {},
   "source": [
    "                Bankers rounding\n",
    "\n",
    "IEEE 754 standard:  Rounds to the nearest value, with ties rounded to the nearest value with an even least significant digit.\n",
    "\n",
    "            x = 1.25\n",
    "        /\n",
    "    1.2   /   1.3       round(1.25, 1) -> 1.2\n",
    "    -0---o-----0---\n",
    "    /<--><---->\n",
    "   / 0.05  0.05\n",
    "2 is even\n",
    "\n",
    "        x = 1.35\n",
    "    1.3   \\     1.4         round(1.35, 1) -> 1.4\n",
    "   --0-----o-----0--- \n",
    "      <---><----> \\\n",
    "      0.05  0.05   \\\n",
    "                    4 is even\n",
    "\n",
    "                                                 -(-1)\n",
    "n = -1      rounded to the closest multiple of 10      = 10\n",
    "\n",
    "        x = 15\n",
    "  10   /   20\n",
    "--0---o----0---         round(15, -1) -> 20\n",
    "  <--> <--->\\\n",
    "    5    5   \\\n",
    "              2 is even\n",
    "\n",
    "        x = 25\n",
    "         /\n",
    "20      /    30\n",
    "-0-----o-----0---       round(25, 1) -> 20\n",
    "    5     5\n",
    "2 is even\n"
   ]
  },
  {
   "cell_type": "markdown",
   "id": "d09920d4",
   "metadata": {},
   "source": [
    "        Why do Bankers rounding?\n",
    "\n",
    "Less biased rounding than ties away from zero.\n",
    "\n",
    "Consider averaging three numbers, and averaging the rounded value of each:\n",
    "\n",
    "                    0.5, 1.5, 2.5  -> avg = 4.5 / 3 = 1.5\n",
    "\n",
    "standard rounding   1,  2,  3  -> avg = 6/3=2\n",
    "\n",
    "banker's rounding:  0,  2,  2  -> avg = 4/3 = 1.3...\n",
    "\n"
   ]
  },
  {
   "cell_type": "markdown",
   "id": "85c68477",
   "metadata": {},
   "source": [
    "        If I really insist on rounding away from zero...\n",
    "\n",
    "One common (and partially incorrect) way to round to the nearest unit that often comes up on the web is:\n",
    "\n",
    "    int(x + 0.5)        10.3 -> int(10.3 + 0.5) = int(10.8) = 10\n",
    "\n",
    "                        10.9 -> int(10.9 + 0.5) = int(11.4) = 11\n",
    "\n",
    "                        10.3 -> int(10.5 + 0.5) = int(11.0) = 11\n",
    "\n",
    "but, this does not work for negative numbers\n",
    "                        -10.3 -> int(-10.3 + 0.5) = int(-9.8) = -9\n",
    "\n",
    "                        -10.9 -> int(-10.9 + 0.5) = int(-10.4) = -10\n",
    "\n",
    "                        -10.3 -> int(-10.5 + 0.5) = int(-10.0) = -10\n",
    "\n",
    "Technically, this is also an acceptable rounding method\n",
    "    (refered to as rounding towards + infinity)\n",
    "\n"
   ]
  },
  {
   "cell_type": "markdown",
   "id": "56c38aee",
   "metadata": {},
   "source": [
    "If I really insist on rounding away from zero...\n",
    "The correct wat to do it:\n",
    "sign(x) * int(abs(x)+0.5)\n",
    "  /\n",
    " /     \n",
    "sign(x) = |+1  ifx >= 0 \n",
    "          |-1  ifx < 0\n",
    "\n",
    "!! Not the same as the mathematical sgn (signim) funtion!\n",
    "\n",
    "\n",
    "# An example:           \n",
    "                         10.4       10.5        10.6        -10.4       -10.5       -10.6\n",
    "                sign(x)   +           +          +            -           -           -\n",
    "             abs(x)+0.5  10.9       11.0        11.1         10.9        11.0       -11.0\n",
    "        int(abs (x)+0.5) 10         11          11           10          11          11\n",
    "                    _____________ ________  _________   ___________   _________    _________\n",
    "sign(x) * int(abs(x)+0.5) 10        11          11          -10          -11        -11\n",
    "= int(x + o.5 * sign(x))\n",
    "\n",
    "Python does not have a sign function!\n",
    "\n",
    "We can however, use the math.copysign() function to achieve our goal:\n",
    "\n",
    "copysign(x, y) returns the magnitude (absolute value) of x but with the sign of y\n",
    "\n",
    "    sign(x) = copysign(1, x)\n",
    "\n",
    "    sign(x) * int(abs(x)+0.5)\n",
    "\n",
    "def round_up(x):\n",
    "    from math import fabs, copysign\n",
    "    return copysign(1, x) * int(fabs(x) + 0.5)\n",
    "\n"
   ]
  },
  {
   "cell_type": "markdown",
   "id": "cf0be2f1",
   "metadata": {},
   "source": [
    "FLOATS: ROUNDING"
   ]
  },
  {
   "cell_type": "code",
   "execution_count": 20,
   "id": "266ab678",
   "metadata": {},
   "outputs": [
    {
     "name": "stdout",
     "output_type": "stream",
     "text": [
      "Help on function round in module __main__:\n",
      "\n",
      "round(x)\n",
      "\n"
     ]
    }
   ],
   "source": [
    "help(round)"
   ]
  },
  {
   "cell_type": "code",
   "execution_count": 21,
   "id": "c1489caf",
   "metadata": {},
   "outputs": [
    {
     "data": {
      "text/plain": [
       "('a', str)"
      ]
     },
     "execution_count": 21,
     "metadata": {},
     "output_type": "execute_result"
    }
   ],
   "source": [
    "a = round(1.9)\n",
    "a, type(a)"
   ]
  },
  {
   "cell_type": "code",
   "execution_count": 22,
   "id": "81f5c5b1",
   "metadata": {},
   "outputs": [
    {
     "ename": "TypeError",
     "evalue": "round() takes 1 positional argument but 2 were given",
     "output_type": "error",
     "traceback": [
      "\u001b[0;31m---------------------------------------------------------------------------\u001b[0m",
      "\u001b[0;31mTypeError\u001b[0m                                 Traceback (most recent call last)",
      "\u001b[1;32m/home/rich/Desktop/Matshub/deep-Dive-1/class_notes/numeric_types/floats_rounding.ipynb Cell 11'\u001b[0m in \u001b[0;36m<cell line: 1>\u001b[0;34m()\u001b[0m\n\u001b[0;32m----> <a href='vscode-notebook-cell:/home/rich/Desktop/Matshub/deep-Dive-1/class_notes/numeric_types/floats_rounding.ipynb#ch0000011?line=0'>1</a>\u001b[0m a \u001b[39m=\u001b[39m \u001b[39mround\u001b[39;49m(\u001b[39m1.9\u001b[39;49m,\u001b[39m0\u001b[39;49m)\n\u001b[1;32m      <a href='vscode-notebook-cell:/home/rich/Desktop/Matshub/deep-Dive-1/class_notes/numeric_types/floats_rounding.ipynb#ch0000011?line=1'>2</a>\u001b[0m a, \u001b[39mtype\u001b[39m(a)\n",
      "\u001b[0;31mTypeError\u001b[0m: round() takes 1 positional argument but 2 were given"
     ]
    }
   ],
   "source": [
    "a = round(1.9,0)\n",
    "a, type(a)"
   ]
  },
  {
   "cell_type": "code",
   "execution_count": null,
   "id": "a2adc103",
   "metadata": {},
   "outputs": [],
   "source": [
    "#### n>0"
   ]
  },
  {
   "cell_type": "code",
   "execution_count": null,
   "id": "dd2aa13f",
   "metadata": {},
   "outputs": [
    {
     "data": {
      "text/plain": [
       "(1.889, 1.89, 1.9, 2.0)"
      ]
     },
     "execution_count": 7,
     "metadata": {},
     "output_type": "execute_result"
    }
   ],
   "source": [
    "round(1.8888, 3), round(1.8888, 2), round(1.8888, 1), round(1.8888, 0)"
   ]
  },
  {
   "cell_type": "code",
   "execution_count": null,
   "id": "b9d96de8",
   "metadata": {},
   "outputs": [],
   "source": [
    "####n< 0"
   ]
  },
  {
   "cell_type": "code",
   "execution_count": null,
   "id": "1c080b68",
   "metadata": {},
   "outputs": [
    {
     "data": {
      "text/plain": [
       "(888.9, 889.0, 890.0, 900.0, 1000.0, 0.0)"
      ]
     },
     "execution_count": 9,
     "metadata": {},
     "output_type": "execute_result"
    }
   ],
   "source": [
    "round(888.88, 1), round(888.88, 0), \\\n",
    "round(888.88, -1), round(888.88, -2), round(888.99, -3), round(888.88, -4)"
   ]
  },
  {
   "cell_type": "code",
   "execution_count": null,
   "id": "03e9948f",
   "metadata": {},
   "outputs": [
    {
     "data": {
      "text/plain": [
       "10000"
      ]
     },
     "execution_count": 10,
     "metadata": {},
     "output_type": "execute_result"
    }
   ],
   "source": [
    "round(9800, -4)"
   ]
  },
  {
   "cell_type": "code",
   "execution_count": null,
   "id": "f1541eee",
   "metadata": {},
   "outputs": [
    {
     "data": {
      "text/plain": [
       "10000"
      ]
     },
     "execution_count": 12,
     "metadata": {},
     "output_type": "execute_result"
    }
   ],
   "source": [
    "round(9800, -4)"
   ]
  },
  {
   "cell_type": "markdown",
   "id": "9f5912c7",
   "metadata": {},
   "source": [
    "Ties"
   ]
  },
  {
   "cell_type": "code",
   "execution_count": null,
   "id": "8e565ba0",
   "metadata": {},
   "outputs": [
    {
     "data": {
      "text/plain": [
       "1.2"
      ]
     },
     "execution_count": 13,
     "metadata": {},
     "output_type": "execute_result"
    }
   ],
   "source": [
    "round(1.25, 1)"
   ]
  },
  {
   "cell_type": "code",
   "execution_count": null,
   "id": "a47fc6a9",
   "metadata": {},
   "outputs": [
    {
     "data": {
      "text/plain": [
       "1.4"
      ]
     },
     "execution_count": 14,
     "metadata": {},
     "output_type": "execute_result"
    }
   ],
   "source": [
    "round(1.35, 1)"
   ]
  },
  {
   "cell_type": "code",
   "execution_count": 24,
   "id": "4a4cc52b",
   "metadata": {},
   "outputs": [
    {
     "ename": "TypeError",
     "evalue": "round() takes 1 positional argument but 2 were given",
     "output_type": "error",
     "traceback": [
      "\u001b[0;31m---------------------------------------------------------------------------\u001b[0m",
      "\u001b[0;31mTypeError\u001b[0m                                 Traceback (most recent call last)",
      "\u001b[1;32m/home/rich/Desktop/Matshub/deep-Dive-1/class_notes/numeric_types/floats_rounding.ipynb Cell 21'\u001b[0m in \u001b[0;36m<cell line: 1>\u001b[0;34m()\u001b[0m\n\u001b[0;32m----> <a href='vscode-notebook-cell:/home/rich/Desktop/Matshub/deep-Dive-1/class_notes/numeric_types/floats_rounding.ipynb#ch0000027?line=0'>1</a>\u001b[0m \u001b[39mround\u001b[39;49m(\u001b[39m-\u001b[39;49m\u001b[39m1.25\u001b[39;49m, \u001b[39m1\u001b[39;49m), \u001b[39mround\u001b[39m(\u001b[39m-\u001b[39m\u001b[39m1.35\u001b[39m, \u001b[39m1\u001b[39m)\n",
      "\u001b[0;31mTypeError\u001b[0m: round() takes 1 positional argument but 2 were given"
     ]
    }
   ],
   "source": [
    "round(-1.25, 1), round(-1.35, 1)"
   ]
  }
 ],
 "metadata": {
  "kernelspec": {
   "display_name": "Python 3.9.2 64-bit",
   "language": "python",
   "name": "python3"
  },
  "language_info": {
   "codemirror_mode": {
    "name": "ipython",
    "version": 3
   },
   "file_extension": ".py",
   "mimetype": "text/x-python",
   "name": "python",
   "nbconvert_exporter": "python",
   "pygments_lexer": "ipython3",
   "version": "3.9.2"
  },
  "vscode": {
   "interpreter": {
    "hash": "e7370f93d1d0cde622a1f8e1c04877d8463912d04d973331ad4851f04de6915a"
   }
  }
 },
 "nbformat": 4,
 "nbformat_minor": 5
}
