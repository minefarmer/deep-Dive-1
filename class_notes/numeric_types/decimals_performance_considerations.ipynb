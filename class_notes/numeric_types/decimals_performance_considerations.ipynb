{
 "cells": [
  {
   "cell_type": "markdown",
   "id": "ace363e9",
   "metadata": {},
   "source": [
    "DECIMALS: PERFORMANCE CONSIDERATIONS"
   ]
  },
  {
   "cell_type": "markdown",
   "id": "d7cf5048",
   "metadata": {},
   "source": [
    "There are some drawbacks to the Decimal class vs the float class.\n",
    "\n",
    "    -not as easy to code: construction via strings or tuples.\n",
    "\n",
    "    -not all mathematical functions that exist in the ,ath module have a Decimal counterpart.\n",
    "\n",
    "    -more memory overhead.\n",
    "\n",
    "    -performance: much slower than floats (relatively)\n"
   ]
  },
  {
   "cell_type": "code",
   "execution_count": 1,
   "id": "ff09940d",
   "metadata": {},
   "outputs": [],
   "source": [
    "from decimal import Decimal\n",
    "import sys"
   ]
  },
  {
   "cell_type": "code",
   "execution_count": 2,
   "id": "961765f4",
   "metadata": {},
   "outputs": [],
   "source": [
    "a = 3.1415\n",
    "b = Decimal('3.1415')"
   ]
  },
  {
   "cell_type": "code",
   "execution_count": 3,
   "id": "4baa55fe",
   "metadata": {},
   "outputs": [
    {
     "data": {
      "text/plain": [
       "24"
      ]
     },
     "execution_count": 3,
     "metadata": {},
     "output_type": "execute_result"
    }
   ],
   "source": [
    "sys.getsizeof(a)"
   ]
  },
  {
   "cell_type": "code",
   "execution_count": 4,
   "id": "6307fd2e",
   "metadata": {},
   "outputs": [
    {
     "data": {
      "text/plain": [
       "104"
      ]
     },
     "execution_count": 4,
     "metadata": {},
     "output_type": "execute_result"
    }
   ],
   "source": [
    "sys.getsizeof(b)"
   ]
  },
  {
   "cell_type": "code",
   "execution_count": 10,
   "id": "bc9f2cf7",
   "metadata": {},
   "outputs": [],
   "source": [
    "import time\n",
    "\n",
    "def run_float(n=1):\n",
    "    for i in range(n):\n",
    "        a = 3.1415\n",
    "\n",
    "def run_decimal(n=1):\n",
    "    for i in range(n):\n",
    "        a = Decimal('3.1415')"
   ]
  },
  {
   "cell_type": "code",
   "execution_count": 7,
   "id": "c35a80e9",
   "metadata": {},
   "outputs": [],
   "source": [
    "n = 10000000"
   ]
  },
  {
   "cell_type": "code",
   "execution_count": 11,
   "id": "0fa53f5d",
   "metadata": {},
   "outputs": [
    {
     "name": "stdout",
     "output_type": "stream",
     "text": [
      "float:  0.20527110000011817\n",
      "float:  2.6950449999999364\n"
     ]
    }
   ],
   "source": [
    "start = time.perf_counter()\n",
    "run_float(n)\n",
    "end = time.perf_counter()\n",
    "print('float: ', end-start)\n",
    "\n",
    "start = time.perf_counter()\n",
    "run_decimal(n)\n",
    "end = time.perf_counter()\n",
    "print('float: ', end-start)\n"
   ]
  },
  {
   "cell_type": "code",
   "execution_count": 13,
   "id": "21ce0d1f",
   "metadata": {},
   "outputs": [
    {
     "name": "stdout",
     "output_type": "stream",
     "text": [
      "float:  0.5326832999999169\n",
      "float:  13.263226999999915\n"
     ]
    }
   ],
   "source": [
    "import math\n",
    "n = 5000000\n",
    "def run_float(n=1):\n",
    "    a = 3.1415\n",
    "    for i in range(n):\n",
    "        math.sqrt(a)\n",
    "\n",
    "def run_decimal(n=1):\n",
    "    a = Decimal('3.1415')\n",
    "    for i in range(n):\n",
    "        a.sqrt()\n",
    "\n",
    "start = time.perf_counter()\n",
    "run_float(n)\n",
    "end = time.perf_counter()\n",
    "print('float: ', end-start)\n",
    "\n",
    "start = time.perf_counter()\n",
    "run_decimal(n)\n",
    "end = time.perf_counter()\n",
    "print('float: ', end-start)"
   ]
  },
  {
   "cell_type": "code",
   "execution_count": null,
   "id": "df06ecc2",
   "metadata": {},
   "outputs": [],
   "source": []
  }
 ],
 "metadata": {
  "kernelspec": {
   "display_name": "Python 3.9.12 ('base')",
   "language": "python",
   "name": "python3"
  },
  "language_info": {
   "codemirror_mode": {
    "name": "ipython",
    "version": 3
   },
   "file_extension": ".py",
   "mimetype": "text/x-python",
   "name": "python",
   "nbconvert_exporter": "python",
   "pygments_lexer": "ipython3",
   "version": "3.9.12"
  },
  "vscode": {
   "interpreter": {
    "hash": "a624adbc5e596fddf72740b255048309200567f23df85867ce297e9f9d364c1b"
   }
  }
 },
 "nbformat": 4,
 "nbformat_minor": 5
}
