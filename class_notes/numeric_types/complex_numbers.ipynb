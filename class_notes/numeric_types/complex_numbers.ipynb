{
 "cells": [
  {
   "cell_type": "markdown",
   "id": "186e6ca1",
   "metadata": {},
   "source": [
    "                COMPLEX NUMBERS"
   ]
  },
  {
   "cell_type": "markdown",
   "id": "8ea7744b",
   "metadata": {},
   "source": [
    "        The complex class\n",
    "                                                                        Literals\n",
    "Constructor:    complex(x, y)       x -> real part                      x + yj  \n",
    "                                    y -> imginery part                  x + yj \n",
    "\n",
    "                (rectangular coordinates)\n",
    "Examples:       a = complex(1, 2)\n",
    "                b = 1 + 2j      \n",
    "                a == b -> True \n",
    "\n",
    "x and y (the real and imaginary parts) are stored as floats.\n"
   ]
  },
  {
   "cell_type": "markdown",
   "id": "c5066307",
   "metadata": {},
   "source": [
    "        Some instance properties and methods\n",
    "\n",
    "    .real       -> returns the real part\n",
    "    .imag       -> returns the imaginary part\n",
    "    .conjugate()-> returns the complex conjugate  \n",
    "\n",
    "    d = 2 - 3j\n",
    "    d.real -> 2\n",
    "    d.imag -> -3\n",
    "    d.conjugate() -> 2 + 3 \n"
   ]
  },
  {
   "cell_type": "markdown",
   "id": "22a8d079",
   "metadata": {},
   "source": [
    "        Arithetic Operators\n",
    "\n",
    "The standard arithmetic Operators (+, -, /, *, **) work as expected with complex numbers.\n",
    "\n",
    "    (1 + 2j) + (3 + 4j) -> 4 + 6j\n",
    "    (1 + 2j) * (3 + 4j) -> 5 + 10j\n",
    "\n",
    "Real and complex numbers can be mixed:\n",
    "\n",
    "    (1 + 2j) + 3  -> 4 + 2j\n",
    "    (1 + 2j) * 3  -> 3 + 6j\n",
    "\n",
    "// and % operators are not supported.\n"
   ]
  },
  {
   "cell_type": "markdown",
   "id": "b87aa5db",
   "metadata": {},
   "source": [
    "        Other Operators\n",
    "\n",
    "The == and != operators are supported.\n",
    "\n",
    "Comparison operators such as <, >m <= and >= are not supported.\n",
    "\n",
    "Functions in math modules will not work.\n",
    "\n",
    "Use the cmath module instead.\n",
    "\n",
    "    exponentials\n",
    "    logs\n",
    "    trigs and inverse trigs\n",
    "    hyperbolics and inverse hyperbolics\n",
    "    polar / rectanglar conversions\n",
    "    isclose\n",
    "\n"
   ]
  },
  {
   "cell_type": "markdown",
   "id": "e5e2e759",
   "metadata": {},
   "source": [
    "        Rectangular to Polar\n",
    "\n",
    "import cmath\n",
    "\n",
    "cmath.phase(x)  Returns the argument (phase) of the complex number x.\n",
    "                    measured counter-clockwise from from the real axis.\n",
    "\n",
    "abs(x)          Returns the nagnitude (r) of x\n",
    "\n",
    "    a = -1 + 0j\n",
    "    cmath.phase(a)...  ( )   abs(a)  -> 1\n",
    "\n",
    "    a = -1j\n",
    "    cmath.phase(a)  -> -1.570... (??)   abs(a) -> 1 \n",
    "\n",
    "    a = 1 + 1j\n",
    "    cmath.phase(a) -> 0.785... (??)     abs(a) -> 1.414... (??) \n"
   ]
  },
  {
   "cell_type": "markdown",
   "id": "b41cd149",
   "metadata": {},
   "source": [
    "            Polar to rectangular\n",
    "import cmath\n",
    "\n",
    "cmath.rect(r, phi)  Returns a complex number (rectangular coordinates) equivalent to the complex defined by (r, phi) in polar coordinates.\n",
    "\n",
    "cmath.rect(math.sqrt*2), math.pi/4) -> 1 + 1j   1.0000000000000002+1.0000000000000002\n"
   ]
  },
  {
   "cell_type": "markdown",
   "id": "2a888320",
   "metadata": {},
   "source": [
    "            Euler's Identity\n",
    "\n",
    "e + 1 = 0\n",
    "cmath.exp(cmath.pi * 1j) + 1\n",
    "                -> 1.2246467991473532e-16j      binary floats tend to spoil the effect!\n",
    "\n",
    "So the next best thing:\n",
    "    cmath.isclose(cmath.exp(cmath.pi*1j) + 1, 0, abs_tol=0.0001)        -> True\n",
    "\n",
    "Do note the same issue with isclose() as we discussed in the float videos.\n",
    "  cmath.isclose(cmath.exp(cmath.pi*1j) + 1, 0)  -> False\n"
   ]
  }
 ],
 "metadata": {
  "kernelspec": {
   "display_name": "Python 3 (ipykernel)",
   "language": "python",
   "name": "python3"
  },
  "language_info": {
   "codemirror_mode": {
    "name": "ipython",
    "version": 3
   },
   "file_extension": ".py",
   "mimetype": "text/x-python",
   "name": "python",
   "nbconvert_exporter": "python",
   "pygments_lexer": "ipython3",
   "version": "3.9.12"
  }
 },
 "nbformat": 4,
 "nbformat_minor": 5
}
