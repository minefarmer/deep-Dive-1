{
 "cells": [
  {
   "cell_type": "markdown",
   "id": "fcb55dc5",
   "metadata": {},
   "source": [
    "CONSTRUCTING DECIMAL OPJECTS"
   ]
  },
  {
   "cell_type": "markdown",
   "id": "cb38c5cf",
   "metadata": {},
   "source": [
    "The decimal class is in the decimal module.     import decimal\n",
    "                                                from decimal import Decimal\n",
    "Decimal(x)      x can be a variety of types.\n",
    "\n",
    "integers            a = Decimal(10)                                 -> 10  \n",
    "\n",
    "other decimal object\n",
    "\n",
    "strings             a = Decimal('0.1')                              -> 0.1\n",
    "\n",
    "tuples              a = Decimal((1, (3, 1, 4, 1, 5), -4))           -> -3.1415  \n",
    "\n",
    "floats?     yes, but not usually done.\n",
    "\n",
    "Decimal(0.1) -> 0.1000000000000000000005551\n",
    "\n",
    "Since 0.1 does not have an exact binary float representation, it cannot be used to create an exact Decimal representation of itself.\n",
    "\n",
    "-> use strings or tuples instead.\n"
   ]
  },
  {
   "cell_type": "markdown",
   "id": "2fa1f0a9",
   "metadata": {},
   "source": [
    "                Using the tuple constructor \n",
    "                        -2\n",
    "    1.23    -> +123 x 10\n",
    "\n",
    "                         -2\n",
    "   -1.23    -> -123 x 10   \\            (s, (d1, d2, d3, ...), exp)     s(x) = | 0 if += 0\n",
    "              /  \\          \\                                                  | 1 if x < 0 \n",
    "             /    \\         exponent\n",
    "          sign     \\\n",
    "                  digits \n",
    "\n",
    "\n",
    "Example: -3.1415        -> (1, (3, 1, 4, 1, 5), -4)\n",
    "\n",
    "a = Decimal((1, (3, 1, 4, 1, 5), -4))       a -> -3.1415 \n"
   ]
  },
  {
   "cell_type": "markdown",
   "id": "d0ab7b4b",
   "metadata": {},
   "source": [
    "            Context Precision and the Constructor\n",
    "\n",
    "Context precision affects mathematical operations\n",
    "\n",
    "Context precision does not affect the constructor\n",
    "\n",
    "    import decimal\n",
    "    from decimal import Decimal\n",
    "\n",
    "    decimal.getcontext().prec = 2   <- global (default) context now has precision set to 2.\n",
    "\n",
    "    a = Decimal( '0.12345' )    a -> 0.12345\n",
    "    b = Decimal( '0.12345' )    b -> 0.12345\n",
    "    c = a + b                   a + b = 0.2469      c -> 0.25\n",
    "\n"
   ]
  },
  {
   "cell_type": "markdown",
   "id": "17d4c23d",
   "metadata": {},
   "source": [
    "            LOCAL VS GLOBAL CONTEXT\n",
    "\n",
    "import decimal\n",
    "from decimal import Decimal\n",
    "\n",
    "decimal.getcontext().prec = 6\n",
    "\n",
    "a = Decimal( '0.12345 ')\n",
    "b = Decimal( '0.12345 ')\n",
    "print(a + b)                -> 0.24690\n",
    "\n",
    "with decimal.localcontext() as ctx:\n",
    "    ctx.prec = 2\n",
    "    c = a + b\n",
    "    print(c)                -> 0.25\n",
    "\n",
    "print(c)                    -> 0.25\n"
   ]
  },
  {
   "cell_type": "code",
   "execution_count": 1,
   "id": "19843446",
   "metadata": {},
   "outputs": [],
   "source": [
    "import decimal\n",
    "from decimal import Decimal"
   ]
  },
  {
   "cell_type": "code",
   "execution_count": 3,
   "id": "4473109b",
   "metadata": {},
   "outputs": [
    {
     "data": {
      "text/plain": [
       "Decimal('10')"
      ]
     },
     "execution_count": 3,
     "metadata": {},
     "output_type": "execute_result"
    }
   ],
   "source": [
    "Decimal(10)"
   ]
  },
  {
   "cell_type": "code",
   "execution_count": 5,
   "id": "cd55efb5",
   "metadata": {},
   "outputs": [
    {
     "data": {
      "text/plain": [
       "Decimal('-10')"
      ]
     },
     "execution_count": 5,
     "metadata": {},
     "output_type": "execute_result"
    }
   ],
   "source": [
    "Decimal(-10)"
   ]
  },
  {
   "cell_type": "code",
   "execution_count": 6,
   "id": "6ef02caf",
   "metadata": {},
   "outputs": [
    {
     "data": {
      "text/plain": [
       "Decimal('10.1')"
      ]
     },
     "execution_count": 6,
     "metadata": {},
     "output_type": "execute_result"
    }
   ],
   "source": [
    "Decimal('10.1')"
   ]
  },
  {
   "cell_type": "code",
   "execution_count": 7,
   "id": "de15d1a8",
   "metadata": {},
   "outputs": [
    {
     "data": {
      "text/plain": [
       "Decimal('-3.1415')"
      ]
     },
     "execution_count": 7,
     "metadata": {},
     "output_type": "execute_result"
    }
   ],
   "source": [
    "Decimal('-3.1415')"
   ]
  },
  {
   "cell_type": "code",
   "execution_count": 8,
   "id": "6f116e9a",
   "metadata": {},
   "outputs": [],
   "source": [
    "t = (0, (3,1,4,1,5), -4)"
   ]
  },
  {
   "cell_type": "code",
   "execution_count": 9,
   "id": "09f3a6a5",
   "metadata": {},
   "outputs": [
    {
     "data": {
      "text/plain": [
       "Decimal('3.1415')"
      ]
     },
     "execution_count": 9,
     "metadata": {},
     "output_type": "execute_result"
    }
   ],
   "source": [
    "Decimal(t)"
   ]
  },
  {
   "cell_type": "code",
   "execution_count": 10,
   "id": "cc1c4a5c",
   "metadata": {},
   "outputs": [
    {
     "ename": "TypeError",
     "evalue": "function takes at most 2 arguments (3 given)",
     "output_type": "error",
     "traceback": [
      "\u001b[1;31m---------------------------------------------------------------------------\u001b[0m",
      "\u001b[1;31mTypeError\u001b[0m                                 Traceback (most recent call last)",
      "\u001b[1;32mc:\\Users\\pgold\\MatHub\\deep-Dive-1\\class_notes\\numeric_types\\constructing_decimal_objects.ipynb Cell 13'\u001b[0m in \u001b[0;36m<cell line: 1>\u001b[1;34m()\u001b[0m\n\u001b[1;32m----> <a href='vscode-notebook-cell:/c%3A/Users/pgold/MatHub/deep-Dive-1/class_notes/numeric_types/constructing_decimal_objects.ipynb#ch0000013?line=0'>1</a>\u001b[0m Decimal(\u001b[39m0\u001b[39;49m, (\u001b[39m3\u001b[39;49m,\u001b[39m1\u001b[39;49m,\u001b[39m4\u001b[39;49m,\u001b[39m1\u001b[39;49m,\u001b[39m5\u001b[39;49m), \u001b[39m-\u001b[39;49m\u001b[39m4\u001b[39;49m)\n",
      "\u001b[1;31mTypeError\u001b[0m: function takes at most 2 arguments (3 given)"
     ]
    }
   ],
   "source": [
    "Decimal(0, (3,1,4,1,5), -4)"
   ]
  },
  {
   "cell_type": "code",
   "execution_count": 11,
   "id": "4cb4a69c",
   "metadata": {},
   "outputs": [
    {
     "data": {
      "text/plain": [
       "Decimal('3.1415')"
      ]
     },
     "execution_count": 11,
     "metadata": {},
     "output_type": "execute_result"
    }
   ],
   "source": [
    "Decimal((0, (3,1,4,1,5), -4))"
   ]
  },
  {
   "cell_type": "code",
   "execution_count": 12,
   "id": "90ae509c",
   "metadata": {},
   "outputs": [
    {
     "data": {
      "text/plain": [
       "Decimal('-3.1415')"
      ]
     },
     "execution_count": 12,
     "metadata": {},
     "output_type": "execute_result"
    }
   ],
   "source": [
    "Decimal((1, (3,1,4,1,5), -4))"
   ]
  },
  {
   "cell_type": "markdown",
   "id": "844a290a",
   "metadata": {},
   "source": [
    "Decimal = 0 for positive and 1 negative."
   ]
  },
  {
   "cell_type": "code",
   "execution_count": 13,
   "id": "f2541aa2",
   "metadata": {},
   "outputs": [
    {
     "data": {
      "text/plain": [
       "Decimal('-31.415')"
      ]
     },
     "execution_count": 13,
     "metadata": {},
     "output_type": "execute_result"
    }
   ],
   "source": [
    "Decimal((1, (3,1,4,1,5), -3))"
   ]
  },
  {
   "cell_type": "markdown",
   "id": "05f0d300",
   "metadata": {},
   "source": [
    "Stay away from floats."
   ]
  },
  {
   "cell_type": "code",
   "execution_count": 14,
   "id": "cf0ed873",
   "metadata": {},
   "outputs": [
    {
     "data": {
      "text/plain": [
       "'0.1000000000000000055511151'"
      ]
     },
     "execution_count": 14,
     "metadata": {},
     "output_type": "execute_result"
    }
   ],
   "source": [
    "format(0.1, '.25f')"
   ]
  },
  {
   "cell_type": "code",
   "execution_count": 16,
   "id": "48478ca0",
   "metadata": {},
   "outputs": [
    {
     "data": {
      "text/plain": [
       "Decimal('0.1000000000000000055511151231257827021181583404541015625')"
      ]
     },
     "execution_count": 16,
     "metadata": {},
     "output_type": "execute_result"
    }
   ],
   "source": [
    "Decimal(0.1)\n",
    "# this is why."
   ]
  },
  {
   "cell_type": "code",
   "execution_count": 17,
   "id": "e30f1463",
   "metadata": {},
   "outputs": [
    {
     "data": {
      "text/plain": [
       "Decimal('0.1')"
      ]
     },
     "execution_count": 17,
     "metadata": {},
     "output_type": "execute_result"
    }
   ],
   "source": [
    "Decimal('0.1')"
   ]
  },
  {
   "cell_type": "code",
   "execution_count": 19,
   "id": "124de2d1",
   "metadata": {},
   "outputs": [
    {
     "data": {
      "text/plain": [
       "False"
      ]
     },
     "execution_count": 19,
     "metadata": {},
     "output_type": "execute_result"
    }
   ],
   "source": [
    "Decimal(0.1) == Decimal('0.1')"
   ]
  },
  {
   "cell_type": "code",
   "execution_count": 20,
   "id": "a2690668",
   "metadata": {},
   "outputs": [
    {
     "data": {
      "text/plain": [
       "True"
      ]
     },
     "execution_count": 20,
     "metadata": {},
     "output_type": "execute_result"
    }
   ],
   "source": [
    "Decimal(10) == Decimal('10')"
   ]
  },
  {
   "cell_type": "code",
   "execution_count": 21,
   "id": "7e1233d0",
   "metadata": {},
   "outputs": [
    {
     "data": {
      "text/plain": [
       "Context(prec=28, rounding=ROUND_HALF_EVEN, Emin=-999999, Emax=999999, capitals=1, clamp=0, flags=[FloatOperation], traps=[InvalidOperation, DivisionByZero, Overflow])"
      ]
     },
     "execution_count": 21,
     "metadata": {},
     "output_type": "execute_result"
    }
   ],
   "source": [
    "decimal.getcontext()"
   ]
  },
  {
   "cell_type": "code",
   "execution_count": 24,
   "id": "a2e7372e",
   "metadata": {},
   "outputs": [
    {
     "name": "stdout",
     "output_type": "stream",
     "text": [
      "0.123456789\n"
     ]
    }
   ],
   "source": [
    "decimal.getcontext().prec = 6\n",
    "a = Decimal('0.123456789')\n",
    "print(a)"
   ]
  },
  {
   "cell_type": "code",
   "execution_count": 23,
   "id": "f17ef1e6",
   "metadata": {},
   "outputs": [
    {
     "data": {
      "text/plain": [
       "Decimal('0.123456789')"
      ]
     },
     "execution_count": 23,
     "metadata": {},
     "output_type": "execute_result"
    }
   ],
   "source": [
    "a"
   ]
  },
  {
   "cell_type": "code",
   "execution_count": 25,
   "id": "5a10699d",
   "metadata": {},
   "outputs": [],
   "source": [
    "decimal.getcontext().prec = 2"
   ]
  },
  {
   "cell_type": "code",
   "execution_count": 26,
   "id": "ef6d3149",
   "metadata": {},
   "outputs": [],
   "source": [
    "a = Decimal('0.12345')"
   ]
  },
  {
   "cell_type": "code",
   "execution_count": 27,
   "id": "e943e3d7",
   "metadata": {},
   "outputs": [
    {
     "data": {
      "text/plain": [
       "Decimal('0.12345')"
      ]
     },
     "execution_count": 27,
     "metadata": {},
     "output_type": "execute_result"
    }
   ],
   "source": [
    "a"
   ]
  },
  {
   "cell_type": "code",
   "execution_count": 28,
   "id": "a3aaee59",
   "metadata": {},
   "outputs": [],
   "source": [
    "a = Decimal('0.12345')\n",
    "b = Decimal('0.12345')"
   ]
  },
  {
   "cell_type": "code",
   "execution_count": 29,
   "id": "89a7e6c4",
   "metadata": {},
   "outputs": [
    {
     "data": {
      "text/plain": [
       "(Decimal('0.12345'), Decimal('0.12345'))"
      ]
     },
     "execution_count": 29,
     "metadata": {},
     "output_type": "execute_result"
    }
   ],
   "source": [
    "a, b"
   ]
  },
  {
   "cell_type": "code",
   "execution_count": 30,
   "id": "a2a9239f",
   "metadata": {},
   "outputs": [
    {
     "data": {
      "text/plain": [
       "0.2469"
      ]
     },
     "execution_count": 30,
     "metadata": {},
     "output_type": "execute_result"
    }
   ],
   "source": [
    "0.12345 + 0.12345"
   ]
  },
  {
   "cell_type": "code",
   "execution_count": 31,
   "id": "14b9151b",
   "metadata": {},
   "outputs": [
    {
     "data": {
      "text/plain": [
       "Decimal('0.25')"
      ]
     },
     "execution_count": 31,
     "metadata": {},
     "output_type": "execute_result"
    }
   ],
   "source": [
    "a + b"
   ]
  },
  {
   "cell_type": "code",
   "execution_count": 32,
   "id": "bc87359d",
   "metadata": {},
   "outputs": [
    {
     "name": "stdout",
     "output_type": "stream",
     "text": [
      "0.25\n",
      "c written local context: 0.25\n",
      "c written local context: 0.25\n"
     ]
    }
   ],
   "source": [
    "a = Decimal('0.12345')\n",
    "b = Decimal('0.12345')\n",
    "print(a + b)\n",
    "with decimal.localcontext() as ctx:\n",
    "    ctx.prec = 2\n",
    "    c = a + b\n",
    "    print('c written local context: {0}'.format(c))\n",
    "print('c written local context: {0}'.format(c))"
   ]
  }
 ],
 "metadata": {
  "kernelspec": {
   "display_name": "Python 3 (ipykernel)",
   "language": "python",
   "name": "python3"
  },
  "language_info": {
   "codemirror_mode": {
    "name": "ipython",
    "version": 3
   },
   "file_extension": ".py",
   "mimetype": "text/x-python",
   "name": "python",
   "nbconvert_exporter": "python",
   "pygments_lexer": "ipython3",
   "version": "3.9.12"
  },
  "vscode": {
   "interpreter": {
    "hash": "a624adbc5e596fddf72740b255048309200567f23df85867ce297e9f9d364c1b"
   }
  }
 },
 "nbformat": 4,
 "nbformat_minor": 5
}
