{
 "cells": [
  {
   "cell_type": "markdown",
   "id": "8bc87d10",
   "metadata": {},
   "source": [
    "BOOLEANS TRUTH VALUES"
   ]
  },
  {
   "cell_type": "markdown",
   "id": "f7b43548",
   "metadata": {},
   "source": [
    "Coding part of Truth Values"
   ]
  },
  {
   "cell_type": "code",
   "execution_count": 16,
   "id": "91a6df00",
   "metadata": {},
   "outputs": [
    {
     "data": {
      "text/plain": [
       "True"
      ]
     },
     "execution_count": 16,
     "metadata": {},
     "output_type": "execute_result"
    }
   ],
   "source": [
    "bool(1)"
   ]
  },
  {
   "cell_type": "code",
   "execution_count": 17,
   "id": "1f0647ae",
   "metadata": {},
   "outputs": [
    {
     "data": {
      "text/plain": [
       "False"
      ]
     },
     "execution_count": 17,
     "metadata": {},
     "output_type": "execute_result"
    }
   ],
   "source": [
    "bool(0)"
   ]
  },
  {
   "cell_type": "code",
   "execution_count": 18,
   "id": "dbf43903",
   "metadata": {},
   "outputs": [
    {
     "data": {
      "text/plain": [
       "True"
      ]
     },
     "execution_count": 18,
     "metadata": {},
     "output_type": "execute_result"
    }
   ],
   "source": [
    "bool(-1)"
   ]
  },
  {
   "cell_type": "code",
   "execution_count": 19,
   "id": "ff3d5dc2",
   "metadata": {},
   "outputs": [
    {
     "data": {
      "text/plain": [
       "True"
      ]
     },
     "execution_count": 19,
     "metadata": {},
     "output_type": "execute_result"
    }
   ],
   "source": [
    "bool(100)"
   ]
  },
  {
   "cell_type": "code",
   "execution_count": 20,
   "id": "6de59105",
   "metadata": {},
   "outputs": [
    {
     "ename": "NameError",
     "evalue": "name 'x' is not defined",
     "output_type": "error",
     "traceback": [
      "\u001b[0;31m---------------------------------------------------------------------------\u001b[0m",
      "\u001b[0;31mNameError\u001b[0m                                 Traceback (most recent call last)",
      "\u001b[1;32m/home/rich/Desktop/Matshub/deep-Dive-1/class_notes/numeric_types/booleans_truth_values.ipynb Cell 7\u001b[0m in \u001b[0;36m<cell line: 1>\u001b[0;34m()\u001b[0m\n\u001b[0;32m----> <a href='vscode-notebook-cell:/home/rich/Desktop/Matshub/deep-Dive-1/class_notes/numeric_types/booleans_truth_values.ipynb#ch0000006?line=0'>1</a>\u001b[0m \u001b[39mbool\u001b[39m(x)\n",
      "\u001b[0;31mNameError\u001b[0m: name 'x' is not defined"
     ]
    }
   ],
   "source": [
    "bool(x)"
   ]
  },
  {
   "cell_type": "code",
   "execution_count": 21,
   "id": "4c6dcd1b",
   "metadata": {},
   "outputs": [
    {
     "data": {
      "text/plain": [
       "True"
      ]
     },
     "execution_count": 21,
     "metadata": {},
     "output_type": "execute_result"
    }
   ],
   "source": [
    "100 != 0"
   ]
  },
  {
   "cell_type": "code",
   "execution_count": 22,
   "id": "f7d5ba1f",
   "metadata": {},
   "outputs": [
    {
     "data": {
      "text/plain": [
       "(False, False)"
      ]
     },
     "execution_count": 22,
     "metadata": {},
     "output_type": "execute_result"
    }
   ],
   "source": [
    "bool(0), 0 != 0"
   ]
  },
  {
   "cell_type": "code",
   "execution_count": 23,
   "id": "008b1352",
   "metadata": {},
   "outputs": [
    {
     "data": {
      "text/plain": [
       "(True, True)"
      ]
     },
     "execution_count": 23,
     "metadata": {},
     "output_type": "execute_result"
    }
   ],
   "source": [
    "bool(100), (100).__bool__()"
   ]
  },
  {
   "cell_type": "code",
   "execution_count": 24,
   "id": "95ae0a49",
   "metadata": {},
   "outputs": [
    {
     "data": {
      "text/plain": [
       "(False, False)"
      ]
     },
     "execution_count": 24,
     "metadata": {},
     "output_type": "execute_result"
    }
   ],
   "source": [
    "bool(0), (0).__bool__()"
   ]
  },
  {
   "cell_type": "markdown",
   "id": "35db044a",
   "metadata": {},
   "source": [
    "see help_list"
   ]
  },
  {
   "cell_type": "code",
   "execution_count": 26,
   "id": "a4e5efe2",
   "metadata": {},
   "outputs": [
    {
     "data": {
      "text/plain": [
       "False"
      ]
     },
     "execution_count": 26,
     "metadata": {},
     "output_type": "execute_result"
    }
   ],
   "source": [
    "bool(0)"
   ]
  },
  {
   "cell_type": "code",
   "execution_count": 28,
   "id": "82c7c832",
   "metadata": {},
   "outputs": [
    {
     "data": {
      "text/plain": [
       "False"
      ]
     },
     "execution_count": 28,
     "metadata": {},
     "output_type": "execute_result"
    }
   ],
   "source": [
    "a = []\n",
    "bool(a)"
   ]
  },
  {
   "cell_type": "code",
   "execution_count": 29,
   "id": "656e91e1",
   "metadata": {},
   "outputs": [
    {
     "data": {
      "text/plain": [
       "0"
      ]
     },
     "execution_count": 29,
     "metadata": {},
     "output_type": "execute_result"
    }
   ],
   "source": [
    "a.__len__()"
   ]
  },
  {
   "cell_type": "code",
   "execution_count": 30,
   "id": "c03f4751",
   "metadata": {},
   "outputs": [
    {
     "data": {
      "text/plain": [
       "False"
      ]
     },
     "execution_count": 30,
     "metadata": {},
     "output_type": "execute_result"
    }
   ],
   "source": [
    "bool(a.__len__())"
   ]
  },
  {
   "cell_type": "code",
   "execution_count": 31,
   "id": "c067b70b",
   "metadata": {},
   "outputs": [
    {
     "data": {
      "text/plain": [
       "(False, False)"
      ]
     },
     "execution_count": 31,
     "metadata": {},
     "output_type": "execute_result"
    }
   ],
   "source": [
    "bool(0.0), bool(0+0j)"
   ]
  },
  {
   "cell_type": "code",
   "execution_count": 32,
   "id": "9dfe748f",
   "metadata": {},
   "outputs": [],
   "source": [
    "from decimal import Decimal\n",
    "from fractions import Fraction"
   ]
  },
  {
   "cell_type": "code",
   "execution_count": 33,
   "id": "e8bd65b8",
   "metadata": {},
   "outputs": [
    {
     "data": {
      "text/plain": [
       "(False, False)"
      ]
     },
     "execution_count": 33,
     "metadata": {},
     "output_type": "execute_result"
    }
   ],
   "source": [
    "bool(Fraction(0, 1)), bool(Decimal('0.0'))"
   ]
  },
  {
   "cell_type": "code",
   "execution_count": 34,
   "id": "fc93244f",
   "metadata": {},
   "outputs": [
    {
     "data": {
      "text/plain": [
       "(True, True, True, True)"
      ]
     },
     "execution_count": 34,
     "metadata": {},
     "output_type": "execute_result"
    }
   ],
   "source": [
    "bool(10.5), bool(1j), bool(Fraction(1, 2)), bool(Decimal('10.5'))"
   ]
  },
  {
   "cell_type": "code",
   "execution_count": 35,
   "id": "eb2465c4",
   "metadata": {},
   "outputs": [],
   "source": [
    "a = []\n",
    "b = ''\n",
    "c = ()"
   ]
  },
  {
   "cell_type": "code",
   "execution_count": 36,
   "id": "cb5b5663",
   "metadata": {},
   "outputs": [
    {
     "data": {
      "text/plain": [
       "(False, False, False)"
      ]
     },
     "execution_count": 36,
     "metadata": {},
     "output_type": "execute_result"
    }
   ],
   "source": [
    "bool(a), bool(b), bool(c)"
   ]
  },
  {
   "cell_type": "code",
   "execution_count": 37,
   "id": "c2694356",
   "metadata": {},
   "outputs": [],
   "source": [
    "a = [1, 2]\n",
    "b = 'abc'\n",
    "c = (1,2)"
   ]
  },
  {
   "cell_type": "code",
   "execution_count": 38,
   "id": "6ea8a785",
   "metadata": {},
   "outputs": [
    {
     "data": {
      "text/plain": [
       "(True, True, True)"
      ]
     },
     "execution_count": 38,
     "metadata": {},
     "output_type": "execute_result"
    }
   ],
   "source": [
    "bool(a), bool(b), bool(c)"
   ]
  },
  {
   "cell_type": "code",
   "execution_count": 40,
   "id": "54766ce0",
   "metadata": {},
   "outputs": [],
   "source": [
    "a ={}\n",
    "b = set()"
   ]
  },
  {
   "cell_type": "code",
   "execution_count": 41,
   "id": "d0130e32",
   "metadata": {},
   "outputs": [
    {
     "data": {
      "text/plain": [
       "({}, set())"
      ]
     },
     "execution_count": 41,
     "metadata": {},
     "output_type": "execute_result"
    }
   ],
   "source": [
    "a, b"
   ]
  },
  {
   "cell_type": "code",
   "execution_count": 42,
   "id": "157daf93",
   "metadata": {},
   "outputs": [
    {
     "data": {
      "text/plain": [
       "(False, False)"
      ]
     },
     "execution_count": 42,
     "metadata": {},
     "output_type": "execute_result"
    }
   ],
   "source": [
    "bool(a), bool(b)"
   ]
  },
  {
   "cell_type": "code",
   "execution_count": 44,
   "id": "f4e0c82b",
   "metadata": {},
   "outputs": [],
   "source": [
    "a ={'a': 1}\n",
    "b = set[1, 2]"
   ]
  },
  {
   "cell_type": "code",
   "execution_count": 45,
   "id": "cb8c35fb",
   "metadata": {},
   "outputs": [
    {
     "data": {
      "text/plain": [
       "({'a': 1}, set[1, 2])"
      ]
     },
     "execution_count": 45,
     "metadata": {},
     "output_type": "execute_result"
    }
   ],
   "source": [
    "a, b"
   ]
  },
  {
   "cell_type": "code",
   "execution_count": 46,
   "id": "a781fe18",
   "metadata": {},
   "outputs": [
    {
     "data": {
      "text/plain": [
       "(True, True)"
      ]
     },
     "execution_count": 46,
     "metadata": {},
     "output_type": "execute_result"
    }
   ],
   "source": [
    "bool(a), bool(b)"
   ]
  },
  {
   "cell_type": "code",
   "execution_count": 47,
   "id": "dc266f5d",
   "metadata": {},
   "outputs": [
    {
     "data": {
      "text/plain": [
       "(True, True)"
      ]
     },
     "execution_count": 47,
     "metadata": {},
     "output_type": "execute_result"
    }
   ],
   "source": [
    "bool(a), bool(b)"
   ]
  },
  {
   "cell_type": "code",
   "execution_count": 48,
   "id": "75617522",
   "metadata": {},
   "outputs": [
    {
     "data": {
      "text/plain": [
       "False"
      ]
     },
     "execution_count": 48,
     "metadata": {},
     "output_type": "execute_result"
    }
   ],
   "source": [
    "bool(None)"
   ]
  },
  {
   "cell_type": "code",
   "execution_count": 50,
   "id": "4c79b03b",
   "metadata": {},
   "outputs": [
    {
     "name": "stdout",
     "output_type": "stream",
     "text": [
      "1\n"
     ]
    }
   ],
   "source": [
    "a =[1, 2, 3]\n",
    "if a is not None and len(a) > 0:\n",
    "    print(a[0])\n",
    "else:\n",
    "    print('Nothing to see here...')"
   ]
  },
  {
   "cell_type": "code",
   "execution_count": 51,
   "id": "fbc9b987",
   "metadata": {},
   "outputs": [
    {
     "name": "stdout",
     "output_type": "stream",
     "text": [
      "1\n"
     ]
    }
   ],
   "source": [
    "if a:\n",
    "    print(a[0])\n",
    "else:\n",
    "    print('Nothing to see here...')"
   ]
  },
  {
   "cell_type": "code",
   "execution_count": 52,
   "id": "440c5f39",
   "metadata": {},
   "outputs": [
    {
     "name": "stdout",
     "output_type": "stream",
     "text": [
      "Nothing to see here...\n"
     ]
    }
   ],
   "source": [
    "a = []\n",
    "if a:\n",
    "    print(a[0])\n",
    "else:\n",
    "    print('Nothing to see here...')"
   ]
  },
  {
   "cell_type": "code",
   "execution_count": 53,
   "id": "5d9e004d",
   "metadata": {},
   "outputs": [
    {
     "name": "stdout",
     "output_type": "stream",
     "text": [
      "Nothing to see here...\n"
     ]
    }
   ],
   "source": [
    "a = None\n",
    "if a:\n",
    "    print(a[0])\n",
    "else:\n",
    "    print('Nothing to see here...')"
   ]
  },
  {
   "cell_type": "code",
   "execution_count": 60,
   "id": "d5fb0d55",
   "metadata": {},
   "outputs": [
    {
     "ename": "TypeError",
     "evalue": "object of type 'NoneType' has no len()",
     "output_type": "error",
     "traceback": [
      "\u001b[0;31m---------------------------------------------------------------------------\u001b[0m",
      "\u001b[0;31mTypeError\u001b[0m                                 Traceback (most recent call last)",
      "\u001b[1;32m/home/rich/Desktop/Matshub/deep-Dive-1/class_notes/numeric_types/booleans_truth_values.ipynb Cell 37\u001b[0m in \u001b[0;36m<cell line: 2>\u001b[0;34m()\u001b[0m\n\u001b[1;32m      <a href='vscode-notebook-cell:/home/rich/Desktop/Matshub/deep-Dive-1/class_notes/numeric_types/booleans_truth_values.ipynb#ch0000038?line=0'>1</a>\u001b[0m a \u001b[39m=\u001b[39m \u001b[39mNone\u001b[39;00m\n\u001b[0;32m----> <a href='vscode-notebook-cell:/home/rich/Desktop/Matshub/deep-Dive-1/class_notes/numeric_types/booleans_truth_values.ipynb#ch0000038?line=1'>2</a>\u001b[0m \u001b[39mif\u001b[39;00m \u001b[39mlen\u001b[39;49m(a) \u001b[39m>\u001b[39m \u001b[39m0\u001b[39m \u001b[39mand\u001b[39;00m a \u001b[39mis\u001b[39;00m \u001b[39mnot\u001b[39;00m \u001b[39mNone\u001b[39;00m:\n\u001b[1;32m      <a href='vscode-notebook-cell:/home/rich/Desktop/Matshub/deep-Dive-1/class_notes/numeric_types/booleans_truth_values.ipynb#ch0000038?line=2'>3</a>\u001b[0m     \u001b[39mprint\u001b[39m(a[\u001b[39m0\u001b[39m])\n\u001b[1;32m      <a href='vscode-notebook-cell:/home/rich/Desktop/Matshub/deep-Dive-1/class_notes/numeric_types/booleans_truth_values.ipynb#ch0000038?line=3'>4</a>\u001b[0m \u001b[39melse\u001b[39;00m:\n",
      "\u001b[0;31mTypeError\u001b[0m: object of type 'NoneType' has no len()"
     ]
    }
   ],
   "source": [
    "a = None\n",
    "if len(a) > 0 and a is not None:\n",
    "    print(a[0])\n",
    "else:\n",
    "    print('Nothing to see here...')"
   ]
  },
  {
   "cell_type": "code",
   "execution_count": null,
   "id": "07902637",
   "metadata": {},
   "outputs": [],
   "source": []
  }
 ],
 "metadata": {
  "kernelspec": {
   "display_name": "Python 3 (ipykernel)",
   "language": "python",
   "name": "python3"
  },
  "language_info": {
   "codemirror_mode": {
    "name": "ipython",
    "version": 3
   },
   "file_extension": ".py",
   "mimetype": "text/x-python",
   "name": "python",
   "nbconvert_exporter": "python",
   "pygments_lexer": "ipython3",
   "version": "3.9.12"
  },
  "vscode": {
   "interpreter": {
    "hash": "a624adbc5e596fddf72740b255048309200567f23df85867ce297e9f9d364c1b"
   }
  }
 },
 "nbformat": 4,
 "nbformat_minor": 5
}
