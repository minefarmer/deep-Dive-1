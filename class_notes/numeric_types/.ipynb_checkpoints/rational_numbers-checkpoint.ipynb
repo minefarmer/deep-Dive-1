{
 "cells": [
  {
   "cell_type": "code",
   "execution_count": null,
   "id": "7606cd7f",
   "metadata": {},
   "outputs": [],
   "source": [
    "RATIONAL NUMBERS"
   ]
  },
  {
   "cell_type": "markdown",
   "id": "5df02577",
   "metadata": {},
   "source": [
    "                Rational numbers are fractions of interger numbers.\n",
    "Ex:  1/2  -22/7\n",
    "\n",
    "Any real number with a finite number of digits after the decimal point is also a rational number.\n",
    "0.45  ->  45/100            0.123456789 ->  123456789/10\\9  # ten  to the 9th power\n",
    "\n",
    "So 8.3/4 is also a rational 8.3/4 = 83/10/ = 83/10x 1/4 = 83/40\n",
    "                                     /4\n"
   ]
  },
  {
   "cell_type": "markdown",
   "id": "a5d89fa1",
   "metadata": {},
   "source": [
    "                The Fraction class\n",
    "Rational numbers can be represented in Python using the Fraction class in the fractions module.\n",
    "\n",
    "from Fractions import Fraction\n",
    "\n",
    "x = Fraction(3, 4)\n",
    "y = Fraction(22, 7)\n",
    "z = Fraction(6, 10)\n",
    "\n",
    "Fractions are automatically reduced:\n",
    "    Fraction(6, 10) -> Fraction(3, 5)\n"
   ]
  },
  {
   "cell_type": "markdown",
   "id": "ec41ad37",
   "metadata": {},
   "source": [
    "                Constructors\n",
    "\n",
    "Fraction(numerator=0, denominator=1)  # Do not specify the numertor when = 0, or the denominator when = 1.\n",
    "\n",
    "Fraction(other_fraction)  # Can create a fraction from another fraction.\n",
    "\n",
    "Fraction(float)  # We don't create a fraction from a float.\n",
    "\n",
    "Fraction(decimal)  # We don't create a fraction from a decimal.\n",
    "\n",
    "Fraction(string)\n",
    "    Fraction('10')  -> Fraction(10, 1)\n",
    "    Fraction('0.125') -> Fraction(1, 8)\n",
    "    Fraction('22/7')  -> Fraction(22, 7)\n",
    "\n",
    "Standard arithmatic operators are supported: +, -, *, /\n",
    "                                            and the result in Fraction objects as well.\n",
    "\n",
    "2/3x1/2=2/6=1/3     Fraction(2, 3) * Fraction(1, 2) -> Fraction(1, 2)\n",
    "\n",
    "\n",
    "Getting the numerator and denominator of Fraction objects:\n",
    "\n",
    "    x = Fraction(22, 7)\n",
    "    x.numerator         -> 22\n",
    "    x. denominator      -> 7\n",
    "\n"
   ]
  },
  {
   "cell_type": "markdown",
   "id": "8a659ecc",
   "metadata": {},
   "source": [
    "        Float objects have finite precision     => any float object can be written as a fraction!\n",
    "\n",
    "Fraction(0.75)  => Fraction(3, 4)\n",
    "Fraction(1.375) => Fraction(11, 8)\n",
    "\n",
    "\n",
    "import math\n",
    "\n",
    "x = Fraction(math.pi)           => Fraction(884279719003555, 281474976710656)\n",
    "y = Fraction(math.sqrt(2))      => Fraction(6369051672525773, 4503599627370496)\n",
    "                       __\n",
    "Even thought (py) and /2 ae poth irational\n",
    "    Internally represnetated as floats.\n",
    " => finite precision real number\n",
    " => expressible as a rational number\n",
    "    but it is an approximation\n"
   ]
  },
  {
   "cell_type": "markdown",
   "id": "28c3e75a",
   "metadata": {},
   "source": [
    "        Converting a float to a Fraction has an important caveat.\n",
    "\n",
    "We will examine that in a later video\n",
    "\n",
    "1/8 has an exact float representation\n",
    "    Fraction(0.125)   -> Fraction(1, 8)\n",
    "\n",
    "3/10 does not have an exact float representation.\n",
    "    Fraction(0.3)     -> Fraction(5404319552844595, 18014398509481984)\n",
    "    format(0.3, ' .5f') ->  0.3000\n",
    "    format(0.3, ' .25f') -> 0.199999999999999888977698\n"
   ]
  },
  {
   "cell_type": "markdown",
   "id": "3507595b",
   "metadata": {},
   "source": [
    "            Constraining the denominator.\n",
    "Given a Fraction object, we can find an approximate equivalent fraction with a constraning denominator.\n",
    "\n",
    "    Using the limit_denominator(max_denominator=1000000) instance method.\n",
    "i.e finds the closest rational.  (which could be precisely equal) with a denominator that does not exceedmax_denominator.\n",
    "\n",
    "x = Fraction(math.pi)   -> Fraction(884279719003555, 281474976710656)\n",
    "            evaluates to:  3.14592653589793\n",
    "\n",
    "x. limit_denominator(10) -> Fraction(22, 7)\n",
    "                            3.1428571428571443\n",
    "\n",
    "x.limit_denominator(100)  -> Fraction(311, 99)\n",
    "                             3.1414141414141\n",
    "x.limit_denominator(500)  -> Fraction(355, 113)\n"
   ]
  },
  {
   "cell_type": "code",
   "execution_count": null,
   "id": "0ea16994",
   "metadata": {},
   "outputs": [],
   "source": []
  }
 ],
 "metadata": {
  "kernelspec": {
   "display_name": "Python 3 (ipykernel)",
   "language": "python",
   "name": "python3"
  },
  "language_info": {
   "codemirror_mode": {
    "name": "ipython",
    "version": 3
   },
   "file_extension": ".py",
   "mimetype": "text/x-python",
   "name": "python",
   "nbconvert_exporter": "python",
   "pygments_lexer": "ipython3",
   "version": "3.9.12"
  },
  "vscode": {
   "interpreter": {
    "hash": "0d39b9ca25346db2d4fbd64f0fe44090b1a521776e9bcf0dda43e48cea0d85ae"
   }
  }
 },
 "nbformat": 4,
 "nbformat_minor": 5
}
