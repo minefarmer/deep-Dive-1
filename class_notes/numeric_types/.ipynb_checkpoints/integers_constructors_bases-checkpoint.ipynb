{
 "cells": [
  {
   "cell_type": "markdown",
   "id": "e85b9cd4",
   "metadata": {},
   "source": [
    "Integers, constructors and bases"
   ]
  },
  {
   "cell_type": "markdown",
   "id": "da01321b",
   "metadata": {},
   "source": [
    "An integer number is an object - an instance of the int class.\n",
    "\n",
    "The int class provides multiple constructors.\n",
    "\n",
    "    a = int (10)\n",
    "\n",
    "    a = int (-10)\n",
    "\n",
    "Other numerical data types are also supported in the argument of the int constructor:\n",
    "\n",
    "    a = int(10.9)   ----------> truncation: a-> 10\n",
    "\n",
    "    a = int(-10.9)  ----------> truncation: a -> -10\n"
   ]
  }
 ],
 "metadata": {
  "kernelspec": {
   "display_name": "Python 3 (ipykernel)",
   "language": "python",
   "name": "python3"
  },
  "language_info": {
   "codemirror_mode": {
    "name": "ipython",
    "version": 3
   },
   "file_extension": ".py",
   "mimetype": "text/x-python",
   "name": "python",
   "nbconvert_exporter": "python",
   "pygments_lexer": "ipython3",
   "version": "3.9.12"
  }
 },
 "nbformat": 4,
 "nbformat_minor": 5
}
