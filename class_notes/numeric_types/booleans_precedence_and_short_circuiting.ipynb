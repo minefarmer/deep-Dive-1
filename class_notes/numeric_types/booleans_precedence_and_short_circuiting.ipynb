{
 "cells": [
  {
   "cell_type": "markdown",
   "id": "5f6faa39",
   "metadata": {},
   "source": [
    "                    Booleans: Precedence and Short Circuiting"
   ]
  },
  {
   "cell_type": "code",
   "execution_count": null,
   "id": "c410f82b",
   "metadata": {},
   "outputs": [],
   "source": [
    "not --> and --> or"
   ]
  },
  {
   "cell_type": "code",
   "execution_count": 1,
   "id": "a1bfff0c",
   "metadata": {},
   "outputs": [
    {
     "data": {
      "text/plain": [
       "True"
      ]
     },
     "execution_count": 1,
     "metadata": {},
     "output_type": "execute_result"
    }
   ],
   "source": [
    "True or True and False"
   ]
  },
  {
   "cell_type": "code",
   "execution_count": 1,
   "id": "eae7812c",
   "metadata": {},
   "outputs": [
    {
     "data": {
      "text/plain": [
       "True"
      ]
     },
     "execution_count": 1,
     "metadata": {},
     "output_type": "execute_result"
    }
   ],
   "source": [
    "True or (True and False)"
   ]
  },
  {
   "cell_type": "code",
   "execution_count": 2,
   "id": "e25db699",
   "metadata": {},
   "outputs": [
    {
     "data": {
      "text/plain": [
       "False"
      ]
     },
     "execution_count": 2,
     "metadata": {},
     "output_type": "execute_result"
    }
   ],
   "source": [
    "(True or True) and False"
   ]
  },
  {
   "cell_type": "markdown",
   "id": "01270d55",
   "metadata": {},
   "source": [
    "                        Short-Circuiting"
   ]
  },
  {
   "cell_type": "markdown",
   "id": "82aff6a5",
   "metadata": {},
   "source": [
    "True or Y --> True\n",
    "\n",
    "False and Y --> False"
   ]
  },
  {
   "cell_type": "code",
   "execution_count": 3,
   "id": "7a352723",
   "metadata": {},
   "outputs": [
    {
     "name": "stdout",
     "output_type": "stream",
     "text": [
      "a is at least twice b\n"
     ]
    }
   ],
   "source": [
    "a = 10\n",
    "b = 2\n",
    "\n",
    "if a/b > 2:\n",
    "    print('a is at least twice b')"
   ]
  },
  {
   "cell_type": "code",
   "execution_count": 4,
   "id": "1e81300b",
   "metadata": {},
   "outputs": [
    {
     "ename": "ZeroDivisionError",
     "evalue": "division by zero",
     "output_type": "error",
     "traceback": [
      "\u001b[1;31m---------------------------------------------------------------------------\u001b[0m",
      "\u001b[1;31mZeroDivisionError\u001b[0m                         Traceback (most recent call last)",
      "\u001b[1;32mc:\\Users\\pgold\\MatsHub\\deep-Dive-1\\class_notes\\numeric_types\\booleans_precedence_and_short_circuiting.ipynb Cell 9\u001b[0m in \u001b[0;36m<cell line: 4>\u001b[1;34m()\u001b[0m\n\u001b[0;32m      <a href='vscode-notebook-cell:/c%3A/Users/pgold/MatsHub/deep-Dive-1/class_notes/numeric_types/booleans_precedence_and_short_circuiting.ipynb#X11sZmlsZQ%3D%3D?line=0'>1</a>\u001b[0m a \u001b[39m=\u001b[39m \u001b[39m10\u001b[39m\n\u001b[0;32m      <a href='vscode-notebook-cell:/c%3A/Users/pgold/MatsHub/deep-Dive-1/class_notes/numeric_types/booleans_precedence_and_short_circuiting.ipynb#X11sZmlsZQ%3D%3D?line=1'>2</a>\u001b[0m b \u001b[39m=\u001b[39m \u001b[39m0\u001b[39m\n\u001b[1;32m----> <a href='vscode-notebook-cell:/c%3A/Users/pgold/MatsHub/deep-Dive-1/class_notes/numeric_types/booleans_precedence_and_short_circuiting.ipynb#X11sZmlsZQ%3D%3D?line=3'>4</a>\u001b[0m \u001b[39mif\u001b[39;00m a\u001b[39m/\u001b[39;49mb \u001b[39m>\u001b[39m \u001b[39m2\u001b[39m:\n\u001b[0;32m      <a href='vscode-notebook-cell:/c%3A/Users/pgold/MatsHub/deep-Dive-1/class_notes/numeric_types/booleans_precedence_and_short_circuiting.ipynb#X11sZmlsZQ%3D%3D?line=4'>5</a>\u001b[0m     \u001b[39mprint\u001b[39m(\u001b[39m'\u001b[39m\u001b[39ma is at least twice b\u001b[39m\u001b[39m'\u001b[39m)\n",
      "\u001b[1;31mZeroDivisionError\u001b[0m: division by zero"
     ]
    }
   ],
   "source": [
    "a = 10\n",
    "b = 0\n",
    "\n",
    "if a/b > 2:\n",
    "    print('a is at least twice b')"
   ]
  },
  {
   "cell_type": "code",
   "execution_count": 5,
   "id": "e64ff58a",
   "metadata": {},
   "outputs": [],
   "source": [
    "if b > 0 and a/b > 2:\n",
    "    print('a is at least twice b')"
   ]
  },
  {
   "cell_type": "code",
   "execution_count": 7,
   "id": "4956c730",
   "metadata": {},
   "outputs": [],
   "source": [
    "a = 10\n",
    "b = 0\n",
    "\n",
    "if b and a/b > 2:\n",
    "        print(\"a is at least twice b\")"
   ]
  },
  {
   "cell_type": "code",
   "execution_count": 8,
   "id": "11e20aea",
   "metadata": {},
   "outputs": [],
   "source": [
    "a = 10\n",
    "b = None\n",
    "\n",
    "if b and a/b > 2:\n",
    "        print(\"a is at least twice b\")"
   ]
  },
  {
   "cell_type": "code",
   "execution_count": 9,
   "id": "154c0529",
   "metadata": {},
   "outputs": [
    {
     "ename": "TypeError",
     "evalue": "'>' not supported between instances of 'NoneType' and 'int'",
     "output_type": "error",
     "traceback": [
      "\u001b[1;31m---------------------------------------------------------------------------\u001b[0m",
      "\u001b[1;31mTypeError\u001b[0m                                 Traceback (most recent call last)",
      "\u001b[1;32mc:\\Users\\pgold\\MatsHub\\deep-Dive-1\\class_notes\\numeric_types\\booleans_precedence_and_short_circuiting.ipynb Cell 13\u001b[0m in \u001b[0;36m<cell line: 4>\u001b[1;34m()\u001b[0m\n\u001b[0;32m      <a href='vscode-notebook-cell:/c%3A/Users/pgold/MatsHub/deep-Dive-1/class_notes/numeric_types/booleans_precedence_and_short_circuiting.ipynb#X15sZmlsZQ%3D%3D?line=0'>1</a>\u001b[0m a \u001b[39m=\u001b[39m \u001b[39m10\u001b[39m\n\u001b[0;32m      <a href='vscode-notebook-cell:/c%3A/Users/pgold/MatsHub/deep-Dive-1/class_notes/numeric_types/booleans_precedence_and_short_circuiting.ipynb#X15sZmlsZQ%3D%3D?line=1'>2</a>\u001b[0m b \u001b[39m=\u001b[39m \u001b[39mNone\u001b[39;00m\n\u001b[1;32m----> <a href='vscode-notebook-cell:/c%3A/Users/pgold/MatsHub/deep-Dive-1/class_notes/numeric_types/booleans_precedence_and_short_circuiting.ipynb#X15sZmlsZQ%3D%3D?line=3'>4</a>\u001b[0m \u001b[39mif\u001b[39;00m b \u001b[39m>\u001b[39;49m \u001b[39m0\u001b[39;49m \u001b[39mand\u001b[39;00m a\u001b[39m/\u001b[39mb \u001b[39m>\u001b[39m \u001b[39m2\u001b[39m:\n\u001b[0;32m      <a href='vscode-notebook-cell:/c%3A/Users/pgold/MatsHub/deep-Dive-1/class_notes/numeric_types/booleans_precedence_and_short_circuiting.ipynb#X15sZmlsZQ%3D%3D?line=4'>5</a>\u001b[0m         \u001b[39mprint\u001b[39m(\u001b[39m\"\u001b[39m\u001b[39ma is at least twice b\u001b[39m\u001b[39m\"\u001b[39m)\n",
      "\u001b[1;31mTypeError\u001b[0m: '>' not supported between instances of 'NoneType' and 'int'"
     ]
    }
   ],
   "source": [
    "a = 10\n",
    "b = None\n",
    "\n",
    "if b > 0 and a/b > 2:\n",
    "        print(\"a is at least twice b\")"
   ]
  },
  {
   "cell_type": "code",
   "execution_count": 10,
   "id": "ef8ae61b",
   "metadata": {},
   "outputs": [],
   "source": [
    "import string"
   ]
  },
  {
   "cell_type": "code",
   "execution_count": 11,
   "id": "05276b36",
   "metadata": {},
   "outputs": [
    {
     "name": "stdout",
     "output_type": "stream",
     "text": [
      "Help on module string:\n",
      "\n",
      "NAME\n",
      "    string - A collection of string constants.\n",
      "\n",
      "MODULE REFERENCE\n",
      "    https://docs.python.org/3.9/library/string\n",
      "    \n",
      "    The following documentation is automatically generated from the Python\n",
      "    source files.  It may be incomplete, incorrect or include features that\n",
      "    are considered implementation detail and may vary between Python\n",
      "    implementations.  When in doubt, consult the module reference at the\n",
      "    location listed above.\n",
      "\n",
      "DESCRIPTION\n",
      "    Public module variables:\n",
      "    \n",
      "    whitespace -- a string containing all ASCII whitespace\n",
      "    ascii_lowercase -- a string containing all ASCII lowercase letters\n",
      "    ascii_uppercase -- a string containing all ASCII uppercase letters\n",
      "    ascii_letters -- a string containing all ASCII letters\n",
      "    digits -- a string containing all ASCII decimal digits\n",
      "    hexdigits -- a string containing all ASCII hexadecimal digits\n",
      "    octdigits -- a string containing all ASCII octal digits\n",
      "    punctuation -- a string containing all ASCII punctuation characters\n",
      "    printable -- a string containing all ASCII characters considered printable\n",
      "\n",
      "CLASSES\n",
      "    builtins.object\n",
      "        Formatter\n",
      "        Template\n",
      "    \n",
      "    class Formatter(builtins.object)\n",
      "     |  Methods defined here:\n",
      "     |  \n",
      "     |  check_unused_args(self, used_args, args, kwargs)\n",
      "     |  \n",
      "     |  convert_field(self, value, conversion)\n",
      "     |  \n",
      "     |  format(self, format_string, /, *args, **kwargs)\n",
      "     |  \n",
      "     |  format_field(self, value, format_spec)\n",
      "     |  \n",
      "     |  get_field(self, field_name, args, kwargs)\n",
      "     |      # given a field_name, find the object it references.\n",
      "     |      #  field_name:   the field being looked up, e.g. \"0.name\"\n",
      "     |      #                 or \"lookup[3]\"\n",
      "     |      #  used_args:    a set of which args have been used\n",
      "     |      #  args, kwargs: as passed in to vformat\n",
      "     |  \n",
      "     |  get_value(self, key, args, kwargs)\n",
      "     |  \n",
      "     |  parse(self, format_string)\n",
      "     |      # returns an iterable that contains tuples of the form:\n",
      "     |      # (literal_text, field_name, format_spec, conversion)\n",
      "     |      # literal_text can be zero length\n",
      "     |      # field_name can be None, in which case there's no\n",
      "     |      #  object to format and output\n",
      "     |      # if field_name is not None, it is looked up, formatted\n",
      "     |      #  with format_spec and conversion and then used\n",
      "     |  \n",
      "     |  vformat(self, format_string, args, kwargs)\n",
      "     |  \n",
      "     |  ----------------------------------------------------------------------\n",
      "     |  Data descriptors defined here:\n",
      "     |  \n",
      "     |  __dict__\n",
      "     |      dictionary for instance variables (if defined)\n",
      "     |  \n",
      "     |  __weakref__\n",
      "     |      list of weak references to the object (if defined)\n",
      "    \n",
      "    class Template(builtins.object)\n",
      "     |  Template(template)\n",
      "     |  \n",
      "     |  A string class for supporting $-substitutions.\n",
      "     |  \n",
      "     |  Methods defined here:\n",
      "     |  \n",
      "     |  __init__(self, template)\n",
      "     |      Initialize self.  See help(type(self)) for accurate signature.\n",
      "     |  \n",
      "     |  safe_substitute(self, mapping={}, /, **kws)\n",
      "     |  \n",
      "     |  substitute(self, mapping={}, /, **kws)\n",
      "     |  \n",
      "     |  ----------------------------------------------------------------------\n",
      "     |  Class methods defined here:\n",
      "     |  \n",
      "     |  __init_subclass__() from builtins.type\n",
      "     |      This method is called when a class is subclassed.\n",
      "     |      \n",
      "     |      The default implementation does nothing. It may be\n",
      "     |      overridden to extend subclasses.\n",
      "     |  \n",
      "     |  ----------------------------------------------------------------------\n",
      "     |  Data descriptors defined here:\n",
      "     |  \n",
      "     |  __dict__\n",
      "     |      dictionary for instance variables (if defined)\n",
      "     |  \n",
      "     |  __weakref__\n",
      "     |      list of weak references to the object (if defined)\n",
      "     |  \n",
      "     |  ----------------------------------------------------------------------\n",
      "     |  Data and other attributes defined here:\n",
      "     |  \n",
      "     |  braceidpattern = None\n",
      "     |  \n",
      "     |  delimiter = '$'\n",
      "     |  \n",
      "     |  flags = re.IGNORECASE\n",
      "     |  \n",
      "     |  idpattern = '(?a:[_a-z][_a-z0-9]*)'\n",
      "     |  \n",
      "     |  pattern = re.compile('\\n            \\\\$(?:\\n              ...identifie...\n",
      "\n",
      "FUNCTIONS\n",
      "    capwords(s, sep=None)\n",
      "        capwords(s [,sep]) -> string\n",
      "        \n",
      "        Split the argument into words using split, capitalize each\n",
      "        word using capitalize, and join the capitalized words using\n",
      "        join.  If the optional second argument sep is absent or None,\n",
      "        runs of whitespace characters are replaced by a single space\n",
      "        and leading and trailing whitespace are removed, otherwise\n",
      "        sep is used to split and join the words.\n",
      "\n",
      "DATA\n",
      "    __all__ = ['ascii_letters', 'ascii_lowercase', 'ascii_uppercase', 'cap...\n",
      "    ascii_letters = 'abcdefghijklmnopqrstuvwxyzABCDEFGHIJKLMNOPQRSTUVWXYZ'\n",
      "    ascii_lowercase = 'abcdefghijklmnopqrstuvwxyz'\n",
      "    ascii_uppercase = 'ABCDEFGHIJKLMNOPQRSTUVWXYZ'\n",
      "    digits = '0123456789'\n",
      "    hexdigits = '0123456789abcdefABCDEF'\n",
      "    octdigits = '01234567'\n",
      "    printable = '0123456789abcdefghijklmnopqrstuvwxyzABCDEFGHIJKLMNOPQRSTU...\n",
      "    punctuation = '!\"#$%&\\'()*+,-./:;<=>?@[\\\\]^_`{|}~'\n",
      "    whitespace = ' \\t\\n\\r\\x0b\\x0c'\n",
      "\n",
      "FILE\n",
      "    c:\\program files\\windowsapps\\pythonsoftwarefoundation.python.3.9_3.9.3568.0_x64__qbz5n2kfra8p0\\lib\\string.py\n",
      "\n",
      "\n"
     ]
    }
   ],
   "source": [
    "help(string)"
   ]
  },
  {
   "cell_type": "code",
   "execution_count": 12,
   "id": "89546518",
   "metadata": {},
   "outputs": [
    {
     "data": {
      "text/plain": [
       "False"
      ]
     },
     "execution_count": 12,
     "metadata": {},
     "output_type": "execute_result"
    }
   ],
   "source": [
    "a = 'c'\n",
    "a in string.ascii_uppercase"
   ]
  },
  {
   "cell_type": "code",
   "execution_count": 13,
   "id": "726f4243",
   "metadata": {},
   "outputs": [
    {
     "data": {
      "text/plain": [
       "'ABCDEFGHIJKLMNOPQRSTUVWXYZ'"
      ]
     },
     "execution_count": 13,
     "metadata": {},
     "output_type": "execute_result"
    }
   ],
   "source": [
    "string.ascii_uppercase"
   ]
  },
  {
   "cell_type": "code",
   "execution_count": 14,
   "id": "060ddd11",
   "metadata": {},
   "outputs": [
    {
     "data": {
      "text/plain": [
       "'0123456789'"
      ]
     },
     "execution_count": 14,
     "metadata": {},
     "output_type": "execute_result"
    }
   ],
   "source": [
    "string.digits"
   ]
  },
  {
   "cell_type": "code",
   "execution_count": 15,
   "id": "c496806a",
   "metadata": {},
   "outputs": [
    {
     "data": {
      "text/plain": [
       "'abcdefghijklmnopqrstuvwxyzABCDEFGHIJKLMNOPQRSTUVWXYZ'"
      ]
     },
     "execution_count": 15,
     "metadata": {},
     "output_type": "execute_result"
    }
   ],
   "source": [
    "string.ascii_letters"
   ]
  },
  {
   "cell_type": "code",
   "execution_count": 16,
   "id": "6078bfd7",
   "metadata": {},
   "outputs": [],
   "source": [
    "name = 'Bob'\n",
    "if name[0] in string.digits:\n",
    "    print('name cannot start with a digit.')"
   ]
  },
  {
   "cell_type": "code",
   "execution_count": 17,
   "id": "506904f1",
   "metadata": {},
   "outputs": [
    {
     "name": "stdout",
     "output_type": "stream",
     "text": [
      "name cannot start with a digit.\n"
     ]
    }
   ],
   "source": [
    "name = '1Bob'\n",
    "if name[0] in string.digits:\n",
    "    print('name cannot start with a digit.')"
   ]
  },
  {
   "cell_type": "code",
   "execution_count": 18,
   "id": "b2665260",
   "metadata": {},
   "outputs": [
    {
     "ename": "IndexError",
     "evalue": "string index out of range",
     "output_type": "error",
     "traceback": [
      "\u001b[1;31m---------------------------------------------------------------------------\u001b[0m",
      "\u001b[1;31mIndexError\u001b[0m                                Traceback (most recent call last)",
      "\u001b[1;32mc:\\Users\\pgold\\MatsHub\\deep-Dive-1\\class_notes\\numeric_types\\booleans_precedence_and_short_circuiting.ipynb Cell 22\u001b[0m in \u001b[0;36m<cell line: 2>\u001b[1;34m()\u001b[0m\n\u001b[0;32m      <a href='vscode-notebook-cell:/c%3A/Users/pgold/MatsHub/deep-Dive-1/class_notes/numeric_types/booleans_precedence_and_short_circuiting.ipynb#X30sZmlsZQ%3D%3D?line=0'>1</a>\u001b[0m name \u001b[39m=\u001b[39m \u001b[39m'\u001b[39m\u001b[39m'\u001b[39m\n\u001b[1;32m----> <a href='vscode-notebook-cell:/c%3A/Users/pgold/MatsHub/deep-Dive-1/class_notes/numeric_types/booleans_precedence_and_short_circuiting.ipynb#X30sZmlsZQ%3D%3D?line=1'>2</a>\u001b[0m \u001b[39mif\u001b[39;00m name[\u001b[39m0\u001b[39;49m] \u001b[39min\u001b[39;00m string\u001b[39m.\u001b[39mdigits:\n\u001b[0;32m      <a href='vscode-notebook-cell:/c%3A/Users/pgold/MatsHub/deep-Dive-1/class_notes/numeric_types/booleans_precedence_and_short_circuiting.ipynb#X30sZmlsZQ%3D%3D?line=2'>3</a>\u001b[0m     \u001b[39mprint\u001b[39m(\u001b[39m'\u001b[39m\u001b[39mname cannot start with a digit.\u001b[39m\u001b[39m'\u001b[39m)\n",
      "\u001b[1;31mIndexError\u001b[0m: string index out of range"
     ]
    }
   ],
   "source": [
    "name = ''\n",
    "if name[0] in string.digits:\n",
    "    print('name cannot start with a digit.')"
   ]
  },
  {
   "cell_type": "code",
   "execution_count": 23,
   "id": "f56d7bc7",
   "metadata": {},
   "outputs": [
    {
     "name": "stdout",
     "output_type": "stream",
     "text": [
      "name cannot start with a digit.\n"
     ]
    }
   ],
   "source": [
    "name = '0'\n",
    "if name and name[0] in string.digits:\n",
    "    print('name cannot start with a digit.')"
   ]
  }
 ],
 "metadata": {
  "kernelspec": {
   "display_name": "Python 3.9.13 64-bit (microsoft store)",
   "language": "python",
   "name": "python3"
  },
  "language_info": {
   "codemirror_mode": {
    "name": "ipython",
    "version": 3
   },
   "file_extension": ".py",
   "mimetype": "text/x-python",
   "name": "python",
   "nbconvert_exporter": "python",
   "pygments_lexer": "ipython3",
   "version": "3.9.13"
  },
  "vscode": {
   "interpreter": {
    "hash": "ade0c43015c1571a0e966fe63d6ca9bc6f881f818ef80fb3cfba28dcf27f6d81"
   }
  }
 },
 "nbformat": 4,
 "nbformat_minor": 5
}
