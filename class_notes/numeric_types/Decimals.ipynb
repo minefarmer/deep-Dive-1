{
 "cells": [
  {
   "cell_type": "markdown",
   "id": "877d1504",
   "metadata": {},
   "source": [
    "            Decimals"
   ]
  },
  {
   "cell_type": "markdown",
   "id": "1be61293",
   "metadata": {},
   "source": [
    "The decimal Module  (PEP 327)\n",
    "\n",
    "float 0.1   -> infinate binary expansion    (0.1) = (0.0 0011 0011 0011 ...)\n",
    "                                                10                         2\n",
    "                                                     1   1   1   1   1    1\n",
    "                                                  = ___+___+___+___+____+____+ ...\n",
    "                                                     16 32  256 512 4096 8192\n",
    "\n",
    "                                                      1\n",
    "            -> finite decimal expresion     (0.1)  = ___\n",
    "                                                10    10\n",
    "\n",
    "Alternative to using the (binary) float type    -> avoids the approximation issues with floats\n",
    "\n",
    "    finite number of significant digits   -> rational number    (see videos on rationals)\n",
    "\n",
    "So, why not use the Fraction class?\n",
    "\n",
    "    to add two fractions  -> common denominator\n",
    "\n",
    "                          -> complex, requires extra memory\n",
    "\n",
    "Why do we even care?    Why not just use binary floats?\n",
    "    Finance, banking, and any other field where exact finite representations are highly desireable.\n",
    "    Let's say we are adding up all the financial transactions that took place over a certain period of time.\n",
    "\n",
    "    amount = $100.01    1,000,000,000 transactions.     NYSE: 2-6 billion shares traded daily\n",
    "        100.01 -> 100.01000000000000005115907675\n",
    "           sum -> $100010000000.00  (exact decimal)\n",
    "           $100009998761.1463928222656250000000000   (approximate binaty float)\n",
    "           $1238.85.... off!!\n",
    "\n"
   ]
  },
  {
   "cell_type": "markdown",
   "id": "0457fbae",
   "metadata": {},
   "source": [
    "Decimals have a contxt that controls certain aspects of working with decimals.\n",
    "    precision during arithmetic operations\n",
    "    rounding algorithm\n",
    "\n",
    "This context can be global      -> the default context\n",
    "    or temporary (local)         -> sets temporary settings without affecting the global settings.\n",
    "\n",
    "\n",
    "import decimal\n",
    "\n",
    "default context     -> decimal.getcontext()\n",
    "\n",
    "local context       -> decimal.localcontext(ctx=None)\n",
    "                        creates a new context, copied from ctx or from default if ctx is not specified.\n",
    "                        returns a context manager (use a with statement)\n",
    "\n",
    "\n"
   ]
  },
  {
   "cell_type": "markdown",
   "id": "e1ba0332",
   "metadata": {},
   "source": [
    "Precision and Rounding\n",
    "ctx = decimal.getcontext()  -> context (global in this case)  # ctx = context\n",
    "ctx.prec        -> get or ste the precision (value is an int)\n",
    "ctx.rounding    -> get or set the rounding mechanism (value is a string)\n",
    "\n",
    "# ALL UPPER CASE\n",
    "round_up            rounds away from zero\n",
    "round_down          rounds toward zero\n",
    "round_ceiling       rounds to ceiling (towards + (top))\n",
    "round_floor         rounds to floor (towards -(bottom))\n",
    "round_half_up       rounds to nearest, ties away from zero\n",
    "round_half_down     rounds to nearest, ties toward zero\n",
    "round_half_even     rounds to nearest, ties to even (least significant digit)\n",
    " ^\\ float rounding algorithm"
   ]
  },
  {
   "cell_type": "markdown",
   "id": "3eefbdae",
   "metadata": {},
   "source": [
    "        Working with Global and Local contxts\n",
    "\n",
    "    Global\n",
    "\n",
    "decimal.getcontext().rounding = deimal.ROUND_HALF_UP\n",
    "// decimal operations here will use the current default context.\n",
    "\n",
    "\n",
    "    Local\n",
    "with drcimal.localcontext() as ctx:\n",
    "    ctx.prec = 2\n",
    "    ctx.rounding = decimal.ROUND_HALF_UP\n",
    "\n",
    "# decimal operations performed here will use the ctx context\n",
    "\n"
   ]
  },
  {
   "cell_type": "markdown",
   "id": "999413bc",
   "metadata": {},
   "source": [
    "Coding Decimals"
   ]
  },
  {
   "cell_type": "code",
   "execution_count": 1,
   "id": "9b7f3592",
   "metadata": {},
   "outputs": [],
   "source": [
    "import decimal\n",
    "from decimal import Decimal"
   ]
  },
  {
   "cell_type": "code",
   "execution_count": 3,
   "id": "8af15d38",
   "metadata": {},
   "outputs": [
    {
     "data": {
      "text/plain": [
       "Context(prec=28, rounding=ROUND_HALF_EVEN, Emin=-999999, Emax=999999, capitals=1, clamp=0, flags=[], traps=[InvalidOperation, DivisionByZero, Overflow])"
      ]
     },
     "execution_count": 3,
     "metadata": {},
     "output_type": "execute_result"
    }
   ],
   "source": [
    "decimal.getcontext()"
   ]
  },
  {
   "cell_type": "code",
   "execution_count": 4,
   "id": "376c2b24",
   "metadata": {},
   "outputs": [
    {
     "data": {
      "text/plain": [
       "28"
      ]
     },
     "execution_count": 4,
     "metadata": {},
     "output_type": "execute_result"
    }
   ],
   "source": [
    "decimal.getcontext().prec"
   ]
  },
  {
   "cell_type": "code",
   "execution_count": 5,
   "id": "2e95dde7",
   "metadata": {},
   "outputs": [
    {
     "data": {
      "text/plain": [
       "'ROUND_HALF_EVEN'"
      ]
     },
     "execution_count": 5,
     "metadata": {},
     "output_type": "execute_result"
    }
   ],
   "source": [
    "decimal.getcontext().rounding"
   ]
  },
  {
   "cell_type": "code",
   "execution_count": 6,
   "id": "b8fa8005",
   "metadata": {},
   "outputs": [],
   "source": [
    "decimal.getcontext().prec = 6"
   ]
  },
  {
   "cell_type": "code",
   "execution_count": 7,
   "id": "389e3a07",
   "metadata": {},
   "outputs": [
    {
     "data": {
      "text/plain": [
       "Context(prec=6, rounding=ROUND_HALF_EVEN, Emin=-999999, Emax=999999, capitals=1, clamp=0, flags=[], traps=[InvalidOperation, DivisionByZero, Overflow])"
      ]
     },
     "execution_count": 7,
     "metadata": {},
     "output_type": "execute_result"
    }
   ],
   "source": [
    "decimal.getcontext()"
   ]
  },
  {
   "cell_type": "code",
   "execution_count": 8,
   "id": "5f5ffad0",
   "metadata": {},
   "outputs": [],
   "source": [
    "g_ctx = decimal.getcontext()"
   ]
  },
  {
   "cell_type": "code",
   "execution_count": 9,
   "id": "1f1def38",
   "metadata": {},
   "outputs": [
    {
     "data": {
      "text/plain": [
       "decimal.Context"
      ]
     },
     "execution_count": 9,
     "metadata": {},
     "output_type": "execute_result"
    }
   ],
   "source": [
    "type(g_ctx)"
   ]
  },
  {
   "cell_type": "code",
   "execution_count": 12,
   "id": "e456df83",
   "metadata": {},
   "outputs": [],
   "source": [
    "g_ctx.rounding = decimal.ROUND_HALF_UP"
   ]
  },
  {
   "cell_type": "code",
   "execution_count": 13,
   "id": "698bc415",
   "metadata": {},
   "outputs": [
    {
     "data": {
      "text/plain": [
       "str"
      ]
     },
     "execution_count": 13,
     "metadata": {},
     "output_type": "execute_result"
    }
   ],
   "source": [
    "type(decimal.ROUND_HALF_UP)"
   ]
  },
  {
   "cell_type": "code",
   "execution_count": 14,
   "id": "6c595604",
   "metadata": {},
   "outputs": [
    {
     "data": {
      "text/plain": [
       "'ROUND_HALF_UP'"
      ]
     },
     "execution_count": 14,
     "metadata": {},
     "output_type": "execute_result"
    }
   ],
   "source": [
    "decimal.ROUND_HALF_UP"
   ]
  },
  {
   "cell_type": "code",
   "execution_count": 15,
   "id": "95e1fb2a",
   "metadata": {},
   "outputs": [
    {
     "data": {
      "text/plain": [
       "Context(prec=6, rounding=ROUND_HALF_UP, Emin=-999999, Emax=999999, capitals=1, clamp=0, flags=[], traps=[InvalidOperation, DivisionByZero, Overflow])"
      ]
     },
     "execution_count": 15,
     "metadata": {},
     "output_type": "execute_result"
    }
   ],
   "source": [
    "decimal.getcontext()"
   ]
  },
  {
   "cell_type": "code",
   "execution_count": 16,
   "id": "f3a48c25",
   "metadata": {},
   "outputs": [],
   "source": [
    "g_ctx.prec = 28\n",
    "g_ctx.rounding = decimal.ROUND_HALF_DOWN"
   ]
  },
  {
   "cell_type": "code",
   "execution_count": 17,
   "id": "59d97fb6",
   "metadata": {},
   "outputs": [
    {
     "data": {
      "text/plain": [
       "Context(prec=28, rounding=ROUND_HALF_DOWN, Emin=-999999, Emax=999999, capitals=1, clamp=0, flags=[], traps=[InvalidOperation, DivisionByZero, Overflow])"
      ]
     },
     "execution_count": 17,
     "metadata": {},
     "output_type": "execute_result"
    }
   ],
   "source": [
    "decimal.getcontext()"
   ]
  },
  {
   "cell_type": "code",
   "execution_count": 18,
   "id": "51756253",
   "metadata": {},
   "outputs": [
    {
     "data": {
      "text/plain": [
       "<decimal.ContextManager at 0x7f60d8816f10>"
      ]
     },
     "execution_count": 18,
     "metadata": {},
     "output_type": "execute_result"
    }
   ],
   "source": [
    "decimal.localcontext()"
   ]
  },
  {
   "cell_type": "code",
   "execution_count": 19,
   "id": "77a14df9",
   "metadata": {},
   "outputs": [
    {
     "data": {
      "text/plain": [
       "decimal.Context"
      ]
     },
     "execution_count": 19,
     "metadata": {},
     "output_type": "execute_result"
    }
   ],
   "source": [
    "type(decimal.getcontext())"
   ]
  },
  {
   "cell_type": "code",
   "execution_count": 20,
   "id": "e31a1a84",
   "metadata": {},
   "outputs": [
    {
     "name": "stdout",
     "output_type": "stream",
     "text": [
      "<class 'decimal.Context'>\n",
      "Context(prec=28, rounding=ROUND_HALF_DOWN, Emin=-999999, Emax=999999, capitals=1, clamp=0, flags=[], traps=[InvalidOperation, DivisionByZero, Overflow])\n"
     ]
    }
   ],
   "source": [
    "with decimal.localcontext() as ctx:\n",
    "    print(type(ctx))\n",
    "    print(ctx)"
   ]
  },
  {
   "cell_type": "code",
   "execution_count": 29,
   "id": "71266022",
   "metadata": {},
   "outputs": [
    {
     "name": "stdout",
     "output_type": "stream",
     "text": [
      "Context(prec=6, rounding=ROUND_HALF_UP, Emin=-999999, Emax=999999, capitals=1, clamp=0, flags=[], traps=[InvalidOperation, DivisionByZero, Overflow])\n",
      "Context(prec=6, rounding=ROUND_HALF_UP, Emin=-999999, Emax=999999, capitals=1, clamp=0, flags=[], traps=[InvalidOperation, DivisionByZero, Overflow])\n",
      "True\n"
     ]
    }
   ],
   "source": [
    "with decimal.localcontext() as ctx:\n",
    "    ctx.prec = 6\n",
    "    ctx.rounding = decimal.ROUND_HALF_UP\n",
    "    print(ctx)\n",
    "    print(decimal.getcontext())\n",
    "    print(id(ctx) == id(decimal.getcontext()))"
   ]
  },
  {
   "cell_type": "code",
   "execution_count": 31,
   "id": "60ac71b9",
   "metadata": {},
   "outputs": [],
   "source": [
    "x = Decimal('1.25')\n",
    "y = Decimal('1.35')"
   ]
  },
  {
   "cell_type": "code",
   "execution_count": 34,
   "id": "48d96a32",
   "metadata": {},
   "outputs": [
    {
     "name": "stdout",
     "output_type": "stream",
     "text": [
      "1.3\n",
      "1.4\n",
      "1.2\n",
      "1.3\n"
     ]
    }
   ],
   "source": [
    "with decimal.localcontext() as ctx:\n",
    "    ctx.prec = 6\n",
    "    ctx.rounding = decimal.ROUND_HALF_UP\n",
    "    print(round(x, 1))\n",
    "    print(round(y, 1))\n",
    "print(round(x, 1))\n",
    "print(round(y, 1))\n",
    "    "
   ]
  }
 ],
 "metadata": {
  "kernelspec": {
   "display_name": "Python 3 (ipykernel)",
   "language": "python",
   "name": "python3"
  },
  "language_info": {
   "codemirror_mode": {
    "name": "ipython",
    "version": 3
   },
   "file_extension": ".py",
   "mimetype": "text/x-python",
   "name": "python",
   "nbconvert_exporter": "python",
   "pygments_lexer": "ipython3",
   "version": "3.9.12"
  },
  "vscode": {
   "interpreter": {
    "hash": "0d39b9ca25346db2d4fbd64f0fe44090b1a521776e9bcf0dda43e48cea0d85ae"
   }
  }
 },
 "nbformat": 4,
 "nbformat_minor": 5
}
