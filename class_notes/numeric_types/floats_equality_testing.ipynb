{
 "cells": [
  {
   "cell_type": "markdown",
   "id": "02735fd2",
   "metadata": {},
   "source": [
    "## Floats: Equality testing"
   ]
  },
  {
   "cell_type": "markdown",
   "id": "f01b6973",
   "metadata": {},
   "source": [
    "PEP45 for more information"
   ]
  },
  {
   "cell_type": "code",
   "execution_count": null,
   "id": "a582848e",
   "metadata": {},
   "outputs": [],
   "source": [
    "'''\n",
    "TODO: 38\n",
    "'''"
   ]
  }
 ],
 "metadata": {
  "kernelspec": {
   "display_name": "Python 3 (ipykernel)",
   "language": "python",
   "name": "python3"
  },
  "language_info": {
   "codemirror_mode": {
    "name": "ipython",
    "version": 3
   },
   "file_extension": ".py",
   "mimetype": "text/x-python",
   "name": "python",
   "nbconvert_exporter": "python",
   "pygments_lexer": "ipython3",
   "version": "3.9.12"
  }
 },
 "nbformat": 4,
 "nbformat_minor": 5
}
