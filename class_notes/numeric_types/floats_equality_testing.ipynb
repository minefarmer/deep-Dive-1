{
 "cells": [
  {
   "cell_type": "markdown",
   "id": "02735fd2",
   "metadata": {},
   "source": [
    "## Floats: Equality testing"
   ]
  },
  {
   "cell_type": "markdown",
   "id": "f01b6973",
   "metadata": {},
   "source": [
    "PEP45 for more information"
   ]
  },
  {
   "cell_type": "code",
   "execution_count": 1,
   "id": "7195962b",
   "metadata": {},
   "outputs": [],
   "source": [
    "x = 0.1"
   ]
  },
  {
   "cell_type": "code",
   "execution_count": 2,
   "id": "4685d57c",
   "metadata": {},
   "outputs": [
    {
     "data": {
      "text/plain": [
       "'0.1000000000000000055511151'"
      ]
     },
     "execution_count": 2,
     "metadata": {},
     "output_type": "execute_result"
    }
   ],
   "source": [
    "format(x, '.25f')"
   ]
  },
  {
   "cell_type": "code",
   "execution_count": 3,
   "id": "c52a3491",
   "metadata": {},
   "outputs": [
    {
     "name": "stdout",
     "output_type": "stream",
     "text": [
      "0.1\n"
     ]
    }
   ],
   "source": [
    "print(x)"
   ]
  },
  {
   "cell_type": "code",
   "execution_count": 4,
   "id": "61afd35c",
   "metadata": {},
   "outputs": [],
   "source": [
    "x = 0.125"
   ]
  },
  {
   "cell_type": "code",
   "execution_count": 5,
   "id": "54cd908d",
   "metadata": {},
   "outputs": [
    {
     "data": {
      "text/plain": [
       "'0.1250000000000000000000000'"
      ]
     },
     "execution_count": 5,
     "metadata": {},
     "output_type": "execute_result"
    }
   ],
   "source": [
    "format(x, '.25f')"
   ]
  },
  {
   "cell_type": "code",
   "execution_count": 6,
   "id": "0a888fbf",
   "metadata": {},
   "outputs": [],
   "source": [
    "x = 0.125 + 0.125 + 0.125"
   ]
  },
  {
   "cell_type": "code",
   "execution_count": 7,
   "id": "972c0307",
   "metadata": {},
   "outputs": [],
   "source": [
    "y = 0.375"
   ]
  },
  {
   "cell_type": "code",
   "execution_count": 8,
   "id": "ca571c1f",
   "metadata": {},
   "outputs": [
    {
     "data": {
      "text/plain": [
       "True"
      ]
     },
     "execution_count": 8,
     "metadata": {},
     "output_type": "execute_result"
    }
   ],
   "source": [
    "x == y"
   ]
  },
  {
   "cell_type": "code",
   "execution_count": 9,
   "id": "c749e9a9",
   "metadata": {},
   "outputs": [],
   "source": [
    "x = 0.1 + 0.1 + 0.1\n",
    "y = 0.3"
   ]
  },
  {
   "cell_type": "code",
   "execution_count": 10,
   "id": "7561f18b",
   "metadata": {},
   "outputs": [
    {
     "data": {
      "text/plain": [
       "False"
      ]
     },
     "execution_count": 10,
     "metadata": {},
     "output_type": "execute_result"
    }
   ],
   "source": [
    "x == y"
   ]
  },
  {
   "cell_type": "code",
   "execution_count": 11,
   "id": "4f53984e",
   "metadata": {},
   "outputs": [
    {
     "data": {
      "text/plain": [
       "'0.3000000000000000444089210'"
      ]
     },
     "execution_count": 11,
     "metadata": {},
     "output_type": "execute_result"
    }
   ],
   "source": [
    "format(x, '.25f')"
   ]
  },
  {
   "cell_type": "code",
   "execution_count": 12,
   "id": "1c9cdd3c",
   "metadata": {},
   "outputs": [
    {
     "data": {
      "text/plain": [
       "True"
      ]
     },
     "execution_count": 12,
     "metadata": {},
     "output_type": "execute_result"
    }
   ],
   "source": [
    "round(y, 3) == round(y, 3)"
   ]
  },
  {
   "cell_type": "code",
   "execution_count": 17,
   "id": "29d6778c",
   "metadata": {},
   "outputs": [
    {
     "data": {
      "text/plain": [
       "1.000000999999"
      ]
     },
     "execution_count": 17,
     "metadata": {},
     "output_type": "execute_result"
    }
   ],
   "source": [
    "x = 10000.01\n",
    "y = 10000.02\n",
    "y / x"
   ]
  },
  {
   "cell_type": "code",
   "execution_count": 19,
   "id": "7d0f6e69",
   "metadata": {},
   "outputs": [
    {
     "data": {
      "text/plain": [
       "2.0"
      ]
     },
     "execution_count": 19,
     "metadata": {},
     "output_type": "execute_result"
    }
   ],
   "source": [
    "x = 0.01\n",
    "y = 0.02\n",
    "y / x"
   ]
  },
  {
   "cell_type": "code",
   "execution_count": 15,
   "id": "8bab151b",
   "metadata": {},
   "outputs": [],
   "source": [
    "# delta = 0.1"
   ]
  },
  {
   "cell_type": "code",
   "execution_count": 18,
   "id": "ccef07c3",
   "metadata": {},
   "outputs": [
    {
     "data": {
      "text/plain": [
       "10000.0"
      ]
     },
     "execution_count": 18,
     "metadata": {},
     "output_type": "execute_result"
    }
   ],
   "source": [
    "round(x, 1)"
   ]
  },
  {
   "cell_type": "code",
   "execution_count": 20,
   "id": "d3ba20e5",
   "metadata": {},
   "outputs": [],
   "source": [
    "from math import isclose"
   ]
  },
  {
   "cell_type": "code",
   "execution_count": 21,
   "id": "71d8e4ae",
   "metadata": {},
   "outputs": [
    {
     "name": "stdout",
     "output_type": "stream",
     "text": [
      "Help on built-in function isclose in module math:\n",
      "\n",
      "isclose(a, b, *, rel_tol=1e-09, abs_tol=0.0)\n",
      "    Determine whether two floating point numbers are close in value.\n",
      "    \n",
      "      rel_tol\n",
      "        maximum difference for being considered \"close\", relative to the\n",
      "        magnitude of the input values\n",
      "      abs_tol\n",
      "        maximum difference for being considered \"close\", regardless of the\n",
      "        magnitude of the input values\n",
      "    \n",
      "    Return True if a is close in value to b, and False otherwise.\n",
      "    \n",
      "    For the values to be considered close, the difference between them\n",
      "    must be smaller than at least one of the tolerances.\n",
      "    \n",
      "    -inf, inf and NaN behave similarly to the IEEE 754 Standard.  That\n",
      "    is, NaN is not close to anything, even itself.  inf and -inf are\n",
      "    only close to themselves.\n",
      "\n"
     ]
    }
   ],
   "source": [
    "help(isclose)"
   ]
  },
  {
   "cell_type": "code",
   "execution_count": 22,
   "id": "a8ff53c9",
   "metadata": {},
   "outputs": [],
   "source": [
    "x = 0.1 + 0.1 + 0.1\n",
    "y = 0.3"
   ]
  },
  {
   "cell_type": "code",
   "execution_count": 23,
   "id": "b7330261",
   "metadata": {},
   "outputs": [
    {
     "data": {
      "text/plain": [
       "True"
      ]
     },
     "execution_count": 23,
     "metadata": {},
     "output_type": "execute_result"
    }
   ],
   "source": [
    "isclose(x, y)"
   ]
  },
  {
   "cell_type": "code",
   "execution_count": 24,
   "id": "87d89350",
   "metadata": {},
   "outputs": [
    {
     "data": {
      "text/plain": [
       "False"
      ]
     },
     "execution_count": 24,
     "metadata": {},
     "output_type": "execute_result"
    }
   ],
   "source": [
    "x == y"
   ]
  },
  {
   "cell_type": "code",
   "execution_count": 27,
   "id": "46d6ff5c",
   "metadata": {},
   "outputs": [
    {
     "data": {
      "text/plain": [
       "True"
      ]
     },
     "execution_count": 27,
     "metadata": {},
     "output_type": "execute_result"
    }
   ],
   "source": [
    "x = 123456789.01\n",
    "y = 123456789.02\n",
    "isclose(x, y, rel_tol=0.01)"
   ]
  },
  {
   "cell_type": "code",
   "execution_count": 28,
   "id": "f88ded58",
   "metadata": {},
   "outputs": [
    {
     "data": {
      "text/plain": [
       "False"
      ]
     },
     "execution_count": 28,
     "metadata": {},
     "output_type": "execute_result"
    }
   ],
   "source": [
    "x = 0.01\n",
    "y = 0.02\n",
    "isclose(x, y, rel_tol=0.01)"
   ]
  },
  {
   "cell_type": "code",
   "execution_count": 29,
   "id": "e41697d0",
   "metadata": {},
   "outputs": [
    {
     "data": {
      "text/plain": [
       "False"
      ]
     },
     "execution_count": 29,
     "metadata": {},
     "output_type": "execute_result"
    }
   ],
   "source": [
    "x = 0.0000001\n",
    "y = 0.0000002\n",
    "isclose(x, y, rel_tol=0.01)"
   ]
  },
  {
   "cell_type": "code",
   "execution_count": 30,
   "id": "82bf252a",
   "metadata": {},
   "outputs": [
    {
     "data": {
      "text/plain": [
       "True"
      ]
     },
     "execution_count": 30,
     "metadata": {},
     "output_type": "execute_result"
    }
   ],
   "source": [
    "isclose(x, y, rel_tol=0.01, abs_tol=0.01)"
   ]
  },
  {
   "cell_type": "code",
   "execution_count": 32,
   "id": "8dc51e59",
   "metadata": {},
   "outputs": [
    {
     "name": "stdout",
     "output_type": "stream",
     "text": [
      "True\n",
      "True\n"
     ]
    }
   ],
   "source": [
    "x = 0.0000001\n",
    "y = 0.0000002\n",
    "\n",
    "a = 123456789.01\n",
    "b = 123456789.02\n",
    "\n",
    "print(isclose(x, y, abs_tol=0.0001, rel_tol=0.01))\n",
    "print(isclose(a, b, abs_tol=0.0001, rel_tol=0.01))"
   ]
  }
 ],
 "metadata": {
  "kernelspec": {
   "display_name": "Python 3.9.13 64-bit (microsoft store)",
   "language": "python",
   "name": "python3"
  },
  "language_info": {
   "codemirror_mode": {
    "name": "ipython",
    "version": 3
   },
   "file_extension": ".py",
   "mimetype": "text/x-python",
   "name": "python",
   "nbconvert_exporter": "python",
   "pygments_lexer": "ipython3",
   "version": "3.9.13"
  },
  "vscode": {
   "interpreter": {
    "hash": "ade0c43015c1571a0e966fe63d6ca9bc6f881f818ef80fb3cfba28dcf27f6d81"
   }
  }
 },
 "nbformat": 4,
 "nbformat_minor": 5
}
