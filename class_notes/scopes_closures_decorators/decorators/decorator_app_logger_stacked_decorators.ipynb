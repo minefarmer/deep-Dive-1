{
 "cells": [
  {
   "cell_type": "markdown",
   "id": "f1192c2a",
   "metadata": {},
   "source": [
    "                        Decorator App (Logger, Stacked Decorators)"
   ]
  },
  {
   "cell_type": "code",
   "execution_count": 80,
   "id": "6be4bfa0",
   "metadata": {},
   "outputs": [],
   "source": [
    "def logged(fn):\n",
    "    from functools import wraps\n",
    "    from datetime import datetime, timezone\n",
    "    \n",
    "    @wraps(fn)\n",
    "    def inner(*args, **kwargs):\n",
    "        run_dt = datetime.now(timezone.utc)\n",
    "        result = fn(*args, **kwargs)\n",
    "        print('{0}: called {1}'.format(run_dt, fn.__name__))\n",
    "        return result\n",
    "\n",
    "    return inner"
   ]
  },
  {
   "cell_type": "code",
   "execution_count": 81,
   "id": "ae6fdc42",
   "metadata": {},
   "outputs": [],
   "source": [
    "@logged\n",
    "def func_1():\n",
    "    pass"
   ]
  },
  {
   "cell_type": "code",
   "execution_count": 82,
   "id": "5ab638df",
   "metadata": {},
   "outputs": [],
   "source": [
    "@logged\n",
    "def func_2():\n",
    "    pass"
   ]
  },
  {
   "cell_type": "code",
   "execution_count": 83,
   "id": "6c2c7887",
   "metadata": {},
   "outputs": [
    {
     "name": "stdout",
     "output_type": "stream",
     "text": [
      "2022-09-25 01:54:21.128268+00:00: called func_1\n"
     ]
    }
   ],
   "source": [
    "func_1()"
   ]
  },
  {
   "cell_type": "code",
   "execution_count": 84,
   "id": "8cf5e9f3",
   "metadata": {},
   "outputs": [
    {
     "name": "stdout",
     "output_type": "stream",
     "text": [
      "2022-09-25 01:54:21.188126+00:00: called func_2\n"
     ]
    }
   ],
   "source": [
    "func_2()"
   ]
  },
  {
   "cell_type": "code",
   "execution_count": 85,
   "id": "1012e421",
   "metadata": {},
   "outputs": [],
   "source": [
    "def timed(fn):\n",
    "    from functools import wraps\n",
    "    from datetime import datetime, timezone\n",
    "    \n",
    "    @wraps(fn)\n",
    "    def inner(*args, **kwargs):\n",
    "        start = perf_counter()\n",
    "        result = fn(*args, **kwargs)\n",
    "        end = perf_counter()\n",
    "        print('{0}: ran for {1:.6f}s'.format(fn.__name__, end-start))\n",
    "        return result\n",
    "\n",
    "    return inner"
   ]
  },
  {
   "cell_type": "code",
   "execution_count": 86,
   "id": "51456c1e",
   "metadata": {},
   "outputs": [],
   "source": [
    "@logged\n",
    "def fact(n):\n",
    "    from operator import mul\n",
    "    from functools import reduce\n",
    "\n",
    "    return reduce(mul, range(1, n+1))"
   ]
  },
  {
   "cell_type": "code",
   "execution_count": 87,
   "id": "868ee865",
   "metadata": {},
   "outputs": [
    {
     "name": "stdout",
     "output_type": "stream",
     "text": [
      "2022-09-25 01:54:21.393135+00:00: called fact\n"
     ]
    },
    {
     "data": {
      "text/plain": [
       "6"
      ]
     },
     "execution_count": 87,
     "metadata": {},
     "output_type": "execute_result"
    }
   ],
   "source": [
    "fact(3)"
   ]
  },
  {
   "cell_type": "code",
   "execution_count": 88,
   "id": "06fcf438",
   "metadata": {},
   "outputs": [],
   "source": [
    "def fact(n):\n",
    "    from operator import mul\n",
    "    from functools import reduce\n",
    "\n",
    "    return reduce(mul, range(1, n+1))"
   ]
  },
  {
   "cell_type": "code",
   "execution_count": 89,
   "id": "e92bb3d4",
   "metadata": {},
   "outputs": [],
   "source": [
    "fact = logged(timed(fact))"
   ]
  },
  {
   "cell_type": "code",
   "execution_count": 90,
   "id": "ef34229a",
   "metadata": {},
   "outputs": [],
   "source": [
    "def fact(n):\n",
    "    from operator import mul\n",
    "    from functools import reduce\n",
    "\n",
    "    return reduce(mul, range(1, n+1))"
   ]
  },
  {
   "cell_type": "code",
   "execution_count": 91,
   "id": "b3550ab2",
   "metadata": {},
   "outputs": [],
   "source": [
    "fact = logged(timed(fact))"
   ]
  },
  {
   "cell_type": "code",
   "execution_count": 92,
   "id": "7d6650da",
   "metadata": {},
   "outputs": [
    {
     "ename": "NameError",
     "evalue": "name 'perf_counter' is not defined",
     "output_type": "error",
     "traceback": [
      "\u001b[1;31m---------------------------------------------------------------------------\u001b[0m",
      "\u001b[1;31mNameError\u001b[0m                                 Traceback (most recent call last)",
      "\u001b[1;32mc:\\Users\\pgold\\MatsHub\\deep-Dive-1\\class_notes\\scopes_closures_decorators\\decorators\\decorator_app_logger_stacked_decorators.ipynb Cell 14\u001b[0m in \u001b[0;36m<cell line: 1>\u001b[1;34m()\u001b[0m\n\u001b[1;32m----> <a href='vscode-notebook-cell:/c%3A/Users/pgold/MatsHub/deep-Dive-1/class_notes/scopes_closures_decorators/decorators/decorator_app_logger_stacked_decorators.ipynb#X20sZmlsZQ%3D%3D?line=0'>1</a>\u001b[0m fact()\n",
      "\u001b[1;32mc:\\Users\\pgold\\MatsHub\\deep-Dive-1\\class_notes\\scopes_closures_decorators\\decorators\\decorator_app_logger_stacked_decorators.ipynb Cell 14\u001b[0m in \u001b[0;36mlogged.<locals>.inner\u001b[1;34m(*args, **kwargs)\u001b[0m\n\u001b[0;32m      <a href='vscode-notebook-cell:/c%3A/Users/pgold/MatsHub/deep-Dive-1/class_notes/scopes_closures_decorators/decorators/decorator_app_logger_stacked_decorators.ipynb#X20sZmlsZQ%3D%3D?line=4'>5</a>\u001b[0m \u001b[39m@wraps\u001b[39m(fn)\n\u001b[0;32m      <a href='vscode-notebook-cell:/c%3A/Users/pgold/MatsHub/deep-Dive-1/class_notes/scopes_closures_decorators/decorators/decorator_app_logger_stacked_decorators.ipynb#X20sZmlsZQ%3D%3D?line=5'>6</a>\u001b[0m \u001b[39mdef\u001b[39;00m \u001b[39minner\u001b[39m(\u001b[39m*\u001b[39margs, \u001b[39m*\u001b[39m\u001b[39m*\u001b[39mkwargs):\n\u001b[0;32m      <a href='vscode-notebook-cell:/c%3A/Users/pgold/MatsHub/deep-Dive-1/class_notes/scopes_closures_decorators/decorators/decorator_app_logger_stacked_decorators.ipynb#X20sZmlsZQ%3D%3D?line=6'>7</a>\u001b[0m     run_dt \u001b[39m=\u001b[39m datetime\u001b[39m.\u001b[39mnow(timezone\u001b[39m.\u001b[39mutc)\n\u001b[1;32m----> <a href='vscode-notebook-cell:/c%3A/Users/pgold/MatsHub/deep-Dive-1/class_notes/scopes_closures_decorators/decorators/decorator_app_logger_stacked_decorators.ipynb#X20sZmlsZQ%3D%3D?line=7'>8</a>\u001b[0m     result \u001b[39m=\u001b[39m fn(\u001b[39m*\u001b[39margs, \u001b[39m*\u001b[39m\u001b[39m*\u001b[39mkwargs)\n\u001b[0;32m      <a href='vscode-notebook-cell:/c%3A/Users/pgold/MatsHub/deep-Dive-1/class_notes/scopes_closures_decorators/decorators/decorator_app_logger_stacked_decorators.ipynb#X20sZmlsZQ%3D%3D?line=8'>9</a>\u001b[0m     \u001b[39mprint\u001b[39m(\u001b[39m'\u001b[39m\u001b[39m{0}\u001b[39;00m\u001b[39m: called \u001b[39m\u001b[39m{1}\u001b[39;00m\u001b[39m'\u001b[39m\u001b[39m.\u001b[39mformat(run_dt, fn\u001b[39m.\u001b[39m\u001b[39m__name__\u001b[39m))\n\u001b[0;32m     <a href='vscode-notebook-cell:/c%3A/Users/pgold/MatsHub/deep-Dive-1/class_notes/scopes_closures_decorators/decorators/decorator_app_logger_stacked_decorators.ipynb#X20sZmlsZQ%3D%3D?line=9'>10</a>\u001b[0m     \u001b[39mreturn\u001b[39;00m result\n",
      "\u001b[1;32mc:\\Users\\pgold\\MatsHub\\deep-Dive-1\\class_notes\\scopes_closures_decorators\\decorators\\decorator_app_logger_stacked_decorators.ipynb Cell 14\u001b[0m in \u001b[0;36mtimed.<locals>.inner\u001b[1;34m(*args, **kwargs)\u001b[0m\n\u001b[0;32m      <a href='vscode-notebook-cell:/c%3A/Users/pgold/MatsHub/deep-Dive-1/class_notes/scopes_closures_decorators/decorators/decorator_app_logger_stacked_decorators.ipynb#X20sZmlsZQ%3D%3D?line=4'>5</a>\u001b[0m \u001b[39m@wraps\u001b[39m(fn)\n\u001b[0;32m      <a href='vscode-notebook-cell:/c%3A/Users/pgold/MatsHub/deep-Dive-1/class_notes/scopes_closures_decorators/decorators/decorator_app_logger_stacked_decorators.ipynb#X20sZmlsZQ%3D%3D?line=5'>6</a>\u001b[0m \u001b[39mdef\u001b[39;00m \u001b[39minner\u001b[39m(\u001b[39m*\u001b[39margs, \u001b[39m*\u001b[39m\u001b[39m*\u001b[39mkwargs):\n\u001b[1;32m----> <a href='vscode-notebook-cell:/c%3A/Users/pgold/MatsHub/deep-Dive-1/class_notes/scopes_closures_decorators/decorators/decorator_app_logger_stacked_decorators.ipynb#X20sZmlsZQ%3D%3D?line=6'>7</a>\u001b[0m     start \u001b[39m=\u001b[39m perf_counter()\n\u001b[0;32m      <a href='vscode-notebook-cell:/c%3A/Users/pgold/MatsHub/deep-Dive-1/class_notes/scopes_closures_decorators/decorators/decorator_app_logger_stacked_decorators.ipynb#X20sZmlsZQ%3D%3D?line=7'>8</a>\u001b[0m     result \u001b[39m=\u001b[39m fn(\u001b[39m*\u001b[39margs, \u001b[39m*\u001b[39m\u001b[39m*\u001b[39mkwargs)\n\u001b[0;32m      <a href='vscode-notebook-cell:/c%3A/Users/pgold/MatsHub/deep-Dive-1/class_notes/scopes_closures_decorators/decorators/decorator_app_logger_stacked_decorators.ipynb#X20sZmlsZQ%3D%3D?line=8'>9</a>\u001b[0m     end \u001b[39m=\u001b[39m perf_counter()\n",
      "\u001b[1;31mNameError\u001b[0m: name 'perf_counter' is not defined"
     ]
    }
   ],
   "source": [
    "fact()"
   ]
  },
  {
   "cell_type": "code",
   "execution_count": 95,
   "id": "05b4729d",
   "metadata": {},
   "outputs": [],
   "source": [
    "def timed(fn):\n",
    "    from functools import wraps\n",
    "    from datetime import perf_counter\n",
    "    \n",
    "    @wraps(fn)\n",
    "    def inner(*args, **kwargs):\n",
    "        start = perf_counter()\n",
    "        result = fn(*args, **kwargs)\n",
    "        end = perf_counter()\n",
    "        print('{0}: ran for {1:.6f}s'.format(fn.__name__, end-start))\n",
    "        return result\n",
    "\n",
    "    return inner"
   ]
  },
  {
   "cell_type": "code",
   "execution_count": null,
   "id": "bfa4d8e3",
   "metadata": {},
   "outputs": [],
   "source": [
    "def fact(n):\n",
    "    from operator import mul\n",
    "    from functools import reduce\n",
    "\n",
    "    return reduce(mul, range(1, n+1))"
   ]
  },
  {
   "cell_type": "code",
   "execution_count": 96,
   "id": "9be6c5ac",
   "metadata": {},
   "outputs": [
    {
     "ename": "ImportError",
     "evalue": "cannot import name 'perf_counter' from 'datetime' (C:\\Program Files\\WindowsApps\\PythonSoftwareFoundation.Python.3.9_3.9.3568.0_x64__qbz5n2kfra8p0\\lib\\datetime.py)",
     "output_type": "error",
     "traceback": [
      "\u001b[1;31m---------------------------------------------------------------------------\u001b[0m",
      "\u001b[1;31mImportError\u001b[0m                               Traceback (most recent call last)",
      "\u001b[1;32mc:\\Users\\pgold\\MatsHub\\deep-Dive-1\\class_notes\\scopes_closures_decorators\\decorators\\decorator_app_logger_stacked_decorators.ipynb Cell 17\u001b[0m in \u001b[0;36m<cell line: 1>\u001b[1;34m()\u001b[0m\n\u001b[1;32m----> <a href='vscode-notebook-cell:/c%3A/Users/pgold/MatsHub/deep-Dive-1/class_notes/scopes_closures_decorators/decorators/decorator_app_logger_stacked_decorators.ipynb#X24sZmlsZQ%3D%3D?line=0'>1</a>\u001b[0m fact \u001b[39m=\u001b[39m logged(timed(fact))\n",
      "\u001b[1;32mc:\\Users\\pgold\\MatsHub\\deep-Dive-1\\class_notes\\scopes_closures_decorators\\decorators\\decorator_app_logger_stacked_decorators.ipynb Cell 17\u001b[0m in \u001b[0;36mtimed\u001b[1;34m(fn)\u001b[0m\n\u001b[0;32m      <a href='vscode-notebook-cell:/c%3A/Users/pgold/MatsHub/deep-Dive-1/class_notes/scopes_closures_decorators/decorators/decorator_app_logger_stacked_decorators.ipynb#X24sZmlsZQ%3D%3D?line=0'>1</a>\u001b[0m \u001b[39mdef\u001b[39;00m \u001b[39mtimed\u001b[39m(fn):\n\u001b[0;32m      <a href='vscode-notebook-cell:/c%3A/Users/pgold/MatsHub/deep-Dive-1/class_notes/scopes_closures_decorators/decorators/decorator_app_logger_stacked_decorators.ipynb#X24sZmlsZQ%3D%3D?line=1'>2</a>\u001b[0m     \u001b[39mfrom\u001b[39;00m \u001b[39mfunctools\u001b[39;00m \u001b[39mimport\u001b[39;00m wraps\n\u001b[1;32m----> <a href='vscode-notebook-cell:/c%3A/Users/pgold/MatsHub/deep-Dive-1/class_notes/scopes_closures_decorators/decorators/decorator_app_logger_stacked_decorators.ipynb#X24sZmlsZQ%3D%3D?line=2'>3</a>\u001b[0m     \u001b[39mfrom\u001b[39;00m \u001b[39mdatetime\u001b[39;00m \u001b[39mimport\u001b[39;00m perf_counter\n\u001b[0;32m      <a href='vscode-notebook-cell:/c%3A/Users/pgold/MatsHub/deep-Dive-1/class_notes/scopes_closures_decorators/decorators/decorator_app_logger_stacked_decorators.ipynb#X24sZmlsZQ%3D%3D?line=4'>5</a>\u001b[0m     \u001b[39m@wraps\u001b[39m(fn)\n\u001b[0;32m      <a href='vscode-notebook-cell:/c%3A/Users/pgold/MatsHub/deep-Dive-1/class_notes/scopes_closures_decorators/decorators/decorator_app_logger_stacked_decorators.ipynb#X24sZmlsZQ%3D%3D?line=5'>6</a>\u001b[0m     \u001b[39mdef\u001b[39;00m \u001b[39minner\u001b[39m(\u001b[39m*\u001b[39margs, \u001b[39m*\u001b[39m\u001b[39m*\u001b[39mkwargs):\n\u001b[0;32m      <a href='vscode-notebook-cell:/c%3A/Users/pgold/MatsHub/deep-Dive-1/class_notes/scopes_closures_decorators/decorators/decorator_app_logger_stacked_decorators.ipynb#X24sZmlsZQ%3D%3D?line=6'>7</a>\u001b[0m         start \u001b[39m=\u001b[39m perf_counter()\n",
      "\u001b[1;31mImportError\u001b[0m: cannot import name 'perf_counter' from 'datetime' (C:\\Program Files\\WindowsApps\\PythonSoftwareFoundation.Python.3.9_3.9.3568.0_x64__qbz5n2kfra8p0\\lib\\datetime.py)"
     ]
    }
   ],
   "source": [
    "fact = logged(timed(fact))"
   ]
  },
  {
   "cell_type": "code",
   "execution_count": null,
   "id": "5e1967b2",
   "metadata": {},
   "outputs": [
    {
     "ename": "NameError",
     "evalue": "name 'perf_counter' is not defined",
     "output_type": "error",
     "traceback": [
      "\u001b[1;31m---------------------------------------------------------------------------\u001b[0m",
      "\u001b[1;31mNameError\u001b[0m                                 Traceback (most recent call last)",
      "\u001b[1;32mc:\\Users\\pgold\\MatsHub\\deep-Dive-1\\class_notes\\scopes_closures_decorators\\decorators\\decorator_app_logger_stacked_decorators.ipynb Cell 18\u001b[0m in \u001b[0;36m<cell line: 1>\u001b[1;34m()\u001b[0m\n\u001b[1;32m----> <a href='vscode-notebook-cell:/c%3A/Users/pgold/MatsHub/deep-Dive-1/class_notes/scopes_closures_decorators/decorators/decorator_app_logger_stacked_decorators.ipynb#X25sZmlsZQ%3D%3D?line=0'>1</a>\u001b[0m fact(\u001b[39m3\u001b[39;49m)\n",
      "\u001b[1;32mc:\\Users\\pgold\\MatsHub\\deep-Dive-1\\class_notes\\scopes_closures_decorators\\decorators\\decorator_app_logger_stacked_decorators.ipynb Cell 18\u001b[0m in \u001b[0;36mlogged.<locals>.inner\u001b[1;34m(*args, **kwargs)\u001b[0m\n\u001b[0;32m      <a href='vscode-notebook-cell:/c%3A/Users/pgold/MatsHub/deep-Dive-1/class_notes/scopes_closures_decorators/decorators/decorator_app_logger_stacked_decorators.ipynb#X25sZmlsZQ%3D%3D?line=4'>5</a>\u001b[0m \u001b[39m@wraps\u001b[39m(fn)\n\u001b[0;32m      <a href='vscode-notebook-cell:/c%3A/Users/pgold/MatsHub/deep-Dive-1/class_notes/scopes_closures_decorators/decorators/decorator_app_logger_stacked_decorators.ipynb#X25sZmlsZQ%3D%3D?line=5'>6</a>\u001b[0m \u001b[39mdef\u001b[39;00m \u001b[39minner\u001b[39m(\u001b[39m*\u001b[39margs, \u001b[39m*\u001b[39m\u001b[39m*\u001b[39mkwargs):\n\u001b[0;32m      <a href='vscode-notebook-cell:/c%3A/Users/pgold/MatsHub/deep-Dive-1/class_notes/scopes_closures_decorators/decorators/decorator_app_logger_stacked_decorators.ipynb#X25sZmlsZQ%3D%3D?line=6'>7</a>\u001b[0m     run_dt \u001b[39m=\u001b[39m datetime\u001b[39m.\u001b[39mnow(timezone\u001b[39m.\u001b[39mutc)\n\u001b[1;32m----> <a href='vscode-notebook-cell:/c%3A/Users/pgold/MatsHub/deep-Dive-1/class_notes/scopes_closures_decorators/decorators/decorator_app_logger_stacked_decorators.ipynb#X25sZmlsZQ%3D%3D?line=7'>8</a>\u001b[0m     result \u001b[39m=\u001b[39m fn(\u001b[39m*\u001b[39margs, \u001b[39m*\u001b[39m\u001b[39m*\u001b[39mkwargs)\n\u001b[0;32m      <a href='vscode-notebook-cell:/c%3A/Users/pgold/MatsHub/deep-Dive-1/class_notes/scopes_closures_decorators/decorators/decorator_app_logger_stacked_decorators.ipynb#X25sZmlsZQ%3D%3D?line=8'>9</a>\u001b[0m     \u001b[39mprint\u001b[39m(\u001b[39m'\u001b[39m\u001b[39m{0}\u001b[39;00m\u001b[39m: called \u001b[39m\u001b[39m{1}\u001b[39;00m\u001b[39m'\u001b[39m\u001b[39m.\u001b[39mformat(run_dt, fn\u001b[39m.\u001b[39m\u001b[39m__name__\u001b[39m))\n\u001b[0;32m     <a href='vscode-notebook-cell:/c%3A/Users/pgold/MatsHub/deep-Dive-1/class_notes/scopes_closures_decorators/decorators/decorator_app_logger_stacked_decorators.ipynb#X25sZmlsZQ%3D%3D?line=9'>10</a>\u001b[0m     \u001b[39mreturn\u001b[39;00m result\n",
      "\u001b[1;32mc:\\Users\\pgold\\MatsHub\\deep-Dive-1\\class_notes\\scopes_closures_decorators\\decorators\\decorator_app_logger_stacked_decorators.ipynb Cell 18\u001b[0m in \u001b[0;36mtimed.<locals>.inner\u001b[1;34m(*args, **kwargs)\u001b[0m\n\u001b[0;32m      <a href='vscode-notebook-cell:/c%3A/Users/pgold/MatsHub/deep-Dive-1/class_notes/scopes_closures_decorators/decorators/decorator_app_logger_stacked_decorators.ipynb#X25sZmlsZQ%3D%3D?line=4'>5</a>\u001b[0m \u001b[39m@wraps\u001b[39m(fn)\n\u001b[0;32m      <a href='vscode-notebook-cell:/c%3A/Users/pgold/MatsHub/deep-Dive-1/class_notes/scopes_closures_decorators/decorators/decorator_app_logger_stacked_decorators.ipynb#X25sZmlsZQ%3D%3D?line=5'>6</a>\u001b[0m \u001b[39mdef\u001b[39;00m \u001b[39minner\u001b[39m(\u001b[39m*\u001b[39margs, \u001b[39m*\u001b[39m\u001b[39m*\u001b[39mkwargs):\n\u001b[1;32m----> <a href='vscode-notebook-cell:/c%3A/Users/pgold/MatsHub/deep-Dive-1/class_notes/scopes_closures_decorators/decorators/decorator_app_logger_stacked_decorators.ipynb#X25sZmlsZQ%3D%3D?line=6'>7</a>\u001b[0m     start \u001b[39m=\u001b[39m perf_counter()\n\u001b[0;32m      <a href='vscode-notebook-cell:/c%3A/Users/pgold/MatsHub/deep-Dive-1/class_notes/scopes_closures_decorators/decorators/decorator_app_logger_stacked_decorators.ipynb#X25sZmlsZQ%3D%3D?line=7'>8</a>\u001b[0m     result \u001b[39m=\u001b[39m fn(\u001b[39m*\u001b[39margs, \u001b[39m*\u001b[39m\u001b[39m*\u001b[39mkwargs)\n\u001b[0;32m      <a href='vscode-notebook-cell:/c%3A/Users/pgold/MatsHub/deep-Dive-1/class_notes/scopes_closures_decorators/decorators/decorator_app_logger_stacked_decorators.ipynb#X25sZmlsZQ%3D%3D?line=8'>9</a>\u001b[0m     end \u001b[39m=\u001b[39m perf_counter()\n",
      "\u001b[1;31mNameError\u001b[0m: name 'perf_counter' is not defined"
     ]
    }
   ],
   "source": [
    "fact(3)"
   ]
  },
  {
   "cell_type": "code",
   "execution_count": 97,
   "id": "cca29b2e",
   "metadata": {},
   "outputs": [],
   "source": [
    "def dec_1(fn):\n",
    "    def inner():\n",
    "        result = fn()\n",
    "        print('Running dec_1')\n",
    "        return result\n",
    "        return inner"
   ]
  },
  {
   "cell_type": "code",
   "execution_count": 98,
   "id": "8323da13",
   "metadata": {},
   "outputs": [],
   "source": [
    "def dec_2(fn):\n",
    "    def inner():\n",
    "        result = fn()\n",
    "        print('Running dec_2')\n",
    "        return result\n",
    "    return inner"
   ]
  },
  {
   "cell_type": "code",
   "execution_count": 99,
   "id": "ba089a51",
   "metadata": {},
   "outputs": [
    {
     "ename": "ImportError",
     "evalue": "cannot import name 'perf_counter' from 'datetime' (C:\\Program Files\\WindowsApps\\PythonSoftwareFoundation.Python.3.9_3.9.3568.0_x64__qbz5n2kfra8p0\\lib\\datetime.py)",
     "output_type": "error",
     "traceback": [
      "\u001b[1;31m---------------------------------------------------------------------------\u001b[0m",
      "\u001b[1;31mImportError\u001b[0m                               Traceback (most recent call last)",
      "\u001b[1;32mc:\\Users\\pgold\\MatsHub\\deep-Dive-1\\class_notes\\scopes_closures_decorators\\decorators\\decorator_app_logger_stacked_decorators.ipynb Cell 21\u001b[0m in \u001b[0;36m<cell line: 1>\u001b[1;34m()\u001b[0m\n\u001b[0;32m      <a href='vscode-notebook-cell:/c%3A/Users/pgold/MatsHub/deep-Dive-1/class_notes/scopes_closures_decorators/decorators/decorator_app_logger_stacked_decorators.ipynb#X34sZmlsZQ%3D%3D?line=0'>1</a>\u001b[0m \u001b[39m@dec_1\u001b[39;49m\n\u001b[0;32m      <a href='vscode-notebook-cell:/c%3A/Users/pgold/MatsHub/deep-Dive-1/class_notes/scopes_closures_decorators/decorators/decorator_app_logger_stacked_decorators.ipynb#X34sZmlsZQ%3D%3D?line=1'>2</a>\u001b[0m \u001b[39m@dec_2\u001b[39;49m\n\u001b[0;32m      <a href='vscode-notebook-cell:/c%3A/Users/pgold/MatsHub/deep-Dive-1/class_notes/scopes_closures_decorators/decorators/decorator_app_logger_stacked_decorators.ipynb#X34sZmlsZQ%3D%3D?line=2'>3</a>\u001b[0m \u001b[39m@logged\u001b[39;49m\n\u001b[0;32m      <a href='vscode-notebook-cell:/c%3A/Users/pgold/MatsHub/deep-Dive-1/class_notes/scopes_closures_decorators/decorators/decorator_app_logger_stacked_decorators.ipynb#X34sZmlsZQ%3D%3D?line=3'>4</a>\u001b[0m \u001b[39m@timed\u001b[39;49m\n\u001b[1;32m----> <a href='vscode-notebook-cell:/c%3A/Users/pgold/MatsHub/deep-Dive-1/class_notes/scopes_closures_decorators/decorators/decorator_app_logger_stacked_decorators.ipynb#X34sZmlsZQ%3D%3D?line=4'>5</a>\u001b[0m \u001b[39mdef\u001b[39;49;00m \u001b[39mmy_func\u001b[39;49m():\n\u001b[0;32m      <a href='vscode-notebook-cell:/c%3A/Users/pgold/MatsHub/deep-Dive-1/class_notes/scopes_closures_decorators/decorators/decorator_app_logger_stacked_decorators.ipynb#X34sZmlsZQ%3D%3D?line=5'>6</a>\u001b[0m     \u001b[39mprint\u001b[39;49m(\u001b[39m'\u001b[39;49m\u001b[39mRunning my_func\u001b[39;49m\u001b[39m'\u001b[39;49m)\n",
      "\u001b[1;32mc:\\Users\\pgold\\MatsHub\\deep-Dive-1\\class_notes\\scopes_closures_decorators\\decorators\\decorator_app_logger_stacked_decorators.ipynb Cell 21\u001b[0m in \u001b[0;36mtimed\u001b[1;34m(fn)\u001b[0m\n\u001b[0;32m      <a href='vscode-notebook-cell:/c%3A/Users/pgold/MatsHub/deep-Dive-1/class_notes/scopes_closures_decorators/decorators/decorator_app_logger_stacked_decorators.ipynb#X34sZmlsZQ%3D%3D?line=0'>1</a>\u001b[0m \u001b[39mdef\u001b[39;00m \u001b[39mtimed\u001b[39m(fn):\n\u001b[0;32m      <a href='vscode-notebook-cell:/c%3A/Users/pgold/MatsHub/deep-Dive-1/class_notes/scopes_closures_decorators/decorators/decorator_app_logger_stacked_decorators.ipynb#X34sZmlsZQ%3D%3D?line=1'>2</a>\u001b[0m     \u001b[39mfrom\u001b[39;00m \u001b[39mfunctools\u001b[39;00m \u001b[39mimport\u001b[39;00m wraps\n\u001b[1;32m----> <a href='vscode-notebook-cell:/c%3A/Users/pgold/MatsHub/deep-Dive-1/class_notes/scopes_closures_decorators/decorators/decorator_app_logger_stacked_decorators.ipynb#X34sZmlsZQ%3D%3D?line=2'>3</a>\u001b[0m     \u001b[39mfrom\u001b[39;00m \u001b[39mdatetime\u001b[39;00m \u001b[39mimport\u001b[39;00m perf_counter\n\u001b[0;32m      <a href='vscode-notebook-cell:/c%3A/Users/pgold/MatsHub/deep-Dive-1/class_notes/scopes_closures_decorators/decorators/decorator_app_logger_stacked_decorators.ipynb#X34sZmlsZQ%3D%3D?line=4'>5</a>\u001b[0m     \u001b[39m@wraps\u001b[39m(fn)\n\u001b[0;32m      <a href='vscode-notebook-cell:/c%3A/Users/pgold/MatsHub/deep-Dive-1/class_notes/scopes_closures_decorators/decorators/decorator_app_logger_stacked_decorators.ipynb#X34sZmlsZQ%3D%3D?line=5'>6</a>\u001b[0m     \u001b[39mdef\u001b[39;00m \u001b[39minner\u001b[39m(\u001b[39m*\u001b[39margs, \u001b[39m*\u001b[39m\u001b[39m*\u001b[39mkwargs):\n\u001b[0;32m      <a href='vscode-notebook-cell:/c%3A/Users/pgold/MatsHub/deep-Dive-1/class_notes/scopes_closures_decorators/decorators/decorator_app_logger_stacked_decorators.ipynb#X34sZmlsZQ%3D%3D?line=6'>7</a>\u001b[0m         start \u001b[39m=\u001b[39m perf_counter()\n",
      "\u001b[1;31mImportError\u001b[0m: cannot import name 'perf_counter' from 'datetime' (C:\\Program Files\\WindowsApps\\PythonSoftwareFoundation.Python.3.9_3.9.3568.0_x64__qbz5n2kfra8p0\\lib\\datetime.py)"
     ]
    }
   ],
   "source": [
    "@dec_1\n",
    "@dec_2\n",
    "@logged\n",
    "@timed\n",
    "def my_func():\n",
    "    print('Running my_func')"
   ]
  },
  {
   "cell_type": "code",
   "execution_count": 100,
   "id": "b3c77384",
   "metadata": {},
   "outputs": [
    {
     "ename": "TypeError",
     "evalue": "'NoneType' object is not callable",
     "output_type": "error",
     "traceback": [
      "\u001b[1;31m---------------------------------------------------------------------------\u001b[0m",
      "\u001b[1;31mTypeError\u001b[0m                                 Traceback (most recent call last)",
      "\u001b[1;32mc:\\Users\\pgold\\MatsHub\\deep-Dive-1\\class_notes\\scopes_closures_decorators\\decorators\\decorator_app_logger_stacked_decorators.ipynb Cell 22\u001b[0m in \u001b[0;36m<cell line: 1>\u001b[1;34m()\u001b[0m\n\u001b[1;32m----> <a href='vscode-notebook-cell:/c%3A/Users/pgold/MatsHub/deep-Dive-1/class_notes/scopes_closures_decorators/decorators/decorator_app_logger_stacked_decorators.ipynb#X32sZmlsZQ%3D%3D?line=0'>1</a>\u001b[0m my_func()\n",
      "\u001b[1;31mTypeError\u001b[0m: 'NoneType' object is not callable"
     ]
    }
   ],
   "source": [
    "my_func()"
   ]
  },
  {
   "cell_type": "markdown",
   "id": "da8fc780",
   "metadata": {},
   "source": [
    "@auth\n",
    "@logged"
   ]
  },
  {
   "cell_type": "markdown",
   "id": "559062c1",
   "metadata": {},
   "source": [
    "@auth\n",
    "@logged\n",
    "def save_resource():\n",
    "    pass"
   ]
  }
 ],
 "metadata": {
  "kernelspec": {
   "display_name": "Python 3.9.13 64-bit (microsoft store)",
   "language": "python",
   "name": "python3"
  },
  "language_info": {
   "codemirror_mode": {
    "name": "ipython",
    "version": 3
   },
   "file_extension": ".py",
   "mimetype": "text/x-python",
   "name": "python",
   "nbconvert_exporter": "python",
   "pygments_lexer": "ipython3",
   "version": "3.9.13"
  },
  "vscode": {
   "interpreter": {
    "hash": "ade0c43015c1571a0e966fe63d6ca9bc6f881f818ef80fb3cfba28dcf27f6d81"
   }
  }
 },
 "nbformat": 4,
 "nbformat_minor": 5
}
