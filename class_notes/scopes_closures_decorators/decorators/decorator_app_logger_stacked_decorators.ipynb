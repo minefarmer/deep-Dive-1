{
 "cells": [
  {
   "cell_type": "markdown",
   "id": "f1192c2a",
   "metadata": {},
   "source": [
    "                        Decorator App (Logger, Stacked Decorators)"
   ]
  },
  {
   "cell_type": "code",
   "execution_count": 11,
   "id": "6be4bfa0",
   "metadata": {},
   "outputs": [],
   "source": [
    "def logged(fn):\n",
    "    from functools import wraps\n",
    "    from datetime import datetime, timezone\n",
    "    \n",
    "    @wraps(fn)\n",
    "    def inner(*args, **kwargs):\n",
    "        run_dt = datetime.now(timezone.utc)\n",
    "        result = fn(*args, **kwargs)\n",
    "        print('{0}: called {1}'.format(run_dt, fn.__name__))\n",
    "        return result\n",
    "\n",
    "    return inner"
   ]
  },
  {
   "cell_type": "code",
   "execution_count": 12,
   "id": "ae6fdc42",
   "metadata": {},
   "outputs": [],
   "source": [
    "@logged\n",
    "def func_1():\n",
    "    pass"
   ]
  },
  {
   "cell_type": "code",
   "execution_count": 13,
   "id": "5ab638df",
   "metadata": {},
   "outputs": [],
   "source": [
    "@logged\n",
    "def func_2():\n",
    "    pass"
   ]
  },
  {
   "cell_type": "code",
   "execution_count": 14,
   "id": "6c2c7887",
   "metadata": {},
   "outputs": [
    {
     "name": "stdout",
     "output_type": "stream",
     "text": [
      "2022-09-24 19:44:25.555577+00:00: called func_1\n"
     ]
    }
   ],
   "source": [
    "func_1()"
   ]
  },
  {
   "cell_type": "code",
   "execution_count": 15,
   "id": "8cf5e9f3",
   "metadata": {},
   "outputs": [
    {
     "name": "stdout",
     "output_type": "stream",
     "text": [
      "2022-09-24 19:48:51.855779+00:00: called func_2\n"
     ]
    }
   ],
   "source": [
    "func_2()"
   ]
  },
  {
   "cell_type": "code",
   "execution_count": 16,
   "id": "1012e421",
   "metadata": {},
   "outputs": [],
   "source": [
    "def tined(fn):\n",
    "    from functools import wraps\n",
    "    from datetime import datetime, timezone\n",
    "    \n",
    "    @wraps(fn)\n",
    "    def inner(*args, **kwargs):\n",
    "        start = perf_counter()\n",
    "        result = fn(*args, **kwargs)\n",
    "        print('{0}: ran for {1:.6f}s'.format(fn.__name__, end-start))\n",
    "        return result\n",
    "\n",
    "    return inner"
   ]
  },
  {
   "cell_type": "code",
   "execution_count": null,
   "id": "51456c1e",
   "metadata": {},
   "outputs": [],
   "source": []
  }
 ],
 "metadata": {
  "kernelspec": {
   "display_name": "Python 3 (ipykernel)",
   "language": "python",
   "name": "python3"
  },
  "language_info": {
   "codemirror_mode": {
    "name": "ipython",
    "version": 3
   },
   "file_extension": ".py",
   "mimetype": "text/x-python",
   "name": "python",
   "nbconvert_exporter": "python",
   "pygments_lexer": "ipython3",
   "version": "3.9.12"
  },
  "vscode": {
   "interpreter": {
    "hash": "143d2740fa7885280d88cdaad3dbdadb51fa40347825ef5e3d2acba7c4a72194"
   }
  }
 },
 "nbformat": 4,
 "nbformat_minor": 5
}
