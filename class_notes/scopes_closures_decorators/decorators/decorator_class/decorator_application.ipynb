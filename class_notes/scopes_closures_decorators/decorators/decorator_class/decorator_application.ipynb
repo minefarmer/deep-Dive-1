{
 "cells": [
  {
   "cell_type": "markdown",
   "id": "a1a8be38",
   "metadata": {},
   "source": [
    "                        Decorator Applications"
   ]
  },
  {
   "cell_type": "code",
   "execution_count": 2,
   "id": "de391a0d",
   "metadata": {},
   "outputs": [],
   "source": [
    "def my_dec(a, b):\n",
    "    def dec(fn):\n",
    "        def inner(*args, **kwargs):\n",
    "            print(\"decorated function called: a={0}, b={1}\".format(a, b))\n",
    "            return fn(*args, **kwargs)\n",
    "        return inner\n",
    "    return dec"
   ]
  },
  {
   "cell_type": "code",
   "execution_count": 4,
   "id": "199cce4e",
   "metadata": {},
   "outputs": [],
   "source": [
    "@my_dec(10, 20)\n",
    "def my_func(s):\n",
    "    print('Hello {0}'.format(s))"
   ]
  },
  {
   "cell_type": "code",
   "execution_count": 5,
   "id": "3bda9338",
   "metadata": {},
   "outputs": [
    {
     "name": "stdout",
     "output_type": "stream",
     "text": [
      "decorated function called: a=10, b=20\n",
      "Hello World\n"
     ]
    }
   ],
   "source": [
    "my_func('World')"
   ]
  },
  {
   "cell_type": "code",
   "execution_count": 6,
   "id": "98e37e24",
   "metadata": {},
   "outputs": [],
   "source": [
    "class MyClass:\n",
    "    def __init__(self, a, b):\n",
    "        self.a = a\n",
    "        self.b = b\n",
    "\n",
    "    def __call__(self, c):\n",
    "        print(\"called a={0}, b={1}, c={2}\".format(self.a, self.b, c))"
   ]
  },
  {
   "cell_type": "code",
   "execution_count": 7,
   "id": "9625a991",
   "metadata": {},
   "outputs": [],
   "source": [
    "obj = MyClass(10, 20)"
   ]
  },
  {
   "cell_type": "code",
   "execution_count": 8,
   "id": "1efed3dd",
   "metadata": {},
   "outputs": [
    {
     "data": {
      "text/plain": [
       "<__main__.MyClass at 0x24157889850>"
      ]
     },
     "execution_count": 8,
     "metadata": {},
     "output_type": "execute_result"
    }
   ],
   "source": [
    "obj"
   ]
  },
  {
   "cell_type": "code",
   "execution_count": 9,
   "id": "bb39b738",
   "metadata": {},
   "outputs": [
    {
     "name": "stdout",
     "output_type": "stream",
     "text": [
      "called a=10, b=20, c=100\n"
     ]
    }
   ],
   "source": [
    "obj.__call__(100)"
   ]
  },
  {
   "cell_type": "code",
   "execution_count": 10,
   "id": "67a8fc17",
   "metadata": {},
   "outputs": [
    {
     "name": "stdout",
     "output_type": "stream",
     "text": [
      "called a=10, b=20, c=100\n"
     ]
    }
   ],
   "source": [
    "obj(100)"
   ]
  },
  {
   "cell_type": "code",
   "execution_count": 11,
   "id": "8b1e7c2f",
   "metadata": {},
   "outputs": [],
   "source": [
    "class MyClass:\n",
    "    def __init__(self, a, b):\n",
    "        self.a = a\n",
    "        self.b = b\n",
    "\n",
    "    def __call__(self, fn):\n",
    "        def inner(*args, **kwargs):\n",
    "        print(\"decorated function called: a={0}, b={1}, c={2}\".format(self.a, self.b, c))"
   ]
  },
  {
   "cell_type": "code",
   "execution_count": 13,
   "id": "8384dc19",
   "metadata": {},
   "outputs": [
    {
     "name": "stdout",
     "output_type": "stream",
     "text": [
      "called a=10, b=20, c=<function my_func at 0x00000241577F2F70>\n"
     ]
    }
   ],
   "source": [
    "@MyClass(10, 20)\n",
    "def my_func(s):\n",
    "    print('Hello {0}'.format(s))"
   ]
  },
  {
   "cell_type": "code",
   "execution_count": 16,
   "id": "f8c2dada",
   "metadata": {},
   "outputs": [],
   "source": [
    "obj = MyClass(10, 20)"
   ]
  },
  {
   "cell_type": "code",
   "execution_count": 17,
   "id": "1cce5d1f",
   "metadata": {},
   "outputs": [],
   "source": [
    "def my_func(s):\n",
    "    print('Hello {0}'.format(s))"
   ]
  },
  {
   "cell_type": "code",
   "execution_count": 19,
   "id": "df255b03",
   "metadata": {},
   "outputs": [
    {
     "name": "stdout",
     "output_type": "stream",
     "text": [
      "called a=10, b=20, c=<function my_func at 0x00000241587C5CA0>\n"
     ]
    }
   ],
   "source": [
    "my_func = obj(my_func)"
   ]
  }
 ],
 "metadata": {
  "kernelspec": {
   "display_name": "Python 3.9.12 ('base')",
   "language": "python",
   "name": "python3"
  },
  "language_info": {
   "codemirror_mode": {
    "name": "ipython",
    "version": 3
   },
   "file_extension": ".py",
   "mimetype": "text/x-python",
   "name": "python",
   "nbconvert_exporter": "python",
   "pygments_lexer": "ipython3",
   "version": "3.9.12"
  },
  "vscode": {
   "interpreter": {
    "hash": "a624adbc5e596fddf72740b255048309200567f23df85867ce297e9f9d364c1b"
   }
  }
 },
 "nbformat": 4,
 "nbformat_minor": 5
}
