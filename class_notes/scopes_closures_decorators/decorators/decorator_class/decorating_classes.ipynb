{
 "cells": [
  {
   "cell_type": "markdown",
   "id": "5e5580eb",
   "metadata": {},
   "source": [
    "                        Decorating Classes"
   ]
  },
  {
   "cell_type": "code",
   "execution_count": 57,
   "id": "0b4c3c06",
   "metadata": {},
   "outputs": [],
   "source": [
    "from fractions import Fraction"
   ]
  },
  {
   "cell_type": "code",
   "execution_count": 58,
   "id": "337e5140",
   "metadata": {},
   "outputs": [],
   "source": [
    "f = Fraction(2, 3)"
   ]
  },
  {
   "cell_type": "code",
   "execution_count": 59,
   "id": "930f08bb",
   "metadata": {},
   "outputs": [
    {
     "data": {
      "text/plain": [
       "3"
      ]
     },
     "execution_count": 59,
     "metadata": {},
     "output_type": "execute_result"
    }
   ],
   "source": [
    "f. denominator"
   ]
  },
  {
   "cell_type": "code",
   "execution_count": 60,
   "id": "f68de4bc",
   "metadata": {},
   "outputs": [
    {
     "data": {
      "text/plain": [
       "<bound method dec_speak.<locals>.<lambda> of Fraction(2, 3)>"
      ]
     },
     "execution_count": 60,
     "metadata": {},
     "output_type": "execute_result"
    }
   ],
   "source": [
    "f.speak"
   ]
  },
  {
   "cell_type": "markdown",
   "id": "51c49e1b",
   "metadata": {},
   "source": [
    "        How to make fractions speak"
   ]
  },
  {
   "cell_type": "code",
   "execution_count": 61,
   "id": "c63f55fd",
   "metadata": {},
   "outputs": [],
   "source": [
    "Fraction.speak = 100"
   ]
  },
  {
   "cell_type": "code",
   "execution_count": 62,
   "id": "c3cc1431",
   "metadata": {},
   "outputs": [
    {
     "data": {
      "text/plain": [
       "100"
      ]
     },
     "execution_count": 62,
     "metadata": {},
     "output_type": "execute_result"
    }
   ],
   "source": [
    "f.speak"
   ]
  },
  {
   "cell_type": "code",
   "execution_count": 63,
   "id": "04fb70a9",
   "metadata": {},
   "outputs": [],
   "source": [
    "Fraction.speak = lambda self, message: 'Fraction says: {0}'.format(message)"
   ]
  },
  {
   "cell_type": "code",
   "execution_count": 64,
   "id": "1ef3fd34",
   "metadata": {},
   "outputs": [],
   "source": [
    "Fraction.speak = 100"
   ]
  },
  {
   "cell_type": "code",
   "execution_count": 65,
   "id": "d8d25e2d",
   "metadata": {},
   "outputs": [
    {
     "data": {
      "text/plain": [
       "100"
      ]
     },
     "execution_count": 65,
     "metadata": {},
     "output_type": "execute_result"
    }
   ],
   "source": [
    "f.speak"
   ]
  },
  {
   "cell_type": "code",
   "execution_count": 66,
   "id": "852302dd",
   "metadata": {},
   "outputs": [],
   "source": [
    "Fraction.speak = lambda self, message: 'Fraction says: {0}'.format(message)"
   ]
  },
  {
   "cell_type": "code",
   "execution_count": 67,
   "id": "63cdded2",
   "metadata": {},
   "outputs": [
    {
     "data": {
      "text/plain": [
       "'Fraction says: This is a late parrot'"
      ]
     },
     "execution_count": 67,
     "metadata": {},
     "output_type": "execute_result"
    }
   ],
   "source": [
    "f.speak('This is a late parrot')"
   ]
  },
  {
   "cell_type": "code",
   "execution_count": 68,
   "id": "34244a3e",
   "metadata": {},
   "outputs": [],
   "source": [
    "f2 = Fraction(10, 5)"
   ]
  },
  {
   "cell_type": "code",
   "execution_count": 69,
   "id": "a7235f7d",
   "metadata": {},
   "outputs": [
    {
     "data": {
      "text/plain": [
       "'Fraction says: This parrot is no more.'"
      ]
     },
     "execution_count": 69,
     "metadata": {},
     "output_type": "execute_result"
    }
   ],
   "source": [
    "f2.speak('This parrot is no more.')"
   ]
  },
  {
   "cell_type": "code",
   "execution_count": null,
   "id": "e99b4244",
   "metadata": {},
   "outputs": [],
   "source": []
  },
  {
   "cell_type": "code",
   "execution_count": null,
   "id": "1e1e3680",
   "metadata": {},
   "outputs": [],
   "source": []
  },
  {
   "cell_type": "code",
   "execution_count": 70,
   "id": "b4d00978",
   "metadata": {},
   "outputs": [],
   "source": [
    "Fraction.is_intergal = lambda self: self.denominator == 1"
   ]
  },
  {
   "cell_type": "code",
   "execution_count": 71,
   "id": "6594fa61",
   "metadata": {},
   "outputs": [],
   "source": [
    "f1 = Fraction(2, 3)\n",
    "f2 = Fraction(64, 8)"
   ]
  },
  {
   "cell_type": "code",
   "execution_count": 72,
   "id": "d5a1ad24",
   "metadata": {},
   "outputs": [
    {
     "data": {
      "text/plain": [
       "Fraction(2, 3)"
      ]
     },
     "execution_count": 72,
     "metadata": {},
     "output_type": "execute_result"
    }
   ],
   "source": [
    "f1"
   ]
  },
  {
   "cell_type": "code",
   "execution_count": 73,
   "id": "54b85ca7",
   "metadata": {},
   "outputs": [
    {
     "data": {
      "text/plain": [
       "Fraction(8, 1)"
      ]
     },
     "execution_count": 73,
     "metadata": {},
     "output_type": "execute_result"
    }
   ],
   "source": [
    "f2"
   ]
  },
  {
   "cell_type": "code",
   "execution_count": 74,
   "id": "63483c94",
   "metadata": {},
   "outputs": [
    {
     "data": {
      "text/plain": [
       "False"
      ]
     },
     "execution_count": 74,
     "metadata": {},
     "output_type": "execute_result"
    }
   ],
   "source": [
    "f1.is_intergal()"
   ]
  },
  {
   "cell_type": "code",
   "execution_count": 75,
   "id": "458b5adf",
   "metadata": {},
   "outputs": [
    {
     "data": {
      "text/plain": [
       "True"
      ]
     },
     "execution_count": 75,
     "metadata": {},
     "output_type": "execute_result"
    }
   ],
   "source": [
    "f2.is_intergal()"
   ]
  },
  {
   "cell_type": "code",
   "execution_count": 76,
   "id": "9c10b8dc",
   "metadata": {},
   "outputs": [],
   "source": [
    "def dec_speak(cls):\n",
    "    cls.speak = lambda self, message: '{0} says: {1}'.format(self.__class__.__name__, message)\n",
    "    return cls"
   ]
  },
  {
   "cell_type": "code",
   "execution_count": 77,
   "id": "ff8b852b",
   "metadata": {},
   "outputs": [],
   "source": [
    "Fraction= dec_speak(Fraction)"
   ]
  },
  {
   "cell_type": "code",
   "execution_count": 78,
   "id": "2b5920a8",
   "metadata": {},
   "outputs": [],
   "source": [
    "Fraction = dec_speak(Fraction)"
   ]
  },
  {
   "cell_type": "code",
   "execution_count": 79,
   "id": "1f642893",
   "metadata": {},
   "outputs": [],
   "source": [
    "f1 = Fraction(2, 3)"
   ]
  },
  {
   "cell_type": "code",
   "execution_count": 80,
   "id": "70206512",
   "metadata": {},
   "outputs": [
    {
     "data": {
      "text/plain": [
       "'Fraction says: Hello'"
      ]
     },
     "execution_count": 80,
     "metadata": {},
     "output_type": "execute_result"
    }
   ],
   "source": [
    "f1.speak('Hello')"
   ]
  },
  {
   "cell_type": "code",
   "execution_count": 81,
   "id": "f40c437c",
   "metadata": {},
   "outputs": [],
   "source": [
    "class Person:\n",
    "    pass"
   ]
  },
  {
   "cell_type": "code",
   "execution_count": 82,
   "id": "9bcec3ae",
   "metadata": {},
   "outputs": [],
   "source": [
    "Person = dec_speak(Person)"
   ]
  },
  {
   "cell_type": "code",
   "execution_count": 83,
   "id": "1b78cf9e",
   "metadata": {},
   "outputs": [],
   "source": [
    "p = Person()"
   ]
  },
  {
   "cell_type": "code",
   "execution_count": 84,
   "id": "0abff988",
   "metadata": {},
   "outputs": [
    {
     "data": {
      "text/plain": [
       "'Person says: this works!'"
      ]
     },
     "execution_count": 84,
     "metadata": {},
     "output_type": "execute_result"
    }
   ],
   "source": [
    "p.speak('this works!')"
   ]
  },
  {
   "cell_type": "code",
   "execution_count": 85,
   "id": "cfa4a7b0",
   "metadata": {},
   "outputs": [],
   "source": [
    "from datetime import datetime, timezone"
   ]
  },
  {
   "cell_type": "code",
   "execution_count": 99,
   "id": "4cee6817",
   "metadata": {},
   "outputs": [],
   "source": [
    "def info(self):\n",
    "        results = []\n",
    "        results.append('time: {0}'.format(datetime.now(timezone.utc)))\n",
    "        results.append('Class: {0}'.format(self.__class__,__name__))\n",
    "        results.append('id: {0}'.format(hex(id(self))))\n",
    "        for k, v in vars(self).items():\n",
    "            results.append('{0}: {1}'.format(k, v))\n",
    "        return results\n",
    "\n",
    "def debug_info(cls):\n",
    "    cls.debug = info"
   ]
  },
  {
   "cell_type": "code",
   "execution_count": 91,
   "id": "03355065",
   "metadata": {},
   "outputs": [],
   "source": [
    "@debug_info\n",
    "class Person:\n",
    "    def __init__(self, name, birth_year):\n",
    "        self.name = name\n",
    "        self.birth_year = birth_year\n",
    "\n",
    "    def say_hi():\n",
    "        return 'Hello there!'"
   ]
  },
  {
   "cell_type": "code",
   "execution_count": 93,
   "id": "a28ac4ce",
   "metadata": {},
   "outputs": [],
   "source": [
    "p = Person('John', 1939)"
   ]
  },
  {
   "cell_type": "code",
   "execution_count": 94,
   "id": "1ff18edf",
   "metadata": {},
   "outputs": [
    {
     "data": {
      "text/plain": [
       "['time: 2022-09-27 02:04:43.068520+00:00',\n",
       " \"Class: <class '__main__.Person'>\",\n",
       " 'id: 0x29a71eb4ee0',\n",
       " 'name: John',\n",
       " 'birth_year: 1939']"
      ]
     },
     "execution_count": 94,
     "metadata": {},
     "output_type": "execute_result"
    }
   ],
   "source": [
    "p.debug()"
   ]
  },
  {
   "cell_type": "code",
   "execution_count": 105,
   "id": "034ed539",
   "metadata": {},
   "outputs": [],
   "source": [
    "def info(self):\n",
    "        results = []\n",
    "        results.append('time: {0}'.format(datetime.now(timezone.utc)))\n",
    "        results.append('Class: {0}'.format(self.__class__,__name__))\n",
    "        results.append('id: {0}'.format(hex(id(self))))\n",
    "        for k, v in vars(self).items():\n",
    "            results.append('{0}: {1}'.format(k, v))\n",
    "        return results\n",
    "\n",
    "def debug_info(cls):\n",
    "    cls.debug = info\n",
    "    return cls"
   ]
  },
  {
   "cell_type": "code",
   "execution_count": 106,
   "id": "a34536ab",
   "metadata": {},
   "outputs": [],
   "source": [
    "@debug_info\n",
    "class Person:\n",
    "    def __init__(self, name):\n",
    "        self.name = name"
   ]
  },
  {
   "cell_type": "code",
   "execution_count": 107,
   "id": "f686f6b9",
   "metadata": {},
   "outputs": [],
   "source": [
    "p = Person('john')"
   ]
  },
  {
   "cell_type": "code",
   "execution_count": 108,
   "id": "66db4e77",
   "metadata": {},
   "outputs": [
    {
     "data": {
      "text/plain": [
       "__main__.Person"
      ]
     },
     "execution_count": 108,
     "metadata": {},
     "output_type": "execute_result"
    }
   ],
   "source": [
    "debug_info(Person)"
   ]
  },
  {
   "cell_type": "code",
   "execution_count": 110,
   "id": "8bc23b25",
   "metadata": {},
   "outputs": [
    {
     "data": {
      "text/plain": [
       "['time: 2022-09-27 02:39:28.572784+00:00',\n",
       " \"Class: <class '__main__.Person'>\",\n",
       " 'id: 0x29a720ee430',\n",
       " 'name: john']"
      ]
     },
     "execution_count": 110,
     "metadata": {},
     "output_type": "execute_result"
    }
   ],
   "source": [
    "p.debug()"
   ]
  },
  {
   "cell_type": "code",
   "execution_count": null,
   "id": "bffaf050",
   "metadata": {},
   "outputs": [],
   "source": [
    "@debug_info\n",
    "class Automobile:\n",
    "    def __init__(self. make, module, year, top_speed):\n",
    "        self.make = make\n",
    "        self.model = model\n",
    "        self.year = year\n",
    "        self.top speed = top_speed\n",
    "        self.speed = 0\n",
    "\n",
    "    @property\n",
    "    def speed(self):\n",
    "        retu"
   ]
  }
 ],
 "metadata": {
  "kernelspec": {
   "display_name": "Python 3.9.12 ('base')",
   "language": "python",
   "name": "python3"
  },
  "language_info": {
   "codemirror_mode": {
    "name": "ipython",
    "version": 3
   },
   "file_extension": ".py",
   "mimetype": "text/x-python",
   "name": "python",
   "nbconvert_exporter": "python",
   "pygments_lexer": "ipython3",
   "version": "3.9.12"
  },
  "vscode": {
   "interpreter": {
    "hash": "a624adbc5e596fddf72740b255048309200567f23df85867ce297e9f9d364c1b"
   }
  }
 },
 "nbformat": 4,
 "nbformat_minor": 5
}
