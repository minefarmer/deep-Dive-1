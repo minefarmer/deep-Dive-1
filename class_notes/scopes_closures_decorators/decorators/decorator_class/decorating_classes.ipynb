{
 "cells": [
  {
   "cell_type": "markdown",
   "id": "5e5580eb",
   "metadata": {},
   "source": [
    "                        Decorating Classes"
   ]
  },
  {
   "cell_type": "code",
   "execution_count": 2,
   "id": "0b4c3c06",
   "metadata": {},
   "outputs": [],
   "source": [
    "from fractions import Fraction"
   ]
  },
  {
   "cell_type": "code",
   "execution_count": 3,
   "id": "337e5140",
   "metadata": {},
   "outputs": [],
   "source": [
    "f = Fraction(2, 3)"
   ]
  },
  {
   "cell_type": "code",
   "execution_count": 4,
   "id": "930f08bb",
   "metadata": {},
   "outputs": [
    {
     "data": {
      "text/plain": [
       "3"
      ]
     },
     "execution_count": 4,
     "metadata": {},
     "output_type": "execute_result"
    }
   ],
   "source": [
    "f. denominator"
   ]
  },
  {
   "cell_type": "code",
   "execution_count": 5,
   "id": "f68de4bc",
   "metadata": {},
   "outputs": [
    {
     "ename": "AttributeError",
     "evalue": "'Fraction' object has no attribute 'speak'",
     "output_type": "error",
     "traceback": [
      "\u001b[1;31m---------------------------------------------------------------------------\u001b[0m",
      "\u001b[1;31mAttributeError\u001b[0m                            Traceback (most recent call last)",
      "\u001b[1;32mc:\\Users\\pgold\\MatsHub\\deep-Dive-1\\class_notes\\scopes_closures_decorators\\decorators\\decorator_class\\decorating_classes.ipynb Cell 5\u001b[0m in \u001b[0;36m<cell line: 1>\u001b[1;34m()\u001b[0m\n\u001b[1;32m----> <a href='vscode-notebook-cell:/c%3A/Users/pgold/MatsHub/deep-Dive-1/class_notes/scopes_closures_decorators/decorators/decorator_class/decorating_classes.ipynb#W4sZmlsZQ%3D%3D?line=0'>1</a>\u001b[0m f\u001b[39m.\u001b[39;49mspeak\n",
      "\u001b[1;31mAttributeError\u001b[0m: 'Fraction' object has no attribute 'speak'"
     ]
    }
   ],
   "source": [
    "f.speak"
   ]
  },
  {
   "cell_type": "markdown",
   "id": "51c49e1b",
   "metadata": {},
   "source": [
    "        How to make fractions speak"
   ]
  },
  {
   "cell_type": "code",
   "execution_count": null,
   "id": "c63f55fd",
   "metadata": {},
   "outputs": [],
   "source": [
    "Fraction.speak = 100"
   ]
  },
  {
   "cell_type": "code",
   "execution_count": null,
   "id": "c3cc1431",
   "metadata": {},
   "outputs": [
    {
     "data": {
      "text/plain": [
       "100"
      ]
     },
     "execution_count": 62,
     "metadata": {},
     "output_type": "execute_result"
    }
   ],
   "source": [
    "f.speak"
   ]
  },
  {
   "cell_type": "code",
   "execution_count": null,
   "id": "04fb70a9",
   "metadata": {},
   "outputs": [],
   "source": [
    "Fraction.speak = lambda self, message: 'Fraction says: {0}'.format(message)"
   ]
  },
  {
   "cell_type": "code",
   "execution_count": null,
   "id": "1ef3fd34",
   "metadata": {},
   "outputs": [],
   "source": [
    "Fraction.speak = 100"
   ]
  },
  {
   "cell_type": "code",
   "execution_count": null,
   "id": "d8d25e2d",
   "metadata": {},
   "outputs": [
    {
     "data": {
      "text/plain": [
       "100"
      ]
     },
     "execution_count": 65,
     "metadata": {},
     "output_type": "execute_result"
    }
   ],
   "source": [
    "f.speak"
   ]
  },
  {
   "cell_type": "code",
   "execution_count": null,
   "id": "852302dd",
   "metadata": {},
   "outputs": [],
   "source": [
    "Fraction.speak = lambda self, message: 'Fraction says: {0}'.format(message)"
   ]
  },
  {
   "cell_type": "code",
   "execution_count": null,
   "id": "63cdded2",
   "metadata": {},
   "outputs": [
    {
     "data": {
      "text/plain": [
       "'Fraction says: This is a late parrot'"
      ]
     },
     "execution_count": 67,
     "metadata": {},
     "output_type": "execute_result"
    }
   ],
   "source": [
    "f.speak('This is a late parrot')"
   ]
  },
  {
   "cell_type": "code",
   "execution_count": null,
   "id": "34244a3e",
   "metadata": {},
   "outputs": [],
   "source": [
    "f2 = Fraction(10, 5)"
   ]
  },
  {
   "cell_type": "code",
   "execution_count": null,
   "id": "a7235f7d",
   "metadata": {},
   "outputs": [
    {
     "data": {
      "text/plain": [
       "'Fraction says: This parrot is no more.'"
      ]
     },
     "execution_count": 69,
     "metadata": {},
     "output_type": "execute_result"
    }
   ],
   "source": [
    "f2.speak('This parrot is no more.')"
   ]
  },
  {
   "cell_type": "code",
   "execution_count": null,
   "id": "b4d00978",
   "metadata": {},
   "outputs": [],
   "source": [
    "Fraction.is_intergal = lambda self: self.denominator == 1"
   ]
  },
  {
   "cell_type": "code",
   "execution_count": null,
   "id": "6594fa61",
   "metadata": {},
   "outputs": [],
   "source": [
    "f1 = Fraction(2, 3)\n",
    "f2 = Fraction(64, 8)"
   ]
  },
  {
   "cell_type": "code",
   "execution_count": null,
   "id": "d5a1ad24",
   "metadata": {},
   "outputs": [
    {
     "data": {
      "text/plain": [
       "Fraction(2, 3)"
      ]
     },
     "execution_count": 72,
     "metadata": {},
     "output_type": "execute_result"
    }
   ],
   "source": [
    "f1"
   ]
  },
  {
   "cell_type": "code",
   "execution_count": null,
   "id": "54b85ca7",
   "metadata": {},
   "outputs": [
    {
     "data": {
      "text/plain": [
       "Fraction(8, 1)"
      ]
     },
     "execution_count": 73,
     "metadata": {},
     "output_type": "execute_result"
    }
   ],
   "source": [
    "f2"
   ]
  },
  {
   "cell_type": "code",
   "execution_count": null,
   "id": "63483c94",
   "metadata": {},
   "outputs": [
    {
     "data": {
      "text/plain": [
       "False"
      ]
     },
     "execution_count": 74,
     "metadata": {},
     "output_type": "execute_result"
    }
   ],
   "source": [
    "f1.is_intergal()"
   ]
  },
  {
   "cell_type": "code",
   "execution_count": null,
   "id": "458b5adf",
   "metadata": {},
   "outputs": [
    {
     "data": {
      "text/plain": [
       "True"
      ]
     },
     "execution_count": 75,
     "metadata": {},
     "output_type": "execute_result"
    }
   ],
   "source": [
    "f2.is_intergal()"
   ]
  },
  {
   "cell_type": "code",
   "execution_count": null,
   "id": "9c10b8dc",
   "metadata": {},
   "outputs": [],
   "source": [
    "def dec_speak(cls):\n",
    "    cls.speak = lambda self, message: '{0} says: {1}'.format(self.__class__.__name__, message)\n",
    "    return cls"
   ]
  },
  {
   "cell_type": "code",
   "execution_count": null,
   "id": "ff8b852b",
   "metadata": {},
   "outputs": [],
   "source": [
    "Fraction= dec_speak(Fraction)"
   ]
  },
  {
   "cell_type": "code",
   "execution_count": null,
   "id": "2b5920a8",
   "metadata": {},
   "outputs": [],
   "source": [
    "Fraction = dec_speak(Fraction)"
   ]
  },
  {
   "cell_type": "code",
   "execution_count": null,
   "id": "1f642893",
   "metadata": {},
   "outputs": [],
   "source": [
    "f1 = Fraction(2, 3)"
   ]
  },
  {
   "cell_type": "code",
   "execution_count": null,
   "id": "70206512",
   "metadata": {},
   "outputs": [
    {
     "data": {
      "text/plain": [
       "'Fraction says: Hello'"
      ]
     },
     "execution_count": 80,
     "metadata": {},
     "output_type": "execute_result"
    }
   ],
   "source": [
    "f1.speak('Hello')"
   ]
  },
  {
   "cell_type": "code",
   "execution_count": null,
   "id": "f40c437c",
   "metadata": {},
   "outputs": [],
   "source": [
    "class Person:\n",
    "    pass"
   ]
  },
  {
   "cell_type": "code",
   "execution_count": null,
   "id": "9bcec3ae",
   "metadata": {},
   "outputs": [],
   "source": [
    "Person = dec_speak(Person)"
   ]
  },
  {
   "cell_type": "code",
   "execution_count": null,
   "id": "1b78cf9e",
   "metadata": {},
   "outputs": [],
   "source": [
    "p = Person()"
   ]
  },
  {
   "cell_type": "code",
   "execution_count": null,
   "id": "0abff988",
   "metadata": {},
   "outputs": [
    {
     "data": {
      "text/plain": [
       "'Person says: this works!'"
      ]
     },
     "execution_count": 84,
     "metadata": {},
     "output_type": "execute_result"
    }
   ],
   "source": [
    "p.speak('this works!')"
   ]
  },
  {
   "cell_type": "code",
   "execution_count": null,
   "id": "cfa4a7b0",
   "metadata": {},
   "outputs": [],
   "source": [
    "from datetime import datetime, timezone"
   ]
  },
  {
   "cell_type": "code",
   "execution_count": null,
   "id": "4cee6817",
   "metadata": {},
   "outputs": [],
   "source": [
    "def info(self):\n",
    "        results = []\n",
    "        results.append('time: {0}'.format(datetime.now(timezone.utc)))\n",
    "        results.append('Class: {0}'.format(self.__class__,__name__))\n",
    "        results.append('id: {0}'.format(hex(id(self))))\n",
    "        for k, v in vars(self).items():\n",
    "            results.append('{0}: {1}'.format(k, v))\n",
    "        return results\n",
    "\n",
    "def debug_info(cls):\n",
    "    cls.debug = info"
   ]
  },
  {
   "cell_type": "code",
   "execution_count": null,
   "id": "03355065",
   "metadata": {},
   "outputs": [],
   "source": [
    "@debug_info\n",
    "class Person:\n",
    "    def __init__(self, name, birth_year):\n",
    "        self.name = name\n",
    "        self.birth_year = birth_year\n",
    "\n",
    "    def say_hi():\n",
    "        return 'Hello there!'"
   ]
  },
  {
   "cell_type": "code",
   "execution_count": null,
   "id": "a28ac4ce",
   "metadata": {},
   "outputs": [],
   "source": [
    "p = Person('John', 1939)"
   ]
  },
  {
   "cell_type": "code",
   "execution_count": null,
   "id": "1ff18edf",
   "metadata": {},
   "outputs": [
    {
     "data": {
      "text/plain": [
       "['time: 2022-09-27 02:04:43.068520+00:00',\n",
       " \"Class: <class '__main__.Person'>\",\n",
       " 'id: 0x29a71eb4ee0',\n",
       " 'name: John',\n",
       " 'birth_year: 1939']"
      ]
     },
     "execution_count": 94,
     "metadata": {},
     "output_type": "execute_result"
    }
   ],
   "source": [
    "p.debug()"
   ]
  },
  {
   "cell_type": "code",
   "execution_count": null,
   "id": "034ed539",
   "metadata": {},
   "outputs": [],
   "source": [
    "def info(self):\n",
    "        results = []\n",
    "        results.append('time: {0}'.format(datetime.now(timezone.utc)))\n",
    "        results.append('Class: {0}'.format(self.__class__,__name__))\n",
    "        results.append('id: {0}'.format(hex(id(self))))\n",
    "        for k, v in vars(self).items():\n",
    "            results.append('{0}: {1}'.format(k, v))\n",
    "        return results\n",
    "\n",
    "def debug_info(cls):\n",
    "    cls.debug = info\n",
    "    return cls"
   ]
  },
  {
   "cell_type": "code",
   "execution_count": null,
   "id": "a34536ab",
   "metadata": {},
   "outputs": [],
   "source": [
    "@debug_info\n",
    "class Person:\n",
    "    def __init__(self, name):\n",
    "        self.name = name"
   ]
  },
  {
   "cell_type": "code",
   "execution_count": null,
   "id": "f686f6b9",
   "metadata": {},
   "outputs": [],
   "source": [
    "p = Person('john')"
   ]
  },
  {
   "cell_type": "code",
   "execution_count": null,
   "id": "66db4e77",
   "metadata": {},
   "outputs": [
    {
     "data": {
      "text/plain": [
       "__main__.Person"
      ]
     },
     "execution_count": 108,
     "metadata": {},
     "output_type": "execute_result"
    }
   ],
   "source": [
    "debug_info(Person)"
   ]
  },
  {
   "cell_type": "code",
   "execution_count": null,
   "id": "8bc23b25",
   "metadata": {},
   "outputs": [
    {
     "data": {
      "text/plain": [
       "['time: 2022-09-27 02:39:28.572784+00:00',\n",
       " \"Class: <class '__main__.Person'>\",\n",
       " 'id: 0x29a720ee430',\n",
       " 'name: john']"
      ]
     },
     "execution_count": 110,
     "metadata": {},
     "output_type": "execute_result"
    }
   ],
   "source": [
    "p.debug()"
   ]
  },
  {
   "cell_type": "code",
   "execution_count": 44,
   "id": "b9e1362a",
   "metadata": {},
   "outputs": [
    {
     "ename": "NameError",
     "evalue": "name 'info' is not defined",
     "output_type": "error",
     "traceback": [
      "\u001b[1;31m---------------------------------------------------------------------------\u001b[0m",
      "\u001b[1;31mNameError\u001b[0m                                 Traceback (most recent call last)",
      "\u001b[1;32mc:\\Users\\pgold\\MatsHub\\deep-Dive-1\\class_notes\\scopes_closures_decorators\\decorators\\decorator_class\\decorating_classes.ipynb Cell 41\u001b[0m in \u001b[0;36m<cell line: 1>\u001b[1;34m()\u001b[0m\n\u001b[0;32m      <a href='vscode-notebook-cell:/c%3A/Users/pgold/MatsHub/deep-Dive-1/class_notes/scopes_closures_decorators/decorators/decorator_class/decorating_classes.ipynb#X63sZmlsZQ%3D%3D?line=0'>1</a>\u001b[0m \u001b[39m@debug_Automobile\u001b[39;49m\n\u001b[1;32m----> <a href='vscode-notebook-cell:/c%3A/Users/pgold/MatsHub/deep-Dive-1/class_notes/scopes_closures_decorators/decorators/decorator_class/decorating_classes.ipynb#X63sZmlsZQ%3D%3D?line=1'>2</a>\u001b[0m \u001b[39mclass\u001b[39;49;00m \u001b[39mPerson\u001b[39;49;00m:\n\u001b[0;32m      <a href='vscode-notebook-cell:/c%3A/Users/pgold/MatsHub/deep-Dive-1/class_notes/scopes_closures_decorators/decorators/decorator_class/decorating_classes.ipynb#X63sZmlsZQ%3D%3D?line=2'>3</a>\u001b[0m     \u001b[39mdef\u001b[39;49;00m \u001b[39m__init__\u001b[39;49m(\u001b[39mself\u001b[39;49m, name):\n\u001b[0;32m      <a href='vscode-notebook-cell:/c%3A/Users/pgold/MatsHub/deep-Dive-1/class_notes/scopes_closures_decorators/decorators/decorator_class/decorating_classes.ipynb#X63sZmlsZQ%3D%3D?line=3'>4</a>\u001b[0m         \u001b[39mself\u001b[39;49m\u001b[39m.\u001b[39;49mname \u001b[39m=\u001b[39;49m name\n",
      "\u001b[1;32mc:\\Users\\pgold\\MatsHub\\deep-Dive-1\\class_notes\\scopes_closures_decorators\\decorators\\decorator_class\\decorating_classes.ipynb Cell 41\u001b[0m in \u001b[0;36mdebug_Automobile\u001b[1;34m(cls)\u001b[0m\n\u001b[0;32m     <a href='vscode-notebook-cell:/c%3A/Users/pgold/MatsHub/deep-Dive-1/class_notes/scopes_closures_decorators/decorators/decorator_class/decorating_classes.ipynb#X63sZmlsZQ%3D%3D?line=19'>20</a>\u001b[0m \u001b[39mdef\u001b[39;00m \u001b[39mdebug_Automobile\u001b[39m(\u001b[39mcls\u001b[39m):\n\u001b[1;32m---> <a href='vscode-notebook-cell:/c%3A/Users/pgold/MatsHub/deep-Dive-1/class_notes/scopes_closures_decorators/decorators/decorator_class/decorating_classes.ipynb#X63sZmlsZQ%3D%3D?line=20'>21</a>\u001b[0m     \u001b[39mcls\u001b[39m\u001b[39m.\u001b[39mdebug \u001b[39m=\u001b[39m info\n\u001b[0;32m     <a href='vscode-notebook-cell:/c%3A/Users/pgold/MatsHub/deep-Dive-1/class_notes/scopes_closures_decorators/decorators/decorator_class/decorating_classes.ipynb#X63sZmlsZQ%3D%3D?line=21'>22</a>\u001b[0m     \u001b[39mreturn\u001b[39;00m \u001b[39mcls\u001b[39m\n",
      "\u001b[1;31mNameError\u001b[0m: name 'info' is not defined"
     ]
    }
   ],
   "source": [
    "@debug_Automobile\n",
    "class Person:\n",
    "    def __init__(self, name):\n",
    "        self.name = name"
   ]
  },
  {
   "cell_type": "code",
   "execution_count": 45,
   "id": "bffaf050",
   "metadata": {},
   "outputs": [
    {
     "ename": "NameError",
     "evalue": "name 'info' is not defined",
     "output_type": "error",
     "traceback": [
      "\u001b[1;31m---------------------------------------------------------------------------\u001b[0m",
      "\u001b[1;31mNameError\u001b[0m                                 Traceback (most recent call last)",
      "\u001b[1;32mc:\\Users\\pgold\\MatsHub\\deep-Dive-1\\class_notes\\scopes_closures_decorators\\decorators\\decorator_class\\decorating_classes.ipynb Cell 42\u001b[0m in \u001b[0;36m<cell line: 1>\u001b[1;34m()\u001b[0m\n\u001b[0;32m      <a href='vscode-notebook-cell:/c%3A/Users/pgold/MatsHub/deep-Dive-1/class_notes/scopes_closures_decorators/decorators/decorator_class/decorating_classes.ipynb#X60sZmlsZQ%3D%3D?line=0'>1</a>\u001b[0m \u001b[39m@debug_Automobile\u001b[39;49m\n\u001b[1;32m----> <a href='vscode-notebook-cell:/c%3A/Users/pgold/MatsHub/deep-Dive-1/class_notes/scopes_closures_decorators/decorators/decorator_class/decorating_classes.ipynb#X60sZmlsZQ%3D%3D?line=1'>2</a>\u001b[0m \u001b[39mclass\u001b[39;49;00m \u001b[39mAutomobile\u001b[39;49;00m:\n\u001b[0;32m      <a href='vscode-notebook-cell:/c%3A/Users/pgold/MatsHub/deep-Dive-1/class_notes/scopes_closures_decorators/decorators/decorator_class/decorating_classes.ipynb#X60sZmlsZQ%3D%3D?line=2'>3</a>\u001b[0m     \u001b[39mdef\u001b[39;49;00m \u001b[39m__init__\u001b[39;49m(\u001b[39mself\u001b[39;49m, make, model, year, top_speed):\n\u001b[0;32m      <a href='vscode-notebook-cell:/c%3A/Users/pgold/MatsHub/deep-Dive-1/class_notes/scopes_closures_decorators/decorators/decorator_class/decorating_classes.ipynb#X60sZmlsZQ%3D%3D?line=3'>4</a>\u001b[0m         \u001b[39mself\u001b[39;49m\u001b[39m.\u001b[39;49mmake \u001b[39m=\u001b[39;49m make\n",
      "\u001b[1;32mc:\\Users\\pgold\\MatsHub\\deep-Dive-1\\class_notes\\scopes_closures_decorators\\decorators\\decorator_class\\decorating_classes.ipynb Cell 42\u001b[0m in \u001b[0;36mdebug_Automobile\u001b[1;34m(cls)\u001b[0m\n\u001b[0;32m     <a href='vscode-notebook-cell:/c%3A/Users/pgold/MatsHub/deep-Dive-1/class_notes/scopes_closures_decorators/decorators/decorator_class/decorating_classes.ipynb#X60sZmlsZQ%3D%3D?line=19'>20</a>\u001b[0m \u001b[39mdef\u001b[39;00m \u001b[39mdebug_Automobile\u001b[39m(\u001b[39mcls\u001b[39m):\n\u001b[1;32m---> <a href='vscode-notebook-cell:/c%3A/Users/pgold/MatsHub/deep-Dive-1/class_notes/scopes_closures_decorators/decorators/decorator_class/decorating_classes.ipynb#X60sZmlsZQ%3D%3D?line=20'>21</a>\u001b[0m     \u001b[39mcls\u001b[39m\u001b[39m.\u001b[39mdebug \u001b[39m=\u001b[39m info\n\u001b[0;32m     <a href='vscode-notebook-cell:/c%3A/Users/pgold/MatsHub/deep-Dive-1/class_notes/scopes_closures_decorators/decorators/decorator_class/decorating_classes.ipynb#X60sZmlsZQ%3D%3D?line=21'>22</a>\u001b[0m     \u001b[39mreturn\u001b[39;00m \u001b[39mcls\u001b[39m\n",
      "\u001b[1;31mNameError\u001b[0m: name 'info' is not defined"
     ]
    }
   ],
   "source": [
    "@debug_Automobile\n",
    "class Automobile:\n",
    "    def __init__(self, make, model, year, top_speed):\n",
    "        self.make = make\n",
    "        self.model = model\n",
    "        self.year = year\n",
    "        self.top_speed = top_speed\n",
    "\n",
    "    @property\n",
    "    def speed(self):\n",
    "        return self.speed\n",
    "\n",
    "# @speed.setter\n",
    "def speed(self, new_speed):\n",
    "    if new_speed > top_speed:\n",
    "        raise ValueError(\"Speed cannot exceed top_speed.\")\n",
    "    else:\n",
    "        self._speed = new_speed\n",
    "\n",
    "def debug_Automobile(cls):\n",
    "    cls.debug = Automobile\n",
    "    return cls"
   ]
  },
  {
   "cell_type": "code",
   "execution_count": 36,
   "id": "462f7f07",
   "metadata": {},
   "outputs": [],
   "source": [
    "favorite = Automobile('Ford', 'Model T', 1908, 45)"
   ]
  },
  {
   "cell_type": "code",
   "execution_count": 40,
   "id": "e3c90208",
   "metadata": {},
   "outputs": [
    {
     "ename": "AttributeError",
     "evalue": "'Automobile' object has no attribute 'debug'",
     "output_type": "error",
     "traceback": [
      "\u001b[1;31m---------------------------------------------------------------------------\u001b[0m",
      "\u001b[1;31mAttributeError\u001b[0m                            Traceback (most recent call last)",
      "\u001b[1;32mc:\\Users\\pgold\\MatsHub\\deep-Dive-1\\class_notes\\scopes_closures_decorators\\decorators\\decorator_class\\decorating_classes.ipynb Cell 43\u001b[0m in \u001b[0;36m<cell line: 1>\u001b[1;34m()\u001b[0m\n\u001b[1;32m----> <a href='vscode-notebook-cell:/c%3A/Users/pgold/MatsHub/deep-Dive-1/class_notes/scopes_closures_decorators/decorators/decorator_class/decorating_classes.ipynb#X62sZmlsZQ%3D%3D?line=0'>1</a>\u001b[0m favorite\u001b[39m.\u001b[39;49mdebug\n",
      "\u001b[1;31mAttributeError\u001b[0m: 'Automobile' object has no attribute 'debug'"
     ]
    }
   ],
   "source": [
    "favorite.debug"
   ]
  },
  {
   "cell_type": "code",
   "execution_count": 46,
   "id": "63813efb",
   "metadata": {},
   "outputs": [],
   "source": [
    "from math import sqrt"
   ]
  },
  {
   "cell_type": "code",
   "execution_count": 49,
   "id": "8e427c7c",
   "metadata": {},
   "outputs": [],
   "source": [
    "class Point:\n",
    "    def __init__(self, x, y):\n",
    "        self.x = x\n",
    "        self.y = y\n",
    "\n",
    "    def __abs__(self):\n",
    "        return sqrt(self.x ** 2 + self.y ** 2)\n",
    "\n",
    "    def __repr__(self):\n",
    "        return 'Point({0}, {1})'.format(self.x, self.y)"
   ]
  },
  {
   "cell_type": "code",
   "execution_count": 51,
   "id": "cee0ce4b",
   "metadata": {},
   "outputs": [],
   "source": [
    "p1, p2, p3 = Point(2, 3), Point(2, 3), Point(0, 0)"
   ]
  },
  {
   "cell_type": "code",
   "execution_count": 52,
   "id": "5d8c1849",
   "metadata": {},
   "outputs": [
    {
     "data": {
      "text/plain": [
       "3.605551275463989"
      ]
     },
     "execution_count": 52,
     "metadata": {},
     "output_type": "execute_result"
    }
   ],
   "source": [
    "abs(p1)"
   ]
  },
  {
   "cell_type": "code",
   "execution_count": 53,
   "id": "9ae9e124",
   "metadata": {},
   "outputs": [
    {
     "data": {
      "text/plain": [
       "Point(2, 3)"
      ]
     },
     "execution_count": 53,
     "metadata": {},
     "output_type": "execute_result"
    }
   ],
   "source": [
    "p1"
   ]
  },
  {
   "cell_type": "code",
   "execution_count": 54,
   "id": "9ad9f4ec",
   "metadata": {},
   "outputs": [
    {
     "data": {
      "text/plain": [
       "False"
      ]
     },
     "execution_count": 54,
     "metadata": {},
     "output_type": "execute_result"
    }
   ],
   "source": [
    "p1 is p2"
   ]
  },
  {
   "cell_type": "code",
   "execution_count": 55,
   "id": "16c311ac",
   "metadata": {},
   "outputs": [
    {
     "data": {
      "text/plain": [
       "False"
      ]
     },
     "execution_count": 55,
     "metadata": {},
     "output_type": "execute_result"
    }
   ],
   "source": [
    "p2 is p3"
   ]
  },
  {
   "cell_type": "code",
   "execution_count": 56,
   "id": "7c58756e",
   "metadata": {},
   "outputs": [
    {
     "data": {
      "text/plain": [
       "False"
      ]
     },
     "execution_count": 56,
     "metadata": {},
     "output_type": "execute_result"
    }
   ],
   "source": [
    "p1 == p2"
   ]
  },
  {
   "cell_type": "code",
   "execution_count": 57,
   "id": "8d849557",
   "metadata": {},
   "outputs": [],
   "source": [
    "class Point:\n",
    "    def __init__(self, x, y):\n",
    "        self.x = x\n",
    "        self.y = y\n",
    "\n",
    "    def __abs__(self):\n",
    "        return sqrt(self.x ** 2 + self.y ** 2)\n",
    "\n",
    "    def __repr__(self):\n",
    "        return 'Point({0}, {1})'.format(self.x, self.y)\n",
    "\n",
    "def __eq__(self, other):\n",
    "    if isinstance(other, Point):\n",
    "        return self.x == other.x and self.y == other.y\n",
    "    else:\n",
    "        return False"
   ]
  },
  {
   "cell_type": "code",
   "execution_count": 58,
   "id": "74f160b6",
   "metadata": {},
   "outputs": [
    {
     "data": {
      "text/plain": [
       "False"
      ]
     },
     "execution_count": 58,
     "metadata": {},
     "output_type": "execute_result"
    }
   ],
   "source": [
    "p1 is p2"
   ]
  },
  {
   "cell_type": "code",
   "execution_count": 59,
   "id": "2c51ccb0",
   "metadata": {},
   "outputs": [
    {
     "data": {
      "text/plain": [
       "False"
      ]
     },
     "execution_count": 59,
     "metadata": {},
     "output_type": "execute_result"
    }
   ],
   "source": [
    "p1 == p2"
   ]
  },
  {
   "cell_type": "code",
   "execution_count": 60,
   "id": "da0704e8",
   "metadata": {},
   "outputs": [
    {
     "ename": "TypeError",
     "evalue": "'<' not supported between instances of 'Point' and 'Point'",
     "output_type": "error",
     "traceback": [
      "\u001b[1;31m---------------------------------------------------------------------------\u001b[0m",
      "\u001b[1;31mTypeError\u001b[0m                                 Traceback (most recent call last)",
      "\u001b[1;32mc:\\Users\\pgold\\MatsHub\\deep-Dive-1\\class_notes\\scopes_closures_decorators\\decorators\\decorator_class\\decorating_classes.ipynb Cell 56\u001b[0m in \u001b[0;36m<cell line: 1>\u001b[1;34m()\u001b[0m\n\u001b[1;32m----> <a href='vscode-notebook-cell:/c%3A/Users/pgold/MatsHub/deep-Dive-1/class_notes/scopes_closures_decorators/decorators/decorator_class/decorating_classes.ipynb#Y111sZmlsZQ%3D%3D?line=0'>1</a>\u001b[0m p1 \u001b[39m<\u001b[39;49m p2\n",
      "\u001b[1;31mTypeError\u001b[0m: '<' not supported between instances of 'Point' and 'Point'"
     ]
    }
   ],
   "source": [
    "p1 < p2"
   ]
  },
  {
   "cell_type": "code",
   "execution_count": 61,
   "id": "9a5ba3d8",
   "metadata": {},
   "outputs": [
    {
     "data": {
      "text/plain": [
       "False"
      ]
     },
     "execution_count": 61,
     "metadata": {},
     "output_type": "execute_result"
    }
   ],
   "source": [
    "p1 == p2"
   ]
  },
  {
   "cell_type": "code",
   "execution_count": 74,
   "id": "59afd7a9",
   "metadata": {},
   "outputs": [],
   "source": [
    "class Point:\n",
    "    def __init__(self, x, y):\n",
    "        self.x = x\n",
    "        self.y = y\n",
    "\n",
    "    def __abs__(self):\n",
    "        return sqrt(self.x ** 2 + self.y ** 2)\n",
    "\n",
    "    def __repr__(self):\n",
    "        return 'Point({0}, {1})'.format(self.x, self.y)\n",
    "\n",
    "    def __eq__(self, other):\n",
    "        if isinstance(other, Point):\n",
    "            return self.x == other.x and self.y == other.y\n",
    "        else:\n",
    "            return False\n",
    "\n",
    "    def __lt__(self, other):\n",
    "        if isinstance(other, Point):\n",
    "            return abs(self) < abs(other)\n",
    "        else:\n",
    "            return NotImplemented"
   ]
  },
  {
   "cell_type": "code",
   "execution_count": 75,
   "id": "525eb0c2",
   "metadata": {},
   "outputs": [],
   "source": [
    "p1, p2, p3 = Point(2, 3), Point(2, 3), Point(0, 0)"
   ]
  },
  {
   "cell_type": "code",
   "execution_count": 76,
   "id": "cc2003af",
   "metadata": {},
   "outputs": [
    {
     "data": {
      "text/plain": [
       "True"
      ]
     },
     "execution_count": 76,
     "metadata": {},
     "output_type": "execute_result"
    }
   ],
   "source": [
    "p1 == p2"
   ]
  },
  {
   "cell_type": "code",
   "execution_count": 77,
   "id": "4e665d0f",
   "metadata": {},
   "outputs": [
    {
     "data": {
      "text/plain": [
       "True"
      ]
     },
     "execution_count": 77,
     "metadata": {},
     "output_type": "execute_result"
    }
   ],
   "source": [
    "p3 < p1"
   ]
  },
  {
   "cell_type": "code",
   "execution_count": 78,
   "id": "46611bb0",
   "metadata": {},
   "outputs": [],
   "source": [
    "p4 = Point(100, 100)"
   ]
  },
  {
   "cell_type": "code",
   "execution_count": 79,
   "id": "19ddf9fb",
   "metadata": {},
   "outputs": [
    {
     "data": {
      "text/plain": [
       "False"
      ]
     },
     "execution_count": 79,
     "metadata": {},
     "output_type": "execute_result"
    }
   ],
   "source": [
    "p4 < p1"
   ]
  },
  {
   "cell_type": "code",
   "execution_count": 80,
   "id": "41cb4499",
   "metadata": {},
   "outputs": [
    {
     "data": {
      "text/plain": [
       "True"
      ]
     },
     "execution_count": 80,
     "metadata": {},
     "output_type": "execute_result"
    }
   ],
   "source": [
    "p4 > p1"
   ]
  },
  {
   "cell_type": "code",
   "execution_count": 81,
   "id": "23dda11f",
   "metadata": {},
   "outputs": [
    {
     "ename": "TypeError",
     "evalue": "'<=' not supported between instances of 'Point' and 'Point'",
     "output_type": "error",
     "traceback": [
      "\u001b[1;31m---------------------------------------------------------------------------\u001b[0m",
      "\u001b[1;31mTypeError\u001b[0m                                 Traceback (most recent call last)",
      "\u001b[1;32mc:\\Users\\pgold\\MatsHub\\deep-Dive-1\\class_notes\\scopes_closures_decorators\\decorators\\decorator_class\\decorating_classes.ipynb Cell 65\u001b[0m in \u001b[0;36m<cell line: 1>\u001b[1;34m()\u001b[0m\n\u001b[1;32m----> <a href='vscode-notebook-cell:/c%3A/Users/pgold/MatsHub/deep-Dive-1/class_notes/scopes_closures_decorators/decorators/decorator_class/decorating_classes.ipynb#Y125sZmlsZQ%3D%3D?line=0'>1</a>\u001b[0m p1 \u001b[39m<\u001b[39;49m\u001b[39m=\u001b[39;49m p4\n",
      "\u001b[1;31mTypeError\u001b[0m: '<=' not supported between instances of 'Point' and 'Point'"
     ]
    }
   ],
   "source": [
    "p1 <= p4"
   ]
  },
  {
   "cell_type": "code",
   "execution_count": 93,
   "id": "5c731fe1",
   "metadata": {},
   "outputs": [],
   "source": [
    "class Point:\n",
    "    def __init__(self, x, y):\n",
    "        self.x = x\n",
    "        self.y = y\n",
    "\n",
    "    def __abs__(self):\n",
    "        return sqrt(self.x ** 2 + self.y ** 2)\n",
    "\n",
    "    def __repr__(self):\n",
    "        return 'Point({0}, {1})'.format(self.x, self.y)\n",
    "\n",
    "    def __eq__(self, other):\n",
    "        if isinstance(other, Point):\n",
    "            return self.x == other.x and self.y == other.y\n",
    "        else:\n",
    "            return False\n",
    "\n",
    "    def __lt__(self, other):\n",
    "        if isinstance(other, Point):\n",
    "            return abs(self) < abs(other)\n",
    "        else:\n",
    "            return NotImplemented"
   ]
  },
  {
   "cell_type": "code",
   "execution_count": 84,
   "id": "e6841219",
   "metadata": {},
   "outputs": [],
   "source": [
    "p1, p2, p3 = Point(2, 3), Point(2, 3), Point(0,0)"
   ]
  },
  {
   "cell_type": "code",
   "execution_count": 85,
   "id": "eff35eac",
   "metadata": {},
   "outputs": [
    {
     "data": {
      "text/plain": [
       "True"
      ]
     },
     "execution_count": 85,
     "metadata": {},
     "output_type": "execute_result"
    }
   ],
   "source": [
    "p1 == p2"
   ]
  },
  {
   "cell_type": "code",
   "execution_count": 86,
   "id": "9ce41898",
   "metadata": {},
   "outputs": [
    {
     "data": {
      "text/plain": [
       "True"
      ]
     },
     "execution_count": 86,
     "metadata": {},
     "output_type": "execute_result"
    }
   ],
   "source": [
    "p3 < p1"
   ]
  },
  {
   "cell_type": "code",
   "execution_count": 87,
   "id": "1103f3d9",
   "metadata": {},
   "outputs": [],
   "source": [
    "p4 = Point(100, 100)"
   ]
  },
  {
   "cell_type": "code",
   "execution_count": 88,
   "id": "55d961bd",
   "metadata": {},
   "outputs": [
    {
     "data": {
      "text/plain": [
       "False"
      ]
     },
     "execution_count": 88,
     "metadata": {},
     "output_type": "execute_result"
    }
   ],
   "source": [
    "p4 < p1"
   ]
  },
  {
   "cell_type": "code",
   "execution_count": 90,
   "id": "a48a4a0d",
   "metadata": {},
   "outputs": [
    {
     "data": {
      "text/plain": [
       "True"
      ]
     },
     "execution_count": 90,
     "metadata": {},
     "output_type": "execute_result"
    }
   ],
   "source": [
    "p4 > p1"
   ]
  },
  {
   "cell_type": "code",
   "execution_count": 91,
   "id": "20275610",
   "metadata": {},
   "outputs": [
    {
     "data": {
      "text/plain": [
       "True"
      ]
     },
     "execution_count": 91,
     "metadata": {},
     "output_type": "execute_result"
    }
   ],
   "source": [
    "p1 < p4"
   ]
  },
  {
   "cell_type": "code",
   "execution_count": 92,
   "id": "d0c0adbd",
   "metadata": {},
   "outputs": [
    {
     "ename": "TypeError",
     "evalue": "'<=' not supported between instances of 'Point' and 'Point'",
     "output_type": "error",
     "traceback": [
      "\u001b[1;31m---------------------------------------------------------------------------\u001b[0m",
      "\u001b[1;31mTypeError\u001b[0m                                 Traceback (most recent call last)",
      "\u001b[1;32mc:\\Users\\pgold\\MatsHub\\deep-Dive-1\\class_notes\\scopes_closures_decorators\\decorators\\decorator_class\\decorating_classes.ipynb Cell 74\u001b[0m in \u001b[0;36m<cell line: 1>\u001b[1;34m()\u001b[0m\n\u001b[1;32m----> <a href='vscode-notebook-cell:/c%3A/Users/pgold/MatsHub/deep-Dive-1/class_notes/scopes_closures_decorators/decorators/decorator_class/decorating_classes.ipynb#Y140sZmlsZQ%3D%3D?line=0'>1</a>\u001b[0m p1 \u001b[39m<\u001b[39;49m\u001b[39m=\u001b[39;49m p4\n",
      "\u001b[1;31mTypeError\u001b[0m: '<=' not supported between instances of 'Point' and 'Point'"
     ]
    }
   ],
   "source": [
    "p1 <= p4"
   ]
  },
  {
   "cell_type": "markdown",
   "id": "88437cca",
   "metadata": {},
   "source": [
    "a = b iff a < b or a == b\n",
    "\n",
    "a > b iff not(a<b) and a != b\n",
    "\n",
    "a >= b iff not(a<b)"
   ]
  },
  {
   "cell_type": "code",
   "execution_count": 99,
   "id": "b1f95393",
   "metadata": {},
   "outputs": [],
   "source": [
    "def complete_ordering(cls):\n",
    "    if '__eq__' in  dir(cls) and '__lt__' in dir(cls):\n",
    "        cls.__le__ = lambda self, other: self < other or self == other\n",
    "        cls.__gt__ = lambda self, other: not (self < other) and not (self == other)\n",
    "        cls.__ge__ = lambda self, other: not (self < other)\n",
    "    return cls"
   ]
  },
  {
   "cell_type": "code",
   "execution_count": 100,
   "id": "b89830f8",
   "metadata": {},
   "outputs": [],
   "source": [
    "@complete_ordering\n",
    "class Point:\n",
    "    def __init__(self, x, y):\n",
    "        self.x = x\n",
    "        self.y = y\n",
    "\n",
    "    def __abs__(self):\n",
    "        return sqrt(self.x ** 2 + self.y ** 2)\n",
    "\n",
    "    def __repr__(self):\n",
    "        return 'Point({0}, {1})'.format(self.x, self.y)\n",
    "\n",
    "    def __eq__(self, other):\n",
    "        if isinstance(other, Point):\n",
    "            return self.x == other.x and self.y == other.y\n",
    "        else:\n",
    "            return False\n",
    "\n",
    "    def __lt__(self, other):\n",
    "        if isinstance(other, Point):\n",
    "            return abs(self) < abs(other)\n",
    "        else:\n",
    "            return NotImplemented"
   ]
  },
  {
   "cell_type": "code",
   "execution_count": 102,
   "id": "8f4f9132",
   "metadata": {},
   "outputs": [],
   "source": [
    "p1, p2, p3, p4 = Point(2, 3), Point(2, 3), Point(0,0), Point(100, 200)"
   ]
  },
  {
   "cell_type": "code",
   "execution_count": 103,
   "id": "1023ccce",
   "metadata": {},
   "outputs": [
    {
     "data": {
      "text/plain": [
       "True"
      ]
     },
     "execution_count": 103,
     "metadata": {},
     "output_type": "execute_result"
    }
   ],
   "source": [
    "p1 <= p4"
   ]
  },
  {
   "cell_type": "code",
   "execution_count": 104,
   "id": "c2ad1a51",
   "metadata": {},
   "outputs": [
    {
     "data": {
      "text/plain": [
       "True"
      ]
     },
     "execution_count": 104,
     "metadata": {},
     "output_type": "execute_result"
    }
   ],
   "source": [
    "p4 >= p2"
   ]
  },
  {
   "cell_type": "code",
   "execution_count": 105,
   "id": "dad26f01",
   "metadata": {},
   "outputs": [
    {
     "data": {
      "text/plain": [
       "False"
      ]
     },
     "execution_count": 105,
     "metadata": {},
     "output_type": "execute_result"
    }
   ],
   "source": [
    "p1 != p2"
   ]
  },
  {
   "cell_type": "code",
   "execution_count": 106,
   "id": "7c3bd919",
   "metadata": {},
   "outputs": [],
   "source": [
    "from functools import total_ordering"
   ]
  },
  {
   "cell_type": "code",
   "execution_count": 107,
   "id": "c1f7616d",
   "metadata": {},
   "outputs": [],
   "source": [
    "@total_ordering\n",
    "class Point:\n",
    "    def __init__(self, x, y):\n",
    "        self.x = x\n",
    "        self.y = y\n",
    "\n",
    "    def __abs__(self):\n",
    "        return sqrt(self.x ** 2 + self.y ** 2)\n",
    "\n",
    "    def __repr__(self):\n",
    "        return 'Point({0}, {1})'.format(self.x, self.y)\n",
    "\n",
    "    def __eq__(self, other):\n",
    "        if isinstance(other, Point):\n",
    "            return self.x == other.x and self.y == other.y\n",
    "        else:\n",
    "            return False\n",
    "\n",
    "    def __lt__(self, other):\n",
    "        if isinstance(other, Point):\n",
    "            return abs(self) < abs(other)\n",
    "        else:\n",
    "            return NotImplemented"
   ]
  },
  {
   "cell_type": "code",
   "execution_count": 108,
   "id": "3eb15ca9",
   "metadata": {},
   "outputs": [],
   "source": [
    "p1, p2, p3, p4 = Point(2, 3), Point(2, 3), Point(0,0), Point(100, 200)"
   ]
  },
  {
   "cell_type": "code",
   "execution_count": 109,
   "id": "2c385da7",
   "metadata": {},
   "outputs": [
    {
     "data": {
      "text/plain": [
       "True"
      ]
     },
     "execution_count": 109,
     "metadata": {},
     "output_type": "execute_result"
    }
   ],
   "source": [
    "p1 <= p2"
   ]
  },
  {
   "cell_type": "code",
   "execution_count": 110,
   "id": "ea799f82",
   "metadata": {},
   "outputs": [
    {
     "data": {
      "text/plain": [
       "False"
      ]
     },
     "execution_count": 110,
     "metadata": {},
     "output_type": "execute_result"
    }
   ],
   "source": [
    "p1 >= p4"
   ]
  },
  {
   "cell_type": "code",
   "execution_count": 112,
   "id": "a9134b64",
   "metadata": {},
   "outputs": [],
   "source": [
    "@total_ordering\n",
    "class Point:\n",
    "    def __init__(self, x, y):\n",
    "        self.x = x\n",
    "        self.y = y\n",
    "\n",
    "    def __abs__(self):\n",
    "        return sqrt(self.x ** 2 + self.y ** 2)\n",
    "\n",
    "    def __repr__(self):\n",
    "        return 'Point({0}, {1})'.format(self.x, self.y)\n",
    "\n",
    "    def __eq__(self, other):\n",
    "        if isinstance(other, Point):\n",
    "            return self.x == other.x and self.y == other.y\n",
    "        else:\n",
    "            return False\n",
    "\n",
    "    def __gt__(self, other):\n",
    "        if isinstance(other, Point):\n",
    "            return abs(self) > abs(other)\n",
    "        else:\n",
    "            return NotImplemented"
   ]
  },
  {
   "cell_type": "code",
   "execution_count": 113,
   "id": "b3d05d71",
   "metadata": {},
   "outputs": [],
   "source": [
    "p1, p2, p3, p4 = Point(2, 3), Point(2, 3), Point(0,0), Point(100, 200)"
   ]
  },
  {
   "cell_type": "code",
   "execution_count": 114,
   "id": "954d2f79",
   "metadata": {},
   "outputs": [
    {
     "data": {
      "text/plain": [
       "True"
      ]
     },
     "execution_count": 114,
     "metadata": {},
     "output_type": "execute_result"
    }
   ],
   "source": [
    "p4 > p1"
   ]
  },
  {
   "cell_type": "code",
   "execution_count": 115,
   "id": "d664217c",
   "metadata": {},
   "outputs": [
    {
     "data": {
      "text/plain": [
       "False"
      ]
     },
     "execution_count": 115,
     "metadata": {},
     "output_type": "execute_result"
    }
   ],
   "source": [
    "p2 <= p3"
   ]
  },
  {
   "cell_type": "code",
   "execution_count": null,
   "id": "e26e2e12",
   "metadata": {},
   "outputs": [],
   "source": []
  }
 ],
 "metadata": {
  "kernelspec": {
   "display_name": "Python 3.9.12 ('base')",
   "language": "python",
   "name": "python3"
  },
  "language_info": {
   "codemirror_mode": {
    "name": "ipython",
    "version": 3
   },
   "file_extension": ".py",
   "mimetype": "text/x-python",
   "name": "python",
   "nbconvert_exporter": "python",
   "pygments_lexer": "ipython3",
   "version": "3.9.12"
  },
  "vscode": {
   "interpreter": {
    "hash": "a624adbc5e596fddf72740b255048309200567f23df85867ce297e9f9d364c1b"
   }
  }
 },
 "nbformat": 4,
 "nbformat_minor": 5
}
