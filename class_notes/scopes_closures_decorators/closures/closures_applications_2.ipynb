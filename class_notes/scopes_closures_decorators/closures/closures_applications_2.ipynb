{
 "cells": [
  {
   "cell_type": "markdown",
   "id": "68288c68",
   "metadata": {},
   "source": [
    "                    Closures Applications (Part 2)"
   ]
  },
  {
   "cell_type": "code",
   "execution_count": 1,
   "id": "507329c0",
   "metadata": {},
   "outputs": [],
   "source": [
    "def counter(initial_value=0):\n",
    "    def inc(increment=1):\n",
    "        nonlocal initial_value\n",
    "        initial_value += increment\n",
    "        return initial_value\n",
    "    return inc"
   ]
  },
  {
   "cell_type": "code",
   "execution_count": 2,
   "id": "ba5af047",
   "metadata": {},
   "outputs": [],
   "source": [
    "counter1 = counter()"
   ]
  },
  {
   "cell_type": "code",
   "execution_count": 3,
   "id": "d17e8980",
   "metadata": {},
   "outputs": [
    {
     "data": {
      "text/plain": [
       "1"
      ]
     },
     "execution_count": 3,
     "metadata": {},
     "output_type": "execute_result"
    }
   ],
   "source": [
    "counter1()"
   ]
  },
  {
   "cell_type": "code",
   "execution_count": 4,
   "id": "5d0cdc64",
   "metadata": {},
   "outputs": [
    {
     "data": {
      "text/plain": [
       "2"
      ]
     },
     "execution_count": 4,
     "metadata": {},
     "output_type": "execute_result"
    }
   ],
   "source": [
    "counter1()"
   ]
  },
  {
   "cell_type": "code",
   "execution_count": 5,
   "id": "bae8b021",
   "metadata": {},
   "outputs": [],
   "source": [
    "def counter(fn):\n",
    "    cnt = 0\n",
    "    def inner(*args, **kwargs):\n",
    "        nonlocal cnt\n",
    "        cnt += 1\n",
    "        print('{0} has been called {1} times'.format(fn.__name__, cnt))\n",
    "        return fn(*args, **kwargs)\n",
    "    return inner"
   ]
  },
  {
   "cell_type": "code",
   "execution_count": 6,
   "id": "b52be1fb",
   "metadata": {},
   "outputs": [],
   "source": [
    "def add(a, b):\n",
    "    return a + b"
   ]
  },
  {
   "cell_type": "code",
   "execution_count": 7,
   "id": "392e10bd",
   "metadata": {},
   "outputs": [],
   "source": [
    "def mult(a, b):\n",
    "    return a * b"
   ]
  },
  {
   "cell_type": "code",
   "execution_count": 8,
   "id": "a327fa82",
   "metadata": {},
   "outputs": [],
   "source": [
    "counter_add = counter(add)"
   ]
  },
  {
   "cell_type": "code",
   "execution_count": 9,
   "id": "de3cfce3",
   "metadata": {},
   "outputs": [
    {
     "data": {
      "text/plain": [
       "(<cell at 0x00000259B29DF640: int object at 0x00000259AE0000D0>,\n",
       " <cell at 0x00000259B29DF6D0: function object at 0x00000259B2563250>)"
      ]
     },
     "execution_count": 9,
     "metadata": {},
     "output_type": "execute_result"
    }
   ],
   "source": [
    "counter_add.__closure__"
   ]
  },
  {
   "cell_type": "code",
   "execution_count": 10,
   "id": "6d8c305a",
   "metadata": {},
   "outputs": [
    {
     "data": {
      "text/plain": [
       "('cnt', 'fn')"
      ]
     },
     "execution_count": 10,
     "metadata": {},
     "output_type": "execute_result"
    }
   ],
   "source": [
    "counter_add.__code__.co_freevars"
   ]
  },
  {
   "cell_type": "code",
   "execution_count": 11,
   "id": "c7aa5b01",
   "metadata": {},
   "outputs": [
    {
     "name": "stdout",
     "output_type": "stream",
     "text": [
      "add has been called 1 times\n"
     ]
    },
    {
     "data": {
      "text/plain": [
       "30"
      ]
     },
     "execution_count": 11,
     "metadata": {},
     "output_type": "execute_result"
    }
   ],
   "source": [
    "counter_add(10, 20)"
   ]
  },
  {
   "cell_type": "code",
   "execution_count": 13,
   "id": "4ddbdebe",
   "metadata": {},
   "outputs": [],
   "source": [
    "counter_mult = counter(mult)"
   ]
  },
  {
   "cell_type": "code",
   "execution_count": 14,
   "id": "ee633b38",
   "metadata": {},
   "outputs": [
    {
     "name": "stdout",
     "output_type": "stream",
     "text": [
      "mult has been called 1 times\n"
     ]
    },
    {
     "data": {
      "text/plain": [
       "10"
      ]
     },
     "execution_count": 14,
     "metadata": {},
     "output_type": "execute_result"
    }
   ],
   "source": [
    "counter_mult(2, 5)"
   ]
  },
  {
   "cell_type": "code",
   "execution_count": 15,
   "id": "e1f1e709",
   "metadata": {},
   "outputs": [],
   "source": [
    "counters = dict()"
   ]
  },
  {
   "cell_type": "code",
   "execution_count": 16,
   "id": "802cbae3",
   "metadata": {},
   "outputs": [],
   "source": [
    "def counter(fn):\n",
    "    cnt = 0\n",
    "    def inner(*args, **kwargs):\n",
    "        nonlocal cnt\n",
    "        cnt += 1\n",
    "        counters[fn.__name__] = cnt\n",
    "        return fn(*args, **kwargs)\n",
    "    return inner"
   ]
  },
  {
   "cell_type": "code",
   "execution_count": 18,
   "id": "f3b7e0f1",
   "metadata": {},
   "outputs": [],
   "source": [
    "counted_add = counter(add)\n",
    "counted_mult = counter(mult)"
   ]
  },
  {
   "cell_type": "code",
   "execution_count": 19,
   "id": "23282d3c",
   "metadata": {},
   "outputs": [
    {
     "data": {
      "text/plain": [
       "30"
      ]
     },
     "execution_count": 19,
     "metadata": {},
     "output_type": "execute_result"
    }
   ],
   "source": [
    "counted_add(10, 20)"
   ]
  },
  {
   "cell_type": "code",
   "execution_count": 20,
   "id": "a84fba73",
   "metadata": {},
   "outputs": [
    {
     "data": {
      "text/plain": [
       "50"
      ]
     },
     "execution_count": 20,
     "metadata": {},
     "output_type": "execute_result"
    }
   ],
   "source": [
    "counted_add(20, 30)"
   ]
  },
  {
   "cell_type": "code",
   "execution_count": 21,
   "id": "564b5490",
   "metadata": {},
   "outputs": [
    {
     "data": {
      "text/plain": [
       "{'add': 2}"
      ]
     },
     "execution_count": 21,
     "metadata": {},
     "output_type": "execute_result"
    }
   ],
   "source": [
    "counters"
   ]
  },
  {
   "cell_type": "code",
   "execution_count": 22,
   "id": "a66b3b82",
   "metadata": {},
   "outputs": [
    {
     "data": {
      "text/plain": [
       "10"
      ]
     },
     "execution_count": 22,
     "metadata": {},
     "output_type": "execute_result"
    }
   ],
   "source": [
    "counted_mult(2, 5)"
   ]
  },
  {
   "cell_type": "code",
   "execution_count": 23,
   "id": "4e019d15",
   "metadata": {},
   "outputs": [
    {
     "data": {
      "text/plain": [
       "{'add': 2, 'mult': 1}"
      ]
     },
     "execution_count": 23,
     "metadata": {},
     "output_type": "execute_result"
    }
   ],
   "source": [
    "counters"
   ]
  },
  {
   "cell_type": "code",
   "execution_count": 24,
   "id": "163fb870",
   "metadata": {},
   "outputs": [],
   "source": [
    "def counter(fn, counters):\n",
    "    cnt = 0\n",
    "    def inner(*args, **kwargs):\n",
    "        nonlocal cnt\n",
    "        cnt += 1\n",
    "        counters[fn.__name__] = cnt\n",
    "        return fn(*args, **kwargs)\n",
    "    return inner"
   ]
  },
  {
   "cell_type": "code",
   "execution_count": 27,
   "id": "d68f7161",
   "metadata": {},
   "outputs": [],
   "source": [
    "c = dict()"
   ]
  },
  {
   "cell_type": "code",
   "execution_count": 28,
   "id": "00389df5",
   "metadata": {},
   "outputs": [],
   "source": [
    "counted_add = counter(add, c)\n",
    "counted_mult = counter(mult, c)"
   ]
  },
  {
   "cell_type": "code",
   "execution_count": 29,
   "id": "9ae0ae21",
   "metadata": {},
   "outputs": [
    {
     "data": {
      "text/plain": [
       "{'add': 2, 'mult': 1}"
      ]
     },
     "execution_count": 29,
     "metadata": {},
     "output_type": "execute_result"
    }
   ],
   "source": [
    "counters"
   ]
  },
  {
   "cell_type": "code",
   "execution_count": 30,
   "id": "5ce5feeb",
   "metadata": {},
   "outputs": [
    {
     "data": {
      "text/plain": [
       "30"
      ]
     },
     "execution_count": 30,
     "metadata": {},
     "output_type": "execute_result"
    }
   ],
   "source": [
    "counted_add(10, 20)"
   ]
  },
  {
   "cell_type": "code",
   "execution_count": 31,
   "id": "1d8a3edf",
   "metadata": {},
   "outputs": [
    {
     "data": {
      "text/plain": [
       "10"
      ]
     },
     "execution_count": 31,
     "metadata": {},
     "output_type": "execute_result"
    }
   ],
   "source": [
    "counted_mult(2, 5)"
   ]
  },
  {
   "cell_type": "code",
   "execution_count": 32,
   "id": "4f78535d",
   "metadata": {},
   "outputs": [
    {
     "data": {
      "text/plain": [
       "18"
      ]
     },
     "execution_count": 32,
     "metadata": {},
     "output_type": "execute_result"
    }
   ],
   "source": [
    "counted_mult(3, 6)"
   ]
  },
  {
   "cell_type": "code",
   "execution_count": 33,
   "id": "f5b3a95e",
   "metadata": {},
   "outputs": [
    {
     "data": {
      "text/plain": [
       "{'add': 2, 'mult': 1}"
      ]
     },
     "execution_count": 33,
     "metadata": {},
     "output_type": "execute_result"
    }
   ],
   "source": [
    " counters"
   ]
  },
  {
   "cell_type": "code",
   "execution_count": 34,
   "id": "93e94977",
   "metadata": {},
   "outputs": [
    {
     "data": {
      "text/plain": [
       "{'add': 1, 'mult': 2}"
      ]
     },
     "execution_count": 34,
     "metadata": {},
     "output_type": "execute_result"
    }
   ],
   "source": [
    "c"
   ]
  },
  {
   "cell_type": "code",
   "execution_count": 35,
   "id": "b8122db7",
   "metadata": {},
   "outputs": [],
   "source": [
    "def fact(n):\n",
    "    product = 1\n",
    "    for i in range(2, n+1):\n",
    "        product *= i\n",
    "    return product"
   ]
  },
  {
   "cell_type": "code",
   "execution_count": 36,
   "id": "f19d14a0",
   "metadata": {},
   "outputs": [
    {
     "data": {
      "text/plain": [
       "6"
      ]
     },
     "execution_count": 36,
     "metadata": {},
     "output_type": "execute_result"
    }
   ],
   "source": [
    "fact(3)"
   ]
  },
  {
   "cell_type": "code",
   "execution_count": 37,
   "id": "3bcfa3ab",
   "metadata": {},
   "outputs": [
    {
     "data": {
      "text/plain": [
       "120"
      ]
     },
     "execution_count": 37,
     "metadata": {},
     "output_type": "execute_result"
    }
   ],
   "source": [
    "fact(5)"
   ]
  },
  {
   "cell_type": "code",
   "execution_count": 38,
   "id": "93192323",
   "metadata": {},
   "outputs": [],
   "source": [
    "counted_fact = counter(fact, c)"
   ]
  },
  {
   "cell_type": "code",
   "execution_count": 39,
   "id": "1636ee3e",
   "metadata": {},
   "outputs": [
    {
     "data": {
      "text/plain": [
       "120"
      ]
     },
     "execution_count": 39,
     "metadata": {},
     "output_type": "execute_result"
    }
   ],
   "source": [
    "counted_fact(5)"
   ]
  },
  {
   "cell_type": "code",
   "execution_count": 40,
   "id": "35df37b2",
   "metadata": {},
   "outputs": [
    {
     "data": {
      "text/plain": [
       "{'add': 1, 'mult': 2, 'fact': 1}"
      ]
     },
     "execution_count": 40,
     "metadata": {},
     "output_type": "execute_result"
    }
   ],
   "source": [
    "c"
   ]
  },
  {
   "cell_type": "code",
   "execution_count": 41,
   "id": "6615076f",
   "metadata": {},
   "outputs": [],
   "source": [
    "fact = counter(fact, c)"
   ]
  },
  {
   "cell_type": "code",
   "execution_count": 42,
   "id": "e74f8e66",
   "metadata": {},
   "outputs": [
    {
     "data": {
      "text/plain": [
       "(<cell at 0x00000259B2D41A80: int object at 0x00000259AE0000D0>,\n",
       " <cell at 0x00000259B2D40A00: dict object at 0x00000259B2662140>,\n",
       " <cell at 0x00000259B2D43BB0: function object at 0x00000259B31324D0>)"
      ]
     },
     "execution_count": 42,
     "metadata": {},
     "output_type": "execute_result"
    }
   ],
   "source": [
    "fact.__closure__"
   ]
  },
  {
   "cell_type": "code",
   "execution_count": 43,
   "id": "285e805e",
   "metadata": {},
   "outputs": [
    {
     "data": {
      "text/plain": [
       "6"
      ]
     },
     "execution_count": 43,
     "metadata": {},
     "output_type": "execute_result"
    }
   ],
   "source": [
    "fact(3)"
   ]
  },
  {
   "cell_type": "code",
   "execution_count": 44,
   "id": "9e3af631",
   "metadata": {},
   "outputs": [
    {
     "data": {
      "text/plain": [
       "120"
      ]
     },
     "execution_count": 44,
     "metadata": {},
     "output_type": "execute_result"
    }
   ],
   "source": [
    "fact(5)"
   ]
  },
  {
   "cell_type": "code",
   "execution_count": 45,
   "id": "87f4515a",
   "metadata": {},
   "outputs": [
    {
     "data": {
      "text/plain": [
       "{'add': 1, 'mult': 2, 'fact': 2}"
      ]
     },
     "execution_count": 45,
     "metadata": {},
     "output_type": "execute_result"
    }
   ],
   "source": [
    "c"
   ]
  },
  {
   "cell_type": "code",
   "execution_count": 46,
   "id": "22d2b013",
   "metadata": {},
   "outputs": [
    {
     "data": {
      "text/plain": [
       "3628800"
      ]
     },
     "execution_count": 46,
     "metadata": {},
     "output_type": "execute_result"
    }
   ],
   "source": [
    "fact(10)"
   ]
  },
  {
   "cell_type": "code",
   "execution_count": 47,
   "id": "86d1450e",
   "metadata": {},
   "outputs": [
    {
     "data": {
      "text/plain": [
       "{'add': 1, 'mult': 2, 'fact': 3}"
      ]
     },
     "execution_count": 47,
     "metadata": {},
     "output_type": "execute_result"
    }
   ],
   "source": [
    "c"
   ]
  },
  {
   "cell_type": "code",
   "execution_count": 48,
   "id": "ad0d0ad0",
   "metadata": {},
   "outputs": [],
   "source": [
    "add = counter(add, c)"
   ]
  },
  {
   "cell_type": "code",
   "execution_count": 49,
   "id": "ded3768c",
   "metadata": {},
   "outputs": [],
   "source": [
    "mult = counter(mult, c)"
   ]
  },
  {
   "cell_type": "code",
   "execution_count": 50,
   "id": "34b25953",
   "metadata": {},
   "outputs": [
    {
     "data": {
      "text/plain": [
       "30"
      ]
     },
     "execution_count": 50,
     "metadata": {},
     "output_type": "execute_result"
    }
   ],
   "source": [
    "add(10, 20)"
   ]
  },
  {
   "cell_type": "code",
   "execution_count": null,
   "id": "a89084dd",
   "metadata": {},
   "outputs": [],
   "source": []
  }
 ],
 "metadata": {
  "kernelspec": {
   "display_name": "Python 3.10.7 64-bit (microsoft store)",
   "language": "python",
   "name": "python3"
  },
  "language_info": {
   "codemirror_mode": {
    "name": "ipython",
    "version": 3
   },
   "file_extension": ".py",
   "mimetype": "text/x-python",
   "name": "python",
   "nbconvert_exporter": "python",
   "pygments_lexer": "ipython3",
   "version": "3.10.7"
  },
  "vscode": {
   "interpreter": {
    "hash": "234ef6a6594d3bde90fb6d953f8819a2c5e4558d5396c2bcf39db0789736caa3"
   }
  }
 },
 "nbformat": 4,
 "nbformat_minor": 5
}
