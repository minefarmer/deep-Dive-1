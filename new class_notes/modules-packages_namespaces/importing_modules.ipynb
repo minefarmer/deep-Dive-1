{
 "cells": [
  {
   "cell_type": "markdown",
   "id": "9eafbfb4",
   "metadata": {},
   "source": [
    "                Importing Modules"
   ]
  },
  {
   "cell_type": "markdown",
   "id": "daa0b751",
   "metadata": {},
   "source": [
    "When we run a statement such as\n",
    "\n",
    "import fractions\n",
    "\n",
    "What is Python actually doing?"
   ]
  },
  {
   "cell_type": "markdown",
   "id": "8f9fd83e",
   "metadata": {},
   "source": [
    "The first thing to note is that Python is doingg the import at run time. i,e, while my code is actually running.\n",
    "\n",
    "This is different from traditional compiled languages such as C, where modules are compiles and linked at compile time.\n",
    "\n",
    "In both cases though, the system needs to know where those code files exist.\n",
    "\n",
    "Python uses a relatively complex system of how to find and load modules, we'll take a look at the main points."
   ]
  },
  {
   "cell_type": "markdown",
   "id": "46378426",
   "metadata": {},
   "source": [
    "The sys module has a few properties that define where Python is going to look for modules (either built-in or standard library as well as our own or third party):"
   ]
  },
  {
   "cell_type": "markdown",
   "id": "890e71c7",
   "metadata": {},
   "source": [
    "import sys"
   ]
  },
  {
   "cell_type": "markdown",
   "id": "271d54de",
   "metadata": {},
   "source": [
    "Where is Python installed?"
   ]
  },
  {
   "cell_type": "code",
   "execution_count": 2,
   "id": "df6cfa2a",
   "metadata": {},
   "outputs": [
    {
     "data": {
      "text/plain": [
       "'c:\\\\Users\\\\pgold\\\\anaconda3'"
      ]
     },
     "execution_count": 2,
     "metadata": {},
     "output_type": "execute_result"
    }
   ],
   "source": [
    "sys.prefix"
   ]
  },
  {
   "cell_type": "markdown",
   "id": "4ab44807",
   "metadata": {},
   "source": [
    "Where are the compiled C binaries located?"
   ]
  },
  {
   "cell_type": "code",
   "execution_count": 1,
   "id": "991df3da",
   "metadata": {},
   "outputs": [
    {
     "data": {
      "text/plain": [
       "'c:\\\\Users\\\\pgold\\\\anaconda3'"
      ]
     },
     "execution_count": 1,
     "metadata": {},
     "output_type": "execute_result"
    }
   ],
   "source": [
    "sys.exec_prefix"
   ]
  },
  {
   "cell_type": "markdown",
   "id": "17f6dbbb",
   "metadata": {},
   "source": [
    "These two properties are how virtual environments are basically able to work with different environments. Python is installed to a different set of directories, and these prefixes are manipulated to reflect the current Python location."
   ]
  },
  {
   "cell_type": "markdown",
   "id": "81d30f8a",
   "metadata": {},
   "source": [
    "Where does Python look for imports."
   ]
  },
  {
   "cell_type": "code",
   "execution_count": 1,
   "id": "85f9d1b6",
   "metadata": {},
   "outputs": [
    {
     "data": {
      "text/plain": [
       "['c:\\\\Users\\\\pgold\\\\MatsHub\\\\deep-Dive-1\\\\class_notes\\\\modules_packages_namespaces',\n",
       " 'c:\\\\Users\\\\pgold\\\\anaconda3\\\\python39.zip',\n",
       " 'c:\\\\Users\\\\pgold\\\\anaconda3\\\\DLLs',\n",
       " 'c:\\\\Users\\\\pgold\\\\anaconda3\\\\lib',\n",
       " 'c:\\\\Users\\\\pgold\\\\anaconda3',\n",
       " '',\n",
       " 'c:\\\\Users\\\\pgold\\\\anaconda3\\\\lib\\\\site-packages',\n",
       " 'c:\\\\Users\\\\pgold\\\\anaconda3\\\\lib\\\\site-packages\\\\win32',\n",
       " 'c:\\\\Users\\\\pgold\\\\anaconda3\\\\lib\\\\site-packages\\\\win32\\\\lib',\n",
       " 'c:\\\\Users\\\\pgold\\\\anaconda3\\\\lib\\\\site-packages\\\\Pythonwin']"
      ]
     },
     "execution_count": 1,
     "metadata": {},
     "output_type": "execute_result"
    }
   ],
   "source": [
    "sys.path"
   ]
  },
  {
   "cell_type": "markdown",
   "id": "21e53780",
   "metadata": {},
   "source": [
    "Basically when we import a module, Python will search for the module in the paths contained in sys,path.\n",
    "\n",
    "If it does not find the module in one of those paths, the import will fail.\n",
    "\n",
    "So if I ever run into  a problem where python is not able to import a module or package, I should check this first to make sure the path to your module/package is in that list."
   ]
  },
  {
   "cell_type": "markdown",
   "id": "337082ac",
   "metadata": {},
   "source": [
    "At a high level, this is how Python imports a module from a file."
   ]
  },
  {
   "cell_type": "markdown",
   "id": "033a3a78",
   "metadata": {},
   "source": [
    "Checks the sys.modules cache to see if the module has already been imported - if so it simply uses the reference in there, otherwise:\n",
    "\n",
    "creates a new module object (types.ModuleType)\n",
    "\n",
    "loads the source code from file\n",
    "\n",
    "adds an entry to sys.modules with name as key and the newly created\n",
    "\n",
    "compiles and executes the source code"
   ]
  },
  {
   "cell_type": "markdown",
   "id": "54bea11c",
   "metadata": {},
   "source": [
    "One thing that's really to important to note is that when a module is imported, the module code is executed."
   ]
  },
  {
   "cell_type": "markdown",
   "id": "5cd6fcfc",
   "metadata": {},
   "source": [
    "Example 1\n",
    "\n",
    "This example shows that when we import a module, the module code is actually executed. Futhermore, that module now has it's own namespace that can be seen in __dict__."
   ]
  },
  {
   "cell_type": "markdown",
   "id": "e9fc5730",
   "metadata": {},
   "source": [
    "Example 2"
   ]
  },
  {
   "cell_type": "markdown",
   "id": "19fe3ca0",
   "metadata": {},
   "source": [
    "In this example, we can see that when we import a module, Python first looks for it in sys,modules.\n",
    "\n",
    "To make the point, we put a key/value pair in sys.modules ourselves, and then import it.\n",
    "\n",
    "In fact we put a function in there instead of a module and import that.\n",
    "\n",
    "Please do not do this! I'm just making the point that import will first look in the cache and immediately just return the object if the name is found, basically just as we had written: module = sys.modules['module]"
   ]
  },
  {
   "cell_type": "code",
   "execution_count": 2,
   "id": "49847a9b",
   "metadata": {},
   "outputs": [],
   "source": [
    "sys.modules['test'] = lambda: 'Testing module caching'"
   ]
  },
  {
   "cell_type": "code",
   "execution_count": 3,
   "id": "25dbb5b9",
   "metadata": {},
   "outputs": [],
   "source": [
    "import test"
   ]
  },
  {
   "cell_type": "markdown",
   "id": "b09f7d41",
   "metadata": {},
   "source": [
    "See, it got the \"module\" from sys..."
   ]
  },
  {
   "cell_type": "code",
   "execution_count": 4,
   "id": "776e6607",
   "metadata": {},
   "outputs": [
    {
     "data": {
      "text/plain": [
       "<function __main__.<lambda>()>"
      ]
     },
     "execution_count": 4,
     "metadata": {},
     "output_type": "execute_result"
    }
   ],
   "source": [
    "test"
   ]
  },
  {
   "cell_type": "code",
   "execution_count": 5,
   "id": "8acbb9c1",
   "metadata": {},
   "outputs": [
    {
     "data": {
      "text/plain": [
       "'Testing module caching'"
      ]
     },
     "execution_count": 5,
     "metadata": {},
     "output_type": "execute_result"
    }
   ],
   "source": [
    "test()"
   ]
  },
  {
   "cell_type": "markdown",
   "id": "8729033a",
   "metadata": {},
   "source": [
    "Example 3a"
   ]
  },
  {
   "cell_type": "markdown",
   "id": "c5e36415",
   "metadata": {},
   "source": [
    "In this example we look at a simplified view of how Python imports a module.\n",
    " We use two built-in functions, compile and exec."
   ]
  },
  {
   "cell_type": "markdown",
   "id": "8a82f356",
   "metadata": {},
   "source": [
    "The compile function compiles source(e,g, text) into a code object. "
   ]
  },
  {
   "cell_type": "markdown",
   "id": "fea9c5d6",
   "metadata": {},
   "source": [
    "The exec function is used to execute a code object, Optionally we can specify what dictionary should be used to store global symbols."
   ]
  },
  {
   "cell_type": "markdown",
   "id": "0f578b84",
   "metadata": {},
   "source": [
    "In our case we are going to want to use out module's __dict__."
   ]
  },
  {
   "cell_type": "markdown",
   "id": "8a8b6452",
   "metadata": {},
   "source": [
    "Example 3b"
   ]
  },
  {
   "cell_type": "markdown",
   "id": "c3933120",
   "metadata": {},
   "source": [
    "This is essentially the same as example 3a, except we make our inportes into a function and use it to show how we technically should look for a cached version of the module first."
   ]
  }
 ],
 "metadata": {
  "kernelspec": {
   "display_name": "Python 3.9.12 ('base')",
   "language": "python",
   "name": "python3"
  },
  "language_info": {
   "codemirror_mode": {
    "name": "ipython",
    "version": 3
   },
   "file_extension": ".py",
   "mimetype": "text/x-python",
   "name": "python",
   "nbconvert_exporter": "python",
   "pygments_lexer": "ipython3",
   "version": "3.9.12"
  },
  "vscode": {
   "interpreter": {
    "hash": "a624adbc5e596fddf72740b255048309200567f23df85867ce297e9f9d364c1b"
   }
  }
 },
 "nbformat": 4,
 "nbformat_minor": 5
}
