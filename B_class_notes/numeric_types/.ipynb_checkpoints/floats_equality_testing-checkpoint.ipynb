{
 "cells": [
  {
   "cell_type": "markdown",
   "id": "68f2441f",
   "metadata": {},
   "source": [
    "FLOATS: Equality testing"
   ]
  },
  {
   "cell_type": "markdown",
   "id": "ddd71234",
   "metadata": {},
   "source": [
    "Can lead to some wierdness in our code."
   ]
  },
  {
   "cell_type": "code",
   "execution_count": 1,
   "id": "19be391c",
   "metadata": {},
   "outputs": [
    {
     "data": {
      "text/plain": [
       "False"
      ]
     },
     "execution_count": 1,
     "metadata": {},
     "output_type": "execute_result"
    }
   ],
   "source": [
    "x = 0.1 + 0.1 + 0.1\n",
    "y = 0.3\n",
    "x == y"
   ]
  },
  {
   "cell_type": "markdown",
   "id": "14f4ced1",
   "metadata": {},
   "source": [
    "Using rounding will not necessarily solve the problem.\n",
    "It is no more possible to exacitly represent round(0.1, 1) than 0.1 itself\n",
    "Butit can be used to round the entiretymof both sides of the equality comparison.\n",
    "    round(0.1 + 0.1 + 0.1, 5) == round (0.3, 5)"
   ]
  },
  {
   "cell_type": "markdown",
   "id": "1cf17041",
   "metadata": {},
   "source": [
    "To test for \"equality\" of two differient floats, I could do the following methods:\n",
    "Round both sides of the equality expression to the number of significant digit.\n",
    "    round(a, 5) == round(b, 5)\n",
    "or, more generally, use an appropriate range (?) within which two numbers are deemed equal.\n",
    "    for some ? > 0. a = b  if and only if |a-b| < e?\n",
    "\n",
    "def is_equal(x, y, eps)\n",
    "    return math.fabs(x=y) <eps\n",
    "\n",
    "This can be tweaked by specifying that the difference between the two numbers be a percentage of thier size -> the smaller the number, the smaller the tolerance.\n",
    "    i.e. are two nmubers within x% of each other?\n",
    "\n",
    "But, here are non-trivial issues with using these seemingly simple tests.\n",
    "    -> numbers very close to zero vs away from zero.\n"
   ]
  },
  {
   "cell_type": "markdown",
   "id": "bc1f6e40",
   "metadata": {},
   "source": [
    "x = 0.1 + 0.1 + 0.1\n",
    "y = 0.3\n",
    "print(format(x, '.20f'))  -> 0.300000000000000004441\n",
    "print(format(y, '.20f'))  -> 0.299999999999999998890\n",
    "\n",
    "\n",
    "a = 10000.1 + 10000.1 + 10000.1\n",
    "b = 30000.3\n",
    "print(format(a, '.20f'))  -> 30000.30000000000291038305\n",
    "print(format(b, '.20f'))  -> 30000.29999999999927240424\n",
    "\n",
    "                                        -15\n",
    "Using an abcolute tolerance: abs_tol = 10   = 0.000000000000001\n",
    "then\n",
    "    math.fabs(x - y) < abs_tol  -> True\n",
    "    \n",
    "    math.fabs(a - b) < abs_tol  -> False\n"
   ]
  },
  {
   "cell_type": "markdown",
   "id": "bbc43d90",
   "metadata": {},
   "source": [
    "x = 0.1 + 0.1 + 0.1\n",
    "y = 0.3\n",
    "\n",
    "a = 10000.1 + 10000.1 + 10000.1\n",
    "b = 30000.3\n",
    "\n",
    "Using a relative tolerance: rel_tol = 0.001% = 0.00001 = 0.00001 = 1e-5\n",
    "\n",
    "i.e. maximum allowed difference between the two numbers,\n",
    "    relative to the larger magnitude of the two numbers.\n",
    "\n",
    "tol = rel_tol * max(|x|, |y|)\n",
    "\n",
    "math.fabs(x - y) < tol   -> True\n",
    "\n",
    "math.fabs(a - b) < tol    -> True\n",
    "\n",
    "x = 0.0000000001    (1e-10)\n",
    "y = 0\n",
    "\n",
    "Using a relative tolerance: rel_tol = 0.1% = 0.0001 = le-3\n",
    "\n",
    "tol = rel_tol * max(|x|, |y|) -> tol = rel_tol * |x|  -> le-3 * 1e-10 = 1e-13\n",
    "\n",
    "math.fabs(x - y) < abs_tol   -> False\n",
    "\n",
    "Using a relative tolerance technique does not work well for numbers close to zero!\n",
    "\n",
    "So using absolute and relative tolerances, in isolation, makes it difficult to get a one-size-fits-all solution.\n",
    "\n",
    "We can combine both methods\n",
    "    calculating the absolute and relative tolerances\n",
    "    and using the larger of the two tolerances.\n",
    "\n",
    "tol = max(rel_tol * max(|x|, |y|), abs_tol)\n",
    "\n",
    "The math module has that solution for us!   -> PEP 485\n",
    "\n",
    "    math.isclose(a, b, *, rel_tol=1e-09, abs_tol=0.0)\n",
    "\n",
    "If I do not specify abs_til, then it defaults to 0 and you will face the the problem\n",
    "we encountered in the last slide when comparing numbers close to zero.\n",
    "\n",
    "x = 1000.0000001        a = 0.0000001\n",
    "y = 1000.0000002        b = 0.0000002\n",
    "\n",
    "math.isclose(x, y)  -> True     math.isclose(a, b)  -> False\n",
    "\n",
    "but\n",
    "\n",
    "math.isclose(x, y, abs_tol=1e-5) -> True\n",
    "\n",
    "math.isclose(a, b, abs_tol=1e-5) -> True\n",
    "\n",
    "\n",
    "        Also works well in situations like this:\n",
    "\n",
    "x = 1000.01\n",
    "y = 1000.02\n",
    "\n",
    "math.isclose(x, y, rel_tol=1e-5, abs_tol=1e-5)  -> True\n",
    "\n",
    "a = 0.01\n",
    "b = 0.02\n",
    "\n",
    "math.isclose(x, y, rel_tol=1e-5, abs_tol=1e-5)  -> False\n"
   ]
  },
  {
   "cell_type": "markdown",
   "id": "a86f5c49",
   "metadata": {},
   "source": [
    "Floats - Equality Testing"
   ]
  },
  {
   "cell_type": "code",
   "execution_count": 2,
   "id": "64c7123d",
   "metadata": {},
   "outputs": [
    {
     "data": {
      "text/plain": [
       "' 0.1000000000000000055511151'"
      ]
     },
     "execution_count": 2,
     "metadata": {},
     "output_type": "execute_result"
    }
   ],
   "source": [
    "x = 0.1\n",
    "format(x, ' .25f')"
   ]
  },
  {
   "cell_type": "code",
   "execution_count": 3,
   "id": "8488cd80",
   "metadata": {},
   "outputs": [
    {
     "name": "stdout",
     "output_type": "stream",
     "text": [
      "0.1\n"
     ]
    }
   ],
   "source": [
    "print(x)"
   ]
  },
  {
   "cell_type": "code",
   "execution_count": 4,
   "id": "f6b65ff7",
   "metadata": {},
   "outputs": [],
   "source": [
    "x = 0.125"
   ]
  },
  {
   "cell_type": "code",
   "execution_count": 5,
   "id": "f4fb50e0",
   "metadata": {},
   "outputs": [
    {
     "data": {
      "text/plain": [
       "' 0.1250000000000000000000000'"
      ]
     },
     "execution_count": 5,
     "metadata": {},
     "output_type": "execute_result"
    }
   ],
   "source": [
    "format(x, ' .25f')"
   ]
  },
  {
   "cell_type": "code",
   "execution_count": 8,
   "id": "dca88924",
   "metadata": {},
   "outputs": [
    {
     "data": {
      "text/plain": [
       "True"
      ]
     },
     "execution_count": 8,
     "metadata": {},
     "output_type": "execute_result"
    }
   ],
   "source": [
    "x = 0.125 + 0.125 + 0.125\n",
    "y = 0.375\n",
    "x == y"
   ]
  },
  {
   "cell_type": "code",
   "execution_count": 9,
   "id": "e16a5f61",
   "metadata": {},
   "outputs": [
    {
     "data": {
      "text/plain": [
       "False"
      ]
     },
     "execution_count": 9,
     "metadata": {},
     "output_type": "execute_result"
    }
   ],
   "source": [
    "x = 0.1 + 0.1 + 0.1\n",
    "y = 0.3\n",
    "x == y"
   ]
  },
  {
   "cell_type": "code",
   "execution_count": 10,
   "id": "ba2a5714",
   "metadata": {},
   "outputs": [
    {
     "data": {
      "text/plain": [
       "' 0.3000000000000000444089210'"
      ]
     },
     "execution_count": 10,
     "metadata": {},
     "output_type": "execute_result"
    }
   ],
   "source": [
    "format(x, ' .25f')"
   ]
  },
  {
   "cell_type": "code",
   "execution_count": 11,
   "id": "40bf5fc8",
   "metadata": {},
   "outputs": [
    {
     "data": {
      "text/plain": [
       "' 0.2999999999999999888977698'"
      ]
     },
     "execution_count": 11,
     "metadata": {},
     "output_type": "execute_result"
    }
   ],
   "source": [
    "format(y, ' .25f')"
   ]
  },
  {
   "cell_type": "code",
   "execution_count": 12,
   "id": "c2794c0a",
   "metadata": {},
   "outputs": [
    {
     "data": {
      "text/plain": [
       "True"
      ]
     },
     "execution_count": 12,
     "metadata": {},
     "output_type": "execute_result"
    }
   ],
   "source": [
    "round(x, 3) == round(y, 3)"
   ]
  },
  {
   "cell_type": "code",
   "execution_count": 16,
   "id": "32de8b35",
   "metadata": {},
   "outputs": [
    {
     "data": {
      "text/plain": [
       "1.000000999999"
      ]
     },
     "execution_count": 16,
     "metadata": {},
     "output_type": "execute_result"
    }
   ],
   "source": [
    "x = 10000.01\n",
    "y = 10000.02\n",
    "y / x"
   ]
  },
  {
   "cell_type": "code",
   "execution_count": 17,
   "id": "0dd3c45b",
   "metadata": {},
   "outputs": [
    {
     "data": {
      "text/plain": [
       "1.0"
      ]
     },
     "execution_count": 17,
     "metadata": {},
     "output_type": "execute_result"
    }
   ],
   "source": [
    "x = 0.01\n",
    "y = 0.01\n",
    "y / x"
   ]
  },
  {
   "cell_type": "code",
   "execution_count": 20,
   "id": "4b1e13ff",
   "metadata": {},
   "outputs": [
    {
     "data": {
      "text/plain": [
       "True"
      ]
     },
     "execution_count": 20,
     "metadata": {},
     "output_type": "execute_result"
    }
   ],
   "source": [
    "round(x, 1) == round(y, 1)"
   ]
  },
  {
   "cell_type": "code",
   "execution_count": 21,
   "id": "64fc2d0b",
   "metadata": {},
   "outputs": [
    {
     "data": {
      "text/plain": [
       "True"
      ]
     },
     "execution_count": 21,
     "metadata": {},
     "output_type": "execute_result"
    }
   ],
   "source": [
    "x = 10000.01\n",
    "y = 10000.02\n",
    "round(x, 1)== round(y, 1)"
   ]
  },
  {
   "cell_type": "code",
   "execution_count": 22,
   "id": "49e124df",
   "metadata": {},
   "outputs": [],
   "source": [
    "from math import isclose"
   ]
  },
  {
   "cell_type": "code",
   "execution_count": 26,
   "id": "7637b12c",
   "metadata": {},
   "outputs": [
    {
     "data": {
      "text/plain": [
       "True"
      ]
     },
     "execution_count": 26,
     "metadata": {},
     "output_type": "execute_result"
    }
   ],
   "source": [
    "x = 0.1 + 0.1 + 0.1\n",
    "y = 0.3\n",
    "isclose(x, y)"
   ]
  },
  {
   "cell_type": "code",
   "execution_count": 25,
   "id": "d38e1853",
   "metadata": {},
   "outputs": [
    {
     "data": {
      "text/plain": [
       "True"
      ]
     },
     "execution_count": 25,
     "metadata": {},
     "output_type": "execute_result"
    }
   ],
   "source": []
  },
  {
   "cell_type": "code",
   "execution_count": 27,
   "id": "37415294",
   "metadata": {},
   "outputs": [
    {
     "data": {
      "text/plain": [
       "False"
      ]
     },
     "execution_count": 27,
     "metadata": {},
     "output_type": "execute_result"
    }
   ],
   "source": [
    "x == y"
   ]
  },
  {
   "cell_type": "code",
   "execution_count": 29,
   "id": "c2914481",
   "metadata": {},
   "outputs": [
    {
     "data": {
      "text/plain": [
       "True"
      ]
     },
     "execution_count": 29,
     "metadata": {},
     "output_type": "execute_result"
    }
   ],
   "source": [
    "x = 123456789.01\n",
    "y = 123456789.02\n",
    "isclose(x, y, rel_tol = 0.01)"
   ]
  },
  {
   "cell_type": "code",
   "execution_count": 31,
   "id": "69b5b94b",
   "metadata": {},
   "outputs": [
    {
     "data": {
      "text/plain": [
       "False"
      ]
     },
     "execution_count": 31,
     "metadata": {},
     "output_type": "execute_result"
    }
   ],
   "source": [
    "x= 0.01\n",
    "y = 0.02\n",
    "isclose(x, y, rel_tol=0.01)"
   ]
  },
  {
   "cell_type": "code",
   "execution_count": 32,
   "id": "c6d700c8",
   "metadata": {},
   "outputs": [
    {
     "data": {
      "text/plain": [
       "False"
      ]
     },
     "execution_count": 32,
     "metadata": {},
     "output_type": "execute_result"
    }
   ],
   "source": [
    "x = 0.0000001\n",
    "y = 0.0000002\n",
    "isclose(x, y, rel_tol=0.01)"
   ]
  },
  {
   "cell_type": "code",
   "execution_count": 34,
   "id": "cae7ddc6",
   "metadata": {},
   "outputs": [
    {
     "data": {
      "text/plain": [
       "True"
      ]
     },
     "execution_count": 34,
     "metadata": {},
     "output_type": "execute_result"
    }
   ],
   "source": [
    "isclose(x, y, rel_tol = 0.01, abs_tol=0.01)"
   ]
  },
  {
   "cell_type": "code",
   "execution_count": 35,
   "id": "98889649",
   "metadata": {},
   "outputs": [
    {
     "name": "stdout",
     "output_type": "stream",
     "text": [
      "True\n",
      "True\n"
     ]
    }
   ],
   "source": [
    "x = 0.0000001\n",
    "y = 0.0000002\n",
    "\n",
    "\n",
    "a = 123456789.01\n",
    "b = 123456789.02\n",
    "\n",
    "\n",
    "print(isclose(x, y, abs_tol=0.0001, rel_tol=0.01))\n",
    "print(isclose(a, b, abs_tol=0.0001, rel_tol=0.01))"
   ]
  }
 ],
 "metadata": {
  "kernelspec": {
   "display_name": "Python 3 (ipykernel)",
   "language": "python",
   "name": "python3"
  },
  "language_info": {
   "codemirror_mode": {
    "name": "ipython",
    "version": 3
   },
   "file_extension": ".py",
   "mimetype": "text/x-python",
   "name": "python",
   "nbconvert_exporter": "python",
   "pygments_lexer": "ipython3",
   "version": "3.9.12"
  },
  "vscode": {
   "interpreter": {
    "hash": "0d39b9ca25346db2d4fbd64f0fe44090b1a521776e9bcf0dda43e48cea0d85ae"
   }
  }
 },
 "nbformat": 4,
 "nbformat_minor": 5
}
