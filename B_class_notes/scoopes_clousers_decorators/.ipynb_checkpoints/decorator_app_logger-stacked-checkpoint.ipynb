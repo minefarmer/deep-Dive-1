{
 "cells": [
  {
   "cell_type": "markdown",
   "id": "eb3af8b6",
   "metadata": {},
   "source": [
    "Decorator App: Logger Stacked"
   ]
  },
  {
   "cell_type": "code",
   "execution_count": 36,
   "id": "10dbffac",
   "metadata": {},
   "outputs": [],
   "source": [
    "def logged(fn):\n",
    "    from functools import wraps\n",
    "    from datetime import datetime, timezone\n",
    "\n",
    "    @wraps(fn)\n",
    "    def inner(*args, **kwargs):\n",
    "        run_dt = datetime.now(timezone.utc)\n",
    "        result = fn(*args, **kwargs)\n",
    "        print('{0}: called {1}'.format(run_dt, fn.__name__))\n",
    "        return result\n",
    "\n",
    "    return inner"
   ]
  },
  {
   "cell_type": "code",
   "execution_count": 37,
   "id": "8a5cfa3e",
   "metadata": {},
   "outputs": [],
   "source": [
    "@logged\n",
    "def func_1():\n",
    "    pass"
   ]
  },
  {
   "cell_type": "code",
   "execution_count": 38,
   "id": "a3a67f12",
   "metadata": {},
   "outputs": [],
   "source": [
    "@logged\n",
    "def func_2():\n",
    "    pass"
   ]
  },
  {
   "cell_type": "code",
   "execution_count": 39,
   "id": "62964549",
   "metadata": {},
   "outputs": [
    {
     "name": "stdout",
     "output_type": "stream",
     "text": [
      "2022-07-29 18:51:43.705314+00:00: called func_1\n"
     ]
    }
   ],
   "source": [
    "func_1()"
   ]
  },
  {
   "cell_type": "code",
   "execution_count": 40,
   "id": "c6cbe163",
   "metadata": {},
   "outputs": [
    {
     "name": "stdout",
     "output_type": "stream",
     "text": [
      "2022-07-29 18:51:43.853338+00:00: called func_2\n"
     ]
    }
   ],
   "source": [
    "func_2()"
   ]
  },
  {
   "cell_type": "code",
   "execution_count": 44,
   "id": "fb64e614",
   "metadata": {},
   "outputs": [],
   "source": [
    "def timed(fn):\n",
    "    from time import perf_counter\n",
    "    from functools import warps\n",
    "\n",
    "    @wraps(fn)\n",
    "    def inner(*args, **kwargs):\n",
    "        start = perf_counter()\n",
    "        result = fn(*args, **kwargs)\n",
    "        end = perf_counter()\n",
    "        print('{0} ran for {1:.6f}s'.format(fn.__name__, end-start))\n",
    "        return result\n",
    "\n",
    "    return inner"
   ]
  },
  {
   "cell_type": "code",
   "execution_count": 54,
   "id": "678f8157",
   "metadata": {},
   "outputs": [],
   "source": [
    "@logged\n",
    "def fact(n):\n",
    "    from operator import mul\n",
    "    from functools import reduce\n",
    "\n",
    "    return reduce(mul, range(1, n+1))"
   ]
  },
  {
   "cell_type": "code",
   "execution_count": 55,
   "id": "589f446a",
   "metadata": {},
   "outputs": [
    {
     "name": "stdout",
     "output_type": "stream",
     "text": [
      "2022-07-29 19:00:10.034719+00:00: called fact\n"
     ]
    },
    {
     "data": {
      "text/plain": [
       "6"
      ]
     },
     "execution_count": 55,
     "metadata": {},
     "output_type": "execute_result"
    }
   ],
   "source": [
    "fact(3)"
   ]
  },
  {
   "cell_type": "code",
   "execution_count": 56,
   "id": "40695ce1",
   "metadata": {},
   "outputs": [
    {
     "name": "stdout",
     "output_type": "stream",
     "text": [
      "2022-07-29 19:00:14.779411+00:00: called fact\n"
     ]
    },
    {
     "data": {
      "text/plain": [
       "120"
      ]
     },
     "execution_count": 56,
     "metadata": {},
     "output_type": "execute_result"
    }
   ],
   "source": [
    "fact(5)"
   ]
  },
  {
   "cell_type": "code",
   "execution_count": 59,
   "id": "2311ad1f",
   "metadata": {},
   "outputs": [],
   "source": [
    "def fact(n):\n",
    "    from operator import mul\n",
    "    from functools import reduce\n",
    "\n",
    "    return reduce(mul, range(1, n+1))"
   ]
  },
  {
   "cell_type": "code",
   "execution_count": 63,
   "id": "6c6f5a3c",
   "metadata": {},
   "outputs": [
    {
     "data": {
      "text/plain": [
       "6"
      ]
     },
     "execution_count": 63,
     "metadata": {},
     "output_type": "execute_result"
    }
   ],
   "source": [
    "fact(3)"
   ]
  },
  {
   "cell_type": "code",
   "execution_count": 65,
   "id": "ffd314ad",
   "metadata": {},
   "outputs": [],
   "source": [
    "def dec_1(fn):\n",
    "    def inner(*args, **kwargs):\n",
    "        print('Running dec_1')\n",
    "        return fn(*args, **kwargs)\n",
    "        return fn()\n",
    "    return inner"
   ]
  },
  {
   "cell_type": "code",
   "execution_count": 66,
   "id": "f91487ec",
   "metadata": {},
   "outputs": [],
   "source": [
    "def dec_2(fn):\n",
    "    def inner(*args, **kwargs):\n",
    "        print('Running dec_1')\n",
    "        return fn(*args, **kwargs)\n",
    "        return fn()\n",
    "    return inner"
   ]
  },
  {
   "cell_type": "code",
   "execution_count": 73,
   "id": "df7644f1",
   "metadata": {},
   "outputs": [],
   "source": [
    "@dec_1\n",
    "@dec_2\n",
    "def my_func():\n",
    "    print('Running my_func')"
   ]
  },
  {
   "cell_type": "code",
   "execution_count": 70,
   "id": "86b527d3",
   "metadata": {},
   "outputs": [
    {
     "name": "stdout",
     "output_type": "stream",
     "text": [
      "Running dec_1\n",
      "Running dec_1\n",
      "Running dec_1\n",
      "Running dec_1\n",
      "Running my_func\n"
     ]
    }
   ],
   "source": [
    "my_func()"
   ]
  },
  {
   "cell_type": "code",
   "execution_count": 74,
   "id": "4a252d1c",
   "metadata": {},
   "outputs": [],
   "source": [
    "my_func=dec_1(dec_2(dec_1(dec_2(my_func))))"
   ]
  },
  {
   "cell_type": "code",
   "execution_count": 75,
   "id": "726b956e",
   "metadata": {},
   "outputs": [
    {
     "name": "stdout",
     "output_type": "stream",
     "text": [
      "Running dec_1\n",
      "Running dec_1\n",
      "Running dec_1\n",
      "Running dec_1\n",
      "Running dec_1\n",
      "Running dec_1\n",
      "Running my_func\n"
     ]
    }
   ],
   "source": [
    "my_func()"
   ]
  },
  {
   "cell_type": "code",
   "execution_count": 79,
   "id": "2c39d696",
   "metadata": {},
   "outputs": [
    {
     "data": {
      "text/plain": [
       "'\\n@auth\\n@logged\\ndef save_resource():\\n    pass\\n'"
      ]
     },
     "execution_count": 79,
     "metadata": {},
     "output_type": "execute_result"
    }
   ],
   "source": [
    "'''\n",
    "@auth\n",
    "@logged\n",
    "def save_resource():\n",
    "    pass\n",
    "'''"
   ]
  },
  {
   "cell_type": "code",
   "execution_count": null,
   "id": "6d988829",
   "metadata": {},
   "outputs": [
    {
     "data": {
      "text/plain": [
       "' \\nsave_resource = auth(logged(save_resource)) can be used either way\\nsave_resource = logged(auth(save_resource))\\n'"
      ]
     },
     "execution_count": 81,
     "metadata": {},
     "output_type": "execute_result"
    }
   ],
   "source": [
    "''' \n",
    "save_resource = auth(logged(save_resource)) can be used either way\n",
    "save_resource = logged(auth(save_resource))\n",
    "'''"
   ]
  }
 ],
 "metadata": {
  "kernelspec": {
   "display_name": "Python 3 (ipykernel)",
   "language": "python",
   "name": "python3"
  },
  "language_info": {
   "codemirror_mode": {
    "name": "ipython",
    "version": 3
   },
   "file_extension": ".py",
   "mimetype": "text/x-python",
   "name": "python",
   "nbconvert_exporter": "python",
   "pygments_lexer": "ipython3",
   "version": "3.9.12"
  },
  "vscode": {
   "interpreter": {
    "hash": "a624adbc5e596fddf72740b255048309200567f23df85867ce297e9f9d364c1b"
   }
  }
 },
 "nbformat": 4,
 "nbformat_minor": 5
}
