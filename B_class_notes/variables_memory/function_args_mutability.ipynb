{
 "cells": [
  {
   "cell_type": "markdown",
   "id": "ba4e1c69",
   "metadata": {},
   "source": [
    "FUNCTION ARGUMENTS AND MUTABILITY"
   ]
  },
  {
   "cell_type": "markdown",
   "id": "5f305812",
   "metadata": {},
   "source": [
    "In Python, Strings are inmutable objects.\n",
    "Once a string has been created, the contents of the object can never be changed.\n",
    "\n",
    "In this code: my_var = 'hello'\n",
    "    The only way to modify the value of mt_var is to re-asign my_var to another object.\n",
    "    Immutable objects are safe from unintended side-effects.\n",
    "\n",
    "We have scopes:\n",
    "\n",
    "    module scopes\n",
    "\n",
    "    def process(s):\n",
    "    s = s * ' world'\n",
    "    return s\n",
    "                                            0x1000\n",
    "        my_var = 'hello' -------------> hello\n",
    "            \\\n",
    "             \\                              0x1234\n",
    "              \\ ----------------------> abcd\n",
    "\n",
    "\n",
    "\n",
    "    proess() scope\n",
    "\n",
    "\n",
    "mutable objects are not safe from unintended side-effects.\n",
    "\n"
   ]
  },
  {
   "cell_type": "markdown",
   "id": "94e9ba45",
   "metadata": {},
   "source": [
    "def process(lst):\n",
    "    lst.append(100)"
   ]
  },
  {
   "cell_type": "code",
   "execution_count": 103,
   "id": "f8477da3",
   "metadata": {},
   "outputs": [],
   "source": [
    "my_list = [1, 2, 3]"
   ]
  },
  {
   "cell_type": "code",
   "execution_count": 104,
   "id": "88396218",
   "metadata": {},
   "outputs": [
    {
     "name": "stdout",
     "output_type": "stream",
     "text": [
      "[1, 2, 3]\n"
     ]
    }
   ],
   "source": [
    "print(my_list)"
   ]
  },
  {
   "cell_type": "code",
   "execution_count": 105,
   "id": "9d6daa5f",
   "metadata": {},
   "outputs": [],
   "source": [
    "def process(lst):\n",
    "    lst.append(100)"
   ]
  },
  {
   "cell_type": "code",
   "execution_count": 106,
   "id": "2cb509e3",
   "metadata": {},
   "outputs": [
    {
     "name": "stdout",
     "output_type": "stream",
     "text": [
      "[1, 2, 3]\n"
     ]
    }
   ],
   "source": [
    "print(my_list)"
   ]
  },
  {
   "cell_type": "code",
   "execution_count": 107,
   "id": "74c4bdc0",
   "metadata": {},
   "outputs": [],
   "source": [
    "process(my_list)"
   ]
  },
  {
   "cell_type": "code",
   "execution_count": 108,
   "id": "e9a6b510",
   "metadata": {},
   "outputs": [
    {
     "name": "stdout",
     "output_type": "stream",
     "text": [
      "[1, 2, 3, 100]\n"
     ]
    }
   ],
   "source": [
    "# pylint: disable=missing-module-docstring\n",
    "print(my_list)"
   ]
  },
  {
   "cell_type": "markdown",
   "id": "05c5fd3c",
   "metadata": {},
   "source": [
    "Immutable collection objects that contain mutable objects"
   ]
  },
  {
   "cell_type": "code",
   "execution_count": 109,
   "id": "f8d16ab7",
   "metadata": {},
   "outputs": [],
   "source": [
    "my_tuple = ([1,2], 'a')"
   ]
  },
  {
   "cell_type": "code",
   "execution_count": 110,
   "id": "a2d48d45",
   "metadata": {},
   "outputs": [
    {
     "name": "stdout",
     "output_type": "stream",
     "text": [
      "([1, 2], 'a')\n"
     ]
    }
   ],
   "source": [
    "print(my_tuple)"
   ]
  },
  {
   "cell_type": "code",
   "execution_count": 111,
   "id": "7620fb77",
   "metadata": {},
   "outputs": [],
   "source": [
    "def process(t):\n",
    "    t[0].append(3)"
   ]
  },
  {
   "cell_type": "code",
   "execution_count": 112,
   "id": "0a402010",
   "metadata": {},
   "outputs": [],
   "source": [
    "# pylint: disable=syntax-error\n",
    "process(my_tuple)"
   ]
  },
  {
   "cell_type": "code",
   "execution_count": 113,
   "id": "88227e6b",
   "metadata": {},
   "outputs": [
    {
     "name": "stdout",
     "output_type": "stream",
     "text": [
      "([1, 2, 3], 'a')\n"
     ]
    }
   ],
   "source": [
    "print(my_tuple)"
   ]
  },
  {
   "cell_type": "code",
   "execution_count": 114,
   "id": "5dc6739e",
   "metadata": {},
   "outputs": [],
   "source": [
    "def process(s):\n",
    "    print('Initial s # = {0}'.format(id(s)))\n",
    "    s = s + ' world'\n",
    "    print('Final s # = {0}'.format(id(s)))"
   ]
  },
  {
   "cell_type": "code",
   "execution_count": 115,
   "id": "736b768f",
   "metadata": {},
   "outputs": [
    {
     "name": "stdout",
     "output_type": "stream",
     "text": [
      "my_var # = 139770950342512\n"
     ]
    }
   ],
   "source": [
    "my_var = 'hello'\n",
    "print('my_var # = {0}'.format(id(my_var)))"
   ]
  },
  {
   "cell_type": "code",
   "execution_count": 116,
   "id": "11e3f026",
   "metadata": {},
   "outputs": [
    {
     "name": "stdout",
     "output_type": "stream",
     "text": [
      "Initial s # = 139770950342512\n",
      "Final s # = 139770378537136\n"
     ]
    }
   ],
   "source": [
    "# pylint: disable=syntax-error\n",
    "process(my_var)"
   ]
  },
  {
   "cell_type": "code",
   "execution_count": 117,
   "id": "8ca86074",
   "metadata": {},
   "outputs": [
    {
     "data": {
      "text/plain": [
       "139770950342512"
      ]
     },
     "execution_count": 117,
     "metadata": {},
     "output_type": "execute_result"
    }
   ],
   "source": [
    "id(my_var)"
   ]
  },
  {
   "cell_type": "code",
   "execution_count": 118,
   "id": "6bd9ee6f",
   "metadata": {},
   "outputs": [],
   "source": [
    "def modify_list(lst):\n",
    "    print('Initial lst s # = {0}'.format(id(lst)))\n",
    "    lst.append(100)\n",
    "    print('Final lst # = {0}'.format(id(lst)))"
   ]
  },
  {
   "cell_type": "code",
   "execution_count": 119,
   "id": "3e07355b",
   "metadata": {},
   "outputs": [
    {
     "data": {
      "text/plain": [
       "139770378377216"
      ]
     },
     "execution_count": 119,
     "metadata": {},
     "output_type": "execute_result"
    }
   ],
   "source": [
    "my_list = [1, 2, 3]\n",
    "id(my_list)"
   ]
  },
  {
   "cell_type": "code",
   "execution_count": 120,
   "id": "aa9f02ae",
   "metadata": {},
   "outputs": [
    {
     "name": "stdout",
     "output_type": "stream",
     "text": [
      "Initial lst s # = 139770378377216\n",
      "Final lst # = 139770378377216\n"
     ]
    }
   ],
   "source": [
    "modify_list(my_list)"
   ]
  },
  {
   "cell_type": "code",
   "execution_count": 121,
   "id": "d753da19",
   "metadata": {},
   "outputs": [
    {
     "data": {
      "text/plain": [
       "139770378377216"
      ]
     },
     "execution_count": 121,
     "metadata": {},
     "output_type": "execute_result"
    }
   ],
   "source": [
    "id(my_list)"
   ]
  },
  {
   "cell_type": "code",
   "execution_count": 122,
   "id": "86a8bc13",
   "metadata": {},
   "outputs": [
    {
     "data": {
      "text/plain": [
       "[1, 2, 3, 100]"
      ]
     },
     "execution_count": 122,
     "metadata": {},
     "output_type": "execute_result"
    }
   ],
   "source": [
    "my_list"
   ]
  },
  {
   "cell_type": "code",
   "execution_count": 123,
   "id": "91d7f425",
   "metadata": {},
   "outputs": [],
   "source": [
    "def modify_tuple(t):\n",
    "    print('Initial t # = {0}'.format(id(t)))\n",
    "    t[0].append(100)\n",
    "    print('Final t # = {0}'.format(id(t)))"
   ]
  },
  {
   "cell_type": "code",
   "execution_count": 124,
   "id": "33f7c858",
   "metadata": {},
   "outputs": [],
   "source": [
    "my_tuple = ([1, 2], 'a')"
   ]
  },
  {
   "cell_type": "code",
   "execution_count": 125,
   "id": "51fe439e",
   "metadata": {},
   "outputs": [
    {
     "data": {
      "text/plain": [
       "139770378508480"
      ]
     },
     "execution_count": 125,
     "metadata": {},
     "output_type": "execute_result"
    }
   ],
   "source": [
    "id(my_tuple)"
   ]
  },
  {
   "cell_type": "code",
   "execution_count": 127,
   "id": "01ad9f1c",
   "metadata": {},
   "outputs": [
    {
     "name": "stdout",
     "output_type": "stream",
     "text": [
      "Initial t # = 139770378508480\n",
      "Final t # = 139770378508480\n"
     ]
    }
   ],
   "source": [
    "modify_tuple(my_tuple)"
   ]
  },
  {
   "cell_type": "code",
   "execution_count": 128,
   "id": "2fd77562",
   "metadata": {},
   "outputs": [
    {
     "data": {
      "text/plain": [
       "([1, 2, 100], 'a')"
      ]
     },
     "execution_count": 128,
     "metadata": {},
     "output_type": "execute_result"
    }
   ],
   "source": [
    "my_tuple"
   ]
  }
 ],
 "metadata": {
  "kernelspec": {
   "display_name": "Python 3 (ipykernel)",
   "language": "python",
   "name": "python3"
  },
  "language_info": {
   "codemirror_mode": {
    "name": "ipython",
    "version": 3
   },
   "file_extension": ".py",
   "mimetype": "text/x-python",
   "name": "python",
   "nbconvert_exporter": "python",
   "pygments_lexer": "ipython3",
   "version": "3.9.12"
  },
  "vscode": {
   "interpreter": {
    "hash": "0d39b9ca25346db2d4fbd64f0fe44090b1a521776e9bcf0dda43e48cea0d85ae"
   }
  }
 },
 "nbformat": 4,
 "nbformat_minor": 5
}
