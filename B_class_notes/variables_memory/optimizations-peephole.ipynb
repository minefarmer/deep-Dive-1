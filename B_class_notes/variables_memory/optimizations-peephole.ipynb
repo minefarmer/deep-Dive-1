{
 "cells": [
  {
   "cell_type": "markdown",
   "id": "0fda86a4",
   "metadata": {},
   "source": [
    "OPTIMIZATIONS PEEPHOLE"
   ]
  },
  {
   "cell_type": "markdown",
   "id": "f112ef41",
   "metadata": {},
   "source": [
    "This is another variety of optimization that occur at compile time.\n",
    "\n",
    "Constant expressions\n",
    "  numeric calculations\n",
    "                            24 * 60\n",
    "                            Python will actually pre-caculate 24 * 60 -> 1440\n",
    "                            It thensaves ithat for furture use by my program.\n",
    "\n",
    "short sequences length < 20\n",
    "                            (1, 2) * 5      -> (1, 2, 1, 2, 1, 2, 1, 2, 1, 2)\n",
    "                            'abc' * 3       -> abcabcabc\n",
    "                        'hello' + ' world'  -> hello world\n",
    "but not 'the quick brown fox' * 10          (more that 20 characters)\n",
    " \n",
    "\n"
   ]
  },
  {
   "cell_type": "markdown",
   "id": "28a47c1b",
   "metadata": {},
   "source": [
    "Membership tests such as:\n",
    "    if e in [1, 2, 3]:\n",
    "  are encountered, the [1,2,3] constant, is replaced by it's immutable counterpart\n",
    "    (1, 2, 3)  Tuple\n",
    "\n",
    "lista -> tuples\n",
    "sets -> frozensets\n",
    "\n",
    "\n",
    "Set membership is much faster than list or tuple mmbershi (sets are basically like dictionaries)\n",
    "So, instead of writing:\n",
    "    if e in [1, 2, 3]: or if e in (1, 2, 3):\n",
    "    write if e in {1,2, 3}:\n",
    "\n"
   ]
  },
  {
   "cell_type": "code",
   "execution_count": 5,
   "id": "2b2776a5",
   "metadata": {},
   "outputs": [],
   "source": [
    "def my_func():\n",
    "    a = 24 * 60\n",
    "    b = (1, 2) * 5\n",
    "    c = 'abc' * 3\n",
    "    d = 'ab' * 11\n",
    "    e = 'the quick brown fox! ' * 5\n",
    "    f = ['a', 'b'] * 3"
   ]
  },
  {
   "cell_type": "code",
   "execution_count": 6,
   "id": "62aa0e20",
   "metadata": {},
   "outputs": [
    {
     "data": {
      "text/plain": [
       "(None,\n",
       " 1440,\n",
       " (1, 2, 1, 2, 1, 2, 1, 2, 1, 2),\n",
       " 'abcabcabc',\n",
       " 'ababababababababababab',\n",
       " 'the quick brown fox! the quick brown fox! the quick brown fox! the quick brown fox! the quick brown fox! ',\n",
       " 'a',\n",
       " 'b',\n",
       " 3)"
      ]
     },
     "execution_count": 6,
     "metadata": {},
     "output_type": "execute_result"
    }
   ],
   "source": [
    "my_func.__code__.co_consts"
   ]
  },
  {
   "cell_type": "code",
   "execution_count": 7,
   "id": "a99b7e0a",
   "metadata": {},
   "outputs": [],
   "source": [
    "def my_func(e):\n",
    "    if e in [1, 2, 3]:\n",
    "        pass"
   ]
  },
  {
   "cell_type": "code",
   "execution_count": 8,
   "id": "65805ce7",
   "metadata": {},
   "outputs": [
    {
     "data": {
      "text/plain": [
       "(None, (1, 2, 3))"
      ]
     },
     "execution_count": 8,
     "metadata": {},
     "output_type": "execute_result"
    }
   ],
   "source": [
    "my_func.__code__.co_consts"
   ]
  },
  {
   "cell_type": "code",
   "execution_count": 9,
   "id": "15511193",
   "metadata": {},
   "outputs": [],
   "source": [
    "def my_func(e):\n",
    "    if e in [1, 2, 3]:\n",
    "        pass"
   ]
  },
  {
   "cell_type": "code",
   "execution_count": 10,
   "id": "ad34cbea",
   "metadata": {},
   "outputs": [
    {
     "data": {
      "text/plain": [
       "(None, (1, 2, 3))"
      ]
     },
     "execution_count": 10,
     "metadata": {},
     "output_type": "execute_result"
    }
   ],
   "source": [
    "my_func.__code__.co_consts"
   ]
  },
  {
   "cell_type": "code",
   "execution_count": 11,
   "id": "be7eba1d",
   "metadata": {},
   "outputs": [],
   "source": [
    "import string\n",
    "import time"
   ]
  },
  {
   "cell_type": "code",
   "execution_count": 12,
   "id": "d6e0c4bf",
   "metadata": {},
   "outputs": [
    {
     "data": {
      "text/plain": [
       "'abcdefghijklmnopqrstuvwxyzABCDEFGHIJKLMNOPQRSTUVWXYZ'"
      ]
     },
     "execution_count": 12,
     "metadata": {},
     "output_type": "execute_result"
    }
   ],
   "source": [
    "string.ascii_letters"
   ]
  },
  {
   "cell_type": "code",
   "execution_count": 13,
   "id": "db4ee7c0",
   "metadata": {},
   "outputs": [],
   "source": [
    "char_list = list(string.ascii_letters)"
   ]
  },
  {
   "cell_type": "code",
   "execution_count": 14,
   "id": "e9893055",
   "metadata": {},
   "outputs": [],
   "source": [
    "char_tuple = tuple(string.ascii_letters)"
   ]
  },
  {
   "cell_type": "code",
   "execution_count": 15,
   "id": "6b0ddd67",
   "metadata": {},
   "outputs": [],
   "source": [
    "char_set = set(string.ascii_letters)"
   ]
  },
  {
   "cell_type": "code",
   "execution_count": 16,
   "id": "0180a858",
   "metadata": {},
   "outputs": [
    {
     "name": "stdout",
     "output_type": "stream",
     "text": [
      "['a', 'b', 'c', 'd', 'e', 'f', 'g', 'h', 'i', 'j', 'k', 'l', 'm', 'n', 'o', 'p', 'q', 'r', 's', 't', 'u', 'v', 'w', 'x', 'y', 'z', 'A', 'B', 'C', 'D', 'E', 'F', 'G', 'H', 'I', 'J', 'K', 'L', 'M', 'N', 'O', 'P', 'Q', 'R', 'S', 'T', 'U', 'V', 'W', 'X', 'Y', 'Z']\n"
     ]
    }
   ],
   "source": [
    "print(char_list)"
   ]
  },
  {
   "cell_type": "code",
   "execution_count": 17,
   "id": "6870bf56",
   "metadata": {},
   "outputs": [
    {
     "name": "stdout",
     "output_type": "stream",
     "text": [
      "('a', 'b', 'c', 'd', 'e', 'f', 'g', 'h', 'i', 'j', 'k', 'l', 'm', 'n', 'o', 'p', 'q', 'r', 's', 't', 'u', 'v', 'w', 'x', 'y', 'z', 'A', 'B', 'C', 'D', 'E', 'F', 'G', 'H', 'I', 'J', 'K', 'L', 'M', 'N', 'O', 'P', 'Q', 'R', 'S', 'T', 'U', 'V', 'W', 'X', 'Y', 'Z')\n"
     ]
    }
   ],
   "source": [
    "print(char_tuple)"
   ]
  },
  {
   "cell_type": "code",
   "execution_count": 18,
   "id": "33262ab8",
   "metadata": {},
   "outputs": [
    {
     "name": "stdout",
     "output_type": "stream",
     "text": [
      "{'l', 'w', 'z', 'A', 'Z', 'B', 'R', 'U', 's', 'v', 'W', 'N', 'G', 'V', 'Y', 'J', 'x', 'r', 'm', 'X', 'F', 'y', 'E', 'a', 'c', 'M', 'n', 'D', 'I', 'q', 'g', 'e', 'O', 'j', 'H', 't', 'h', 'S', 'T', 'p', 'd', 'K', 'i', 'b', 'f', 'P', 'o', 'C', 'L', 'u', 'Q', 'k'}\n"
     ]
    }
   ],
   "source": [
    "print(char_set)"
   ]
  },
  {
   "cell_type": "code",
   "execution_count": 19,
   "id": "9901cdc5",
   "metadata": {},
   "outputs": [],
   "source": [
    "def membership_test(n, container):\n",
    "    for i in range(n):\n",
    "        if 'z' in container:\n",
    "            pass"
   ]
  },
  {
   "cell_type": "code",
   "execution_count": 20,
   "id": "c962da39",
   "metadata": {},
   "outputs": [
    {
     "name": "stdout",
     "output_type": "stream",
     "text": [
      "list:  3.5532924999999977\n"
     ]
    }
   ],
   "source": [
    "start = time.perf_counter()\n",
    "membership_test(10000000, char_list)\n",
    "end = time.perf_counter()\n",
    "print('list: ', end-start)"
   ]
  },
  {
   "cell_type": "code",
   "execution_count": 21,
   "id": "c8f416fd",
   "metadata": {},
   "outputs": [
    {
     "name": "stdout",
     "output_type": "stream",
     "text": [
      "list:  3.479690699999992\n"
     ]
    }
   ],
   "source": [
    "start = time.perf_counter()\n",
    "membership_test(10000000, char_tuple)\n",
    "end = time.perf_counter()\n",
    "print('list: ', end-start)"
   ]
  },
  {
   "cell_type": "code",
   "execution_count": 22,
   "id": "aea2319b",
   "metadata": {},
   "outputs": [
    {
     "name": "stdout",
     "output_type": "stream",
     "text": [
      "list:  0.3673873000002459\n"
     ]
    }
   ],
   "source": [
    "start = time.perf_counter()\n",
    "membership_test(10000000, char_set)\n",
    "end = time.perf_counter()\n",
    "print('list: ', end-start)"
   ]
  }
 ],
 "metadata": {
  "kernelspec": {
   "display_name": "Python 3 (ipykernel)",
   "language": "python",
   "name": "python3"
  },
  "language_info": {
   "codemirror_mode": {
    "name": "ipython",
    "version": 3
   },
   "file_extension": ".py",
   "mimetype": "text/x-python",
   "name": "python",
   "nbconvert_exporter": "python",
   "pygments_lexer": "ipython3",
   "version": "3.9.12"
  },
  "vscode": {
   "interpreter": {
    "hash": "a624adbc5e596fddf72740b255048309200567f23df85867ce297e9f9d364c1b"
   }
  }
 },
 "nbformat": 4,
 "nbformat_minor": 5
}
