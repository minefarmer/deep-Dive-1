{
 "cells": [
  {
   "cell_type": "markdown",
   "id": "5e80107a",
   "metadata": {},
   "source": [
    "Parameter Defaults - Beware 2"
   ]
  },
  {
   "cell_type": "code",
   "execution_count": 53,
   "id": "027def51",
   "metadata": {},
   "outputs": [],
   "source": [
    "def add_item(name, quantity, unit, grocery_list):\n",
    "    grocery_list.append(\"{0} ({1} {2})\". format(name, quantity, unit))\n",
    "    return grocery_list"
   ]
  },
  {
   "cell_type": "code",
   "execution_count": 54,
   "id": "95209ce1",
   "metadata": {},
   "outputs": [],
   "source": [
    "store1 = []\n",
    "store2 = []"
   ]
  },
  {
   "cell_type": "code",
   "execution_count": 55,
   "id": "b9f051dd",
   "metadata": {},
   "outputs": [
    {
     "data": {
      "text/plain": [
       "['milk (1 liter)']"
      ]
     },
     "execution_count": 55,
     "metadata": {},
     "output_type": "execute_result"
    }
   ],
   "source": [
    "add_item('banana', 2, 'units', store1)\n",
    "add_item('milk', 1, 'liter', store2)"
   ]
  },
  {
   "cell_type": "code",
   "execution_count": 56,
   "id": "fcb7489a",
   "metadata": {},
   "outputs": [
    {
     "name": "stdout",
     "output_type": "stream",
     "text": [
      "['banana (2 units)']\n"
     ]
    }
   ],
   "source": [
    "print(store1)"
   ]
  },
  {
   "cell_type": "code",
   "execution_count": 57,
   "id": "4334e88c",
   "metadata": {},
   "outputs": [
    {
     "data": {
      "text/plain": [
       "['milk (1 liter)', 'python (1 medium-rare)']"
      ]
     },
     "execution_count": 57,
     "metadata": {},
     "output_type": "execute_result"
    }
   ],
   "source": [
    "add_item('python', 1, 'medium-rare', store2)\n"
   ]
  },
  {
   "cell_type": "code",
   "execution_count": 58,
   "id": "33f869c1",
   "metadata": {},
   "outputs": [
    {
     "name": "stdout",
     "output_type": "stream",
     "text": [
      "['milk (1 liter)', 'python (1 medium-rare)']\n"
     ]
    }
   ],
   "source": [
    "print(store2)"
   ]
  },
  {
   "cell_type": "code",
   "execution_count": 59,
   "id": "3c85a883",
   "metadata": {},
   "outputs": [],
   "source": [
    "def add_item(name, quantity, unit, grocery_list =[]):\n",
    "    grocery_list.append(\"{0} ({1} {2})\". format(name, quantity, unit))\n",
    "    return grocery_list"
   ]
  },
  {
   "cell_type": "code",
   "execution_count": 60,
   "id": "68bfafd4",
   "metadata": {},
   "outputs": [],
   "source": [
    "del store1\n",
    "del store2"
   ]
  },
  {
   "cell_type": "code",
   "execution_count": 61,
   "id": "68915594",
   "metadata": {},
   "outputs": [
    {
     "data": {
      "text/plain": [
       "['banana (2 units)', 'milk (1 liter)']"
      ]
     },
     "execution_count": 61,
     "metadata": {},
     "output_type": "execute_result"
    }
   ],
   "source": [
    "store1 = add_item('banana', 2, 'units')\n",
    "add_item('milk', 1, 'liter', store1)"
   ]
  },
  {
   "cell_type": "code",
   "execution_count": 62,
   "id": "2cce5c06",
   "metadata": {},
   "outputs": [
    {
     "name": "stdout",
     "output_type": "stream",
     "text": [
      "['banana (2 units)', 'milk (1 liter)']\n"
     ]
    }
   ],
   "source": [
    "print(store1)"
   ]
  },
  {
   "cell_type": "code",
   "execution_count": 63,
   "id": "54d76055",
   "metadata": {},
   "outputs": [],
   "source": [
    "store2 = add_item('python', 1, 'medium-rare')"
   ]
  },
  {
   "cell_type": "code",
   "execution_count": 64,
   "id": "9b6f74c9",
   "metadata": {},
   "outputs": [
    {
     "name": "stdout",
     "output_type": "stream",
     "text": [
      "['banana (2 units)', 'milk (1 liter)', 'python (1 medium-rare)']\n"
     ]
    }
   ],
   "source": [
    "print(store2)"
   ]
  },
  {
   "cell_type": "code",
   "execution_count": 65,
   "id": "a94eece1",
   "metadata": {},
   "outputs": [
    {
     "name": "stdout",
     "output_type": "stream",
     "text": [
      "['banana (2 units)', 'milk (1 liter)', 'python (1 medium-rare)']\n"
     ]
    }
   ],
   "source": [
    "print(store2)"
   ]
  },
  {
   "cell_type": "code",
   "execution_count": 66,
   "id": "9b99fdd6",
   "metadata": {},
   "outputs": [],
   "source": [
    "def add_item(name, quantity, unit, grocery_list =None):\n",
    "    if not grocery_list:\n",
    "        grocery_list = []\n",
    "\n",
    "    grocery_list.append(\"{0} ({1} {2})\". format(name, quantity, unit))\n",
    "    return grocery_list"
   ]
  },
  {
   "cell_type": "code",
   "execution_count": 67,
   "id": "b44ebcfc",
   "metadata": {},
   "outputs": [
    {
     "data": {
      "text/plain": [
       "['banana (2 units)', 'milk (1 liter)']"
      ]
     },
     "execution_count": 67,
     "metadata": {},
     "output_type": "execute_result"
    }
   ],
   "source": [
    "store1 = add_item('banana', 2, 'units')\n",
    "add_item('milk', 1, 'liter', store1)"
   ]
  },
  {
   "cell_type": "code",
   "execution_count": 68,
   "id": "b73e286e",
   "metadata": {},
   "outputs": [
    {
     "name": "stdout",
     "output_type": "stream",
     "text": [
      "['banana (2 units)', 'milk (1 liter)']\n"
     ]
    }
   ],
   "source": [
    "print(store1)"
   ]
  },
  {
   "cell_type": "code",
   "execution_count": 69,
   "id": "9c7b0a53",
   "metadata": {},
   "outputs": [],
   "source": [
    "store2 = add_item('python', 1, 'medium-rare')"
   ]
  },
  {
   "cell_type": "code",
   "execution_count": 70,
   "id": "7c9cef13",
   "metadata": {},
   "outputs": [
    {
     "name": "stdout",
     "output_type": "stream",
     "text": [
      "['python (1 medium-rare)']\n"
     ]
    }
   ],
   "source": [
    "print(store2)"
   ]
  },
  {
   "cell_type": "code",
   "execution_count": 71,
   "id": "1afc74bd",
   "metadata": {},
   "outputs": [
    {
     "data": {
      "text/plain": [
       "False"
      ]
     },
     "execution_count": 71,
     "metadata": {},
     "output_type": "execute_result"
    }
   ],
   "source": [
    "store1 is store2"
   ]
  },
  {
   "cell_type": "code",
   "execution_count": 72,
   "id": "b4d9102c",
   "metadata": {},
   "outputs": [],
   "source": [
    "def factorial(n):\n",
    "    if n < 1:\n",
    "        return 1\n",
    "    else:\n",
    "        print('calculating {0}!'.format(n))\n",
    "        return n * factorial(n-1)"
   ]
  },
  {
   "cell_type": "code",
   "execution_count": 73,
   "id": "3a4bed31",
   "metadata": {},
   "outputs": [
    {
     "name": "stdout",
     "output_type": "stream",
     "text": [
      "calculating 3!\n",
      "calculating 2!\n",
      "calculating 1!\n"
     ]
    },
    {
     "data": {
      "text/plain": [
       "6"
      ]
     },
     "execution_count": 73,
     "metadata": {},
     "output_type": "execute_result"
    }
   ],
   "source": [
    "factorial(3)"
   ]
  },
  {
   "cell_type": "code",
   "execution_count": 74,
   "id": "9209b931",
   "metadata": {},
   "outputs": [
    {
     "name": "stdout",
     "output_type": "stream",
     "text": [
      "calculating 3!\n",
      "calculating 2!\n",
      "calculating 1!\n"
     ]
    },
    {
     "data": {
      "text/plain": [
       "6"
      ]
     },
     "execution_count": 74,
     "metadata": {},
     "output_type": "execute_result"
    }
   ],
   "source": [
    "factorial(3)"
   ]
  },
  {
   "cell_type": "code",
   "execution_count": 75,
   "id": "2fa7ad2c",
   "metadata": {},
   "outputs": [],
   "source": [
    "cache = {}\n",
    "def factorial(n, *, cache):\n",
    "    if n < 1:\n",
    "        return 1\n",
    "    elif n in cache:\n",
    "        return cache[n]\n",
    "    else:\n",
    "        print('calculating {0}!'.format(n))\n",
    "        return n * factorial(n-1, cache=cache)\n",
    "        cache[n] = result\n",
    "        return result"
   ]
  },
  {
   "cell_type": "code",
   "execution_count": 76,
   "id": "0ec7d341",
   "metadata": {},
   "outputs": [],
   "source": [
    "cache = {}"
   ]
  },
  {
   "cell_type": "code",
   "execution_count": 77,
   "id": "5f1805f4",
   "metadata": {},
   "outputs": [
    {
     "name": "stdout",
     "output_type": "stream",
     "text": [
      "calculating 3!\n",
      "calculating 2!\n",
      "calculating 1!\n"
     ]
    },
    {
     "data": {
      "text/plain": [
       "6"
      ]
     },
     "execution_count": 77,
     "metadata": {},
     "output_type": "execute_result"
    }
   ],
   "source": [
    "factorial(3, cache= cache)"
   ]
  },
  {
   "cell_type": "code",
   "execution_count": 78,
   "id": "d735d586",
   "metadata": {},
   "outputs": [],
   "source": [
    "cache = {}\n",
    "def factorial(n, *, cache):\n",
    "    if n < 1:\n",
    "        return 1\n",
    "    elif n in cache:\n",
    "        return cache[n]\n",
    "    else:\n",
    "        print('calculating {0}!'.format(n))\n",
    "        result = n * factorial(n-1, cache=cache)\n",
    "        cache[n] = result\n",
    "        return result"
   ]
  },
  {
   "cell_type": "code",
   "execution_count": 79,
   "id": "66c245b0",
   "metadata": {},
   "outputs": [],
   "source": [
    "cache = {}"
   ]
  },
  {
   "cell_type": "code",
   "execution_count": 80,
   "id": "8d1ab189",
   "metadata": {},
   "outputs": [
    {
     "name": "stdout",
     "output_type": "stream",
     "text": [
      "calculating 3!\n",
      "calculating 2!\n",
      "calculating 1!\n"
     ]
    },
    {
     "data": {
      "text/plain": [
       "6"
      ]
     },
     "execution_count": 80,
     "metadata": {},
     "output_type": "execute_result"
    }
   ],
   "source": [
    "factorial(3, cache=cache)"
   ]
  },
  {
   "cell_type": "code",
   "execution_count": 81,
   "id": "2c235da2",
   "metadata": {},
   "outputs": [
    {
     "name": "stdout",
     "output_type": "stream",
     "text": [
      "{1: 1, 2: 2, 3: 6}\n"
     ]
    }
   ],
   "source": [
    "print(cache)"
   ]
  },
  {
   "cell_type": "code",
   "execution_count": 82,
   "id": "90f8a7b7",
   "metadata": {},
   "outputs": [
    {
     "data": {
      "text/plain": [
       "6"
      ]
     },
     "execution_count": 82,
     "metadata": {},
     "output_type": "execute_result"
    }
   ],
   "source": [
    "factorial(3, cache=cache)"
   ]
  },
  {
   "cell_type": "code",
   "execution_count": 83,
   "id": "edf35c7e",
   "metadata": {},
   "outputs": [
    {
     "name": "stdout",
     "output_type": "stream",
     "text": [
      "calculating 4!\n"
     ]
    },
    {
     "data": {
      "text/plain": [
       "24"
      ]
     },
     "execution_count": 83,
     "metadata": {},
     "output_type": "execute_result"
    }
   ],
   "source": [
    "factorial(4, cache=cache)"
   ]
  },
  {
   "cell_type": "code",
   "execution_count": 84,
   "id": "9d52a069",
   "metadata": {},
   "outputs": [],
   "source": [
    "def factorial(n, *, cache=()):\n",
    "    if n < 1:\n",
    "        return 1\n",
    "    elif n in cache:\n",
    "        return cache[n]\n",
    "    else:\n",
    "        print('calculating {0}!'.format(n))\n",
    "        result = n * factorial(n-1)\n",
    "        cache[n] = result\n",
    "        return result"
   ]
  },
  {
   "cell_type": "code",
   "execution_count": 86,
   "id": "5c1181ac",
   "metadata": {},
   "outputs": [
    {
     "name": "stdout",
     "output_type": "stream",
     "text": [
      "calculating 3!\n",
      "calculating 2!\n",
      "calculating 1!\n"
     ]
    },
    {
     "ename": "TypeError",
     "evalue": "'tuple' object does not support item assignment",
     "output_type": "error",
     "traceback": [
      "\u001b[1;31m---------------------------------------------------------------------------\u001b[0m",
      "\u001b[1;31mTypeError\u001b[0m                                 Traceback (most recent call last)",
      "\u001b[1;32mc:\\Users\\pgold\\MatsHub\\deep-Dive-1\\class_notes\\function_parameters\\parameter_defaults_beware_2.ipynb Cell 34\u001b[0m in \u001b[0;36m<cell line: 1>\u001b[1;34m()\u001b[0m\n\u001b[1;32m----> <a href='vscode-notebook-cell:/c%3A/Users/pgold/MatsHub/deep-Dive-1/class_notes/function_parameters/parameter_defaults_beware_2.ipynb#ch0000038?line=0'>1</a>\u001b[0m factorial(\u001b[39m3\u001b[39;49m)\n",
      "\u001b[1;32mc:\\Users\\pgold\\MatsHub\\deep-Dive-1\\class_notes\\function_parameters\\parameter_defaults_beware_2.ipynb Cell 34\u001b[0m in \u001b[0;36mfactorial\u001b[1;34m(n, cache)\u001b[0m\n\u001b[0;32m      <a href='vscode-notebook-cell:/c%3A/Users/pgold/MatsHub/deep-Dive-1/class_notes/function_parameters/parameter_defaults_beware_2.ipynb#ch0000038?line=5'>6</a>\u001b[0m \u001b[39melse\u001b[39;00m:\n\u001b[0;32m      <a href='vscode-notebook-cell:/c%3A/Users/pgold/MatsHub/deep-Dive-1/class_notes/function_parameters/parameter_defaults_beware_2.ipynb#ch0000038?line=6'>7</a>\u001b[0m     \u001b[39mprint\u001b[39m(\u001b[39m'\u001b[39m\u001b[39mcalculating \u001b[39m\u001b[39m{0}\u001b[39;00m\u001b[39m!\u001b[39m\u001b[39m'\u001b[39m\u001b[39m.\u001b[39mformat(n))\n\u001b[1;32m----> <a href='vscode-notebook-cell:/c%3A/Users/pgold/MatsHub/deep-Dive-1/class_notes/function_parameters/parameter_defaults_beware_2.ipynb#ch0000038?line=7'>8</a>\u001b[0m     result \u001b[39m=\u001b[39m n \u001b[39m*\u001b[39m factorial(n\u001b[39m-\u001b[39;49m\u001b[39m1\u001b[39;49m)\n\u001b[0;32m      <a href='vscode-notebook-cell:/c%3A/Users/pgold/MatsHub/deep-Dive-1/class_notes/function_parameters/parameter_defaults_beware_2.ipynb#ch0000038?line=8'>9</a>\u001b[0m     cache[n] \u001b[39m=\u001b[39m result\n\u001b[0;32m     <a href='vscode-notebook-cell:/c%3A/Users/pgold/MatsHub/deep-Dive-1/class_notes/function_parameters/parameter_defaults_beware_2.ipynb#ch0000038?line=9'>10</a>\u001b[0m     \u001b[39mreturn\u001b[39;00m result\n",
      "\u001b[1;32mc:\\Users\\pgold\\MatsHub\\deep-Dive-1\\class_notes\\function_parameters\\parameter_defaults_beware_2.ipynb Cell 34\u001b[0m in \u001b[0;36mfactorial\u001b[1;34m(n, cache)\u001b[0m\n\u001b[0;32m      <a href='vscode-notebook-cell:/c%3A/Users/pgold/MatsHub/deep-Dive-1/class_notes/function_parameters/parameter_defaults_beware_2.ipynb#ch0000038?line=5'>6</a>\u001b[0m \u001b[39melse\u001b[39;00m:\n\u001b[0;32m      <a href='vscode-notebook-cell:/c%3A/Users/pgold/MatsHub/deep-Dive-1/class_notes/function_parameters/parameter_defaults_beware_2.ipynb#ch0000038?line=6'>7</a>\u001b[0m     \u001b[39mprint\u001b[39m(\u001b[39m'\u001b[39m\u001b[39mcalculating \u001b[39m\u001b[39m{0}\u001b[39;00m\u001b[39m!\u001b[39m\u001b[39m'\u001b[39m\u001b[39m.\u001b[39mformat(n))\n\u001b[1;32m----> <a href='vscode-notebook-cell:/c%3A/Users/pgold/MatsHub/deep-Dive-1/class_notes/function_parameters/parameter_defaults_beware_2.ipynb#ch0000038?line=7'>8</a>\u001b[0m     result \u001b[39m=\u001b[39m n \u001b[39m*\u001b[39m factorial(n\u001b[39m-\u001b[39;49m\u001b[39m1\u001b[39;49m)\n\u001b[0;32m      <a href='vscode-notebook-cell:/c%3A/Users/pgold/MatsHub/deep-Dive-1/class_notes/function_parameters/parameter_defaults_beware_2.ipynb#ch0000038?line=8'>9</a>\u001b[0m     cache[n] \u001b[39m=\u001b[39m result\n\u001b[0;32m     <a href='vscode-notebook-cell:/c%3A/Users/pgold/MatsHub/deep-Dive-1/class_notes/function_parameters/parameter_defaults_beware_2.ipynb#ch0000038?line=9'>10</a>\u001b[0m     \u001b[39mreturn\u001b[39;00m result\n",
      "\u001b[1;32mc:\\Users\\pgold\\MatsHub\\deep-Dive-1\\class_notes\\function_parameters\\parameter_defaults_beware_2.ipynb Cell 34\u001b[0m in \u001b[0;36mfactorial\u001b[1;34m(n, cache)\u001b[0m\n\u001b[0;32m      <a href='vscode-notebook-cell:/c%3A/Users/pgold/MatsHub/deep-Dive-1/class_notes/function_parameters/parameter_defaults_beware_2.ipynb#ch0000038?line=6'>7</a>\u001b[0m \u001b[39mprint\u001b[39m(\u001b[39m'\u001b[39m\u001b[39mcalculating \u001b[39m\u001b[39m{0}\u001b[39;00m\u001b[39m!\u001b[39m\u001b[39m'\u001b[39m\u001b[39m.\u001b[39mformat(n))\n\u001b[0;32m      <a href='vscode-notebook-cell:/c%3A/Users/pgold/MatsHub/deep-Dive-1/class_notes/function_parameters/parameter_defaults_beware_2.ipynb#ch0000038?line=7'>8</a>\u001b[0m result \u001b[39m=\u001b[39m n \u001b[39m*\u001b[39m factorial(n\u001b[39m-\u001b[39m\u001b[39m1\u001b[39m)\n\u001b[1;32m----> <a href='vscode-notebook-cell:/c%3A/Users/pgold/MatsHub/deep-Dive-1/class_notes/function_parameters/parameter_defaults_beware_2.ipynb#ch0000038?line=8'>9</a>\u001b[0m cache[n] \u001b[39m=\u001b[39m result\n\u001b[0;32m     <a href='vscode-notebook-cell:/c%3A/Users/pgold/MatsHub/deep-Dive-1/class_notes/function_parameters/parameter_defaults_beware_2.ipynb#ch0000038?line=9'>10</a>\u001b[0m \u001b[39mreturn\u001b[39;00m result\n",
      "\u001b[1;31mTypeError\u001b[0m: 'tuple' object does not support item assignment"
     ]
    }
   ],
   "source": [
    "factorial(3)"
   ]
  },
  {
   "cell_type": "code",
   "execution_count": 87,
   "id": "97dfde1d",
   "metadata": {},
   "outputs": [
    {
     "name": "stdout",
     "output_type": "stream",
     "text": [
      "calculating 3!\n",
      "calculating 2!\n",
      "calculating 1!\n"
     ]
    },
    {
     "ename": "TypeError",
     "evalue": "'tuple' object does not support item assignment",
     "output_type": "error",
     "traceback": [
      "\u001b[1;31m---------------------------------------------------------------------------\u001b[0m",
      "\u001b[1;31mTypeError\u001b[0m                                 Traceback (most recent call last)",
      "\u001b[1;32mc:\\Users\\pgold\\MatsHub\\deep-Dive-1\\class_notes\\function_parameters\\parameter_defaults_beware_2.ipynb Cell 35\u001b[0m in \u001b[0;36m<cell line: 1>\u001b[1;34m()\u001b[0m\n\u001b[1;32m----> <a href='vscode-notebook-cell:/c%3A/Users/pgold/MatsHub/deep-Dive-1/class_notes/function_parameters/parameter_defaults_beware_2.ipynb#ch0000039?line=0'>1</a>\u001b[0m factorial(\u001b[39m3\u001b[39;49m)\n",
      "\u001b[1;32mc:\\Users\\pgold\\MatsHub\\deep-Dive-1\\class_notes\\function_parameters\\parameter_defaults_beware_2.ipynb Cell 35\u001b[0m in \u001b[0;36mfactorial\u001b[1;34m(n, cache)\u001b[0m\n\u001b[0;32m      <a href='vscode-notebook-cell:/c%3A/Users/pgold/MatsHub/deep-Dive-1/class_notes/function_parameters/parameter_defaults_beware_2.ipynb#ch0000039?line=5'>6</a>\u001b[0m \u001b[39melse\u001b[39;00m:\n\u001b[0;32m      <a href='vscode-notebook-cell:/c%3A/Users/pgold/MatsHub/deep-Dive-1/class_notes/function_parameters/parameter_defaults_beware_2.ipynb#ch0000039?line=6'>7</a>\u001b[0m     \u001b[39mprint\u001b[39m(\u001b[39m'\u001b[39m\u001b[39mcalculating \u001b[39m\u001b[39m{0}\u001b[39;00m\u001b[39m!\u001b[39m\u001b[39m'\u001b[39m\u001b[39m.\u001b[39mformat(n))\n\u001b[1;32m----> <a href='vscode-notebook-cell:/c%3A/Users/pgold/MatsHub/deep-Dive-1/class_notes/function_parameters/parameter_defaults_beware_2.ipynb#ch0000039?line=7'>8</a>\u001b[0m     result \u001b[39m=\u001b[39m n \u001b[39m*\u001b[39m factorial(n\u001b[39m-\u001b[39;49m\u001b[39m1\u001b[39;49m)\n\u001b[0;32m      <a href='vscode-notebook-cell:/c%3A/Users/pgold/MatsHub/deep-Dive-1/class_notes/function_parameters/parameter_defaults_beware_2.ipynb#ch0000039?line=8'>9</a>\u001b[0m     cache[n] \u001b[39m=\u001b[39m result\n\u001b[0;32m     <a href='vscode-notebook-cell:/c%3A/Users/pgold/MatsHub/deep-Dive-1/class_notes/function_parameters/parameter_defaults_beware_2.ipynb#ch0000039?line=9'>10</a>\u001b[0m     \u001b[39mreturn\u001b[39;00m result\n",
      "\u001b[1;32mc:\\Users\\pgold\\MatsHub\\deep-Dive-1\\class_notes\\function_parameters\\parameter_defaults_beware_2.ipynb Cell 35\u001b[0m in \u001b[0;36mfactorial\u001b[1;34m(n, cache)\u001b[0m\n\u001b[0;32m      <a href='vscode-notebook-cell:/c%3A/Users/pgold/MatsHub/deep-Dive-1/class_notes/function_parameters/parameter_defaults_beware_2.ipynb#ch0000039?line=5'>6</a>\u001b[0m \u001b[39melse\u001b[39;00m:\n\u001b[0;32m      <a href='vscode-notebook-cell:/c%3A/Users/pgold/MatsHub/deep-Dive-1/class_notes/function_parameters/parameter_defaults_beware_2.ipynb#ch0000039?line=6'>7</a>\u001b[0m     \u001b[39mprint\u001b[39m(\u001b[39m'\u001b[39m\u001b[39mcalculating \u001b[39m\u001b[39m{0}\u001b[39;00m\u001b[39m!\u001b[39m\u001b[39m'\u001b[39m\u001b[39m.\u001b[39mformat(n))\n\u001b[1;32m----> <a href='vscode-notebook-cell:/c%3A/Users/pgold/MatsHub/deep-Dive-1/class_notes/function_parameters/parameter_defaults_beware_2.ipynb#ch0000039?line=7'>8</a>\u001b[0m     result \u001b[39m=\u001b[39m n \u001b[39m*\u001b[39m factorial(n\u001b[39m-\u001b[39;49m\u001b[39m1\u001b[39;49m)\n\u001b[0;32m      <a href='vscode-notebook-cell:/c%3A/Users/pgold/MatsHub/deep-Dive-1/class_notes/function_parameters/parameter_defaults_beware_2.ipynb#ch0000039?line=8'>9</a>\u001b[0m     cache[n] \u001b[39m=\u001b[39m result\n\u001b[0;32m     <a href='vscode-notebook-cell:/c%3A/Users/pgold/MatsHub/deep-Dive-1/class_notes/function_parameters/parameter_defaults_beware_2.ipynb#ch0000039?line=9'>10</a>\u001b[0m     \u001b[39mreturn\u001b[39;00m result\n",
      "\u001b[1;32mc:\\Users\\pgold\\MatsHub\\deep-Dive-1\\class_notes\\function_parameters\\parameter_defaults_beware_2.ipynb Cell 35\u001b[0m in \u001b[0;36mfactorial\u001b[1;34m(n, cache)\u001b[0m\n\u001b[0;32m      <a href='vscode-notebook-cell:/c%3A/Users/pgold/MatsHub/deep-Dive-1/class_notes/function_parameters/parameter_defaults_beware_2.ipynb#ch0000039?line=6'>7</a>\u001b[0m \u001b[39mprint\u001b[39m(\u001b[39m'\u001b[39m\u001b[39mcalculating \u001b[39m\u001b[39m{0}\u001b[39;00m\u001b[39m!\u001b[39m\u001b[39m'\u001b[39m\u001b[39m.\u001b[39mformat(n))\n\u001b[0;32m      <a href='vscode-notebook-cell:/c%3A/Users/pgold/MatsHub/deep-Dive-1/class_notes/function_parameters/parameter_defaults_beware_2.ipynb#ch0000039?line=7'>8</a>\u001b[0m result \u001b[39m=\u001b[39m n \u001b[39m*\u001b[39m factorial(n\u001b[39m-\u001b[39m\u001b[39m1\u001b[39m)\n\u001b[1;32m----> <a href='vscode-notebook-cell:/c%3A/Users/pgold/MatsHub/deep-Dive-1/class_notes/function_parameters/parameter_defaults_beware_2.ipynb#ch0000039?line=8'>9</a>\u001b[0m cache[n] \u001b[39m=\u001b[39m result\n\u001b[0;32m     <a href='vscode-notebook-cell:/c%3A/Users/pgold/MatsHub/deep-Dive-1/class_notes/function_parameters/parameter_defaults_beware_2.ipynb#ch0000039?line=9'>10</a>\u001b[0m \u001b[39mreturn\u001b[39;00m result\n",
      "\u001b[1;31mTypeError\u001b[0m: 'tuple' object does not support item assignment"
     ]
    }
   ],
   "source": [
    "factorial(3)"
   ]
  },
  {
   "cell_type": "code",
   "execution_count": 88,
   "id": "70e2605b",
   "metadata": {},
   "outputs": [
    {
     "name": "stdout",
     "output_type": "stream",
     "text": [
      "calculating 4!\n",
      "calculating 3!\n",
      "calculating 2!\n",
      "calculating 1!\n"
     ]
    },
    {
     "ename": "TypeError",
     "evalue": "'tuple' object does not support item assignment",
     "output_type": "error",
     "traceback": [
      "\u001b[1;31m---------------------------------------------------------------------------\u001b[0m",
      "\u001b[1;31mTypeError\u001b[0m                                 Traceback (most recent call last)",
      "\u001b[1;32mc:\\Users\\pgold\\MatsHub\\deep-Dive-1\\class_notes\\function_parameters\\parameter_defaults_beware_2.ipynb Cell 36\u001b[0m in \u001b[0;36m<cell line: 1>\u001b[1;34m()\u001b[0m\n\u001b[1;32m----> <a href='vscode-notebook-cell:/c%3A/Users/pgold/MatsHub/deep-Dive-1/class_notes/function_parameters/parameter_defaults_beware_2.ipynb#ch0000040?line=0'>1</a>\u001b[0m factorial(\u001b[39m4\u001b[39;49m)\n",
      "\u001b[1;32mc:\\Users\\pgold\\MatsHub\\deep-Dive-1\\class_notes\\function_parameters\\parameter_defaults_beware_2.ipynb Cell 36\u001b[0m in \u001b[0;36mfactorial\u001b[1;34m(n, cache)\u001b[0m\n\u001b[0;32m      <a href='vscode-notebook-cell:/c%3A/Users/pgold/MatsHub/deep-Dive-1/class_notes/function_parameters/parameter_defaults_beware_2.ipynb#ch0000040?line=5'>6</a>\u001b[0m \u001b[39melse\u001b[39;00m:\n\u001b[0;32m      <a href='vscode-notebook-cell:/c%3A/Users/pgold/MatsHub/deep-Dive-1/class_notes/function_parameters/parameter_defaults_beware_2.ipynb#ch0000040?line=6'>7</a>\u001b[0m     \u001b[39mprint\u001b[39m(\u001b[39m'\u001b[39m\u001b[39mcalculating \u001b[39m\u001b[39m{0}\u001b[39;00m\u001b[39m!\u001b[39m\u001b[39m'\u001b[39m\u001b[39m.\u001b[39mformat(n))\n\u001b[1;32m----> <a href='vscode-notebook-cell:/c%3A/Users/pgold/MatsHub/deep-Dive-1/class_notes/function_parameters/parameter_defaults_beware_2.ipynb#ch0000040?line=7'>8</a>\u001b[0m     result \u001b[39m=\u001b[39m n \u001b[39m*\u001b[39m factorial(n\u001b[39m-\u001b[39;49m\u001b[39m1\u001b[39;49m)\n\u001b[0;32m      <a href='vscode-notebook-cell:/c%3A/Users/pgold/MatsHub/deep-Dive-1/class_notes/function_parameters/parameter_defaults_beware_2.ipynb#ch0000040?line=8'>9</a>\u001b[0m     cache[n] \u001b[39m=\u001b[39m result\n\u001b[0;32m     <a href='vscode-notebook-cell:/c%3A/Users/pgold/MatsHub/deep-Dive-1/class_notes/function_parameters/parameter_defaults_beware_2.ipynb#ch0000040?line=9'>10</a>\u001b[0m     \u001b[39mreturn\u001b[39;00m result\n",
      "\u001b[1;32mc:\\Users\\pgold\\MatsHub\\deep-Dive-1\\class_notes\\function_parameters\\parameter_defaults_beware_2.ipynb Cell 36\u001b[0m in \u001b[0;36mfactorial\u001b[1;34m(n, cache)\u001b[0m\n\u001b[0;32m      <a href='vscode-notebook-cell:/c%3A/Users/pgold/MatsHub/deep-Dive-1/class_notes/function_parameters/parameter_defaults_beware_2.ipynb#ch0000040?line=5'>6</a>\u001b[0m \u001b[39melse\u001b[39;00m:\n\u001b[0;32m      <a href='vscode-notebook-cell:/c%3A/Users/pgold/MatsHub/deep-Dive-1/class_notes/function_parameters/parameter_defaults_beware_2.ipynb#ch0000040?line=6'>7</a>\u001b[0m     \u001b[39mprint\u001b[39m(\u001b[39m'\u001b[39m\u001b[39mcalculating \u001b[39m\u001b[39m{0}\u001b[39;00m\u001b[39m!\u001b[39m\u001b[39m'\u001b[39m\u001b[39m.\u001b[39mformat(n))\n\u001b[1;32m----> <a href='vscode-notebook-cell:/c%3A/Users/pgold/MatsHub/deep-Dive-1/class_notes/function_parameters/parameter_defaults_beware_2.ipynb#ch0000040?line=7'>8</a>\u001b[0m     result \u001b[39m=\u001b[39m n \u001b[39m*\u001b[39m factorial(n\u001b[39m-\u001b[39;49m\u001b[39m1\u001b[39;49m)\n\u001b[0;32m      <a href='vscode-notebook-cell:/c%3A/Users/pgold/MatsHub/deep-Dive-1/class_notes/function_parameters/parameter_defaults_beware_2.ipynb#ch0000040?line=8'>9</a>\u001b[0m     cache[n] \u001b[39m=\u001b[39m result\n\u001b[0;32m     <a href='vscode-notebook-cell:/c%3A/Users/pgold/MatsHub/deep-Dive-1/class_notes/function_parameters/parameter_defaults_beware_2.ipynb#ch0000040?line=9'>10</a>\u001b[0m     \u001b[39mreturn\u001b[39;00m result\n",
      "\u001b[1;32mc:\\Users\\pgold\\MatsHub\\deep-Dive-1\\class_notes\\function_parameters\\parameter_defaults_beware_2.ipynb Cell 36\u001b[0m in \u001b[0;36mfactorial\u001b[1;34m(n, cache)\u001b[0m\n\u001b[0;32m      <a href='vscode-notebook-cell:/c%3A/Users/pgold/MatsHub/deep-Dive-1/class_notes/function_parameters/parameter_defaults_beware_2.ipynb#ch0000040?line=5'>6</a>\u001b[0m \u001b[39melse\u001b[39;00m:\n\u001b[0;32m      <a href='vscode-notebook-cell:/c%3A/Users/pgold/MatsHub/deep-Dive-1/class_notes/function_parameters/parameter_defaults_beware_2.ipynb#ch0000040?line=6'>7</a>\u001b[0m     \u001b[39mprint\u001b[39m(\u001b[39m'\u001b[39m\u001b[39mcalculating \u001b[39m\u001b[39m{0}\u001b[39;00m\u001b[39m!\u001b[39m\u001b[39m'\u001b[39m\u001b[39m.\u001b[39mformat(n))\n\u001b[1;32m----> <a href='vscode-notebook-cell:/c%3A/Users/pgold/MatsHub/deep-Dive-1/class_notes/function_parameters/parameter_defaults_beware_2.ipynb#ch0000040?line=7'>8</a>\u001b[0m     result \u001b[39m=\u001b[39m n \u001b[39m*\u001b[39m factorial(n\u001b[39m-\u001b[39;49m\u001b[39m1\u001b[39;49m)\n\u001b[0;32m      <a href='vscode-notebook-cell:/c%3A/Users/pgold/MatsHub/deep-Dive-1/class_notes/function_parameters/parameter_defaults_beware_2.ipynb#ch0000040?line=8'>9</a>\u001b[0m     cache[n] \u001b[39m=\u001b[39m result\n\u001b[0;32m     <a href='vscode-notebook-cell:/c%3A/Users/pgold/MatsHub/deep-Dive-1/class_notes/function_parameters/parameter_defaults_beware_2.ipynb#ch0000040?line=9'>10</a>\u001b[0m     \u001b[39mreturn\u001b[39;00m result\n",
      "\u001b[1;32mc:\\Users\\pgold\\MatsHub\\deep-Dive-1\\class_notes\\function_parameters\\parameter_defaults_beware_2.ipynb Cell 36\u001b[0m in \u001b[0;36mfactorial\u001b[1;34m(n, cache)\u001b[0m\n\u001b[0;32m      <a href='vscode-notebook-cell:/c%3A/Users/pgold/MatsHub/deep-Dive-1/class_notes/function_parameters/parameter_defaults_beware_2.ipynb#ch0000040?line=6'>7</a>\u001b[0m \u001b[39mprint\u001b[39m(\u001b[39m'\u001b[39m\u001b[39mcalculating \u001b[39m\u001b[39m{0}\u001b[39;00m\u001b[39m!\u001b[39m\u001b[39m'\u001b[39m\u001b[39m.\u001b[39mformat(n))\n\u001b[0;32m      <a href='vscode-notebook-cell:/c%3A/Users/pgold/MatsHub/deep-Dive-1/class_notes/function_parameters/parameter_defaults_beware_2.ipynb#ch0000040?line=7'>8</a>\u001b[0m result \u001b[39m=\u001b[39m n \u001b[39m*\u001b[39m factorial(n\u001b[39m-\u001b[39m\u001b[39m1\u001b[39m)\n\u001b[1;32m----> <a href='vscode-notebook-cell:/c%3A/Users/pgold/MatsHub/deep-Dive-1/class_notes/function_parameters/parameter_defaults_beware_2.ipynb#ch0000040?line=8'>9</a>\u001b[0m cache[n] \u001b[39m=\u001b[39m result\n\u001b[0;32m     <a href='vscode-notebook-cell:/c%3A/Users/pgold/MatsHub/deep-Dive-1/class_notes/function_parameters/parameter_defaults_beware_2.ipynb#ch0000040?line=9'>10</a>\u001b[0m \u001b[39mreturn\u001b[39;00m result\n",
      "\u001b[1;31mTypeError\u001b[0m: 'tuple' object does not support item assignment"
     ]
    }
   ],
   "source": [
    "factorial(4)"
   ]
  }
 ],
 "metadata": {
  "kernelspec": {
   "display_name": "Python 3 (ipykernel)",
   "language": "python",
   "name": "python3"
  },
  "language_info": {
   "codemirror_mode": {
    "name": "ipython",
    "version": 3
   },
   "file_extension": ".py",
   "mimetype": "text/x-python",
   "name": "python",
   "nbconvert_exporter": "python",
   "pygments_lexer": "ipython3",
   "version": "3.9.12"
  },
  "vscode": {
   "interpreter": {
    "hash": "a624adbc5e596fddf72740b255048309200567f23df85867ce297e9f9d364c1b"
   }
  }
 },
 "nbformat": 4,
 "nbformat_minor": 5
}
