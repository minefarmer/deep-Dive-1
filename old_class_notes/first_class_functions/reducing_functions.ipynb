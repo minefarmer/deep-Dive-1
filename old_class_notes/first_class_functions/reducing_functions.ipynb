{
 "cells": [
  {
   "cell_type": "markdown",
   "id": "23d9db45",
   "metadata": {},
   "source": [
    "Reducing Functions"
   ]
  },
  {
   "cell_type": "code",
   "execution_count": 29,
   "id": "8ec54458",
   "metadata": {},
   "outputs": [],
   "source": [
    "l = [5, 6, 7, 8, 10, 9]"
   ]
  },
  {
   "cell_type": "code",
   "execution_count": 30,
   "id": "f8283611",
   "metadata": {},
   "outputs": [],
   "source": [
    "_max = lambda x, y: x if x > y else y"
   ]
  },
  {
   "cell_type": "code",
   "execution_count": 31,
   "id": "964a2ced",
   "metadata": {},
   "outputs": [
    {
     "data": {
      "text/plain": [
       "4"
      ]
     },
     "execution_count": 31,
     "metadata": {},
     "output_type": "execute_result"
    }
   ],
   "source": [
    "_max(3,4)"
   ]
  },
  {
   "cell_type": "code",
   "execution_count": 32,
   "id": "20c5fe1c",
   "metadata": {},
   "outputs": [
    {
     "data": {
      "text/plain": [
       "10"
      ]
     },
     "execution_count": 32,
     "metadata": {},
     "output_type": "execute_result"
    }
   ],
   "source": [
    "_max(10, 2)"
   ]
  },
  {
   "cell_type": "code",
   "execution_count": 33,
   "id": "5bb665e3",
   "metadata": {},
   "outputs": [],
   "source": [
    "def max_sequence(sequence):\n",
    "    result = sequence[0]\n",
    "    for x in sequence[1:]:\n",
    "        result = max(result, x)\n",
    "    return result"
   ]
  },
  {
   "cell_type": "code",
   "execution_count": 34,
   "id": "0a0bff89",
   "metadata": {},
   "outputs": [
    {
     "data": {
      "text/plain": [
       "10"
      ]
     },
     "execution_count": 34,
     "metadata": {},
     "output_type": "execute_result"
    }
   ],
   "source": [
    "max_sequence(l)"
   ]
  },
  {
   "cell_type": "code",
   "execution_count": 35,
   "id": "df960276",
   "metadata": {},
   "outputs": [],
   "source": [
    "_min = lambda a, b: a if a < b else b"
   ]
  },
  {
   "cell_type": "code",
   "execution_count": 39,
   "id": "fdc19b0a",
   "metadata": {},
   "outputs": [],
   "source": [
    "def min_sequence(sequence):\n",
    "    result = sequence[0]\n",
    "    for x in sequence[1:]:\n",
    "        result = min(result, x)\n",
    "    return result"
   ]
  },
  {
   "cell_type": "code",
   "execution_count": 40,
   "id": "39b4ea57",
   "metadata": {},
   "outputs": [
    {
     "data": {
      "text/plain": [
       "5"
      ]
     },
     "execution_count": 40,
     "metadata": {},
     "output_type": "execute_result"
    }
   ],
   "source": [
    "min_sequence(l)"
   ]
  },
  {
   "cell_type": "code",
   "execution_count": 41,
   "id": "b34271c8",
   "metadata": {},
   "outputs": [],
   "source": [
    "_add = lambda a, b: a + b"
   ]
  },
  {
   "cell_type": "code",
   "execution_count": 44,
   "id": "ebffa354",
   "metadata": {},
   "outputs": [],
   "source": [
    "def add_sequence(sequence):\n",
    "    result = sequence[0]\n",
    "    for x in sequence[1:]:\n",
    "        result = _add(result, x)\n",
    "    return result"
   ]
  },
  {
   "cell_type": "code",
   "execution_count": 45,
   "id": "c4e0c8b2",
   "metadata": {},
   "outputs": [
    {
     "data": {
      "text/plain": [
       "45"
      ]
     },
     "execution_count": 45,
     "metadata": {},
     "output_type": "execute_result"
    }
   ],
   "source": [
    "add_sequence(l)"
   ]
  },
  {
   "cell_type": "code",
   "execution_count": 46,
   "id": "3022b397",
   "metadata": {},
   "outputs": [],
   "source": [
    "def _reduce(fn, sequence):\n",
    "    result = sequence[0]\n",
    "    for x in sequence[1:]:\n",
    "        result = fn(result, x)\n",
    "    return result"
   ]
  },
  {
   "cell_type": "code",
   "execution_count": 47,
   "id": "f20911da",
   "metadata": {},
   "outputs": [
    {
     "data": {
      "text/plain": [
       "10"
      ]
     },
     "execution_count": 47,
     "metadata": {},
     "output_type": "execute_result"
    }
   ],
   "source": [
    "_reduce(_max, l)"
   ]
  },
  {
   "cell_type": "code",
   "execution_count": 48,
   "id": "5fdcd275",
   "metadata": {},
   "outputs": [
    {
     "data": {
      "text/plain": [
       "5"
      ]
     },
     "execution_count": 48,
     "metadata": {},
     "output_type": "execute_result"
    }
   ],
   "source": [
    "_reduce(_min, l)"
   ]
  },
  {
   "cell_type": "code",
   "execution_count": 49,
   "id": "a9ea30ee",
   "metadata": {},
   "outputs": [
    {
     "ename": "TypeError",
     "evalue": "'set' object is not subscriptable",
     "output_type": "error",
     "traceback": [
      "\u001b[1;31m---------------------------------------------------------------------------\u001b[0m",
      "\u001b[1;31mTypeError\u001b[0m                                 Traceback (most recent call last)",
      "\u001b[1;32mc:\\Users\\pgold\\MatsHub\\deep-Dive-1\\class_notes\\first_class_functions\\reducing_functions.ipynb Cell 17\u001b[0m in \u001b[0;36m<cell line: 1>\u001b[1;34m()\u001b[0m\n\u001b[1;32m----> <a href='vscode-notebook-cell:/c%3A/Users/pgold/MatsHub/deep-Dive-1/class_notes/first_class_functions/reducing_functions.ipynb#ch0000017?line=0'>1</a>\u001b[0m _reduce(_max, {\u001b[39m1\u001b[39;49m, \u001b[39m3\u001b[39;49m, \u001b[39m4\u001b[39;49m, \u001b[39m5\u001b[39;49m})\n",
      "\u001b[1;32mc:\\Users\\pgold\\MatsHub\\deep-Dive-1\\class_notes\\first_class_functions\\reducing_functions.ipynb Cell 17\u001b[0m in \u001b[0;36m_reduce\u001b[1;34m(fn, sequence)\u001b[0m\n\u001b[0;32m      <a href='vscode-notebook-cell:/c%3A/Users/pgold/MatsHub/deep-Dive-1/class_notes/first_class_functions/reducing_functions.ipynb#ch0000017?line=0'>1</a>\u001b[0m \u001b[39mdef\u001b[39;00m \u001b[39m_reduce\u001b[39m(fn, sequence):\n\u001b[1;32m----> <a href='vscode-notebook-cell:/c%3A/Users/pgold/MatsHub/deep-Dive-1/class_notes/first_class_functions/reducing_functions.ipynb#ch0000017?line=1'>2</a>\u001b[0m     result \u001b[39m=\u001b[39m sequence[\u001b[39m0\u001b[39;49m]\n\u001b[0;32m      <a href='vscode-notebook-cell:/c%3A/Users/pgold/MatsHub/deep-Dive-1/class_notes/first_class_functions/reducing_functions.ipynb#ch0000017?line=2'>3</a>\u001b[0m     \u001b[39mfor\u001b[39;00m x \u001b[39min\u001b[39;00m sequence[\u001b[39m1\u001b[39m:]:\n\u001b[0;32m      <a href='vscode-notebook-cell:/c%3A/Users/pgold/MatsHub/deep-Dive-1/class_notes/first_class_functions/reducing_functions.ipynb#ch0000017?line=3'>4</a>\u001b[0m         result \u001b[39m=\u001b[39m fn(result, x)\n",
      "\u001b[1;31mTypeError\u001b[0m: 'set' object is not subscriptable"
     ]
    }
   ],
   "source": [
    "_reduce(_max, {1, 3, 4, 5})"
   ]
  },
  {
   "cell_type": "code",
   "execution_count": 50,
   "id": "3f5cfa1f",
   "metadata": {},
   "outputs": [],
   "source": [
    "from functools import reduce"
   ]
  },
  {
   "cell_type": "code",
   "execution_count": 51,
   "id": "ed6d2a89",
   "metadata": {},
   "outputs": [
    {
     "data": {
      "text/plain": [
       "10"
      ]
     },
     "execution_count": 51,
     "metadata": {},
     "output_type": "execute_result"
    }
   ],
   "source": [
    "reduce(_max, l)"
   ]
  },
  {
   "cell_type": "code",
   "execution_count": 52,
   "id": "8a62d3c9",
   "metadata": {},
   "outputs": [
    {
     "data": {
      "text/plain": [
       "45"
      ]
     },
     "execution_count": 52,
     "metadata": {},
     "output_type": "execute_result"
    }
   ],
   "source": [
    "reduce(_add, l)"
   ]
  },
  {
   "cell_type": "code",
   "execution_count": 53,
   "id": "5f4c27c8",
   "metadata": {},
   "outputs": [
    {
     "data": {
      "text/plain": [
       "5"
      ]
     },
     "execution_count": 53,
     "metadata": {},
     "output_type": "execute_result"
    }
   ],
   "source": [
    "reduce(_max, {1, 3, 4, 5})"
   ]
  },
  {
   "cell_type": "code",
   "execution_count": 54,
   "id": "ade0fb14",
   "metadata": {},
   "outputs": [
    {
     "data": {
      "text/plain": [
       "5"
      ]
     },
     "execution_count": 54,
     "metadata": {},
     "output_type": "execute_result"
    }
   ],
   "source": [
    "min(l)"
   ]
  },
  {
   "cell_type": "code",
   "execution_count": 55,
   "id": "882c2df3",
   "metadata": {},
   "outputs": [
    {
     "data": {
      "text/plain": [
       "1"
      ]
     },
     "execution_count": 55,
     "metadata": {},
     "output_type": "execute_result"
    }
   ],
   "source": [
    "min({1, 2, 3})"
   ]
  },
  {
   "cell_type": "code",
   "execution_count": 56,
   "id": "7e4ac062",
   "metadata": {},
   "outputs": [
    {
     "data": {
      "text/plain": [
       "10"
      ]
     },
     "execution_count": 56,
     "metadata": {},
     "output_type": "execute_result"
    }
   ],
   "source": [
    "max(l)"
   ]
  },
  {
   "cell_type": "code",
   "execution_count": 57,
   "id": "7d494d87",
   "metadata": {},
   "outputs": [
    {
     "data": {
      "text/plain": [
       "45"
      ]
     },
     "execution_count": 57,
     "metadata": {},
     "output_type": "execute_result"
    }
   ],
   "source": [
    "sum(l)"
   ]
  },
  {
   "cell_type": "code",
   "execution_count": 58,
   "id": "1ac3e7be",
   "metadata": {},
   "outputs": [
    {
     "data": {
      "text/plain": [
       "6"
      ]
     },
     "execution_count": 58,
     "metadata": {},
     "output_type": "execute_result"
    }
   ],
   "source": [
    "sum({1, 2, 3})"
   ]
  },
  {
   "cell_type": "code",
   "execution_count": 59,
   "id": "73dd6390",
   "metadata": {},
   "outputs": [],
   "source": [
    "s = {True, 1, 0, None}"
   ]
  },
  {
   "cell_type": "code",
   "execution_count": 60,
   "id": "f2378cbf",
   "metadata": {},
   "outputs": [
    {
     "data": {
      "text/plain": [
       "False"
      ]
     },
     "execution_count": 60,
     "metadata": {},
     "output_type": "execute_result"
    }
   ],
   "source": [
    "all(s)"
   ]
  },
  {
   "cell_type": "code",
   "execution_count": 61,
   "id": "85a870f7",
   "metadata": {},
   "outputs": [],
   "source": [
    "s2 = {True, 1, \"s\"}"
   ]
  },
  {
   "cell_type": "code",
   "execution_count": 62,
   "id": "c097bdea",
   "metadata": {},
   "outputs": [
    {
     "data": {
      "text/plain": [
       "True"
      ]
     },
     "execution_count": 62,
     "metadata": {},
     "output_type": "execute_result"
    }
   ],
   "source": [
    "all(s2)"
   ]
  },
  {
   "cell_type": "code",
   "execution_count": 63,
   "id": "8b01a423",
   "metadata": {},
   "outputs": [
    {
     "data": {
      "text/plain": [
       "True"
      ]
     },
     "execution_count": 63,
     "metadata": {},
     "output_type": "execute_result"
    }
   ],
   "source": [
    "bool(True) and bool(1) and bool('s')"
   ]
  },
  {
   "cell_type": "code",
   "execution_count": 64,
   "id": "301c514f",
   "metadata": {},
   "outputs": [
    {
     "data": {
      "text/plain": [
       "False"
      ]
     },
     "execution_count": 64,
     "metadata": {},
     "output_type": "execute_result"
    }
   ],
   "source": [
    "bool(True) and bool(1)and bool(0) and bool(None)"
   ]
  },
  {
   "cell_type": "code",
   "execution_count": 65,
   "id": "9c4dc234",
   "metadata": {},
   "outputs": [
    {
     "data": {
      "text/plain": [
       "True"
      ]
     },
     "execution_count": 65,
     "metadata": {},
     "output_type": "execute_result"
    }
   ],
   "source": [
    "any(s)"
   ]
  },
  {
   "cell_type": "code",
   "execution_count": 66,
   "id": "58e8141c",
   "metadata": {},
   "outputs": [
    {
     "data": {
      "text/plain": [
       "True"
      ]
     },
     "execution_count": 66,
     "metadata": {},
     "output_type": "execute_result"
    }
   ],
   "source": [
    "any(s2)"
   ]
  },
  {
   "cell_type": "code",
   "execution_count": 69,
   "id": "79a2c70d",
   "metadata": {},
   "outputs": [],
   "source": [
    "s3 = {False, 0, '', None}"
   ]
  },
  {
   "cell_type": "code",
   "execution_count": 70,
   "id": "a8fbe9ff",
   "metadata": {},
   "outputs": [
    {
     "data": {
      "text/plain": [
       "False"
      ]
     },
     "execution_count": 70,
     "metadata": {},
     "output_type": "execute_result"
    }
   ],
   "source": [
    "any(s3)"
   ]
  },
  {
   "cell_type": "code",
   "execution_count": 72,
   "id": "ff0cf710",
   "metadata": {},
   "outputs": [
    {
     "data": {
      "text/plain": [
       "False"
      ]
     },
     "execution_count": 72,
     "metadata": {},
     "output_type": "execute_result"
    }
   ],
   "source": [
    "reduce(lambda a, b: bool(a) and bool(b), s)"
   ]
  },
  {
   "cell_type": "code",
   "execution_count": 73,
   "id": "98ef68aa",
   "metadata": {},
   "outputs": [
    {
     "data": {
      "text/plain": [
       "False"
      ]
     },
     "execution_count": 73,
     "metadata": {},
     "output_type": "execute_result"
    }
   ],
   "source": [
    "reduce(lambda a, b: bool(a) or bool(b), s3)"
   ]
  },
  {
   "cell_type": "code",
   "execution_count": 78,
   "id": "1be69d7a",
   "metadata": {},
   "outputs": [],
   "source": [
    "l = [5, 8, 6, 10, 9]"
   ]
  },
  {
   "cell_type": "code",
   "execution_count": 79,
   "id": "bc782484",
   "metadata": {},
   "outputs": [
    {
     "data": {
      "text/plain": [
       "[5, 8, 6, 10, 9]"
      ]
     },
     "execution_count": 79,
     "metadata": {},
     "output_type": "execute_result"
    }
   ],
   "source": [
    "l"
   ]
  },
  {
   "cell_type": "code",
   "execution_count": 81,
   "id": "2de959a6",
   "metadata": {},
   "outputs": [
    {
     "data": {
      "text/plain": [
       "'5 * 8 * 6 * 10 * 9'"
      ]
     },
     "execution_count": 81,
     "metadata": {},
     "output_type": "execute_result"
    }
   ],
   "source": [
    "'5 * 8 * 6 * 10 * 9'"
   ]
  },
  {
   "cell_type": "code",
   "execution_count": 82,
   "id": "626e250a",
   "metadata": {},
   "outputs": [
    {
     "data": {
      "text/plain": [
       "21600"
      ]
     },
     "execution_count": 82,
     "metadata": {},
     "output_type": "execute_result"
    }
   ],
   "source": [
    "reduce(lambda a, b: a * b, l)"
   ]
  },
  {
   "cell_type": "code",
   "execution_count": 83,
   "id": "ec07f670",
   "metadata": {},
   "outputs": [],
   "source": [
    "l = [1, 2, 3, 4]"
   ]
  },
  {
   "cell_type": "code",
   "execution_count": 86,
   "id": "08b69dc5",
   "metadata": {},
   "outputs": [
    {
     "data": {
      "text/plain": [
       "[1, 2, 3, 4]"
      ]
     },
     "execution_count": 86,
     "metadata": {},
     "output_type": "execute_result"
    }
   ],
   "source": [
    "l"
   ]
  },
  {
   "cell_type": "code",
   "execution_count": 87,
   "id": "5caa68dc",
   "metadata": {},
   "outputs": [
    {
     "data": {
      "text/plain": [
       "10"
      ]
     },
     "execution_count": 87,
     "metadata": {},
     "output_type": "execute_result"
    }
   ],
   "source": [
    "reduce(lambda a, b: a + b, l)"
   ]
  },
  {
   "cell_type": "code",
   "execution_count": 91,
   "id": "fd182da3",
   "metadata": {},
   "outputs": [
    {
     "data": {
      "text/plain": [
       "'4! = 4 * 3 * 2 * 1'"
      ]
     },
     "execution_count": 91,
     "metadata": {},
     "output_type": "execute_result"
    }
   ],
   "source": [
    "'4! = 4 * 3 * 2 * 1'"
   ]
  },
  {
   "cell_type": "code",
   "execution_count": 90,
   "id": "87ba5504",
   "metadata": {},
   "outputs": [
    {
     "data": {
      "text/plain": [
       "'n! = 1 * 2 * 3 8 ... * n'"
      ]
     },
     "execution_count": 90,
     "metadata": {},
     "output_type": "execute_result"
    }
   ],
   "source": [
    "'n! = 1 * 2 * 3 8 ... * n'"
   ]
  },
  {
   "cell_type": "code",
   "execution_count": 92,
   "id": "2fcbedd3",
   "metadata": {},
   "outputs": [
    {
     "data": {
      "text/plain": [
       "range(0, 5)"
      ]
     },
     "execution_count": 92,
     "metadata": {},
     "output_type": "execute_result"
    }
   ],
   "source": [
    "range(5)"
   ]
  },
  {
   "cell_type": "code",
   "execution_count": 93,
   "id": "d49b74ed",
   "metadata": {},
   "outputs": [
    {
     "data": {
      "text/plain": [
       "0"
      ]
     },
     "execution_count": 93,
     "metadata": {},
     "output_type": "execute_result"
    }
   ],
   "source": [
    "range(5)[0]"
   ]
  },
  {
   "cell_type": "code",
   "execution_count": 94,
   "id": "9b47a760",
   "metadata": {},
   "outputs": [
    {
     "data": {
      "text/plain": [
       "[0, 1, 2, 3, 4]"
      ]
     },
     "execution_count": 94,
     "metadata": {},
     "output_type": "execute_result"
    }
   ],
   "source": [
    "list(range(5))"
   ]
  },
  {
   "cell_type": "code",
   "execution_count": 95,
   "id": "ac349c2b",
   "metadata": {},
   "outputs": [
    {
     "data": {
      "text/plain": [
       "[1, 2, 3, 4, 5]"
      ]
     },
     "execution_count": 95,
     "metadata": {},
     "output_type": "execute_result"
    }
   ],
   "source": [
    "list(range(1, 5+1))"
   ]
  },
  {
   "cell_type": "code",
   "execution_count": 97,
   "id": "fb8fe78a",
   "metadata": {},
   "outputs": [
    {
     "data": {
      "text/plain": [
       "120"
      ]
     },
     "execution_count": 97,
     "metadata": {},
     "output_type": "execute_result"
    }
   ],
   "source": [
    "reduce(lambda a, b: a * b, range(1, 5+1))"
   ]
  },
  {
   "cell_type": "code",
   "execution_count": 98,
   "id": "c412b451",
   "metadata": {},
   "outputs": [],
   "source": [
    "def fact(n):\n",
    "    return 1 if n < 2 else n * fact(n-1)"
   ]
  },
  {
   "cell_type": "code",
   "execution_count": 99,
   "id": "b9c8cf1b",
   "metadata": {},
   "outputs": [
    {
     "data": {
      "text/plain": [
       "120"
      ]
     },
     "execution_count": 99,
     "metadata": {},
     "output_type": "execute_result"
    }
   ],
   "source": [
    "fact(5)"
   ]
  },
  {
   "cell_type": "code",
   "execution_count": 101,
   "id": "d5b089b5",
   "metadata": {},
   "outputs": [],
   "source": [
    "def fact(n):\n",
    "    return reduce(lambda a, b: a * b, range(1, n+1))"
   ]
  },
  {
   "cell_type": "code",
   "execution_count": 102,
   "id": "0d1bede9",
   "metadata": {},
   "outputs": [
    {
     "data": {
      "text/plain": [
       "120"
      ]
     },
     "execution_count": 102,
     "metadata": {},
     "output_type": "execute_result"
    }
   ],
   "source": [
    "fact(5)"
   ]
  },
  {
   "cell_type": "code",
   "execution_count": 103,
   "id": "0dabafd8",
   "metadata": {},
   "outputs": [
    {
     "data": {
      "text/plain": [
       "2"
      ]
     },
     "execution_count": 103,
     "metadata": {},
     "output_type": "execute_result"
    }
   ],
   "source": [
    "fact(2)"
   ]
  },
  {
   "cell_type": "code",
   "execution_count": 104,
   "id": "aaf78396",
   "metadata": {},
   "outputs": [],
   "source": [
    "def _reduce(fn, sequence, initial):\n",
    "    result = initial\n",
    "    for x in sequence:\n",
    "        result = fn(result, x)\n",
    "    return result"
   ]
  },
  {
   "cell_type": "code",
   "execution_count": 105,
   "id": "145729b3",
   "metadata": {},
   "outputs": [
    {
     "data": {
      "text/plain": [
       "[1, 2, 3, 4]"
      ]
     },
     "execution_count": 105,
     "metadata": {},
     "output_type": "execute_result"
    }
   ],
   "source": [
    "l"
   ]
  },
  {
   "cell_type": "code",
   "execution_count": 107,
   "id": "3e618898",
   "metadata": {},
   "outputs": [
    {
     "data": {
      "text/plain": [
       "10"
      ]
     },
     "execution_count": 107,
     "metadata": {},
     "output_type": "execute_result"
    }
   ],
   "source": [
    "_reduce(lambda a, b: a+b, l, 0)"
   ]
  },
  {
   "cell_type": "code",
   "execution_count": 108,
   "id": "69033a09",
   "metadata": {},
   "outputs": [
    {
     "data": {
      "text/plain": [
       "110"
      ]
     },
     "execution_count": 108,
     "metadata": {},
     "output_type": "execute_result"
    }
   ],
   "source": [
    "_reduce(lambda a, b: a+b, l, 100)"
   ]
  },
  {
   "cell_type": "code",
   "execution_count": 110,
   "id": "be1b1284",
   "metadata": {},
   "outputs": [
    {
     "data": {
      "text/plain": [
       "110"
      ]
     },
     "execution_count": 110,
     "metadata": {},
     "output_type": "execute_result"
    }
   ],
   "source": [
    "_reduce(lambda a, b: a+b, {1, 2, 3, 4}, 100)"
   ]
  },
  {
   "cell_type": "code",
   "execution_count": 111,
   "id": "2eee9c12",
   "metadata": {},
   "outputs": [
    {
     "data": {
      "text/plain": [
       "110"
      ]
     },
     "execution_count": 111,
     "metadata": {},
     "output_type": "execute_result"
    }
   ],
   "source": [
    "reduce(lambda a, b: a+b, {1, 2, 3, 4}, 100)"
   ]
  }
 ],
 "metadata": {
  "kernelspec": {
   "display_name": "Python 3.9.12 ('base')",
   "language": "python",
   "name": "python3"
  },
  "language_info": {
   "codemirror_mode": {
    "name": "ipython",
    "version": 3
   },
   "file_extension": ".py",
   "mimetype": "text/x-python",
   "name": "python",
   "nbconvert_exporter": "python",
   "pygments_lexer": "ipython3",
   "version": "3.9.12"
  },
  "vscode": {
   "interpreter": {
    "hash": "a624adbc5e596fddf72740b255048309200567f23df85867ce297e9f9d364c1b"
   }
  }
 },
 "nbformat": 4,
 "nbformat_minor": 5
}
