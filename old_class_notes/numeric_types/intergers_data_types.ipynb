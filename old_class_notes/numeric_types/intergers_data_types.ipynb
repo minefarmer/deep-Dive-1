{
 "cells": [
  {
   "cell_type": "markdown",
   "id": "30192f25",
   "metadata": {},
   "source": [
    "INTEGERS DATA TYPES"
   ]
  },
  {
   "cell_type": "markdown",
   "id": "169e9c91",
   "metadata": {},
   "source": [
    "Python info in next markdown.\n",
    "\n",
    "he int data type\n",
    "    ex: 0, 10, -100, 100000000, ...\n",
    "    How large can a Python int become(positivt or negative)?\n",
    "Integers are represented internally using base-2 (binary) digits, not decimal.\n",
    "\n",
    "                                         individual bits(0|1)\n",
    "                                        /\n",
    "___   ___   ___   _1_  _0_  _0_  _1_  _1_  \n",
    "2\\7   2\\6   2\\5   2\\4  2\\3  2\\2  2\\1  2\\0    \n",
    "128    64    32    16   8    4    2    1\n",
    "\n",
    "1 x 16   + 0 x 8  + 0 x 4  + 1 x 2  + 1 x 1  = 16+2+1 = 19\n",
    "\n",
    "(10011)/2 = (19)/10\n",
    "Representing the decimal number 19 requires 5 bits.\n",
    "\n",
    "\n",
    "The largest (base 10) interger that can be represented using 8 bits?\n",
    "Assume that we only care about non-negative integers.\n",
    "\n",
    "\n",
    "_1_   _1_   _1_   _1_  _1_  _1_  _1_  _1_        128 + 64 + 32 + 16 + 8 + 4 + 2 + 1\n",
    "2\\7   2\\6   2\\5   2\\4  2\\3  2\\2  2\\1  2\\0     = 255\n",
    "128    64    32    16   8    4    2    1      = 2\\8 - 1\n",
    "\n",
    "If we care about handling negative integers as well, then 1 bit is reserved to represent the sign of th number, leaving us with only 7bits for the number itself, out of the original 8 bits.\n",
    "\n",
    "The largest number we can represent using 7 bits is 2\\7 - 1 = 127\n",
    "\n",
    "So, using 8 bits we are able to represent all the integers in the range [-127, 127]\n",
    "\n",
    "Since 0 does not require a sign, we can squeeze out an extra number, and we end up with the range [-128, 127]\n",
    "                                                                                            [-2\\7, 2\\7 - \n",
    "\n",
    "\n",
    "\n",
    "If we want to use 16 bits to store (signed) intergers, our range would be.\n",
    "\n",
    "    1(16-1)  = 2\\15 = 32,768     Range[-32,768 ... 32,767]\n",
    "\n",
    "\n",
    "Similarly, if we want to use 32 bits to store (signed) intergers, our range would be:\n",
    "    2(32-1) = 2\\31 = 2,147,483,648      Range: [-2,147,483,648 ... 2,147,483,647]\n",
    "\n",
    "\n",
    "If we had an unsigned integer type, using 32 bits our range would be:\n",
    "    [0, 2\\32] = [0 ... 4,294,967, 296]\n",
    "\n",
    "\n",
    "\n",
    "So, how large an interger can be depends on how many bits are used to store the numbers.\n",
    "\n",
    "\n",
    "\n"
   ]
  },
  {
   "cell_type": "markdown",
   "id": "4e687185",
   "metadata": {},
   "source": [
    "PYTHON INFO\n",
    "\n",
    "The int object uses a variable number of bits.\n",
    "\n",
    "Can use 4 bytes (32 bits), 8bytes (64 bits), 12 bytes (96 bits), etc.       Seamless to us.\n",
    "\n",
    "    [since ints are actuallt objects, there is a further fixed overhead per integer]\n",
    "\n",
    "Theoretically limited only by the amount of memory avaiable.\n",
    "\n",
    "Of course larger numbers will use more memory, and standard operators sucu as +, *, etc. will run slower as numbers get larger.\n"
   ]
  },
  {
   "cell_type": "code",
   "execution_count": 17,
   "id": "10102ad1",
   "metadata": {},
   "outputs": [
    {
     "name": "stdout",
     "output_type": "stream",
     "text": [
      "<class 'int'>\n"
     ]
    }
   ],
   "source": [
    "print(type(100))"
   ]
  },
  {
   "cell_type": "code",
   "execution_count": 18,
   "id": "97a5093c",
   "metadata": {},
   "outputs": [],
   "source": [
    "import sys"
   ]
  },
  {
   "cell_type": "code",
   "execution_count": 19,
   "id": "329ad12d",
   "metadata": {},
   "outputs": [
    {
     "data": {
      "text/plain": [
       "24"
      ]
     },
     "execution_count": 19,
     "metadata": {},
     "output_type": "execute_result"
    }
   ],
   "source": [
    "sys.getsizeof(0)"
   ]
  },
  {
   "cell_type": "code",
   "execution_count": 20,
   "id": "748f0054",
   "metadata": {},
   "outputs": [
    {
     "data": {
      "text/plain": [
       "28"
      ]
     },
     "execution_count": 20,
     "metadata": {},
     "output_type": "execute_result"
    }
   ],
   "source": [
    "sys.getsizeof(1)"
   ]
  },
  {
   "cell_type": "code",
   "execution_count": 21,
   "id": "a0b84f30",
   "metadata": {},
   "outputs": [
    {
     "data": {
      "text/plain": [
       "160"
      ]
     },
     "execution_count": 21,
     "metadata": {},
     "output_type": "execute_result"
    }
   ],
   "source": [
    "sys.getsizeof(2**1000)"
   ]
  },
  {
   "cell_type": "code",
   "execution_count": 22,
   "id": "9d0cbdc2",
   "metadata": {},
   "outputs": [
    {
     "data": {
      "text/plain": [
       "1088"
      ]
     },
     "execution_count": 22,
     "metadata": {},
     "output_type": "execute_result"
    }
   ],
   "source": [
    "(160 - 24) * 8"
   ]
  },
  {
   "cell_type": "code",
   "execution_count": 23,
   "id": "f7c543c6",
   "metadata": {},
   "outputs": [
    {
     "data": {
      "text/plain": [
       "10715086071862673209484250490600018105614048117055336074437503883703510511249361224931983788156958581275946729175531468251871452856923140435984577574698574803934567774824230985421074605062371141877954182153046474983581941267398767559165543946077062914571196477686542167660429831652624386837205668069376"
      ]
     },
     "execution_count": 23,
     "metadata": {},
     "output_type": "execute_result"
    }
   ],
   "source": [
    "2**1000"
   ]
  },
  {
   "cell_type": "code",
   "execution_count": 24,
   "id": "76e9895c",
   "metadata": {},
   "outputs": [],
   "source": [
    "import time"
   ]
  },
  {
   "cell_type": "code",
   "execution_count": 26,
   "id": "0040eefe",
   "metadata": {},
   "outputs": [],
   "source": [
    "def calc(a):\n",
    "    for i in range(10000000):\n",
    "        a * 2"
   ]
  },
  {
   "cell_type": "code",
   "execution_count": 29,
   "id": "9683ab05",
   "metadata": {},
   "outputs": [
    {
     "name": "stdout",
     "output_type": "stream",
     "text": [
      "0.43390980000003765\n"
     ]
    }
   ],
   "source": [
    "start = time.perf_counter()\n",
    "calc(10)\n",
    "end = time.perf_counter()\n",
    "print(end - start)"
   ]
  },
  {
   "cell_type": "code",
   "execution_count": 30,
   "id": "40bcf567",
   "metadata": {},
   "outputs": [
    {
     "name": "stdout",
     "output_type": "stream",
     "text": [
      "0.7310858000000735\n"
     ]
    }
   ],
   "source": [
    "start = time.perf_counter()\n",
    "calc(2**100)\n",
    "end = time.perf_counter()\n",
    "print(end - start)"
   ]
  },
  {
   "cell_type": "code",
   "execution_count": 31,
   "id": "2a15c3cf",
   "metadata": {},
   "outputs": [
    {
     "name": "stdout",
     "output_type": "stream",
     "text": [
      "4.672559800000045\n"
     ]
    }
   ],
   "source": [
    "start = time.perf_counter()\n",
    "calc(2**10000)\n",
    "end = time.perf_counter()\n",
    "print(end - start)"
   ]
  },
  {
   "cell_type": "code",
   "execution_count": null,
   "id": "b5f3a718",
   "metadata": {},
   "outputs": [],
   "source": []
  }
 ],
 "metadata": {
  "kernelspec": {
   "display_name": "Python 3 (ipykernel)",
   "language": "python",
   "name": "python3"
  },
  "language_info": {
   "codemirror_mode": {
    "name": "ipython",
    "version": 3
   },
   "file_extension": ".py",
   "mimetype": "text/x-python",
   "name": "python",
   "nbconvert_exporter": "python",
   "pygments_lexer": "ipython3",
   "version": "3.9.12"
  },
  "vscode": {
   "interpreter": {
    "hash": "a624adbc5e596fddf72740b255048309200567f23df85867ce297e9f9d364c1b"
   }
  }
 },
 "nbformat": 4,
 "nbformat_minor": 5
}
