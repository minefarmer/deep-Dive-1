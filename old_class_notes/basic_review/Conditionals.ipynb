{
 "cells": [
  {
   "cell_type": "markdown",
   "metadata": {},
   "source": [
    "Conditionals"
   ]
  },
  {
   "cell_type": "code",
   "execution_count": 2,
   "metadata": {},
   "outputs": [
    {
     "name": "stdout",
     "output_type": "stream",
     "text": [
      "a >= 5\n"
     ]
    }
   ],
   "source": [
    "a = 6\n",
    "\n",
    "if a < 5:\n",
    "    print('a < 5')\n",
    "else:\n",
    "    print('a >= 5')"
   ]
  },
  {
   "cell_type": "code",
   "execution_count": 3,
   "metadata": {},
   "outputs": [
    {
     "name": "stdout",
     "output_type": "stream",
     "text": [
      "a >= 10 <\n"
     ]
    }
   ],
   "source": [
    "a = 10\n",
    "\n",
    "if a < 5:\n",
    "    print(\"a < 5\")\n",
    "else:\n",
    "    if a < 10:\n",
    "        print(\"5 <= a < 10\")\n",
    "    else:\n",
    "        print(\"a >= 10 <\")\n"
   ]
  },
  {
   "cell_type": "code",
   "execution_count": 4,
   "metadata": {},
   "outputs": [
    {
     "name": "stdout",
     "output_type": "stream",
     "text": [
      "5 <= a < 10\n"
     ]
    }
   ],
   "source": [
    "a = 5\n",
    "\n",
    "if a < 5:\n",
    "    print(\"a < 5\")\n",
    "elif a < 10:\n",
    "    print(\"5 <= a < 10\")\n",
    "elif a < 15:\n",
    "    print(\"10 <= a < 15\")\n",
    "elif a < 20:\n",
    "    print(\"15 <= a < 20\")\n",
    "else:\n",
    "    print('a > 20')"
   ]
  },
  {
   "cell_type": "code",
   "execution_count": 7,
   "metadata": {},
   "outputs": [
    {
     "name": "stdout",
     "output_type": "stream",
     "text": [
      "a < 20\n"
     ]
    }
   ],
   "source": [
    "a = 25\n",
    "\n",
    "if a < 5:\n",
    "    print('a < 5')\n",
    "elif a < 10:\n",
    "    print('5 <= a < 10')\n",
    "elif a < 15:\n",
    "    print('10 <= a < 15')\n",
    "elif a < 20:\n",
    "    print('15 <= a < 20')\n",
    "else:\n",
    "    print('a < 20')"
   ]
  },
  {
   "cell_type": "markdown",
   "metadata": {},
   "source": [
    "X if (condition is true) else Y"
   ]
  },
  {
   "cell_type": "code",
   "execution_count": 8,
   "metadata": {},
   "outputs": [
    {
     "name": "stdout",
     "output_type": "stream",
     "text": [
      "a >= 5\n"
     ]
    }
   ],
   "source": [
    "a = 25\n",
    "\n",
    "if a < 5:\n",
    "    b = 'a >= 5'\n",
    "else:\n",
    "    b = 'a >= 5'\n",
    "\n",
    "    print(b)"
   ]
  },
  {
   "cell_type": "code",
   "execution_count": null,
   "metadata": {},
   "outputs": [],
   "source": [
    "b = 'a < 5' if a < 5 else 'a >= 5'"
   ]
  },
  {
   "cell_type": "code",
   "execution_count": 9,
   "metadata": {},
   "outputs": [
    {
     "name": "stdout",
     "output_type": "stream",
     "text": [
      "a >= 5\n"
     ]
    }
   ],
   "source": [
    "print(b)"
   ]
  },
  {
   "cell_type": "code",
   "execution_count": 14,
   "metadata": {},
   "outputs": [],
   "source": [
    "a = 4"
   ]
  },
  {
   "cell_type": "code",
   "execution_count": 12,
   "metadata": {},
   "outputs": [
    {
     "data": {
      "text/plain": [
       "'a < 5'"
      ]
     },
     "execution_count": 12,
     "metadata": {},
     "output_type": "execute_result"
    }
   ],
   "source": [
    "'a < 5' if a < 5 else 'a >= 5'"
   ]
  }
 ],
 "metadata": {
  "interpreter": {
   "hash": "b3ba2566441a7c06988d0923437866b63cedc61552a5af99d1f4fb67d367b25f"
  },
  "kernelspec": {
   "display_name": "Python 3.9.7 ('base')",
   "language": "python",
   "name": "python3"
  },
  "language_info": {
   "codemirror_mode": {
    "name": "ipython",
    "version": 3
   },
   "file_extension": ".py",
   "mimetype": "text/x-python",
   "name": "python",
   "nbconvert_exporter": "python",
   "pygments_lexer": "ipython3",
   "version": "3.9.7"
  },
  "orig_nbformat": 4
 },
 "nbformat": 4,
 "nbformat_minor": 2
}
