{
 "cells": [
  {
   "cell_type": "markdown",
   "id": "318fec9c",
   "metadata": {},
   "source": [
    "SHARED_REFERENCES_MUTABILITY"
   ]
  },
  {
   "cell_type": "markdown",
   "id": "25bf34e0",
   "metadata": {},
   "source": [
    "The term shared reference is the concept of two variables referencong the same object in memory (i.e. having the same memory address.\n",
    "                            0x1000\n",
    "a = 10      a----------> 10\n",
    "                 |----/\n",
    "b = a       b----|\n",
    "\n",
    "def my_func(v):             0x2000\n",
    "    ...         t ----->  20\n",
    "                    --->\n",
    "t = 20              |\n",
    "my_func(t)      v --\n",
    "\n",
    "<!-- The following my suprise me: -->\n",
    "\n",
    "                              0x1000    \n",
    "a = 10          a ------>   10\n",
    "b = 10          b --|\n",
    "\n",
    "\n",
    "                                        0x23FA   \n",
    "s1 = 'hello'          a ------>  hello\n",
    "s2 = 'hello           b --|\n",
    "\n",
    "In both cases, Python'3 memory manager decides to automatically re-use the memory references!!\n",
    "And it is safe!!!!!!\n",
    "\n",
    "\n",
    "\n",
    "\n",
    "WHEN WORKING WITH MUTABLE OBJECTS WE HAVE TO BE MORE CAREFUL!\n",
    "\n",
    "\n",
    "    a = [1, 2, 3]              1    0x1000\n",
    "                    a ------>  2\n",
    "    b = a                --->  3 \n",
    "                        |     \n",
    "    b. append(100)  b ---\n",
    "\n",
    "\n",
    "\n",
    "With mutable objects, the Python memory manager will never create shared references.\n",
    "\n",
    "                          1     0x1000\n",
    "    a = [1, 2, 3]  a--->  2\n",
    "                          3\n",
    "\n",
    "                          1     0xF354\n",
    "    b = [1, 2, 3]  a--->  2\n",
    "                          3\n",
    "\n"
   ]
  },
  {
   "cell_type": "code",
   "execution_count": 1,
   "id": "ab652f55",
   "metadata": {},
   "outputs": [],
   "source": [
    "a = 'hello'\n",
    "b = a"
   ]
  },
  {
   "cell_type": "code",
   "execution_count": 2,
   "id": "4f0b493f",
   "metadata": {},
   "outputs": [
    {
     "data": {
      "text/plain": [
       "'0x7fe37e567670'"
      ]
     },
     "execution_count": 2,
     "metadata": {},
     "output_type": "execute_result"
    }
   ],
   "source": [
    "hex(id(a))"
   ]
  },
  {
   "cell_type": "code",
   "execution_count": 3,
   "id": "5c79c04f",
   "metadata": {},
   "outputs": [
    {
     "data": {
      "text/plain": [
       "'0x7fe37e567670'"
      ]
     },
     "execution_count": 3,
     "metadata": {},
     "output_type": "execute_result"
    }
   ],
   "source": [
    "hex(id(b))"
   ]
  },
  {
   "cell_type": "code",
   "execution_count": 4,
   "id": "ba797a6b",
   "metadata": {},
   "outputs": [],
   "source": [
    "a = \"hello\""
   ]
  },
  {
   "cell_type": "code",
   "execution_count": 5,
   "id": "fb63a635",
   "metadata": {},
   "outputs": [],
   "source": [
    "b = \"hello\""
   ]
  },
  {
   "cell_type": "code",
   "execution_count": 6,
   "id": "bb78f0be",
   "metadata": {},
   "outputs": [
    {
     "data": {
      "text/plain": [
       "'0x7fe37e567670'"
      ]
     },
     "execution_count": 6,
     "metadata": {},
     "output_type": "execute_result"
    }
   ],
   "source": [
    "hex(id(a))"
   ]
  },
  {
   "cell_type": "code",
   "execution_count": 7,
   "id": "744263b2",
   "metadata": {},
   "outputs": [
    {
     "data": {
      "text/plain": [
       "'0x7fe37e567670'"
      ]
     },
     "execution_count": 7,
     "metadata": {},
     "output_type": "execute_result"
    }
   ],
   "source": [
    "hex(id(b))"
   ]
  },
  {
   "cell_type": "code",
   "execution_count": 8,
   "id": "34bcaef3",
   "metadata": {},
   "outputs": [],
   "source": [
    "b = \"Hello World\""
   ]
  },
  {
   "cell_type": "code",
   "execution_count": 9,
   "id": "2df41106",
   "metadata": {},
   "outputs": [
    {
     "data": {
      "text/plain": [
       "'0x7fe37c0c7cf0'"
      ]
     },
     "execution_count": 9,
     "metadata": {},
     "output_type": "execute_result"
    }
   ],
   "source": [
    "hex(id(b))"
   ]
  },
  {
   "cell_type": "code",
   "execution_count": 10,
   "id": "4d4f8748",
   "metadata": {},
   "outputs": [
    {
     "data": {
      "text/plain": [
       "'0x7fe37e567670'"
      ]
     },
     "execution_count": 10,
     "metadata": {},
     "output_type": "execute_result"
    }
   ],
   "source": [
    "hex(id(a))"
   ]
  },
  {
   "cell_type": "code",
   "execution_count": 11,
   "id": "00337b38",
   "metadata": {},
   "outputs": [
    {
     "data": {
      "text/plain": [
       "'hello'"
      ]
     },
     "execution_count": 11,
     "metadata": {},
     "output_type": "execute_result"
    }
   ],
   "source": [
    "a"
   ]
  },
  {
   "cell_type": "code",
   "execution_count": 12,
   "id": "ac58c1b9",
   "metadata": {},
   "outputs": [
    {
     "data": {
      "text/plain": [
       "'Hello World'"
      ]
     },
     "execution_count": 12,
     "metadata": {},
     "output_type": "execute_result"
    }
   ],
   "source": [
    "b"
   ]
  },
  {
   "cell_type": "code",
   "execution_count": 13,
   "id": "d0a7d402",
   "metadata": {},
   "outputs": [],
   "source": [
    "a = [1, 2, 3]\n",
    "b = a"
   ]
  },
  {
   "cell_type": "code",
   "execution_count": 14,
   "id": "4525d5b4",
   "metadata": {},
   "outputs": [
    {
     "data": {
      "text/plain": [
       "'0x7fe37c0c7880'"
      ]
     },
     "execution_count": 14,
     "metadata": {},
     "output_type": "execute_result"
    }
   ],
   "source": [
    "hex(id(a))"
   ]
  },
  {
   "cell_type": "code",
   "execution_count": 15,
   "id": "6e593548",
   "metadata": {},
   "outputs": [
    {
     "data": {
      "text/plain": [
       "'0x7fe37c0c7880'"
      ]
     },
     "execution_count": 15,
     "metadata": {},
     "output_type": "execute_result"
    }
   ],
   "source": [
    "hex(id(b))"
   ]
  },
  {
   "cell_type": "code",
   "execution_count": 16,
   "id": "b0ada4b2",
   "metadata": {},
   "outputs": [],
   "source": [
    "b.append(100)"
   ]
  },
  {
   "cell_type": "code",
   "execution_count": 17,
   "id": "2376617a",
   "metadata": {},
   "outputs": [
    {
     "data": {
      "text/plain": [
       "'0x7fe37c0c7880'"
      ]
     },
     "execution_count": 17,
     "metadata": {},
     "output_type": "execute_result"
    }
   ],
   "source": [
    "hex(id(a))"
   ]
  },
  {
   "cell_type": "code",
   "execution_count": 18,
   "id": "a4025f67",
   "metadata": {},
   "outputs": [
    {
     "data": {
      "text/plain": [
       "'0x7fe37c0c7880'"
      ]
     },
     "execution_count": 18,
     "metadata": {},
     "output_type": "execute_result"
    }
   ],
   "source": [
    "hex(id(b))"
   ]
  },
  {
   "cell_type": "code",
   "execution_count": 19,
   "id": "6d209be5",
   "metadata": {},
   "outputs": [
    {
     "data": {
      "text/plain": [
       "[1, 2, 3, 100]"
      ]
     },
     "execution_count": 19,
     "metadata": {},
     "output_type": "execute_result"
    }
   ],
   "source": [
    "b"
   ]
  },
  {
   "cell_type": "code",
   "execution_count": 20,
   "id": "2f0761fe",
   "metadata": {},
   "outputs": [
    {
     "data": {
      "text/plain": [
       "[1, 2, 3, 100]"
      ]
     },
     "execution_count": 20,
     "metadata": {},
     "output_type": "execute_result"
    }
   ],
   "source": [
    "a"
   ]
  },
  {
   "cell_type": "code",
   "execution_count": 21,
   "id": "c23c3746",
   "metadata": {},
   "outputs": [],
   "source": [
    "a = 10"
   ]
  },
  {
   "cell_type": "code",
   "execution_count": 24,
   "id": "7c514ef5",
   "metadata": {},
   "outputs": [],
   "source": [
    "b = 10"
   ]
  },
  {
   "cell_type": "code",
   "execution_count": 25,
   "id": "48bb154a",
   "metadata": {},
   "outputs": [
    {
     "data": {
      "text/plain": [
       "'0x7fe38110ea50'"
      ]
     },
     "execution_count": 25,
     "metadata": {},
     "output_type": "execute_result"
    }
   ],
   "source": [
    "hex(id(a))"
   ]
  },
  {
   "cell_type": "code",
   "execution_count": 26,
   "id": "682e4c39",
   "metadata": {},
   "outputs": [
    {
     "data": {
      "text/plain": [
       "'0x7fe38110ea50'"
      ]
     },
     "execution_count": 26,
     "metadata": {},
     "output_type": "execute_result"
    }
   ],
   "source": [
    "hex(id(b))"
   ]
  },
  {
   "cell_type": "code",
   "execution_count": 27,
   "id": "91bd4dc8",
   "metadata": {},
   "outputs": [],
   "source": [
    "a = 500"
   ]
  },
  {
   "cell_type": "code",
   "execution_count": 28,
   "id": "83148432",
   "metadata": {},
   "outputs": [],
   "source": [
    "b = 500"
   ]
  },
  {
   "cell_type": "code",
   "execution_count": 29,
   "id": "8fb7b56c",
   "metadata": {},
   "outputs": [
    {
     "data": {
      "text/plain": [
       "'0x7fe37c11b830'"
      ]
     },
     "execution_count": 29,
     "metadata": {},
     "output_type": "execute_result"
    }
   ],
   "source": [
    "hex(id(a))"
   ]
  },
  {
   "cell_type": "code",
   "execution_count": 30,
   "id": "d88e8959",
   "metadata": {},
   "outputs": [
    {
     "data": {
      "text/plain": [
       "'0x7fe37c11b890'"
      ]
     },
     "execution_count": 30,
     "metadata": {},
     "output_type": "execute_result"
    }
   ],
   "source": [
    "hex(id(b))"
   ]
  }
 ],
 "metadata": {
  "kernelspec": {
   "display_name": "Python 3 (ipykernel)",
   "language": "python",
   "name": "python3"
  },
  "language_info": {
   "codemirror_mode": {
    "name": "ipython",
    "version": 3
   },
   "file_extension": ".py",
   "mimetype": "text/x-python",
   "name": "python",
   "nbconvert_exporter": "python",
   "pygments_lexer": "ipython3",
   "version": "3.9.12"
  },
  "vscode": {
   "interpreter": {
    "hash": "0d39b9ca25346db2d4fbd64f0fe44090b1a521776e9bcf0dda43e48cea0d85ae"
   }
  }
 },
 "nbformat": 4,
 "nbformat_minor": 5
}
