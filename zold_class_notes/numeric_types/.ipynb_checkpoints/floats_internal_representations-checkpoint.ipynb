{
 "cells": [
  {
   "cell_type": "markdown",
   "id": "baad4689",
   "metadata": {},
   "source": [
    "Floats: Internal Representations"
   ]
  },
  {
   "cell_type": "markdown",
   "id": "3867f020",
   "metadata": {},
   "source": [
    "The float class is Python's default implementation for representing real numbers.\n",
    "\n",
    "The Python(CPython) float is implemented using the C double type which (usually!) implements the IEEE 754 doible-precision binary float, also called binary64.\n",
    "\n",
    "The float uses a fixed number of bytes  -> 8 bytes  (but Python objects have some overhead too!)\n",
    "                                        -> 64 bits      -> 24 bytes     (CPython 3.6 64-bit)\n",
    "\n",
    "These 64 bits are used up as follws:  # in Cpython  *****************************************\n",
    "\n",
    "    sign -> 1 bit   # 0 = positive,  1 = negative                           / exponent is -5\n",
    "                                                                          -5\n",
    "    exponent -> 11 bits   -> range [-1022, 1023]        1.5E-5 -> 1.5 x 10\n",
    "\n",
    "    significant digits  -> 52 bits  -> 15-17 significant (base-10) digits\n",
    "\n",
    "significant digits  -> for simplicity, all digits except leading and trailing zeros.\n",
    "\n",
    "\n"
   ]
  },
  {
   "cell_type": "markdown",
   "id": "84a2fb8b",
   "metadata": {},
   "source": [
    "        HOW TO REPRESENT REAL NUMBERS AND FRACTIONS:\n",
    "Numbera can be represented as base-10 integers and fractions:\n",
    "\n",
    "\n",
    "0.75    -> 7     5E             -1        -2\n",
    "        ----  + ----    -> 7 x 10  * 5 x 10                                 # Two significant digits\n",
    "          10    100\n",
    "\n",
    "\n",
    "0.256   -> 2      5       6              -1        -2        -3 \n",
    "        ----- + ----- + ------   -> 2 x 10  + 5 x 10  + 6 x 10              # Three significant digits\n",
    "          10     100     1000\n",
    "\n",
    "                                     4      5       6\n",
    "123.456 -> 1 x 100 +2 x 10 +3 x 1 + --- + ----- + ------                     # Six significant digits\n",
    "                                     10    100     1000\n",
    "\n",
    "                 2       1           0         -1           -2           -3\n",
    "        -> 1 x 10  2 x 10  + 3  x  10 + 4  x  10  +  5  x  10  +  6  x  10 \n",
    "\n",
    "                 _ n_\n",
    "                 \\         i\n",
    "In general:  d = |  d, x 10\n",
    "                /___\n",
    "                i =-m\n",
    "\n",
    "                                        _n__\n",
    "    sign = 0 for positive         sign  \\           i\n",
    "                            d = (-1)        d  x  10\n",
    "    sign = 1 for negative               /_i=-m  i\n",
    "\n",
    "\n",
    "\n",
    "    Some numbers cannot be represented using a finite number of terms.\n",
    "\n",
    "Obviouslynumbers such as (pi) and (square root)\n",
    "\n",
    "Even some rational numbers.     i.e.  1/3= = 0.333  #because you can never stop!\n"
   ]
  },
  {
   "cell_type": "markdown",
   "id": "58b006b6",
   "metadata": {},
   "source": [
    "            REPRESENTATION: BINARY  \n",
    "Numbers in a computer are represented using bits, not decimal digits.\n",
    "    ->  Instead of powers of 10, we need to use powers of 2.\n",
    "\n",
    "# this is a binary number:\n",
    "                    1   1 \n",
    "(0.11)           = (- + -)  = (0.5 + 0.25)    = (0.75)\n",
    "      2             2   4                 10          10\n",
    "                          10\n",
    "\n",
    "                = (1 x 2  + 1 x 2)\n",
    "                                  10\n",
    "\n",
    "Similarly; Base 2:\n",
    "                 ( 1     1    0   1 ) \n",
    "    (0.1101)    =( -  +  -  + - + - )       = (0.5 + 0.25 + 0.0626)     = (0.8125)\n",
    "                 ( 2     4    8   16)                              10             10\n",
    "                                     10                       \n",
    "                       -1       -2       -3       -4\n",
    "               = (1 x 2  + 1 x 2  + 0 x 2  + 1 x 2 )\n",
    "                                                    10\n",
    "<!-- This representation is very similiar to the one we use with decimal numbers, but instead of using powers of 10, we use the powers of 2 -->\n",
    "A binary reprsentation\n",
    "                                        _n__\n",
    "                                  sign  \\             i\n",
    "                            d = (-1)           d  x  2\n",
    "                                        /_i=-m  i\n",
    "\n",
    "\n",
    "(0.1)  = (0.0 0011 0011 0011 ...)\n",
    "     10                          2\n",
    "\n",
    " <!-- base 10 -->\n",
    "  0    0   0   1   1       0     0     1     1      0      0      1      1\n",
    "= - +  - + _ + _ + _    + __ + ___ + ___ + ___   + ____ + ____ + ____ + ____ + ...\n",
    "  2    4   8   16  32     64   128   256   512     1024   2048   4096   8192\n",
    "\n",
    "   1    1    1     1     1      1\n",
    "= __ + __ + ___ + ___ + ____ + ____+ ...\n",
    "  16   32   256   512   4096   8192\n",
    "\n",
    "            1     1     1     1      1\n",
    "= 0.0625 + ___ + ___ + ___ + ____ + ____  ...\n",
    "            32    256  512   4096   8192\n",
    "\n",
    "             1     1      1     1\n",
    "= 0.09375 + ___ + ___ + ____ + ____ +   ...\n",
    "            256   512   4096   8192\n",
    "\n",
    "                1      1      1\n",
    "= 0.09765625 + ___ + ____ + ____ +   ....\n",
    "               512   4096   8192\n",
    "\n",
    "                  1      1\n",
    "= 0.099609375 + ____ + ____ +   ....\n",
    "                4096   8192\n",
    "\n",
    "+ 0.0999755859375 +  ....\n",
    "\n",
    "Some are not finite and so are finate\n",
    "\n",
    "Some that do  ****************************************\n",
    "\n",
    "    (0.75) = (0.1101)       finite\n",
    "         10          2\n",
    "                                    ----------------------------> exact float representation\n",
    "    (0.8125) = (0.1101)     finite\n",
    "           10          2\n",
    "\n",
    "Doesn't*************************************************\n",
    "\n",
    "(0.1) = (0 0011 0011 0011 ...)  infinite    ------------------->    approximate float representation\n",
    "    10                        2\n"
   ]
  },
  {
   "cell_type": "code",
   "execution_count": 2,
   "id": "bde5fe86",
   "metadata": {},
   "outputs": [
    {
     "data": {
      "text/plain": [
       "10.0"
      ]
     },
     "execution_count": 2,
     "metadata": {},
     "output_type": "execute_result"
    }
   ],
   "source": [
    "float(10)"
   ]
  },
  {
   "cell_type": "code",
   "execution_count": 4,
   "id": "fa5603a8",
   "metadata": {},
   "outputs": [
    {
     "data": {
      "text/plain": [
       "10.4"
      ]
     },
     "execution_count": 4,
     "metadata": {},
     "output_type": "execute_result"
    }
   ],
   "source": [
    "float(10.4)"
   ]
  },
  {
   "cell_type": "code",
   "execution_count": 5,
   "id": "708222ec",
   "metadata": {},
   "outputs": [
    {
     "data": {
      "text/plain": [
       "12.5"
      ]
     },
     "execution_count": 5,
     "metadata": {},
     "output_type": "execute_result"
    }
   ],
   "source": [
    "float('12.5')"
   ]
  },
  {
   "cell_type": "code",
   "execution_count": 6,
   "id": "b5212025",
   "metadata": {},
   "outputs": [
    {
     "ename": "ValueError",
     "evalue": "could not convert string to float: '22/7'",
     "output_type": "error",
     "traceback": [
      "\u001b[0;31m---------------------------------------------------------------------------\u001b[0m",
      "\u001b[0;31mValueError\u001b[0m                                Traceback (most recent call last)",
      "\u001b[1;32m/home/rich/Desktop/Matshub/deep-Dive-1/class_notes/numeric_types/floats_internal_representations.ipynb Cell 8'\u001b[0m in \u001b[0;36m<cell line: 1>\u001b[0;34m()\u001b[0m\n\u001b[0;32m----> <a href='vscode-notebook-cell:/home/rich/Desktop/Matshub/deep-Dive-1/class_notes/numeric_types/floats_internal_representations.ipynb#ch0000008?line=0'>1</a>\u001b[0m \u001b[39mfloat\u001b[39;49m(\u001b[39m'\u001b[39;49m\u001b[39m22/7\u001b[39;49m\u001b[39m'\u001b[39;49m)\n",
      "\u001b[0;31mValueError\u001b[0m: could not convert string to float: '22/7'"
     ]
    }
   ],
   "source": [
    "float('22/7')"
   ]
  },
  {
   "cell_type": "code",
   "execution_count": 8,
   "id": "85cde5c7",
   "metadata": {},
   "outputs": [],
   "source": [
    "from  fractions import Fraction"
   ]
  },
  {
   "cell_type": "code",
   "execution_count": 9,
   "id": "d1933079",
   "metadata": {},
   "outputs": [],
   "source": [
    "a = Fraction('22/7')"
   ]
  },
  {
   "cell_type": "code",
   "execution_count": 10,
   "id": "b254c3c1",
   "metadata": {},
   "outputs": [
    {
     "data": {
      "text/plain": [
       "3.142857142857143"
      ]
     },
     "execution_count": 10,
     "metadata": {},
     "output_type": "execute_result"
    }
   ],
   "source": [
    "float(a)"
   ]
  },
  {
   "cell_type": "code",
   "execution_count": 11,
   "id": "aec83684",
   "metadata": {},
   "outputs": [
    {
     "name": "stdout",
     "output_type": "stream",
     "text": [
      "0.1\n"
     ]
    }
   ],
   "source": [
    "print(0.1)"
   ]
  },
  {
   "cell_type": "code",
   "execution_count": 12,
   "id": "524a2872",
   "metadata": {},
   "outputs": [
    {
     "data": {
      "text/plain": [
       "'0.100000000000000'"
      ]
     },
     "execution_count": 12,
     "metadata": {},
     "output_type": "execute_result"
    }
   ],
   "source": [
    "format(0.1, '.15f')"
   ]
  },
  {
   "cell_type": "code",
   "execution_count": 13,
   "id": "db9e05a1",
   "metadata": {},
   "outputs": [
    {
     "data": {
      "text/plain": [
       "'0.1000000000000000055511151'"
      ]
     },
     "execution_count": 13,
     "metadata": {},
     "output_type": "execute_result"
    }
   ],
   "source": [
    "format(0.1, '.25f')"
   ]
  },
  {
   "cell_type": "code",
   "execution_count": 14,
   "id": "a7225d26",
   "metadata": {},
   "outputs": [
    {
     "name": "stdout",
     "output_type": "stream",
     "text": [
      "0.125\n"
     ]
    }
   ],
   "source": [
    "print(0.125)"
   ]
  },
  {
   "cell_type": "code",
   "execution_count": 15,
   "id": "9f10ba32",
   "metadata": {},
   "outputs": [
    {
     "data": {
      "text/plain": [
       "0.125"
      ]
     },
     "execution_count": 15,
     "metadata": {},
     "output_type": "execute_result"
    }
   ],
   "source": [
    "1/8"
   ]
  },
  {
   "cell_type": "code",
   "execution_count": 17,
   "id": "1a1a0932",
   "metadata": {},
   "outputs": [
    {
     "data": {
      "text/plain": [
       "'0.1250000000000000000000000'"
      ]
     },
     "execution_count": 17,
     "metadata": {},
     "output_type": "execute_result"
    }
   ],
   "source": [
    "format(.125, '.25f')"
   ]
  },
  {
   "cell_type": "code",
   "execution_count": 18,
   "id": "2601b303",
   "metadata": {},
   "outputs": [],
   "source": [
    "a = 0.1 + 0.1 + 0.1"
   ]
  },
  {
   "cell_type": "code",
   "execution_count": 19,
   "id": "b08747e4",
   "metadata": {},
   "outputs": [],
   "source": [
    "b = 0.3"
   ]
  },
  {
   "cell_type": "code",
   "execution_count": 20,
   "id": "c6b5e999",
   "metadata": {},
   "outputs": [
    {
     "data": {
      "text/plain": [
       "False"
      ]
     },
     "execution_count": 20,
     "metadata": {},
     "output_type": "execute_result"
    }
   ],
   "source": [
    "a == b"
   ]
  },
  {
   "cell_type": "code",
   "execution_count": 21,
   "id": "c02eea9f",
   "metadata": {},
   "outputs": [
    {
     "data": {
      "text/plain": [
       "'0.3000000000000000444089210'"
      ]
     },
     "execution_count": 21,
     "metadata": {},
     "output_type": "execute_result"
    }
   ],
   "source": [
    "format(a, '.25f')"
   ]
  },
  {
   "cell_type": "code",
   "execution_count": 22,
   "id": "d1d96529",
   "metadata": {},
   "outputs": [
    {
     "data": {
      "text/plain": [
       "'0.2999999999999999888977698'"
      ]
     },
     "execution_count": 22,
     "metadata": {},
     "output_type": "execute_result"
    }
   ],
   "source": [
    "format(b, '.25f')"
   ]
  }
 ],
 "metadata": {
  "kernelspec": {
   "display_name": "Python 3 (ipykernel)",
   "language": "python",
   "name": "python3"
  },
  "language_info": {
   "codemirror_mode": {
    "name": "ipython",
    "version": 3
   },
   "file_extension": ".py",
   "mimetype": "text/x-python",
   "name": "python",
   "nbconvert_exporter": "python",
   "pygments_lexer": "ipython3",
   "version": "3.9.12"
  },
  "vscode": {
   "interpreter": {
    "hash": "0d39b9ca25346db2d4fbd64f0fe44090b1a521776e9bcf0dda43e48cea0d85ae"
   }
  }
 },
 "nbformat": 4,
 "nbformat_minor": 5
}
