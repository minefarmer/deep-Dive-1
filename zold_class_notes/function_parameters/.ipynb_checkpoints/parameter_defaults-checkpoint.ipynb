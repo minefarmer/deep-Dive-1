{
 "cells": [
  {
   "cell_type": "markdown",
   "id": "858c7455",
   "metadata": {},
   "source": [
    "Parameter Defaults"
   ]
  },
  {
   "cell_type": "markdown",
   "id": "24df197f",
   "metadata": {},
   "source": [
    "        What happens at run time?\n",
    "\n",
    "When a module is loaded:    All code is executed immediately\n",
    "\n",
    "        Module Code\n",
    "a = 10              The integer object 10 is created and a references it.\n",
    "\n",
    "def func(a):        function object is created, and func references it.\n",
    "    print(a)\n",
    "\n",
    "func(a)             The function is executed.\n",
    "\n",
    "                    By the time this happens, the default value for a has already been evaluated and assigned - it is not re-evaluated when the function is called.\n",
    "\n",
    "                    So what?        Consider this.\n",
    "\n",
    "We want to create a function that will write a log entry to the console with a user-specified event at date/time.\n",
    "If the user does not supply a date/time. we want to set it to the current date/time.\n",
    "\n",
    "from datetime import datetime\n",
    "\n",
    "def log(msg, *, dt=datetime.utcnow()):\n",
    "    print('{0}: {1}'.format(dt, msg))\n",
    "\n",
    "log('message 1')    -> 2017-08-21 20:54:37.706994 : message 1\n",
    "\n",
    "a few minutes later:\n",
    "log('message 2')    -> 2017-08-21 20:54:37.706994 : message 2\n"
   ]
  },
  {
   "cell_type": "markdown",
   "id": "c37a6f97",
   "metadata": {},
   "source": [
    "Solution Pattern\n",
    "\n",
    "We set a default for dt to None.\n",
    "\n",
    "Inside the function, we test to see if dt is still None\n",
    "\n",
    "If dt is None, set it to the current date time.\n",
    "\n",
    "otherwise use what the caller specified for dt.\n",
    "\n",
    "\n",
    "                                        recall that this is equivalent to:\n",
    "    from datetime import datetime     / if not dt:\n",
    "                                     /      dt = datetime.utcnow()\n",
    "    def log(msg, *, dt=None):       /\n",
    "        dt = dt or datetime.utcnow()\n",
    "        print('{0}: {1}'.format(dt, msg))\n",
    "\n",
    "\n",
    "CAUTION: In general, always beware of using a mutable object (or a callable) for an object default\n",
    "\n"
   ]
  },
  {
   "cell_type": "markdown",
   "id": "7b23cb52",
   "metadata": {},
   "source": [
    "Default Values - BEware"
   ]
  },
  {
   "cell_type": "code",
   "execution_count": 2,
   "id": "45d7bb48",
   "metadata": {},
   "outputs": [],
   "source": [
    "from datetime import datetime"
   ]
  },
  {
   "cell_type": "code",
   "execution_count": 5,
   "id": "cc794462",
   "metadata": {},
   "outputs": [
    {
     "name": "stdout",
     "output_type": "stream",
     "text": [
      "2022-07-17 03:21:35.675342\n"
     ]
    }
   ],
   "source": [
    "print(datetime.utcnow())"
   ]
  },
  {
   "cell_type": "code",
   "execution_count": 16,
   "id": "07c4dd1c",
   "metadata": {},
   "outputs": [],
   "source": [
    "def log(msg, *, dt=datetime.utcnow()):\n",
    "    print('{0}: {1}'.format(dt, msg))"
   ]
  },
  {
   "cell_type": "code",
   "execution_count": 13,
   "id": "f4a7e138",
   "metadata": {},
   "outputs": [
    {
     "name": "stdout",
     "output_type": "stream",
     "text": [
      "2010-01-01 00:00:00.000: message 1\n"
     ]
    }
   ],
   "source": [
    "log('message 1', dt='2010-01-01 00:00:00.000')"
   ]
  },
  {
   "cell_type": "code",
   "execution_count": 14,
   "id": "987d9424",
   "metadata": {},
   "outputs": [
    {
     "name": "stdout",
     "output_type": "stream",
     "text": [
      "2022-07-17 03:35:38.022739: message 2\n"
     ]
    }
   ],
   "source": [
    "log('message 2')"
   ]
  },
  {
   "cell_type": "code",
   "execution_count": 15,
   "id": "f1eb5164",
   "metadata": {},
   "outputs": [
    {
     "name": "stdout",
     "output_type": "stream",
     "text": [
      "2022-07-17 03:35:38.022739: message 3\n"
     ]
    }
   ],
   "source": [
    "log('message 3')"
   ]
  },
  {
   "cell_type": "code",
   "execution_count": 17,
   "id": "33832bbc",
   "metadata": {},
   "outputs": [
    {
     "name": "stdout",
     "output_type": "stream",
     "text": [
      "2022-07-17 03:42:59.270445: message 1\n"
     ]
    }
   ],
   "source": [
    "log('message 1')"
   ]
  },
  {
   "cell_type": "code",
   "execution_count": 19,
   "id": "aa22cb57",
   "metadata": {},
   "outputs": [],
   "source": [
    "def log(msg, *, dt=None):\n",
    "    if not dt:\n",
    "        dt = datetime.now()\n",
    "    print('{0}: {1}'.format(dt, msg))"
   ]
  },
  {
   "cell_type": "code",
   "execution_count": 20,
   "id": "e33bc729",
   "metadata": {},
   "outputs": [
    {
     "name": "stdout",
     "output_type": "stream",
     "text": [
      "2010-01-01 00:00:00.000: message 1\n"
     ]
    }
   ],
   "source": [
    "log('message 1', dt='2010-01-01 00:00:00.000')"
   ]
  },
  {
   "cell_type": "code",
   "execution_count": 21,
   "id": "1ef2ced3",
   "metadata": {},
   "outputs": [
    {
     "name": "stdout",
     "output_type": "stream",
     "text": [
      "2022-07-16 22:49:53.449657: message 2\n"
     ]
    }
   ],
   "source": [
    "log('message 2')"
   ]
  },
  {
   "cell_type": "code",
   "execution_count": 28,
   "id": "94bf99a0",
   "metadata": {},
   "outputs": [],
   "source": [
    "def log(msg, *, dt=None):\n",
    "    dt = dt or datetime.utcnow()\n",
    "    print('{0}: {1}'.format(dt, msg))"
   ]
  },
  {
   "cell_type": "code",
   "execution_count": 29,
   "id": "1989648e",
   "metadata": {},
   "outputs": [
    {
     "name": "stdout",
     "output_type": "stream",
     "text": [
      "2022-07-17 03:57:50.122857: message 1\n"
     ]
    }
   ],
   "source": [
    "log('message 1')"
   ]
  },
  {
   "cell_type": "code",
   "execution_count": 30,
   "id": "1a0d40fe",
   "metadata": {},
   "outputs": [],
   "source": [
    "my_list = [1, 2, 3]\n",
    "def func(a=my_list):\n",
    "    print(a)"
   ]
  },
  {
   "cell_type": "code",
   "execution_count": 31,
   "id": "24db6824",
   "metadata": {},
   "outputs": [
    {
     "name": "stdout",
     "output_type": "stream",
     "text": [
      "[1, 2, 3]\n"
     ]
    }
   ],
   "source": [
    "func()"
   ]
  },
  {
   "cell_type": "code",
   "execution_count": 32,
   "id": "395f32a5",
   "metadata": {},
   "outputs": [
    {
     "name": "stdout",
     "output_type": "stream",
     "text": [
      "['a', 'b']\n"
     ]
    }
   ],
   "source": [
    "func(['a', 'b'])"
   ]
  },
  {
   "cell_type": "code",
   "execution_count": 33,
   "id": "3848a56c",
   "metadata": {},
   "outputs": [],
   "source": [
    "my_list.append(4)"
   ]
  },
  {
   "cell_type": "code",
   "execution_count": 34,
   "id": "641c172d",
   "metadata": {},
   "outputs": [
    {
     "data": {
      "text/plain": [
       "[1, 2, 3, 4]"
      ]
     },
     "execution_count": 34,
     "metadata": {},
     "output_type": "execute_result"
    }
   ],
   "source": [
    "my_list"
   ]
  },
  {
   "cell_type": "code",
   "execution_count": 35,
   "id": "d6fc9737",
   "metadata": {},
   "outputs": [
    {
     "name": "stdout",
     "output_type": "stream",
     "text": [
      "[1, 2, 3, 4]\n"
     ]
    }
   ],
   "source": [
    "func()"
   ]
  },
  {
   "cell_type": "code",
   "execution_count": 42,
   "id": "333f1a80",
   "metadata": {},
   "outputs": [],
   "source": [
    "my_list.append(5)"
   ]
  },
  {
   "cell_type": "code",
   "execution_count": 43,
   "id": "2f39ace3",
   "metadata": {},
   "outputs": [
    {
     "data": {
      "text/plain": [
       "[1, 2, 3, 4, 4, 5]"
      ]
     },
     "execution_count": 43,
     "metadata": {},
     "output_type": "execute_result"
    }
   ],
   "source": [
    "my_list"
   ]
  },
  {
   "cell_type": "code",
   "execution_count": 44,
   "id": "0e2e2baa",
   "metadata": {},
   "outputs": [
    {
     "name": "stdout",
     "output_type": "stream",
     "text": [
      "[1, 2, 3, 4, 4, 5]\n"
     ]
    }
   ],
   "source": [
    "func()"
   ]
  }
 ],
 "metadata": {
  "kernelspec": {
   "display_name": "Python 3 (ipykernel)",
   "language": "python",
   "name": "python3"
  },
  "language_info": {
   "codemirror_mode": {
    "name": "ipython",
    "version": 3
   },
   "file_extension": ".py",
   "mimetype": "text/x-python",
   "name": "python",
   "nbconvert_exporter": "python",
   "pygments_lexer": "ipython3",
   "version": "3.9.12"
  },
  "vscode": {
   "interpreter": {
    "hash": "a624adbc5e596fddf72740b255048309200567f23df85867ce297e9f9d364c1b"
   }
  }
 },
 "nbformat": 4,
 "nbformat_minor": 5
}
